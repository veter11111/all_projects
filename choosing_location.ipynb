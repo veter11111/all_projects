{
  "cells": [
    {
      "cell_type": "markdown",
      "metadata": {
        "id": "w9xp5V9B5P5k"
      },
      "source": [
        "# Выбор локации для скважины"
      ]
    },
    {
      "cell_type": "markdown",
      "metadata": {
        "id": "0Xm4eQNL5P5l"
      },
      "source": [
        "Добывающей компании «ГлавРосГосНефть» нужно решить, где бурить новую скважину.\n",
        "\n",
        "Цель данного проекта - определить регион, где добыча принесёт наибольшую прибыль.\n",
        "\n",
        "В нашем распоряжении пробы нефти в трёх регионах: в каждом 10 000 месторождений, где измерили качество нефти и объём её запасов.\n",
        "\n",
        "Описание данных:\n",
        "-\tid — уникальный идентификатор скважины;\n",
        "-\tf0, f1, f2 — три признака точек (неважно, что они означают, но сами признаки значимы);\n",
        "-\tproduct — объём запасов в скважине (тыс. баррелей).\n",
        "\n",
        "Также известно:\n",
        "-   При разведке региона исследуют 500 точек, из которых с помощью машинного обучения выбирают 200 лучших для разработки.\n",
        "-\tБюджет на разработку скважин в регионе — 10 млрд рублей.\n",
        "-\tОдин баррель сырья приносит 450 рублей дохода.\n",
        "\n",
        "Для реализации поставленной цели будут выполнены следующие шаги:\n",
        "- загрузка и подготовка данных;\n",
        "- обучение и проверка модели для каждого региона;\n",
        "- рассчитан достаточный объём сырья для безубыточной разработки новой скважины;\n",
        "- выбраны скважины с максимальными значениями предсказаний и посчитана прибыль;\n",
        "- посчитаны риски и прибыль для каждого региона.\n",
        "\n"
      ]
    },
    {
      "cell_type": "markdown",
      "metadata": {
        "id": "_lFOBxxh5P5m"
      },
      "source": [
        "## Загрузка и подготовка данных"
      ]
    },
    {
      "cell_type": "code",
      "execution_count": null,
      "metadata": {
        "id": "h3K1-cB05P5n"
      },
      "outputs": [],
      "source": [
        "import pandas as pd\n",
        "import numpy as np\n",
        "import matplotlib.pyplot as plt\n",
        "from sklearn.linear_model import LinearRegression\n",
        "from sklearn.model_selection import train_test_split\n",
        "from sklearn.metrics import mean_squared_error\n",
        "from scipy import stats as st"
      ]
    },
    {
      "cell_type": "code",
      "execution_count": null,
      "metadata": {
        "id": "NxsNBsI95P5q"
      },
      "outputs": [],
      "source": [
        "df_1 = pd.read_csv('/datasets/geo_data_0.csv')\n",
        "df_2 = pd.read_csv('/datasets/geo_data_1.csv')\n",
        "df_3 = pd.read_csv('/datasets/geo_data_2.csv')"
      ]
    },
    {
      "cell_type": "code",
      "execution_count": null,
      "metadata": {
        "id": "710VXog05P5r",
        "outputId": "8778bfe1-ef7a-48ee-e829-610c2364ebbb"
      },
      "outputs": [
        {
          "data": {
            "text/html": [
              "<div>\n",
              "<style scoped>\n",
              "    .dataframe tbody tr th:only-of-type {\n",
              "        vertical-align: middle;\n",
              "    }\n",
              "\n",
              "    .dataframe tbody tr th {\n",
              "        vertical-align: top;\n",
              "    }\n",
              "\n",
              "    .dataframe thead th {\n",
              "        text-align: right;\n",
              "    }\n",
              "</style>\n",
              "<table border=\"1\" class=\"dataframe\">\n",
              "  <thead>\n",
              "    <tr style=\"text-align: right;\">\n",
              "      <th></th>\n",
              "      <th>id</th>\n",
              "      <th>f0</th>\n",
              "      <th>f1</th>\n",
              "      <th>f2</th>\n",
              "      <th>product</th>\n",
              "    </tr>\n",
              "  </thead>\n",
              "  <tbody>\n",
              "    <tr>\n",
              "      <th>0</th>\n",
              "      <td>txEyH</td>\n",
              "      <td>0.705745</td>\n",
              "      <td>-0.497823</td>\n",
              "      <td>1.221170</td>\n",
              "      <td>105.280062</td>\n",
              "    </tr>\n",
              "    <tr>\n",
              "      <th>1</th>\n",
              "      <td>2acmU</td>\n",
              "      <td>1.334711</td>\n",
              "      <td>-0.340164</td>\n",
              "      <td>4.365080</td>\n",
              "      <td>73.037750</td>\n",
              "    </tr>\n",
              "    <tr>\n",
              "      <th>2</th>\n",
              "      <td>409Wp</td>\n",
              "      <td>1.022732</td>\n",
              "      <td>0.151990</td>\n",
              "      <td>1.419926</td>\n",
              "      <td>85.265647</td>\n",
              "    </tr>\n",
              "    <tr>\n",
              "      <th>3</th>\n",
              "      <td>iJLyR</td>\n",
              "      <td>-0.032172</td>\n",
              "      <td>0.139033</td>\n",
              "      <td>2.978566</td>\n",
              "      <td>168.620776</td>\n",
              "    </tr>\n",
              "    <tr>\n",
              "      <th>4</th>\n",
              "      <td>Xdl7t</td>\n",
              "      <td>1.988431</td>\n",
              "      <td>0.155413</td>\n",
              "      <td>4.751769</td>\n",
              "      <td>154.036647</td>\n",
              "    </tr>\n",
              "  </tbody>\n",
              "</table>\n",
              "</div>"
            ],
            "text/plain": [
              "      id        f0        f1        f2     product\n",
              "0  txEyH  0.705745 -0.497823  1.221170  105.280062\n",
              "1  2acmU  1.334711 -0.340164  4.365080   73.037750\n",
              "2  409Wp  1.022732  0.151990  1.419926   85.265647\n",
              "3  iJLyR -0.032172  0.139033  2.978566  168.620776\n",
              "4  Xdl7t  1.988431  0.155413  4.751769  154.036647"
            ]
          },
          "execution_count": 86,
          "metadata": {},
          "output_type": "execute_result"
        }
      ],
      "source": [
        "df_1.head()"
      ]
    },
    {
      "cell_type": "code",
      "execution_count": null,
      "metadata": {
        "id": "A28Kw7F_5P5s",
        "outputId": "9bb8dd19-0215-4496-abdc-a77032899bc2"
      },
      "outputs": [
        {
          "data": {
            "text/html": [
              "<div>\n",
              "<style scoped>\n",
              "    .dataframe tbody tr th:only-of-type {\n",
              "        vertical-align: middle;\n",
              "    }\n",
              "\n",
              "    .dataframe tbody tr th {\n",
              "        vertical-align: top;\n",
              "    }\n",
              "\n",
              "    .dataframe thead th {\n",
              "        text-align: right;\n",
              "    }\n",
              "</style>\n",
              "<table border=\"1\" class=\"dataframe\">\n",
              "  <thead>\n",
              "    <tr style=\"text-align: right;\">\n",
              "      <th></th>\n",
              "      <th>id</th>\n",
              "      <th>f0</th>\n",
              "      <th>f1</th>\n",
              "      <th>f2</th>\n",
              "      <th>product</th>\n",
              "    </tr>\n",
              "  </thead>\n",
              "  <tbody>\n",
              "    <tr>\n",
              "      <th>0</th>\n",
              "      <td>kBEdx</td>\n",
              "      <td>-15.001348</td>\n",
              "      <td>-8.276000</td>\n",
              "      <td>-0.005876</td>\n",
              "      <td>3.179103</td>\n",
              "    </tr>\n",
              "    <tr>\n",
              "      <th>1</th>\n",
              "      <td>62mP7</td>\n",
              "      <td>14.272088</td>\n",
              "      <td>-3.475083</td>\n",
              "      <td>0.999183</td>\n",
              "      <td>26.953261</td>\n",
              "    </tr>\n",
              "    <tr>\n",
              "      <th>2</th>\n",
              "      <td>vyE1P</td>\n",
              "      <td>6.263187</td>\n",
              "      <td>-5.948386</td>\n",
              "      <td>5.001160</td>\n",
              "      <td>134.766305</td>\n",
              "    </tr>\n",
              "    <tr>\n",
              "      <th>3</th>\n",
              "      <td>KcrkZ</td>\n",
              "      <td>-13.081196</td>\n",
              "      <td>-11.506057</td>\n",
              "      <td>4.999415</td>\n",
              "      <td>137.945408</td>\n",
              "    </tr>\n",
              "    <tr>\n",
              "      <th>4</th>\n",
              "      <td>AHL4O</td>\n",
              "      <td>12.702195</td>\n",
              "      <td>-8.147433</td>\n",
              "      <td>5.004363</td>\n",
              "      <td>134.766305</td>\n",
              "    </tr>\n",
              "  </tbody>\n",
              "</table>\n",
              "</div>"
            ],
            "text/plain": [
              "      id         f0         f1        f2     product\n",
              "0  kBEdx -15.001348  -8.276000 -0.005876    3.179103\n",
              "1  62mP7  14.272088  -3.475083  0.999183   26.953261\n",
              "2  vyE1P   6.263187  -5.948386  5.001160  134.766305\n",
              "3  KcrkZ -13.081196 -11.506057  4.999415  137.945408\n",
              "4  AHL4O  12.702195  -8.147433  5.004363  134.766305"
            ]
          },
          "execution_count": 87,
          "metadata": {},
          "output_type": "execute_result"
        }
      ],
      "source": [
        "df_2.head()"
      ]
    },
    {
      "cell_type": "code",
      "execution_count": null,
      "metadata": {
        "id": "EpGc5eGs5P5t",
        "outputId": "ebc9fc14-242a-49ac-9af2-824cda11796a"
      },
      "outputs": [
        {
          "data": {
            "text/html": [
              "<div>\n",
              "<style scoped>\n",
              "    .dataframe tbody tr th:only-of-type {\n",
              "        vertical-align: middle;\n",
              "    }\n",
              "\n",
              "    .dataframe tbody tr th {\n",
              "        vertical-align: top;\n",
              "    }\n",
              "\n",
              "    .dataframe thead th {\n",
              "        text-align: right;\n",
              "    }\n",
              "</style>\n",
              "<table border=\"1\" class=\"dataframe\">\n",
              "  <thead>\n",
              "    <tr style=\"text-align: right;\">\n",
              "      <th></th>\n",
              "      <th>id</th>\n",
              "      <th>f0</th>\n",
              "      <th>f1</th>\n",
              "      <th>f2</th>\n",
              "      <th>product</th>\n",
              "    </tr>\n",
              "  </thead>\n",
              "  <tbody>\n",
              "    <tr>\n",
              "      <th>0</th>\n",
              "      <td>fwXo0</td>\n",
              "      <td>-1.146987</td>\n",
              "      <td>0.963328</td>\n",
              "      <td>-0.828965</td>\n",
              "      <td>27.758673</td>\n",
              "    </tr>\n",
              "    <tr>\n",
              "      <th>1</th>\n",
              "      <td>WJtFt</td>\n",
              "      <td>0.262778</td>\n",
              "      <td>0.269839</td>\n",
              "      <td>-2.530187</td>\n",
              "      <td>56.069697</td>\n",
              "    </tr>\n",
              "    <tr>\n",
              "      <th>2</th>\n",
              "      <td>ovLUW</td>\n",
              "      <td>0.194587</td>\n",
              "      <td>0.289035</td>\n",
              "      <td>-5.586433</td>\n",
              "      <td>62.871910</td>\n",
              "    </tr>\n",
              "    <tr>\n",
              "      <th>3</th>\n",
              "      <td>q6cA6</td>\n",
              "      <td>2.236060</td>\n",
              "      <td>-0.553760</td>\n",
              "      <td>0.930038</td>\n",
              "      <td>114.572842</td>\n",
              "    </tr>\n",
              "    <tr>\n",
              "      <th>4</th>\n",
              "      <td>WPMUX</td>\n",
              "      <td>-0.515993</td>\n",
              "      <td>1.716266</td>\n",
              "      <td>5.899011</td>\n",
              "      <td>149.600746</td>\n",
              "    </tr>\n",
              "  </tbody>\n",
              "</table>\n",
              "</div>"
            ],
            "text/plain": [
              "      id        f0        f1        f2     product\n",
              "0  fwXo0 -1.146987  0.963328 -0.828965   27.758673\n",
              "1  WJtFt  0.262778  0.269839 -2.530187   56.069697\n",
              "2  ovLUW  0.194587  0.289035 -5.586433   62.871910\n",
              "3  q6cA6  2.236060 -0.553760  0.930038  114.572842\n",
              "4  WPMUX -0.515993  1.716266  5.899011  149.600746"
            ]
          },
          "execution_count": 88,
          "metadata": {},
          "output_type": "execute_result"
        }
      ],
      "source": [
        "df_3.head()"
      ]
    },
    {
      "cell_type": "code",
      "execution_count": null,
      "metadata": {
        "id": "dDtIhg4O5P5t",
        "outputId": "28d98fbd-a062-4811-d916-2d9d741ad126"
      },
      "outputs": [
        {
          "name": "stdout",
          "output_type": "stream",
          "text": [
            "<class 'pandas.core.frame.DataFrame'>\n",
            "RangeIndex: 100000 entries, 0 to 99999\n",
            "Data columns (total 5 columns):\n",
            " #   Column   Non-Null Count   Dtype  \n",
            "---  ------   --------------   -----  \n",
            " 0   id       100000 non-null  object \n",
            " 1   f0       100000 non-null  float64\n",
            " 2   f1       100000 non-null  float64\n",
            " 3   f2       100000 non-null  float64\n",
            " 4   product  100000 non-null  float64\n",
            "dtypes: float64(4), object(1)\n",
            "memory usage: 3.8+ MB\n"
          ]
        }
      ],
      "source": [
        "df_1.info()"
      ]
    },
    {
      "cell_type": "code",
      "execution_count": null,
      "metadata": {
        "id": "lQa96KiT5P5u",
        "outputId": "8fc421a3-c9b9-4a7a-f762-b4fff98f2a54"
      },
      "outputs": [
        {
          "name": "stdout",
          "output_type": "stream",
          "text": [
            "<class 'pandas.core.frame.DataFrame'>\n",
            "RangeIndex: 100000 entries, 0 to 99999\n",
            "Data columns (total 5 columns):\n",
            " #   Column   Non-Null Count   Dtype  \n",
            "---  ------   --------------   -----  \n",
            " 0   id       100000 non-null  object \n",
            " 1   f0       100000 non-null  float64\n",
            " 2   f1       100000 non-null  float64\n",
            " 3   f2       100000 non-null  float64\n",
            " 4   product  100000 non-null  float64\n",
            "dtypes: float64(4), object(1)\n",
            "memory usage: 3.8+ MB\n"
          ]
        }
      ],
      "source": [
        "df_2.info()"
      ]
    },
    {
      "cell_type": "code",
      "execution_count": null,
      "metadata": {
        "id": "QY1tfg3p5P5u",
        "outputId": "7b926aa1-8e15-4bbb-b73f-a0f092411621"
      },
      "outputs": [
        {
          "name": "stdout",
          "output_type": "stream",
          "text": [
            "<class 'pandas.core.frame.DataFrame'>\n",
            "RangeIndex: 100000 entries, 0 to 99999\n",
            "Data columns (total 5 columns):\n",
            " #   Column   Non-Null Count   Dtype  \n",
            "---  ------   --------------   -----  \n",
            " 0   id       100000 non-null  object \n",
            " 1   f0       100000 non-null  float64\n",
            " 2   f1       100000 non-null  float64\n",
            " 3   f2       100000 non-null  float64\n",
            " 4   product  100000 non-null  float64\n",
            "dtypes: float64(4), object(1)\n",
            "memory usage: 3.8+ MB\n"
          ]
        }
      ],
      "source": [
        "df_3.info()"
      ]
    },
    {
      "cell_type": "markdown",
      "metadata": {
        "id": "XMUV_iPm5P5v"
      },
      "source": [
        "Таблицы с данные каждого региона имеют одинаковый размер (5 столбцов, 100000 строк), в данных отсутствуют пропуски."
      ]
    },
    {
      "cell_type": "code",
      "execution_count": null,
      "metadata": {
        "id": "FXvvTjnG5P5v",
        "outputId": "de2013be-7db3-41ae-bb4b-2ba4608c7276"
      },
      "outputs": [
        {
          "data": {
            "text/plain": [
              "(                  f0             f1             f2        product\n",
              " count  100000.000000  100000.000000  100000.000000  100000.000000\n",
              " mean        0.500419       0.250143       2.502647      92.500000\n",
              " std         0.871832       0.504433       3.248248      44.288691\n",
              " min        -1.408605      -0.848218     -12.088328       0.000000\n",
              " 25%        -0.072580      -0.200881       0.287748      56.497507\n",
              " 50%         0.502360       0.250252       2.515969      91.849972\n",
              " 75%         1.073581       0.700646       4.715088     128.564089\n",
              " max         2.362331       1.343769      16.003790     185.364347,\n",
              "                   f0             f1             f2        product\n",
              " count  100000.000000  100000.000000  100000.000000  100000.000000\n",
              " mean        1.141296      -4.796579       2.494541      68.825000\n",
              " std         8.965932       5.119872       1.703572      45.944423\n",
              " min       -31.609576     -26.358598      -0.018144       0.000000\n",
              " 25%        -6.298551      -8.267985       1.000021      26.953261\n",
              " 50%         1.153055      -4.813172       2.011479      57.085625\n",
              " 75%         8.621015      -1.332816       3.999904     107.813044\n",
              " max        29.421755      18.734063       5.019721     137.945408,\n",
              "                   f0             f1             f2        product\n",
              " count  100000.000000  100000.000000  100000.000000  100000.000000\n",
              " mean        0.002023      -0.002081       2.495128      95.000000\n",
              " std         1.732045       1.730417       3.473445      44.749921\n",
              " min        -8.760004      -7.084020     -11.970335       0.000000\n",
              " 25%        -1.162288      -1.174820       0.130359      59.450441\n",
              " 50%         0.009424      -0.009482       2.484236      94.925613\n",
              " 75%         1.158535       1.163678       4.858794     130.595027\n",
              " max         7.238262       7.844801      16.739402     190.029838)"
            ]
          },
          "execution_count": 92,
          "metadata": {},
          "output_type": "execute_result"
        }
      ],
      "source": [
        "df_1.describe(), df_2.describe(), df_3.describe()"
      ]
    },
    {
      "cell_type": "markdown",
      "metadata": {
        "id": "uLokiY485P5v"
      },
      "source": [
        "Признаки f0, f1, f2 в зависимости от региона отличаются, наблюдается только сходство в признаке f2 у региона 1 и региона 3. Также схожи показатели объема запасов у региона 1 и региона 3."
      ]
    },
    {
      "cell_type": "code",
      "execution_count": null,
      "metadata": {
        "id": "xOJxqral5P5v",
        "outputId": "0fe29453-41af-4e31-a4a9-e33fd12827fd"
      },
      "outputs": [
        {
          "data": {
            "image/png": "[encoded data removed]",
            "text/plain": [
              "<Figure size 720x720 with 16 Axes>"
            ]
          },
          "metadata": {
            "needs_background": "light"
          },
          "output_type": "display_data"
        }
      ],
      "source": [
        "pd.plotting.scatter_matrix(df_1, alpha=0.1, figsize=(10,10))\n",
        "plt.suptitle('Регион 1')\n",
        "plt.show;"
      ]
    },
    {
      "cell_type": "code",
      "execution_count": null,
      "metadata": {
        "id": "q0AXrley5P5w",
        "outputId": "2cb33123-0f5c-48fd-e859-9704cadf27be"
      },
      "outputs": [
        {
          "data": {
            "image/png": "[encoded data removed]",
            "text/plain": [
              "<Figure size 720x720 with 16 Axes>"
            ]
          },
          "metadata": {
            "needs_background": "light"
          },
          "output_type": "display_data"
        }
      ],
      "source": [
        "pd.plotting.scatter_matrix(df_2, alpha=0.1, figsize=(10,10))\n",
        "plt.suptitle('Регион 2')\n",
        "plt.show;"
      ]
    },
    {
      "cell_type": "code",
      "execution_count": null,
      "metadata": {
        "id": "9aKlpMB55P5w",
        "outputId": "ff0d23a1-7d12-46ab-99b3-3bc73053b20f"
      },
      "outputs": [
        {
          "data": {
            "image/png": "[encoded data removed]",
            "text/plain": [
              "<Figure size 720x720 with 16 Axes>"
            ]
          },
          "metadata": {
            "needs_background": "light"
          },
          "output_type": "display_data"
        }
      ],
      "source": [
        "pd.plotting.scatter_matrix(df_3, alpha=0.1, figsize=(10,10))\n",
        "plt.suptitle('Регион 3')\n",
        "plt.show;"
      ]
    },
    {
      "cell_type": "code",
      "execution_count": null,
      "metadata": {
        "id": "iidtePG25P5x",
        "outputId": "fe1aa7cb-4924-4325-d64d-3f5ecb2cfa2b"
      },
      "outputs": [
        {
          "data": {
            "text/plain": [
              "(               f0        f1        f2   product\n",
              " f0       1.000000 -0.440723 -0.003153  0.143536\n",
              " f1      -0.440723  1.000000  0.001724 -0.192356\n",
              " f2      -0.003153  0.001724  1.000000  0.483663\n",
              " product  0.143536 -0.192356  0.483663  1.000000,\n",
              "                f0        f1        f2   product\n",
              " f0       1.000000  0.182287 -0.001777 -0.030491\n",
              " f1       0.182287  1.000000 -0.002595 -0.010155\n",
              " f2      -0.001777 -0.002595  1.000000  0.999397\n",
              " product -0.030491 -0.010155  0.999397  1.000000,\n",
              "                f0        f1        f2   product\n",
              " f0       1.000000  0.000528 -0.000448 -0.001987\n",
              " f1       0.000528  1.000000  0.000779 -0.001012\n",
              " f2      -0.000448  0.000779  1.000000  0.445871\n",
              " product -0.001987 -0.001012  0.445871  1.000000)"
            ]
          },
          "execution_count": 96,
          "metadata": {},
          "output_type": "execute_result"
        }
      ],
      "source": [
        "df_1.corr(), df_2.corr(), df_3.corr()"
      ]
    },
    {
      "cell_type": "markdown",
      "metadata": {
        "id": "DMXmusW55P5x"
      },
      "source": [
        "В регионе 1 и регионе 3 присутствует слабая положительная корреляция между признаком f2 и объемом запасов в скважине, а в регионе 2 очень высокая корреляция между этими же признаками."
      ]
    },
    {
      "cell_type": "code",
      "execution_count": null,
      "metadata": {
        "id": "-Nbkac305P5x"
      },
      "outputs": [],
      "source": [
        "df_1 = df_1.drop(columns=['id'])"
      ]
    },
    {
      "cell_type": "code",
      "execution_count": null,
      "metadata": {
        "id": "Y_Cu0-Bg5P5x"
      },
      "outputs": [],
      "source": [
        "df_2 = df_2.drop(columns=['id'])"
      ]
    },
    {
      "cell_type": "code",
      "execution_count": null,
      "metadata": {
        "id": "r5XQD1P45P5y"
      },
      "outputs": [],
      "source": [
        "df_3 = df_3.drop(columns=['id'])"
      ]
    },
    {
      "cell_type": "markdown",
      "metadata": {
        "id": "skC_B-0y5P5y"
      },
      "source": [
        "Для дальнейшего анализа и обучения моделей столбец с id скважины не понадобится, поэтому данный столбец удаляем."
      ]
    },
    {
      "cell_type": "markdown",
      "metadata": {
        "id": "djuJwbcK5P5y"
      },
      "source": [
        "Были рассмотрены данные геологоразведки трех регионов, все три таблицы содержат одинаковое количество столбцов (5) и строк (100000), в данных отсутствуют пропуски. Данные региона 1 и региона 3 имеют больше сходств - у них похожи показатели среднего, медианы, 0.25 и 0.75 квартили, минимального и максимального значений, стандартного отклонения, также схожая слабая корреляция между признаком f2 и объемом запасов. Регион 2 по всем параметрам отличается от регионов 1 и 3. Для удобства дальнейшей работы с данными был удален столбец id."
      ]
    },
    {
      "cell_type": "markdown",
      "metadata": {
        "id": "udPo_-325P5y"
      },
      "source": [
        "## Обучение и проверка модели"
      ]
    },
    {
      "cell_type": "markdown",
      "metadata": {
        "id": "v6hHNc2Q5P5z"
      },
      "source": [
        "**Разбивка данных на обучающую и валидационную выборки**"
      ]
    },
    {
      "cell_type": "code",
      "execution_count": null,
      "metadata": {
        "id": "Bd5a1tzI5P5z"
      },
      "outputs": [],
      "source": [
        "target_1 = df_1['product']\n",
        "features_1 = df_1.drop('product', axis=1)"
      ]
    },
    {
      "cell_type": "code",
      "execution_count": null,
      "metadata": {
        "id": "u9106vq_5P5z"
      },
      "outputs": [],
      "source": [
        "features_train_1, features_valid_1, target_train_1, target_valid_1 = train_test_split(features_1, target_1,\n",
        "                                                                                      test_size=0.25,\n",
        "                                                                                      random_state=12345)"
      ]
    },
    {
      "cell_type": "code",
      "execution_count": null,
      "metadata": {
        "id": "AYNa7Ywa5P5z",
        "outputId": "b14938e3-535e-454f-9c2c-439842658c15"
      },
      "outputs": [
        {
          "data": {
            "text/plain": [
              "((75000, 3), (25000, 3), (75000,), (25000,))"
            ]
          },
          "execution_count": 102,
          "metadata": {},
          "output_type": "execute_result"
        }
      ],
      "source": [
        "features_train_1.shape, features_valid_1.shape, target_train_1.shape, target_valid_1.shape"
      ]
    },
    {
      "cell_type": "code",
      "execution_count": null,
      "metadata": {
        "id": "rzJcugdy5P5z"
      },
      "outputs": [],
      "source": [
        "target_2 = df_2['product']\n",
        "features_2 = df_2.drop('product', axis=1)"
      ]
    },
    {
      "cell_type": "code",
      "execution_count": null,
      "metadata": {
        "id": "be7UmZXI5P50"
      },
      "outputs": [],
      "source": [
        "features_train_2, features_valid_2, target_train_2, target_valid_2 = train_test_split(features_2, target_2,\n",
        "                                                                                      test_size=0.25,\n",
        "                                                                                      random_state=12345)"
      ]
    },
    {
      "cell_type": "code",
      "execution_count": null,
      "metadata": {
        "id": "Er2exY5v5P50",
        "outputId": "b3e46484-e6ff-439d-8bab-3d3df1786931"
      },
      "outputs": [
        {
          "data": {
            "text/plain": [
              "((75000, 3), (25000, 3), (75000,), (25000,))"
            ]
          },
          "execution_count": 105,
          "metadata": {},
          "output_type": "execute_result"
        }
      ],
      "source": [
        "features_train_2.shape, features_valid_2.shape, target_train_2.shape, target_valid_2.shape"
      ]
    },
    {
      "cell_type": "code",
      "execution_count": null,
      "metadata": {
        "id": "YzBCnMC25P50"
      },
      "outputs": [],
      "source": [
        "target_3 = df_3['product']\n",
        "features_3 = df_3.drop('product', axis=1)"
      ]
    },
    {
      "cell_type": "code",
      "execution_count": null,
      "metadata": {
        "id": "tpFtapQt5P50"
      },
      "outputs": [],
      "source": [
        "features_train_3, features_valid_3, target_train_3, target_valid_3 = train_test_split(features_3, target_3,\n",
        "                                                                                      test_size=0.25,\n",
        "                                                                                      random_state=12345)"
      ]
    },
    {
      "cell_type": "code",
      "execution_count": null,
      "metadata": {
        "id": "a6UxIy5x5P51",
        "outputId": "f486d267-0bfd-4567-8d8e-a73a88bf1be7"
      },
      "outputs": [
        {
          "data": {
            "text/plain": [
              "((75000, 3), (25000, 3), (75000,), (25000,))"
            ]
          },
          "execution_count": 108,
          "metadata": {},
          "output_type": "execute_result"
        }
      ],
      "source": [
        "features_train_3.shape, features_valid_3.shape, target_train_3.shape, target_valid_3.shape"
      ]
    },
    {
      "cell_type": "markdown",
      "metadata": {
        "id": "LQ7gqyPP5P56"
      },
      "source": [
        "**Обучение моделей**"
      ]
    },
    {
      "cell_type": "code",
      "execution_count": null,
      "metadata": {
        "id": "LF41vhI55P57",
        "outputId": "45ae4a6d-6fab-4e8e-cdef-65c69b62bca9"
      },
      "outputs": [
        {
          "data": {
            "text/plain": [
              "LinearRegression()"
            ]
          },
          "execution_count": 109,
          "metadata": {},
          "output_type": "execute_result"
        }
      ],
      "source": [
        "model_1 = LinearRegression()\n",
        "model_1.fit(features_train_1, target_train_1)"
      ]
    },
    {
      "cell_type": "code",
      "execution_count": null,
      "metadata": {
        "id": "xihkkslJ5P57",
        "outputId": "e59a048b-0793-471c-e43a-0fc3f5392636"
      },
      "outputs": [
        {
          "data": {
            "text/plain": [
              "LinearRegression()"
            ]
          },
          "execution_count": 110,
          "metadata": {},
          "output_type": "execute_result"
        }
      ],
      "source": [
        "model_2 = LinearRegression()\n",
        "model_2.fit(features_train_2, target_train_2)"
      ]
    },
    {
      "cell_type": "code",
      "execution_count": null,
      "metadata": {
        "id": "9ivCipuA5P57",
        "outputId": "6ded5a1b-22e6-431d-821c-14b0cbf56474"
      },
      "outputs": [
        {
          "data": {
            "text/plain": [
              "LinearRegression()"
            ]
          },
          "execution_count": 111,
          "metadata": {},
          "output_type": "execute_result"
        }
      ],
      "source": [
        "model_3 = LinearRegression()\n",
        "model_3.fit(features_train_3, target_train_3)"
      ]
    },
    {
      "cell_type": "markdown",
      "metadata": {
        "id": "RwdBpBaP5P57"
      },
      "source": [
        "**Предсказания на валидационной выборке**"
      ]
    },
    {
      "cell_type": "code",
      "execution_count": null,
      "metadata": {
        "id": "9zApLZZF5P58"
      },
      "outputs": [],
      "source": [
        "predictions_valid_1 = model_1.predict(features_valid_1)"
      ]
    },
    {
      "cell_type": "code",
      "execution_count": null,
      "metadata": {
        "id": "fgpVgFs_5P58"
      },
      "outputs": [],
      "source": [
        "predictions_valid_2 = model_2.predict(features_valid_2)"
      ]
    },
    {
      "cell_type": "code",
      "execution_count": null,
      "metadata": {
        "id": "Qng5YJRf5P58"
      },
      "outputs": [],
      "source": [
        "predictions_valid_3 = model_3.predict(features_valid_3)"
      ]
    },
    {
      "cell_type": "code",
      "execution_count": null,
      "metadata": {
        "id": "uyOMzTLr5P58"
      },
      "outputs": [],
      "source": [
        "predictions_valid_1_mean = predictions_valid_1.mean()"
      ]
    },
    {
      "cell_type": "code",
      "execution_count": null,
      "metadata": {
        "id": "o9jroRn-5P59"
      },
      "outputs": [],
      "source": [
        "predictions_valid_2_mean = predictions_valid_2.mean()"
      ]
    },
    {
      "cell_type": "code",
      "execution_count": null,
      "metadata": {
        "id": "PsxakP1w5P59"
      },
      "outputs": [],
      "source": [
        "predictions_valid_3_mean = predictions_valid_3.mean()"
      ]
    },
    {
      "cell_type": "markdown",
      "metadata": {
        "id": "3HdTOf5I5P59"
      },
      "source": [
        "**Расчет RMSE**"
      ]
    },
    {
      "cell_type": "code",
      "execution_count": null,
      "metadata": {
        "id": "l6DE9bfv5P59"
      },
      "outputs": [],
      "source": [
        "rmse_1 = mean_squared_error(target_valid_1, predictions_valid_1)**0.5"
      ]
    },
    {
      "cell_type": "code",
      "execution_count": null,
      "metadata": {
        "id": "O93mtbQZ5P59"
      },
      "outputs": [],
      "source": [
        "rmse_2 = mean_squared_error(target_valid_2, predictions_valid_2)**0.5"
      ]
    },
    {
      "cell_type": "code",
      "execution_count": null,
      "metadata": {
        "id": "-gT482f05P5-"
      },
      "outputs": [],
      "source": [
        "rmse_3 = mean_squared_error(target_valid_3, predictions_valid_3)**0.5"
      ]
    },
    {
      "cell_type": "markdown",
      "metadata": {
        "id": "XDlJEVL35P5-"
      },
      "source": [
        "**Средний запас предсказанного сырья и RMSE модели**"
      ]
    },
    {
      "cell_type": "code",
      "execution_count": null,
      "metadata": {
        "id": "n2f6Fd0H5P5-"
      },
      "outputs": [],
      "source": [
        "data = {'Регион': ['Регион 1', 'Регион 2', 'Регион 3'],\n",
        "        'Средний запас предсказанного сырья':[predictions_valid_1_mean, predictions_valid_2_mean, predictions_valid_3_mean],\n",
        "        'RMSE' : [rmse_1, rmse_2, rmse_3]}"
      ]
    },
    {
      "cell_type": "code",
      "execution_count": null,
      "metadata": {
        "id": "WtXAw0TS5P5-"
      },
      "outputs": [],
      "source": [
        "data = pd.DataFrame(data)"
      ]
    },
    {
      "cell_type": "code",
      "execution_count": null,
      "metadata": {
        "id": "3CciGSlw5P5_",
        "outputId": "207909ce-894e-4b05-c2ce-75d033a299a8"
      },
      "outputs": [
        {
          "data": {
            "image/png": "[encoded data removed]",
            "text/plain": [
              "<Figure size 720x360 with 1 Axes>"
            ]
          },
          "metadata": {
            "needs_background": "light"
          },
          "output_type": "display_data"
        }
      ],
      "source": [
        "data.plot.bar(x='Регион', figsize=(10,5), grid=True);"
      ]
    },
    {
      "cell_type": "code",
      "execution_count": null,
      "metadata": {
        "id": "K00Cv_yg5P5_",
        "outputId": "3462a904-7d0e-4b65-9461-c486be1c1497"
      },
      "outputs": [
        {
          "data": {
            "text/html": [
              "<div>\n",
              "<style scoped>\n",
              "    .dataframe tbody tr th:only-of-type {\n",
              "        vertical-align: middle;\n",
              "    }\n",
              "\n",
              "    .dataframe tbody tr th {\n",
              "        vertical-align: top;\n",
              "    }\n",
              "\n",
              "    .dataframe thead th {\n",
              "        text-align: right;\n",
              "    }\n",
              "</style>\n",
              "<table border=\"1\" class=\"dataframe\">\n",
              "  <thead>\n",
              "    <tr style=\"text-align: right;\">\n",
              "      <th></th>\n",
              "      <th>Регион</th>\n",
              "      <th>Средний запас предсказанного сырья</th>\n",
              "      <th>RMSE</th>\n",
              "    </tr>\n",
              "  </thead>\n",
              "  <tbody>\n",
              "    <tr>\n",
              "      <th>0</th>\n",
              "      <td>Регион 1</td>\n",
              "      <td>92.592568</td>\n",
              "      <td>37.579422</td>\n",
              "    </tr>\n",
              "    <tr>\n",
              "      <th>1</th>\n",
              "      <td>Регион 2</td>\n",
              "      <td>68.728547</td>\n",
              "      <td>0.893099</td>\n",
              "    </tr>\n",
              "    <tr>\n",
              "      <th>2</th>\n",
              "      <td>Регион 3</td>\n",
              "      <td>94.965046</td>\n",
              "      <td>40.029709</td>\n",
              "    </tr>\n",
              "  </tbody>\n",
              "</table>\n",
              "</div>"
            ],
            "text/plain": [
              "     Регион  Средний запас предсказанного сырья       RMSE\n",
              "0  Регион 1                           92.592568  37.579422\n",
              "1  Регион 2                           68.728547   0.893099\n",
              "2  Регион 3                           94.965046  40.029709"
            ]
          },
          "execution_count": 124,
          "metadata": {},
          "output_type": "execute_result"
        }
      ],
      "source": [
        "data"
      ]
    },
    {
      "cell_type": "markdown",
      "metadata": {
        "id": "XL9Q7mj75P5_"
      },
      "source": [
        "Значения среднего запаса предсказанного сырья практически совпадают со средними целевыми значениями. В регионе 2 значения среднего запаса сырья самые низкие, однако RMSE модели, обученной на данных указанного региона самые лучшие и близки к 0."
      ]
    },
    {
      "cell_type": "markdown",
      "metadata": {
        "id": "HcDvd33h5P6A"
      },
      "source": [
        "## Подготовка к расчёту прибыли"
      ]
    },
    {
      "cell_type": "markdown",
      "metadata": {
        "id": "bwizhfN25P6A"
      },
      "source": [
        "**Сохранение ключевых значений для расчетов в отдельных переменных**"
      ]
    },
    {
      "cell_type": "code",
      "execution_count": null,
      "metadata": {
        "id": "osW9GKYT5P6A"
      },
      "outputs": [],
      "source": [
        "BUDGET = 10_000_000_000"
      ]
    },
    {
      "cell_type": "code",
      "execution_count": null,
      "metadata": {
        "id": "rF4yCA8O5P6A"
      },
      "outputs": [],
      "source": [
        "REVENUE = 450_000"
      ]
    },
    {
      "cell_type": "code",
      "execution_count": null,
      "metadata": {
        "id": "1QOHjtnN5P6B"
      },
      "outputs": [],
      "source": [
        "TOTAL_POINTS = 500"
      ]
    },
    {
      "cell_type": "code",
      "execution_count": null,
      "metadata": {
        "id": "o_kt5uSk5P6B"
      },
      "outputs": [],
      "source": [
        "BEST_POINTS = 200"
      ]
    },
    {
      "cell_type": "markdown",
      "metadata": {
        "id": "PI1keDvR5P6B"
      },
      "source": [
        "**Расчет достаточного объема сырья для безубыточной разработки новой скважины и его сравнение со средним запасом в каждом регионе**"
      ]
    },
    {
      "cell_type": "code",
      "execution_count": null,
      "metadata": {
        "id": "-tRm8QTk5P6C"
      },
      "outputs": [],
      "source": [
        "product_break_even = BUDGET/BEST_POINTS/REVENUE"
      ]
    },
    {
      "cell_type": "code",
      "execution_count": null,
      "metadata": {
        "id": "-tusQ9sJ5P6C",
        "outputId": "1df3fefb-0e3f-4c92-db44-60e521333ac2"
      },
      "outputs": [
        {
          "data": {
            "text/plain": [
              "111.11111111111111"
            ]
          },
          "execution_count": 130,
          "metadata": {},
          "output_type": "execute_result"
        }
      ],
      "source": [
        "product_break_even"
      ]
    },
    {
      "cell_type": "code",
      "execution_count": null,
      "metadata": {
        "id": "kQ7aayFO5P6C"
      },
      "outputs": [],
      "source": [
        "product_mean_1 = df_1['product'].mean()"
      ]
    },
    {
      "cell_type": "code",
      "execution_count": null,
      "metadata": {
        "id": "r5rftwXF5P6C"
      },
      "outputs": [],
      "source": [
        "product_mean_2 = df_2['product'].mean()"
      ]
    },
    {
      "cell_type": "code",
      "execution_count": null,
      "metadata": {
        "id": "MxiZmSrZ5P6C"
      },
      "outputs": [],
      "source": [
        "product_mean_3 = df_3['product'].mean()"
      ]
    },
    {
      "cell_type": "code",
      "execution_count": null,
      "metadata": {
        "id": "nMPB8_bg5P6D",
        "outputId": "c5a040a0-67b6-4ad2-a9b1-81d802e1cb73"
      },
      "outputs": [
        {
          "name": "stdout",
          "output_type": "stream",
          "text": [
            "92.50000000000001 68.82500000000002 95.00000000000004\n"
          ]
        }
      ],
      "source": [
        "print(product_mean_1, product_mean_2, product_mean_3)"
      ]
    },
    {
      "cell_type": "code",
      "execution_count": null,
      "metadata": {
        "id": "S1ow96oy5P6D"
      },
      "outputs": [],
      "source": [
        "table = {'Показатель': ['объем для безубыточной разработки', 'средний запас в регионе 1',\n",
        "                        'средний запас в регионе 2', 'средний запас в регионе 3'],\n",
        "        'Объем сырья, тыс. баррелей': [product_break_even, product_mean_1, product_mean_2, product_mean_3]}"
      ]
    },
    {
      "cell_type": "code",
      "execution_count": null,
      "metadata": {
        "id": "4TNEk3s_5P6D"
      },
      "outputs": [],
      "source": [
        "table=pd.DataFrame(table)"
      ]
    },
    {
      "cell_type": "code",
      "execution_count": null,
      "metadata": {
        "id": "Yjd0ovZ45P6E",
        "outputId": "d1f18572-d109-4396-8ec8-1faa8c9b93b8"
      },
      "outputs": [
        {
          "data": {
            "image/png": "[encoded data removed]",
            "text/plain": [
              "<Figure size 432x288 with 1 Axes>"
            ]
          },
          "metadata": {
            "needs_background": "light"
          },
          "output_type": "display_data"
        }
      ],
      "source": [
        "table.plot.bar(x='Показатель', ylabel='объем сырья, тыс. баррелей', legend=None);"
      ]
    },
    {
      "cell_type": "code",
      "execution_count": null,
      "metadata": {
        "id": "89154lbg5P6E",
        "outputId": "ab5d3f5b-f602-4b6a-d905-13098d9cc225"
      },
      "outputs": [
        {
          "data": {
            "text/html": [
              "<div>\n",
              "<style scoped>\n",
              "    .dataframe tbody tr th:only-of-type {\n",
              "        vertical-align: middle;\n",
              "    }\n",
              "\n",
              "    .dataframe tbody tr th {\n",
              "        vertical-align: top;\n",
              "    }\n",
              "\n",
              "    .dataframe thead th {\n",
              "        text-align: right;\n",
              "    }\n",
              "</style>\n",
              "<table border=\"1\" class=\"dataframe\">\n",
              "  <thead>\n",
              "    <tr style=\"text-align: right;\">\n",
              "      <th></th>\n",
              "      <th>Показатель</th>\n",
              "      <th>Объем сырья, тыс. баррелей</th>\n",
              "    </tr>\n",
              "  </thead>\n",
              "  <tbody>\n",
              "    <tr>\n",
              "      <th>0</th>\n",
              "      <td>объем для безубыточной разработки</td>\n",
              "      <td>111.111111</td>\n",
              "    </tr>\n",
              "    <tr>\n",
              "      <th>1</th>\n",
              "      <td>средний запас в регионе 1</td>\n",
              "      <td>92.500000</td>\n",
              "    </tr>\n",
              "    <tr>\n",
              "      <th>2</th>\n",
              "      <td>средний запас в регионе 2</td>\n",
              "      <td>68.825000</td>\n",
              "    </tr>\n",
              "    <tr>\n",
              "      <th>3</th>\n",
              "      <td>средний запас в регионе 3</td>\n",
              "      <td>95.000000</td>\n",
              "    </tr>\n",
              "  </tbody>\n",
              "</table>\n",
              "</div>"
            ],
            "text/plain": [
              "                          Показатель  Объем сырья, тыс. баррелей\n",
              "0  объем для безубыточной разработки                  111.111111\n",
              "1          средний запас в регионе 1                   92.500000\n",
              "2          средний запас в регионе 2                   68.825000\n",
              "3          средний запас в регионе 3                   95.000000"
            ]
          },
          "execution_count": 138,
          "metadata": {},
          "output_type": "execute_result"
        }
      ],
      "source": [
        "table"
      ]
    },
    {
      "cell_type": "markdown",
      "metadata": {
        "id": "fJI61UdE5P6E"
      },
      "source": [
        "Средний объем запасов во всех рассматриваемых регионах ниже достаточного объема сырья для безубыточной разработки новой скважины."
      ]
    },
    {
      "cell_type": "markdown",
      "metadata": {
        "id": "eZFMHhuO5P6F"
      },
      "source": [
        "## Расчёт прибыли и рисков"
      ]
    },
    {
      "cell_type": "markdown",
      "metadata": {
        "id": "l4juQRHG5P6F"
      },
      "source": [
        "**Расчет прибыли по выбранным скважинам и предсказанию модели**"
      ]
    },
    {
      "cell_type": "code",
      "execution_count": null,
      "metadata": {
        "id": "4B-zbqJP5P6F"
      },
      "outputs": [],
      "source": [
        "predictions_valid_1 = pd.Series(predictions_valid_1, index=target_valid_1.index)\n",
        "predictions_valid_2 = pd.Series(predictions_valid_2, index=target_valid_2.index)\n",
        "predictions_valid_3 = pd.Series(predictions_valid_3, index=target_valid_3.index)"
      ]
    },
    {
      "cell_type": "code",
      "execution_count": null,
      "metadata": {
        "id": "gNqvN6B75P6F"
      },
      "outputs": [],
      "source": [
        "def func(predictions, target, count):\n",
        "    predictions_sort = predictions.sort_values(ascending=False)\n",
        "    target_sum = target[predictions_sort.index][:count].sum()\n",
        "    return REVENUE*target_sum-BUDGET"
      ]
    },
    {
      "cell_type": "code",
      "execution_count": null,
      "metadata": {
        "id": "UoaqTCHL5P6G"
      },
      "outputs": [],
      "source": [
        "revenue_total_1 = func(predictions_valid_1, target_valid_1, BEST_POINTS)"
      ]
    },
    {
      "cell_type": "code",
      "execution_count": null,
      "metadata": {
        "id": "5RUxE2ob5P6G"
      },
      "outputs": [],
      "source": [
        "revenue_total_2 = func(predictions_valid_2, target_valid_2, BEST_POINTS)"
      ]
    },
    {
      "cell_type": "code",
      "execution_count": null,
      "metadata": {
        "id": "KOukXkU35P6G"
      },
      "outputs": [],
      "source": [
        "revenue_total_3 = func(predictions_valid_3, target_valid_3, BEST_POINTS)"
      ]
    },
    {
      "cell_type": "code",
      "execution_count": null,
      "metadata": {
        "id": "ckoXCTjs5P6G",
        "outputId": "5bd3ccb6-a2e6-4bea-fa3f-cdb09b4f4262"
      },
      "outputs": [
        {
          "name": "stdout",
          "output_type": "stream",
          "text": [
            "Прибыль регион 1: 3320826043.1398506 \n",
            "Прибыль регион 2: 2415086696.681511 \n",
            "Прибыль регион 3: 2710349963.5998325\n"
          ]
        }
      ],
      "source": [
        "print('Прибыль регион 1:', revenue_total_1,\n",
        "      '\\nПрибыль регион 2:', revenue_total_2,\n",
        "      '\\nПрибыль регион 3:', revenue_total_3)"
      ]
    },
    {
      "cell_type": "markdown",
      "metadata": {
        "id": "aolG164s5P6H"
      },
      "source": [
        "**Расчет рисков и прибыли для каждого региона**"
      ]
    },
    {
      "cell_type": "code",
      "execution_count": null,
      "metadata": {
        "id": "rZDROuQU5P6H"
      },
      "outputs": [],
      "source": [
        "state = np.random.RandomState(12345)"
      ]
    },
    {
      "cell_type": "code",
      "execution_count": null,
      "metadata": {
        "id": "y0aBhR4d5P6H"
      },
      "outputs": [],
      "source": [
        "def func_2(predictions, target):\n",
        "    values = []\n",
        "    for i in range(1000):\n",
        "        target_subsample = target.sample(n=TOTAL_POINTS, replace=True, random_state=state)\n",
        "        probs_subsample = predictions[target_subsample.index]\n",
        "        values.append(func(probs_subsample, target_subsample, best_points))\n",
        "    values = pd.Series(values)\n",
        "    lower = values.quantile(q=0.025).round(2)\n",
        "    upper = values.quantile(q=0.975).round(2)\n",
        "    mean = values.mean().round(2)\n",
        "    risk = (len(values[values<0])/len(values))*100\n",
        "    return lower, upper, mean, risk"
      ]
    },
    {
      "cell_type": "code",
      "execution_count": null,
      "metadata": {
        "id": "H3xEp1ri5P6H"
      },
      "outputs": [],
      "source": [
        "lower_1, upper_1, mean_1, risk_1 = func_2(predictions_valid_1, target_valid_1)"
      ]
    },
    {
      "cell_type": "code",
      "execution_count": null,
      "metadata": {
        "id": "r1C-Y1B55P6H"
      },
      "outputs": [],
      "source": [
        "lower_2, upper_2, mean_2, risk_2 = func_2(predictions_valid_2, target_valid_2)"
      ]
    },
    {
      "cell_type": "code",
      "execution_count": null,
      "metadata": {
        "id": "5kmUhVs35P6I"
      },
      "outputs": [],
      "source": [
        "lower_3, upper_3, mean_3, risk_3 = func_2(predictions_valid_3, target_valid_3)"
      ]
    },
    {
      "cell_type": "code",
      "execution_count": null,
      "metadata": {
        "id": "kIozDvD65P6I",
        "outputId": "016bf5af-c9e5-43e2-80e2-292f4eec4ed0"
      },
      "outputs": [
        {
          "name": "stdout",
          "output_type": "stream",
          "text": [
            "Регион 1: Средняя прибыль: 425938526.91 , доверительный интервал: -102090094.84 : 947976353.36 , риск убытков: 6.0 \n",
            "Регион 2: Средняя прибыль: 518259493.7 , доверительный интервал: 128123231.43 : 953612982.07 , риск убытков: 0.3 \n",
            "Регион 3: Средняя прибыль: 420194005.34 , доверительный интервал: -115852609.16 : 989629939.84 , риск убытков: 6.2\n"
          ]
        }
      ],
      "source": [
        "print('Регион 1: Средняя прибыль:', mean_1, ', доверительный интервал:', lower_1, ':', upper_1, ', риск убытков:', risk_1,\n",
        "     '\\nРегион 2: Средняя прибыль:', mean_2, ', доверительный интервал:', lower_2, ':', upper_2,  ', риск убытков:', risk_2,\n",
        "     '\\nРегион 3: Средняя прибыль:', mean_3, ', доверительный интервал:', lower_3, ':', upper_3, ', риск убытков:', risk_3)"
      ]
    },
    {
      "cell_type": "code",
      "execution_count": null,
      "metadata": {
        "id": "yRsgeJqm5P6I"
      },
      "outputs": [],
      "source": [
        "final_table = {'Регион': ['Регион 1', 'Регион 2', 'Регион 3'],\n",
        "               'Средняя прибыль, млн. руб': [mean_1/1000000, mean_2/1000000, mean_3/1000000],\n",
        "               'Риск убытков, %': [risk_1, risk_2, risk_3]}"
      ]
    },
    {
      "cell_type": "code",
      "execution_count": null,
      "metadata": {
        "id": "4CjAwEW35P6I"
      },
      "outputs": [],
      "source": [
        "final_table = pd.DataFrame(final_table)"
      ]
    },
    {
      "cell_type": "code",
      "execution_count": null,
      "metadata": {
        "id": "Ym5UYrUU5P6I",
        "outputId": "4218481e-6142-41d2-a197-22d0ccc670ec"
      },
      "outputs": [
        {
          "data": {
            "text/html": [
              "<div>\n",
              "<style scoped>\n",
              "    .dataframe tbody tr th:only-of-type {\n",
              "        vertical-align: middle;\n",
              "    }\n",
              "\n",
              "    .dataframe tbody tr th {\n",
              "        vertical-align: top;\n",
              "    }\n",
              "\n",
              "    .dataframe thead th {\n",
              "        text-align: right;\n",
              "    }\n",
              "</style>\n",
              "<table border=\"1\" class=\"dataframe\">\n",
              "  <thead>\n",
              "    <tr style=\"text-align: right;\">\n",
              "      <th></th>\n",
              "      <th>Регион</th>\n",
              "      <th>Средняя прибыль, млн. руб</th>\n",
              "      <th>Риск убытков, %</th>\n",
              "    </tr>\n",
              "  </thead>\n",
              "  <tbody>\n",
              "    <tr>\n",
              "      <th>0</th>\n",
              "      <td>Регион 1</td>\n",
              "      <td>425.938527</td>\n",
              "      <td>6.0</td>\n",
              "    </tr>\n",
              "    <tr>\n",
              "      <th>1</th>\n",
              "      <td>Регион 2</td>\n",
              "      <td>518.259494</td>\n",
              "      <td>0.3</td>\n",
              "    </tr>\n",
              "    <tr>\n",
              "      <th>2</th>\n",
              "      <td>Регион 3</td>\n",
              "      <td>420.194005</td>\n",
              "      <td>6.2</td>\n",
              "    </tr>\n",
              "  </tbody>\n",
              "</table>\n",
              "</div>"
            ],
            "text/plain": [
              "     Регион  Средняя прибыль, млн. руб  Риск убытков, %\n",
              "0  Регион 1                 425.938527              6.0\n",
              "1  Регион 2                 518.259494              0.3\n",
              "2  Регион 3                 420.194005              6.2"
            ]
          },
          "execution_count": 153,
          "metadata": {},
          "output_type": "execute_result"
        }
      ],
      "source": [
        "final_table"
      ]
    },
    {
      "cell_type": "code",
      "execution_count": null,
      "metadata": {
        "id": "A3YZpc_y5P6J"
      },
      "outputs": [],
      "source": [
        "result = pd.merge(data, final_table, on=\"Регион\")"
      ]
    },
    {
      "cell_type": "code",
      "execution_count": null,
      "metadata": {
        "id": "sB31Mt1g5P6J",
        "outputId": "d26044f2-5179-4498-d798-58969690b942"
      },
      "outputs": [
        {
          "data": {
            "text/html": [
              "<div>\n",
              "<style scoped>\n",
              "    .dataframe tbody tr th:only-of-type {\n",
              "        vertical-align: middle;\n",
              "    }\n",
              "\n",
              "    .dataframe tbody tr th {\n",
              "        vertical-align: top;\n",
              "    }\n",
              "\n",
              "    .dataframe thead th {\n",
              "        text-align: right;\n",
              "    }\n",
              "</style>\n",
              "<table border=\"1\" class=\"dataframe\">\n",
              "  <thead>\n",
              "    <tr style=\"text-align: right;\">\n",
              "      <th></th>\n",
              "      <th>Регион</th>\n",
              "      <th>Средний запас предсказанного сырья</th>\n",
              "      <th>RMSE</th>\n",
              "      <th>Средняя прибыль, млн. руб</th>\n",
              "      <th>Риск убытков, %</th>\n",
              "    </tr>\n",
              "  </thead>\n",
              "  <tbody>\n",
              "    <tr>\n",
              "      <th>0</th>\n",
              "      <td>Регион 1</td>\n",
              "      <td>92.592568</td>\n",
              "      <td>37.579422</td>\n",
              "      <td>425.938527</td>\n",
              "      <td>6.0</td>\n",
              "    </tr>\n",
              "    <tr>\n",
              "      <th>1</th>\n",
              "      <td>Регион 2</td>\n",
              "      <td>68.728547</td>\n",
              "      <td>0.893099</td>\n",
              "      <td>518.259494</td>\n",
              "      <td>0.3</td>\n",
              "    </tr>\n",
              "    <tr>\n",
              "      <th>2</th>\n",
              "      <td>Регион 3</td>\n",
              "      <td>94.965046</td>\n",
              "      <td>40.029709</td>\n",
              "      <td>420.194005</td>\n",
              "      <td>6.2</td>\n",
              "    </tr>\n",
              "  </tbody>\n",
              "</table>\n",
              "</div>"
            ],
            "text/plain": [
              "     Регион  Средний запас предсказанного сырья       RMSE  \\\n",
              "0  Регион 1                           92.592568  37.579422   \n",
              "1  Регион 2                           68.728547   0.893099   \n",
              "2  Регион 3                           94.965046  40.029709   \n",
              "\n",
              "   Средняя прибыль, млн. руб  Риск убытков, %  \n",
              "0                 425.938527              6.0  \n",
              "1                 518.259494              0.3  \n",
              "2                 420.194005              6.2  "
            ]
          },
          "execution_count": 155,
          "metadata": {},
          "output_type": "execute_result"
        }
      ],
      "source": [
        "result"
      ]
    },
    {
      "cell_type": "markdown",
      "metadata": {
        "id": "cxUGibeh5P6J"
      },
      "source": [
        "В проекте было рассмотрено три региона (обозначены как регион 1, регион 2, регион 3), по которым предоставлены пробы нефти.\n",
        "Показатели региона 1 и региона 3 имеют много сходств, а регион 2 по всем параметрам отличается от регионов 1 и 3.  \n",
        "После обучения моделей алгоритмом линейной регрессии полученные значения среднего запаса предсказанного сырья во всех регионах практически совпадают со средними целевыми значениями. В регионе 2 - значения среднего запаса сырья самые низкие -68.728547, однако RMSE модели, обученной на данных региона 2 самые лучшие - 0.893099.\n",
        "Рассчитанный объем сырья для безубыточной разработки составил 111.111 тыс. баррелей, что выше, чем  средний объем запасов в рассматриваемых регионах.\n",
        " При выборе 200 скважин с максимальными предсказаниями модели и расчетом прибыли для суммы целевых значений объема запасов, соответствующим полученным предсказаниям, самая большая величина прибыли была получена в регионе 1 (3 320 826 043), в регионе 3 прибыль составила 2 710 349 963, а в регионе 2 - самое маленькое значение 2 415 086 696.\n",
        "Однако, при анализе возможной прибыли и рисков техникой Bootstrap, наименьшая  вероятность убытков и наибольшая средняя прибыль в регионе 2.\n",
        "Т.о. к разработке можно рекомендовать именно регион 2, т.к. риск убытков в данном регионе всего 0,3 %."
      ]
    },
    {
      "cell_type": "code",
      "execution_count": null,
      "metadata": {
        "id": "C6gt2dW15P6L"
      },
      "outputs": [],
      "source": []
    }
  ],
  "metadata": {
    "ExecuteTimeLog": [
      {
        "duration": 456,
        "start_time": "2023-04-14T06:05:51.453Z"
      },
      {
        "duration": 399,
        "start_time": "2023-04-14T06:07:34.639Z"
      },
      {
        "duration": 20,
        "start_time": "2023-04-14T06:07:56.264Z"
      },
      {
        "duration": 17,
        "start_time": "2023-04-14T06:08:27.526Z"
      },
      {
        "duration": 658,
        "start_time": "2023-04-14T06:10:10.847Z"
      },
      {
        "duration": 12,
        "start_time": "2023-04-14T06:10:13.605Z"
      },
      {
        "duration": 19,
        "start_time": "2023-04-14T06:10:26.758Z"
      },
      {
        "duration": 627,
        "start_time": "2023-04-14T06:11:41.819Z"
      },
      {
        "duration": 11,
        "start_time": "2023-04-14T06:11:45.055Z"
      },
      {
        "duration": 16,
        "start_time": "2023-04-14T06:11:46.218Z"
      },
      {
        "duration": 72,
        "start_time": "2023-04-14T06:22:54.667Z"
      },
      {
        "duration": 44,
        "start_time": "2023-04-14T06:23:02.069Z"
      },
      {
        "duration": 41,
        "start_time": "2023-04-14T06:24:35.374Z"
      },
      {
        "duration": 40,
        "start_time": "2023-04-14T06:25:29.311Z"
      },
      {
        "duration": 69,
        "start_time": "2023-04-14T06:26:18.565Z"
      },
      {
        "duration": 104,
        "start_time": "2023-04-14T06:27:14.539Z"
      },
      {
        "duration": 107,
        "start_time": "2023-04-14T06:28:08.684Z"
      },
      {
        "duration": 469,
        "start_time": "2023-04-14T06:34:01.719Z"
      },
      {
        "duration": 1954,
        "start_time": "2023-04-14T06:35:37.923Z"
      },
      {
        "duration": 10574,
        "start_time": "2023-04-14T06:39:23.130Z"
      },
      {
        "duration": 796,
        "start_time": "2023-04-14T06:40:22.364Z"
      },
      {
        "duration": 738,
        "start_time": "2023-04-14T06:45:38.349Z"
      },
      {
        "duration": 168,
        "start_time": "2023-04-14T06:45:39.089Z"
      },
      {
        "duration": 16,
        "start_time": "2023-04-14T06:45:39.259Z"
      },
      {
        "duration": 27,
        "start_time": "2023-04-14T06:45:39.277Z"
      },
      {
        "duration": 170,
        "start_time": "2023-04-14T06:45:39.306Z"
      },
      {
        "duration": 11,
        "start_time": "2023-04-14T06:45:39.478Z"
      },
      {
        "duration": 22,
        "start_time": "2023-04-14T06:45:39.492Z"
      },
      {
        "duration": 159,
        "start_time": "2023-04-14T06:45:39.516Z"
      },
      {
        "duration": 12,
        "start_time": "2023-04-14T06:45:39.677Z"
      },
      {
        "duration": 56,
        "start_time": "2023-04-14T06:45:39.693Z"
      },
      {
        "duration": 133,
        "start_time": "2023-04-14T06:45:39.751Z"
      },
      {
        "duration": 3,
        "start_time": "2023-04-14T06:45:39.887Z"
      },
      {
        "duration": 8,
        "start_time": "2023-04-14T07:41:13.799Z"
      },
      {
        "duration": 78,
        "start_time": "2023-04-14T07:43:29.574Z"
      },
      {
        "duration": 771,
        "start_time": "2023-04-14T07:43:41.987Z"
      },
      {
        "duration": 47,
        "start_time": "2023-04-14T07:43:50.573Z"
      },
      {
        "duration": 9,
        "start_time": "2023-04-14T07:44:00.854Z"
      },
      {
        "duration": 36,
        "start_time": "2023-04-14T07:44:06.083Z"
      },
      {
        "duration": 26,
        "start_time": "2023-04-14T07:45:04.688Z"
      },
      {
        "duration": 5,
        "start_time": "2023-04-14T07:46:13.532Z"
      },
      {
        "duration": 8,
        "start_time": "2023-04-14T07:48:28.579Z"
      },
      {
        "duration": 27,
        "start_time": "2023-04-14T07:48:30.810Z"
      },
      {
        "duration": 6,
        "start_time": "2023-04-14T07:48:31.585Z"
      },
      {
        "duration": 8,
        "start_time": "2023-04-14T07:49:26.517Z"
      },
      {
        "duration": 27,
        "start_time": "2023-04-14T07:49:30.400Z"
      },
      {
        "duration": 5,
        "start_time": "2023-04-14T07:49:33.408Z"
      },
      {
        "duration": 3,
        "start_time": "2023-04-14T07:57:38.649Z"
      },
      {
        "duration": 47,
        "start_time": "2023-04-14T07:57:39.443Z"
      },
      {
        "duration": 11,
        "start_time": "2023-04-14T07:59:41.453Z"
      },
      {
        "duration": 10,
        "start_time": "2023-04-14T07:59:49.381Z"
      },
      {
        "duration": 11,
        "start_time": "2023-04-14T08:00:17.405Z"
      },
      {
        "duration": 8,
        "start_time": "2023-04-14T08:00:50.170Z"
      },
      {
        "duration": 4,
        "start_time": "2023-04-14T08:00:58.099Z"
      },
      {
        "duration": 55,
        "start_time": "2023-04-14T08:01:01.206Z"
      },
      {
        "duration": 5,
        "start_time": "2023-04-14T08:01:11.688Z"
      },
      {
        "duration": 177,
        "start_time": "2023-04-14T08:01:11.695Z"
      },
      {
        "duration": 13,
        "start_time": "2023-04-14T08:01:11.874Z"
      },
      {
        "duration": 28,
        "start_time": "2023-04-14T08:01:11.890Z"
      },
      {
        "duration": 149,
        "start_time": "2023-04-14T08:01:11.921Z"
      },
      {
        "duration": 12,
        "start_time": "2023-04-14T08:01:12.072Z"
      },
      {
        "duration": 71,
        "start_time": "2023-04-14T08:01:12.086Z"
      },
      {
        "duration": 155,
        "start_time": "2023-04-14T08:01:12.159Z"
      },
      {
        "duration": 12,
        "start_time": "2023-04-14T08:01:12.316Z"
      },
      {
        "duration": 26,
        "start_time": "2023-04-14T08:01:12.331Z"
      },
      {
        "duration": 131,
        "start_time": "2023-04-14T08:01:12.361Z"
      },
      {
        "duration": 5,
        "start_time": "2023-04-14T08:01:12.494Z"
      },
      {
        "duration": 19,
        "start_time": "2023-04-14T08:01:12.501Z"
      },
      {
        "duration": 18,
        "start_time": "2023-04-14T08:01:12.522Z"
      },
      {
        "duration": 29,
        "start_time": "2023-04-14T08:01:12.542Z"
      },
      {
        "duration": 23,
        "start_time": "2023-04-14T08:01:12.573Z"
      },
      {
        "duration": 6,
        "start_time": "2023-04-14T08:01:12.598Z"
      },
      {
        "duration": 20,
        "start_time": "2023-04-14T08:01:12.607Z"
      },
      {
        "duration": 27,
        "start_time": "2023-04-14T08:01:12.629Z"
      },
      {
        "duration": 18,
        "start_time": "2023-04-14T08:01:12.658Z"
      },
      {
        "duration": 33,
        "start_time": "2023-04-14T08:01:12.679Z"
      },
      {
        "duration": 41,
        "start_time": "2023-04-14T08:01:12.714Z"
      },
      {
        "duration": 15,
        "start_time": "2023-04-14T08:01:12.757Z"
      },
      {
        "duration": 24,
        "start_time": "2023-04-14T08:01:12.775Z"
      },
      {
        "duration": 67,
        "start_time": "2023-04-14T08:01:12.802Z"
      },
      {
        "duration": 20,
        "start_time": "2023-04-14T08:01:12.871Z"
      },
      {
        "duration": 6,
        "start_time": "2023-04-14T08:03:02.456Z"
      },
      {
        "duration": 4,
        "start_time": "2023-04-14T08:15:57.631Z"
      },
      {
        "duration": 185,
        "start_time": "2023-04-14T08:15:57.637Z"
      },
      {
        "duration": 17,
        "start_time": "2023-04-14T08:15:57.824Z"
      },
      {
        "duration": 28,
        "start_time": "2023-04-14T08:15:57.843Z"
      },
      {
        "duration": 171,
        "start_time": "2023-04-14T08:15:57.874Z"
      },
      {
        "duration": 16,
        "start_time": "2023-04-14T08:15:58.048Z"
      },
      {
        "duration": 33,
        "start_time": "2023-04-14T08:15:58.067Z"
      },
      {
        "duration": 142,
        "start_time": "2023-04-14T08:15:58.103Z"
      },
      {
        "duration": 11,
        "start_time": "2023-04-14T08:15:58.248Z"
      },
      {
        "duration": 24,
        "start_time": "2023-04-14T08:15:58.261Z"
      },
      {
        "duration": 126,
        "start_time": "2023-04-14T08:15:58.290Z"
      },
      {
        "duration": 5,
        "start_time": "2023-04-14T08:15:58.418Z"
      },
      {
        "duration": 18,
        "start_time": "2023-04-14T08:15:58.425Z"
      },
      {
        "duration": 16,
        "start_time": "2023-04-14T08:15:58.445Z"
      },
      {
        "duration": 22,
        "start_time": "2023-04-14T08:15:58.463Z"
      },
      {
        "duration": 33,
        "start_time": "2023-04-14T08:15:58.487Z"
      },
      {
        "duration": 20,
        "start_time": "2023-04-14T08:15:58.522Z"
      },
      {
        "duration": 12,
        "start_time": "2023-04-14T08:15:58.545Z"
      },
      {
        "duration": 31,
        "start_time": "2023-04-14T08:15:58.559Z"
      },
      {
        "duration": 14,
        "start_time": "2023-04-14T08:15:58.592Z"
      },
      {
        "duration": 89,
        "start_time": "2023-04-14T08:15:58.609Z"
      },
      {
        "duration": 101,
        "start_time": "2023-04-14T08:15:58.700Z"
      },
      {
        "duration": 39,
        "start_time": "2023-04-14T08:15:58.803Z"
      },
      {
        "duration": 40,
        "start_time": "2023-04-14T08:15:58.844Z"
      },
      {
        "duration": 35,
        "start_time": "2023-04-14T08:15:58.886Z"
      },
      {
        "duration": 27,
        "start_time": "2023-04-14T08:15:58.923Z"
      },
      {
        "duration": 93,
        "start_time": "2023-04-14T08:15:58.952Z"
      },
      {
        "duration": 109,
        "start_time": "2023-04-14T08:15:59.048Z"
      },
      {
        "duration": 21,
        "start_time": "2023-04-14T08:15:59.160Z"
      },
      {
        "duration": 43,
        "start_time": "2023-04-14T08:15:59.183Z"
      },
      {
        "duration": 27,
        "start_time": "2023-04-14T08:15:59.229Z"
      },
      {
        "duration": 5,
        "start_time": "2023-04-14T08:16:27.696Z"
      },
      {
        "duration": 54,
        "start_time": "2023-04-14T08:20:55.192Z"
      },
      {
        "duration": 64,
        "start_time": "2023-04-14T08:21:12.915Z"
      },
      {
        "duration": 230,
        "start_time": "2023-04-14T08:22:45.343Z"
      },
      {
        "duration": 12,
        "start_time": "2023-04-14T08:23:06.522Z"
      },
      {
        "duration": 5,
        "start_time": "2023-04-14T08:23:14.880Z"
      },
      {
        "duration": 3,
        "start_time": "2023-04-14T08:23:17.654Z"
      },
      {
        "duration": 4,
        "start_time": "2023-04-14T08:23:23.174Z"
      },
      {
        "duration": 4,
        "start_time": "2023-04-14T08:23:59.284Z"
      },
      {
        "duration": 13,
        "start_time": "2023-04-14T08:28:54.650Z"
      },
      {
        "duration": 13,
        "start_time": "2023-04-14T08:28:59.396Z"
      },
      {
        "duration": 12,
        "start_time": "2023-04-14T08:29:02.384Z"
      },
      {
        "duration": 8,
        "start_time": "2023-04-14T08:30:20.617Z"
      },
      {
        "duration": 6,
        "start_time": "2023-04-14T08:30:22.232Z"
      },
      {
        "duration": 6,
        "start_time": "2023-04-14T08:30:46.984Z"
      },
      {
        "duration": 5,
        "start_time": "2023-04-14T08:31:54.898Z"
      },
      {
        "duration": 5,
        "start_time": "2023-04-14T08:32:34.002Z"
      },
      {
        "duration": 4,
        "start_time": "2023-04-14T08:33:58.907Z"
      },
      {
        "duration": 153,
        "start_time": "2023-04-14T08:33:58.922Z"
      },
      {
        "duration": 13,
        "start_time": "2023-04-14T08:33:59.078Z"
      },
      {
        "duration": 30,
        "start_time": "2023-04-14T08:33:59.094Z"
      },
      {
        "duration": 139,
        "start_time": "2023-04-14T08:33:59.127Z"
      },
      {
        "duration": 11,
        "start_time": "2023-04-14T08:33:59.269Z"
      },
      {
        "duration": 34,
        "start_time": "2023-04-14T08:33:59.283Z"
      },
      {
        "duration": 137,
        "start_time": "2023-04-14T08:33:59.319Z"
      },
      {
        "duration": 10,
        "start_time": "2023-04-14T08:33:59.458Z"
      },
      {
        "duration": 20,
        "start_time": "2023-04-14T08:33:59.470Z"
      },
      {
        "duration": 122,
        "start_time": "2023-04-14T08:33:59.492Z"
      },
      {
        "duration": 6,
        "start_time": "2023-04-14T08:33:59.616Z"
      },
      {
        "duration": 21,
        "start_time": "2023-04-14T08:33:59.623Z"
      },
      {
        "duration": 10,
        "start_time": "2023-04-14T08:33:59.646Z"
      },
      {
        "duration": 10,
        "start_time": "2023-04-14T08:33:59.659Z"
      },
      {
        "duration": 17,
        "start_time": "2023-04-14T08:33:59.671Z"
      },
      {
        "duration": 5,
        "start_time": "2023-04-14T08:33:59.690Z"
      },
      {
        "duration": 14,
        "start_time": "2023-04-14T08:33:59.697Z"
      },
      {
        "duration": 36,
        "start_time": "2023-04-14T08:33:59.712Z"
      },
      {
        "duration": 6,
        "start_time": "2023-04-14T08:33:59.750Z"
      },
      {
        "duration": 15,
        "start_time": "2023-04-14T08:33:59.758Z"
      },
      {
        "duration": 18,
        "start_time": "2023-04-14T08:33:59.776Z"
      },
      {
        "duration": 5,
        "start_time": "2023-04-14T08:33:59.795Z"
      },
      {
        "duration": 21,
        "start_time": "2023-04-14T08:33:59.802Z"
      },
      {
        "duration": 26,
        "start_time": "2023-04-14T08:33:59.825Z"
      },
      {
        "duration": 16,
        "start_time": "2023-04-14T08:33:59.853Z"
      },
      {
        "duration": 6,
        "start_time": "2023-04-14T08:33:59.871Z"
      },
      {
        "duration": 166,
        "start_time": "2023-04-14T08:33:59.879Z"
      },
      {
        "duration": 100,
        "start_time": "2023-04-14T08:34:00.047Z"
      },
      {
        "duration": 192,
        "start_time": "2023-04-14T08:34:00.149Z"
      },
      {
        "duration": 13,
        "start_time": "2023-04-14T08:34:00.343Z"
      },
      {
        "duration": 45,
        "start_time": "2023-04-14T08:34:00.358Z"
      },
      {
        "duration": 38,
        "start_time": "2023-04-14T08:34:00.405Z"
      },
      {
        "duration": 5,
        "start_time": "2023-04-14T08:46:38.212Z"
      },
      {
        "duration": 5,
        "start_time": "2023-04-14T08:46:38.922Z"
      },
      {
        "duration": 5,
        "start_time": "2023-04-14T08:46:39.562Z"
      },
      {
        "duration": 4,
        "start_time": "2023-04-14T08:46:40.820Z"
      },
      {
        "duration": 4,
        "start_time": "2023-04-14T08:46:41.412Z"
      },
      {
        "duration": 4,
        "start_time": "2023-04-14T08:46:42.024Z"
      },
      {
        "duration": 6,
        "start_time": "2023-04-14T08:46:42.717Z"
      },
      {
        "duration": 1407,
        "start_time": "2023-04-14T11:50:38.017Z"
      },
      {
        "duration": 645,
        "start_time": "2023-04-14T11:50:39.426Z"
      },
      {
        "duration": 12,
        "start_time": "2023-04-14T11:50:40.072Z"
      },
      {
        "duration": 36,
        "start_time": "2023-04-14T11:50:40.086Z"
      },
      {
        "duration": 179,
        "start_time": "2023-04-14T11:50:40.123Z"
      },
      {
        "duration": 8,
        "start_time": "2023-04-14T11:50:40.304Z"
      },
      {
        "duration": 45,
        "start_time": "2023-04-14T11:50:40.313Z"
      },
      {
        "duration": 185,
        "start_time": "2023-04-14T11:50:40.360Z"
      },
      {
        "duration": 7,
        "start_time": "2023-04-14T11:50:40.547Z"
      },
      {
        "duration": 23,
        "start_time": "2023-04-14T11:50:40.557Z"
      },
      {
        "duration": 89,
        "start_time": "2023-04-14T11:50:40.581Z"
      },
      {
        "duration": 4,
        "start_time": "2023-04-14T11:50:40.671Z"
      },
      {
        "duration": 19,
        "start_time": "2023-04-14T11:50:40.676Z"
      },
      {
        "duration": 17,
        "start_time": "2023-04-14T11:50:40.696Z"
      },
      {
        "duration": 12,
        "start_time": "2023-04-14T11:50:40.715Z"
      },
      {
        "duration": 28,
        "start_time": "2023-04-14T11:50:40.728Z"
      },
      {
        "duration": 17,
        "start_time": "2023-04-14T11:50:40.757Z"
      },
      {
        "duration": 14,
        "start_time": "2023-04-14T11:50:40.775Z"
      },
      {
        "duration": 28,
        "start_time": "2023-04-14T11:50:40.791Z"
      },
      {
        "duration": 12,
        "start_time": "2023-04-14T11:50:40.820Z"
      },
      {
        "duration": 36,
        "start_time": "2023-04-14T11:50:40.834Z"
      },
      {
        "duration": 51,
        "start_time": "2023-04-14T11:50:40.872Z"
      },
      {
        "duration": 44,
        "start_time": "2023-04-14T11:50:40.925Z"
      },
      {
        "duration": 69,
        "start_time": "2023-04-14T11:50:40.971Z"
      },
      {
        "duration": 17,
        "start_time": "2023-04-14T11:50:41.041Z"
      },
      {
        "duration": 25,
        "start_time": "2023-04-14T11:50:41.059Z"
      },
      {
        "duration": 24,
        "start_time": "2023-04-14T11:50:41.086Z"
      },
      {
        "duration": 126,
        "start_time": "2023-04-14T11:50:41.113Z"
      },
      {
        "duration": 96,
        "start_time": "2023-04-14T11:50:41.244Z"
      },
      {
        "duration": 96,
        "start_time": "2023-04-14T11:50:41.342Z"
      },
      {
        "duration": 98,
        "start_time": "2023-04-14T11:50:41.440Z"
      },
      {
        "duration": 14,
        "start_time": "2023-04-14T11:50:41.539Z"
      },
      {
        "duration": 6,
        "start_time": "2023-04-14T11:50:41.555Z"
      },
      {
        "duration": 93,
        "start_time": "2023-04-14T11:51:15.681Z"
      },
      {
        "duration": 4,
        "start_time": "2023-04-14T11:55:34.176Z"
      },
      {
        "duration": 7,
        "start_time": "2023-04-14T14:27:44.863Z"
      },
      {
        "duration": 2,
        "start_time": "2023-04-14T14:31:50.136Z"
      },
      {
        "duration": 3,
        "start_time": "2023-04-14T14:35:01.769Z"
      },
      {
        "duration": 3123,
        "start_time": "2023-04-14T14:35:04.940Z"
      },
      {
        "duration": 573,
        "start_time": "2023-04-14T14:35:08.064Z"
      },
      {
        "duration": 12,
        "start_time": "2023-04-14T14:35:08.639Z"
      },
      {
        "duration": 24,
        "start_time": "2023-04-14T14:35:08.652Z"
      },
      {
        "duration": 618,
        "start_time": "2023-04-14T14:35:08.679Z"
      },
      {
        "duration": 8,
        "start_time": "2023-04-14T14:35:09.298Z"
      },
      {
        "duration": 19,
        "start_time": "2023-04-14T14:35:09.307Z"
      },
      {
        "duration": 562,
        "start_time": "2023-04-14T14:35:09.327Z"
      },
      {
        "duration": 9,
        "start_time": "2023-04-14T14:35:09.890Z"
      },
      {
        "duration": 27,
        "start_time": "2023-04-14T14:35:09.901Z"
      },
      {
        "duration": 98,
        "start_time": "2023-04-14T14:35:09.930Z"
      },
      {
        "duration": 5,
        "start_time": "2023-04-14T14:35:10.029Z"
      },
      {
        "duration": 29,
        "start_time": "2023-04-14T14:35:10.036Z"
      },
      {
        "duration": 39,
        "start_time": "2023-04-14T14:35:10.067Z"
      },
      {
        "duration": 8,
        "start_time": "2023-04-14T14:35:10.108Z"
      },
      {
        "duration": 24,
        "start_time": "2023-04-14T14:35:10.117Z"
      },
      {
        "duration": 12,
        "start_time": "2023-04-14T14:35:10.143Z"
      },
      {
        "duration": 10,
        "start_time": "2023-04-14T14:35:10.157Z"
      },
      {
        "duration": 30,
        "start_time": "2023-04-14T14:35:10.169Z"
      },
      {
        "duration": 4,
        "start_time": "2023-04-14T14:35:10.200Z"
      },
      {
        "duration": 17,
        "start_time": "2023-04-14T14:35:10.206Z"
      },
      {
        "duration": 12,
        "start_time": "2023-04-14T14:35:10.225Z"
      },
      {
        "duration": 10,
        "start_time": "2023-04-14T14:35:10.238Z"
      },
      {
        "duration": 13,
        "start_time": "2023-04-14T14:35:10.249Z"
      },
      {
        "duration": 12,
        "start_time": "2023-04-14T14:35:10.264Z"
      },
      {
        "duration": 20,
        "start_time": "2023-04-14T14:35:10.278Z"
      },
      {
        "duration": 28,
        "start_time": "2023-04-14T14:35:10.299Z"
      },
      {
        "duration": 149,
        "start_time": "2023-04-14T14:35:10.329Z"
      },
      {
        "duration": 121,
        "start_time": "2023-04-14T14:35:10.480Z"
      },
      {
        "duration": 188,
        "start_time": "2023-04-14T14:35:10.603Z"
      },
      {
        "duration": 9,
        "start_time": "2023-04-14T14:35:10.792Z"
      },
      {
        "duration": 11,
        "start_time": "2023-04-14T14:35:10.802Z"
      },
      {
        "duration": 6,
        "start_time": "2023-04-14T14:35:10.815Z"
      },
      {
        "duration": 11,
        "start_time": "2023-04-14T14:35:10.822Z"
      },
      {
        "duration": 5,
        "start_time": "2023-04-14T14:35:10.834Z"
      },
      {
        "duration": 13,
        "start_time": "2023-04-14T14:35:10.840Z"
      },
      {
        "duration": 10,
        "start_time": "2023-04-14T14:35:10.854Z"
      },
      {
        "duration": 2,
        "start_time": "2023-04-14T14:43:34.096Z"
      },
      {
        "duration": 3,
        "start_time": "2023-04-14T14:43:55.033Z"
      },
      {
        "duration": 3,
        "start_time": "2023-04-14T14:47:37.116Z"
      },
      {
        "duration": 3,
        "start_time": "2023-04-14T14:47:37.798Z"
      },
      {
        "duration": 3,
        "start_time": "2023-04-14T14:47:38.463Z"
      },
      {
        "duration": 3,
        "start_time": "2023-04-14T14:48:18.050Z"
      },
      {
        "duration": 2,
        "start_time": "2023-04-14T14:53:29.006Z"
      },
      {
        "duration": 3,
        "start_time": "2023-04-14T14:53:31.954Z"
      },
      {
        "duration": 2,
        "start_time": "2023-04-14T14:53:35.122Z"
      },
      {
        "duration": 5,
        "start_time": "2023-04-14T14:54:09.503Z"
      },
      {
        "duration": 118,
        "start_time": "2023-04-14T15:14:04.984Z"
      },
      {
        "duration": 2,
        "start_time": "2023-04-14T15:14:21.449Z"
      },
      {
        "duration": 4,
        "start_time": "2023-04-14T15:14:37.902Z"
      },
      {
        "duration": 3,
        "start_time": "2023-04-14T15:15:12.298Z"
      },
      {
        "duration": 3,
        "start_time": "2023-04-14T15:15:14.004Z"
      },
      {
        "duration": 10,
        "start_time": "2023-04-14T15:22:06.728Z"
      },
      {
        "duration": 8,
        "start_time": "2023-04-14T15:23:12.449Z"
      },
      {
        "duration": 3,
        "start_time": "2023-04-14T15:23:38.525Z"
      },
      {
        "duration": 1848,
        "start_time": "2023-04-15T06:55:21.754Z"
      },
      {
        "duration": 406,
        "start_time": "2023-04-15T06:55:23.605Z"
      },
      {
        "duration": 16,
        "start_time": "2023-04-15T06:55:24.013Z"
      },
      {
        "duration": 23,
        "start_time": "2023-04-15T06:55:24.031Z"
      },
      {
        "duration": 610,
        "start_time": "2023-04-15T06:55:24.056Z"
      },
      {
        "duration": 11,
        "start_time": "2023-04-15T06:55:24.668Z"
      },
      {
        "duration": 19,
        "start_time": "2023-04-15T06:55:24.681Z"
      },
      {
        "duration": 590,
        "start_time": "2023-04-15T06:55:24.702Z"
      },
      {
        "duration": 11,
        "start_time": "2023-04-15T06:55:25.294Z"
      },
      {
        "duration": 24,
        "start_time": "2023-04-15T06:55:25.309Z"
      },
      {
        "duration": 114,
        "start_time": "2023-04-15T06:55:25.336Z"
      },
      {
        "duration": 5,
        "start_time": "2023-04-15T06:55:25.452Z"
      },
      {
        "duration": 20,
        "start_time": "2023-04-15T06:55:25.459Z"
      },
      {
        "duration": 12,
        "start_time": "2023-04-15T06:55:25.481Z"
      },
      {
        "duration": 19,
        "start_time": "2023-04-15T06:55:25.495Z"
      },
      {
        "duration": 41,
        "start_time": "2023-04-15T06:55:25.516Z"
      },
      {
        "duration": 8,
        "start_time": "2023-04-15T06:55:25.559Z"
      },
      {
        "duration": 60,
        "start_time": "2023-04-15T06:55:25.569Z"
      },
      {
        "duration": 47,
        "start_time": "2023-04-15T06:55:25.631Z"
      },
      {
        "duration": 16,
        "start_time": "2023-04-15T06:55:25.680Z"
      },
      {
        "duration": 46,
        "start_time": "2023-04-15T06:55:25.698Z"
      },
      {
        "duration": 54,
        "start_time": "2023-04-15T06:55:25.746Z"
      },
      {
        "duration": 26,
        "start_time": "2023-04-15T06:55:25.802Z"
      },
      {
        "duration": 40,
        "start_time": "2023-04-15T06:55:25.831Z"
      },
      {
        "duration": 61,
        "start_time": "2023-04-15T06:55:25.873Z"
      },
      {
        "duration": 51,
        "start_time": "2023-04-15T06:55:25.937Z"
      },
      {
        "duration": 50,
        "start_time": "2023-04-15T06:55:25.990Z"
      },
      {
        "duration": 134,
        "start_time": "2023-04-15T06:55:26.046Z"
      },
      {
        "duration": 124,
        "start_time": "2023-04-15T06:55:26.244Z"
      },
      {
        "duration": 73,
        "start_time": "2023-04-15T06:55:26.374Z"
      },
      {
        "duration": 105,
        "start_time": "2023-04-15T06:55:26.450Z"
      },
      {
        "duration": 60,
        "start_time": "2023-04-15T06:55:26.558Z"
      },
      {
        "duration": 56,
        "start_time": "2023-04-15T06:55:26.621Z"
      },
      {
        "duration": 33,
        "start_time": "2023-04-15T06:55:26.680Z"
      },
      {
        "duration": 32,
        "start_time": "2023-04-15T06:55:26.715Z"
      },
      {
        "duration": 53,
        "start_time": "2023-04-15T06:55:26.749Z"
      },
      {
        "duration": 12,
        "start_time": "2023-04-15T06:55:26.804Z"
      },
      {
        "duration": 10,
        "start_time": "2023-04-15T06:55:26.818Z"
      },
      {
        "duration": 30,
        "start_time": "2023-04-15T06:55:26.830Z"
      },
      {
        "duration": 31,
        "start_time": "2023-04-15T06:55:26.861Z"
      },
      {
        "duration": 26,
        "start_time": "2023-04-15T06:55:26.895Z"
      },
      {
        "duration": 21,
        "start_time": "2023-04-15T06:55:26.923Z"
      },
      {
        "duration": 27,
        "start_time": "2023-04-15T06:55:26.947Z"
      },
      {
        "duration": 19,
        "start_time": "2023-04-15T06:55:26.976Z"
      },
      {
        "duration": 39,
        "start_time": "2023-04-15T06:55:26.997Z"
      },
      {
        "duration": 20,
        "start_time": "2023-04-15T06:55:27.038Z"
      },
      {
        "duration": 12,
        "start_time": "2023-04-15T06:55:27.060Z"
      },
      {
        "duration": 57,
        "start_time": "2023-04-15T06:55:27.074Z"
      },
      {
        "duration": 0,
        "start_time": "2023-04-15T06:55:27.133Z"
      },
      {
        "duration": 5,
        "start_time": "2023-04-15T07:04:07.067Z"
      },
      {
        "duration": 113,
        "start_time": "2023-04-15T07:04:23.210Z"
      },
      {
        "duration": 5,
        "start_time": "2023-04-15T07:04:42.347Z"
      },
      {
        "duration": 14,
        "start_time": "2023-04-15T07:05:00.391Z"
      },
      {
        "duration": 32,
        "start_time": "2023-04-15T07:12:06.095Z"
      },
      {
        "duration": 27,
        "start_time": "2023-04-15T07:12:40.910Z"
      },
      {
        "duration": 29,
        "start_time": "2023-04-15T07:12:55.782Z"
      },
      {
        "duration": 17,
        "start_time": "2023-04-15T07:17:16.548Z"
      },
      {
        "duration": 21,
        "start_time": "2023-04-15T07:17:23.516Z"
      },
      {
        "duration": 62,
        "start_time": "2023-04-15T07:27:44.302Z"
      },
      {
        "duration": 62,
        "start_time": "2023-04-15T07:28:28.161Z"
      },
      {
        "duration": 25,
        "start_time": "2023-04-15T07:28:35.521Z"
      },
      {
        "duration": 18,
        "start_time": "2023-04-15T07:30:48.212Z"
      },
      {
        "duration": 4,
        "start_time": "2023-04-15T07:31:30.142Z"
      },
      {
        "duration": 5,
        "start_time": "2023-04-15T07:31:39.326Z"
      },
      {
        "duration": 11,
        "start_time": "2023-04-15T07:32:16.554Z"
      },
      {
        "duration": 7,
        "start_time": "2023-04-15T07:33:26.189Z"
      },
      {
        "duration": 7,
        "start_time": "2023-04-15T07:33:40.748Z"
      },
      {
        "duration": 25,
        "start_time": "2023-04-15T07:38:32.406Z"
      },
      {
        "duration": 11,
        "start_time": "2023-04-15T07:43:39.987Z"
      },
      {
        "duration": 26,
        "start_time": "2023-04-15T08:00:13.701Z"
      },
      {
        "duration": 30,
        "start_time": "2023-04-15T08:00:24.201Z"
      },
      {
        "duration": 27,
        "start_time": "2023-04-15T08:01:47.707Z"
      },
      {
        "duration": 30,
        "start_time": "2023-04-15T08:08:20.537Z"
      },
      {
        "duration": 37,
        "start_time": "2023-04-15T08:21:11.752Z"
      },
      {
        "duration": 4,
        "start_time": "2023-04-15T08:21:39.933Z"
      },
      {
        "duration": 7,
        "start_time": "2023-04-15T08:21:53.655Z"
      },
      {
        "duration": 17,
        "start_time": "2023-04-15T08:22:19.720Z"
      },
      {
        "duration": 3,
        "start_time": "2023-04-15T08:22:56.812Z"
      },
      {
        "duration": 11,
        "start_time": "2023-04-15T08:23:29.105Z"
      },
      {
        "duration": 3,
        "start_time": "2023-04-15T08:24:23.091Z"
      },
      {
        "duration": 202,
        "start_time": "2023-04-15T08:24:23.097Z"
      },
      {
        "duration": 10,
        "start_time": "2023-04-15T08:24:23.301Z"
      },
      {
        "duration": 40,
        "start_time": "2023-04-15T08:24:23.312Z"
      },
      {
        "duration": 151,
        "start_time": "2023-04-15T08:24:23.362Z"
      },
      {
        "duration": 11,
        "start_time": "2023-04-15T08:24:23.515Z"
      },
      {
        "duration": 30,
        "start_time": "2023-04-15T08:24:23.528Z"
      },
      {
        "duration": 153,
        "start_time": "2023-04-15T08:24:23.560Z"
      },
      {
        "duration": 11,
        "start_time": "2023-04-15T08:24:23.715Z"
      },
      {
        "duration": 154,
        "start_time": "2023-04-15T08:24:23.728Z"
      },
      {
        "duration": 163,
        "start_time": "2023-04-15T08:24:23.886Z"
      },
      {
        "duration": 6,
        "start_time": "2023-04-15T08:24:24.051Z"
      },
      {
        "duration": 21,
        "start_time": "2023-04-15T08:24:24.060Z"
      },
      {
        "duration": 18,
        "start_time": "2023-04-15T08:24:24.083Z"
      },
      {
        "duration": 35,
        "start_time": "2023-04-15T08:24:24.104Z"
      },
      {
        "duration": 33,
        "start_time": "2023-04-15T08:24:24.143Z"
      },
      {
        "duration": 7,
        "start_time": "2023-04-15T08:24:24.178Z"
      },
      {
        "duration": 15,
        "start_time": "2023-04-15T08:24:24.187Z"
      },
      {
        "duration": 20,
        "start_time": "2023-04-15T08:24:24.204Z"
      },
      {
        "duration": 5,
        "start_time": "2023-04-15T08:24:24.226Z"
      },
      {
        "duration": 29,
        "start_time": "2023-04-15T08:24:24.232Z"
      },
      {
        "duration": 28,
        "start_time": "2023-04-15T08:24:24.263Z"
      },
      {
        "duration": 10,
        "start_time": "2023-04-15T08:24:24.293Z"
      },
      {
        "duration": 25,
        "start_time": "2023-04-15T08:24:24.305Z"
      },
      {
        "duration": 35,
        "start_time": "2023-04-15T08:24:24.332Z"
      },
      {
        "duration": 25,
        "start_time": "2023-04-15T08:24:24.369Z"
      },
      {
        "duration": 53,
        "start_time": "2023-04-15T08:24:24.397Z"
      },
      {
        "duration": 344,
        "start_time": "2023-04-15T08:24:24.453Z"
      },
      {
        "duration": 161,
        "start_time": "2023-04-15T08:24:24.802Z"
      },
      {
        "duration": 191,
        "start_time": "2023-04-15T08:24:24.965Z"
      },
      {
        "duration": 11,
        "start_time": "2023-04-15T08:24:25.158Z"
      },
      {
        "duration": 7,
        "start_time": "2023-04-15T08:24:25.171Z"
      },
      {
        "duration": 69,
        "start_time": "2023-04-15T08:24:25.180Z"
      },
      {
        "duration": 0,
        "start_time": "2023-04-15T08:24:25.252Z"
      },
      {
        "duration": 0,
        "start_time": "2023-04-15T08:24:25.254Z"
      },
      {
        "duration": 0,
        "start_time": "2023-04-15T08:24:25.255Z"
      },
      {
        "duration": 0,
        "start_time": "2023-04-15T08:24:25.257Z"
      },
      {
        "duration": 0,
        "start_time": "2023-04-15T08:24:25.258Z"
      },
      {
        "duration": 1,
        "start_time": "2023-04-15T08:24:25.259Z"
      },
      {
        "duration": 0,
        "start_time": "2023-04-15T08:24:25.264Z"
      },
      {
        "duration": 0,
        "start_time": "2023-04-15T08:24:25.266Z"
      },
      {
        "duration": 0,
        "start_time": "2023-04-15T08:24:25.268Z"
      },
      {
        "duration": 0,
        "start_time": "2023-04-15T08:24:25.272Z"
      },
      {
        "duration": 0,
        "start_time": "2023-04-15T08:24:25.274Z"
      },
      {
        "duration": 0,
        "start_time": "2023-04-15T08:24:25.276Z"
      },
      {
        "duration": 0,
        "start_time": "2023-04-15T08:24:25.279Z"
      },
      {
        "duration": 0,
        "start_time": "2023-04-15T08:24:25.280Z"
      },
      {
        "duration": 0,
        "start_time": "2023-04-15T08:24:25.281Z"
      },
      {
        "duration": 0,
        "start_time": "2023-04-15T08:24:25.283Z"
      },
      {
        "duration": 0,
        "start_time": "2023-04-15T08:24:25.284Z"
      },
      {
        "duration": 0,
        "start_time": "2023-04-15T08:24:25.285Z"
      },
      {
        "duration": 0,
        "start_time": "2023-04-15T08:24:25.287Z"
      },
      {
        "duration": 0,
        "start_time": "2023-04-15T08:24:25.288Z"
      },
      {
        "duration": 0,
        "start_time": "2023-04-15T08:24:25.289Z"
      },
      {
        "duration": 0,
        "start_time": "2023-04-15T08:24:25.291Z"
      },
      {
        "duration": 5,
        "start_time": "2023-04-15T08:24:54.800Z"
      },
      {
        "duration": 5,
        "start_time": "2023-04-15T08:24:55.630Z"
      },
      {
        "duration": 4,
        "start_time": "2023-04-15T08:24:56.230Z"
      },
      {
        "duration": 7,
        "start_time": "2023-04-15T08:24:56.856Z"
      },
      {
        "duration": 3,
        "start_time": "2023-04-15T08:24:58.160Z"
      },
      {
        "duration": 3,
        "start_time": "2023-04-15T08:24:58.722Z"
      },
      {
        "duration": 3,
        "start_time": "2023-04-15T08:24:58.977Z"
      },
      {
        "duration": 3,
        "start_time": "2023-04-15T08:24:59.158Z"
      },
      {
        "duration": 5,
        "start_time": "2023-04-15T08:24:59.371Z"
      },
      {
        "duration": 14,
        "start_time": "2023-04-15T08:24:59.538Z"
      },
      {
        "duration": 4,
        "start_time": "2023-04-15T08:24:59.705Z"
      },
      {
        "duration": 4,
        "start_time": "2023-04-15T08:24:59.871Z"
      },
      {
        "duration": 4,
        "start_time": "2023-04-15T08:25:00.029Z"
      },
      {
        "duration": 3,
        "start_time": "2023-04-15T08:25:00.189Z"
      },
      {
        "duration": 6,
        "start_time": "2023-04-15T08:25:00.373Z"
      },
      {
        "duration": 72,
        "start_time": "2023-04-15T08:25:00.728Z"
      },
      {
        "duration": 7,
        "start_time": "2023-04-15T08:25:00.905Z"
      },
      {
        "duration": 3,
        "start_time": "2023-04-15T08:25:01.127Z"
      },
      {
        "duration": 5,
        "start_time": "2023-04-15T08:25:01.483Z"
      },
      {
        "duration": 31,
        "start_time": "2023-04-15T08:25:02.058Z"
      },
      {
        "duration": 47,
        "start_time": "2023-04-15T08:25:24.526Z"
      },
      {
        "duration": 14,
        "start_time": "2023-04-15T08:28:49.447Z"
      },
      {
        "duration": 12,
        "start_time": "2023-04-15T08:29:19.570Z"
      },
      {
        "duration": 7,
        "start_time": "2023-04-15T08:29:29.550Z"
      },
      {
        "duration": 9,
        "start_time": "2023-04-15T08:29:54.414Z"
      },
      {
        "duration": 7,
        "start_time": "2023-04-15T08:30:23.300Z"
      },
      {
        "duration": 17,
        "start_time": "2023-04-15T08:33:52.173Z"
      },
      {
        "duration": 19,
        "start_time": "2023-04-15T08:34:49.563Z"
      },
      {
        "duration": 12,
        "start_time": "2023-04-15T08:35:32.569Z"
      },
      {
        "duration": 13,
        "start_time": "2023-04-15T08:36:47.469Z"
      },
      {
        "duration": 25,
        "start_time": "2023-04-15T08:39:36.432Z"
      },
      {
        "duration": 8,
        "start_time": "2023-04-15T08:39:45.324Z"
      },
      {
        "duration": 10,
        "start_time": "2023-04-15T08:40:04.787Z"
      },
      {
        "duration": 9,
        "start_time": "2023-04-15T08:40:29.688Z"
      },
      {
        "duration": 16,
        "start_time": "2023-04-15T08:40:31.760Z"
      },
      {
        "duration": 21,
        "start_time": "2023-04-15T08:41:43.992Z"
      },
      {
        "duration": 15,
        "start_time": "2023-04-15T08:42:21.502Z"
      },
      {
        "duration": 10,
        "start_time": "2023-04-15T08:42:35.991Z"
      },
      {
        "duration": 18,
        "start_time": "2023-04-15T08:42:41.615Z"
      },
      {
        "duration": 19,
        "start_time": "2023-04-15T08:42:56.039Z"
      },
      {
        "duration": 17,
        "start_time": "2023-04-15T08:43:33.684Z"
      },
      {
        "duration": 7,
        "start_time": "2023-04-15T08:44:33.114Z"
      },
      {
        "duration": 13,
        "start_time": "2023-04-15T08:44:41.186Z"
      },
      {
        "duration": 11,
        "start_time": "2023-04-15T08:45:41.411Z"
      },
      {
        "duration": 13,
        "start_time": "2023-04-15T08:45:44.814Z"
      },
      {
        "duration": 4,
        "start_time": "2023-04-15T08:53:18.827Z"
      },
      {
        "duration": 14,
        "start_time": "2023-04-15T08:53:20.021Z"
      },
      {
        "duration": 6,
        "start_time": "2023-04-15T08:54:03.290Z"
      },
      {
        "duration": 190,
        "start_time": "2023-04-15T08:54:03.299Z"
      },
      {
        "duration": 15,
        "start_time": "2023-04-15T08:54:03.492Z"
      },
      {
        "duration": 129,
        "start_time": "2023-04-15T08:54:03.510Z"
      },
      {
        "duration": 340,
        "start_time": "2023-04-15T08:54:03.647Z"
      },
      {
        "duration": 13,
        "start_time": "2023-04-15T08:54:03.990Z"
      },
      {
        "duration": 79,
        "start_time": "2023-04-15T08:54:04.006Z"
      },
      {
        "duration": 188,
        "start_time": "2023-04-15T08:54:04.087Z"
      },
      {
        "duration": 14,
        "start_time": "2023-04-15T08:54:04.279Z"
      },
      {
        "duration": 44,
        "start_time": "2023-04-15T08:54:04.295Z"
      },
      {
        "duration": 161,
        "start_time": "2023-04-15T08:54:04.343Z"
      },
      {
        "duration": 5,
        "start_time": "2023-04-15T08:54:04.507Z"
      },
      {
        "duration": 48,
        "start_time": "2023-04-15T08:54:04.514Z"
      },
      {
        "duration": 47,
        "start_time": "2023-04-15T08:54:04.568Z"
      },
      {
        "duration": 15,
        "start_time": "2023-04-15T08:54:04.617Z"
      },
      {
        "duration": 90,
        "start_time": "2023-04-15T08:54:04.634Z"
      },
      {
        "duration": 26,
        "start_time": "2023-04-15T08:54:04.727Z"
      },
      {
        "duration": 74,
        "start_time": "2023-04-15T08:54:04.756Z"
      },
      {
        "duration": 89,
        "start_time": "2023-04-15T08:54:04.833Z"
      },
      {
        "duration": 77,
        "start_time": "2023-04-15T08:54:04.925Z"
      },
      {
        "duration": 79,
        "start_time": "2023-04-15T08:54:05.005Z"
      },
      {
        "duration": 94,
        "start_time": "2023-04-15T08:54:05.087Z"
      },
      {
        "duration": 43,
        "start_time": "2023-04-15T08:54:05.191Z"
      },
      {
        "duration": 68,
        "start_time": "2023-04-15T08:54:05.236Z"
      },
      {
        "duration": 42,
        "start_time": "2023-04-15T08:54:05.307Z"
      },
      {
        "duration": 57,
        "start_time": "2023-04-15T08:54:05.352Z"
      },
      {
        "duration": 67,
        "start_time": "2023-04-15T08:54:05.412Z"
      },
      {
        "duration": 35,
        "start_time": "2023-04-15T08:54:05.552Z"
      },
      {
        "duration": 109,
        "start_time": "2023-04-15T08:54:05.663Z"
      },
      {
        "duration": 50,
        "start_time": "2023-04-15T08:54:05.850Z"
      },
      {
        "duration": 22,
        "start_time": "2023-04-15T08:54:05.903Z"
      },
      {
        "duration": 64,
        "start_time": "2023-04-15T08:54:05.927Z"
      },
      {
        "duration": 15,
        "start_time": "2023-04-15T08:54:05.993Z"
      },
      {
        "duration": 9,
        "start_time": "2023-04-15T08:54:06.010Z"
      },
      {
        "duration": 24,
        "start_time": "2023-04-15T08:54:06.022Z"
      },
      {
        "duration": 61,
        "start_time": "2023-04-15T08:54:06.049Z"
      },
      {
        "duration": 16,
        "start_time": "2023-04-15T08:54:06.112Z"
      },
      {
        "duration": 47,
        "start_time": "2023-04-15T08:54:06.131Z"
      },
      {
        "duration": 21,
        "start_time": "2023-04-15T08:54:06.180Z"
      },
      {
        "duration": 16,
        "start_time": "2023-04-15T08:54:06.203Z"
      },
      {
        "duration": 56,
        "start_time": "2023-04-15T08:54:06.225Z"
      },
      {
        "duration": 48,
        "start_time": "2023-04-15T08:54:06.284Z"
      },
      {
        "duration": 95,
        "start_time": "2023-04-15T08:54:06.335Z"
      },
      {
        "duration": 77,
        "start_time": "2023-04-15T08:54:06.432Z"
      },
      {
        "duration": 16,
        "start_time": "2023-04-15T08:54:06.512Z"
      },
      {
        "duration": 87,
        "start_time": "2023-04-15T08:54:06.532Z"
      },
      {
        "duration": 78,
        "start_time": "2023-04-15T08:54:06.626Z"
      },
      {
        "duration": 128,
        "start_time": "2023-04-15T08:54:06.707Z"
      },
      {
        "duration": 0,
        "start_time": "2023-04-15T08:54:06.839Z"
      },
      {
        "duration": 0,
        "start_time": "2023-04-15T08:54:06.841Z"
      },
      {
        "duration": 0,
        "start_time": "2023-04-15T08:54:06.843Z"
      },
      {
        "duration": 0,
        "start_time": "2023-04-15T08:54:06.844Z"
      },
      {
        "duration": 0,
        "start_time": "2023-04-15T08:54:06.846Z"
      },
      {
        "duration": 0,
        "start_time": "2023-04-15T08:54:06.848Z"
      },
      {
        "duration": 0,
        "start_time": "2023-04-15T08:54:06.849Z"
      },
      {
        "duration": 0,
        "start_time": "2023-04-15T08:54:06.851Z"
      },
      {
        "duration": 0,
        "start_time": "2023-04-15T08:54:06.853Z"
      },
      {
        "duration": 0,
        "start_time": "2023-04-15T08:54:06.856Z"
      },
      {
        "duration": 6,
        "start_time": "2023-04-15T08:54:31.383Z"
      },
      {
        "duration": 10,
        "start_time": "2023-04-15T08:54:42.877Z"
      },
      {
        "duration": 6,
        "start_time": "2023-04-15T08:54:44.230Z"
      },
      {
        "duration": 16,
        "start_time": "2023-04-15T08:54:51.301Z"
      },
      {
        "duration": 17,
        "start_time": "2023-04-15T08:57:26.841Z"
      },
      {
        "duration": 4,
        "start_time": "2023-04-15T08:57:51.833Z"
      },
      {
        "duration": 9,
        "start_time": "2023-04-15T08:58:01.411Z"
      },
      {
        "duration": 5,
        "start_time": "2023-04-15T08:59:22.510Z"
      },
      {
        "duration": 8,
        "start_time": "2023-04-15T08:59:24.040Z"
      },
      {
        "duration": 4,
        "start_time": "2023-04-15T09:05:27.709Z"
      },
      {
        "duration": 9,
        "start_time": "2023-04-15T09:06:18.276Z"
      },
      {
        "duration": 88,
        "start_time": "2023-04-15T09:07:27.903Z"
      },
      {
        "duration": 5,
        "start_time": "2023-04-15T09:14:01.729Z"
      },
      {
        "duration": 115,
        "start_time": "2023-04-15T09:14:05.927Z"
      },
      {
        "duration": 9,
        "start_time": "2023-04-15T09:14:15.406Z"
      },
      {
        "duration": 5,
        "start_time": "2023-04-15T09:14:52.829Z"
      },
      {
        "duration": 4,
        "start_time": "2023-04-15T09:14:53.714Z"
      },
      {
        "duration": 5,
        "start_time": "2023-04-15T09:16:08.123Z"
      },
      {
        "duration": 9,
        "start_time": "2023-04-15T09:16:09.109Z"
      },
      {
        "duration": 1703,
        "start_time": "2023-04-15T17:35:01.526Z"
      },
      {
        "duration": 525,
        "start_time": "2023-04-15T17:35:03.231Z"
      },
      {
        "duration": 15,
        "start_time": "2023-04-15T17:35:03.758Z"
      },
      {
        "duration": 17,
        "start_time": "2023-04-15T17:35:03.775Z"
      },
      {
        "duration": 213,
        "start_time": "2023-04-15T17:35:03.794Z"
      },
      {
        "duration": 9,
        "start_time": "2023-04-15T17:35:04.009Z"
      },
      {
        "duration": 17,
        "start_time": "2023-04-15T17:35:04.020Z"
      },
      {
        "duration": 204,
        "start_time": "2023-04-15T17:35:04.039Z"
      },
      {
        "duration": 11,
        "start_time": "2023-04-15T17:35:04.245Z"
      },
      {
        "duration": 32,
        "start_time": "2023-04-15T17:35:04.258Z"
      },
      {
        "duration": 106,
        "start_time": "2023-04-15T17:35:04.292Z"
      },
      {
        "duration": 12,
        "start_time": "2023-04-15T17:35:04.400Z"
      },
      {
        "duration": 13,
        "start_time": "2023-04-15T17:35:04.413Z"
      },
      {
        "duration": 9,
        "start_time": "2023-04-15T17:35:04.428Z"
      },
      {
        "duration": 10,
        "start_time": "2023-04-15T17:35:04.439Z"
      },
      {
        "duration": 15,
        "start_time": "2023-04-15T17:35:04.451Z"
      },
      {
        "duration": 4,
        "start_time": "2023-04-15T17:35:04.468Z"
      },
      {
        "duration": 7,
        "start_time": "2023-04-15T17:35:04.474Z"
      },
      {
        "duration": 31,
        "start_time": "2023-04-15T17:35:04.483Z"
      },
      {
        "duration": 6,
        "start_time": "2023-04-15T17:35:04.515Z"
      },
      {
        "duration": 6,
        "start_time": "2023-04-15T17:35:04.523Z"
      },
      {
        "duration": 14,
        "start_time": "2023-04-15T17:35:04.531Z"
      },
      {
        "duration": 4,
        "start_time": "2023-04-15T17:35:04.547Z"
      },
      {
        "duration": 15,
        "start_time": "2023-04-15T17:35:04.553Z"
      },
      {
        "duration": 10,
        "start_time": "2023-04-15T17:35:04.570Z"
      },
      {
        "duration": 11,
        "start_time": "2023-04-15T17:35:04.612Z"
      },
      {
        "duration": 5,
        "start_time": "2023-04-15T17:35:04.624Z"
      },
      {
        "duration": 79,
        "start_time": "2023-04-15T17:35:04.634Z"
      },
      {
        "duration": 97,
        "start_time": "2023-04-15T17:35:04.716Z"
      },
      {
        "duration": 96,
        "start_time": "2023-04-15T17:35:04.817Z"
      },
      {
        "duration": 5,
        "start_time": "2023-04-15T17:35:04.915Z"
      },
      {
        "duration": 4,
        "start_time": "2023-04-15T17:35:04.921Z"
      },
      {
        "duration": 5,
        "start_time": "2023-04-15T17:35:04.927Z"
      },
      {
        "duration": 4,
        "start_time": "2023-04-15T17:35:05.012Z"
      },
      {
        "duration": 5,
        "start_time": "2023-04-15T17:35:05.018Z"
      },
      {
        "duration": 9,
        "start_time": "2023-04-15T17:35:05.025Z"
      },
      {
        "duration": 2,
        "start_time": "2023-04-15T17:35:05.036Z"
      },
      {
        "duration": 17,
        "start_time": "2023-04-15T17:35:05.040Z"
      },
      {
        "duration": 5,
        "start_time": "2023-04-15T17:35:05.059Z"
      },
      {
        "duration": 17,
        "start_time": "2023-04-15T17:35:05.065Z"
      },
      {
        "duration": 6,
        "start_time": "2023-04-15T17:35:05.084Z"
      },
      {
        "duration": 4,
        "start_time": "2023-04-15T17:35:05.091Z"
      },
      {
        "duration": 18,
        "start_time": "2023-04-15T17:35:05.096Z"
      },
      {
        "duration": 10,
        "start_time": "2023-04-15T17:35:05.116Z"
      },
      {
        "duration": 16,
        "start_time": "2023-04-15T17:35:05.127Z"
      },
      {
        "duration": 18,
        "start_time": "2023-04-15T17:35:05.145Z"
      },
      {
        "duration": 12,
        "start_time": "2023-04-15T17:35:05.164Z"
      },
      {
        "duration": 11,
        "start_time": "2023-04-15T17:35:05.178Z"
      },
      {
        "duration": 11,
        "start_time": "2023-04-15T17:35:05.191Z"
      },
      {
        "duration": 8,
        "start_time": "2023-04-15T17:35:05.204Z"
      },
      {
        "duration": 8,
        "start_time": "2023-04-15T17:35:05.214Z"
      },
      {
        "duration": 9,
        "start_time": "2023-04-15T17:36:35.710Z"
      },
      {
        "duration": 9,
        "start_time": "2023-04-15T17:36:54.942Z"
      },
      {
        "duration": 386,
        "start_time": "2023-04-15T17:37:40.210Z"
      },
      {
        "duration": 10,
        "start_time": "2023-04-15T17:37:45.723Z"
      },
      {
        "duration": 11,
        "start_time": "2023-04-15T17:38:05.177Z"
      },
      {
        "duration": 9,
        "start_time": "2023-04-15T17:38:22.403Z"
      },
      {
        "duration": 32,
        "start_time": "2023-04-15T17:48:41.647Z"
      },
      {
        "duration": 4580,
        "start_time": "2023-04-15T17:52:48.336Z"
      },
      {
        "duration": 5035,
        "start_time": "2023-04-15T17:55:20.956Z"
      },
      {
        "duration": 5081,
        "start_time": "2023-04-15T17:59:34.399Z"
      },
      {
        "duration": 5124,
        "start_time": "2023-04-15T17:59:59.138Z"
      },
      {
        "duration": 5099,
        "start_time": "2023-04-15T18:00:25.214Z"
      },
      {
        "duration": 4780,
        "start_time": "2023-04-15T18:01:30.035Z"
      },
      {
        "duration": 14979,
        "start_time": "2023-04-15T18:02:36.572Z"
      },
      {
        "duration": 15066,
        "start_time": "2023-04-15T18:09:14.957Z"
      },
      {
        "duration": 5202,
        "start_time": "2023-04-15T18:11:39.821Z"
      },
      {
        "duration": 5056,
        "start_time": "2023-04-15T18:11:51.838Z"
      },
      {
        "duration": 4983,
        "start_time": "2023-04-15T18:12:16.402Z"
      },
      {
        "duration": 4645,
        "start_time": "2023-04-15T18:13:09.252Z"
      },
      {
        "duration": 28,
        "start_time": "2023-04-15T18:14:42.366Z"
      },
      {
        "duration": 3,
        "start_time": "2023-04-15T19:11:39.135Z"
      },
      {
        "duration": 4,
        "start_time": "2023-04-15T19:11:41.774Z"
      },
      {
        "duration": 3,
        "start_time": "2023-04-15T19:11:45.411Z"
      },
      {
        "duration": 3,
        "start_time": "2023-04-15T19:16:52.460Z"
      },
      {
        "duration": 5,
        "start_time": "2023-04-15T19:17:12.219Z"
      },
      {
        "duration": 10,
        "start_time": "2023-04-15T19:17:34.143Z"
      },
      {
        "duration": 3,
        "start_time": "2023-04-15T19:18:43.040Z"
      },
      {
        "duration": 120,
        "start_time": "2023-04-15T19:19:27.278Z"
      },
      {
        "duration": 9,
        "start_time": "2023-04-15T19:20:00.537Z"
      },
      {
        "duration": 124,
        "start_time": "2023-04-15T19:22:34.750Z"
      },
      {
        "duration": 138,
        "start_time": "2023-04-15T19:24:51.785Z"
      },
      {
        "duration": 155,
        "start_time": "2023-04-15T19:25:33.364Z"
      },
      {
        "duration": 171,
        "start_time": "2023-04-15T19:25:56.028Z"
      },
      {
        "duration": 3,
        "start_time": "2023-04-15T19:49:32.934Z"
      },
      {
        "duration": 9,
        "start_time": "2023-04-15T19:49:33.954Z"
      },
      {
        "duration": 2,
        "start_time": "2023-04-15T19:53:14.329Z"
      },
      {
        "duration": 4,
        "start_time": "2023-04-15T19:53:15.022Z"
      },
      {
        "duration": 5,
        "start_time": "2023-04-15T19:53:16.928Z"
      },
      {
        "duration": 3,
        "start_time": "2023-04-15T19:57:36.581Z"
      },
      {
        "duration": 8,
        "start_time": "2023-04-15T19:57:37.481Z"
      },
      {
        "duration": 4,
        "start_time": "2023-04-15T20:10:44.669Z"
      },
      {
        "duration": 140,
        "start_time": "2023-04-15T20:11:34.718Z"
      },
      {
        "duration": 154,
        "start_time": "2023-04-15T20:12:51.952Z"
      },
      {
        "duration": 163,
        "start_time": "2023-04-15T20:14:18.164Z"
      },
      {
        "duration": 140,
        "start_time": "2023-04-15T20:15:13.177Z"
      },
      {
        "duration": 183,
        "start_time": "2023-04-15T20:15:58.669Z"
      },
      {
        "duration": 157,
        "start_time": "2023-04-15T20:16:13.075Z"
      },
      {
        "duration": 357,
        "start_time": "2023-04-15T20:16:32.220Z"
      },
      {
        "duration": 7,
        "start_time": "2023-04-15T20:17:39.875Z"
      },
      {
        "duration": 218,
        "start_time": "2023-04-15T20:18:08.779Z"
      },
      {
        "duration": 175,
        "start_time": "2023-04-15T20:18:27.774Z"
      },
      {
        "duration": 48,
        "start_time": "2023-04-16T07:37:38.236Z"
      },
      {
        "duration": 1670,
        "start_time": "2023-04-16T07:37:53.676Z"
      },
      {
        "duration": 1539,
        "start_time": "2023-04-16T07:37:55.348Z"
      },
      {
        "duration": 22,
        "start_time": "2023-04-16T07:37:56.889Z"
      },
      {
        "duration": 23,
        "start_time": "2023-04-16T07:37:56.913Z"
      },
      {
        "duration": 24,
        "start_time": "2023-04-16T07:37:56.937Z"
      },
      {
        "duration": 44,
        "start_time": "2023-04-16T07:37:56.962Z"
      },
      {
        "duration": 28,
        "start_time": "2023-04-16T07:37:57.008Z"
      },
      {
        "duration": 20,
        "start_time": "2023-04-16T07:37:57.038Z"
      },
      {
        "duration": 117,
        "start_time": "2023-04-16T07:37:57.060Z"
      },
      {
        "duration": 4933,
        "start_time": "2023-04-16T07:37:57.186Z"
      },
      {
        "duration": 5163,
        "start_time": "2023-04-16T07:38:02.121Z"
      },
      {
        "duration": 4839,
        "start_time": "2023-04-16T07:38:07.287Z"
      },
      {
        "duration": 31,
        "start_time": "2023-04-16T07:38:12.128Z"
      },
      {
        "duration": 27,
        "start_time": "2023-04-16T07:38:12.161Z"
      },
      {
        "duration": 5,
        "start_time": "2023-04-16T07:38:12.190Z"
      },
      {
        "duration": 27,
        "start_time": "2023-04-16T07:38:12.197Z"
      },
      {
        "duration": 13,
        "start_time": "2023-04-16T07:38:12.226Z"
      },
      {
        "duration": 15,
        "start_time": "2023-04-16T07:38:12.241Z"
      },
      {
        "duration": 5,
        "start_time": "2023-04-16T07:38:12.257Z"
      },
      {
        "duration": 12,
        "start_time": "2023-04-16T07:38:12.263Z"
      },
      {
        "duration": 21,
        "start_time": "2023-04-16T07:38:12.276Z"
      },
      {
        "duration": 8,
        "start_time": "2023-04-16T07:38:12.299Z"
      },
      {
        "duration": 7,
        "start_time": "2023-04-16T07:38:12.309Z"
      },
      {
        "duration": 18,
        "start_time": "2023-04-16T07:38:12.318Z"
      },
      {
        "duration": 5,
        "start_time": "2023-04-16T07:38:12.337Z"
      },
      {
        "duration": 17,
        "start_time": "2023-04-16T07:38:12.344Z"
      },
      {
        "duration": 29,
        "start_time": "2023-04-16T07:38:12.363Z"
      },
      {
        "duration": 13,
        "start_time": "2023-04-16T07:38:12.396Z"
      },
      {
        "duration": 90,
        "start_time": "2023-04-16T07:38:12.411Z"
      },
      {
        "duration": 112,
        "start_time": "2023-04-16T07:38:12.503Z"
      },
      {
        "duration": 183,
        "start_time": "2023-04-16T07:38:12.617Z"
      },
      {
        "duration": 193,
        "start_time": "2023-04-16T07:38:12.803Z"
      },
      {
        "duration": 10,
        "start_time": "2023-04-16T07:38:12.998Z"
      },
      {
        "duration": 8,
        "start_time": "2023-04-16T07:38:13.011Z"
      },
      {
        "duration": 7,
        "start_time": "2023-04-16T07:38:13.021Z"
      },
      {
        "duration": 12,
        "start_time": "2023-04-16T07:38:13.030Z"
      },
      {
        "duration": 5,
        "start_time": "2023-04-16T07:38:13.043Z"
      },
      {
        "duration": 5,
        "start_time": "2023-04-16T07:38:13.050Z"
      },
      {
        "duration": 8,
        "start_time": "2023-04-16T07:38:13.057Z"
      },
      {
        "duration": 186,
        "start_time": "2023-04-16T07:38:13.067Z"
      },
      {
        "duration": 9,
        "start_time": "2023-04-16T07:38:13.255Z"
      },
      {
        "duration": 17,
        "start_time": "2023-04-16T07:38:13.266Z"
      },
      {
        "duration": 5,
        "start_time": "2023-04-16T07:38:13.289Z"
      },
      {
        "duration": 18,
        "start_time": "2023-04-16T07:38:13.296Z"
      },
      {
        "duration": 13,
        "start_time": "2023-04-16T07:38:13.316Z"
      },
      {
        "duration": 10,
        "start_time": "2023-04-16T07:38:13.330Z"
      },
      {
        "duration": 10,
        "start_time": "2023-04-16T07:38:13.341Z"
      },
      {
        "duration": 11,
        "start_time": "2023-04-16T07:38:13.353Z"
      },
      {
        "duration": 9,
        "start_time": "2023-04-16T07:38:13.366Z"
      },
      {
        "duration": 16,
        "start_time": "2023-04-16T07:38:13.377Z"
      },
      {
        "duration": 11,
        "start_time": "2023-04-16T07:38:13.394Z"
      },
      {
        "duration": 21,
        "start_time": "2023-04-16T07:38:13.407Z"
      },
      {
        "duration": 156,
        "start_time": "2023-04-16T07:38:13.430Z"
      },
      {
        "duration": 12,
        "start_time": "2023-04-16T07:38:13.594Z"
      },
      {
        "duration": 5,
        "start_time": "2023-04-16T07:38:13.608Z"
      },
      {
        "duration": 17,
        "start_time": "2023-04-16T07:38:13.614Z"
      },
      {
        "duration": 27,
        "start_time": "2023-04-16T07:38:13.632Z"
      },
      {
        "duration": 19,
        "start_time": "2023-04-16T07:38:13.661Z"
      },
      {
        "duration": 6,
        "start_time": "2023-04-16T07:56:56.095Z"
      },
      {
        "duration": 85,
        "start_time": "2023-04-17T08:13:55.730Z"
      },
      {
        "duration": 3113,
        "start_time": "2023-04-17T08:14:00.075Z"
      },
      {
        "duration": 1835,
        "start_time": "2023-04-17T08:14:03.191Z"
      },
      {
        "duration": 34,
        "start_time": "2023-04-17T08:14:05.028Z"
      },
      {
        "duration": 19,
        "start_time": "2023-04-17T08:14:05.064Z"
      },
      {
        "duration": 22,
        "start_time": "2023-04-17T08:14:05.088Z"
      },
      {
        "duration": 51,
        "start_time": "2023-04-17T08:14:05.112Z"
      },
      {
        "duration": 19,
        "start_time": "2023-04-17T08:14:05.165Z"
      },
      {
        "duration": 79,
        "start_time": "2023-04-17T08:14:05.185Z"
      },
      {
        "duration": 183,
        "start_time": "2023-04-17T08:14:05.274Z"
      },
      {
        "duration": 8279,
        "start_time": "2023-04-17T08:14:05.468Z"
      },
      {
        "duration": 7873,
        "start_time": "2023-04-17T08:14:13.759Z"
      },
      {
        "duration": 8359,
        "start_time": "2023-04-17T08:14:21.637Z"
      },
      {
        "duration": 63,
        "start_time": "2023-04-17T08:14:30.021Z"
      },
      {
        "duration": 5,
        "start_time": "2023-04-17T08:14:30.088Z"
      },
      {
        "duration": 34,
        "start_time": "2023-04-17T08:14:30.095Z"
      },
      {
        "duration": 39,
        "start_time": "2023-04-17T08:14:30.131Z"
      },
      {
        "duration": 35,
        "start_time": "2023-04-17T08:14:30.172Z"
      },
      {
        "duration": 39,
        "start_time": "2023-04-17T08:14:30.209Z"
      },
      {
        "duration": 40,
        "start_time": "2023-04-17T08:14:30.251Z"
      },
      {
        "duration": 33,
        "start_time": "2023-04-17T08:14:30.293Z"
      },
      {
        "duration": 48,
        "start_time": "2023-04-17T08:14:30.330Z"
      },
      {
        "duration": 67,
        "start_time": "2023-04-17T08:14:30.380Z"
      },
      {
        "duration": 29,
        "start_time": "2023-04-17T08:14:30.449Z"
      },
      {
        "duration": 55,
        "start_time": "2023-04-17T08:14:30.480Z"
      },
      {
        "duration": 16,
        "start_time": "2023-04-17T08:14:30.540Z"
      },
      {
        "duration": 43,
        "start_time": "2023-04-17T08:14:30.558Z"
      },
      {
        "duration": 25,
        "start_time": "2023-04-17T08:14:30.604Z"
      },
      {
        "duration": 45,
        "start_time": "2023-04-17T08:14:30.633Z"
      },
      {
        "duration": 56,
        "start_time": "2023-04-17T08:14:30.680Z"
      },
      {
        "duration": 27,
        "start_time": "2023-04-17T08:14:30.745Z"
      },
      {
        "duration": 35,
        "start_time": "2023-04-17T08:14:30.779Z"
      },
      {
        "duration": 8,
        "start_time": "2023-04-17T08:14:30.829Z"
      },
      {
        "duration": 43,
        "start_time": "2023-04-17T08:14:30.902Z"
      },
      {
        "duration": 32,
        "start_time": "2023-04-17T08:14:30.959Z"
      },
      {
        "duration": 66,
        "start_time": "2023-04-17T08:14:30.993Z"
      },
      {
        "duration": 52,
        "start_time": "2023-04-17T08:14:31.062Z"
      },
      {
        "duration": 50,
        "start_time": "2023-04-17T08:14:31.120Z"
      },
      {
        "duration": 39,
        "start_time": "2023-04-17T08:14:31.172Z"
      },
      {
        "duration": 62,
        "start_time": "2023-04-17T08:14:31.213Z"
      },
      {
        "duration": 283,
        "start_time": "2023-04-17T08:14:31.278Z"
      },
      {
        "duration": 17,
        "start_time": "2023-04-17T08:14:31.566Z"
      },
      {
        "duration": 28,
        "start_time": "2023-04-17T08:14:31.585Z"
      },
      {
        "duration": 42,
        "start_time": "2023-04-17T08:14:31.616Z"
      },
      {
        "duration": 29,
        "start_time": "2023-04-17T08:14:31.660Z"
      },
      {
        "duration": 35,
        "start_time": "2023-04-17T08:14:31.691Z"
      },
      {
        "duration": 43,
        "start_time": "2023-04-17T08:14:31.728Z"
      },
      {
        "duration": 37,
        "start_time": "2023-04-17T08:14:31.774Z"
      },
      {
        "duration": 49,
        "start_time": "2023-04-17T08:14:31.813Z"
      },
      {
        "duration": 47,
        "start_time": "2023-04-17T08:14:31.864Z"
      },
      {
        "duration": 26,
        "start_time": "2023-04-17T08:14:31.916Z"
      },
      {
        "duration": 34,
        "start_time": "2023-04-17T08:14:31.944Z"
      },
      {
        "duration": 27,
        "start_time": "2023-04-17T08:14:31.980Z"
      },
      {
        "duration": 295,
        "start_time": "2023-04-17T08:14:32.009Z"
      },
      {
        "duration": 15,
        "start_time": "2023-04-17T08:14:32.306Z"
      },
      {
        "duration": 35,
        "start_time": "2023-04-17T08:14:32.323Z"
      },
      {
        "duration": 54,
        "start_time": "2023-04-17T08:14:32.360Z"
      },
      {
        "duration": 23,
        "start_time": "2023-04-17T08:14:32.423Z"
      },
      {
        "duration": 16,
        "start_time": "2023-04-17T08:14:32.449Z"
      },
      {
        "duration": 183,
        "start_time": "2023-04-17T08:14:32.467Z"
      },
      {
        "duration": 1,
        "start_time": "2023-04-17T08:14:32.652Z"
      },
      {
        "duration": 4,
        "start_time": "2023-04-17T08:15:35.815Z"
      },
      {
        "duration": 4,
        "start_time": "2023-04-17T08:15:49.776Z"
      },
      {
        "duration": 113,
        "start_time": "2023-04-17T08:16:28.939Z"
      },
      {
        "duration": 14,
        "start_time": "2023-04-17T08:20:33.046Z"
      },
      {
        "duration": 8,
        "start_time": "2023-04-17T08:20:38.278Z"
      },
      {
        "duration": 7,
        "start_time": "2023-04-17T08:21:14.965Z"
      },
      {
        "duration": 2000,
        "start_time": "2023-04-17T08:21:42.675Z"
      },
      {
        "duration": 1851,
        "start_time": "2023-04-17T08:21:44.679Z"
      },
      {
        "duration": 21,
        "start_time": "2023-04-17T08:21:46.532Z"
      },
      {
        "duration": 20,
        "start_time": "2023-04-17T08:21:46.555Z"
      },
      {
        "duration": 12,
        "start_time": "2023-04-17T08:21:46.579Z"
      },
      {
        "duration": 45,
        "start_time": "2023-04-17T08:21:46.593Z"
      },
      {
        "duration": 33,
        "start_time": "2023-04-17T08:21:46.643Z"
      },
      {
        "duration": 30,
        "start_time": "2023-04-17T08:21:46.679Z"
      },
      {
        "duration": 166,
        "start_time": "2023-04-17T08:21:46.713Z"
      },
      {
        "duration": 8347,
        "start_time": "2023-04-17T08:21:46.882Z"
      },
      {
        "duration": 8101,
        "start_time": "2023-04-17T08:21:55.231Z"
      },
      {
        "duration": 9400,
        "start_time": "2023-04-17T08:22:03.335Z"
      },
      {
        "duration": 45,
        "start_time": "2023-04-17T08:22:12.738Z"
      },
      {
        "duration": 10,
        "start_time": "2023-04-17T08:22:12.785Z"
      },
      {
        "duration": 30,
        "start_time": "2023-04-17T08:22:12.798Z"
      },
      {
        "duration": 25,
        "start_time": "2023-04-17T08:22:12.830Z"
      },
      {
        "duration": 8,
        "start_time": "2023-04-17T08:22:12.858Z"
      },
      {
        "duration": 31,
        "start_time": "2023-04-17T08:22:12.868Z"
      },
      {
        "duration": 15,
        "start_time": "2023-04-17T08:22:12.903Z"
      },
      {
        "duration": 7,
        "start_time": "2023-04-17T08:22:12.922Z"
      },
      {
        "duration": 33,
        "start_time": "2023-04-17T08:22:12.933Z"
      },
      {
        "duration": 12,
        "start_time": "2023-04-17T08:22:12.968Z"
      },
      {
        "duration": 10,
        "start_time": "2023-04-17T08:22:12.982Z"
      },
      {
        "duration": 35,
        "start_time": "2023-04-17T08:22:12.994Z"
      },
      {
        "duration": 12,
        "start_time": "2023-04-17T08:22:13.035Z"
      },
      {
        "duration": 26,
        "start_time": "2023-04-17T08:22:13.051Z"
      },
      {
        "duration": 16,
        "start_time": "2023-04-17T08:22:13.079Z"
      },
      {
        "duration": 15,
        "start_time": "2023-04-17T08:22:13.103Z"
      },
      {
        "duration": 11,
        "start_time": "2023-04-17T08:22:13.120Z"
      },
      {
        "duration": 35,
        "start_time": "2023-04-17T08:22:13.134Z"
      },
      {
        "duration": 26,
        "start_time": "2023-04-17T08:22:13.200Z"
      },
      {
        "duration": 59,
        "start_time": "2023-04-17T08:22:13.238Z"
      },
      {
        "duration": 17,
        "start_time": "2023-04-17T08:22:13.299Z"
      },
      {
        "duration": 21,
        "start_time": "2023-04-17T08:22:13.339Z"
      },
      {
        "duration": 10,
        "start_time": "2023-04-17T08:22:13.377Z"
      },
      {
        "duration": 18,
        "start_time": "2023-04-17T08:22:13.389Z"
      },
      {
        "duration": 13,
        "start_time": "2023-04-17T08:22:13.409Z"
      },
      {
        "duration": 12,
        "start_time": "2023-04-17T08:22:13.424Z"
      },
      {
        "duration": 9,
        "start_time": "2023-04-17T08:22:13.439Z"
      },
      {
        "duration": 243,
        "start_time": "2023-04-17T08:22:13.450Z"
      },
      {
        "duration": 17,
        "start_time": "2023-04-17T08:22:13.702Z"
      },
      {
        "duration": 10,
        "start_time": "2023-04-17T08:22:13.721Z"
      },
      {
        "duration": 21,
        "start_time": "2023-04-17T08:22:13.733Z"
      },
      {
        "duration": 27,
        "start_time": "2023-04-17T08:22:13.757Z"
      },
      {
        "duration": 4,
        "start_time": "2023-04-17T08:22:13.787Z"
      },
      {
        "duration": 18,
        "start_time": "2023-04-17T08:22:13.797Z"
      },
      {
        "duration": 16,
        "start_time": "2023-04-17T08:22:13.817Z"
      },
      {
        "duration": 15,
        "start_time": "2023-04-17T08:22:13.835Z"
      },
      {
        "duration": 21,
        "start_time": "2023-04-17T08:22:13.852Z"
      },
      {
        "duration": 5,
        "start_time": "2023-04-17T08:22:13.882Z"
      },
      {
        "duration": 7,
        "start_time": "2023-04-17T08:22:13.889Z"
      },
      {
        "duration": 6,
        "start_time": "2023-04-17T08:22:13.898Z"
      },
      {
        "duration": 223,
        "start_time": "2023-04-17T08:22:13.906Z"
      },
      {
        "duration": 8,
        "start_time": "2023-04-17T08:22:14.134Z"
      },
      {
        "duration": 19,
        "start_time": "2023-04-17T08:22:14.144Z"
      },
      {
        "duration": 15,
        "start_time": "2023-04-17T08:22:14.169Z"
      },
      {
        "duration": 25,
        "start_time": "2023-04-17T08:22:14.186Z"
      },
      {
        "duration": 11,
        "start_time": "2023-04-17T08:22:14.212Z"
      },
      {
        "duration": 11,
        "start_time": "2023-04-17T08:22:14.225Z"
      },
      {
        "duration": 2483,
        "start_time": "2023-04-17T08:22:14.240Z"
      },
      {
        "duration": 1612,
        "start_time": "2023-04-18T06:52:14.848Z"
      },
      {
        "duration": 769,
        "start_time": "2023-04-18T06:52:16.463Z"
      },
      {
        "duration": 12,
        "start_time": "2023-04-18T06:52:17.233Z"
      },
      {
        "duration": 53,
        "start_time": "2023-04-18T06:52:17.247Z"
      },
      {
        "duration": 25,
        "start_time": "2023-04-18T06:52:17.302Z"
      },
      {
        "duration": 27,
        "start_time": "2023-04-18T06:52:17.329Z"
      },
      {
        "duration": 12,
        "start_time": "2023-04-18T06:52:17.358Z"
      },
      {
        "duration": 44,
        "start_time": "2023-04-18T06:52:17.371Z"
      },
      {
        "duration": 90,
        "start_time": "2023-04-18T06:52:17.418Z"
      },
      {
        "duration": 4843,
        "start_time": "2023-04-18T06:52:17.512Z"
      },
      {
        "duration": 4692,
        "start_time": "2023-04-18T06:52:22.356Z"
      },
      {
        "duration": 4889,
        "start_time": "2023-04-18T06:52:27.050Z"
      },
      {
        "duration": 43,
        "start_time": "2023-04-18T06:52:31.941Z"
      },
      {
        "duration": 38,
        "start_time": "2023-04-18T06:52:31.985Z"
      },
      {
        "duration": 172,
        "start_time": "2023-04-18T06:52:32.024Z"
      },
      {
        "duration": 15,
        "start_time": "2023-04-18T06:52:32.197Z"
      },
      {
        "duration": 34,
        "start_time": "2023-04-18T06:52:32.213Z"
      },
      {
        "duration": 33,
        "start_time": "2023-04-18T06:52:32.249Z"
      },
      {
        "duration": 28,
        "start_time": "2023-04-18T06:52:32.284Z"
      },
      {
        "duration": 10,
        "start_time": "2023-04-18T06:52:32.313Z"
      },
      {
        "duration": 27,
        "start_time": "2023-04-18T06:52:32.324Z"
      },
      {
        "duration": 15,
        "start_time": "2023-04-18T06:52:32.353Z"
      },
      {
        "duration": 23,
        "start_time": "2023-04-18T06:52:32.369Z"
      },
      {
        "duration": 24,
        "start_time": "2023-04-18T06:52:32.394Z"
      },
      {
        "duration": 17,
        "start_time": "2023-04-18T06:52:32.420Z"
      },
      {
        "duration": 24,
        "start_time": "2023-04-18T06:52:32.438Z"
      },
      {
        "duration": 19,
        "start_time": "2023-04-18T06:52:32.464Z"
      },
      {
        "duration": 10,
        "start_time": "2023-04-18T06:52:32.487Z"
      },
      {
        "duration": 13,
        "start_time": "2023-04-18T06:52:32.498Z"
      },
      {
        "duration": 176,
        "start_time": "2023-04-18T06:52:32.512Z"
      },
      {
        "duration": 94,
        "start_time": "2023-04-18T06:52:32.690Z"
      },
      {
        "duration": 3,
        "start_time": "2023-04-18T06:52:32.786Z"
      },
      {
        "duration": 101,
        "start_time": "2023-04-18T06:52:32.791Z"
      },
      {
        "duration": 122,
        "start_time": "2023-04-18T06:52:32.896Z"
      },
      {
        "duration": 31,
        "start_time": "2023-04-18T06:52:33.019Z"
      },
      {
        "duration": 40,
        "start_time": "2023-04-18T06:52:33.052Z"
      },
      {
        "duration": 25,
        "start_time": "2023-04-18T06:52:33.094Z"
      },
      {
        "duration": 21,
        "start_time": "2023-04-18T06:52:33.121Z"
      },
      {
        "duration": 22,
        "start_time": "2023-04-18T06:52:33.144Z"
      },
      {
        "duration": 176,
        "start_time": "2023-04-18T06:52:33.168Z"
      },
      {
        "duration": 8,
        "start_time": "2023-04-18T06:52:33.346Z"
      },
      {
        "duration": 10,
        "start_time": "2023-04-18T06:52:33.355Z"
      },
      {
        "duration": 16,
        "start_time": "2023-04-18T06:52:33.366Z"
      },
      {
        "duration": 15,
        "start_time": "2023-04-18T06:52:33.384Z"
      },
      {
        "duration": 16,
        "start_time": "2023-04-18T06:52:33.401Z"
      },
      {
        "duration": 11,
        "start_time": "2023-04-18T06:52:33.418Z"
      },
      {
        "duration": 31,
        "start_time": "2023-04-18T06:52:33.430Z"
      },
      {
        "duration": 25,
        "start_time": "2023-04-18T06:52:33.463Z"
      },
      {
        "duration": 5,
        "start_time": "2023-04-18T06:52:33.490Z"
      },
      {
        "duration": 11,
        "start_time": "2023-04-18T06:52:33.497Z"
      },
      {
        "duration": 13,
        "start_time": "2023-04-18T06:52:33.509Z"
      },
      {
        "duration": 23,
        "start_time": "2023-04-18T06:52:33.523Z"
      },
      {
        "duration": 137,
        "start_time": "2023-04-18T06:52:33.547Z"
      },
      {
        "duration": 7,
        "start_time": "2023-04-18T06:52:33.686Z"
      },
      {
        "duration": 6,
        "start_time": "2023-04-18T06:52:33.694Z"
      },
      {
        "duration": 138,
        "start_time": "2023-04-18T06:52:33.701Z"
      },
      {
        "duration": 0,
        "start_time": "2023-04-18T06:52:33.841Z"
      },
      {
        "duration": 0,
        "start_time": "2023-04-18T06:52:33.842Z"
      },
      {
        "duration": 0,
        "start_time": "2023-04-18T06:52:33.843Z"
      },
      {
        "duration": 0,
        "start_time": "2023-04-18T06:52:33.844Z"
      },
      {
        "duration": 0,
        "start_time": "2023-04-18T06:52:33.845Z"
      },
      {
        "duration": 4,
        "start_time": "2023-04-18T06:53:39.977Z"
      },
      {
        "duration": 18,
        "start_time": "2023-04-18T06:54:59.208Z"
      },
      {
        "duration": 3,
        "start_time": "2023-04-18T06:56:55.229Z"
      },
      {
        "duration": 18,
        "start_time": "2023-04-18T06:56:59.175Z"
      },
      {
        "duration": 4,
        "start_time": "2023-04-18T06:57:32.726Z"
      },
      {
        "duration": 19,
        "start_time": "2023-04-18T06:57:34.166Z"
      },
      {
        "duration": 3,
        "start_time": "2023-04-18T06:58:25.561Z"
      },
      {
        "duration": 16,
        "start_time": "2023-04-18T06:58:26.636Z"
      },
      {
        "duration": 3,
        "start_time": "2023-04-18T06:59:03.876Z"
      },
      {
        "duration": 16,
        "start_time": "2023-04-18T06:59:06.620Z"
      },
      {
        "duration": 2241,
        "start_time": "2023-04-18T07:00:05.007Z"
      },
      {
        "duration": 355,
        "start_time": "2023-04-18T07:00:07.249Z"
      },
      {
        "duration": 12,
        "start_time": "2023-04-18T07:00:07.605Z"
      },
      {
        "duration": 8,
        "start_time": "2023-04-18T07:00:07.619Z"
      },
      {
        "duration": 27,
        "start_time": "2023-04-18T07:00:07.629Z"
      },
      {
        "duration": 47,
        "start_time": "2023-04-18T07:00:07.657Z"
      },
      {
        "duration": 12,
        "start_time": "2023-04-18T07:00:07.705Z"
      },
      {
        "duration": 12,
        "start_time": "2023-04-18T07:00:07.719Z"
      },
      {
        "duration": 91,
        "start_time": "2023-04-18T07:00:07.733Z"
      },
      {
        "duration": 4837,
        "start_time": "2023-04-18T07:00:07.826Z"
      },
      {
        "duration": 4842,
        "start_time": "2023-04-18T07:00:12.665Z"
      },
      {
        "duration": 4439,
        "start_time": "2023-04-18T07:00:17.509Z"
      },
      {
        "duration": 38,
        "start_time": "2023-04-18T07:00:21.950Z"
      },
      {
        "duration": 3,
        "start_time": "2023-04-18T07:00:21.991Z"
      },
      {
        "duration": 14,
        "start_time": "2023-04-18T07:00:21.995Z"
      },
      {
        "duration": 10,
        "start_time": "2023-04-18T07:00:22.010Z"
      },
      {
        "duration": 10,
        "start_time": "2023-04-18T07:00:22.021Z"
      },
      {
        "duration": 16,
        "start_time": "2023-04-18T07:00:22.032Z"
      },
      {
        "duration": 8,
        "start_time": "2023-04-18T07:00:22.049Z"
      },
      {
        "duration": 6,
        "start_time": "2023-04-18T07:00:22.058Z"
      },
      {
        "duration": 26,
        "start_time": "2023-04-18T07:00:22.066Z"
      },
      {
        "duration": 5,
        "start_time": "2023-04-18T07:00:22.094Z"
      },
      {
        "duration": 6,
        "start_time": "2023-04-18T07:00:22.100Z"
      },
      {
        "duration": 11,
        "start_time": "2023-04-18T07:00:22.108Z"
      },
      {
        "duration": 3,
        "start_time": "2023-04-18T07:00:22.121Z"
      },
      {
        "duration": 11,
        "start_time": "2023-04-18T07:00:22.126Z"
      },
      {
        "duration": 19,
        "start_time": "2023-04-18T07:00:22.138Z"
      },
      {
        "duration": 20,
        "start_time": "2023-04-18T07:00:22.158Z"
      },
      {
        "duration": 39,
        "start_time": "2023-04-18T07:00:22.179Z"
      },
      {
        "duration": 177,
        "start_time": "2023-04-18T07:00:22.219Z"
      },
      {
        "duration": 79,
        "start_time": "2023-04-18T07:00:22.397Z"
      },
      {
        "duration": 93,
        "start_time": "2023-04-18T07:00:22.481Z"
      },
      {
        "duration": 93,
        "start_time": "2023-04-18T07:00:22.579Z"
      },
      {
        "duration": 27,
        "start_time": "2023-04-18T07:00:22.674Z"
      },
      {
        "duration": 8,
        "start_time": "2023-04-18T07:00:22.703Z"
      },
      {
        "duration": 5,
        "start_time": "2023-04-18T07:00:22.713Z"
      },
      {
        "duration": 5,
        "start_time": "2023-04-18T07:00:22.719Z"
      },
      {
        "duration": 4,
        "start_time": "2023-04-18T07:00:22.725Z"
      },
      {
        "duration": 10,
        "start_time": "2023-04-18T07:00:22.731Z"
      },
      {
        "duration": 133,
        "start_time": "2023-04-18T07:00:22.743Z"
      },
      {
        "duration": 7,
        "start_time": "2023-04-18T07:00:22.880Z"
      },
      {
        "duration": 6,
        "start_time": "2023-04-18T07:00:22.888Z"
      },
      {
        "duration": 11,
        "start_time": "2023-04-18T07:00:22.896Z"
      },
      {
        "duration": 8,
        "start_time": "2023-04-18T07:00:22.909Z"
      },
      {
        "duration": 10,
        "start_time": "2023-04-18T07:00:22.919Z"
      },
      {
        "duration": 8,
        "start_time": "2023-04-18T07:00:22.930Z"
      },
      {
        "duration": 5,
        "start_time": "2023-04-18T07:00:22.939Z"
      },
      {
        "duration": 15,
        "start_time": "2023-04-18T07:00:22.945Z"
      },
      {
        "duration": 5,
        "start_time": "2023-04-18T07:00:22.961Z"
      },
      {
        "duration": 8,
        "start_time": "2023-04-18T07:00:22.967Z"
      },
      {
        "duration": 11,
        "start_time": "2023-04-18T07:00:22.976Z"
      },
      {
        "duration": 7,
        "start_time": "2023-04-18T07:00:22.989Z"
      },
      {
        "duration": 143,
        "start_time": "2023-04-18T07:00:22.998Z"
      },
      {
        "duration": 6,
        "start_time": "2023-04-18T07:00:23.143Z"
      },
      {
        "duration": 24,
        "start_time": "2023-04-18T07:00:23.151Z"
      },
      {
        "duration": 13,
        "start_time": "2023-04-18T07:00:23.177Z"
      },
      {
        "duration": 119,
        "start_time": "2023-04-18T07:00:23.192Z"
      },
      {
        "duration": 0,
        "start_time": "2023-04-18T07:00:23.313Z"
      },
      {
        "duration": 0,
        "start_time": "2023-04-18T07:00:23.314Z"
      },
      {
        "duration": 0,
        "start_time": "2023-04-18T07:00:23.315Z"
      },
      {
        "duration": 0,
        "start_time": "2023-04-18T07:00:23.316Z"
      },
      {
        "duration": 0,
        "start_time": "2023-04-18T07:00:23.318Z"
      },
      {
        "duration": 3,
        "start_time": "2023-04-18T07:01:16.277Z"
      },
      {
        "duration": 4,
        "start_time": "2023-04-18T07:06:41.015Z"
      },
      {
        "duration": 15,
        "start_time": "2023-04-18T07:06:42.028Z"
      },
      {
        "duration": 22,
        "start_time": "2023-04-18T07:06:46.368Z"
      },
      {
        "duration": 20,
        "start_time": "2023-04-18T07:06:49.861Z"
      },
      {
        "duration": 1206,
        "start_time": "2023-04-18T07:07:03.314Z"
      },
      {
        "duration": 335,
        "start_time": "2023-04-18T07:07:04.522Z"
      },
      {
        "duration": 14,
        "start_time": "2023-04-18T07:07:04.859Z"
      },
      {
        "duration": 10,
        "start_time": "2023-04-18T07:07:04.874Z"
      },
      {
        "duration": 13,
        "start_time": "2023-04-18T07:07:04.887Z"
      },
      {
        "duration": 16,
        "start_time": "2023-04-18T07:07:04.902Z"
      },
      {
        "duration": 13,
        "start_time": "2023-04-18T07:07:04.920Z"
      },
      {
        "duration": 37,
        "start_time": "2023-04-18T07:07:04.935Z"
      },
      {
        "duration": 82,
        "start_time": "2023-04-18T07:07:04.973Z"
      },
      {
        "duration": 4882,
        "start_time": "2023-04-18T07:07:05.057Z"
      },
      {
        "duration": 4826,
        "start_time": "2023-04-18T07:07:09.940Z"
      },
      {
        "duration": 4901,
        "start_time": "2023-04-18T07:07:14.769Z"
      },
      {
        "duration": 28,
        "start_time": "2023-04-18T07:07:19.672Z"
      },
      {
        "duration": 3,
        "start_time": "2023-04-18T07:07:19.704Z"
      },
      {
        "duration": 14,
        "start_time": "2023-04-18T07:07:19.709Z"
      },
      {
        "duration": 15,
        "start_time": "2023-04-18T07:07:19.724Z"
      },
      {
        "duration": 19,
        "start_time": "2023-04-18T07:07:19.741Z"
      },
      {
        "duration": 51,
        "start_time": "2023-04-18T07:07:19.762Z"
      },
      {
        "duration": 12,
        "start_time": "2023-04-18T07:07:19.814Z"
      },
      {
        "duration": 19,
        "start_time": "2023-04-18T07:07:19.827Z"
      },
      {
        "duration": 42,
        "start_time": "2023-04-18T07:07:19.848Z"
      },
      {
        "duration": 15,
        "start_time": "2023-04-18T07:07:19.892Z"
      },
      {
        "duration": 14,
        "start_time": "2023-04-18T07:07:19.908Z"
      },
      {
        "duration": 15,
        "start_time": "2023-04-18T07:07:19.924Z"
      },
      {
        "duration": 10,
        "start_time": "2023-04-18T07:07:19.941Z"
      },
      {
        "duration": 28,
        "start_time": "2023-04-18T07:07:19.953Z"
      },
      {
        "duration": 12,
        "start_time": "2023-04-18T07:07:19.983Z"
      },
      {
        "duration": 10,
        "start_time": "2023-04-18T07:07:19.997Z"
      },
      {
        "duration": 25,
        "start_time": "2023-04-18T07:07:20.008Z"
      },
      {
        "duration": 47,
        "start_time": "2023-04-18T07:07:20.034Z"
      },
      {
        "duration": 192,
        "start_time": "2023-04-18T07:07:20.083Z"
      },
      {
        "duration": 96,
        "start_time": "2023-04-18T07:07:20.277Z"
      },
      {
        "duration": 97,
        "start_time": "2023-04-18T07:07:20.376Z"
      },
      {
        "duration": 10,
        "start_time": "2023-04-18T07:07:20.474Z"
      },
      {
        "duration": 24,
        "start_time": "2023-04-18T07:07:20.486Z"
      },
      {
        "duration": 10,
        "start_time": "2023-04-18T07:07:20.511Z"
      },
      {
        "duration": 11,
        "start_time": "2023-04-18T07:07:20.522Z"
      },
      {
        "duration": 25,
        "start_time": "2023-04-18T07:07:20.535Z"
      },
      {
        "duration": 24,
        "start_time": "2023-04-18T07:07:20.561Z"
      },
      {
        "duration": 132,
        "start_time": "2023-04-18T07:07:20.587Z"
      },
      {
        "duration": 6,
        "start_time": "2023-04-18T07:07:20.724Z"
      },
      {
        "duration": 25,
        "start_time": "2023-04-18T07:07:20.732Z"
      },
      {
        "duration": 20,
        "start_time": "2023-04-18T07:07:20.759Z"
      },
      {
        "duration": 8,
        "start_time": "2023-04-18T07:07:20.780Z"
      },
      {
        "duration": 15,
        "start_time": "2023-04-18T07:07:20.789Z"
      },
      {
        "duration": 13,
        "start_time": "2023-04-18T07:07:20.805Z"
      },
      {
        "duration": 16,
        "start_time": "2023-04-18T07:07:20.820Z"
      },
      {
        "duration": 19,
        "start_time": "2023-04-18T07:07:20.837Z"
      },
      {
        "duration": 24,
        "start_time": "2023-04-18T07:07:20.858Z"
      },
      {
        "duration": 7,
        "start_time": "2023-04-18T07:07:20.883Z"
      },
      {
        "duration": 16,
        "start_time": "2023-04-18T07:07:20.891Z"
      },
      {
        "duration": 19,
        "start_time": "2023-04-18T07:07:20.908Z"
      },
      {
        "duration": 137,
        "start_time": "2023-04-18T07:07:20.929Z"
      },
      {
        "duration": 9,
        "start_time": "2023-04-18T07:07:21.068Z"
      },
      {
        "duration": 13,
        "start_time": "2023-04-18T07:07:21.079Z"
      },
      {
        "duration": 24,
        "start_time": "2023-04-18T07:07:21.094Z"
      },
      {
        "duration": 17,
        "start_time": "2023-04-18T07:07:21.119Z"
      },
      {
        "duration": 9,
        "start_time": "2023-04-18T07:07:21.137Z"
      },
      {
        "duration": 112,
        "start_time": "2023-04-18T07:07:21.149Z"
      },
      {
        "duration": 0,
        "start_time": "2023-04-18T07:07:21.262Z"
      },
      {
        "duration": 0,
        "start_time": "2023-04-18T07:07:21.263Z"
      },
      {
        "duration": 0,
        "start_time": "2023-04-18T07:07:21.265Z"
      },
      {
        "duration": 0,
        "start_time": "2023-04-18T07:07:21.269Z"
      },
      {
        "duration": 4,
        "start_time": "2023-04-18T07:14:11.622Z"
      },
      {
        "duration": 4,
        "start_time": "2023-04-18T07:14:41.013Z"
      },
      {
        "duration": 10,
        "start_time": "2023-04-18T07:21:02.646Z"
      },
      {
        "duration": 3,
        "start_time": "2023-04-18T07:21:27.311Z"
      },
      {
        "duration": 51,
        "start_time": "2023-04-18T07:31:24.406Z"
      },
      {
        "duration": 1397,
        "start_time": "2023-04-18T07:31:50.848Z"
      },
      {
        "duration": 667,
        "start_time": "2023-04-18T07:31:52.246Z"
      },
      {
        "duration": 15,
        "start_time": "2023-04-18T07:31:52.915Z"
      },
      {
        "duration": 11,
        "start_time": "2023-04-18T07:31:52.933Z"
      },
      {
        "duration": 29,
        "start_time": "2023-04-18T07:31:52.946Z"
      },
      {
        "duration": 35,
        "start_time": "2023-04-18T07:31:52.977Z"
      },
      {
        "duration": 12,
        "start_time": "2023-04-18T07:31:53.013Z"
      },
      {
        "duration": 12,
        "start_time": "2023-04-18T07:31:53.027Z"
      },
      {
        "duration": 91,
        "start_time": "2023-04-18T07:31:53.041Z"
      },
      {
        "duration": 4612,
        "start_time": "2023-04-18T07:31:53.135Z"
      },
      {
        "duration": 4378,
        "start_time": "2023-04-18T07:31:57.748Z"
      },
      {
        "duration": 4717,
        "start_time": "2023-04-18T07:32:02.128Z"
      },
      {
        "duration": 38,
        "start_time": "2023-04-18T07:32:06.847Z"
      },
      {
        "duration": 4,
        "start_time": "2023-04-18T07:32:06.886Z"
      },
      {
        "duration": 25,
        "start_time": "2023-04-18T07:32:06.891Z"
      },
      {
        "duration": 36,
        "start_time": "2023-04-18T07:32:06.917Z"
      },
      {
        "duration": 17,
        "start_time": "2023-04-18T07:32:06.954Z"
      },
      {
        "duration": 32,
        "start_time": "2023-04-18T07:32:06.973Z"
      },
      {
        "duration": 20,
        "start_time": "2023-04-18T07:32:07.006Z"
      },
      {
        "duration": 48,
        "start_time": "2023-04-18T07:32:07.027Z"
      },
      {
        "duration": 20,
        "start_time": "2023-04-18T07:32:07.077Z"
      },
      {
        "duration": 13,
        "start_time": "2023-04-18T07:32:07.098Z"
      },
      {
        "duration": 9,
        "start_time": "2023-04-18T07:32:07.113Z"
      },
      {
        "duration": 18,
        "start_time": "2023-04-18T07:32:07.124Z"
      },
      {
        "duration": 19,
        "start_time": "2023-04-18T07:32:07.143Z"
      },
      {
        "duration": 15,
        "start_time": "2023-04-18T07:32:07.164Z"
      },
      {
        "duration": 20,
        "start_time": "2023-04-18T07:32:07.180Z"
      },
      {
        "duration": 19,
        "start_time": "2023-04-18T07:32:07.204Z"
      },
      {
        "duration": 10,
        "start_time": "2023-04-18T07:32:07.225Z"
      },
      {
        "duration": 48,
        "start_time": "2023-04-18T07:32:07.236Z"
      },
      {
        "duration": 110,
        "start_time": "2023-04-18T07:32:07.371Z"
      },
      {
        "duration": 195,
        "start_time": "2023-04-18T07:32:07.483Z"
      },
      {
        "duration": 15,
        "start_time": "2023-04-18T07:32:07.680Z"
      },
      {
        "duration": 10,
        "start_time": "2023-04-18T07:32:07.696Z"
      },
      {
        "duration": 5,
        "start_time": "2023-04-18T07:32:07.707Z"
      },
      {
        "duration": 13,
        "start_time": "2023-04-18T07:32:07.714Z"
      },
      {
        "duration": 16,
        "start_time": "2023-04-18T07:32:07.728Z"
      },
      {
        "duration": 13,
        "start_time": "2023-04-18T07:32:07.745Z"
      },
      {
        "duration": 15,
        "start_time": "2023-04-18T07:32:07.760Z"
      },
      {
        "duration": 212,
        "start_time": "2023-04-18T07:32:07.777Z"
      },
      {
        "duration": 8,
        "start_time": "2023-04-18T07:32:07.990Z"
      },
      {
        "duration": 5,
        "start_time": "2023-04-18T07:32:07.999Z"
      },
      {
        "duration": 12,
        "start_time": "2023-04-18T07:32:08.005Z"
      },
      {
        "duration": 21,
        "start_time": "2023-04-18T07:32:08.019Z"
      },
      {
        "duration": 8,
        "start_time": "2023-04-18T07:32:08.042Z"
      },
      {
        "duration": 32,
        "start_time": "2023-04-18T07:32:08.052Z"
      },
      {
        "duration": 11,
        "start_time": "2023-04-18T07:32:08.086Z"
      },
      {
        "duration": 13,
        "start_time": "2023-04-18T07:32:08.098Z"
      },
      {
        "duration": 20,
        "start_time": "2023-04-18T07:32:08.113Z"
      },
      {
        "duration": 14,
        "start_time": "2023-04-18T07:32:08.134Z"
      },
      {
        "duration": 16,
        "start_time": "2023-04-18T07:32:08.150Z"
      },
      {
        "duration": 12,
        "start_time": "2023-04-18T07:32:08.168Z"
      },
      {
        "duration": 120,
        "start_time": "2023-04-18T07:32:08.181Z"
      },
      {
        "duration": 7,
        "start_time": "2023-04-18T07:32:08.303Z"
      },
      {
        "duration": 15,
        "start_time": "2023-04-18T07:32:08.312Z"
      },
      {
        "duration": 42,
        "start_time": "2023-04-18T07:32:08.328Z"
      },
      {
        "duration": 10,
        "start_time": "2023-04-18T07:32:08.372Z"
      },
      {
        "duration": 7,
        "start_time": "2023-04-18T07:32:08.384Z"
      },
      {
        "duration": 4,
        "start_time": "2023-04-18T07:32:08.393Z"
      },
      {
        "duration": 7,
        "start_time": "2023-04-18T07:32:08.398Z"
      },
      {
        "duration": 96,
        "start_time": "2023-04-18T07:32:08.407Z"
      },
      {
        "duration": 0,
        "start_time": "2023-04-18T07:32:08.505Z"
      },
      {
        "duration": 114,
        "start_time": "2023-04-18T07:32:14.659Z"
      },
      {
        "duration": 10,
        "start_time": "2023-04-18T07:32:33.668Z"
      },
      {
        "duration": 1602,
        "start_time": "2023-04-18T07:40:59.154Z"
      },
      {
        "duration": 346,
        "start_time": "2023-04-18T07:41:00.758Z"
      },
      {
        "duration": 16,
        "start_time": "2023-04-18T07:41:01.106Z"
      },
      {
        "duration": 73,
        "start_time": "2023-04-18T07:41:01.125Z"
      },
      {
        "duration": 88,
        "start_time": "2023-04-18T07:41:01.200Z"
      },
      {
        "duration": 151,
        "start_time": "2023-04-18T07:41:01.289Z"
      },
      {
        "duration": 116,
        "start_time": "2023-04-18T07:41:01.441Z"
      },
      {
        "duration": 134,
        "start_time": "2023-04-18T07:41:01.559Z"
      },
      {
        "duration": 224,
        "start_time": "2023-04-18T07:41:01.695Z"
      },
      {
        "duration": 5049,
        "start_time": "2023-04-18T07:41:01.922Z"
      },
      {
        "duration": 4824,
        "start_time": "2023-04-18T07:41:06.972Z"
      },
      {
        "duration": 4998,
        "start_time": "2023-04-18T07:41:11.798Z"
      },
      {
        "duration": 42,
        "start_time": "2023-04-18T07:41:16.798Z"
      },
      {
        "duration": 5,
        "start_time": "2023-04-18T07:41:16.842Z"
      },
      {
        "duration": 24,
        "start_time": "2023-04-18T07:41:16.849Z"
      },
      {
        "duration": 17,
        "start_time": "2023-04-18T07:41:16.875Z"
      },
      {
        "duration": 11,
        "start_time": "2023-04-18T07:41:16.894Z"
      },
      {
        "duration": 11,
        "start_time": "2023-04-18T07:41:16.907Z"
      },
      {
        "duration": 4,
        "start_time": "2023-04-18T07:41:16.919Z"
      },
      {
        "duration": 30,
        "start_time": "2023-04-18T07:41:16.925Z"
      },
      {
        "duration": 23,
        "start_time": "2023-04-18T07:41:16.957Z"
      },
      {
        "duration": 14,
        "start_time": "2023-04-18T07:41:16.981Z"
      },
      {
        "duration": 11,
        "start_time": "2023-04-18T07:41:16.997Z"
      },
      {
        "duration": 16,
        "start_time": "2023-04-18T07:41:17.010Z"
      },
      {
        "duration": 15,
        "start_time": "2023-04-18T07:41:17.028Z"
      },
      {
        "duration": 43,
        "start_time": "2023-04-18T07:41:17.045Z"
      },
      {
        "duration": 21,
        "start_time": "2023-04-18T07:41:17.090Z"
      },
      {
        "duration": 31,
        "start_time": "2023-04-18T07:41:17.115Z"
      },
      {
        "duration": 9,
        "start_time": "2023-04-18T07:41:17.147Z"
      },
      {
        "duration": 121,
        "start_time": "2023-04-18T07:41:17.157Z"
      },
      {
        "duration": 232,
        "start_time": "2023-04-18T07:41:17.280Z"
      },
      {
        "duration": 174,
        "start_time": "2023-04-18T07:41:17.513Z"
      },
      {
        "duration": 17,
        "start_time": "2023-04-18T07:41:17.689Z"
      },
      {
        "duration": 10,
        "start_time": "2023-04-18T07:41:17.707Z"
      },
      {
        "duration": 8,
        "start_time": "2023-04-18T07:41:17.718Z"
      },
      {
        "duration": 5,
        "start_time": "2023-04-18T07:41:17.727Z"
      },
      {
        "duration": 7,
        "start_time": "2023-04-18T07:41:17.733Z"
      },
      {
        "duration": 4,
        "start_time": "2023-04-18T07:41:17.742Z"
      },
      {
        "duration": 12,
        "start_time": "2023-04-18T07:41:17.748Z"
      },
      {
        "duration": 200,
        "start_time": "2023-04-18T07:41:17.761Z"
      },
      {
        "duration": 11,
        "start_time": "2023-04-18T07:41:17.963Z"
      },
      {
        "duration": 23,
        "start_time": "2023-04-18T07:41:17.975Z"
      },
      {
        "duration": 4,
        "start_time": "2023-04-18T07:41:18.000Z"
      },
      {
        "duration": 5,
        "start_time": "2023-04-18T07:41:18.006Z"
      },
      {
        "duration": 18,
        "start_time": "2023-04-18T07:41:18.012Z"
      },
      {
        "duration": 24,
        "start_time": "2023-04-18T07:41:18.032Z"
      },
      {
        "duration": 13,
        "start_time": "2023-04-18T07:41:18.057Z"
      },
      {
        "duration": 19,
        "start_time": "2023-04-18T07:41:18.071Z"
      },
      {
        "duration": 8,
        "start_time": "2023-04-18T07:41:18.091Z"
      },
      {
        "duration": 7,
        "start_time": "2023-04-18T07:41:18.100Z"
      },
      {
        "duration": 9,
        "start_time": "2023-04-18T07:41:18.109Z"
      },
      {
        "duration": 14,
        "start_time": "2023-04-18T07:41:18.120Z"
      },
      {
        "duration": 169,
        "start_time": "2023-04-18T07:41:18.136Z"
      },
      {
        "duration": 9,
        "start_time": "2023-04-18T07:41:18.306Z"
      },
      {
        "duration": 7,
        "start_time": "2023-04-18T07:41:18.317Z"
      },
      {
        "duration": 10,
        "start_time": "2023-04-18T07:41:18.326Z"
      },
      {
        "duration": 15,
        "start_time": "2023-04-18T07:41:18.338Z"
      },
      {
        "duration": 19,
        "start_time": "2023-04-18T07:41:18.355Z"
      },
      {
        "duration": 10,
        "start_time": "2023-04-18T07:41:18.376Z"
      },
      {
        "duration": 12,
        "start_time": "2023-04-18T07:41:18.387Z"
      },
      {
        "duration": 12,
        "start_time": "2023-04-18T07:41:18.401Z"
      },
      {
        "duration": 119,
        "start_time": "2023-04-18T07:41:18.415Z"
      },
      {
        "duration": 1392,
        "start_time": "2023-04-18T07:44:39.808Z"
      },
      {
        "duration": 1284,
        "start_time": "2023-04-18T07:45:39.241Z"
      },
      {
        "duration": 2387,
        "start_time": "2023-04-18T07:46:17.474Z"
      },
      {
        "duration": 10,
        "start_time": "2023-04-18T07:47:33.871Z"
      },
      {
        "duration": 3,
        "start_time": "2023-04-18T07:53:31.122Z"
      },
      {
        "duration": 348,
        "start_time": "2023-04-18T07:53:31.127Z"
      },
      {
        "duration": 8,
        "start_time": "2023-04-18T07:53:31.476Z"
      },
      {
        "duration": 66,
        "start_time": "2023-04-18T07:53:31.486Z"
      },
      {
        "duration": 118,
        "start_time": "2023-04-18T07:53:31.553Z"
      },
      {
        "duration": 94,
        "start_time": "2023-04-18T07:53:31.672Z"
      },
      {
        "duration": 70,
        "start_time": "2023-04-18T07:53:31.768Z"
      },
      {
        "duration": 238,
        "start_time": "2023-04-18T07:53:31.839Z"
      },
      {
        "duration": 110,
        "start_time": "2023-04-18T07:53:32.079Z"
      },
      {
        "duration": 4614,
        "start_time": "2023-04-18T07:53:32.191Z"
      },
      {
        "duration": 4477,
        "start_time": "2023-04-18T07:53:36.807Z"
      },
      {
        "duration": 4629,
        "start_time": "2023-04-18T07:53:41.285Z"
      },
      {
        "duration": 35,
        "start_time": "2023-04-18T07:53:45.915Z"
      },
      {
        "duration": 4,
        "start_time": "2023-04-18T07:53:45.973Z"
      },
      {
        "duration": 15,
        "start_time": "2023-04-18T07:53:45.980Z"
      },
      {
        "duration": 19,
        "start_time": "2023-04-18T07:53:45.997Z"
      },
      {
        "duration": 19,
        "start_time": "2023-04-18T07:53:46.018Z"
      },
      {
        "duration": 18,
        "start_time": "2023-04-18T07:53:46.039Z"
      },
      {
        "duration": 41,
        "start_time": "2023-04-18T07:53:46.060Z"
      },
      {
        "duration": 28,
        "start_time": "2023-04-18T07:53:46.103Z"
      },
      {
        "duration": 27,
        "start_time": "2023-04-18T07:53:46.133Z"
      },
      {
        "duration": 19,
        "start_time": "2023-04-18T07:53:46.162Z"
      },
      {
        "duration": 35,
        "start_time": "2023-04-18T07:53:46.183Z"
      },
      {
        "duration": 39,
        "start_time": "2023-04-18T07:53:46.220Z"
      },
      {
        "duration": 104,
        "start_time": "2023-04-18T07:53:46.261Z"
      },
      {
        "duration": 39,
        "start_time": "2023-04-18T07:53:46.366Z"
      },
      {
        "duration": 39,
        "start_time": "2023-04-18T07:53:46.406Z"
      },
      {
        "duration": 17,
        "start_time": "2023-04-18T07:53:46.447Z"
      },
      {
        "duration": 25,
        "start_time": "2023-04-18T07:53:46.465Z"
      },
      {
        "duration": 88,
        "start_time": "2023-04-18T07:53:46.494Z"
      },
      {
        "duration": 197,
        "start_time": "2023-04-18T07:53:46.588Z"
      },
      {
        "duration": 186,
        "start_time": "2023-04-18T07:53:46.789Z"
      },
      {
        "duration": 42,
        "start_time": "2023-04-18T07:53:46.977Z"
      },
      {
        "duration": 40,
        "start_time": "2023-04-18T07:53:47.021Z"
      },
      {
        "duration": 32,
        "start_time": "2023-04-18T07:53:47.062Z"
      },
      {
        "duration": 39,
        "start_time": "2023-04-18T07:53:47.096Z"
      },
      {
        "duration": 20,
        "start_time": "2023-04-18T07:53:47.137Z"
      },
      {
        "duration": 12,
        "start_time": "2023-04-18T07:53:47.158Z"
      },
      {
        "duration": 22,
        "start_time": "2023-04-18T07:53:47.172Z"
      },
      {
        "duration": 158,
        "start_time": "2023-04-18T07:53:47.196Z"
      },
      {
        "duration": 7,
        "start_time": "2023-04-18T07:53:47.358Z"
      },
      {
        "duration": 10,
        "start_time": "2023-04-18T07:53:47.371Z"
      },
      {
        "duration": 12,
        "start_time": "2023-04-18T07:53:47.383Z"
      },
      {
        "duration": 10,
        "start_time": "2023-04-18T07:53:47.397Z"
      },
      {
        "duration": 8,
        "start_time": "2023-04-18T07:53:47.409Z"
      },
      {
        "duration": 21,
        "start_time": "2023-04-18T07:53:47.418Z"
      },
      {
        "duration": 17,
        "start_time": "2023-04-18T07:53:47.441Z"
      },
      {
        "duration": 16,
        "start_time": "2023-04-18T07:53:47.459Z"
      },
      {
        "duration": 6,
        "start_time": "2023-04-18T07:53:47.477Z"
      },
      {
        "duration": 15,
        "start_time": "2023-04-18T07:53:47.485Z"
      },
      {
        "duration": 8,
        "start_time": "2023-04-18T07:53:47.501Z"
      },
      {
        "duration": 10,
        "start_time": "2023-04-18T07:53:47.511Z"
      },
      {
        "duration": 161,
        "start_time": "2023-04-18T07:53:47.523Z"
      },
      {
        "duration": 7,
        "start_time": "2023-04-18T07:53:47.686Z"
      },
      {
        "duration": 27,
        "start_time": "2023-04-18T07:53:47.694Z"
      },
      {
        "duration": 13,
        "start_time": "2023-04-18T07:53:47.723Z"
      },
      {
        "duration": 29,
        "start_time": "2023-04-18T07:53:47.738Z"
      },
      {
        "duration": 13,
        "start_time": "2023-04-18T07:53:47.768Z"
      },
      {
        "duration": 28,
        "start_time": "2023-04-18T07:53:47.783Z"
      },
      {
        "duration": 26,
        "start_time": "2023-04-18T07:53:47.813Z"
      },
      {
        "duration": 37,
        "start_time": "2023-04-18T07:53:47.841Z"
      },
      {
        "duration": 25,
        "start_time": "2023-04-18T07:53:47.880Z"
      },
      {
        "duration": 3,
        "start_time": "2023-04-18T07:54:58.071Z"
      },
      {
        "duration": 9,
        "start_time": "2023-04-18T07:55:06.829Z"
      },
      {
        "duration": 9,
        "start_time": "2023-04-18T07:56:04.914Z"
      },
      {
        "duration": 3,
        "start_time": "2023-04-18T07:57:36.318Z"
      },
      {
        "duration": 1151,
        "start_time": "2023-04-18T07:57:46.240Z"
      },
      {
        "duration": 5,
        "start_time": "2023-04-18T07:57:57.969Z"
      },
      {
        "duration": 1102,
        "start_time": "2023-04-18T07:58:21.930Z"
      },
      {
        "duration": 5,
        "start_time": "2023-04-18T07:58:23.034Z"
      },
      {
        "duration": 1147,
        "start_time": "2023-04-18T08:02:40.448Z"
      },
      {
        "duration": 3,
        "start_time": "2023-04-18T08:03:22.722Z"
      },
      {
        "duration": 4,
        "start_time": "2023-04-18T08:40:21.013Z"
      },
      {
        "duration": 4,
        "start_time": "2023-04-18T08:42:01.339Z"
      },
      {
        "duration": 1095,
        "start_time": "2023-04-18T08:42:02.151Z"
      },
      {
        "duration": 1045,
        "start_time": "2023-04-18T08:42:03.248Z"
      },
      {
        "duration": 1088,
        "start_time": "2023-04-18T08:42:04.294Z"
      },
      {
        "duration": 4,
        "start_time": "2023-04-18T08:44:35.857Z"
      },
      {
        "duration": 1200,
        "start_time": "2023-04-18T08:44:36.744Z"
      },
      {
        "duration": 1178,
        "start_time": "2023-04-18T08:44:39.354Z"
      },
      {
        "duration": 1254,
        "start_time": "2023-04-18T08:44:41.832Z"
      },
      {
        "duration": 1750,
        "start_time": "2023-04-18T17:01:07.488Z"
      },
      {
        "duration": 1965,
        "start_time": "2023-04-18T17:01:09.242Z"
      },
      {
        "duration": 17,
        "start_time": "2023-04-18T17:01:11.209Z"
      },
      {
        "duration": 11,
        "start_time": "2023-04-18T17:01:11.228Z"
      },
      {
        "duration": 12,
        "start_time": "2023-04-18T17:01:11.243Z"
      },
      {
        "duration": 17,
        "start_time": "2023-04-18T17:01:11.257Z"
      },
      {
        "duration": 25,
        "start_time": "2023-04-18T17:01:11.276Z"
      },
      {
        "duration": 19,
        "start_time": "2023-04-18T17:01:11.306Z"
      },
      {
        "duration": 112,
        "start_time": "2023-04-18T17:01:11.327Z"
      },
      {
        "duration": 5884,
        "start_time": "2023-04-18T17:01:11.441Z"
      },
      {
        "duration": 5724,
        "start_time": "2023-04-18T17:01:17.328Z"
      },
      {
        "duration": 5815,
        "start_time": "2023-04-18T17:01:23.053Z"
      },
      {
        "duration": 54,
        "start_time": "2023-04-18T17:01:28.869Z"
      },
      {
        "duration": 5,
        "start_time": "2023-04-18T17:01:28.926Z"
      },
      {
        "duration": 8,
        "start_time": "2023-04-18T17:01:28.933Z"
      },
      {
        "duration": 12,
        "start_time": "2023-04-18T17:01:28.942Z"
      },
      {
        "duration": 6,
        "start_time": "2023-04-18T17:01:28.956Z"
      },
      {
        "duration": 17,
        "start_time": "2023-04-18T17:01:28.963Z"
      },
      {
        "duration": 5,
        "start_time": "2023-04-18T17:01:28.981Z"
      },
      {
        "duration": 14,
        "start_time": "2023-04-18T17:01:28.987Z"
      },
      {
        "duration": 26,
        "start_time": "2023-04-18T17:01:29.003Z"
      },
      {
        "duration": 4,
        "start_time": "2023-04-18T17:01:29.031Z"
      },
      {
        "duration": 6,
        "start_time": "2023-04-18T17:01:29.037Z"
      },
      {
        "duration": 15,
        "start_time": "2023-04-18T17:01:29.045Z"
      },
      {
        "duration": 5,
        "start_time": "2023-04-18T17:01:29.062Z"
      },
      {
        "duration": 39,
        "start_time": "2023-04-18T17:01:29.069Z"
      },
      {
        "duration": 16,
        "start_time": "2023-04-18T17:01:29.118Z"
      },
      {
        "duration": 21,
        "start_time": "2023-04-18T17:01:29.136Z"
      },
      {
        "duration": 148,
        "start_time": "2023-04-18T17:01:29.159Z"
      },
      {
        "duration": 10,
        "start_time": "2023-04-18T17:01:29.316Z"
      },
      {
        "duration": 79,
        "start_time": "2023-04-18T17:01:29.328Z"
      },
      {
        "duration": 89,
        "start_time": "2023-04-18T17:01:29.410Z"
      },
      {
        "duration": 26,
        "start_time": "2023-04-18T17:01:29.501Z"
      },
      {
        "duration": 13,
        "start_time": "2023-04-18T17:01:29.529Z"
      },
      {
        "duration": 19,
        "start_time": "2023-04-18T17:01:29.543Z"
      },
      {
        "duration": 5,
        "start_time": "2023-04-18T17:01:29.564Z"
      },
      {
        "duration": 7,
        "start_time": "2023-04-18T17:01:29.571Z"
      },
      {
        "duration": 4,
        "start_time": "2023-04-18T17:01:29.580Z"
      },
      {
        "duration": 6,
        "start_time": "2023-04-18T17:01:29.586Z"
      },
      {
        "duration": 176,
        "start_time": "2023-04-18T17:01:29.594Z"
      },
      {
        "duration": 8,
        "start_time": "2023-04-18T17:01:29.775Z"
      },
      {
        "duration": 3,
        "start_time": "2023-04-18T17:01:29.793Z"
      },
      {
        "duration": 5,
        "start_time": "2023-04-18T17:01:29.803Z"
      },
      {
        "duration": 23,
        "start_time": "2023-04-18T17:01:29.809Z"
      },
      {
        "duration": 5,
        "start_time": "2023-04-18T17:01:29.834Z"
      },
      {
        "duration": 10,
        "start_time": "2023-04-18T17:01:29.841Z"
      },
      {
        "duration": 7,
        "start_time": "2023-04-18T17:01:29.853Z"
      },
      {
        "duration": 4,
        "start_time": "2023-04-18T17:01:29.862Z"
      },
      {
        "duration": 5,
        "start_time": "2023-04-18T17:01:29.868Z"
      },
      {
        "duration": 7,
        "start_time": "2023-04-18T17:01:29.874Z"
      },
      {
        "duration": 18,
        "start_time": "2023-04-18T17:01:29.883Z"
      },
      {
        "duration": 11,
        "start_time": "2023-04-18T17:01:29.902Z"
      },
      {
        "duration": 151,
        "start_time": "2023-04-18T17:01:29.915Z"
      },
      {
        "duration": 7,
        "start_time": "2023-04-18T17:01:30.068Z"
      },
      {
        "duration": 33,
        "start_time": "2023-04-18T17:01:30.077Z"
      },
      {
        "duration": 8,
        "start_time": "2023-04-18T17:01:30.118Z"
      },
      {
        "duration": 15,
        "start_time": "2023-04-18T17:01:30.128Z"
      },
      {
        "duration": 8,
        "start_time": "2023-04-18T17:01:30.145Z"
      },
      {
        "duration": 9,
        "start_time": "2023-04-18T17:01:30.154Z"
      },
      {
        "duration": 5,
        "start_time": "2023-04-18T17:01:30.164Z"
      },
      {
        "duration": 11,
        "start_time": "2023-04-18T17:01:30.170Z"
      },
      {
        "duration": 125,
        "start_time": "2023-04-18T17:01:30.182Z"
      },
      {
        "duration": 0,
        "start_time": "2023-04-18T17:01:30.309Z"
      },
      {
        "duration": 0,
        "start_time": "2023-04-18T17:01:30.310Z"
      },
      {
        "duration": 0,
        "start_time": "2023-04-18T17:01:30.311Z"
      },
      {
        "duration": 0,
        "start_time": "2023-04-18T17:01:30.313Z"
      },
      {
        "duration": 0,
        "start_time": "2023-04-18T17:01:30.314Z"
      },
      {
        "duration": 73,
        "start_time": "2023-04-18T17:01:52.931Z"
      },
      {
        "duration": 1503,
        "start_time": "2023-04-18T17:02:05.114Z"
      },
      {
        "duration": 5,
        "start_time": "2023-04-18T17:02:08.425Z"
      },
      {
        "duration": 5,
        "start_time": "2023-04-18T17:02:12.164Z"
      },
      {
        "duration": 1529,
        "start_time": "2023-04-18T17:02:13.955Z"
      },
      {
        "duration": 1600,
        "start_time": "2023-04-18T17:02:17.825Z"
      },
      {
        "duration": 1644,
        "start_time": "2023-04-18T17:02:20.638Z"
      },
      {
        "duration": 7,
        "start_time": "2023-04-18T17:03:08.806Z"
      },
      {
        "duration": 1538,
        "start_time": "2023-04-18T17:03:09.612Z"
      },
      {
        "duration": 1510,
        "start_time": "2023-04-18T17:03:12.846Z"
      },
      {
        "duration": 1484,
        "start_time": "2023-04-18T17:03:15.217Z"
      },
      {
        "duration": 4,
        "start_time": "2023-04-18T17:15:46.175Z"
      },
      {
        "duration": 1512,
        "start_time": "2023-04-18T17:15:47.028Z"
      },
      {
        "duration": 8,
        "start_time": "2023-04-18T17:18:53.077Z"
      },
      {
        "duration": 8,
        "start_time": "2023-04-18T17:18:54.847Z"
      },
      {
        "duration": 8,
        "start_time": "2023-04-18T17:18:55.645Z"
      },
      {
        "duration": 4,
        "start_time": "2023-04-18T17:18:56.441Z"
      },
      {
        "duration": 4,
        "start_time": "2023-04-18T17:19:24.077Z"
      },
      {
        "duration": 6,
        "start_time": "2023-04-18T17:22:28.071Z"
      },
      {
        "duration": 1546,
        "start_time": "2023-04-18T17:22:29.741Z"
      },
      {
        "duration": 7,
        "start_time": "2023-04-18T17:23:19.212Z"
      },
      {
        "duration": 1617,
        "start_time": "2023-04-18T17:23:29.484Z"
      },
      {
        "duration": 5,
        "start_time": "2023-04-18T17:25:26.345Z"
      },
      {
        "duration": 1486,
        "start_time": "2023-04-18T17:25:28.234Z"
      },
      {
        "duration": 6,
        "start_time": "2023-04-18T17:26:53.836Z"
      },
      {
        "duration": 1459,
        "start_time": "2023-04-18T17:26:55.121Z"
      },
      {
        "duration": 4,
        "start_time": "2023-04-18T17:28:36.582Z"
      },
      {
        "duration": 9,
        "start_time": "2023-04-18T17:28:38.385Z"
      },
      {
        "duration": 8,
        "start_time": "2023-04-18T17:28:39.124Z"
      },
      {
        "duration": 9,
        "start_time": "2023-04-18T17:28:39.846Z"
      },
      {
        "duration": 4,
        "start_time": "2023-04-18T17:28:40.726Z"
      },
      {
        "duration": 4,
        "start_time": "2023-04-18T17:28:50.787Z"
      },
      {
        "duration": 1546,
        "start_time": "2023-04-18T17:28:51.979Z"
      },
      {
        "duration": 6,
        "start_time": "2023-04-18T17:31:25.017Z"
      },
      {
        "duration": 44433,
        "start_time": "2023-04-18T17:31:26.878Z"
      },
      {
        "duration": 4,
        "start_time": "2023-04-18T17:36:18.826Z"
      },
      {
        "duration": 48710,
        "start_time": "2023-04-18T17:36:19.679Z"
      },
      {
        "duration": 4,
        "start_time": "2023-04-18T17:52:33.007Z"
      },
      {
        "duration": 4,
        "start_time": "2023-04-18T17:52:51.618Z"
      },
      {
        "duration": 4,
        "start_time": "2023-04-18T17:55:36.200Z"
      },
      {
        "duration": 448,
        "start_time": "2023-04-18T17:55:36.207Z"
      },
      {
        "duration": 10,
        "start_time": "2023-04-18T17:55:36.657Z"
      },
      {
        "duration": 44,
        "start_time": "2023-04-18T17:55:36.669Z"
      },
      {
        "duration": 34,
        "start_time": "2023-04-18T17:55:36.716Z"
      },
      {
        "duration": 34,
        "start_time": "2023-04-18T17:55:36.752Z"
      },
      {
        "duration": 31,
        "start_time": "2023-04-18T17:55:36.787Z"
      },
      {
        "duration": 18,
        "start_time": "2023-04-18T17:55:36.820Z"
      },
      {
        "duration": 111,
        "start_time": "2023-04-18T17:55:36.840Z"
      },
      {
        "duration": 4967,
        "start_time": "2023-04-18T17:55:36.953Z"
      },
      {
        "duration": 4937,
        "start_time": "2023-04-18T17:55:41.923Z"
      },
      {
        "duration": 4922,
        "start_time": "2023-04-18T17:55:46.862Z"
      },
      {
        "duration": 37,
        "start_time": "2023-04-18T17:55:51.786Z"
      },
      {
        "duration": 5,
        "start_time": "2023-04-18T17:55:51.825Z"
      },
      {
        "duration": 20,
        "start_time": "2023-04-18T17:55:51.832Z"
      },
      {
        "duration": 9,
        "start_time": "2023-04-18T17:55:51.855Z"
      },
      {
        "duration": 30,
        "start_time": "2023-04-18T17:55:51.865Z"
      },
      {
        "duration": 18,
        "start_time": "2023-04-18T17:55:51.898Z"
      },
      {
        "duration": 14,
        "start_time": "2023-04-18T17:55:51.918Z"
      },
      {
        "duration": 8,
        "start_time": "2023-04-18T17:55:51.935Z"
      },
      {
        "duration": 37,
        "start_time": "2023-04-18T17:55:51.946Z"
      },
      {
        "duration": 8,
        "start_time": "2023-04-18T17:55:51.986Z"
      },
      {
        "duration": 12,
        "start_time": "2023-04-18T17:55:51.997Z"
      },
      {
        "duration": 24,
        "start_time": "2023-04-18T17:55:52.010Z"
      },
      {
        "duration": 6,
        "start_time": "2023-04-18T17:55:52.036Z"
      },
      {
        "duration": 16,
        "start_time": "2023-04-18T17:55:52.043Z"
      },
      {
        "duration": 12,
        "start_time": "2023-04-18T17:55:52.061Z"
      },
      {
        "duration": 15,
        "start_time": "2023-04-18T17:55:52.094Z"
      },
      {
        "duration": 11,
        "start_time": "2023-04-18T17:55:52.114Z"
      },
      {
        "duration": 75,
        "start_time": "2023-04-18T17:55:52.127Z"
      },
      {
        "duration": 100,
        "start_time": "2023-04-18T17:55:52.209Z"
      },
      {
        "duration": 83,
        "start_time": "2023-04-18T17:55:52.311Z"
      },
      {
        "duration": 10,
        "start_time": "2023-04-18T17:55:52.396Z"
      },
      {
        "duration": 107,
        "start_time": "2023-04-18T17:55:52.408Z"
      },
      {
        "duration": 13,
        "start_time": "2023-04-18T17:55:52.518Z"
      },
      {
        "duration": 4,
        "start_time": "2023-04-18T17:55:52.534Z"
      },
      {
        "duration": 5,
        "start_time": "2023-04-18T17:55:52.540Z"
      },
      {
        "duration": 6,
        "start_time": "2023-04-18T17:55:52.547Z"
      },
      {
        "duration": 5,
        "start_time": "2023-04-18T17:55:52.555Z"
      },
      {
        "duration": 167,
        "start_time": "2023-04-18T17:55:52.561Z"
      },
      {
        "duration": 9,
        "start_time": "2023-04-18T17:55:52.731Z"
      },
      {
        "duration": 5,
        "start_time": "2023-04-18T17:55:52.743Z"
      },
      {
        "duration": 5,
        "start_time": "2023-04-18T17:55:52.749Z"
      },
      {
        "duration": 9,
        "start_time": "2023-04-18T17:55:52.756Z"
      },
      {
        "duration": 6,
        "start_time": "2023-04-18T17:55:52.793Z"
      },
      {
        "duration": 9,
        "start_time": "2023-04-18T17:55:52.800Z"
      },
      {
        "duration": 7,
        "start_time": "2023-04-18T17:55:52.811Z"
      },
      {
        "duration": 13,
        "start_time": "2023-04-18T17:55:52.820Z"
      },
      {
        "duration": 4,
        "start_time": "2023-04-18T17:55:52.835Z"
      },
      {
        "duration": 5,
        "start_time": "2023-04-18T17:55:52.841Z"
      },
      {
        "duration": 5,
        "start_time": "2023-04-18T17:55:52.848Z"
      },
      {
        "duration": 6,
        "start_time": "2023-04-18T17:55:52.855Z"
      },
      {
        "duration": 6,
        "start_time": "2023-04-18T17:55:52.862Z"
      },
      {
        "duration": 298,
        "start_time": "2023-04-18T17:55:52.869Z"
      },
      {
        "duration": 8,
        "start_time": "2023-04-18T17:55:53.169Z"
      },
      {
        "duration": 19,
        "start_time": "2023-04-18T17:55:53.179Z"
      },
      {
        "duration": 5,
        "start_time": "2023-04-18T17:55:53.201Z"
      },
      {
        "duration": 11,
        "start_time": "2023-04-18T17:55:53.208Z"
      },
      {
        "duration": 9,
        "start_time": "2023-04-18T17:55:53.221Z"
      },
      {
        "duration": 10,
        "start_time": "2023-04-18T17:55:53.232Z"
      },
      {
        "duration": 5,
        "start_time": "2023-04-18T17:55:53.244Z"
      },
      {
        "duration": 45,
        "start_time": "2023-04-18T17:55:53.250Z"
      },
      {
        "duration": 6,
        "start_time": "2023-04-18T17:55:53.297Z"
      },
      {
        "duration": 1454,
        "start_time": "2023-04-18T17:55:53.304Z"
      },
      {
        "duration": 1461,
        "start_time": "2023-04-18T17:55:54.761Z"
      },
      {
        "duration": 1481,
        "start_time": "2023-04-18T17:55:56.225Z"
      },
      {
        "duration": 4,
        "start_time": "2023-04-18T17:56:40.200Z"
      },
      {
        "duration": 6,
        "start_time": "2023-04-18T17:58:48.202Z"
      },
      {
        "duration": 1390,
        "start_time": "2023-04-18T17:58:48.812Z"
      },
      {
        "duration": 1365,
        "start_time": "2023-04-18T17:58:50.204Z"
      },
      {
        "duration": 1392,
        "start_time": "2023-04-18T17:58:51.570Z"
      },
      {
        "duration": 4,
        "start_time": "2023-04-18T18:00:28.031Z"
      },
      {
        "duration": 4,
        "start_time": "2023-04-18T18:09:23.031Z"
      },
      {
        "duration": 1389,
        "start_time": "2023-04-18T18:09:27.011Z"
      },
      {
        "duration": 1389,
        "start_time": "2023-04-18T18:09:28.402Z"
      },
      {
        "duration": 1418,
        "start_time": "2023-04-18T18:09:29.793Z"
      },
      {
        "duration": 3,
        "start_time": "2023-04-18T18:09:31.316Z"
      },
      {
        "duration": 4,
        "start_time": "2023-04-18T18:10:26.904Z"
      },
      {
        "duration": 4,
        "start_time": "2023-04-18T18:12:52.229Z"
      },
      {
        "duration": 436,
        "start_time": "2023-04-18T18:12:52.235Z"
      },
      {
        "duration": 18,
        "start_time": "2023-04-18T18:12:52.673Z"
      },
      {
        "duration": 25,
        "start_time": "2023-04-18T18:12:52.694Z"
      },
      {
        "duration": 13,
        "start_time": "2023-04-18T18:12:52.722Z"
      },
      {
        "duration": 21,
        "start_time": "2023-04-18T18:12:52.737Z"
      },
      {
        "duration": 14,
        "start_time": "2023-04-18T18:12:52.760Z"
      },
      {
        "duration": 29,
        "start_time": "2023-04-18T18:12:52.776Z"
      },
      {
        "duration": 102,
        "start_time": "2023-04-18T18:12:52.807Z"
      },
      {
        "duration": 4885,
        "start_time": "2023-04-18T18:12:52.911Z"
      },
      {
        "duration": 4962,
        "start_time": "2023-04-18T18:12:57.800Z"
      },
      {
        "duration": 4915,
        "start_time": "2023-04-18T18:13:02.764Z"
      },
      {
        "duration": 47,
        "start_time": "2023-04-18T18:13:07.681Z"
      },
      {
        "duration": 4,
        "start_time": "2023-04-18T18:13:07.730Z"
      },
      {
        "duration": 20,
        "start_time": "2023-04-18T18:13:07.736Z"
      },
      {
        "duration": 29,
        "start_time": "2023-04-18T18:13:07.758Z"
      },
      {
        "duration": 15,
        "start_time": "2023-04-18T18:13:07.788Z"
      },
      {
        "duration": 34,
        "start_time": "2023-04-18T18:13:07.805Z"
      },
      {
        "duration": 10,
        "start_time": "2023-04-18T18:13:07.841Z"
      },
      {
        "duration": 10,
        "start_time": "2023-04-18T18:13:07.853Z"
      },
      {
        "duration": 17,
        "start_time": "2023-04-18T18:13:07.864Z"
      },
      {
        "duration": 5,
        "start_time": "2023-04-18T18:13:07.883Z"
      },
      {
        "duration": 37,
        "start_time": "2023-04-18T18:13:07.889Z"
      },
      {
        "duration": 19,
        "start_time": "2023-04-18T18:13:07.927Z"
      },
      {
        "duration": 4,
        "start_time": "2023-04-18T18:13:07.948Z"
      },
      {
        "duration": 23,
        "start_time": "2023-04-18T18:13:07.954Z"
      },
      {
        "duration": 17,
        "start_time": "2023-04-18T18:13:07.979Z"
      },
      {
        "duration": 15,
        "start_time": "2023-04-18T18:13:07.997Z"
      },
      {
        "duration": 9,
        "start_time": "2023-04-18T18:13:08.016Z"
      },
      {
        "duration": 70,
        "start_time": "2023-04-18T18:13:08.027Z"
      },
      {
        "duration": 192,
        "start_time": "2023-04-18T18:13:08.102Z"
      },
      {
        "duration": 97,
        "start_time": "2023-04-18T18:13:08.298Z"
      },
      {
        "duration": 26,
        "start_time": "2023-04-18T18:13:08.397Z"
      },
      {
        "duration": 13,
        "start_time": "2023-04-18T18:13:08.425Z"
      },
      {
        "duration": 24,
        "start_time": "2023-04-18T18:13:08.440Z"
      },
      {
        "duration": 4,
        "start_time": "2023-04-18T18:13:08.466Z"
      },
      {
        "duration": 7,
        "start_time": "2023-04-18T18:13:08.472Z"
      },
      {
        "duration": 12,
        "start_time": "2023-04-18T18:13:08.481Z"
      },
      {
        "duration": 11,
        "start_time": "2023-04-18T18:13:08.495Z"
      },
      {
        "duration": 168,
        "start_time": "2023-04-18T18:13:08.507Z"
      },
      {
        "duration": 16,
        "start_time": "2023-04-18T18:13:08.677Z"
      },
      {
        "duration": 7,
        "start_time": "2023-04-18T18:13:08.695Z"
      },
      {
        "duration": 26,
        "start_time": "2023-04-18T18:13:08.703Z"
      },
      {
        "duration": 35,
        "start_time": "2023-04-18T18:13:08.731Z"
      },
      {
        "duration": 33,
        "start_time": "2023-04-18T18:13:08.767Z"
      },
      {
        "duration": 16,
        "start_time": "2023-04-18T18:13:08.802Z"
      },
      {
        "duration": 24,
        "start_time": "2023-04-18T18:13:08.819Z"
      },
      {
        "duration": 15,
        "start_time": "2023-04-18T18:13:08.846Z"
      },
      {
        "duration": 17,
        "start_time": "2023-04-18T18:13:08.863Z"
      },
      {
        "duration": 25,
        "start_time": "2023-04-18T18:13:08.882Z"
      },
      {
        "duration": 9,
        "start_time": "2023-04-18T18:13:08.909Z"
      },
      {
        "duration": 28,
        "start_time": "2023-04-18T18:13:08.920Z"
      },
      {
        "duration": 28,
        "start_time": "2023-04-18T18:13:08.950Z"
      },
      {
        "duration": 156,
        "start_time": "2023-04-18T18:13:08.980Z"
      },
      {
        "duration": 9,
        "start_time": "2023-04-18T18:13:09.138Z"
      },
      {
        "duration": 5,
        "start_time": "2023-04-18T18:13:09.150Z"
      },
      {
        "duration": 18,
        "start_time": "2023-04-18T18:13:09.157Z"
      },
      {
        "duration": 27,
        "start_time": "2023-04-18T18:13:09.176Z"
      },
      {
        "duration": 14,
        "start_time": "2023-04-18T18:13:09.206Z"
      },
      {
        "duration": 15,
        "start_time": "2023-04-18T18:13:09.225Z"
      },
      {
        "duration": 5,
        "start_time": "2023-04-18T18:13:09.242Z"
      },
      {
        "duration": 17,
        "start_time": "2023-04-18T18:13:09.249Z"
      },
      {
        "duration": 39,
        "start_time": "2023-04-18T18:13:09.267Z"
      },
      {
        "duration": 1543,
        "start_time": "2023-04-18T18:13:09.308Z"
      },
      {
        "duration": 1461,
        "start_time": "2023-04-18T18:13:10.852Z"
      },
      {
        "duration": 1503,
        "start_time": "2023-04-18T18:13:12.315Z"
      },
      {
        "duration": 4,
        "start_time": "2023-04-18T18:13:13.819Z"
      },
      {
        "duration": 8,
        "start_time": "2023-04-18T18:13:13.824Z"
      },
      {
        "duration": 5,
        "start_time": "2023-04-18T18:13:13.834Z"
      },
      {
        "duration": 4,
        "start_time": "2023-04-18T18:15:10.602Z"
      },
      {
        "duration": 4,
        "start_time": "2023-04-18T18:31:43.548Z"
      },
      {
        "duration": 4,
        "start_time": "2023-04-18T18:32:52.218Z"
      },
      {
        "duration": 8,
        "start_time": "2023-04-18T18:33:20.836Z"
      },
      {
        "duration": 5,
        "start_time": "2023-04-18T18:41:26.348Z"
      },
      {
        "duration": 5,
        "start_time": "2023-04-18T18:42:48.139Z"
      },
      {
        "duration": 1429,
        "start_time": "2023-04-18T18:42:48.985Z"
      },
      {
        "duration": 1417,
        "start_time": "2023-04-18T18:42:50.417Z"
      },
      {
        "duration": 1444,
        "start_time": "2023-04-18T18:42:51.837Z"
      },
      {
        "duration": 7,
        "start_time": "2023-04-18T18:42:53.283Z"
      },
      {
        "duration": 4,
        "start_time": "2023-04-18T18:43:28.715Z"
      },
      {
        "duration": 1431,
        "start_time": "2023-04-18T18:43:29.515Z"
      },
      {
        "duration": 1405,
        "start_time": "2023-04-18T18:43:30.948Z"
      },
      {
        "duration": 1401,
        "start_time": "2023-04-18T18:43:32.355Z"
      },
      {
        "duration": 5,
        "start_time": "2023-04-18T18:43:33.758Z"
      },
      {
        "duration": 5,
        "start_time": "2023-04-18T18:44:27.914Z"
      },
      {
        "duration": 1404,
        "start_time": "2023-04-18T18:44:28.716Z"
      },
      {
        "duration": 1459,
        "start_time": "2023-04-18T18:44:30.123Z"
      },
      {
        "duration": 1398,
        "start_time": "2023-04-18T18:44:31.584Z"
      },
      {
        "duration": 9,
        "start_time": "2023-04-18T18:44:32.984Z"
      },
      {
        "duration": 6,
        "start_time": "2023-04-18T18:46:03.331Z"
      },
      {
        "duration": 4,
        "start_time": "2023-04-18T18:47:02.138Z"
      },
      {
        "duration": 1424,
        "start_time": "2023-04-18T18:47:03.452Z"
      },
      {
        "duration": 1425,
        "start_time": "2023-04-18T18:47:04.878Z"
      },
      {
        "duration": 1493,
        "start_time": "2023-04-18T18:47:06.305Z"
      },
      {
        "duration": 6,
        "start_time": "2023-04-18T18:47:07.800Z"
      },
      {
        "duration": 4,
        "start_time": "2023-04-18T18:48:35.828Z"
      },
      {
        "duration": 379,
        "start_time": "2023-04-18T18:48:35.834Z"
      },
      {
        "duration": 9,
        "start_time": "2023-04-18T18:48:36.215Z"
      },
      {
        "duration": 19,
        "start_time": "2023-04-18T18:48:36.225Z"
      },
      {
        "duration": 12,
        "start_time": "2023-04-18T18:48:36.246Z"
      },
      {
        "duration": 22,
        "start_time": "2023-04-18T18:48:36.260Z"
      },
      {
        "duration": 16,
        "start_time": "2023-04-18T18:48:36.292Z"
      },
      {
        "duration": 17,
        "start_time": "2023-04-18T18:48:36.309Z"
      },
      {
        "duration": 107,
        "start_time": "2023-04-18T18:48:36.328Z"
      },
      {
        "duration": 4847,
        "start_time": "2023-04-18T18:48:36.437Z"
      },
      {
        "duration": 5000,
        "start_time": "2023-04-18T18:48:41.286Z"
      },
      {
        "duration": 5057,
        "start_time": "2023-04-18T18:48:46.287Z"
      },
      {
        "duration": 52,
        "start_time": "2023-04-18T18:48:51.346Z"
      },
      {
        "duration": 5,
        "start_time": "2023-04-18T18:48:51.404Z"
      },
      {
        "duration": 19,
        "start_time": "2023-04-18T18:48:51.412Z"
      },
      {
        "duration": 11,
        "start_time": "2023-04-18T18:48:51.433Z"
      },
      {
        "duration": 15,
        "start_time": "2023-04-18T18:48:51.446Z"
      },
      {
        "duration": 34,
        "start_time": "2023-04-18T18:48:51.463Z"
      },
      {
        "duration": 5,
        "start_time": "2023-04-18T18:48:51.500Z"
      },
      {
        "duration": 22,
        "start_time": "2023-04-18T18:48:51.507Z"
      },
      {
        "duration": 36,
        "start_time": "2023-04-18T18:48:51.532Z"
      },
      {
        "duration": 41,
        "start_time": "2023-04-18T18:48:51.570Z"
      },
      {
        "duration": 6,
        "start_time": "2023-04-18T18:48:51.614Z"
      },
      {
        "duration": 18,
        "start_time": "2023-04-18T18:48:51.622Z"
      },
      {
        "duration": 6,
        "start_time": "2023-04-18T18:48:51.643Z"
      },
      {
        "duration": 30,
        "start_time": "2023-04-18T18:48:51.651Z"
      },
      {
        "duration": 23,
        "start_time": "2023-04-18T18:48:51.683Z"
      },
      {
        "duration": 17,
        "start_time": "2023-04-18T18:48:51.709Z"
      },
      {
        "duration": 17,
        "start_time": "2023-04-18T18:48:51.729Z"
      },
      {
        "duration": 93,
        "start_time": "2023-04-18T18:48:51.810Z"
      },
      {
        "duration": 95,
        "start_time": "2023-04-18T18:48:51.908Z"
      },
      {
        "duration": 187,
        "start_time": "2023-04-18T18:48:52.009Z"
      },
      {
        "duration": 4,
        "start_time": "2023-04-18T18:48:52.199Z"
      },
      {
        "duration": 13,
        "start_time": "2023-04-18T18:48:52.205Z"
      },
      {
        "duration": 14,
        "start_time": "2023-04-18T18:48:52.220Z"
      },
      {
        "duration": 10,
        "start_time": "2023-04-18T18:48:52.236Z"
      },
      {
        "duration": 19,
        "start_time": "2023-04-18T18:48:52.248Z"
      },
      {
        "duration": 13,
        "start_time": "2023-04-18T18:48:52.270Z"
      },
      {
        "duration": 6,
        "start_time": "2023-04-18T18:48:52.285Z"
      },
      {
        "duration": 205,
        "start_time": "2023-04-18T18:48:52.294Z"
      },
      {
        "duration": 12,
        "start_time": "2023-04-18T18:48:52.506Z"
      },
      {
        "duration": 10,
        "start_time": "2023-04-18T18:48:52.521Z"
      },
      {
        "duration": 10,
        "start_time": "2023-04-18T18:48:52.534Z"
      },
      {
        "duration": 11,
        "start_time": "2023-04-18T18:48:52.547Z"
      },
      {
        "duration": 21,
        "start_time": "2023-04-18T18:48:52.560Z"
      },
      {
        "duration": 7,
        "start_time": "2023-04-18T18:48:52.583Z"
      },
      {
        "duration": 7,
        "start_time": "2023-04-18T18:48:52.592Z"
      },
      {
        "duration": 8,
        "start_time": "2023-04-18T18:48:52.602Z"
      },
      {
        "duration": 5,
        "start_time": "2023-04-18T18:48:52.612Z"
      },
      {
        "duration": 8,
        "start_time": "2023-04-18T18:48:52.619Z"
      },
      {
        "duration": 6,
        "start_time": "2023-04-18T18:48:52.629Z"
      },
      {
        "duration": 15,
        "start_time": "2023-04-18T18:48:52.637Z"
      },
      {
        "duration": 5,
        "start_time": "2023-04-18T18:48:52.655Z"
      },
      {
        "duration": 186,
        "start_time": "2023-04-18T18:48:52.663Z"
      },
      {
        "duration": 8,
        "start_time": "2023-04-18T18:48:52.850Z"
      },
      {
        "duration": 5,
        "start_time": "2023-04-18T18:48:52.861Z"
      },
      {
        "duration": 25,
        "start_time": "2023-04-18T18:48:52.869Z"
      },
      {
        "duration": 15,
        "start_time": "2023-04-18T18:48:52.896Z"
      },
      {
        "duration": 11,
        "start_time": "2023-04-18T18:48:52.913Z"
      },
      {
        "duration": 11,
        "start_time": "2023-04-18T18:48:52.926Z"
      },
      {
        "duration": 7,
        "start_time": "2023-04-18T18:48:52.939Z"
      },
      {
        "duration": 10,
        "start_time": "2023-04-18T18:48:52.948Z"
      },
      {
        "duration": 5,
        "start_time": "2023-04-18T18:48:52.960Z"
      },
      {
        "duration": 1418,
        "start_time": "2023-04-18T18:48:52.994Z"
      },
      {
        "duration": 1408,
        "start_time": "2023-04-18T18:48:54.415Z"
      },
      {
        "duration": 1384,
        "start_time": "2023-04-18T18:48:55.824Z"
      },
      {
        "duration": 6,
        "start_time": "2023-04-18T18:48:57.210Z"
      },
      {
        "duration": 13,
        "start_time": "2023-04-18T18:48:57.217Z"
      },
      {
        "duration": 5,
        "start_time": "2023-04-18T18:48:57.232Z"
      },
      {
        "duration": 5,
        "start_time": "2023-04-18T18:48:57.239Z"
      },
      {
        "duration": 7,
        "start_time": "2023-04-18T18:48:57.246Z"
      },
      {
        "duration": 39,
        "start_time": "2023-04-18T18:48:57.255Z"
      },
      {
        "duration": 5,
        "start_time": "2023-04-18T18:50:02.433Z"
      },
      {
        "duration": 421,
        "start_time": "2023-04-18T18:50:02.441Z"
      },
      {
        "duration": 10,
        "start_time": "2023-04-18T18:50:02.864Z"
      },
      {
        "duration": 29,
        "start_time": "2023-04-18T18:50:02.876Z"
      },
      {
        "duration": 66,
        "start_time": "2023-04-18T18:50:02.907Z"
      },
      {
        "duration": 40,
        "start_time": "2023-04-18T18:50:02.974Z"
      },
      {
        "duration": 26,
        "start_time": "2023-04-18T18:50:03.017Z"
      },
      {
        "duration": 48,
        "start_time": "2023-04-18T18:50:03.046Z"
      },
      {
        "duration": 112,
        "start_time": "2023-04-18T18:50:03.097Z"
      },
      {
        "duration": 5199,
        "start_time": "2023-04-18T18:50:03.211Z"
      },
      {
        "duration": 5241,
        "start_time": "2023-04-18T18:50:08.412Z"
      },
      {
        "duration": 5145,
        "start_time": "2023-04-18T18:50:13.655Z"
      },
      {
        "duration": 32,
        "start_time": "2023-04-18T18:50:18.802Z"
      },
      {
        "duration": 5,
        "start_time": "2023-04-18T18:50:18.836Z"
      },
      {
        "duration": 5,
        "start_time": "2023-04-18T18:50:18.843Z"
      },
      {
        "duration": 6,
        "start_time": "2023-04-18T18:50:18.850Z"
      },
      {
        "duration": 38,
        "start_time": "2023-04-18T18:50:18.857Z"
      },
      {
        "duration": 16,
        "start_time": "2023-04-18T18:50:18.897Z"
      },
      {
        "duration": 5,
        "start_time": "2023-04-18T18:50:18.916Z"
      },
      {
        "duration": 9,
        "start_time": "2023-04-18T18:50:18.923Z"
      },
      {
        "duration": 12,
        "start_time": "2023-04-18T18:50:18.933Z"
      },
      {
        "duration": 12,
        "start_time": "2023-04-18T18:50:18.947Z"
      },
      {
        "duration": 6,
        "start_time": "2023-04-18T18:50:18.961Z"
      },
      {
        "duration": 12,
        "start_time": "2023-04-18T18:50:18.996Z"
      },
      {
        "duration": 5,
        "start_time": "2023-04-18T18:50:19.010Z"
      },
      {
        "duration": 12,
        "start_time": "2023-04-18T18:50:19.017Z"
      },
      {
        "duration": 11,
        "start_time": "2023-04-18T18:50:19.031Z"
      },
      {
        "duration": 53,
        "start_time": "2023-04-18T18:50:19.044Z"
      },
      {
        "duration": 14,
        "start_time": "2023-04-18T18:50:19.100Z"
      },
      {
        "duration": 183,
        "start_time": "2023-04-18T18:50:19.116Z"
      },
      {
        "duration": 94,
        "start_time": "2023-04-18T18:50:19.303Z"
      },
      {
        "duration": 6,
        "start_time": "2023-04-18T18:50:19.400Z"
      },
      {
        "duration": 85,
        "start_time": "2023-04-18T18:50:19.409Z"
      },
      {
        "duration": 3,
        "start_time": "2023-04-18T18:50:19.495Z"
      },
      {
        "duration": 5,
        "start_time": "2023-04-18T18:50:19.500Z"
      },
      {
        "duration": 13,
        "start_time": "2023-04-18T18:50:19.507Z"
      },
      {
        "duration": 6,
        "start_time": "2023-04-18T18:50:19.522Z"
      },
      {
        "duration": 4,
        "start_time": "2023-04-18T18:50:19.530Z"
      },
      {
        "duration": 5,
        "start_time": "2023-04-18T18:50:19.536Z"
      },
      {
        "duration": 204,
        "start_time": "2023-04-18T18:50:19.543Z"
      },
      {
        "duration": 10,
        "start_time": "2023-04-18T18:50:19.749Z"
      },
      {
        "duration": 4,
        "start_time": "2023-04-18T18:50:19.761Z"
      },
      {
        "duration": 26,
        "start_time": "2023-04-18T18:50:19.767Z"
      },
      {
        "duration": 4,
        "start_time": "2023-04-18T18:50:19.796Z"
      },
      {
        "duration": 3,
        "start_time": "2023-04-18T18:50:19.802Z"
      },
      {
        "duration": 4,
        "start_time": "2023-04-18T18:50:19.808Z"
      },
      {
        "duration": 10,
        "start_time": "2023-04-18T18:50:19.814Z"
      },
      {
        "duration": 4,
        "start_time": "2023-04-18T18:50:19.826Z"
      },
      {
        "duration": 4,
        "start_time": "2023-04-18T18:50:19.833Z"
      },
      {
        "duration": 7,
        "start_time": "2023-04-18T18:50:19.839Z"
      },
      {
        "duration": 7,
        "start_time": "2023-04-18T18:50:19.848Z"
      },
      {
        "duration": 3,
        "start_time": "2023-04-18T18:50:19.894Z"
      },
      {
        "duration": 14,
        "start_time": "2023-04-18T18:50:19.899Z"
      },
      {
        "duration": 202,
        "start_time": "2023-04-18T18:50:19.915Z"
      },
      {
        "duration": 8,
        "start_time": "2023-04-18T18:50:20.119Z"
      },
      {
        "duration": 6,
        "start_time": "2023-04-18T18:50:20.129Z"
      },
      {
        "duration": 14,
        "start_time": "2023-04-18T18:50:20.136Z"
      },
      {
        "duration": 22,
        "start_time": "2023-04-18T18:50:20.152Z"
      },
      {
        "duration": 10,
        "start_time": "2023-04-18T18:50:20.175Z"
      },
      {
        "duration": 17,
        "start_time": "2023-04-18T18:50:20.187Z"
      },
      {
        "duration": 15,
        "start_time": "2023-04-18T18:50:20.206Z"
      },
      {
        "duration": 22,
        "start_time": "2023-04-18T18:50:20.223Z"
      },
      {
        "duration": 36,
        "start_time": "2023-04-18T18:50:20.248Z"
      },
      {
        "duration": 1422,
        "start_time": "2023-04-18T18:50:20.286Z"
      },
      {
        "duration": 1415,
        "start_time": "2023-04-18T18:50:21.710Z"
      },
      {
        "duration": 1430,
        "start_time": "2023-04-18T18:50:23.127Z"
      },
      {
        "duration": 8,
        "start_time": "2023-04-18T18:50:24.558Z"
      },
      {
        "duration": 4,
        "start_time": "2023-04-18T18:50:24.567Z"
      },
      {
        "duration": 4,
        "start_time": "2023-04-18T18:50:24.594Z"
      },
      {
        "duration": 4,
        "start_time": "2023-04-18T18:50:24.600Z"
      },
      {
        "duration": 7,
        "start_time": "2023-04-18T18:50:24.606Z"
      },
      {
        "duration": 13,
        "start_time": "2023-04-18T18:50:24.615Z"
      },
      {
        "duration": 1510,
        "start_time": "2023-04-18T18:56:42.230Z"
      },
      {
        "duration": 4,
        "start_time": "2023-04-18T18:56:45.907Z"
      },
      {
        "duration": 1395,
        "start_time": "2023-04-18T18:56:46.635Z"
      },
      {
        "duration": 4,
        "start_time": "2023-04-18T18:57:07.810Z"
      },
      {
        "duration": 12,
        "start_time": "2023-04-19T06:55:37.020Z"
      },
      {
        "duration": 1999,
        "start_time": "2023-04-19T06:55:44.175Z"
      },
      {
        "duration": 992,
        "start_time": "2023-04-19T06:55:46.178Z"
      },
      {
        "duration": 17,
        "start_time": "2023-04-19T06:55:47.174Z"
      },
      {
        "duration": 34,
        "start_time": "2023-04-19T06:55:47.194Z"
      },
      {
        "duration": 44,
        "start_time": "2023-04-19T06:55:47.231Z"
      },
      {
        "duration": 50,
        "start_time": "2023-04-19T06:55:47.278Z"
      },
      {
        "duration": 24,
        "start_time": "2023-04-19T06:55:47.331Z"
      },
      {
        "duration": 59,
        "start_time": "2023-04-19T06:55:47.357Z"
      },
      {
        "duration": 124,
        "start_time": "2023-04-19T06:55:47.418Z"
      },
      {
        "duration": 5945,
        "start_time": "2023-04-19T06:55:47.546Z"
      },
      {
        "duration": 5574,
        "start_time": "2023-04-19T06:55:53.494Z"
      },
      {
        "duration": 5793,
        "start_time": "2023-04-19T06:55:59.070Z"
      },
      {
        "duration": 33,
        "start_time": "2023-04-19T06:56:04.866Z"
      },
      {
        "duration": 6,
        "start_time": "2023-04-19T06:56:04.901Z"
      },
      {
        "duration": 33,
        "start_time": "2023-04-19T06:56:04.909Z"
      },
      {
        "duration": 73,
        "start_time": "2023-04-19T06:56:04.945Z"
      },
      {
        "duration": 16,
        "start_time": "2023-04-19T06:56:05.020Z"
      },
      {
        "duration": 49,
        "start_time": "2023-04-19T06:56:05.039Z"
      },
      {
        "duration": 23,
        "start_time": "2023-04-19T06:56:05.091Z"
      },
      {
        "duration": 70,
        "start_time": "2023-04-19T06:56:05.116Z"
      },
      {
        "duration": 35,
        "start_time": "2023-04-19T06:56:05.189Z"
      },
      {
        "duration": 25,
        "start_time": "2023-04-19T06:56:05.226Z"
      },
      {
        "duration": 29,
        "start_time": "2023-04-19T06:56:05.260Z"
      },
      {
        "duration": 35,
        "start_time": "2023-04-19T06:56:05.292Z"
      },
      {
        "duration": 6,
        "start_time": "2023-04-19T06:56:05.330Z"
      },
      {
        "duration": 36,
        "start_time": "2023-04-19T06:56:05.338Z"
      },
      {
        "duration": 16,
        "start_time": "2023-04-19T06:56:05.377Z"
      },
      {
        "duration": 15,
        "start_time": "2023-04-19T06:56:05.399Z"
      },
      {
        "duration": 41,
        "start_time": "2023-04-19T06:56:05.417Z"
      },
      {
        "duration": 121,
        "start_time": "2023-04-19T06:56:05.460Z"
      },
      {
        "duration": 195,
        "start_time": "2023-04-19T06:56:05.583Z"
      },
      {
        "duration": 185,
        "start_time": "2023-04-19T06:56:05.780Z"
      },
      {
        "duration": 33,
        "start_time": "2023-04-19T06:56:05.968Z"
      },
      {
        "duration": 15,
        "start_time": "2023-04-19T06:56:06.003Z"
      },
      {
        "duration": 38,
        "start_time": "2023-04-19T06:56:06.021Z"
      },
      {
        "duration": 44,
        "start_time": "2023-04-19T06:56:06.061Z"
      },
      {
        "duration": 29,
        "start_time": "2023-04-19T06:56:06.108Z"
      },
      {
        "duration": 46,
        "start_time": "2023-04-19T06:56:06.140Z"
      },
      {
        "duration": 34,
        "start_time": "2023-04-19T06:56:06.189Z"
      },
      {
        "duration": 248,
        "start_time": "2023-04-19T06:56:06.226Z"
      },
      {
        "duration": 10,
        "start_time": "2023-04-19T06:56:06.476Z"
      },
      {
        "duration": 32,
        "start_time": "2023-04-19T06:56:06.488Z"
      },
      {
        "duration": 39,
        "start_time": "2023-04-19T06:56:06.523Z"
      },
      {
        "duration": 28,
        "start_time": "2023-04-19T06:56:06.564Z"
      },
      {
        "duration": 16,
        "start_time": "2023-04-19T06:56:06.594Z"
      },
      {
        "duration": 16,
        "start_time": "2023-04-19T06:56:06.613Z"
      },
      {
        "duration": 94,
        "start_time": "2023-04-19T06:56:06.632Z"
      },
      {
        "duration": 66,
        "start_time": "2023-04-19T06:56:06.729Z"
      },
      {
        "duration": 28,
        "start_time": "2023-04-19T06:56:06.797Z"
      },
      {
        "duration": 30,
        "start_time": "2023-04-19T06:56:06.827Z"
      },
      {
        "duration": 12,
        "start_time": "2023-04-19T06:56:06.860Z"
      },
      {
        "duration": 9,
        "start_time": "2023-04-19T06:56:06.874Z"
      },
      {
        "duration": 29,
        "start_time": "2023-04-19T06:56:06.886Z"
      },
      {
        "duration": 186,
        "start_time": "2023-04-19T06:56:06.917Z"
      },
      {
        "duration": 9,
        "start_time": "2023-04-19T06:56:07.106Z"
      },
      {
        "duration": 19,
        "start_time": "2023-04-19T06:56:07.118Z"
      },
      {
        "duration": 40,
        "start_time": "2023-04-19T06:56:07.142Z"
      },
      {
        "duration": 51,
        "start_time": "2023-04-19T06:56:07.183Z"
      },
      {
        "duration": 41,
        "start_time": "2023-04-19T06:56:07.237Z"
      },
      {
        "duration": 40,
        "start_time": "2023-04-19T06:56:07.280Z"
      },
      {
        "duration": 16,
        "start_time": "2023-04-19T06:56:07.322Z"
      },
      {
        "duration": 32,
        "start_time": "2023-04-19T06:56:07.339Z"
      },
      {
        "duration": 16,
        "start_time": "2023-04-19T06:56:07.373Z"
      },
      {
        "duration": 1570,
        "start_time": "2023-04-19T06:56:07.391Z"
      },
      {
        "duration": 1574,
        "start_time": "2023-04-19T06:56:08.964Z"
      },
      {
        "duration": 1623,
        "start_time": "2023-04-19T06:56:10.539Z"
      },
      {
        "duration": 7,
        "start_time": "2023-04-19T06:56:12.164Z"
      },
      {
        "duration": 33,
        "start_time": "2023-04-19T06:56:12.173Z"
      },
      {
        "duration": 17,
        "start_time": "2023-04-19T06:56:12.208Z"
      },
      {
        "duration": 38,
        "start_time": "2023-04-19T06:56:12.227Z"
      },
      {
        "duration": 13,
        "start_time": "2023-04-19T06:57:12.438Z"
      },
      {
        "duration": 1724,
        "start_time": "2023-04-19T06:57:22.081Z"
      },
      {
        "duration": 7,
        "start_time": "2023-04-19T06:57:26.822Z"
      },
      {
        "duration": 17,
        "start_time": "2023-04-19T07:01:42.777Z"
      },
      {
        "duration": 1568,
        "start_time": "2023-04-19T07:01:44.121Z"
      },
      {
        "duration": 8,
        "start_time": "2023-04-19T07:01:47.854Z"
      },
      {
        "duration": 5,
        "start_time": "2023-04-19T07:02:46.944Z"
      },
      {
        "duration": 1516,
        "start_time": "2023-04-19T07:02:48.112Z"
      },
      {
        "duration": 8,
        "start_time": "2023-04-19T07:02:51.450Z"
      },
      {
        "duration": 6,
        "start_time": "2023-04-19T07:03:18.825Z"
      },
      {
        "duration": 1569,
        "start_time": "2023-04-19T07:03:19.656Z"
      },
      {
        "duration": 4,
        "start_time": "2023-04-19T07:03:22.675Z"
      },
      {
        "duration": 7,
        "start_time": "2023-04-19T07:06:07.871Z"
      },
      {
        "duration": 1547,
        "start_time": "2023-04-19T07:06:08.983Z"
      },
      {
        "duration": 6,
        "start_time": "2023-04-19T07:06:12.929Z"
      },
      {
        "duration": 4,
        "start_time": "2023-04-19T07:06:29.115Z"
      },
      {
        "duration": 438,
        "start_time": "2023-04-19T07:06:29.122Z"
      },
      {
        "duration": 12,
        "start_time": "2023-04-19T07:06:29.563Z"
      },
      {
        "duration": 60,
        "start_time": "2023-04-19T07:06:29.578Z"
      },
      {
        "duration": 67,
        "start_time": "2023-04-19T07:06:29.640Z"
      },
      {
        "duration": 37,
        "start_time": "2023-04-19T07:06:29.708Z"
      },
      {
        "duration": 22,
        "start_time": "2023-04-19T07:06:29.747Z"
      },
      {
        "duration": 17,
        "start_time": "2023-04-19T07:06:29.771Z"
      },
      {
        "duration": 141,
        "start_time": "2023-04-19T07:06:29.793Z"
      },
      {
        "duration": 5188,
        "start_time": "2023-04-19T07:06:29.936Z"
      },
      {
        "duration": 5414,
        "start_time": "2023-04-19T07:06:35.127Z"
      },
      {
        "duration": 5292,
        "start_time": "2023-04-19T07:06:40.543Z"
      },
      {
        "duration": 42,
        "start_time": "2023-04-19T07:06:45.841Z"
      },
      {
        "duration": 8,
        "start_time": "2023-04-19T07:06:45.886Z"
      },
      {
        "duration": 18,
        "start_time": "2023-04-19T07:06:45.897Z"
      },
      {
        "duration": 28,
        "start_time": "2023-04-19T07:06:45.917Z"
      },
      {
        "duration": 27,
        "start_time": "2023-04-19T07:06:45.948Z"
      },
      {
        "duration": 26,
        "start_time": "2023-04-19T07:06:45.978Z"
      },
      {
        "duration": 11,
        "start_time": "2023-04-19T07:06:46.007Z"
      },
      {
        "duration": 13,
        "start_time": "2023-04-19T07:06:46.021Z"
      },
      {
        "duration": 40,
        "start_time": "2023-04-19T07:06:46.039Z"
      },
      {
        "duration": 21,
        "start_time": "2023-04-19T07:06:46.082Z"
      },
      {
        "duration": 16,
        "start_time": "2023-04-19T07:06:46.106Z"
      },
      {
        "duration": 21,
        "start_time": "2023-04-19T07:06:46.130Z"
      },
      {
        "duration": 7,
        "start_time": "2023-04-19T07:06:46.154Z"
      },
      {
        "duration": 24,
        "start_time": "2023-04-19T07:06:46.163Z"
      },
      {
        "duration": 16,
        "start_time": "2023-04-19T07:06:46.190Z"
      },
      {
        "duration": 39,
        "start_time": "2023-04-19T07:06:46.209Z"
      },
      {
        "duration": 191,
        "start_time": "2023-04-19T07:06:46.251Z"
      },
      {
        "duration": 10,
        "start_time": "2023-04-19T07:06:46.444Z"
      },
      {
        "duration": 109,
        "start_time": "2023-04-19T07:06:46.540Z"
      },
      {
        "duration": 104,
        "start_time": "2023-04-19T07:06:46.653Z"
      },
      {
        "duration": 6,
        "start_time": "2023-04-19T07:06:46.843Z"
      },
      {
        "duration": 7,
        "start_time": "2023-04-19T07:06:46.850Z"
      },
      {
        "duration": 8,
        "start_time": "2023-04-19T07:06:46.859Z"
      },
      {
        "duration": 11,
        "start_time": "2023-04-19T07:06:46.868Z"
      },
      {
        "duration": 9,
        "start_time": "2023-04-19T07:06:46.880Z"
      },
      {
        "duration": 9,
        "start_time": "2023-04-19T07:06:46.891Z"
      },
      {
        "duration": 10,
        "start_time": "2023-04-19T07:06:46.901Z"
      },
      {
        "duration": 201,
        "start_time": "2023-04-19T07:06:46.913Z"
      },
      {
        "duration": 13,
        "start_time": "2023-04-19T07:06:47.117Z"
      },
      {
        "duration": 6,
        "start_time": "2023-04-19T07:06:47.142Z"
      },
      {
        "duration": 15,
        "start_time": "2023-04-19T07:06:47.150Z"
      },
      {
        "duration": 35,
        "start_time": "2023-04-19T07:06:47.168Z"
      },
      {
        "duration": 13,
        "start_time": "2023-04-19T07:06:47.205Z"
      },
      {
        "duration": 20,
        "start_time": "2023-04-19T07:06:47.221Z"
      },
      {
        "duration": 18,
        "start_time": "2023-04-19T07:06:47.244Z"
      },
      {
        "duration": 33,
        "start_time": "2023-04-19T07:06:47.264Z"
      },
      {
        "duration": 15,
        "start_time": "2023-04-19T07:06:47.300Z"
      },
      {
        "duration": 11,
        "start_time": "2023-04-19T07:06:47.318Z"
      },
      {
        "duration": 24,
        "start_time": "2023-04-19T07:06:47.332Z"
      },
      {
        "duration": 14,
        "start_time": "2023-04-19T07:06:47.358Z"
      },
      {
        "duration": 8,
        "start_time": "2023-04-19T07:06:47.375Z"
      },
      {
        "duration": 165,
        "start_time": "2023-04-19T07:06:47.386Z"
      },
      {
        "duration": 9,
        "start_time": "2023-04-19T07:06:47.553Z"
      },
      {
        "duration": 13,
        "start_time": "2023-04-19T07:06:47.564Z"
      },
      {
        "duration": 9,
        "start_time": "2023-04-19T07:06:47.579Z"
      },
      {
        "duration": 16,
        "start_time": "2023-04-19T07:06:47.590Z"
      },
      {
        "duration": 33,
        "start_time": "2023-04-19T07:06:47.608Z"
      },
      {
        "duration": 10,
        "start_time": "2023-04-19T07:06:47.643Z"
      },
      {
        "duration": 10,
        "start_time": "2023-04-19T07:06:47.658Z"
      },
      {
        "duration": 34,
        "start_time": "2023-04-19T07:06:47.670Z"
      },
      {
        "duration": 18,
        "start_time": "2023-04-19T07:06:47.707Z"
      },
      {
        "duration": 1588,
        "start_time": "2023-04-19T07:06:47.727Z"
      },
      {
        "duration": 1690,
        "start_time": "2023-04-19T07:06:49.318Z"
      },
      {
        "duration": 0,
        "start_time": "2023-04-19T07:06:51.011Z"
      },
      {
        "duration": 0,
        "start_time": "2023-04-19T07:06:51.012Z"
      },
      {
        "duration": 1,
        "start_time": "2023-04-19T07:06:51.014Z"
      },
      {
        "duration": 0,
        "start_time": "2023-04-19T07:06:51.016Z"
      },
      {
        "duration": 0,
        "start_time": "2023-04-19T07:06:51.018Z"
      },
      {
        "duration": 0,
        "start_time": "2023-04-19T07:06:51.019Z"
      },
      {
        "duration": 8,
        "start_time": "2023-04-19T07:07:06.611Z"
      },
      {
        "duration": 5,
        "start_time": "2023-04-19T07:07:30.415Z"
      },
      {
        "duration": 1558,
        "start_time": "2023-04-19T07:07:31.769Z"
      },
      {
        "duration": 5,
        "start_time": "2023-04-19T07:07:34.866Z"
      },
      {
        "duration": 6,
        "start_time": "2023-04-19T07:08:55.520Z"
      },
      {
        "duration": 1514,
        "start_time": "2023-04-19T07:08:56.938Z"
      },
      {
        "duration": 5,
        "start_time": "2023-04-19T07:09:00.266Z"
      },
      {
        "duration": 6,
        "start_time": "2023-04-19T07:09:12.743Z"
      },
      {
        "duration": 1596,
        "start_time": "2023-04-19T07:09:13.713Z"
      },
      {
        "duration": 5,
        "start_time": "2023-04-19T07:09:17.860Z"
      },
      {
        "duration": 4,
        "start_time": "2023-04-19T07:10:27.077Z"
      },
      {
        "duration": 467,
        "start_time": "2023-04-19T07:10:27.084Z"
      },
      {
        "duration": 13,
        "start_time": "2023-04-19T07:10:27.553Z"
      },
      {
        "duration": 41,
        "start_time": "2023-04-19T07:10:27.569Z"
      },
      {
        "duration": 17,
        "start_time": "2023-04-19T07:10:27.612Z"
      },
      {
        "duration": 42,
        "start_time": "2023-04-19T07:10:27.631Z"
      },
      {
        "duration": 40,
        "start_time": "2023-04-19T07:10:27.676Z"
      },
      {
        "duration": 17,
        "start_time": "2023-04-19T07:10:27.719Z"
      },
      {
        "duration": 109,
        "start_time": "2023-04-19T07:10:27.740Z"
      },
      {
        "duration": 5257,
        "start_time": "2023-04-19T07:10:27.852Z"
      },
      {
        "duration": 5479,
        "start_time": "2023-04-19T07:10:33.111Z"
      },
      {
        "duration": 5248,
        "start_time": "2023-04-19T07:10:38.592Z"
      },
      {
        "duration": 35,
        "start_time": "2023-04-19T07:10:43.842Z"
      },
      {
        "duration": 6,
        "start_time": "2023-04-19T07:10:43.879Z"
      },
      {
        "duration": 13,
        "start_time": "2023-04-19T07:10:43.887Z"
      },
      {
        "duration": 39,
        "start_time": "2023-04-19T07:10:43.903Z"
      },
      {
        "duration": 29,
        "start_time": "2023-04-19T07:10:43.944Z"
      },
      {
        "duration": 41,
        "start_time": "2023-04-19T07:10:43.975Z"
      },
      {
        "duration": 12,
        "start_time": "2023-04-19T07:10:44.018Z"
      },
      {
        "duration": 16,
        "start_time": "2023-04-19T07:10:44.032Z"
      },
      {
        "duration": 16,
        "start_time": "2023-04-19T07:10:44.050Z"
      },
      {
        "duration": 5,
        "start_time": "2023-04-19T07:10:44.068Z"
      },
      {
        "duration": 18,
        "start_time": "2023-04-19T07:10:44.075Z"
      },
      {
        "duration": 20,
        "start_time": "2023-04-19T07:10:44.099Z"
      },
      {
        "duration": 20,
        "start_time": "2023-04-19T07:10:44.121Z"
      },
      {
        "duration": 17,
        "start_time": "2023-04-19T07:10:44.143Z"
      },
      {
        "duration": 15,
        "start_time": "2023-04-19T07:10:44.162Z"
      },
      {
        "duration": 15,
        "start_time": "2023-04-19T07:10:44.179Z"
      },
      {
        "duration": 54,
        "start_time": "2023-04-19T07:10:44.196Z"
      },
      {
        "duration": 101,
        "start_time": "2023-04-19T07:10:44.254Z"
      },
      {
        "duration": 9,
        "start_time": "2023-04-19T07:10:44.443Z"
      },
      {
        "duration": 185,
        "start_time": "2023-04-19T07:10:44.457Z"
      },
      {
        "duration": 9,
        "start_time": "2023-04-19T07:10:44.645Z"
      },
      {
        "duration": 13,
        "start_time": "2023-04-19T07:10:44.656Z"
      },
      {
        "duration": 15,
        "start_time": "2023-04-19T07:10:44.671Z"
      },
      {
        "duration": 11,
        "start_time": "2023-04-19T07:10:44.688Z"
      },
      {
        "duration": 9,
        "start_time": "2023-04-19T07:10:44.701Z"
      },
      {
        "duration": 19,
        "start_time": "2023-04-19T07:10:44.712Z"
      },
      {
        "duration": 20,
        "start_time": "2023-04-19T07:10:44.733Z"
      },
      {
        "duration": 181,
        "start_time": "2023-04-19T07:10:44.755Z"
      },
      {
        "duration": 10,
        "start_time": "2023-04-19T07:10:44.938Z"
      },
      {
        "duration": 26,
        "start_time": "2023-04-19T07:10:44.950Z"
      },
      {
        "duration": 16,
        "start_time": "2023-04-19T07:10:44.979Z"
      },
      {
        "duration": 59,
        "start_time": "2023-04-19T07:10:44.998Z"
      },
      {
        "duration": 47,
        "start_time": "2023-04-19T07:10:45.059Z"
      },
      {
        "duration": 27,
        "start_time": "2023-04-19T07:10:45.108Z"
      },
      {
        "duration": 24,
        "start_time": "2023-04-19T07:10:45.137Z"
      },
      {
        "duration": 19,
        "start_time": "2023-04-19T07:10:45.164Z"
      },
      {
        "duration": 21,
        "start_time": "2023-04-19T07:10:45.184Z"
      },
      {
        "duration": 18,
        "start_time": "2023-04-19T07:10:45.207Z"
      },
      {
        "duration": 24,
        "start_time": "2023-04-19T07:10:45.227Z"
      },
      {
        "duration": 24,
        "start_time": "2023-04-19T07:10:45.253Z"
      },
      {
        "duration": 27,
        "start_time": "2023-04-19T07:10:45.280Z"
      },
      {
        "duration": 355,
        "start_time": "2023-04-19T07:10:45.309Z"
      },
      {
        "duration": 10,
        "start_time": "2023-04-19T07:10:45.666Z"
      },
      {
        "duration": 14,
        "start_time": "2023-04-19T07:10:45.678Z"
      },
      {
        "duration": 35,
        "start_time": "2023-04-19T07:10:45.694Z"
      },
      {
        "duration": 30,
        "start_time": "2023-04-19T07:10:45.731Z"
      },
      {
        "duration": 12,
        "start_time": "2023-04-19T07:10:45.763Z"
      },
      {
        "duration": 13,
        "start_time": "2023-04-19T07:10:45.777Z"
      },
      {
        "duration": 4,
        "start_time": "2023-04-19T07:10:45.792Z"
      },
      {
        "duration": 12,
        "start_time": "2023-04-19T07:10:45.798Z"
      },
      {
        "duration": 14,
        "start_time": "2023-04-19T07:10:45.812Z"
      },
      {
        "duration": 1641,
        "start_time": "2023-04-19T07:10:45.842Z"
      },
      {
        "duration": 1692,
        "start_time": "2023-04-19T07:10:47.486Z"
      },
      {
        "duration": 1632,
        "start_time": "2023-04-19T07:10:49.181Z"
      },
      {
        "duration": 5,
        "start_time": "2023-04-19T07:10:50.815Z"
      },
      {
        "duration": 54,
        "start_time": "2023-04-19T07:10:50.823Z"
      },
      {
        "duration": 29,
        "start_time": "2023-04-19T07:10:50.883Z"
      },
      {
        "duration": 34,
        "start_time": "2023-04-19T07:10:50.914Z"
      },
      {
        "duration": 16,
        "start_time": "2023-04-19T07:10:50.950Z"
      },
      {
        "duration": 6,
        "start_time": "2023-04-19T07:13:15.240Z"
      },
      {
        "duration": 1574,
        "start_time": "2023-04-19T07:13:17.085Z"
      },
      {
        "duration": 9,
        "start_time": "2023-04-19T07:13:21.599Z"
      },
      {
        "duration": 16,
        "start_time": "2023-04-19T07:13:53.252Z"
      },
      {
        "duration": 6,
        "start_time": "2023-04-19T07:14:06.937Z"
      },
      {
        "duration": 5,
        "start_time": "2023-04-19T07:14:14.418Z"
      },
      {
        "duration": 441,
        "start_time": "2023-04-19T07:14:14.426Z"
      },
      {
        "duration": 12,
        "start_time": "2023-04-19T07:14:14.870Z"
      },
      {
        "duration": 20,
        "start_time": "2023-04-19T07:14:14.886Z"
      },
      {
        "duration": 35,
        "start_time": "2023-04-19T07:14:14.908Z"
      },
      {
        "duration": 34,
        "start_time": "2023-04-19T07:14:14.945Z"
      },
      {
        "duration": 21,
        "start_time": "2023-04-19T07:14:14.982Z"
      },
      {
        "duration": 40,
        "start_time": "2023-04-19T07:14:15.006Z"
      },
      {
        "duration": 117,
        "start_time": "2023-04-19T07:14:15.048Z"
      },
      {
        "duration": 5623,
        "start_time": "2023-04-19T07:14:15.168Z"
      },
      {
        "duration": 5249,
        "start_time": "2023-04-19T07:14:20.794Z"
      },
      {
        "duration": 5277,
        "start_time": "2023-04-19T07:14:26.045Z"
      },
      {
        "duration": 41,
        "start_time": "2023-04-19T07:14:31.324Z"
      },
      {
        "duration": 83,
        "start_time": "2023-04-19T07:14:31.368Z"
      },
      {
        "duration": 106,
        "start_time": "2023-04-19T07:14:31.453Z"
      },
      {
        "duration": 116,
        "start_time": "2023-04-19T07:14:31.561Z"
      },
      {
        "duration": 43,
        "start_time": "2023-04-19T07:14:31.680Z"
      },
      {
        "duration": 66,
        "start_time": "2023-04-19T07:14:31.726Z"
      },
      {
        "duration": 88,
        "start_time": "2023-04-19T07:14:31.794Z"
      },
      {
        "duration": 59,
        "start_time": "2023-04-19T07:14:31.884Z"
      },
      {
        "duration": 42,
        "start_time": "2023-04-19T07:14:31.945Z"
      },
      {
        "duration": 29,
        "start_time": "2023-04-19T07:14:31.989Z"
      },
      {
        "duration": 41,
        "start_time": "2023-04-19T07:14:32.020Z"
      },
      {
        "duration": 45,
        "start_time": "2023-04-19T07:14:32.063Z"
      },
      {
        "duration": 19,
        "start_time": "2023-04-19T07:14:32.110Z"
      },
      {
        "duration": 58,
        "start_time": "2023-04-19T07:14:32.131Z"
      },
      {
        "duration": 34,
        "start_time": "2023-04-19T07:14:32.191Z"
      },
      {
        "duration": 22,
        "start_time": "2023-04-19T07:14:32.230Z"
      },
      {
        "duration": 45,
        "start_time": "2023-04-19T07:14:32.255Z"
      },
      {
        "duration": 155,
        "start_time": "2023-04-19T07:14:32.303Z"
      },
      {
        "duration": 199,
        "start_time": "2023-04-19T07:14:32.460Z"
      },
      {
        "duration": 184,
        "start_time": "2023-04-19T07:14:32.664Z"
      },
      {
        "duration": 39,
        "start_time": "2023-04-19T07:14:32.850Z"
      },
      {
        "duration": 45,
        "start_time": "2023-04-19T07:14:32.891Z"
      },
      {
        "duration": 28,
        "start_time": "2023-04-19T07:14:32.939Z"
      },
      {
        "duration": 39,
        "start_time": "2023-04-19T07:14:32.970Z"
      },
      {
        "duration": 24,
        "start_time": "2023-04-19T07:14:33.012Z"
      },
      {
        "duration": 33,
        "start_time": "2023-04-19T07:14:33.038Z"
      },
      {
        "duration": 43,
        "start_time": "2023-04-19T07:14:33.073Z"
      },
      {
        "duration": 214,
        "start_time": "2023-04-19T07:14:33.119Z"
      },
      {
        "duration": 13,
        "start_time": "2023-04-19T07:14:33.335Z"
      },
      {
        "duration": 47,
        "start_time": "2023-04-19T07:14:33.350Z"
      },
      {
        "duration": 27,
        "start_time": "2023-04-19T07:14:33.399Z"
      },
      {
        "duration": 26,
        "start_time": "2023-04-19T07:14:33.427Z"
      },
      {
        "duration": 14,
        "start_time": "2023-04-19T07:14:33.456Z"
      },
      {
        "duration": 35,
        "start_time": "2023-04-19T07:14:33.473Z"
      },
      {
        "duration": 18,
        "start_time": "2023-04-19T07:14:33.511Z"
      },
      {
        "duration": 37,
        "start_time": "2023-04-19T07:14:33.531Z"
      },
      {
        "duration": 40,
        "start_time": "2023-04-19T07:14:33.571Z"
      },
      {
        "duration": 47,
        "start_time": "2023-04-19T07:14:33.614Z"
      },
      {
        "duration": 23,
        "start_time": "2023-04-19T07:14:33.663Z"
      },
      {
        "duration": 34,
        "start_time": "2023-04-19T07:14:33.688Z"
      },
      {
        "duration": 21,
        "start_time": "2023-04-19T07:14:33.724Z"
      },
      {
        "duration": 177,
        "start_time": "2023-04-19T07:14:33.747Z"
      },
      {
        "duration": 17,
        "start_time": "2023-04-19T07:14:33.926Z"
      },
      {
        "duration": 11,
        "start_time": "2023-04-19T07:14:33.945Z"
      },
      {
        "duration": 11,
        "start_time": "2023-04-19T07:14:33.959Z"
      },
      {
        "duration": 24,
        "start_time": "2023-04-19T07:14:33.972Z"
      },
      {
        "duration": 24,
        "start_time": "2023-04-19T07:14:33.998Z"
      },
      {
        "duration": 13,
        "start_time": "2023-04-19T07:14:34.025Z"
      },
      {
        "duration": 9,
        "start_time": "2023-04-19T07:14:34.040Z"
      },
      {
        "duration": 20,
        "start_time": "2023-04-19T07:14:34.052Z"
      },
      {
        "duration": 192,
        "start_time": "2023-04-19T07:14:34.074Z"
      },
      {
        "duration": 1573,
        "start_time": "2023-04-19T07:14:34.268Z"
      },
      {
        "duration": 1686,
        "start_time": "2023-04-19T07:14:35.844Z"
      },
      {
        "duration": 0,
        "start_time": "2023-04-19T07:14:37.532Z"
      },
      {
        "duration": 0,
        "start_time": "2023-04-19T07:14:37.533Z"
      },
      {
        "duration": 0,
        "start_time": "2023-04-19T07:14:37.542Z"
      },
      {
        "duration": 0,
        "start_time": "2023-04-19T07:14:37.543Z"
      },
      {
        "duration": 0,
        "start_time": "2023-04-19T07:14:37.544Z"
      },
      {
        "duration": 0,
        "start_time": "2023-04-19T07:14:37.546Z"
      },
      {
        "duration": 0,
        "start_time": "2023-04-19T07:14:37.548Z"
      },
      {
        "duration": 5,
        "start_time": "2023-04-19T07:14:51.634Z"
      },
      {
        "duration": 5,
        "start_time": "2023-04-19T07:14:54.523Z"
      },
      {
        "duration": 93,
        "start_time": "2023-04-19T07:17:12.134Z"
      },
      {
        "duration": 5,
        "start_time": "2023-04-19T07:17:57.327Z"
      },
      {
        "duration": 1689,
        "start_time": "2023-04-19T07:17:58.813Z"
      },
      {
        "duration": 1677,
        "start_time": "2023-04-19T07:18:00.505Z"
      },
      {
        "duration": 1614,
        "start_time": "2023-04-19T07:18:02.184Z"
      },
      {
        "duration": 10,
        "start_time": "2023-04-19T07:18:04.648Z"
      },
      {
        "duration": 4,
        "start_time": "2023-04-19T07:18:22.176Z"
      },
      {
        "duration": 464,
        "start_time": "2023-04-19T07:18:22.185Z"
      },
      {
        "duration": 15,
        "start_time": "2023-04-19T07:18:22.651Z"
      },
      {
        "duration": 44,
        "start_time": "2023-04-19T07:18:22.668Z"
      },
      {
        "duration": 16,
        "start_time": "2023-04-19T07:18:22.715Z"
      },
      {
        "duration": 28,
        "start_time": "2023-04-19T07:18:22.734Z"
      },
      {
        "duration": 28,
        "start_time": "2023-04-19T07:18:22.765Z"
      },
      {
        "duration": 20,
        "start_time": "2023-04-19T07:18:22.794Z"
      },
      {
        "duration": 145,
        "start_time": "2023-04-19T07:18:22.816Z"
      },
      {
        "duration": 5861,
        "start_time": "2023-04-19T07:18:22.967Z"
      },
      {
        "duration": 5937,
        "start_time": "2023-04-19T07:18:28.830Z"
      },
      {
        "duration": 6032,
        "start_time": "2023-04-19T07:18:34.770Z"
      },
      {
        "duration": 69,
        "start_time": "2023-04-19T07:18:40.806Z"
      },
      {
        "duration": 5,
        "start_time": "2023-04-19T07:18:40.878Z"
      },
      {
        "duration": 22,
        "start_time": "2023-04-19T07:18:40.886Z"
      },
      {
        "duration": 15,
        "start_time": "2023-04-19T07:18:40.910Z"
      },
      {
        "duration": 24,
        "start_time": "2023-04-19T07:18:40.927Z"
      },
      {
        "duration": 35,
        "start_time": "2023-04-19T07:18:40.959Z"
      },
      {
        "duration": 6,
        "start_time": "2023-04-19T07:18:40.997Z"
      },
      {
        "duration": 20,
        "start_time": "2023-04-19T07:18:41.005Z"
      },
      {
        "duration": 30,
        "start_time": "2023-04-19T07:18:41.028Z"
      },
      {
        "duration": 11,
        "start_time": "2023-04-19T07:18:41.061Z"
      },
      {
        "duration": 16,
        "start_time": "2023-04-19T07:18:41.074Z"
      },
      {
        "duration": 20,
        "start_time": "2023-04-19T07:18:41.093Z"
      },
      {
        "duration": 23,
        "start_time": "2023-04-19T07:18:41.115Z"
      },
      {
        "duration": 37,
        "start_time": "2023-04-19T07:18:41.145Z"
      },
      {
        "duration": 15,
        "start_time": "2023-04-19T07:18:41.184Z"
      },
      {
        "duration": 35,
        "start_time": "2023-04-19T07:18:41.207Z"
      },
      {
        "duration": 113,
        "start_time": "2023-04-19T07:18:41.245Z"
      },
      {
        "duration": 191,
        "start_time": "2023-04-19T07:18:41.364Z"
      },
      {
        "duration": 115,
        "start_time": "2023-04-19T07:18:41.557Z"
      },
      {
        "duration": 191,
        "start_time": "2023-04-19T07:18:41.674Z"
      },
      {
        "duration": 19,
        "start_time": "2023-04-19T07:18:41.867Z"
      },
      {
        "duration": 16,
        "start_time": "2023-04-19T07:18:41.889Z"
      },
      {
        "duration": 8,
        "start_time": "2023-04-19T07:18:41.908Z"
      },
      {
        "duration": 22,
        "start_time": "2023-04-19T07:18:41.918Z"
      },
      {
        "duration": 22,
        "start_time": "2023-04-19T07:18:41.942Z"
      },
      {
        "duration": 5,
        "start_time": "2023-04-19T07:18:41.967Z"
      },
      {
        "duration": 6,
        "start_time": "2023-04-19T07:18:41.975Z"
      },
      {
        "duration": 194,
        "start_time": "2023-04-19T07:18:41.983Z"
      },
      {
        "duration": 14,
        "start_time": "2023-04-19T07:18:42.180Z"
      },
      {
        "duration": 10,
        "start_time": "2023-04-19T07:18:42.196Z"
      },
      {
        "duration": 14,
        "start_time": "2023-04-19T07:18:42.208Z"
      },
      {
        "duration": 51,
        "start_time": "2023-04-19T07:18:42.224Z"
      },
      {
        "duration": 12,
        "start_time": "2023-04-19T07:18:42.280Z"
      },
      {
        "duration": 10,
        "start_time": "2023-04-19T07:18:42.295Z"
      },
      {
        "duration": 21,
        "start_time": "2023-04-19T07:18:42.308Z"
      },
      {
        "duration": 19,
        "start_time": "2023-04-19T07:18:42.331Z"
      },
      {
        "duration": 18,
        "start_time": "2023-04-19T07:18:42.353Z"
      },
      {
        "duration": 12,
        "start_time": "2023-04-19T07:18:42.374Z"
      },
      {
        "duration": 19,
        "start_time": "2023-04-19T07:18:42.388Z"
      },
      {
        "duration": 8,
        "start_time": "2023-04-19T07:18:42.409Z"
      },
      {
        "duration": 15,
        "start_time": "2023-04-19T07:18:42.420Z"
      },
      {
        "duration": 175,
        "start_time": "2023-04-19T07:18:42.438Z"
      },
      {
        "duration": 9,
        "start_time": "2023-04-19T07:18:42.615Z"
      },
      {
        "duration": 28,
        "start_time": "2023-04-19T07:18:42.627Z"
      },
      {
        "duration": 10,
        "start_time": "2023-04-19T07:18:42.658Z"
      },
      {
        "duration": 19,
        "start_time": "2023-04-19T07:18:42.670Z"
      },
      {
        "duration": 23,
        "start_time": "2023-04-19T07:18:42.691Z"
      },
      {
        "duration": 52,
        "start_time": "2023-04-19T07:18:42.716Z"
      },
      {
        "duration": 193,
        "start_time": "2023-04-19T07:18:42.770Z"
      },
      {
        "duration": 15,
        "start_time": "2023-04-19T07:18:42.968Z"
      },
      {
        "duration": 18,
        "start_time": "2023-04-19T07:18:42.986Z"
      },
      {
        "duration": 1683,
        "start_time": "2023-04-19T07:18:43.008Z"
      },
      {
        "duration": 1587,
        "start_time": "2023-04-19T07:18:44.693Z"
      },
      {
        "duration": 1751,
        "start_time": "2023-04-19T07:18:46.282Z"
      },
      {
        "duration": 14,
        "start_time": "2023-04-19T07:18:48.035Z"
      },
      {
        "duration": 36,
        "start_time": "2023-04-19T07:18:48.055Z"
      },
      {
        "duration": 9,
        "start_time": "2023-04-19T07:18:48.093Z"
      },
      {
        "duration": 22,
        "start_time": "2023-04-19T07:18:48.104Z"
      },
      {
        "duration": 15,
        "start_time": "2023-04-19T07:18:48.128Z"
      },
      {
        "duration": 7,
        "start_time": "2023-04-19T07:19:52.145Z"
      },
      {
        "duration": 1634,
        "start_time": "2023-04-19T07:19:53.230Z"
      },
      {
        "duration": 0,
        "start_time": "2023-04-19T07:19:54.867Z"
      },
      {
        "duration": 0,
        "start_time": "2023-04-19T07:19:54.868Z"
      },
      {
        "duration": 7,
        "start_time": "2023-04-19T07:19:55.325Z"
      },
      {
        "duration": 6,
        "start_time": "2023-04-19T07:20:42.376Z"
      },
      {
        "duration": 1731,
        "start_time": "2023-04-19T07:20:43.315Z"
      },
      {
        "duration": 1950,
        "start_time": "2023-04-19T07:20:46.069Z"
      },
      {
        "duration": 1695,
        "start_time": "2023-04-19T07:20:48.022Z"
      },
      {
        "duration": 6,
        "start_time": "2023-04-19T07:20:49.719Z"
      },
      {
        "duration": 16,
        "start_time": "2023-04-19T07:21:36.065Z"
      },
      {
        "duration": 2141,
        "start_time": "2023-04-19T07:21:36.839Z"
      },
      {
        "duration": 1728,
        "start_time": "2023-04-19T07:21:38.983Z"
      },
      {
        "duration": 1765,
        "start_time": "2023-04-19T07:21:40.714Z"
      },
      {
        "duration": 6,
        "start_time": "2023-04-19T07:21:42.482Z"
      },
      {
        "duration": 6,
        "start_time": "2023-04-19T07:23:33.316Z"
      },
      {
        "duration": 1850,
        "start_time": "2023-04-19T07:23:34.049Z"
      },
      {
        "duration": 0,
        "start_time": "2023-04-19T07:23:35.903Z"
      },
      {
        "duration": 0,
        "start_time": "2023-04-19T07:23:35.906Z"
      },
      {
        "duration": 6,
        "start_time": "2023-04-19T07:23:36.082Z"
      },
      {
        "duration": 5,
        "start_time": "2023-04-19T07:23:43.465Z"
      },
      {
        "duration": 558,
        "start_time": "2023-04-19T07:23:43.474Z"
      },
      {
        "duration": 32,
        "start_time": "2023-04-19T07:23:44.035Z"
      },
      {
        "duration": 21,
        "start_time": "2023-04-19T07:23:44.070Z"
      },
      {
        "duration": 25,
        "start_time": "2023-04-19T07:23:44.094Z"
      },
      {
        "duration": 67,
        "start_time": "2023-04-19T07:23:44.122Z"
      },
      {
        "duration": 20,
        "start_time": "2023-04-19T07:23:44.191Z"
      },
      {
        "duration": 31,
        "start_time": "2023-04-19T07:23:44.214Z"
      },
      {
        "duration": 124,
        "start_time": "2023-04-19T07:23:44.253Z"
      },
      {
        "duration": 6359,
        "start_time": "2023-04-19T07:23:44.380Z"
      },
      {
        "duration": 5917,
        "start_time": "2023-04-19T07:23:50.744Z"
      },
      {
        "duration": 6292,
        "start_time": "2023-04-19T07:23:56.664Z"
      },
      {
        "duration": 44,
        "start_time": "2023-04-19T07:24:02.958Z"
      },
      {
        "duration": 12,
        "start_time": "2023-04-19T07:24:03.010Z"
      },
      {
        "duration": 84,
        "start_time": "2023-04-19T07:24:03.023Z"
      },
      {
        "duration": 93,
        "start_time": "2023-04-19T07:24:03.109Z"
      },
      {
        "duration": 12,
        "start_time": "2023-04-19T07:24:03.204Z"
      },
      {
        "duration": 34,
        "start_time": "2023-04-19T07:24:03.219Z"
      },
      {
        "duration": 20,
        "start_time": "2023-04-19T07:24:03.256Z"
      },
      {
        "duration": 13,
        "start_time": "2023-04-19T07:24:03.279Z"
      },
      {
        "duration": 22,
        "start_time": "2023-04-19T07:24:03.295Z"
      },
      {
        "duration": 6,
        "start_time": "2023-04-19T07:24:03.321Z"
      },
      {
        "duration": 23,
        "start_time": "2023-04-19T07:24:03.330Z"
      },
      {
        "duration": 47,
        "start_time": "2023-04-19T07:24:03.356Z"
      },
      {
        "duration": 10,
        "start_time": "2023-04-19T07:24:03.406Z"
      },
      {
        "duration": 38,
        "start_time": "2023-04-19T07:24:03.419Z"
      },
      {
        "duration": 27,
        "start_time": "2023-04-19T07:24:03.461Z"
      },
      {
        "duration": 31,
        "start_time": "2023-04-19T07:24:03.492Z"
      },
      {
        "duration": 53,
        "start_time": "2023-04-19T07:24:03.526Z"
      },
      {
        "duration": 166,
        "start_time": "2023-04-19T07:24:03.582Z"
      },
      {
        "duration": 117,
        "start_time": "2023-04-19T07:24:03.760Z"
      },
      {
        "duration": 192,
        "start_time": "2023-04-19T07:24:03.880Z"
      },
      {
        "duration": 30,
        "start_time": "2023-04-19T07:24:04.075Z"
      },
      {
        "duration": 12,
        "start_time": "2023-04-19T07:24:04.108Z"
      },
      {
        "duration": 10,
        "start_time": "2023-04-19T07:24:04.124Z"
      },
      {
        "duration": 33,
        "start_time": "2023-04-19T07:24:04.137Z"
      },
      {
        "duration": 25,
        "start_time": "2023-04-19T07:24:04.174Z"
      },
      {
        "duration": 12,
        "start_time": "2023-04-19T07:24:04.201Z"
      },
      {
        "duration": 10,
        "start_time": "2023-04-19T07:24:04.216Z"
      },
      {
        "duration": 194,
        "start_time": "2023-04-19T07:24:04.230Z"
      },
      {
        "duration": 21,
        "start_time": "2023-04-19T07:24:04.432Z"
      },
      {
        "duration": 46,
        "start_time": "2023-04-19T07:24:04.454Z"
      },
      {
        "duration": 18,
        "start_time": "2023-04-19T07:24:04.502Z"
      },
      {
        "duration": 10,
        "start_time": "2023-04-19T07:24:04.523Z"
      },
      {
        "duration": 6,
        "start_time": "2023-04-19T07:24:04.536Z"
      },
      {
        "duration": 34,
        "start_time": "2023-04-19T07:24:04.544Z"
      },
      {
        "duration": 16,
        "start_time": "2023-04-19T07:24:04.581Z"
      },
      {
        "duration": 9,
        "start_time": "2023-04-19T07:24:04.600Z"
      },
      {
        "duration": 8,
        "start_time": "2023-04-19T07:24:04.611Z"
      },
      {
        "duration": 7,
        "start_time": "2023-04-19T07:24:04.622Z"
      },
      {
        "duration": 18,
        "start_time": "2023-04-19T07:24:04.631Z"
      },
      {
        "duration": 19,
        "start_time": "2023-04-19T07:24:04.657Z"
      },
      {
        "duration": 12,
        "start_time": "2023-04-19T07:24:04.678Z"
      },
      {
        "duration": 234,
        "start_time": "2023-04-19T07:24:04.693Z"
      },
      {
        "duration": 25,
        "start_time": "2023-04-19T07:24:04.930Z"
      },
      {
        "duration": 35,
        "start_time": "2023-04-19T07:24:04.957Z"
      },
      {
        "duration": 9,
        "start_time": "2023-04-19T07:24:04.994Z"
      },
      {
        "duration": 18,
        "start_time": "2023-04-19T07:24:05.007Z"
      },
      {
        "duration": 20,
        "start_time": "2023-04-19T07:24:05.028Z"
      },
      {
        "duration": 32,
        "start_time": "2023-04-19T07:24:05.051Z"
      },
      {
        "duration": 8,
        "start_time": "2023-04-19T07:24:05.085Z"
      },
      {
        "duration": 24,
        "start_time": "2023-04-19T07:24:05.096Z"
      },
      {
        "duration": 20,
        "start_time": "2023-04-19T07:24:05.123Z"
      },
      {
        "duration": 1978,
        "start_time": "2023-04-19T07:24:05.146Z"
      },
      {
        "duration": 0,
        "start_time": "2023-04-19T07:24:07.127Z"
      },
      {
        "duration": 0,
        "start_time": "2023-04-19T07:24:07.130Z"
      },
      {
        "duration": 0,
        "start_time": "2023-04-19T07:24:07.133Z"
      },
      {
        "duration": 0,
        "start_time": "2023-04-19T07:24:07.150Z"
      },
      {
        "duration": 0,
        "start_time": "2023-04-19T07:24:07.152Z"
      },
      {
        "duration": 0,
        "start_time": "2023-04-19T07:24:07.160Z"
      },
      {
        "duration": 0,
        "start_time": "2023-04-19T07:24:07.164Z"
      },
      {
        "duration": 9,
        "start_time": "2023-04-19T07:24:50.863Z"
      },
      {
        "duration": 1825,
        "start_time": "2023-04-19T07:24:51.867Z"
      },
      {
        "duration": 1727,
        "start_time": "2023-04-19T07:24:53.694Z"
      },
      {
        "duration": 1902,
        "start_time": "2023-04-19T07:24:55.423Z"
      },
      {
        "duration": 24,
        "start_time": "2023-04-19T07:24:57.328Z"
      },
      {
        "duration": 1980,
        "start_time": "2023-04-19T07:26:01.419Z"
      },
      {
        "duration": 476,
        "start_time": "2023-04-19T07:26:03.402Z"
      },
      {
        "duration": 17,
        "start_time": "2023-04-19T07:26:03.880Z"
      },
      {
        "duration": 58,
        "start_time": "2023-04-19T07:26:03.899Z"
      },
      {
        "duration": 23,
        "start_time": "2023-04-19T07:26:03.964Z"
      },
      {
        "duration": 67,
        "start_time": "2023-04-19T07:26:03.990Z"
      },
      {
        "duration": 72,
        "start_time": "2023-04-19T07:26:04.060Z"
      },
      {
        "duration": 49,
        "start_time": "2023-04-19T07:26:04.134Z"
      },
      {
        "duration": 135,
        "start_time": "2023-04-19T07:26:04.185Z"
      },
      {
        "duration": 5937,
        "start_time": "2023-04-19T07:26:04.323Z"
      },
      {
        "duration": 5967,
        "start_time": "2023-04-19T07:26:10.263Z"
      },
      {
        "duration": 5955,
        "start_time": "2023-04-19T07:26:16.233Z"
      },
      {
        "duration": 61,
        "start_time": "2023-04-19T07:26:22.191Z"
      },
      {
        "duration": 5,
        "start_time": "2023-04-19T07:26:22.263Z"
      },
      {
        "duration": 10,
        "start_time": "2023-04-19T07:26:22.271Z"
      },
      {
        "duration": 13,
        "start_time": "2023-04-19T07:26:22.283Z"
      },
      {
        "duration": 14,
        "start_time": "2023-04-19T07:26:22.298Z"
      },
      {
        "duration": 19,
        "start_time": "2023-04-19T07:26:22.314Z"
      },
      {
        "duration": 31,
        "start_time": "2023-04-19T07:26:22.335Z"
      },
      {
        "duration": 12,
        "start_time": "2023-04-19T07:26:22.369Z"
      },
      {
        "duration": 22,
        "start_time": "2023-04-19T07:26:22.383Z"
      },
      {
        "duration": 6,
        "start_time": "2023-04-19T07:26:22.407Z"
      },
      {
        "duration": 14,
        "start_time": "2023-04-19T07:26:22.415Z"
      },
      {
        "duration": 36,
        "start_time": "2023-04-19T07:26:22.431Z"
      },
      {
        "duration": 12,
        "start_time": "2023-04-19T07:26:22.469Z"
      },
      {
        "duration": 33,
        "start_time": "2023-04-19T07:26:22.483Z"
      },
      {
        "duration": 30,
        "start_time": "2023-04-19T07:26:22.518Z"
      },
      {
        "duration": 30,
        "start_time": "2023-04-19T07:26:22.555Z"
      },
      {
        "duration": 15,
        "start_time": "2023-04-19T07:26:22.588Z"
      },
      {
        "duration": 140,
        "start_time": "2023-04-19T07:26:22.611Z"
      },
      {
        "duration": 214,
        "start_time": "2023-04-19T07:26:22.753Z"
      },
      {
        "duration": 189,
        "start_time": "2023-04-19T07:26:22.974Z"
      },
      {
        "duration": 12,
        "start_time": "2023-04-19T07:26:23.165Z"
      },
      {
        "duration": 6,
        "start_time": "2023-04-19T07:26:23.179Z"
      },
      {
        "duration": 10,
        "start_time": "2023-04-19T07:26:23.187Z"
      },
      {
        "duration": 8,
        "start_time": "2023-04-19T07:26:23.199Z"
      },
      {
        "duration": 15,
        "start_time": "2023-04-19T07:26:23.210Z"
      },
      {
        "duration": 6,
        "start_time": "2023-04-19T07:26:23.228Z"
      },
      {
        "duration": 25,
        "start_time": "2023-04-19T07:26:23.237Z"
      },
      {
        "duration": 195,
        "start_time": "2023-04-19T07:26:23.265Z"
      },
      {
        "duration": 13,
        "start_time": "2023-04-19T07:26:23.467Z"
      },
      {
        "duration": 8,
        "start_time": "2023-04-19T07:26:23.482Z"
      },
      {
        "duration": 8,
        "start_time": "2023-04-19T07:26:23.492Z"
      },
      {
        "duration": 8,
        "start_time": "2023-04-19T07:26:23.503Z"
      },
      {
        "duration": 7,
        "start_time": "2023-04-19T07:26:23.513Z"
      },
      {
        "duration": 23,
        "start_time": "2023-04-19T07:26:23.522Z"
      },
      {
        "duration": 27,
        "start_time": "2023-04-19T07:26:23.547Z"
      },
      {
        "duration": 5,
        "start_time": "2023-04-19T07:26:23.576Z"
      },
      {
        "duration": 9,
        "start_time": "2023-04-19T07:26:23.583Z"
      },
      {
        "duration": 8,
        "start_time": "2023-04-19T07:26:23.595Z"
      },
      {
        "duration": 9,
        "start_time": "2023-04-19T07:26:23.606Z"
      },
      {
        "duration": 13,
        "start_time": "2023-04-19T07:26:23.618Z"
      },
      {
        "duration": 12,
        "start_time": "2023-04-19T07:26:23.634Z"
      },
      {
        "duration": 257,
        "start_time": "2023-04-19T07:26:23.648Z"
      },
      {
        "duration": 10,
        "start_time": "2023-04-19T07:26:23.908Z"
      },
      {
        "duration": 26,
        "start_time": "2023-04-19T07:26:23.921Z"
      },
      {
        "duration": 29,
        "start_time": "2023-04-19T07:26:23.955Z"
      },
      {
        "duration": 15,
        "start_time": "2023-04-19T07:26:23.987Z"
      },
      {
        "duration": 27,
        "start_time": "2023-04-19T07:26:24.004Z"
      },
      {
        "duration": 18,
        "start_time": "2023-04-19T07:26:24.033Z"
      },
      {
        "duration": 25,
        "start_time": "2023-04-19T07:26:24.054Z"
      },
      {
        "duration": 7,
        "start_time": "2023-04-19T07:26:24.081Z"
      },
      {
        "duration": 13,
        "start_time": "2023-04-19T07:26:24.090Z"
      },
      {
        "duration": 1619,
        "start_time": "2023-04-19T07:26:24.105Z"
      },
      {
        "duration": 1760,
        "start_time": "2023-04-19T07:26:25.726Z"
      },
      {
        "duration": 1616,
        "start_time": "2023-04-19T07:26:27.489Z"
      },
      {
        "duration": 5,
        "start_time": "2023-04-19T07:26:29.107Z"
      },
      {
        "duration": 17,
        "start_time": "2023-04-19T07:26:29.114Z"
      },
      {
        "duration": 41,
        "start_time": "2023-04-19T07:26:29.142Z"
      },
      {
        "duration": 10,
        "start_time": "2023-04-19T07:26:29.185Z"
      },
      {
        "duration": 18,
        "start_time": "2023-04-19T07:26:29.198Z"
      },
      {
        "duration": 12,
        "start_time": "2023-04-19T07:29:54.534Z"
      },
      {
        "duration": 4,
        "start_time": "2023-04-19T07:30:02.348Z"
      },
      {
        "duration": 4,
        "start_time": "2023-04-19T07:30:02.558Z"
      },
      {
        "duration": 7,
        "start_time": "2023-04-19T07:30:25.582Z"
      },
      {
        "duration": 7,
        "start_time": "2023-04-19T07:30:35.322Z"
      },
      {
        "duration": 4,
        "start_time": "2023-04-19T07:32:52.768Z"
      },
      {
        "duration": 5,
        "start_time": "2023-04-19T07:32:53.558Z"
      },
      {
        "duration": 12,
        "start_time": "2023-04-19T07:32:54.287Z"
      },
      {
        "duration": 4,
        "start_time": "2023-04-19T09:01:46.915Z"
      },
      {
        "duration": 5,
        "start_time": "2023-04-19T09:01:47.903Z"
      },
      {
        "duration": 10,
        "start_time": "2023-04-19T09:01:48.625Z"
      },
      {
        "duration": 3,
        "start_time": "2023-04-19T09:06:25.149Z"
      },
      {
        "duration": 6,
        "start_time": "2023-04-19T09:06:30.559Z"
      },
      {
        "duration": 11,
        "start_time": "2023-04-19T09:06:44.264Z"
      },
      {
        "duration": 8,
        "start_time": "2023-04-19T09:39:12.557Z"
      },
      {
        "duration": 12,
        "start_time": "2023-04-19T09:39:13.388Z"
      },
      {
        "duration": 1559,
        "start_time": "2023-04-19T10:57:14.158Z"
      },
      {
        "duration": 442,
        "start_time": "2023-04-19T10:57:15.719Z"
      },
      {
        "duration": 15,
        "start_time": "2023-04-19T10:57:16.163Z"
      },
      {
        "duration": 20,
        "start_time": "2023-04-19T10:57:16.181Z"
      },
      {
        "duration": 23,
        "start_time": "2023-04-19T10:57:16.203Z"
      },
      {
        "duration": 31,
        "start_time": "2023-04-19T10:57:16.228Z"
      },
      {
        "duration": 17,
        "start_time": "2023-04-19T10:57:16.261Z"
      },
      {
        "duration": 21,
        "start_time": "2023-04-19T10:57:16.281Z"
      },
      {
        "duration": 137,
        "start_time": "2023-04-19T10:57:16.305Z"
      },
      {
        "duration": 5273,
        "start_time": "2023-04-19T10:57:16.446Z"
      },
      {
        "duration": 4839,
        "start_time": "2023-04-19T10:57:21.721Z"
      },
      {
        "duration": 5473,
        "start_time": "2023-04-19T10:57:26.562Z"
      },
      {
        "duration": 35,
        "start_time": "2023-04-19T10:57:32.037Z"
      },
      {
        "duration": 11,
        "start_time": "2023-04-19T10:57:32.073Z"
      },
      {
        "duration": 22,
        "start_time": "2023-04-19T10:57:32.086Z"
      },
      {
        "duration": 25,
        "start_time": "2023-04-19T10:57:32.110Z"
      },
      {
        "duration": 30,
        "start_time": "2023-04-19T10:57:32.137Z"
      },
      {
        "duration": 32,
        "start_time": "2023-04-19T10:57:32.169Z"
      },
      {
        "duration": 17,
        "start_time": "2023-04-19T10:57:32.203Z"
      },
      {
        "duration": 35,
        "start_time": "2023-04-19T10:57:32.222Z"
      },
      {
        "duration": 42,
        "start_time": "2023-04-19T10:57:32.259Z"
      },
      {
        "duration": 22,
        "start_time": "2023-04-19T10:57:32.304Z"
      },
      {
        "duration": 74,
        "start_time": "2023-04-19T10:57:32.328Z"
      },
      {
        "duration": 180,
        "start_time": "2023-04-19T10:57:32.404Z"
      },
      {
        "duration": 14,
        "start_time": "2023-04-19T10:57:32.586Z"
      },
      {
        "duration": 42,
        "start_time": "2023-04-19T10:57:32.602Z"
      },
      {
        "duration": 41,
        "start_time": "2023-04-19T10:57:32.645Z"
      },
      {
        "duration": 22,
        "start_time": "2023-04-19T10:57:32.691Z"
      },
      {
        "duration": 31,
        "start_time": "2023-04-19T10:57:32.715Z"
      },
      {
        "duration": 215,
        "start_time": "2023-04-19T10:57:32.749Z"
      },
      {
        "duration": 213,
        "start_time": "2023-04-19T10:57:32.966Z"
      },
      {
        "duration": 178,
        "start_time": "2023-04-19T10:57:33.181Z"
      },
      {
        "duration": 23,
        "start_time": "2023-04-19T10:57:33.361Z"
      },
      {
        "duration": 35,
        "start_time": "2023-04-19T10:57:33.386Z"
      },
      {
        "duration": 10,
        "start_time": "2023-04-19T10:57:33.423Z"
      },
      {
        "duration": 15,
        "start_time": "2023-04-19T10:57:33.435Z"
      },
      {
        "duration": 28,
        "start_time": "2023-04-19T10:57:33.452Z"
      },
      {
        "duration": 9,
        "start_time": "2023-04-19T10:57:33.483Z"
      },
      {
        "duration": 32,
        "start_time": "2023-04-19T10:57:33.494Z"
      },
      {
        "duration": 181,
        "start_time": "2023-04-19T10:57:33.528Z"
      },
      {
        "duration": 9,
        "start_time": "2023-04-19T10:57:33.711Z"
      },
      {
        "duration": 20,
        "start_time": "2023-04-19T10:57:33.721Z"
      },
      {
        "duration": 3,
        "start_time": "2023-04-19T10:57:33.743Z"
      },
      {
        "duration": 6,
        "start_time": "2023-04-19T10:57:33.748Z"
      },
      {
        "duration": 7,
        "start_time": "2023-04-19T10:57:33.756Z"
      },
      {
        "duration": 13,
        "start_time": "2023-04-19T10:57:33.766Z"
      },
      {
        "duration": 9,
        "start_time": "2023-04-19T10:57:33.781Z"
      },
      {
        "duration": 10,
        "start_time": "2023-04-19T10:57:33.792Z"
      },
      {
        "duration": 16,
        "start_time": "2023-04-19T10:57:33.804Z"
      },
      {
        "duration": 7,
        "start_time": "2023-04-19T10:57:33.822Z"
      },
      {
        "duration": 4,
        "start_time": "2023-04-19T10:57:33.842Z"
      },
      {
        "duration": 12,
        "start_time": "2023-04-19T10:57:33.848Z"
      },
      {
        "duration": 16,
        "start_time": "2023-04-19T10:57:33.862Z"
      },
      {
        "duration": 163,
        "start_time": "2023-04-19T10:57:33.880Z"
      },
      {
        "duration": 9,
        "start_time": "2023-04-19T10:57:34.046Z"
      },
      {
        "duration": 20,
        "start_time": "2023-04-19T10:57:34.056Z"
      },
      {
        "duration": 15,
        "start_time": "2023-04-19T10:57:34.078Z"
      },
      {
        "duration": 20,
        "start_time": "2023-04-19T10:57:34.095Z"
      },
      {
        "duration": 14,
        "start_time": "2023-04-19T10:57:34.117Z"
      },
      {
        "duration": 12,
        "start_time": "2023-04-19T10:57:34.134Z"
      },
      {
        "duration": 5,
        "start_time": "2023-04-19T10:57:34.148Z"
      },
      {
        "duration": 11,
        "start_time": "2023-04-19T10:57:34.155Z"
      },
      {
        "duration": 18,
        "start_time": "2023-04-19T10:57:34.168Z"
      },
      {
        "duration": 1544,
        "start_time": "2023-04-19T10:57:34.188Z"
      },
      {
        "duration": 1617,
        "start_time": "2023-04-19T10:57:35.735Z"
      },
      {
        "duration": 1512,
        "start_time": "2023-04-19T10:57:37.354Z"
      },
      {
        "duration": 8,
        "start_time": "2023-04-19T10:57:38.868Z"
      },
      {
        "duration": 8,
        "start_time": "2023-04-19T10:57:38.878Z"
      },
      {
        "duration": 9,
        "start_time": "2023-04-19T10:57:38.888Z"
      },
      {
        "duration": 20,
        "start_time": "2023-04-19T10:57:38.899Z"
      },
      {
        "duration": 25,
        "start_time": "2023-04-19T10:57:38.922Z"
      },
      {
        "duration": 20,
        "start_time": "2023-04-19T10:57:38.949Z"
      },
      {
        "duration": 5,
        "start_time": "2023-04-19T11:01:59.151Z"
      },
      {
        "duration": 1603,
        "start_time": "2023-04-19T11:01:59.925Z"
      },
      {
        "duration": 1502,
        "start_time": "2023-04-19T11:02:01.530Z"
      },
      {
        "duration": 1492,
        "start_time": "2023-04-19T11:02:03.035Z"
      },
      {
        "duration": 13,
        "start_time": "2023-04-19T11:02:04.529Z"
      },
      {
        "duration": 1808,
        "start_time": "2023-04-19T11:05:00.765Z"
      },
      {
        "duration": 443,
        "start_time": "2023-04-19T11:05:02.575Z"
      },
      {
        "duration": 15,
        "start_time": "2023-04-19T11:05:03.020Z"
      },
      {
        "duration": 15,
        "start_time": "2023-04-19T11:05:03.040Z"
      },
      {
        "duration": 20,
        "start_time": "2023-04-19T11:05:03.058Z"
      },
      {
        "duration": 33,
        "start_time": "2023-04-19T11:05:03.080Z"
      },
      {
        "duration": 30,
        "start_time": "2023-04-19T11:05:03.115Z"
      },
      {
        "duration": 17,
        "start_time": "2023-04-19T11:05:03.147Z"
      },
      {
        "duration": 128,
        "start_time": "2023-04-19T11:05:03.165Z"
      },
      {
        "duration": 5417,
        "start_time": "2023-04-19T11:05:03.298Z"
      },
      {
        "duration": 5121,
        "start_time": "2023-04-19T11:05:08.717Z"
      },
      {
        "duration": 5537,
        "start_time": "2023-04-19T11:05:13.841Z"
      },
      {
        "duration": 34,
        "start_time": "2023-04-19T11:05:19.380Z"
      },
      {
        "duration": 26,
        "start_time": "2023-04-19T11:05:19.415Z"
      },
      {
        "duration": 7,
        "start_time": "2023-04-19T11:05:19.443Z"
      },
      {
        "duration": 15,
        "start_time": "2023-04-19T11:05:19.451Z"
      },
      {
        "duration": 29,
        "start_time": "2023-04-19T11:05:19.468Z"
      },
      {
        "duration": 31,
        "start_time": "2023-04-19T11:05:19.499Z"
      },
      {
        "duration": 20,
        "start_time": "2023-04-19T11:05:19.532Z"
      },
      {
        "duration": 36,
        "start_time": "2023-04-19T11:05:19.554Z"
      },
      {
        "duration": 28,
        "start_time": "2023-04-19T11:05:19.593Z"
      },
      {
        "duration": 15,
        "start_time": "2023-04-19T11:05:19.623Z"
      },
      {
        "duration": 34,
        "start_time": "2023-04-19T11:05:19.639Z"
      },
      {
        "duration": 34,
        "start_time": "2023-04-19T11:05:19.676Z"
      },
      {
        "duration": 25,
        "start_time": "2023-04-19T11:05:19.712Z"
      },
      {
        "duration": 37,
        "start_time": "2023-04-19T11:05:19.739Z"
      },
      {
        "duration": 32,
        "start_time": "2023-04-19T11:05:19.777Z"
      },
      {
        "duration": 36,
        "start_time": "2023-04-19T11:05:19.814Z"
      },
      {
        "duration": 34,
        "start_time": "2023-04-19T11:05:19.852Z"
      },
      {
        "duration": 155,
        "start_time": "2023-04-19T11:05:19.887Z"
      },
      {
        "duration": 107,
        "start_time": "2023-04-19T11:05:20.044Z"
      },
      {
        "duration": 96,
        "start_time": "2023-04-19T11:05:20.154Z"
      },
      {
        "duration": 116,
        "start_time": "2023-04-19T11:05:20.252Z"
      },
      {
        "duration": 16,
        "start_time": "2023-04-19T11:05:20.370Z"
      },
      {
        "duration": 24,
        "start_time": "2023-04-19T11:05:20.389Z"
      },
      {
        "duration": 32,
        "start_time": "2023-04-19T11:05:20.415Z"
      },
      {
        "duration": 17,
        "start_time": "2023-04-19T11:05:20.449Z"
      },
      {
        "duration": 22,
        "start_time": "2023-04-19T11:05:20.468Z"
      },
      {
        "duration": 21,
        "start_time": "2023-04-19T11:05:20.492Z"
      },
      {
        "duration": 196,
        "start_time": "2023-04-19T11:05:20.515Z"
      },
      {
        "duration": 9,
        "start_time": "2023-04-19T11:05:20.714Z"
      },
      {
        "duration": 16,
        "start_time": "2023-04-19T11:05:20.725Z"
      },
      {
        "duration": 28,
        "start_time": "2023-04-19T11:05:20.743Z"
      },
      {
        "duration": 17,
        "start_time": "2023-04-19T11:05:20.773Z"
      },
      {
        "duration": 21,
        "start_time": "2023-04-19T11:05:20.793Z"
      },
      {
        "duration": 35,
        "start_time": "2023-04-19T11:05:20.816Z"
      },
      {
        "duration": 33,
        "start_time": "2023-04-19T11:05:20.853Z"
      },
      {
        "duration": 59,
        "start_time": "2023-04-19T11:05:20.888Z"
      },
      {
        "duration": 40,
        "start_time": "2023-04-19T11:05:20.949Z"
      },
      {
        "duration": 12,
        "start_time": "2023-04-19T11:05:20.991Z"
      },
      {
        "duration": 15,
        "start_time": "2023-04-19T11:05:21.005Z"
      },
      {
        "duration": 13,
        "start_time": "2023-04-19T11:05:21.023Z"
      },
      {
        "duration": 28,
        "start_time": "2023-04-19T11:05:21.038Z"
      },
      {
        "duration": 162,
        "start_time": "2023-04-19T11:05:21.068Z"
      },
      {
        "duration": 23,
        "start_time": "2023-04-19T11:05:21.233Z"
      },
      {
        "duration": 31,
        "start_time": "2023-04-19T11:05:21.258Z"
      },
      {
        "duration": 29,
        "start_time": "2023-04-19T11:05:21.291Z"
      },
      {
        "duration": 38,
        "start_time": "2023-04-19T11:05:21.322Z"
      },
      {
        "duration": 39,
        "start_time": "2023-04-19T11:05:21.362Z"
      },
      {
        "duration": 16,
        "start_time": "2023-04-19T11:05:21.403Z"
      },
      {
        "duration": 25,
        "start_time": "2023-04-19T11:05:21.421Z"
      },
      {
        "duration": 30,
        "start_time": "2023-04-19T11:05:21.448Z"
      },
      {
        "duration": 18,
        "start_time": "2023-04-19T11:05:21.481Z"
      },
      {
        "duration": 1553,
        "start_time": "2023-04-19T11:05:21.502Z"
      },
      {
        "duration": 1494,
        "start_time": "2023-04-19T11:05:23.058Z"
      },
      {
        "duration": 1646,
        "start_time": "2023-04-19T11:05:24.554Z"
      },
      {
        "duration": 7,
        "start_time": "2023-04-19T11:05:26.202Z"
      },
      {
        "duration": 28,
        "start_time": "2023-04-19T11:05:26.211Z"
      },
      {
        "duration": 21,
        "start_time": "2023-04-19T11:05:26.241Z"
      },
      {
        "duration": 18,
        "start_time": "2023-04-19T11:05:26.264Z"
      },
      {
        "duration": 13,
        "start_time": "2023-04-19T11:05:26.284Z"
      },
      {
        "duration": 20,
        "start_time": "2023-04-19T11:05:26.299Z"
      },
      {
        "duration": 1636,
        "start_time": "2023-10-20T06:44:58.002Z"
      },
      {
        "duration": 831,
        "start_time": "2023-10-20T06:44:59.640Z"
      },
      {
        "duration": 14,
        "start_time": "2023-10-20T06:45:00.473Z"
      },
      {
        "duration": 52,
        "start_time": "2023-10-20T06:45:00.489Z"
      },
      {
        "duration": 30,
        "start_time": "2023-10-20T06:45:00.543Z"
      },
      {
        "duration": 67,
        "start_time": "2023-10-20T06:45:00.575Z"
      },
      {
        "duration": 197,
        "start_time": "2023-10-20T06:45:00.644Z"
      },
      {
        "duration": 93,
        "start_time": "2023-10-20T06:45:00.843Z"
      },
      {
        "duration": 331,
        "start_time": "2023-10-20T06:45:00.938Z"
      },
      {
        "duration": 5452,
        "start_time": "2023-10-20T06:45:01.273Z"
      },
      {
        "duration": 5298,
        "start_time": "2023-10-20T06:45:06.727Z"
      },
      {
        "duration": 5448,
        "start_time": "2023-10-20T06:45:12.027Z"
      },
      {
        "duration": 50,
        "start_time": "2023-10-20T06:45:17.476Z"
      },
      {
        "duration": 5,
        "start_time": "2023-10-20T06:45:17.527Z"
      },
      {
        "duration": 27,
        "start_time": "2023-10-20T06:45:17.533Z"
      },
      {
        "duration": 26,
        "start_time": "2023-10-20T06:45:17.562Z"
      },
      {
        "duration": 38,
        "start_time": "2023-10-20T06:45:17.590Z"
      },
      {
        "duration": 41,
        "start_time": "2023-10-20T06:45:17.630Z"
      },
      {
        "duration": 44,
        "start_time": "2023-10-20T06:45:17.672Z"
      },
      {
        "duration": 42,
        "start_time": "2023-10-20T06:45:17.718Z"
      },
      {
        "duration": 59,
        "start_time": "2023-10-20T06:45:17.762Z"
      },
      {
        "duration": 32,
        "start_time": "2023-10-20T06:45:17.823Z"
      },
      {
        "duration": 59,
        "start_time": "2023-10-20T06:45:17.857Z"
      },
      {
        "duration": 52,
        "start_time": "2023-10-20T06:45:17.918Z"
      },
      {
        "duration": 14,
        "start_time": "2023-10-20T06:45:17.973Z"
      },
      {
        "duration": 39,
        "start_time": "2023-10-20T06:45:17.988Z"
      },
      {
        "duration": 16,
        "start_time": "2023-10-20T06:45:18.028Z"
      },
      {
        "duration": 30,
        "start_time": "2023-10-20T06:45:18.048Z"
      },
      {
        "duration": 28,
        "start_time": "2023-10-20T06:45:18.080Z"
      },
      {
        "duration": 116,
        "start_time": "2023-10-20T06:45:18.110Z"
      },
      {
        "duration": 22,
        "start_time": "2023-10-20T06:45:18.306Z"
      },
      {
        "duration": 84,
        "start_time": "2023-10-20T06:45:18.331Z"
      },
      {
        "duration": 97,
        "start_time": "2023-10-20T06:45:18.417Z"
      },
      {
        "duration": 21,
        "start_time": "2023-10-20T06:45:18.515Z"
      },
      {
        "duration": 26,
        "start_time": "2023-10-20T06:45:18.537Z"
      },
      {
        "duration": 52,
        "start_time": "2023-10-20T06:45:18.564Z"
      },
      {
        "duration": 27,
        "start_time": "2023-10-20T06:45:18.620Z"
      },
      {
        "duration": 34,
        "start_time": "2023-10-20T06:45:18.648Z"
      },
      {
        "duration": 41,
        "start_time": "2023-10-20T06:45:18.684Z"
      },
      {
        "duration": 187,
        "start_time": "2023-10-20T06:45:18.726Z"
      },
      {
        "duration": 9,
        "start_time": "2023-10-20T06:45:18.920Z"
      },
      {
        "duration": 27,
        "start_time": "2023-10-20T06:45:18.931Z"
      },
      {
        "duration": 6,
        "start_time": "2023-10-20T06:45:18.961Z"
      },
      {
        "duration": 23,
        "start_time": "2023-10-20T06:45:18.968Z"
      },
      {
        "duration": 4,
        "start_time": "2023-10-20T06:45:18.993Z"
      },
      {
        "duration": 23,
        "start_time": "2023-10-20T06:45:18.999Z"
      },
      {
        "duration": 23,
        "start_time": "2023-10-20T06:45:19.023Z"
      },
      {
        "duration": 27,
        "start_time": "2023-10-20T06:45:19.048Z"
      },
      {
        "duration": 15,
        "start_time": "2023-10-20T06:45:19.077Z"
      },
      {
        "duration": 10,
        "start_time": "2023-10-20T06:45:19.094Z"
      },
      {
        "duration": 15,
        "start_time": "2023-10-20T06:45:19.106Z"
      },
      {
        "duration": 36,
        "start_time": "2023-10-20T06:45:19.125Z"
      },
      {
        "duration": 14,
        "start_time": "2023-10-20T06:45:19.162Z"
      },
      {
        "duration": 156,
        "start_time": "2023-10-20T06:45:19.178Z"
      },
      {
        "duration": 8,
        "start_time": "2023-10-20T06:45:19.335Z"
      },
      {
        "duration": 14,
        "start_time": "2023-10-20T06:45:19.345Z"
      },
      {
        "duration": 13,
        "start_time": "2023-10-20T06:45:19.361Z"
      },
      {
        "duration": 12,
        "start_time": "2023-10-20T06:45:19.376Z"
      },
      {
        "duration": 20,
        "start_time": "2023-10-20T06:45:19.390Z"
      },
      {
        "duration": 16,
        "start_time": "2023-10-20T06:45:19.414Z"
      },
      {
        "duration": 9,
        "start_time": "2023-10-20T06:45:19.432Z"
      },
      {
        "duration": 8,
        "start_time": "2023-10-20T06:45:19.444Z"
      },
      {
        "duration": 14,
        "start_time": "2023-10-20T06:45:19.454Z"
      },
      {
        "duration": 1472,
        "start_time": "2023-10-20T06:45:19.471Z"
      },
      {
        "duration": 1390,
        "start_time": "2023-10-20T06:45:20.945Z"
      },
      {
        "duration": 1414,
        "start_time": "2023-10-20T06:45:22.337Z"
      },
      {
        "duration": 6,
        "start_time": "2023-10-20T06:45:23.753Z"
      },
      {
        "duration": 8,
        "start_time": "2023-10-20T06:45:23.761Z"
      },
      {
        "duration": 5,
        "start_time": "2023-10-20T06:45:23.771Z"
      },
      {
        "duration": 10,
        "start_time": "2023-10-20T06:45:23.777Z"
      },
      {
        "duration": 24,
        "start_time": "2023-10-20T06:45:23.788Z"
      },
      {
        "duration": 19,
        "start_time": "2023-10-20T06:45:23.814Z"
      },
      {
        "duration": 4,
        "start_time": "2023-10-20T06:50:45.117Z"
      },
      {
        "duration": 3,
        "start_time": "2023-10-20T06:50:45.819Z"
      },
      {
        "duration": 3,
        "start_time": "2023-10-20T06:50:46.534Z"
      },
      {
        "duration": 3,
        "start_time": "2023-10-20T06:50:47.218Z"
      },
      {
        "duration": 3,
        "start_time": "2023-10-20T06:50:52.861Z"
      },
      {
        "duration": 4,
        "start_time": "2023-10-20T06:50:53.660Z"
      },
      {
        "duration": 3,
        "start_time": "2023-10-20T06:59:46.974Z"
      },
      {
        "duration": 11,
        "start_time": "2023-10-20T06:59:51.698Z"
      },
      {
        "duration": 9,
        "start_time": "2023-10-20T06:59:52.460Z"
      },
      {
        "duration": 8,
        "start_time": "2023-10-20T06:59:53.168Z"
      },
      {
        "duration": 4,
        "start_time": "2023-10-20T06:59:55.101Z"
      },
      {
        "duration": 3,
        "start_time": "2023-10-20T07:00:14.174Z"
      },
      {
        "duration": 471,
        "start_time": "2023-10-20T07:00:14.179Z"
      },
      {
        "duration": 10,
        "start_time": "2023-10-20T07:00:14.652Z"
      },
      {
        "duration": 22,
        "start_time": "2023-10-20T07:00:14.664Z"
      },
      {
        "duration": 32,
        "start_time": "2023-10-20T07:00:14.688Z"
      },
      {
        "duration": 43,
        "start_time": "2023-10-20T07:00:14.722Z"
      },
      {
        "duration": 19,
        "start_time": "2023-10-20T07:00:14.767Z"
      },
      {
        "duration": 37,
        "start_time": "2023-10-20T07:00:14.787Z"
      },
      {
        "duration": 99,
        "start_time": "2023-10-20T07:00:14.826Z"
      },
      {
        "duration": 5083,
        "start_time": "2023-10-20T07:00:14.927Z"
      },
      {
        "duration": 5041,
        "start_time": "2023-10-20T07:00:20.013Z"
      },
      {
        "duration": 5018,
        "start_time": "2023-10-20T07:00:25.056Z"
      },
      {
        "duration": 52,
        "start_time": "2023-10-20T07:00:30.076Z"
      },
      {
        "duration": 58,
        "start_time": "2023-10-20T07:00:30.130Z"
      },
      {
        "duration": 188,
        "start_time": "2023-10-20T07:00:30.191Z"
      },
      {
        "duration": 41,
        "start_time": "2023-10-20T07:00:30.382Z"
      },
      {
        "duration": 50,
        "start_time": "2023-10-20T07:00:30.425Z"
      },
      {
        "duration": 61,
        "start_time": "2023-10-20T07:00:30.477Z"
      },
      {
        "duration": 42,
        "start_time": "2023-10-20T07:00:30.540Z"
      },
      {
        "duration": 40,
        "start_time": "2023-10-20T07:00:30.585Z"
      },
      {
        "duration": 73,
        "start_time": "2023-10-20T07:00:30.627Z"
      },
      {
        "duration": 70,
        "start_time": "2023-10-20T07:00:30.702Z"
      },
      {
        "duration": 49,
        "start_time": "2023-10-20T07:00:30.773Z"
      },
      {
        "duration": 216,
        "start_time": "2023-10-20T07:00:30.824Z"
      },
      {
        "duration": 470,
        "start_time": "2023-10-20T07:00:31.042Z"
      },
      {
        "duration": 452,
        "start_time": "2023-10-20T07:00:31.514Z"
      },
      {
        "duration": 30,
        "start_time": "2023-10-20T07:00:31.968Z"
      },
      {
        "duration": 50,
        "start_time": "2023-10-20T07:00:32.000Z"
      },
      {
        "duration": 40,
        "start_time": "2023-10-20T07:00:32.169Z"
      },
      {
        "duration": 120,
        "start_time": "2023-10-20T07:00:32.213Z"
      },
      {
        "duration": 187,
        "start_time": "2023-10-20T07:00:32.335Z"
      },
      {
        "duration": 82,
        "start_time": "2023-10-20T07:00:32.527Z"
      },
      {
        "duration": 114,
        "start_time": "2023-10-20T07:00:32.611Z"
      },
      {
        "duration": 46,
        "start_time": "2023-10-20T07:00:32.726Z"
      },
      {
        "duration": 54,
        "start_time": "2023-10-20T07:00:32.773Z"
      },
      {
        "duration": 44,
        "start_time": "2023-10-20T07:00:32.828Z"
      },
      {
        "duration": 32,
        "start_time": "2023-10-20T07:00:32.874Z"
      },
      {
        "duration": 13,
        "start_time": "2023-10-20T07:00:32.913Z"
      },
      {
        "duration": 29,
        "start_time": "2023-10-20T07:00:32.927Z"
      },
      {
        "duration": 146,
        "start_time": "2023-10-20T07:00:32.957Z"
      },
      {
        "duration": 9,
        "start_time": "2023-10-20T07:00:33.107Z"
      },
      {
        "duration": 29,
        "start_time": "2023-10-20T07:00:33.123Z"
      },
      {
        "duration": 14,
        "start_time": "2023-10-20T07:00:33.154Z"
      },
      {
        "duration": 19,
        "start_time": "2023-10-20T07:00:33.170Z"
      },
      {
        "duration": 11,
        "start_time": "2023-10-20T07:00:33.191Z"
      },
      {
        "duration": 18,
        "start_time": "2023-10-20T07:00:33.204Z"
      },
      {
        "duration": 14,
        "start_time": "2023-10-20T07:00:33.224Z"
      },
      {
        "duration": 24,
        "start_time": "2023-10-20T07:00:33.240Z"
      },
      {
        "duration": 38,
        "start_time": "2023-10-20T07:00:33.266Z"
      },
      {
        "duration": 19,
        "start_time": "2023-10-20T07:00:33.305Z"
      },
      {
        "duration": 50,
        "start_time": "2023-10-20T07:00:33.326Z"
      },
      {
        "duration": 25,
        "start_time": "2023-10-20T07:00:33.378Z"
      },
      {
        "duration": 34,
        "start_time": "2023-10-20T07:00:33.405Z"
      },
      {
        "duration": 144,
        "start_time": "2023-10-20T07:00:33.441Z"
      },
      {
        "duration": 9,
        "start_time": "2023-10-20T07:00:33.587Z"
      },
      {
        "duration": 16,
        "start_time": "2023-10-20T07:00:33.607Z"
      },
      {
        "duration": 15,
        "start_time": "2023-10-20T07:00:33.624Z"
      },
      {
        "duration": 50,
        "start_time": "2023-10-20T07:00:33.641Z"
      },
      {
        "duration": 22,
        "start_time": "2023-10-20T07:00:33.693Z"
      },
      {
        "duration": 10,
        "start_time": "2023-10-20T07:00:33.721Z"
      },
      {
        "duration": 10,
        "start_time": "2023-10-20T07:00:33.733Z"
      },
      {
        "duration": 17,
        "start_time": "2023-10-20T07:00:33.745Z"
      },
      {
        "duration": 19,
        "start_time": "2023-10-20T07:00:33.763Z"
      },
      {
        "duration": 1437,
        "start_time": "2023-10-20T07:00:33.783Z"
      },
      {
        "duration": 1549,
        "start_time": "2023-10-20T07:00:35.225Z"
      },
      {
        "duration": 1470,
        "start_time": "2023-10-20T07:00:36.776Z"
      },
      {
        "duration": 5,
        "start_time": "2023-10-20T07:00:38.248Z"
      },
      {
        "duration": 22,
        "start_time": "2023-10-20T07:00:38.254Z"
      },
      {
        "duration": 26,
        "start_time": "2023-10-20T07:00:38.278Z"
      },
      {
        "duration": 25,
        "start_time": "2023-10-20T07:00:38.305Z"
      },
      {
        "duration": 31,
        "start_time": "2023-10-20T07:00:38.332Z"
      },
      {
        "duration": 34,
        "start_time": "2023-10-20T07:00:38.365Z"
      }
    ],
    "kernelspec": {
      "display_name": "Python 3 (ipykernel)",
      "language": "python",
      "name": "python3"
    },
    "language_info": {
      "codemirror_mode": {
        "name": "ipython",
        "version": 3
      },
      "file_extension": ".py",
      "mimetype": "text/x-python",
      "name": "python",
      "nbconvert_exporter": "python",
      "pygments_lexer": "ipython3",
      "version": "3.9.5"
    },
    "toc": {
      "base_numbering": 1,
      "nav_menu": {},
      "number_sections": true,
      "sideBar": true,
      "skip_h1_title": true,
      "title_cell": "Table of Contents",
      "title_sidebar": "Contents",
      "toc_cell": false,
      "toc_position": {},
      "toc_section_display": true,
      "toc_window_display": false
    },
    "colab": {
      "provenance": []
    }
  },
  "nbformat": 4,
  "nbformat_minor": 0
}