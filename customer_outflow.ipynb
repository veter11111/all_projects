{
  "cells": [
    {
      "cell_type": "markdown",
      "metadata": {
        "id": "gmXhBDHWA7am"
      },
      "source": [
        "# Отток клиентов"
      ]
    },
    {
      "cell_type": "markdown",
      "metadata": {
        "id": "Wwgq_3A0A7an"
      },
      "source": [
        "Из «Бета-Банка» стали уходить клиенты. Маркетологи посчитали: сохранять текущих клиентов дешевле, чем привлекать новых.\n",
        "\n",
        "Цель данного проекта - спрогнозировать, уйдёт клиент из банка в ближайшее время или нет.\n",
        "\n",
        "В нашем распоряжении исторические данные о поведении клиентов и расторжении договоров с банком.\n",
        "\n",
        "Описание данных:\n",
        "\n",
        "Признаки\n",
        "-\tRowNumber — индекс строки в данных\n",
        "-   CustomerId — уникальный идентификатор клиента\n",
        "-\tSurname — фамилия\n",
        "-\tCreditScore — кредитный рейтинг\n",
        "-\tGeography — страна проживания\n",
        "-\tGender — пол\n",
        "-\tAge — возраст\n",
        "-\tTenure — сколько лет человек является клиентом банка\n",
        "-\tBalance — баланс на счёте\n",
        "-\tNumOfProducts — количество продуктов банка, используемых клиентом\n",
        "-\tHasCrCard — наличие кредитной карты\n",
        "-\tIsActiveMember — активность клиента\n",
        "-\tEstimatedSalary — предполагаемая зарплата\n",
        "\n",
        "Целевой признак\n",
        "-\tExited — факт ухода клиента\n",
        "\n",
        "Для реализации поставленной цели будут проделаны следующие шаги: загружены и подготовлены данные; исследован баланс классов; обучены модели без учёта дисбаланса; улучшено качество моделей, учитывая дисбаланс классов; обучены разные модели с целью найти лучшую (с предельно большим значением F1-меры); измерено AUC-ROC, проведено финальное тестирование лучшей модели.\n"
      ]
    },
    {
      "cell_type": "markdown",
      "metadata": {
        "id": "FVosoKzGA7an"
      },
      "source": [
        "## Подготовка данных"
      ]
    },
    {
      "cell_type": "code",
      "execution_count": null,
      "metadata": {
        "id": "3zdfoeg4A7ao"
      },
      "outputs": [],
      "source": [
        "import pandas as pd\n",
        "import matplotlib.pyplot as plt\n",
        "from sklearn.preprocessing import OrdinalEncoder\n",
        "from sklearn.preprocessing import StandardScaler\n",
        "from sklearn.preprocessing import OneHotEncoder\n",
        "from sklearn.model_selection import train_test_split\n",
        "from sklearn.tree import DecisionTreeClassifier\n",
        "from sklearn.ensemble import RandomForestClassifier\n",
        "from sklearn.linear_model import LogisticRegression\n",
        "from sklearn.metrics import f1_score\n",
        "from sklearn.metrics import roc_auc_score\n",
        "from sklearn.utils import shuffle"
      ]
    },
    {
      "cell_type": "markdown",
      "metadata": {
        "id": "s9Tsix0RA7aq"
      },
      "source": [
        "**Открытие и изучение файла**"
      ]
    },
    {
      "cell_type": "code",
      "execution_count": null,
      "metadata": {
        "id": "JRMUWz_CA7aq"
      },
      "outputs": [],
      "source": [
        "df = pd.read_csv('/datasets/Churn.csv')"
      ]
    },
    {
      "cell_type": "code",
      "execution_count": null,
      "metadata": {
        "id": "4mlREwFKA7aq",
        "outputId": "c1e5389b-8e02-4559-fc92-62c88f84a32b"
      },
      "outputs": [
        {
          "data": {
            "text/html": [
              "<div>\n",
              "<style scoped>\n",
              "    .dataframe tbody tr th:only-of-type {\n",
              "        vertical-align: middle;\n",
              "    }\n",
              "\n",
              "    .dataframe tbody tr th {\n",
              "        vertical-align: top;\n",
              "    }\n",
              "\n",
              "    .dataframe thead th {\n",
              "        text-align: right;\n",
              "    }\n",
              "</style>\n",
              "<table border=\"1\" class=\"dataframe\">\n",
              "  <thead>\n",
              "    <tr style=\"text-align: right;\">\n",
              "      <th></th>\n",
              "      <th>RowNumber</th>\n",
              "      <th>CustomerId</th>\n",
              "      <th>Surname</th>\n",
              "      <th>CreditScore</th>\n",
              "      <th>Geography</th>\n",
              "      <th>Gender</th>\n",
              "      <th>Age</th>\n",
              "      <th>Tenure</th>\n",
              "      <th>Balance</th>\n",
              "      <th>NumOfProducts</th>\n",
              "      <th>HasCrCard</th>\n",
              "      <th>IsActiveMember</th>\n",
              "      <th>EstimatedSalary</th>\n",
              "      <th>Exited</th>\n",
              "    </tr>\n",
              "  </thead>\n",
              "  <tbody>\n",
              "    <tr>\n",
              "      <th>0</th>\n",
              "      <td>1</td>\n",
              "      <td>15634602</td>\n",
              "      <td>Hargrave</td>\n",
              "      <td>619</td>\n",
              "      <td>France</td>\n",
              "      <td>Female</td>\n",
              "      <td>42</td>\n",
              "      <td>2.0</td>\n",
              "      <td>0.00</td>\n",
              "      <td>1</td>\n",
              "      <td>1</td>\n",
              "      <td>1</td>\n",
              "      <td>101348.88</td>\n",
              "      <td>1</td>\n",
              "    </tr>\n",
              "    <tr>\n",
              "      <th>1</th>\n",
              "      <td>2</td>\n",
              "      <td>15647311</td>\n",
              "      <td>Hill</td>\n",
              "      <td>608</td>\n",
              "      <td>Spain</td>\n",
              "      <td>Female</td>\n",
              "      <td>41</td>\n",
              "      <td>1.0</td>\n",
              "      <td>83807.86</td>\n",
              "      <td>1</td>\n",
              "      <td>0</td>\n",
              "      <td>1</td>\n",
              "      <td>112542.58</td>\n",
              "      <td>0</td>\n",
              "    </tr>\n",
              "    <tr>\n",
              "      <th>2</th>\n",
              "      <td>3</td>\n",
              "      <td>15619304</td>\n",
              "      <td>Onio</td>\n",
              "      <td>502</td>\n",
              "      <td>France</td>\n",
              "      <td>Female</td>\n",
              "      <td>42</td>\n",
              "      <td>8.0</td>\n",
              "      <td>159660.80</td>\n",
              "      <td>3</td>\n",
              "      <td>1</td>\n",
              "      <td>0</td>\n",
              "      <td>113931.57</td>\n",
              "      <td>1</td>\n",
              "    </tr>\n",
              "    <tr>\n",
              "      <th>3</th>\n",
              "      <td>4</td>\n",
              "      <td>15701354</td>\n",
              "      <td>Boni</td>\n",
              "      <td>699</td>\n",
              "      <td>France</td>\n",
              "      <td>Female</td>\n",
              "      <td>39</td>\n",
              "      <td>1.0</td>\n",
              "      <td>0.00</td>\n",
              "      <td>2</td>\n",
              "      <td>0</td>\n",
              "      <td>0</td>\n",
              "      <td>93826.63</td>\n",
              "      <td>0</td>\n",
              "    </tr>\n",
              "    <tr>\n",
              "      <th>4</th>\n",
              "      <td>5</td>\n",
              "      <td>15737888</td>\n",
              "      <td>Mitchell</td>\n",
              "      <td>850</td>\n",
              "      <td>Spain</td>\n",
              "      <td>Female</td>\n",
              "      <td>43</td>\n",
              "      <td>2.0</td>\n",
              "      <td>125510.82</td>\n",
              "      <td>1</td>\n",
              "      <td>1</td>\n",
              "      <td>1</td>\n",
              "      <td>79084.10</td>\n",
              "      <td>0</td>\n",
              "    </tr>\n",
              "  </tbody>\n",
              "</table>\n",
              "</div>"
            ],
            "text/plain": [
              "   RowNumber  CustomerId   Surname  CreditScore Geography  Gender  Age  \\\n",
              "0          1    15634602  Hargrave          619    France  Female   42   \n",
              "1          2    15647311      Hill          608     Spain  Female   41   \n",
              "2          3    15619304      Onio          502    France  Female   42   \n",
              "3          4    15701354      Boni          699    France  Female   39   \n",
              "4          5    15737888  Mitchell          850     Spain  Female   43   \n",
              "\n",
              "   Tenure    Balance  NumOfProducts  HasCrCard  IsActiveMember  \\\n",
              "0     2.0       0.00              1          1               1   \n",
              "1     1.0   83807.86              1          0               1   \n",
              "2     8.0  159660.80              3          1               0   \n",
              "3     1.0       0.00              2          0               0   \n",
              "4     2.0  125510.82              1          1               1   \n",
              "\n",
              "   EstimatedSalary  Exited  \n",
              "0        101348.88       1  \n",
              "1        112542.58       0  \n",
              "2        113931.57       1  \n",
              "3         93826.63       0  \n",
              "4         79084.10       0  "
            ]
          },
          "execution_count": 3,
          "metadata": {},
          "output_type": "execute_result"
        }
      ],
      "source": [
        "df.head()"
      ]
    },
    {
      "cell_type": "code",
      "execution_count": null,
      "metadata": {
        "id": "a9-gqgdsA7as",
        "outputId": "d4e7c912-d404-4f4b-8dc2-71d5c585d07a"
      },
      "outputs": [
        {
          "name": "stdout",
          "output_type": "stream",
          "text": [
            "<class 'pandas.core.frame.DataFrame'>\n",
            "RangeIndex: 10000 entries, 0 to 9999\n",
            "Data columns (total 14 columns):\n",
            " #   Column           Non-Null Count  Dtype  \n",
            "---  ------           --------------  -----  \n",
            " 0   RowNumber        10000 non-null  int64  \n",
            " 1   CustomerId       10000 non-null  int64  \n",
            " 2   Surname          10000 non-null  object \n",
            " 3   CreditScore      10000 non-null  int64  \n",
            " 4   Geography        10000 non-null  object \n",
            " 5   Gender           10000 non-null  object \n",
            " 6   Age              10000 non-null  int64  \n",
            " 7   Tenure           9091 non-null   float64\n",
            " 8   Balance          10000 non-null  float64\n",
            " 9   NumOfProducts    10000 non-null  int64  \n",
            " 10  HasCrCard        10000 non-null  int64  \n",
            " 11  IsActiveMember   10000 non-null  int64  \n",
            " 12  EstimatedSalary  10000 non-null  float64\n",
            " 13  Exited           10000 non-null  int64  \n",
            "dtypes: float64(3), int64(8), object(3)\n",
            "memory usage: 1.1+ MB\n"
          ]
        }
      ],
      "source": [
        "df.info()"
      ]
    },
    {
      "cell_type": "markdown",
      "metadata": {
        "id": "E0p65AA8A7as"
      },
      "source": [
        "Рассматриваемая таблица состоит из 14 столбцов и 10000 строк, в столбце Tenure есть пропуски, присутствует три столбца с типом данных object."
      ]
    },
    {
      "cell_type": "code",
      "execution_count": null,
      "metadata": {
        "id": "zNhvrqBRA7as",
        "outputId": "594ebed3-68d0-4ed0-d51b-2e7c70fd62a2"
      },
      "outputs": [
        {
          "data": {
            "text/html": [
              "<div>\n",
              "<style scoped>\n",
              "    .dataframe tbody tr th:only-of-type {\n",
              "        vertical-align: middle;\n",
              "    }\n",
              "\n",
              "    .dataframe tbody tr th {\n",
              "        vertical-align: top;\n",
              "    }\n",
              "\n",
              "    .dataframe thead th {\n",
              "        text-align: right;\n",
              "    }\n",
              "</style>\n",
              "<table border=\"1\" class=\"dataframe\">\n",
              "  <thead>\n",
              "    <tr style=\"text-align: right;\">\n",
              "      <th></th>\n",
              "      <th>RowNumber</th>\n",
              "      <th>CustomerId</th>\n",
              "      <th>CreditScore</th>\n",
              "      <th>Age</th>\n",
              "      <th>Tenure</th>\n",
              "      <th>Balance</th>\n",
              "      <th>NumOfProducts</th>\n",
              "      <th>HasCrCard</th>\n",
              "      <th>IsActiveMember</th>\n",
              "      <th>EstimatedSalary</th>\n",
              "      <th>Exited</th>\n",
              "    </tr>\n",
              "  </thead>\n",
              "  <tbody>\n",
              "    <tr>\n",
              "      <th>RowNumber</th>\n",
              "      <td>1.000000</td>\n",
              "      <td>0.004202</td>\n",
              "      <td>0.005840</td>\n",
              "      <td>0.000783</td>\n",
              "      <td>-0.007322</td>\n",
              "      <td>-0.009067</td>\n",
              "      <td>0.007246</td>\n",
              "      <td>0.000599</td>\n",
              "      <td>0.012044</td>\n",
              "      <td>-0.005988</td>\n",
              "      <td>-0.016571</td>\n",
              "    </tr>\n",
              "    <tr>\n",
              "      <th>CustomerId</th>\n",
              "      <td>0.004202</td>\n",
              "      <td>1.000000</td>\n",
              "      <td>0.005308</td>\n",
              "      <td>0.009497</td>\n",
              "      <td>-0.021418</td>\n",
              "      <td>-0.012419</td>\n",
              "      <td>0.016972</td>\n",
              "      <td>-0.014025</td>\n",
              "      <td>0.001665</td>\n",
              "      <td>0.015271</td>\n",
              "      <td>-0.006248</td>\n",
              "    </tr>\n",
              "    <tr>\n",
              "      <th>CreditScore</th>\n",
              "      <td>0.005840</td>\n",
              "      <td>0.005308</td>\n",
              "      <td>1.000000</td>\n",
              "      <td>-0.003965</td>\n",
              "      <td>-0.000062</td>\n",
              "      <td>0.006268</td>\n",
              "      <td>0.012238</td>\n",
              "      <td>-0.005458</td>\n",
              "      <td>0.025651</td>\n",
              "      <td>-0.001384</td>\n",
              "      <td>-0.027094</td>\n",
              "    </tr>\n",
              "    <tr>\n",
              "      <th>Age</th>\n",
              "      <td>0.000783</td>\n",
              "      <td>0.009497</td>\n",
              "      <td>-0.003965</td>\n",
              "      <td>1.000000</td>\n",
              "      <td>-0.013134</td>\n",
              "      <td>0.028308</td>\n",
              "      <td>-0.030680</td>\n",
              "      <td>-0.011721</td>\n",
              "      <td>0.085472</td>\n",
              "      <td>-0.007201</td>\n",
              "      <td>0.285323</td>\n",
              "    </tr>\n",
              "    <tr>\n",
              "      <th>Tenure</th>\n",
              "      <td>-0.007322</td>\n",
              "      <td>-0.021418</td>\n",
              "      <td>-0.000062</td>\n",
              "      <td>-0.013134</td>\n",
              "      <td>1.000000</td>\n",
              "      <td>-0.007911</td>\n",
              "      <td>0.011979</td>\n",
              "      <td>0.027232</td>\n",
              "      <td>-0.032178</td>\n",
              "      <td>0.010520</td>\n",
              "      <td>-0.016761</td>\n",
              "    </tr>\n",
              "    <tr>\n",
              "      <th>Balance</th>\n",
              "      <td>-0.009067</td>\n",
              "      <td>-0.012419</td>\n",
              "      <td>0.006268</td>\n",
              "      <td>0.028308</td>\n",
              "      <td>-0.007911</td>\n",
              "      <td>1.000000</td>\n",
              "      <td>-0.304180</td>\n",
              "      <td>-0.014858</td>\n",
              "      <td>-0.010084</td>\n",
              "      <td>0.012797</td>\n",
              "      <td>0.118533</td>\n",
              "    </tr>\n",
              "    <tr>\n",
              "      <th>NumOfProducts</th>\n",
              "      <td>0.007246</td>\n",
              "      <td>0.016972</td>\n",
              "      <td>0.012238</td>\n",
              "      <td>-0.030680</td>\n",
              "      <td>0.011979</td>\n",
              "      <td>-0.304180</td>\n",
              "      <td>1.000000</td>\n",
              "      <td>0.003183</td>\n",
              "      <td>0.009612</td>\n",
              "      <td>0.014204</td>\n",
              "      <td>-0.047820</td>\n",
              "    </tr>\n",
              "    <tr>\n",
              "      <th>HasCrCard</th>\n",
              "      <td>0.000599</td>\n",
              "      <td>-0.014025</td>\n",
              "      <td>-0.005458</td>\n",
              "      <td>-0.011721</td>\n",
              "      <td>0.027232</td>\n",
              "      <td>-0.014858</td>\n",
              "      <td>0.003183</td>\n",
              "      <td>1.000000</td>\n",
              "      <td>-0.011866</td>\n",
              "      <td>-0.009933</td>\n",
              "      <td>-0.007138</td>\n",
              "    </tr>\n",
              "    <tr>\n",
              "      <th>IsActiveMember</th>\n",
              "      <td>0.012044</td>\n",
              "      <td>0.001665</td>\n",
              "      <td>0.025651</td>\n",
              "      <td>0.085472</td>\n",
              "      <td>-0.032178</td>\n",
              "      <td>-0.010084</td>\n",
              "      <td>0.009612</td>\n",
              "      <td>-0.011866</td>\n",
              "      <td>1.000000</td>\n",
              "      <td>-0.011421</td>\n",
              "      <td>-0.156128</td>\n",
              "    </tr>\n",
              "    <tr>\n",
              "      <th>EstimatedSalary</th>\n",
              "      <td>-0.005988</td>\n",
              "      <td>0.015271</td>\n",
              "      <td>-0.001384</td>\n",
              "      <td>-0.007201</td>\n",
              "      <td>0.010520</td>\n",
              "      <td>0.012797</td>\n",
              "      <td>0.014204</td>\n",
              "      <td>-0.009933</td>\n",
              "      <td>-0.011421</td>\n",
              "      <td>1.000000</td>\n",
              "      <td>0.012097</td>\n",
              "    </tr>\n",
              "    <tr>\n",
              "      <th>Exited</th>\n",
              "      <td>-0.016571</td>\n",
              "      <td>-0.006248</td>\n",
              "      <td>-0.027094</td>\n",
              "      <td>0.285323</td>\n",
              "      <td>-0.016761</td>\n",
              "      <td>0.118533</td>\n",
              "      <td>-0.047820</td>\n",
              "      <td>-0.007138</td>\n",
              "      <td>-0.156128</td>\n",
              "      <td>0.012097</td>\n",
              "      <td>1.000000</td>\n",
              "    </tr>\n",
              "  </tbody>\n",
              "</table>\n",
              "</div>"
            ],
            "text/plain": [
              "                 RowNumber  CustomerId  CreditScore       Age    Tenure  \\\n",
              "RowNumber         1.000000    0.004202     0.005840  0.000783 -0.007322   \n",
              "CustomerId        0.004202    1.000000     0.005308  0.009497 -0.021418   \n",
              "CreditScore       0.005840    0.005308     1.000000 -0.003965 -0.000062   \n",
              "Age               0.000783    0.009497    -0.003965  1.000000 -0.013134   \n",
              "Tenure           -0.007322   -0.021418    -0.000062 -0.013134  1.000000   \n",
              "Balance          -0.009067   -0.012419     0.006268  0.028308 -0.007911   \n",
              "NumOfProducts     0.007246    0.016972     0.012238 -0.030680  0.011979   \n",
              "HasCrCard         0.000599   -0.014025    -0.005458 -0.011721  0.027232   \n",
              "IsActiveMember    0.012044    0.001665     0.025651  0.085472 -0.032178   \n",
              "EstimatedSalary  -0.005988    0.015271    -0.001384 -0.007201  0.010520   \n",
              "Exited           -0.016571   -0.006248    -0.027094  0.285323 -0.016761   \n",
              "\n",
              "                  Balance  NumOfProducts  HasCrCard  IsActiveMember  \\\n",
              "RowNumber       -0.009067       0.007246   0.000599        0.012044   \n",
              "CustomerId      -0.012419       0.016972  -0.014025        0.001665   \n",
              "CreditScore      0.006268       0.012238  -0.005458        0.025651   \n",
              "Age              0.028308      -0.030680  -0.011721        0.085472   \n",
              "Tenure          -0.007911       0.011979   0.027232       -0.032178   \n",
              "Balance          1.000000      -0.304180  -0.014858       -0.010084   \n",
              "NumOfProducts   -0.304180       1.000000   0.003183        0.009612   \n",
              "HasCrCard       -0.014858       0.003183   1.000000       -0.011866   \n",
              "IsActiveMember  -0.010084       0.009612  -0.011866        1.000000   \n",
              "EstimatedSalary  0.012797       0.014204  -0.009933       -0.011421   \n",
              "Exited           0.118533      -0.047820  -0.007138       -0.156128   \n",
              "\n",
              "                 EstimatedSalary    Exited  \n",
              "RowNumber              -0.005988 -0.016571  \n",
              "CustomerId              0.015271 -0.006248  \n",
              "CreditScore            -0.001384 -0.027094  \n",
              "Age                    -0.007201  0.285323  \n",
              "Tenure                  0.010520 -0.016761  \n",
              "Balance                 0.012797  0.118533  \n",
              "NumOfProducts           0.014204 -0.047820  \n",
              "HasCrCard              -0.009933 -0.007138  \n",
              "IsActiveMember         -0.011421 -0.156128  \n",
              "EstimatedSalary         1.000000  0.012097  \n",
              "Exited                  0.012097  1.000000  "
            ]
          },
          "execution_count": 5,
          "metadata": {},
          "output_type": "execute_result"
        }
      ],
      "source": [
        "df.corr()"
      ]
    },
    {
      "cell_type": "markdown",
      "metadata": {
        "id": "3oZPEEhLA7at"
      },
      "source": [
        "Слабая положительная корреляция присутсвует между Age - Exited и между  Balance-Exited. Слабая отрицательная корреляция присутсвует между Balance - NumOfProducts и между Exited - IsActiveMember. Корреляция между остальными признаками практически нулевая."
      ]
    },
    {
      "cell_type": "code",
      "execution_count": null,
      "metadata": {
        "id": "hNNjP9O6A7at",
        "outputId": "2949a203-e9cc-4aaa-b33c-46dbf6140229"
      },
      "outputs": [
        {
          "data": {
            "text/html": [
              "<div>\n",
              "<style scoped>\n",
              "    .dataframe tbody tr th:only-of-type {\n",
              "        vertical-align: middle;\n",
              "    }\n",
              "\n",
              "    .dataframe tbody tr th {\n",
              "        vertical-align: top;\n",
              "    }\n",
              "\n",
              "    .dataframe thead th {\n",
              "        text-align: right;\n",
              "    }\n",
              "</style>\n",
              "<table border=\"1\" class=\"dataframe\">\n",
              "  <thead>\n",
              "    <tr style=\"text-align: right;\">\n",
              "      <th></th>\n",
              "      <th>RowNumber</th>\n",
              "      <th>CustomerId</th>\n",
              "      <th>CreditScore</th>\n",
              "      <th>Age</th>\n",
              "      <th>Tenure</th>\n",
              "      <th>Balance</th>\n",
              "      <th>NumOfProducts</th>\n",
              "      <th>HasCrCard</th>\n",
              "      <th>IsActiveMember</th>\n",
              "      <th>EstimatedSalary</th>\n",
              "      <th>Exited</th>\n",
              "    </tr>\n",
              "  </thead>\n",
              "  <tbody>\n",
              "    <tr>\n",
              "      <th>count</th>\n",
              "      <td>10000.00000</td>\n",
              "      <td>1.000000e+04</td>\n",
              "      <td>10000.000000</td>\n",
              "      <td>10000.000000</td>\n",
              "      <td>9091.000000</td>\n",
              "      <td>10000.000000</td>\n",
              "      <td>10000.000000</td>\n",
              "      <td>10000.00000</td>\n",
              "      <td>10000.000000</td>\n",
              "      <td>10000.000000</td>\n",
              "      <td>10000.000000</td>\n",
              "    </tr>\n",
              "    <tr>\n",
              "      <th>mean</th>\n",
              "      <td>5000.50000</td>\n",
              "      <td>1.569094e+07</td>\n",
              "      <td>650.528800</td>\n",
              "      <td>38.921800</td>\n",
              "      <td>4.997690</td>\n",
              "      <td>76485.889288</td>\n",
              "      <td>1.530200</td>\n",
              "      <td>0.70550</td>\n",
              "      <td>0.515100</td>\n",
              "      <td>100090.239881</td>\n",
              "      <td>0.203700</td>\n",
              "    </tr>\n",
              "    <tr>\n",
              "      <th>std</th>\n",
              "      <td>2886.89568</td>\n",
              "      <td>7.193619e+04</td>\n",
              "      <td>96.653299</td>\n",
              "      <td>10.487806</td>\n",
              "      <td>2.894723</td>\n",
              "      <td>62397.405202</td>\n",
              "      <td>0.581654</td>\n",
              "      <td>0.45584</td>\n",
              "      <td>0.499797</td>\n",
              "      <td>57510.492818</td>\n",
              "      <td>0.402769</td>\n",
              "    </tr>\n",
              "    <tr>\n",
              "      <th>min</th>\n",
              "      <td>1.00000</td>\n",
              "      <td>1.556570e+07</td>\n",
              "      <td>350.000000</td>\n",
              "      <td>18.000000</td>\n",
              "      <td>0.000000</td>\n",
              "      <td>0.000000</td>\n",
              "      <td>1.000000</td>\n",
              "      <td>0.00000</td>\n",
              "      <td>0.000000</td>\n",
              "      <td>11.580000</td>\n",
              "      <td>0.000000</td>\n",
              "    </tr>\n",
              "    <tr>\n",
              "      <th>25%</th>\n",
              "      <td>2500.75000</td>\n",
              "      <td>1.562853e+07</td>\n",
              "      <td>584.000000</td>\n",
              "      <td>32.000000</td>\n",
              "      <td>2.000000</td>\n",
              "      <td>0.000000</td>\n",
              "      <td>1.000000</td>\n",
              "      <td>0.00000</td>\n",
              "      <td>0.000000</td>\n",
              "      <td>51002.110000</td>\n",
              "      <td>0.000000</td>\n",
              "    </tr>\n",
              "    <tr>\n",
              "      <th>50%</th>\n",
              "      <td>5000.50000</td>\n",
              "      <td>1.569074e+07</td>\n",
              "      <td>652.000000</td>\n",
              "      <td>37.000000</td>\n",
              "      <td>5.000000</td>\n",
              "      <td>97198.540000</td>\n",
              "      <td>1.000000</td>\n",
              "      <td>1.00000</td>\n",
              "      <td>1.000000</td>\n",
              "      <td>100193.915000</td>\n",
              "      <td>0.000000</td>\n",
              "    </tr>\n",
              "    <tr>\n",
              "      <th>75%</th>\n",
              "      <td>7500.25000</td>\n",
              "      <td>1.575323e+07</td>\n",
              "      <td>718.000000</td>\n",
              "      <td>44.000000</td>\n",
              "      <td>7.000000</td>\n",
              "      <td>127644.240000</td>\n",
              "      <td>2.000000</td>\n",
              "      <td>1.00000</td>\n",
              "      <td>1.000000</td>\n",
              "      <td>149388.247500</td>\n",
              "      <td>0.000000</td>\n",
              "    </tr>\n",
              "    <tr>\n",
              "      <th>max</th>\n",
              "      <td>10000.00000</td>\n",
              "      <td>1.581569e+07</td>\n",
              "      <td>850.000000</td>\n",
              "      <td>92.000000</td>\n",
              "      <td>10.000000</td>\n",
              "      <td>250898.090000</td>\n",
              "      <td>4.000000</td>\n",
              "      <td>1.00000</td>\n",
              "      <td>1.000000</td>\n",
              "      <td>199992.480000</td>\n",
              "      <td>1.000000</td>\n",
              "    </tr>\n",
              "  </tbody>\n",
              "</table>\n",
              "</div>"
            ],
            "text/plain": [
              "         RowNumber    CustomerId   CreditScore           Age       Tenure  \\\n",
              "count  10000.00000  1.000000e+04  10000.000000  10000.000000  9091.000000   \n",
              "mean    5000.50000  1.569094e+07    650.528800     38.921800     4.997690   \n",
              "std     2886.89568  7.193619e+04     96.653299     10.487806     2.894723   \n",
              "min        1.00000  1.556570e+07    350.000000     18.000000     0.000000   \n",
              "25%     2500.75000  1.562853e+07    584.000000     32.000000     2.000000   \n",
              "50%     5000.50000  1.569074e+07    652.000000     37.000000     5.000000   \n",
              "75%     7500.25000  1.575323e+07    718.000000     44.000000     7.000000   \n",
              "max    10000.00000  1.581569e+07    850.000000     92.000000    10.000000   \n",
              "\n",
              "             Balance  NumOfProducts    HasCrCard  IsActiveMember  \\\n",
              "count   10000.000000   10000.000000  10000.00000    10000.000000   \n",
              "mean    76485.889288       1.530200      0.70550        0.515100   \n",
              "std     62397.405202       0.581654      0.45584        0.499797   \n",
              "min         0.000000       1.000000      0.00000        0.000000   \n",
              "25%         0.000000       1.000000      0.00000        0.000000   \n",
              "50%     97198.540000       1.000000      1.00000        1.000000   \n",
              "75%    127644.240000       2.000000      1.00000        1.000000   \n",
              "max    250898.090000       4.000000      1.00000        1.000000   \n",
              "\n",
              "       EstimatedSalary        Exited  \n",
              "count     10000.000000  10000.000000  \n",
              "mean     100090.239881      0.203700  \n",
              "std       57510.492818      0.402769  \n",
              "min          11.580000      0.000000  \n",
              "25%       51002.110000      0.000000  \n",
              "50%      100193.915000      0.000000  \n",
              "75%      149388.247500      0.000000  \n",
              "max      199992.480000      1.000000  "
            ]
          },
          "execution_count": 6,
          "metadata": {},
          "output_type": "execute_result"
        }
      ],
      "source": [
        "df.describe()"
      ]
    },
    {
      "cell_type": "markdown",
      "metadata": {
        "id": "wypwOkTdA7au"
      },
      "source": [
        "Видно, что в столбцах с количественными показателями (CreditScore, Age, Tenure, EstimatedSalary) среднее и медиана близки, значительное различие в данных показателях есть только в столбце Balance."
      ]
    },
    {
      "cell_type": "code",
      "execution_count": null,
      "metadata": {
        "id": "2TQ6zr-HA7au",
        "outputId": "e1c33e50-ccc0-4bac-a108-28de7ad6ded0"
      },
      "outputs": [
        {
          "data": {
            "text/plain": [
              "RowNumber            0\n",
              "CustomerId           0\n",
              "Surname              0\n",
              "CreditScore          0\n",
              "Geography            0\n",
              "Gender               0\n",
              "Age                  0\n",
              "Tenure             909\n",
              "Balance              0\n",
              "NumOfProducts        0\n",
              "HasCrCard            0\n",
              "IsActiveMember       0\n",
              "EstimatedSalary      0\n",
              "Exited               0\n",
              "dtype: int64"
            ]
          },
          "execution_count": 7,
          "metadata": {},
          "output_type": "execute_result"
        }
      ],
      "source": [
        "df.isna().sum()"
      ]
    },
    {
      "cell_type": "code",
      "execution_count": null,
      "metadata": {
        "id": "eHsYuOCGA7au",
        "outputId": "3ee978c4-a1cd-45a6-8d7f-40a0fd9da3cf"
      },
      "outputs": [
        {
          "data": {
            "text/plain": [
              "array([ 2.,  1.,  8.,  7.,  4.,  6.,  3., 10.,  5.,  9.,  0., nan])"
            ]
          },
          "execution_count": 8,
          "metadata": {},
          "output_type": "execute_result"
        }
      ],
      "source": [
        "df['Tenure'].unique()"
      ]
    },
    {
      "cell_type": "code",
      "execution_count": null,
      "metadata": {
        "id": "RxnYFfaLA7av",
        "outputId": "654a47dc-8917-4ce7-9970-54730cc75ce1"
      },
      "outputs": [
        {
          "data": {
            "text/html": [
              "<div>\n",
              "<style scoped>\n",
              "    .dataframe tbody tr th:only-of-type {\n",
              "        vertical-align: middle;\n",
              "    }\n",
              "\n",
              "    .dataframe tbody tr th {\n",
              "        vertical-align: top;\n",
              "    }\n",
              "\n",
              "    .dataframe thead th {\n",
              "        text-align: right;\n",
              "    }\n",
              "</style>\n",
              "<table border=\"1\" class=\"dataframe\">\n",
              "  <thead>\n",
              "    <tr style=\"text-align: right;\">\n",
              "      <th></th>\n",
              "      <th>Age</th>\n",
              "    </tr>\n",
              "    <tr>\n",
              "      <th>Exited</th>\n",
              "      <th></th>\n",
              "    </tr>\n",
              "  </thead>\n",
              "  <tbody>\n",
              "    <tr>\n",
              "      <th>0</th>\n",
              "      <td>726</td>\n",
              "    </tr>\n",
              "    <tr>\n",
              "      <th>1</th>\n",
              "      <td>183</td>\n",
              "    </tr>\n",
              "  </tbody>\n",
              "</table>\n",
              "</div>"
            ],
            "text/plain": [
              "        Age\n",
              "Exited     \n",
              "0       726\n",
              "1       183"
            ]
          },
          "execution_count": 9,
          "metadata": {},
          "output_type": "execute_result"
        }
      ],
      "source": [
        "df[df['Tenure'].isna()].pivot_table(index = 'Exited', values = 'Age', aggfunc = 'count')"
      ]
    },
    {
      "cell_type": "code",
      "execution_count": null,
      "metadata": {
        "id": "FOyuL8YlA7av"
      },
      "outputs": [],
      "source": [
        "table = df.pivot_table(index = 'Exited', columns = 'Tenure', values = 'Age', aggfunc = 'count')"
      ]
    },
    {
      "cell_type": "code",
      "execution_count": null,
      "metadata": {
        "id": "EdwKE-5qA7av",
        "outputId": "f9140cc2-9123-432a-b818-7d87317ddcf1"
      },
      "outputs": [
        {
          "data": {
            "text/html": [
              "<div>\n",
              "<style scoped>\n",
              "    .dataframe tbody tr th:only-of-type {\n",
              "        vertical-align: middle;\n",
              "    }\n",
              "\n",
              "    .dataframe tbody tr th {\n",
              "        vertical-align: top;\n",
              "    }\n",
              "\n",
              "    .dataframe thead th {\n",
              "        text-align: right;\n",
              "    }\n",
              "</style>\n",
              "<table border=\"1\" class=\"dataframe\">\n",
              "  <thead>\n",
              "    <tr style=\"text-align: right;\">\n",
              "      <th>Tenure</th>\n",
              "      <th>0.0</th>\n",
              "      <th>1.0</th>\n",
              "      <th>2.0</th>\n",
              "      <th>3.0</th>\n",
              "      <th>4.0</th>\n",
              "      <th>5.0</th>\n",
              "      <th>6.0</th>\n",
              "      <th>7.0</th>\n",
              "      <th>8.0</th>\n",
              "      <th>9.0</th>\n",
              "      <th>10.0</th>\n",
              "    </tr>\n",
              "    <tr>\n",
              "      <th>Exited</th>\n",
              "      <th></th>\n",
              "      <th></th>\n",
              "      <th></th>\n",
              "      <th></th>\n",
              "      <th></th>\n",
              "      <th></th>\n",
              "      <th></th>\n",
              "      <th></th>\n",
              "      <th></th>\n",
              "      <th></th>\n",
              "      <th></th>\n",
              "    </tr>\n",
              "  </thead>\n",
              "  <tbody>\n",
              "    <tr>\n",
              "      <th>0</th>\n",
              "      <td>292</td>\n",
              "      <td>739</td>\n",
              "      <td>765</td>\n",
              "      <td>730</td>\n",
              "      <td>701</td>\n",
              "      <td>740</td>\n",
              "      <td>704</td>\n",
              "      <td>765</td>\n",
              "      <td>759</td>\n",
              "      <td>688</td>\n",
              "      <td>354</td>\n",
              "    </tr>\n",
              "    <tr>\n",
              "      <th>1</th>\n",
              "      <td>90</td>\n",
              "      <td>213</td>\n",
              "      <td>185</td>\n",
              "      <td>198</td>\n",
              "      <td>184</td>\n",
              "      <td>187</td>\n",
              "      <td>177</td>\n",
              "      <td>160</td>\n",
              "      <td>174</td>\n",
              "      <td>194</td>\n",
              "      <td>92</td>\n",
              "    </tr>\n",
              "  </tbody>\n",
              "</table>\n",
              "</div>"
            ],
            "text/plain": [
              "Tenure  0.0   1.0   2.0   3.0   4.0   5.0   6.0   7.0   8.0   9.0   10.0\n",
              "Exited                                                                  \n",
              "0        292   739   765   730   701   740   704   765   759   688   354\n",
              "1         90   213   185   198   184   187   177   160   174   194    92"
            ]
          },
          "execution_count": 11,
          "metadata": {},
          "output_type": "execute_result"
        }
      ],
      "source": [
        "table"
      ]
    },
    {
      "cell_type": "code",
      "execution_count": null,
      "metadata": {
        "id": "ysyrVPbeA7aw",
        "outputId": "1b529dcb-f1ca-4bbd-d281-ac7b35c9efe0"
      },
      "outputs": [
        {
          "data": {
            "image/png": "[encoded data removed]",
            "text/plain": [
              "<Figure size 864x360 with 1 Axes>"
            ]
          },
          "metadata": {
            "needs_background": "light"
          },
          "output_type": "display_data"
        }
      ],
      "source": [
        "table.T.plot.bar(figsize=(12,5), grid=True, xlabel='сколько лет человек является клиентом банка',\n",
        "                 title='Распределение между ушедшими и оставшимися клиентами по количеству лет обслуживания');"
      ]
    },
    {
      "cell_type": "markdown",
      "source": [
        "В столбце Tenure присутствуют пропуски"
      ],
      "metadata": {
        "id": "-XAK28wfCMuJ"
      }
    },
    {
      "cell_type": "markdown",
      "metadata": {
        "id": "6Th5jFwUA7ax"
      },
      "source": [
        "**Подготовка данных**"
      ]
    },
    {
      "cell_type": "code",
      "execution_count": null,
      "metadata": {
        "id": "5JQNivLLA7ax"
      },
      "outputs": [],
      "source": [
        "df = df.dropna()"
      ]
    },
    {
      "cell_type": "markdown",
      "source": [
        "Строки с пропусками были удалены, т.к. восстановить их не представляется возможным"
      ],
      "metadata": {
        "id": "7gDNLD6pCk9t"
      }
    },
    {
      "cell_type": "code",
      "execution_count": null,
      "metadata": {
        "id": "8jC4Qcf8A7ax",
        "outputId": "be7c6bef-5f48-41ee-9c2e-ad4a6bcf5a92"
      },
      "outputs": [
        {
          "name": "stdout",
          "output_type": "stream",
          "text": [
            "<class 'pandas.core.frame.DataFrame'>\n",
            "Int64Index: 9091 entries, 0 to 9998\n",
            "Data columns (total 14 columns):\n",
            " #   Column           Non-Null Count  Dtype  \n",
            "---  ------           --------------  -----  \n",
            " 0   RowNumber        9091 non-null   int64  \n",
            " 1   CustomerId       9091 non-null   int64  \n",
            " 2   Surname          9091 non-null   object \n",
            " 3   CreditScore      9091 non-null   int64  \n",
            " 4   Geography        9091 non-null   object \n",
            " 5   Gender           9091 non-null   object \n",
            " 6   Age              9091 non-null   int64  \n",
            " 7   Tenure           9091 non-null   float64\n",
            " 8   Balance          9091 non-null   float64\n",
            " 9   NumOfProducts    9091 non-null   int64  \n",
            " 10  HasCrCard        9091 non-null   int64  \n",
            " 11  IsActiveMember   9091 non-null   int64  \n",
            " 12  EstimatedSalary  9091 non-null   float64\n",
            " 13  Exited           9091 non-null   int64  \n",
            "dtypes: float64(3), int64(8), object(3)\n",
            "memory usage: 1.0+ MB\n"
          ]
        }
      ],
      "source": [
        "df.info()"
      ]
    },
    {
      "cell_type": "code",
      "execution_count": null,
      "metadata": {
        "id": "PJbzllq5A7ax"
      },
      "outputs": [],
      "source": [
        "df = df.drop(columns=['RowNumber', 'CustomerId', 'Surname'])"
      ]
    },
    {
      "cell_type": "markdown",
      "metadata": {
        "id": "LVsRlxlzA7ay"
      },
      "source": [
        "Столбцы 'RowNumber', 'CustomerId', 'Surname' для обучения модели не понадобятся, т.к. данные в указанных столбцах носят просто идентификационный характер(индекс строки, ID клиента, фамилия клиента), поэтому их удаляем."
      ]
    },
    {
      "cell_type": "code",
      "execution_count": null,
      "metadata": {
        "id": "o0aHqYkuA7a3",
        "outputId": "c7a7ffb8-c291-4489-d51f-68ea4af08a74"
      },
      "outputs": [
        {
          "data": {
            "text/html": [
              "<div>\n",
              "<style scoped>\n",
              "    .dataframe tbody tr th:only-of-type {\n",
              "        vertical-align: middle;\n",
              "    }\n",
              "\n",
              "    .dataframe tbody tr th {\n",
              "        vertical-align: top;\n",
              "    }\n",
              "\n",
              "    .dataframe thead th {\n",
              "        text-align: right;\n",
              "    }\n",
              "</style>\n",
              "<table border=\"1\" class=\"dataframe\">\n",
              "  <thead>\n",
              "    <tr style=\"text-align: right;\">\n",
              "      <th></th>\n",
              "      <th>CreditScore</th>\n",
              "      <th>Geography</th>\n",
              "      <th>Gender</th>\n",
              "      <th>Age</th>\n",
              "      <th>Tenure</th>\n",
              "      <th>Balance</th>\n",
              "      <th>NumOfProducts</th>\n",
              "      <th>HasCrCard</th>\n",
              "      <th>IsActiveMember</th>\n",
              "      <th>EstimatedSalary</th>\n",
              "      <th>Exited</th>\n",
              "    </tr>\n",
              "  </thead>\n",
              "  <tbody>\n",
              "    <tr>\n",
              "      <th>0</th>\n",
              "      <td>619</td>\n",
              "      <td>France</td>\n",
              "      <td>Female</td>\n",
              "      <td>42</td>\n",
              "      <td>2.0</td>\n",
              "      <td>0.00</td>\n",
              "      <td>1</td>\n",
              "      <td>1</td>\n",
              "      <td>1</td>\n",
              "      <td>101348.88</td>\n",
              "      <td>1</td>\n",
              "    </tr>\n",
              "    <tr>\n",
              "      <th>1</th>\n",
              "      <td>608</td>\n",
              "      <td>Spain</td>\n",
              "      <td>Female</td>\n",
              "      <td>41</td>\n",
              "      <td>1.0</td>\n",
              "      <td>83807.86</td>\n",
              "      <td>1</td>\n",
              "      <td>0</td>\n",
              "      <td>1</td>\n",
              "      <td>112542.58</td>\n",
              "      <td>0</td>\n",
              "    </tr>\n",
              "    <tr>\n",
              "      <th>2</th>\n",
              "      <td>502</td>\n",
              "      <td>France</td>\n",
              "      <td>Female</td>\n",
              "      <td>42</td>\n",
              "      <td>8.0</td>\n",
              "      <td>159660.80</td>\n",
              "      <td>3</td>\n",
              "      <td>1</td>\n",
              "      <td>0</td>\n",
              "      <td>113931.57</td>\n",
              "      <td>1</td>\n",
              "    </tr>\n",
              "    <tr>\n",
              "      <th>3</th>\n",
              "      <td>699</td>\n",
              "      <td>France</td>\n",
              "      <td>Female</td>\n",
              "      <td>39</td>\n",
              "      <td>1.0</td>\n",
              "      <td>0.00</td>\n",
              "      <td>2</td>\n",
              "      <td>0</td>\n",
              "      <td>0</td>\n",
              "      <td>93826.63</td>\n",
              "      <td>0</td>\n",
              "    </tr>\n",
              "    <tr>\n",
              "      <th>4</th>\n",
              "      <td>850</td>\n",
              "      <td>Spain</td>\n",
              "      <td>Female</td>\n",
              "      <td>43</td>\n",
              "      <td>2.0</td>\n",
              "      <td>125510.82</td>\n",
              "      <td>1</td>\n",
              "      <td>1</td>\n",
              "      <td>1</td>\n",
              "      <td>79084.10</td>\n",
              "      <td>0</td>\n",
              "    </tr>\n",
              "  </tbody>\n",
              "</table>\n",
              "</div>"
            ],
            "text/plain": [
              "   CreditScore Geography  Gender  Age  Tenure    Balance  NumOfProducts  \\\n",
              "0          619    France  Female   42     2.0       0.00              1   \n",
              "1          608     Spain  Female   41     1.0   83807.86              1   \n",
              "2          502    France  Female   42     8.0  159660.80              3   \n",
              "3          699    France  Female   39     1.0       0.00              2   \n",
              "4          850     Spain  Female   43     2.0  125510.82              1   \n",
              "\n",
              "   HasCrCard  IsActiveMember  EstimatedSalary  Exited  \n",
              "0          1               1        101348.88       1  \n",
              "1          0               1        112542.58       0  \n",
              "2          1               0        113931.57       1  \n",
              "3          0               0         93826.63       0  \n",
              "4          1               1         79084.10       0  "
            ]
          },
          "execution_count": 18,
          "metadata": {},
          "output_type": "execute_result"
        }
      ],
      "source": [
        "df.head()"
      ]
    },
    {
      "cell_type": "markdown",
      "metadata": {
        "id": "NbEZ0d52A7a4"
      },
      "source": [
        "**Разбивка данных на выборки**"
      ]
    },
    {
      "cell_type": "code",
      "execution_count": null,
      "metadata": {
        "id": "LEgUVPktA7a4"
      },
      "outputs": [],
      "source": [
        "target = df['Exited']\n",
        "features = df.drop('Exited', axis=1)"
      ]
    },
    {
      "cell_type": "code",
      "execution_count": null,
      "metadata": {
        "id": "ke-wboe9A7a4"
      },
      "outputs": [],
      "source": [
        "features_train, features_test, target_train, target_test = train_test_split(features, target,\n",
        "                                                                              test_size=0.4,\n",
        "                                                                              random_state=12345,\n",
        "                                                                              stratify=target)"
      ]
    },
    {
      "cell_type": "code",
      "execution_count": null,
      "metadata": {
        "id": "vB1csFtsA7a4",
        "outputId": "a60e5286-cb63-4a91-bafb-15c88cc09461"
      },
      "outputs": [
        {
          "name": "stdout",
          "output_type": "stream",
          "text": [
            "(5454, 10)\n",
            "(5454,)\n"
          ]
        }
      ],
      "source": [
        "print(features_train.shape)\n",
        "print(target_train.shape)"
      ]
    },
    {
      "cell_type": "code",
      "execution_count": null,
      "metadata": {
        "id": "P8RaSvh-A7a5",
        "outputId": "797516fc-9b85-4671-a708-7ed1d30cd9b8"
      },
      "outputs": [
        {
          "name": "stdout",
          "output_type": "stream",
          "text": [
            "(3637, 10)\n",
            "(3637,)\n"
          ]
        }
      ],
      "source": [
        "print(features_test.shape)\n",
        "print(target_test.shape)"
      ]
    },
    {
      "cell_type": "code",
      "execution_count": null,
      "metadata": {
        "id": "KA6OsdRdA7a5"
      },
      "outputs": [],
      "source": [
        "features_test, features_valid, target_test, target_valid = train_test_split(features_test, target_test,\n",
        "                                                                            test_size=0.5,\n",
        "                                                                            random_state=12345,\n",
        "                                                                            stratify=target_test)"
      ]
    },
    {
      "cell_type": "code",
      "execution_count": null,
      "metadata": {
        "id": "XdnZ51kWA7a5",
        "outputId": "fa3122c4-0cf3-4101-cf5d-10c10e78fdf5"
      },
      "outputs": [
        {
          "name": "stdout",
          "output_type": "stream",
          "text": [
            "(1818, 10)\n",
            "(1818,)\n"
          ]
        }
      ],
      "source": [
        "print(features_test.shape)\n",
        "print(target_test.shape)"
      ]
    },
    {
      "cell_type": "code",
      "execution_count": null,
      "metadata": {
        "id": "Pg6-rcWJA7a5",
        "outputId": "91dc4147-cdea-4b61-ecab-9bb38bf6bef2"
      },
      "outputs": [
        {
          "name": "stdout",
          "output_type": "stream",
          "text": [
            "(1819, 10)\n",
            "(1819,)\n"
          ]
        }
      ],
      "source": [
        "print(features_valid.shape)\n",
        "print(target_valid.shape)"
      ]
    },
    {
      "cell_type": "markdown",
      "metadata": {
        "id": "rJhVEhcNA7a6"
      },
      "source": [
        "**Преобразование категориальных признаков в численные**"
      ]
    },
    {
      "cell_type": "code",
      "execution_count": null,
      "metadata": {
        "id": "7vuyG-ytA7a6"
      },
      "outputs": [],
      "source": [
        "encoder_ohe = OneHotEncoder(drop='first', sparse=False)"
      ]
    },
    {
      "cell_type": "code",
      "execution_count": null,
      "metadata": {
        "id": "W0zVx1LlA7a6"
      },
      "outputs": [],
      "source": [
        "ohe_columns = ['Geography', 'Gender']"
      ]
    },
    {
      "cell_type": "code",
      "execution_count": null,
      "metadata": {
        "id": "rQXRbnjDA7a7",
        "outputId": "b4a4f891-0f44-4595-f30f-5ef004580f79"
      },
      "outputs": [
        {
          "data": {
            "text/plain": [
              "OneHotEncoder(drop='first', sparse=False)"
            ]
          },
          "execution_count": 28,
          "metadata": {},
          "output_type": "execute_result"
        }
      ],
      "source": [
        "encoder_ohe.fit(features_train[ohe_columns])"
      ]
    },
    {
      "cell_type": "code",
      "execution_count": null,
      "metadata": {
        "id": "1a_tKltiA7a7"
      },
      "outputs": [],
      "source": [
        "def func_ohe(semple):\n",
        "    semple[encoder_ohe.get_feature_names()] = encoder_ohe.transform(semple[ohe_columns])\n",
        "    semple = semple.drop(ohe_columns, axis=1)\n",
        "    return semple"
      ]
    },
    {
      "cell_type": "code",
      "source": [
        "features_train = func_ohe(features_train)"
      ],
      "metadata": {
        "id": "H8aM7We6DKH0"
      },
      "execution_count": null,
      "outputs": []
    },
    {
      "cell_type": "code",
      "execution_count": null,
      "metadata": {
        "id": "6mSnhcMOA7a8",
        "outputId": "cde2d5b0-64a3-48cb-fe25-88bcce867bfe"
      },
      "outputs": [
        {
          "data": {
            "text/html": [
              "<div>\n",
              "<style scoped>\n",
              "    .dataframe tbody tr th:only-of-type {\n",
              "        vertical-align: middle;\n",
              "    }\n",
              "\n",
              "    .dataframe tbody tr th {\n",
              "        vertical-align: top;\n",
              "    }\n",
              "\n",
              "    .dataframe thead th {\n",
              "        text-align: right;\n",
              "    }\n",
              "</style>\n",
              "<table border=\"1\" class=\"dataframe\">\n",
              "  <thead>\n",
              "    <tr style=\"text-align: right;\">\n",
              "      <th></th>\n",
              "      <th>CreditScore</th>\n",
              "      <th>Age</th>\n",
              "      <th>Tenure</th>\n",
              "      <th>Balance</th>\n",
              "      <th>NumOfProducts</th>\n",
              "      <th>HasCrCard</th>\n",
              "      <th>IsActiveMember</th>\n",
              "      <th>EstimatedSalary</th>\n",
              "      <th>x0_Germany</th>\n",
              "      <th>x0_Spain</th>\n",
              "      <th>x1_Male</th>\n",
              "    </tr>\n",
              "  </thead>\n",
              "  <tbody>\n",
              "    <tr>\n",
              "      <th>9723</th>\n",
              "      <td>526</td>\n",
              "      <td>32</td>\n",
              "      <td>7.0</td>\n",
              "      <td>125540.05</td>\n",
              "      <td>1</td>\n",
              "      <td>0</td>\n",
              "      <td>0</td>\n",
              "      <td>86786.41</td>\n",
              "      <td>0.0</td>\n",
              "      <td>0.0</td>\n",
              "      <td>1.0</td>\n",
              "    </tr>\n",
              "    <tr>\n",
              "      <th>1224</th>\n",
              "      <td>500</td>\n",
              "      <td>47</td>\n",
              "      <td>8.0</td>\n",
              "      <td>128486.11</td>\n",
              "      <td>1</td>\n",
              "      <td>1</td>\n",
              "      <td>0</td>\n",
              "      <td>179227.12</td>\n",
              "      <td>0.0</td>\n",
              "      <td>1.0</td>\n",
              "      <td>0.0</td>\n",
              "    </tr>\n",
              "    <tr>\n",
              "      <th>8377</th>\n",
              "      <td>802</td>\n",
              "      <td>40</td>\n",
              "      <td>4.0</td>\n",
              "      <td>0.00</td>\n",
              "      <td>2</td>\n",
              "      <td>1</td>\n",
              "      <td>1</td>\n",
              "      <td>81908.09</td>\n",
              "      <td>0.0</td>\n",
              "      <td>1.0</td>\n",
              "      <td>1.0</td>\n",
              "    </tr>\n",
              "    <tr>\n",
              "      <th>8014</th>\n",
              "      <td>731</td>\n",
              "      <td>39</td>\n",
              "      <td>2.0</td>\n",
              "      <td>126816.18</td>\n",
              "      <td>1</td>\n",
              "      <td>1</td>\n",
              "      <td>1</td>\n",
              "      <td>74850.93</td>\n",
              "      <td>0.0</td>\n",
              "      <td>1.0</td>\n",
              "      <td>0.0</td>\n",
              "    </tr>\n",
              "    <tr>\n",
              "      <th>2491</th>\n",
              "      <td>612</td>\n",
              "      <td>26</td>\n",
              "      <td>4.0</td>\n",
              "      <td>0.00</td>\n",
              "      <td>2</td>\n",
              "      <td>1</td>\n",
              "      <td>1</td>\n",
              "      <td>179780.74</td>\n",
              "      <td>0.0</td>\n",
              "      <td>1.0</td>\n",
              "      <td>0.0</td>\n",
              "    </tr>\n",
              "  </tbody>\n",
              "</table>\n",
              "</div>"
            ],
            "text/plain": [
              "      CreditScore  Age  Tenure    Balance  NumOfProducts  HasCrCard  \\\n",
              "9723          526   32     7.0  125540.05              1          0   \n",
              "1224          500   47     8.0  128486.11              1          1   \n",
              "8377          802   40     4.0       0.00              2          1   \n",
              "8014          731   39     2.0  126816.18              1          1   \n",
              "2491          612   26     4.0       0.00              2          1   \n",
              "\n",
              "      IsActiveMember  EstimatedSalary  x0_Germany  x0_Spain  x1_Male  \n",
              "9723               0         86786.41         0.0       0.0      1.0  \n",
              "1224               0        179227.12         0.0       1.0      0.0  \n",
              "8377               1         81908.09         0.0       1.0      1.0  \n",
              "8014               1         74850.93         0.0       1.0      0.0  \n",
              "2491               1        179780.74         0.0       1.0      0.0  "
            ]
          },
          "execution_count": 31,
          "metadata": {},
          "output_type": "execute_result"
        }
      ],
      "source": [
        "features_train.head()"
      ]
    },
    {
      "cell_type": "code",
      "execution_count": null,
      "metadata": {
        "id": "OCfKab5TA7a8"
      },
      "outputs": [],
      "source": [
        "features_valid = func_ohe(features_valid)"
      ]
    },
    {
      "cell_type": "code",
      "execution_count": null,
      "metadata": {
        "id": "dEjAV1gYA7a8",
        "outputId": "3879cdd9-6085-4c76-fbf8-242f1befa1e7"
      },
      "outputs": [
        {
          "data": {
            "text/html": [
              "<div>\n",
              "<style scoped>\n",
              "    .dataframe tbody tr th:only-of-type {\n",
              "        vertical-align: middle;\n",
              "    }\n",
              "\n",
              "    .dataframe tbody tr th {\n",
              "        vertical-align: top;\n",
              "    }\n",
              "\n",
              "    .dataframe thead th {\n",
              "        text-align: right;\n",
              "    }\n",
              "</style>\n",
              "<table border=\"1\" class=\"dataframe\">\n",
              "  <thead>\n",
              "    <tr style=\"text-align: right;\">\n",
              "      <th></th>\n",
              "      <th>CreditScore</th>\n",
              "      <th>Age</th>\n",
              "      <th>Tenure</th>\n",
              "      <th>Balance</th>\n",
              "      <th>NumOfProducts</th>\n",
              "      <th>HasCrCard</th>\n",
              "      <th>IsActiveMember</th>\n",
              "      <th>EstimatedSalary</th>\n",
              "      <th>x0_Germany</th>\n",
              "      <th>x0_Spain</th>\n",
              "      <th>x1_Male</th>\n",
              "    </tr>\n",
              "  </thead>\n",
              "  <tbody>\n",
              "    <tr>\n",
              "      <th>4126</th>\n",
              "      <td>675</td>\n",
              "      <td>32</td>\n",
              "      <td>10.0</td>\n",
              "      <td>0.00</td>\n",
              "      <td>2</td>\n",
              "      <td>1</td>\n",
              "      <td>0</td>\n",
              "      <td>191545.65</td>\n",
              "      <td>0.0</td>\n",
              "      <td>1.0</td>\n",
              "      <td>1.0</td>\n",
              "    </tr>\n",
              "    <tr>\n",
              "      <th>5145</th>\n",
              "      <td>784</td>\n",
              "      <td>38</td>\n",
              "      <td>1.0</td>\n",
              "      <td>138515.02</td>\n",
              "      <td>1</td>\n",
              "      <td>1</td>\n",
              "      <td>1</td>\n",
              "      <td>171768.76</td>\n",
              "      <td>1.0</td>\n",
              "      <td>0.0</td>\n",
              "      <td>1.0</td>\n",
              "    </tr>\n",
              "    <tr>\n",
              "      <th>9253</th>\n",
              "      <td>644</td>\n",
              "      <td>49</td>\n",
              "      <td>10.0</td>\n",
              "      <td>0.00</td>\n",
              "      <td>2</td>\n",
              "      <td>1</td>\n",
              "      <td>1</td>\n",
              "      <td>145089.64</td>\n",
              "      <td>0.0</td>\n",
              "      <td>1.0</td>\n",
              "      <td>1.0</td>\n",
              "    </tr>\n",
              "    <tr>\n",
              "      <th>6757</th>\n",
              "      <td>717</td>\n",
              "      <td>36</td>\n",
              "      <td>2.0</td>\n",
              "      <td>102989.83</td>\n",
              "      <td>2</td>\n",
              "      <td>0</td>\n",
              "      <td>1</td>\n",
              "      <td>49185.57</td>\n",
              "      <td>0.0</td>\n",
              "      <td>1.0</td>\n",
              "      <td>1.0</td>\n",
              "    </tr>\n",
              "    <tr>\n",
              "      <th>9739</th>\n",
              "      <td>677</td>\n",
              "      <td>25</td>\n",
              "      <td>3.0</td>\n",
              "      <td>0.00</td>\n",
              "      <td>2</td>\n",
              "      <td>1</td>\n",
              "      <td>0</td>\n",
              "      <td>179608.96</td>\n",
              "      <td>0.0</td>\n",
              "      <td>0.0</td>\n",
              "      <td>0.0</td>\n",
              "    </tr>\n",
              "  </tbody>\n",
              "</table>\n",
              "</div>"
            ],
            "text/plain": [
              "      CreditScore  Age  Tenure    Balance  NumOfProducts  HasCrCard  \\\n",
              "4126          675   32    10.0       0.00              2          1   \n",
              "5145          784   38     1.0  138515.02              1          1   \n",
              "9253          644   49    10.0       0.00              2          1   \n",
              "6757          717   36     2.0  102989.83              2          0   \n",
              "9739          677   25     3.0       0.00              2          1   \n",
              "\n",
              "      IsActiveMember  EstimatedSalary  x0_Germany  x0_Spain  x1_Male  \n",
              "4126               0        191545.65         0.0       1.0      1.0  \n",
              "5145               1        171768.76         1.0       0.0      1.0  \n",
              "9253               1        145089.64         0.0       1.0      1.0  \n",
              "6757               1         49185.57         0.0       1.0      1.0  \n",
              "9739               0        179608.96         0.0       0.0      0.0  "
            ]
          },
          "execution_count": 33,
          "metadata": {},
          "output_type": "execute_result"
        }
      ],
      "source": [
        "features_valid.head()"
      ]
    },
    {
      "cell_type": "code",
      "execution_count": null,
      "metadata": {
        "id": "AQFSOVcLA7a8"
      },
      "outputs": [],
      "source": [
        "features_test = func_ohe(features_test)"
      ]
    },
    {
      "cell_type": "code",
      "execution_count": null,
      "metadata": {
        "id": "KcqasR34A7a9",
        "outputId": "5cee105d-c312-48c7-a9f1-a552038444f3"
      },
      "outputs": [
        {
          "data": {
            "text/html": [
              "<div>\n",
              "<style scoped>\n",
              "    .dataframe tbody tr th:only-of-type {\n",
              "        vertical-align: middle;\n",
              "    }\n",
              "\n",
              "    .dataframe tbody tr th {\n",
              "        vertical-align: top;\n",
              "    }\n",
              "\n",
              "    .dataframe thead th {\n",
              "        text-align: right;\n",
              "    }\n",
              "</style>\n",
              "<table border=\"1\" class=\"dataframe\">\n",
              "  <thead>\n",
              "    <tr style=\"text-align: right;\">\n",
              "      <th></th>\n",
              "      <th>CreditScore</th>\n",
              "      <th>Age</th>\n",
              "      <th>Tenure</th>\n",
              "      <th>Balance</th>\n",
              "      <th>NumOfProducts</th>\n",
              "      <th>HasCrCard</th>\n",
              "      <th>IsActiveMember</th>\n",
              "      <th>EstimatedSalary</th>\n",
              "      <th>x0_Germany</th>\n",
              "      <th>x0_Spain</th>\n",
              "      <th>x1_Male</th>\n",
              "    </tr>\n",
              "  </thead>\n",
              "  <tbody>\n",
              "    <tr>\n",
              "      <th>7493</th>\n",
              "      <td>610</td>\n",
              "      <td>37</td>\n",
              "      <td>10.0</td>\n",
              "      <td>140363.95</td>\n",
              "      <td>2</td>\n",
              "      <td>1</td>\n",
              "      <td>1</td>\n",
              "      <td>129563.86</td>\n",
              "      <td>0.0</td>\n",
              "      <td>1.0</td>\n",
              "      <td>0.0</td>\n",
              "    </tr>\n",
              "    <tr>\n",
              "      <th>5460</th>\n",
              "      <td>661</td>\n",
              "      <td>41</td>\n",
              "      <td>5.0</td>\n",
              "      <td>122552.48</td>\n",
              "      <td>2</td>\n",
              "      <td>0</td>\n",
              "      <td>1</td>\n",
              "      <td>120646.40</td>\n",
              "      <td>1.0</td>\n",
              "      <td>0.0</td>\n",
              "      <td>1.0</td>\n",
              "    </tr>\n",
              "    <tr>\n",
              "      <th>9126</th>\n",
              "      <td>753</td>\n",
              "      <td>51</td>\n",
              "      <td>4.0</td>\n",
              "      <td>79811.72</td>\n",
              "      <td>2</td>\n",
              "      <td>0</td>\n",
              "      <td>1</td>\n",
              "      <td>68260.27</td>\n",
              "      <td>0.0</td>\n",
              "      <td>1.0</td>\n",
              "      <td>1.0</td>\n",
              "    </tr>\n",
              "    <tr>\n",
              "      <th>9801</th>\n",
              "      <td>569</td>\n",
              "      <td>30</td>\n",
              "      <td>3.0</td>\n",
              "      <td>139528.23</td>\n",
              "      <td>1</td>\n",
              "      <td>1</td>\n",
              "      <td>1</td>\n",
              "      <td>33230.37</td>\n",
              "      <td>0.0</td>\n",
              "      <td>1.0</td>\n",
              "      <td>0.0</td>\n",
              "    </tr>\n",
              "    <tr>\n",
              "      <th>9101</th>\n",
              "      <td>597</td>\n",
              "      <td>38</td>\n",
              "      <td>6.0</td>\n",
              "      <td>115702.67</td>\n",
              "      <td>2</td>\n",
              "      <td>1</td>\n",
              "      <td>1</td>\n",
              "      <td>25059.05</td>\n",
              "      <td>0.0</td>\n",
              "      <td>1.0</td>\n",
              "      <td>1.0</td>\n",
              "    </tr>\n",
              "  </tbody>\n",
              "</table>\n",
              "</div>"
            ],
            "text/plain": [
              "      CreditScore  Age  Tenure    Balance  NumOfProducts  HasCrCard  \\\n",
              "7493          610   37    10.0  140363.95              2          1   \n",
              "5460          661   41     5.0  122552.48              2          0   \n",
              "9126          753   51     4.0   79811.72              2          0   \n",
              "9801          569   30     3.0  139528.23              1          1   \n",
              "9101          597   38     6.0  115702.67              2          1   \n",
              "\n",
              "      IsActiveMember  EstimatedSalary  x0_Germany  x0_Spain  x1_Male  \n",
              "7493               1        129563.86         0.0       1.0      0.0  \n",
              "5460               1        120646.40         1.0       0.0      1.0  \n",
              "9126               1         68260.27         0.0       1.0      1.0  \n",
              "9801               1         33230.37         0.0       1.0      0.0  \n",
              "9101               1         25059.05         0.0       1.0      1.0  "
            ]
          },
          "execution_count": 35,
          "metadata": {},
          "output_type": "execute_result"
        }
      ],
      "source": [
        "features_test.head()"
      ]
    },
    {
      "cell_type": "code",
      "execution_count": null,
      "metadata": {
        "id": "zJT6okoHA7a9",
        "outputId": "45300dcf-b30a-486a-cb7f-318b9253889a"
      },
      "outputs": [
        {
          "data": {
            "text/plain": [
              "((5454, 11), (1819, 11), (1818, 11))"
            ]
          },
          "execution_count": 36,
          "metadata": {},
          "output_type": "execute_result"
        }
      ],
      "source": [
        "features_train.shape, features_valid.shape, features_test.shape"
      ]
    },
    {
      "cell_type": "markdown",
      "metadata": {
        "id": "2oDXfFWpA7a9"
      },
      "source": [
        "**Стандартизация данных**"
      ]
    },
    {
      "cell_type": "code",
      "execution_count": null,
      "metadata": {
        "id": "ADWuJ5pTA7a-"
      },
      "outputs": [],
      "source": [
        "scaler = StandardScaler()"
      ]
    },
    {
      "cell_type": "code",
      "execution_count": null,
      "metadata": {
        "id": "DzOFSw74A7a-"
      },
      "outputs": [],
      "source": [
        "numeric = ['CreditScore', 'Age', 'Tenure', 'Balance', 'NumOfProducts', 'EstimatedSalary']"
      ]
    },
    {
      "cell_type": "code",
      "execution_count": null,
      "metadata": {
        "id": "-LBnC2w3A7a-",
        "outputId": "2a5e967e-c1af-4ca1-c2b3-5d40c22a81ef"
      },
      "outputs": [
        {
          "data": {
            "text/plain": [
              "StandardScaler()"
            ]
          },
          "execution_count": 39,
          "metadata": {},
          "output_type": "execute_result"
        }
      ],
      "source": [
        "scaler.fit(features_train[numeric])"
      ]
    },
    {
      "cell_type": "code",
      "execution_count": null,
      "metadata": {
        "id": "AHJm6z8VA7a-"
      },
      "outputs": [],
      "source": [
        "features_train[numeric] = scaler.transform(features_train[numeric])\n",
        "features_valid[numeric] = scaler.transform(features_valid[numeric])\n",
        "features_test[numeric] = scaler.transform(features_test[numeric])\n",
        "pd.options.mode.chained_assignment = None"
      ]
    },
    {
      "cell_type": "code",
      "execution_count": null,
      "metadata": {
        "id": "y8AtSwJ0A7a-",
        "outputId": "d6be5d0d-1572-45ef-ca13-f0cd61fd562a"
      },
      "outputs": [
        {
          "data": {
            "text/html": [
              "<div>\n",
              "<style scoped>\n",
              "    .dataframe tbody tr th:only-of-type {\n",
              "        vertical-align: middle;\n",
              "    }\n",
              "\n",
              "    .dataframe tbody tr th {\n",
              "        vertical-align: top;\n",
              "    }\n",
              "\n",
              "    .dataframe thead th {\n",
              "        text-align: right;\n",
              "    }\n",
              "</style>\n",
              "<table border=\"1\" class=\"dataframe\">\n",
              "  <thead>\n",
              "    <tr style=\"text-align: right;\">\n",
              "      <th></th>\n",
              "      <th>CreditScore</th>\n",
              "      <th>Age</th>\n",
              "      <th>Tenure</th>\n",
              "      <th>Balance</th>\n",
              "      <th>NumOfProducts</th>\n",
              "      <th>HasCrCard</th>\n",
              "      <th>IsActiveMember</th>\n",
              "      <th>EstimatedSalary</th>\n",
              "      <th>x0_Germany</th>\n",
              "      <th>x0_Spain</th>\n",
              "      <th>x1_Male</th>\n",
              "    </tr>\n",
              "  </thead>\n",
              "  <tbody>\n",
              "    <tr>\n",
              "      <th>9723</th>\n",
              "      <td>-1.292898</td>\n",
              "      <td>-0.660843</td>\n",
              "      <td>0.686341</td>\n",
              "      <td>0.786636</td>\n",
              "      <td>-0.910943</td>\n",
              "      <td>0</td>\n",
              "      <td>0</td>\n",
              "      <td>-0.223548</td>\n",
              "      <td>0.0</td>\n",
              "      <td>0.0</td>\n",
              "      <td>1.0</td>\n",
              "    </tr>\n",
              "    <tr>\n",
              "      <th>1224</th>\n",
              "      <td>-1.563714</td>\n",
              "      <td>0.778434</td>\n",
              "      <td>1.034232</td>\n",
              "      <td>0.833795</td>\n",
              "      <td>-0.910943</td>\n",
              "      <td>1</td>\n",
              "      <td>0</td>\n",
              "      <td>1.383021</td>\n",
              "      <td>0.0</td>\n",
              "      <td>1.0</td>\n",
              "      <td>0.0</td>\n",
              "    </tr>\n",
              "    <tr>\n",
              "      <th>8377</th>\n",
              "      <td>1.581914</td>\n",
              "      <td>0.106771</td>\n",
              "      <td>-0.357331</td>\n",
              "      <td>-1.222967</td>\n",
              "      <td>0.789359</td>\n",
              "      <td>1</td>\n",
              "      <td>1</td>\n",
              "      <td>-0.308331</td>\n",
              "      <td>0.0</td>\n",
              "      <td>1.0</td>\n",
              "      <td>1.0</td>\n",
              "    </tr>\n",
              "    <tr>\n",
              "      <th>8014</th>\n",
              "      <td>0.842379</td>\n",
              "      <td>0.010820</td>\n",
              "      <td>-1.053112</td>\n",
              "      <td>0.807063</td>\n",
              "      <td>-0.910943</td>\n",
              "      <td>1</td>\n",
              "      <td>1</td>\n",
              "      <td>-0.430980</td>\n",
              "      <td>0.0</td>\n",
              "      <td>1.0</td>\n",
              "      <td>0.0</td>\n",
              "    </tr>\n",
              "    <tr>\n",
              "      <th>2491</th>\n",
              "      <td>-0.397123</td>\n",
              "      <td>-1.236554</td>\n",
              "      <td>-0.357331</td>\n",
              "      <td>-1.222967</td>\n",
              "      <td>0.789359</td>\n",
              "      <td>1</td>\n",
              "      <td>1</td>\n",
              "      <td>1.392642</td>\n",
              "      <td>0.0</td>\n",
              "      <td>1.0</td>\n",
              "      <td>0.0</td>\n",
              "    </tr>\n",
              "  </tbody>\n",
              "</table>\n",
              "</div>"
            ],
            "text/plain": [
              "      CreditScore       Age    Tenure   Balance  NumOfProducts  HasCrCard  \\\n",
              "9723    -1.292898 -0.660843  0.686341  0.786636      -0.910943          0   \n",
              "1224    -1.563714  0.778434  1.034232  0.833795      -0.910943          1   \n",
              "8377     1.581914  0.106771 -0.357331 -1.222967       0.789359          1   \n",
              "8014     0.842379  0.010820 -1.053112  0.807063      -0.910943          1   \n",
              "2491    -0.397123 -1.236554 -0.357331 -1.222967       0.789359          1   \n",
              "\n",
              "      IsActiveMember  EstimatedSalary  x0_Germany  x0_Spain  x1_Male  \n",
              "9723               0        -0.223548         0.0       0.0      1.0  \n",
              "1224               0         1.383021         0.0       1.0      0.0  \n",
              "8377               1        -0.308331         0.0       1.0      1.0  \n",
              "8014               1        -0.430980         0.0       1.0      0.0  \n",
              "2491               1         1.392642         0.0       1.0      0.0  "
            ]
          },
          "execution_count": 41,
          "metadata": {},
          "output_type": "execute_result"
        }
      ],
      "source": [
        "features_train.head()"
      ]
    },
    {
      "cell_type": "markdown",
      "metadata": {
        "id": "XaEuNxf0A7a_"
      },
      "source": [
        "С целью подготовки данных была проведена предобработка: в столбце Tenure присутствовали пропуски, восстановить данные на основе имеющихся не представляется возможным, заполнение пропусков другими значениями может привести к искажению, поэтому строки с пропусками были удалены; столбцы 'RowNumber', 'CustomerId', 'Surname' также были удалены, т.к. данные в них носят просто идентификационный характер(индекс строки, ID клиента, фамилия клиента) и для обучения модели не понадобятся. Предобработанные данные были разбиты на выборки (обучающую, валидационную и тестовую) в следующих пропорциях 60-20-20. Категориальные признаки преобразованы в численные с помощью OneHotEncoder. Также была проведена стандартизация данных. Т.о. данные для дальнейшего обучения моделей подготовлены."
      ]
    },
    {
      "cell_type": "markdown",
      "metadata": {
        "id": "XGHGYDKKA7a_"
      },
      "source": [
        "## Исследование задачи"
      ]
    },
    {
      "cell_type": "code",
      "execution_count": null,
      "metadata": {
        "id": "gDU9p7y4A7bA",
        "outputId": "e1365cce-54d6-4850-db64-dfb5829af669"
      },
      "outputs": [
        {
          "data": {
            "text/plain": [
              "Exited\n",
              "0    0.796062\n",
              "1    0.203938\n",
              "dtype: float64"
            ]
          },
          "execution_count": 42,
          "metadata": {},
          "output_type": "execute_result"
        }
      ],
      "source": [
        "df.groupby('Exited').size()/len(df)"
      ]
    },
    {
      "cell_type": "code",
      "execution_count": null,
      "metadata": {
        "id": "D7S3YUbiA7bA"
      },
      "outputs": [],
      "source": [
        "def func_dt(x_train, y_train, weight):\n",
        "    best_model_dt = None\n",
        "    best_f1_dt = 0\n",
        "    max_depth_dt = 0\n",
        "    for i in range(1,30):\n",
        "        model_dt = DecisionTreeClassifier(random_state=12345, criterion='gini', max_depth = i,\n",
        "                                         class_weight=weight)\n",
        "        model_dt.fit(x_train, y_train)\n",
        "        predicted_valid = model_dt.predict(features_valid)\n",
        "        f1 = f1_score(target_valid, predicted_valid)\n",
        "        if f1 > best_f1_dt:\n",
        "            best_model_dt = model_dt\n",
        "            best_f1_dt = f1\n",
        "            max_depth_dt = i\n",
        "    probabilities_valid = best_model_dt.predict_proba(features_valid)\n",
        "    probabilities_one_valid = probabilities_valid[:, 1]\n",
        "    roc_auc_dt = roc_auc_score(target_valid, probabilities_one_valid)\n",
        "    return best_model_dt, best_f1_dt, roc_auc_dt"
      ]
    },
    {
      "cell_type": "code",
      "execution_count": null,
      "metadata": {
        "id": "ZWrg0O4oA7bA"
      },
      "outputs": [],
      "source": [
        "model_dt, f1_dt, auc_dt = func_dt(features_train, target_train, None)"
      ]
    },
    {
      "cell_type": "code",
      "execution_count": null,
      "metadata": {
        "id": "VSU7wxGwA7bB",
        "outputId": "8239ed89-7a22-431d-e094-d65838d92745"
      },
      "outputs": [
        {
          "name": "stdout",
          "output_type": "stream",
          "text": [
            "DecisionTreeClassifier(max_depth=7, random_state=12345) , F1: 0.557659208261618 , AUC-ROC: 0.8173603148128844\n"
          ]
        }
      ],
      "source": [
        "print(model_dt,', F1:', f1_dt,', AUC-ROC:', auc_dt)"
      ]
    },
    {
      "cell_type": "code",
      "execution_count": null,
      "metadata": {
        "id": "yvJuKdEhA7bB"
      },
      "outputs": [],
      "source": [
        "def func_rf(x_train, y_train, weight):\n",
        "    best_model_rf = None\n",
        "    best_f1_rf = 0\n",
        "    n_estimators = 0\n",
        "    max_depth = 0\n",
        "    for est in range(1, 30):\n",
        "        for depth in range(1, 15):\n",
        "            model_rf = RandomForestClassifier(random_state=12345, n_estimators=est,\n",
        "                                              max_depth=depth, criterion='gini', class_weight=weight)\n",
        "            model_rf.fit(x_train, y_train)\n",
        "            predicted_valid = model_rf.predict(features_valid)\n",
        "            f1_rf = f1_score(target_valid, predicted_valid)\n",
        "            if f1_rf > best_f1_rf:\n",
        "                best_model_rf = model_rf\n",
        "                best_f1_rf = f1_rf\n",
        "                n_estimators = est\n",
        "                max_depth = depth\n",
        "    probabilities_valid = best_model_rf.predict_proba(features_valid)\n",
        "    probabilities_one_valid = probabilities_valid[:, 1]\n",
        "    auc_rf = roc_auc_score(target_valid, probabilities_one_valid)\n",
        "    return best_model_rf, best_f1_rf, auc_rf"
      ]
    },
    {
      "cell_type": "code",
      "execution_count": null,
      "metadata": {
        "id": "G4rRI7r6A7bB",
        "outputId": "d0082175-2b42-46b8-8d70-3818b06b0267"
      },
      "outputs": [
        {
          "name": "stdout",
          "output_type": "stream",
          "text": [
            "CPU times: user 28.5 s, sys: 79.9 ms, total: 28.6 s\n",
            "Wall time: 28.6 s\n"
          ]
        }
      ],
      "source": [
        "%%time\n",
        "model_rf, f1_rf, auc_rf = func_rf(features_train, target_train, None)"
      ]
    },
    {
      "cell_type": "code",
      "execution_count": null,
      "metadata": {
        "id": "BtfC6Ha9A7bB",
        "outputId": "3f9c2eb9-dd7a-4106-d2d0-1f5a2f62d62c"
      },
      "outputs": [
        {
          "name": "stdout",
          "output_type": "stream",
          "text": [
            "RandomForestClassifier(max_depth=10, n_estimators=16, random_state=12345) F1: 0.5831903945111492 \n",
            "AUC-ROC: 0.841564161367664\n"
          ]
        }
      ],
      "source": [
        "print(model_rf, \"F1:\", f1_rf,\n",
        "      '\\n' 'AUC-ROC:', auc_rf)"
      ]
    },
    {
      "cell_type": "code",
      "execution_count": null,
      "metadata": {
        "id": "atKqf9m-A7bC"
      },
      "outputs": [],
      "source": [
        "def func_lr(x_train, y_train, weight):\n",
        "    model_lr = LogisticRegression(random_state=12345, solver='liblinear', max_iter=1000,\n",
        "                                  class_weight=weight)\n",
        "    model_lr.fit(x_train, y_train)\n",
        "    predicted_valid = model_lr.predict(features_valid)\n",
        "    probabilities_valid = model_lr.predict_proba(features_valid)\n",
        "    probabilities_one_valid = probabilities_valid[:, 1]\n",
        "    f1_lr = f1_score(target_valid, predicted_valid)\n",
        "    auc_lr = roc_auc_score(target_valid, probabilities_one_valid)\n",
        "    return model_lr, f1_lr, auc_lr"
      ]
    },
    {
      "cell_type": "code",
      "execution_count": null,
      "metadata": {
        "id": "hZKt2Rt2A7bC"
      },
      "outputs": [],
      "source": [
        "model_lr, f1_lr, auc_lr = func_lr(features_train, target_train, None)"
      ]
    },
    {
      "cell_type": "code",
      "execution_count": null,
      "metadata": {
        "id": "4Mhk1VsdA7bC",
        "outputId": "dd317c57-b2d2-44f8-b65c-07a675b00c7f"
      },
      "outputs": [
        {
          "name": "stdout",
          "output_type": "stream",
          "text": [
            "LogisticRegression(max_iter=1000, random_state=12345, solver='liblinear') , F1: 0.35203094777562866 \n",
            "AUC-ROC: 0.7743592798320205\n"
          ]
        }
      ],
      "source": [
        "print(model_lr,', F1:', f1_lr, '\\n' 'AUC-ROC:', auc_lr)"
      ]
    },
    {
      "cell_type": "markdown",
      "metadata": {
        "id": "hiSZODMcA7bC"
      },
      "source": [
        "В данных присутствует дисбаланс классов. Проведено обучение моделей без учета дисбаланса при помощи трех алгоритмов обучения. Видно, что дисбаланс оказывает влияние на качество модели, качество моделей не высокое. Самое сильное влияние - на модель, обученную LogisticRegression. Лучшие результаты были получены у модели, обученной алгоритмом RandomForest, с параметром n_estimators = 16, max_depth = 10. Худшие у модели, обученной LogisticRegression."
      ]
    },
    {
      "cell_type": "markdown",
      "metadata": {
        "id": "2TjtqdzBA7bD"
      },
      "source": [
        "## Борьба с дисбалансом"
      ]
    },
    {
      "cell_type": "markdown",
      "metadata": {
        "id": "NtNXWLUJA7bD"
      },
      "source": [
        "**Взвешевание классов**"
      ]
    },
    {
      "cell_type": "code",
      "execution_count": null,
      "metadata": {
        "id": "SUYf26AnA7bD"
      },
      "outputs": [],
      "source": [
        "model_lr_w, f1_lr_w, auc_lr_w = func_lr(features_train, target_train, 'balanced')"
      ]
    },
    {
      "cell_type": "code",
      "execution_count": null,
      "metadata": {
        "id": "BI7IZZ31A7bD",
        "outputId": "30caf67a-2085-4d38-f1a7-d53d9147e64d"
      },
      "outputs": [
        {
          "name": "stdout",
          "output_type": "stream",
          "text": [
            "LogisticRegression(class_weight='balanced', max_iter=1000, random_state=12345,\n",
            "                   solver='liblinear') \n",
            "F1: 0.5087040618955513 \n",
            "AUC-ROC: 0.778158553111644\n"
          ]
        }
      ],
      "source": [
        "print(model_lr_w, '\\n' 'F1:', f1_lr_w, '\\n' 'AUC-ROC:', auc_lr_w)"
      ]
    },
    {
      "cell_type": "code",
      "execution_count": null,
      "metadata": {
        "id": "zU0ytQXcA7bE"
      },
      "outputs": [],
      "source": [
        "model_dt_w, f1_dt_w, auc_dt_w = func_dt(features_train, target_train, 'balanced')"
      ]
    },
    {
      "cell_type": "code",
      "execution_count": null,
      "metadata": {
        "id": "NKMYTt2eA7bE",
        "outputId": "df999c86-4078-4856-d203-177d200cd8fc"
      },
      "outputs": [
        {
          "name": "stdout",
          "output_type": "stream",
          "text": [
            "DecisionTreeClassifier(class_weight='balanced', max_depth=8, random_state=12345) \n",
            "F1: 0.5675675675675674 \n",
            "AUC-ROC: 0.805204874089738\n"
          ]
        }
      ],
      "source": [
        "print(model_dt_w, '\\n' 'F1:', f1_dt_w, '\\n' 'AUC-ROC:', auc_dt_w)"
      ]
    },
    {
      "cell_type": "code",
      "execution_count": null,
      "metadata": {
        "id": "rhFLdqR6A7bE",
        "outputId": "fe2c2367-9355-4a6e-de91-5dbea832f091"
      },
      "outputs": [
        {
          "name": "stdout",
          "output_type": "stream",
          "text": [
            "CPU times: user 28.9 s, sys: 83.6 ms, total: 29 s\n",
            "Wall time: 29.2 s\n"
          ]
        }
      ],
      "source": [
        "%%time\n",
        "model_rf_w, f1_rf_w, auc_rf_w = func_rf(features_train, target_train, 'balanced')"
      ]
    },
    {
      "cell_type": "code",
      "execution_count": null,
      "metadata": {
        "id": "T9mEqjerA7bF",
        "outputId": "c3100c6e-6cf8-4f4c-b36e-8ff552ae662a"
      },
      "outputs": [
        {
          "name": "stdout",
          "output_type": "stream",
          "text": [
            "RandomForestClassifier(class_weight='balanced', max_depth=10, n_estimators=23,\n",
            "                       random_state=12345) \n",
            "F1: 0.6174863387978142 \n",
            "AUC-ROC: 0.8446318744322499\n"
          ]
        }
      ],
      "source": [
        "print(model_rf_w, '\\n' 'F1:', f1_rf_w, '\\n' 'AUC-ROC:', auc_rf_w)"
      ]
    },
    {
      "cell_type": "markdown",
      "metadata": {
        "id": "_i0k1asMA7bF"
      },
      "source": [
        "**Увеличение выборки**"
      ]
    },
    {
      "cell_type": "code",
      "execution_count": null,
      "metadata": {
        "id": "X1u4P-4_A7bF"
      },
      "outputs": [],
      "source": [
        "def upsample(features, target, repeat):\n",
        "    features_zeros = features[target == 0]\n",
        "    features_ones = features[target == 1]\n",
        "    target_zeros = target[target == 0]\n",
        "    target_ones = target[target == 1]\n",
        "    features_upsampled = pd.concat([features_zeros] + [features_ones] * repeat)\n",
        "    target_upsampled = pd.concat([target_zeros] + [target_ones] * repeat)\n",
        "    features_upsampled, target_upsampled = shuffle(\n",
        "    features_upsampled, target_upsampled, random_state=12345)\n",
        "    return features_upsampled, target_upsampled"
      ]
    },
    {
      "cell_type": "code",
      "execution_count": null,
      "metadata": {
        "id": "rIRCXeFqA7bF"
      },
      "outputs": [],
      "source": [
        "features_upsampled, target_upsampled = upsample(features_train, target_train, 4)"
      ]
    },
    {
      "cell_type": "code",
      "execution_count": null,
      "metadata": {
        "id": "maHEu_5JA7bG",
        "outputId": "94a36112-5a96-45f0-d0bb-f0b6e2b4b528"
      },
      "outputs": [
        {
          "data": {
            "text/plain": [
              "((8790, 11), (8790,))"
            ]
          },
          "execution_count": 60,
          "metadata": {},
          "output_type": "execute_result"
        }
      ],
      "source": [
        "features_upsampled.shape, target_upsampled.shape"
      ]
    },
    {
      "cell_type": "code",
      "execution_count": null,
      "metadata": {
        "id": "PpqlX6IWA7bG",
        "outputId": "6d62ec14-7bf8-4a37-b61e-9b70e9530d78"
      },
      "outputs": [
        {
          "data": {
            "text/plain": [
              "1    4448\n",
              "0    4342\n",
              "Name: Exited, dtype: int64"
            ]
          },
          "execution_count": 61,
          "metadata": {},
          "output_type": "execute_result"
        }
      ],
      "source": [
        "target_upsampled.value_counts()"
      ]
    },
    {
      "cell_type": "code",
      "execution_count": null,
      "metadata": {
        "id": "7LnwjCNcA7bH"
      },
      "outputs": [],
      "source": [
        "model_lr_up, f1_lr_up, auc_lr_up = func_lr(features_upsampled, target_upsampled, None)"
      ]
    },
    {
      "cell_type": "code",
      "execution_count": null,
      "metadata": {
        "id": "bjT_g2FVA7bH",
        "outputId": "f62943e8-9712-4ebf-9fd7-87aeba1346df"
      },
      "outputs": [
        {
          "name": "stdout",
          "output_type": "stream",
          "text": [
            "LogisticRegression(max_iter=1000, random_state=12345, solver='liblinear') \n",
            "F1: 0.5042816365366317 \n",
            "AUC-ROC: 0.7781846137808819\n"
          ]
        }
      ],
      "source": [
        "print(model_lr_up, '\\n' 'F1:', f1_lr_up, '\\n' 'AUC-ROC:', auc_lr_up)"
      ]
    },
    {
      "cell_type": "code",
      "execution_count": null,
      "metadata": {
        "id": "Ze_QhOIYA7bH"
      },
      "outputs": [],
      "source": [
        "model_dt_up, f1_dt_up, auc_dt_up = func_dt(features_upsampled, target_upsampled, None)"
      ]
    },
    {
      "cell_type": "code",
      "execution_count": null,
      "metadata": {
        "id": "RSd-7qTZA7bH",
        "outputId": "61f58ec4-430f-49ec-9f72-adaf151be031"
      },
      "outputs": [
        {
          "name": "stdout",
          "output_type": "stream",
          "text": [
            "DecisionTreeClassifier(max_depth=8, random_state=12345) \n",
            "F1: 0.5711060948081264 \n",
            "AUC-ROC: 0.8083321543982964\n"
          ]
        }
      ],
      "source": [
        "print(model_dt_up, '\\n' 'F1:', f1_dt_up, '\\n' 'AUC-ROC:', auc_dt_up)"
      ]
    },
    {
      "cell_type": "code",
      "execution_count": null,
      "metadata": {
        "id": "FG2L2Ae7A7bI",
        "outputId": "af03f49a-92b2-4c4f-d13f-173757d3de08"
      },
      "outputs": [
        {
          "name": "stdout",
          "output_type": "stream",
          "text": [
            "CPU times: user 38 s, sys: 164 ms, total: 38.2 s\n",
            "Wall time: 38.2 s\n"
          ]
        }
      ],
      "source": [
        "%%time\n",
        "model_rf_up, f1_rf_up, auc_rf_up = func_rf(features_upsampled, target_upsampled, None)"
      ]
    },
    {
      "cell_type": "code",
      "execution_count": null,
      "metadata": {
        "id": "FnTgaYngA7bI",
        "outputId": "d572d2af-76cb-4490-c5ab-9bdeb4fa6325"
      },
      "outputs": [
        {
          "name": "stdout",
          "output_type": "stream",
          "text": [
            "RandomForestClassifier(max_depth=13, n_estimators=17, random_state=12345) \n",
            "F1: 0.6177285318559558 \n",
            "AUC-ROC: 0.8305637667346727\n"
          ]
        }
      ],
      "source": [
        "print(model_rf_up, '\\n' 'F1:', f1_rf_up, '\\n' 'AUC-ROC:', auc_rf_up)"
      ]
    },
    {
      "cell_type": "markdown",
      "metadata": {
        "id": "n0m6uF9eA7bJ"
      },
      "source": [
        "**Уменьшение выборки**"
      ]
    },
    {
      "cell_type": "code",
      "execution_count": null,
      "metadata": {
        "id": "DZDUeL8wA7bJ"
      },
      "outputs": [],
      "source": [
        "def downsample(features, target, fraction):\n",
        "    features_zeros = features[target == 0]\n",
        "    features_ones = features[target == 1]\n",
        "    target_zeros = target[target == 0]\n",
        "    target_ones = target[target == 1]\n",
        "    features_downsampled = pd.concat([features_zeros.sample(frac=fraction, random_state=12345)] +\n",
        "                                     [features_ones])\n",
        "    target_downsampled = pd.concat([target_zeros.sample(frac=fraction, random_state=12345)] +\n",
        "                                   [target_ones])\n",
        "    features_downsampled, target_downsampled = shuffle(features_downsampled, target_downsampled,\n",
        "                                                       random_state=12345)\n",
        "    return features_downsampled, target_downsampled"
      ]
    },
    {
      "cell_type": "code",
      "execution_count": null,
      "metadata": {
        "id": "9ys1GeZCA7bJ"
      },
      "outputs": [],
      "source": [
        "features_downsampled, target_downsampled = downsample(features_train, target_train, 0.26)"
      ]
    },
    {
      "cell_type": "code",
      "execution_count": null,
      "metadata": {
        "id": "HNBZfTE9A7bJ",
        "outputId": "66c74fab-c37e-4dd3-a8a5-e2ab7f54e02f"
      },
      "outputs": [
        {
          "data": {
            "text/plain": [
              "((2241, 11), (2241,))"
            ]
          },
          "execution_count": 70,
          "metadata": {},
          "output_type": "execute_result"
        }
      ],
      "source": [
        "features_downsampled.shape, target_downsampled.shape"
      ]
    },
    {
      "cell_type": "code",
      "execution_count": null,
      "metadata": {
        "id": "fNvsPfoDA7bK",
        "outputId": "6610a9b6-63cf-4b8a-cf21-d6854f971b34"
      },
      "outputs": [
        {
          "data": {
            "text/plain": [
              "0    1129\n",
              "1    1112\n",
              "Name: Exited, dtype: int64"
            ]
          },
          "execution_count": 71,
          "metadata": {},
          "output_type": "execute_result"
        }
      ],
      "source": [
        "target_downsampled.value_counts()"
      ]
    },
    {
      "cell_type": "code",
      "execution_count": null,
      "metadata": {
        "id": "vaw88rc-A7bL"
      },
      "outputs": [],
      "source": [
        "model_lr_dow, f1_lr_dow, auc_lr_dow = func_lr(features_downsampled, target_downsampled, None)"
      ]
    },
    {
      "cell_type": "code",
      "execution_count": null,
      "metadata": {
        "id": "pRX3m9qNA7bL",
        "outputId": "d757e205-6289-455c-a985-5629e5936513"
      },
      "outputs": [
        {
          "name": "stdout",
          "output_type": "stream",
          "text": [
            "LogisticRegression(max_iter=1000, random_state=12345, solver='liblinear') \n",
            "F1: 0.5081809432146294 \n",
            "AUC-ROC: 0.7793740971839586\n"
          ]
        }
      ],
      "source": [
        "print(model_lr_dow, '\\n' 'F1:', f1_lr_dow, '\\n' 'AUC-ROC:', auc_lr_dow)"
      ]
    },
    {
      "cell_type": "code",
      "execution_count": null,
      "metadata": {
        "id": "v84m7qouA7bL"
      },
      "outputs": [],
      "source": [
        "model_dt_dow, f1_dt_dow, auc_dt_dow = func_dt(features_downsampled, target_downsampled, None)"
      ]
    },
    {
      "cell_type": "code",
      "execution_count": null,
      "metadata": {
        "id": "i7zyDvFHA7bM",
        "outputId": "cb211bfb-1fe1-4fe9-a116-df025ddd8f2c"
      },
      "outputs": [
        {
          "name": "stdout",
          "output_type": "stream",
          "text": [
            "DecisionTreeClassifier(max_depth=8, random_state=12345) \n",
            "F1: 0.5631469979296065 \n",
            "AUC-ROC: 0.7992490804306711\n"
          ]
        }
      ],
      "source": [
        "print(model_dt_dow, '\\n' 'F1:', f1_dt_dow, '\\n' 'AUC-ROC:', auc_dt_dow)"
      ]
    },
    {
      "cell_type": "code",
      "execution_count": null,
      "metadata": {
        "id": "tRE0WfTOA7bM",
        "outputId": "524afccf-f8d5-4233-d959-f66fd9b97c4c"
      },
      "outputs": [
        {
          "name": "stdout",
          "output_type": "stream",
          "text": [
            "CPU times: user 18.2 s, sys: 180 ms, total: 18.4 s\n",
            "Wall time: 18.4 s\n"
          ]
        }
      ],
      "source": [
        "%%time\n",
        "model_rf_dow, f1_rf_dow, auc_rf_dow = func_rf(features_downsampled, target_downsampled, None)"
      ]
    },
    {
      "cell_type": "code",
      "execution_count": null,
      "metadata": {
        "id": "UJOOROYGA7bM",
        "outputId": "def41f72-8559-4099-957c-1c59980ecf07"
      },
      "outputs": [
        {
          "name": "stdout",
          "output_type": "stream",
          "text": [
            "RandomForestClassifier(max_depth=6, n_estimators=12, random_state=12345) \n",
            "F1: 0.5977011494252874 \n",
            "AUC-ROC: 0.8517697055888966\n"
          ]
        }
      ],
      "source": [
        "print(model_rf_dow, '\\n' 'F1:', f1_rf_dow, '\\n' 'AUC-ROC:', auc_rf_dow)"
      ]
    },
    {
      "cell_type": "markdown",
      "metadata": {
        "id": "GAZKuvhpA7bN"
      },
      "source": [
        "Взвешивание классов и увеличение выборки дали похожие результаты в улучшении качества модели, в тоже время уменьшение выборки показало худшие результаты. Лучшие результаты у моделей, обученных алгоритмом RandomForest, худшие у моделей, обученных LogisticRegression."
      ]
    },
    {
      "cell_type": "code",
      "execution_count": null,
      "metadata": {
        "id": "ocM4dOhyA7bN",
        "outputId": "d49466e9-16e4-48a3-8d95-d5d0df2cf4d9"
      },
      "outputs": [
        {
          "data": {
            "text/html": [
              "<style  type=\"text/css\" >\n",
              "    #T_e0803_ th {\n",
              "          text-align: center;\n",
              "    }#T_e0803_row0_col0,#T_e0803_row0_col1,#T_e0803_row0_col2,#T_e0803_row0_col3,#T_e0803_row1_col0,#T_e0803_row1_col1,#T_e0803_row1_col2,#T_e0803_row1_col3,#T_e0803_row2_col0,#T_e0803_row2_col1,#T_e0803_row2_col2,#T_e0803_row2_col3,#T_e0803_row3_col0,#T_e0803_row3_col1,#T_e0803_row3_col2,#T_e0803_row3_col3,#T_e0803_row4_col0,#T_e0803_row4_col1,#T_e0803_row4_col2,#T_e0803_row4_col3,#T_e0803_row5_col0,#T_e0803_row5_col1,#T_e0803_row5_col2,#T_e0803_row5_col3,#T_e0803_row6_col0,#T_e0803_row6_col1,#T_e0803_row6_col2,#T_e0803_row6_col3,#T_e0803_row7_col0,#T_e0803_row7_col1,#T_e0803_row7_col2,#T_e0803_row7_col3,#T_e0803_row8_col0,#T_e0803_row8_col1,#T_e0803_row8_col2,#T_e0803_row8_col3,#T_e0803_row9_col0,#T_e0803_row9_col1,#T_e0803_row9_col2,#T_e0803_row9_col3,#T_e0803_row10_col0,#T_e0803_row10_col1,#T_e0803_row10_col2,#T_e0803_row10_col3,#T_e0803_row11_col0,#T_e0803_row11_col1,#T_e0803_row11_col2,#T_e0803_row11_col3{\n",
              "            text-align:  left;\n",
              "        }</style><table id=\"T_e0803_\" ><thead>    <tr>        <th class=\"col_heading level0 col0\" >метод борьбы с дисбалансом</th>        <th class=\"col_heading level0 col1\" >модель</th>        <th class=\"col_heading level0 col2\" >F1</th>        <th class=\"col_heading level0 col3\" >AUC-ROC</th>    </tr></thead><tbody>\n",
              "                <tr>\n",
              "                                <td id=\"T_e0803_row0_col0\" class=\"data row0 col0\" >-</td>\n",
              "                        <td id=\"T_e0803_row0_col1\" class=\"data row0 col1\" >LogisticRegression(max_iter=1000, random_state=12345, solver='liblinear')</td>\n",
              "                        <td id=\"T_e0803_row0_col2\" class=\"data row0 col2\" >0.352031</td>\n",
              "                        <td id=\"T_e0803_row0_col3\" class=\"data row0 col3\" >0.774359</td>\n",
              "            </tr>\n",
              "            <tr>\n",
              "                                <td id=\"T_e0803_row1_col0\" class=\"data row1 col0\" >-</td>\n",
              "                        <td id=\"T_e0803_row1_col1\" class=\"data row1 col1\" >DecisionTreeClassifier(max_depth=7, random_state=12345)</td>\n",
              "                        <td id=\"T_e0803_row1_col2\" class=\"data row1 col2\" >0.557659</td>\n",
              "                        <td id=\"T_e0803_row1_col3\" class=\"data row1 col3\" >0.817360</td>\n",
              "            </tr>\n",
              "            <tr>\n",
              "                                <td id=\"T_e0803_row2_col0\" class=\"data row2 col0\" >-</td>\n",
              "                        <td id=\"T_e0803_row2_col1\" class=\"data row2 col1\" >RandomForestClassifier(max_depth=10, n_estimators=16, random_state=12345)</td>\n",
              "                        <td id=\"T_e0803_row2_col2\" class=\"data row2 col2\" >0.583190</td>\n",
              "                        <td id=\"T_e0803_row2_col3\" class=\"data row2 col3\" >0.841564</td>\n",
              "            </tr>\n",
              "            <tr>\n",
              "                                <td id=\"T_e0803_row3_col0\" class=\"data row3 col0\" >взвешивание классов</td>\n",
              "                        <td id=\"T_e0803_row3_col1\" class=\"data row3 col1\" >LogisticRegression(class_weight='balanced', max_iter=1000, random_state=12345,\n",
              "                   solver='liblinear')</td>\n",
              "                        <td id=\"T_e0803_row3_col2\" class=\"data row3 col2\" >0.508704</td>\n",
              "                        <td id=\"T_e0803_row3_col3\" class=\"data row3 col3\" >0.778159</td>\n",
              "            </tr>\n",
              "            <tr>\n",
              "                                <td id=\"T_e0803_row4_col0\" class=\"data row4 col0\" >взвешивание классов</td>\n",
              "                        <td id=\"T_e0803_row4_col1\" class=\"data row4 col1\" >DecisionTreeClassifier(class_weight='balanced', max_depth=8, random_state=12345)</td>\n",
              "                        <td id=\"T_e0803_row4_col2\" class=\"data row4 col2\" >0.567568</td>\n",
              "                        <td id=\"T_e0803_row4_col3\" class=\"data row4 col3\" >0.805205</td>\n",
              "            </tr>\n",
              "            <tr>\n",
              "                                <td id=\"T_e0803_row5_col0\" class=\"data row5 col0\" >взвешивание классов</td>\n",
              "                        <td id=\"T_e0803_row5_col1\" class=\"data row5 col1\" >RandomForestClassifier(class_weight='balanced', max_depth=10, n_estimators=23,\n",
              "                       random_state=12345)</td>\n",
              "                        <td id=\"T_e0803_row5_col2\" class=\"data row5 col2\" >0.617486</td>\n",
              "                        <td id=\"T_e0803_row5_col3\" class=\"data row5 col3\" >0.844632</td>\n",
              "            </tr>\n",
              "            <tr>\n",
              "                                <td id=\"T_e0803_row6_col0\" class=\"data row6 col0\" >увеличение выборки</td>\n",
              "                        <td id=\"T_e0803_row6_col1\" class=\"data row6 col1\" >LogisticRegression(max_iter=1000, random_state=12345, solver='liblinear')</td>\n",
              "                        <td id=\"T_e0803_row6_col2\" class=\"data row6 col2\" >0.504282</td>\n",
              "                        <td id=\"T_e0803_row6_col3\" class=\"data row6 col3\" >0.778185</td>\n",
              "            </tr>\n",
              "            <tr>\n",
              "                                <td id=\"T_e0803_row7_col0\" class=\"data row7 col0\" >увеличение выборки</td>\n",
              "                        <td id=\"T_e0803_row7_col1\" class=\"data row7 col1\" >DecisionTreeClassifier(max_depth=8, random_state=12345)</td>\n",
              "                        <td id=\"T_e0803_row7_col2\" class=\"data row7 col2\" >0.571106</td>\n",
              "                        <td id=\"T_e0803_row7_col3\" class=\"data row7 col3\" >0.808332</td>\n",
              "            </tr>\n",
              "            <tr>\n",
              "                                <td id=\"T_e0803_row8_col0\" class=\"data row8 col0\" >увеличение выборки</td>\n",
              "                        <td id=\"T_e0803_row8_col1\" class=\"data row8 col1\" >RandomForestClassifier(max_depth=13, n_estimators=17, random_state=12345)</td>\n",
              "                        <td id=\"T_e0803_row8_col2\" class=\"data row8 col2\" >0.617729</td>\n",
              "                        <td id=\"T_e0803_row8_col3\" class=\"data row8 col3\" >0.830564</td>\n",
              "            </tr>\n",
              "            <tr>\n",
              "                                <td id=\"T_e0803_row9_col0\" class=\"data row9 col0\" >уменьшение выборки</td>\n",
              "                        <td id=\"T_e0803_row9_col1\" class=\"data row9 col1\" >LogisticRegression(max_iter=1000, random_state=12345, solver='liblinear')</td>\n",
              "                        <td id=\"T_e0803_row9_col2\" class=\"data row9 col2\" >0.508181</td>\n",
              "                        <td id=\"T_e0803_row9_col3\" class=\"data row9 col3\" >0.779374</td>\n",
              "            </tr>\n",
              "            <tr>\n",
              "                                <td id=\"T_e0803_row10_col0\" class=\"data row10 col0\" >уменьшение выборки</td>\n",
              "                        <td id=\"T_e0803_row10_col1\" class=\"data row10 col1\" >DecisionTreeClassifier(max_depth=8, random_state=12345)</td>\n",
              "                        <td id=\"T_e0803_row10_col2\" class=\"data row10 col2\" >0.563147</td>\n",
              "                        <td id=\"T_e0803_row10_col3\" class=\"data row10 col3\" >0.799249</td>\n",
              "            </tr>\n",
              "            <tr>\n",
              "                                <td id=\"T_e0803_row11_col0\" class=\"data row11 col0\" >уменьшение выборки</td>\n",
              "                        <td id=\"T_e0803_row11_col1\" class=\"data row11 col1\" >RandomForestClassifier(max_depth=6, n_estimators=12, random_state=12345)</td>\n",
              "                        <td id=\"T_e0803_row11_col2\" class=\"data row11 col2\" >0.597701</td>\n",
              "                        <td id=\"T_e0803_row11_col3\" class=\"data row11 col3\" >0.851770</td>\n",
              "            </tr>\n",
              "    </tbody></table>"
            ],
            "text/plain": [
              "<pandas.io.formats.style.Styler at 0x7f75fc892a60>"
            ]
          },
          "execution_count": 102,
          "metadata": {},
          "output_type": "execute_result"
        }
      ],
      "source": [
        "table = pd.DataFrame([['-', model_lr, f1_lr, auc_lr],\n",
        "['-', model_dt, f1_dt, auc_dt],\n",
        "['-', str(model_rf), f1_rf, auc_rf],\n",
        "['взвешивание классов', model_lr_w, f1_lr_w, auc_lr_w],\n",
        "['взвешивание классов', model_dt_w, f1_dt_w, auc_dt_w],\n",
        "['взвешивание классов', str(model_rf_w), f1_rf_w, auc_rf_w],\n",
        "['увеличение выборки', model_lr_up, f1_lr_up, auc_lr_up],\n",
        "['увеличение выборки', model_dt_up, f1_dt_up, auc_dt_up],\n",
        "['увеличение выборки', str(model_rf_up), f1_rf_up, auc_rf_up],\n",
        "['уменьшение выборки', model_lr_dow, f1_lr_dow, auc_lr_dow],\n",
        "['уменьшение выборки', model_dt_dow, f1_dt_dow, auc_dt_dow],\n",
        "['уменьшение выборки', str(model_rf_dow), f1_rf_dow, auc_rf_dow]],\n",
        "columns=['метод борьбы с дисбалансом', 'модель', 'F1', 'AUC-ROC'])\n",
        "table = table.style.set_table_styles([dict(selector='th', props=[('text-align', 'center')])])\n",
        "table.set_properties(**{'text-align': 'left'}).hide_index()"
      ]
    },
    {
      "cell_type": "markdown",
      "metadata": {
        "id": "wJIKeFtQA7bN"
      },
      "source": [
        "Лучшие результаты у моделей, обученных алгоритмом RandomForest - взвешивание классов при параметрах n_estimators = 23,  max_depth = 10 значение F1 = 0.6174863387978142, AUC-ROC = 0.8446318744322499,  увеличение выборки при параметрах n_estimators = 17,  max_depth = 13 значение F1 = 0.6177285318559558, AUC-ROC = 0.8305637667346727. Показатели очень близкие, ориентируясь на значение F1, для тестирования остановимся на модели сбалансированной увеличением выборки. Рассматривая другие алгоритмы можно отметить, что на модели, обученные LogisticRegression все три рассмотренных метода борьбы с дисбалансом дают практически идентичные результаты (показатели F1 и AUC-ROC при изменении метода практически не меняются).\n",
        "Для моделей обученных DecisionTreeClassifier также результаты практически не отличаются, присутствует очень незначительное улучшение при увеличении выборки."
      ]
    },
    {
      "cell_type": "markdown",
      "metadata": {
        "id": "H_1LvSFJA7bO"
      },
      "source": [
        "## Тестирование модели"
      ]
    },
    {
      "cell_type": "code",
      "execution_count": null,
      "metadata": {
        "id": "aZkWsZA6A7bO",
        "outputId": "4152c95f-991b-432c-b6c8-2539b9d108cc"
      },
      "outputs": [
        {
          "name": "stdout",
          "output_type": "stream",
          "text": [
            "F1: 0.6236559139784946 , AUC-ROC: 0.855005336815458\n"
          ]
        }
      ],
      "source": [
        "model_rf_up.fit(features_upsampled, target_upsampled)\n",
        "predicted_test = model.predict(features_test)\n",
        "\n",
        "probabilities_test = model.predict_proba(features_test)\n",
        "probabilities_one_test = probabilities_test[:, 1]\n",
        "print(\"F1:\", f1_score(target_test, predicted_test),\n",
        "      ', AUC-ROC:', roc_auc_score(target_test, probabilities_one_test))"
      ]
    },
    {
      "cell_type": "markdown",
      "source": [
        "В нашем распоряжении были исторические данные о поведении клиентов и расторжении договоров с банком. Таблица с данными состояла из 14 столбцов и 10000 строк.\n",
        "Была выполнена подготовка данных: в столбце Tenure присутствовали пропуски, восстановить которые не представлялось возможным, поэтому строки с пропусками были удалены; столбцы 'RowNumber', 'CustomerId', 'Surname' также были удалены, т.к. данные в них носят просто идентификационный характер(индекс строки, ID клиента, фамилия клиента) и для обучения модели не понадобятся. Предобработанные данные были разбиты на выборки (обучающую, валидационную и тестовую) в следующих пропорциях 60-20-20. Категориальные признаки преобразованы в численные с помощью OneHotEncoder. Также была проведена стандартизация данных.\n",
        "\n",
        "В данных присутствовал дисбаланс классов. Было проведено обучение моделей при помощи трех алгоритмов - LogisticRegression, RandomForestClassifier, DecisionTreeClassifier, что показало - дисбаланс оказывает влияние на качество моделей (оно не высокое). Лучшие результаты были получены у модели, обученной алгоритмом RandomForestClassifier(n_estimators = 16, max_depth = 10). Худшие у модели, обученной LogisticRegression.\n",
        "\n",
        "Для улучшения качества моделей использовались три метода – взвешивание классов, увеличение выборки и уменьшение выборки. Первые два метода показали  похожие результаты в улучшении качества модели, в тоже время уменьшение выборки показало худшие результаты.\n",
        "Лучшие результаты у моделей, обученных алгоритмом RandomForest\n",
        "- взвешивание классов при параметрах n_estimators = 23, max_depth = 10, значение F1 = 0.6174863387978142, AUC-ROC = 0.8446318744322499,\n",
        "- увеличение выборки при параметрах n_estimators = 17, max_depth = 13, значение F1 = 0.6177285318559558, AUC-ROC = 0.8305637667346727.\n",
        "\n",
        "Показатели очень близкие, ориентируясь на значение F1, для тестирования была выбрана модель, сбалансированная увеличением выборки.\n",
        "\n",
        "Рассматривая другие алгоритмы можно отметить, что на модели, обученные LogisticRegression все три рассмотренных метода борьбы с дисбалансом дают практически идентичные результаты (показатели F1 и AUC-ROC при изменении метода практически не меняются) и в тоже время данные методы лучше всего сказались именно на ней. Для моделей обученных DecisionTreeClassifier также результаты практически не отличаются, присутствует очень незначительное улучшение при увеличении выборки.\n",
        "\n",
        "Тестирование лучшей модели показало хорошие результаты. Модель RandomForestClassifier(max_depth=13, n_estimators=17) можно рекомендовать использовать для прогнозирования, уйдёт клиент из банка в ближайшее время или нет.\n",
        "\n"
      ],
      "metadata": {
        "id": "xPs3zGEFE0Jz"
      }
    },
    {
      "cell_type": "code",
      "execution_count": null,
      "metadata": {
        "id": "ji9ikX6bA7bQ"
      },
      "outputs": [],
      "source": []
    }
  ],
  "metadata": {
    "ExecuteTimeLog": [
      {
        "duration": 412,
        "start_time": "2023-03-30T15:36:08.899Z"
      },
      {
        "duration": 167,
        "start_time": "2023-03-30T15:36:41.427Z"
      },
      {
        "duration": 20,
        "start_time": "2023-03-30T15:37:03.285Z"
      },
      {
        "duration": 14,
        "start_time": "2023-03-30T15:37:39.643Z"
      },
      {
        "duration": 5,
        "start_time": "2023-03-30T15:41:04.882Z"
      },
      {
        "duration": 6,
        "start_time": "2023-03-30T15:44:09.659Z"
      },
      {
        "duration": 52,
        "start_time": "2023-03-31T07:27:08.901Z"
      },
      {
        "duration": 364,
        "start_time": "2023-03-31T07:27:14.154Z"
      },
      {
        "duration": 75,
        "start_time": "2023-03-31T07:27:14.520Z"
      },
      {
        "duration": 21,
        "start_time": "2023-03-31T07:27:14.597Z"
      },
      {
        "duration": 19,
        "start_time": "2023-03-31T07:27:14.620Z"
      },
      {
        "duration": 20,
        "start_time": "2023-03-31T07:27:14.641Z"
      },
      {
        "duration": 6,
        "start_time": "2023-03-31T07:27:14.663Z"
      },
      {
        "duration": 11,
        "start_time": "2023-03-31T07:27:14.671Z"
      },
      {
        "duration": 8,
        "start_time": "2023-03-31T07:27:33.258Z"
      },
      {
        "duration": 13,
        "start_time": "2023-03-31T07:29:04.048Z"
      },
      {
        "duration": 28,
        "start_time": "2023-03-31T07:31:50.082Z"
      },
      {
        "duration": 21,
        "start_time": "2023-03-31T07:31:57.481Z"
      },
      {
        "duration": 8,
        "start_time": "2023-03-31T07:32:43.079Z"
      },
      {
        "duration": 44,
        "start_time": "2023-03-31T07:32:49.898Z"
      },
      {
        "duration": 37,
        "start_time": "2023-03-31T07:36:13.814Z"
      },
      {
        "duration": 57,
        "start_time": "2023-03-31T07:37:26.039Z"
      },
      {
        "duration": 14,
        "start_time": "2023-03-31T07:38:21.094Z"
      },
      {
        "duration": 1554,
        "start_time": "2023-03-31T07:46:55.099Z"
      },
      {
        "duration": 292,
        "start_time": "2023-03-31T07:47:51.530Z"
      },
      {
        "duration": 129596,
        "start_time": "2023-03-31T07:48:46.727Z"
      },
      {
        "duration": 506,
        "start_time": "2023-03-31T07:51:09.435Z"
      },
      {
        "duration": 14,
        "start_time": "2023-03-31T07:52:46.692Z"
      },
      {
        "duration": 7,
        "start_time": "2023-03-31T07:53:06.480Z"
      },
      {
        "duration": 30,
        "start_time": "2023-03-31T08:01:11.430Z"
      },
      {
        "duration": 45,
        "start_time": "2023-03-31T12:55:57.907Z"
      },
      {
        "duration": 397,
        "start_time": "2023-03-31T12:56:03.480Z"
      },
      {
        "duration": 152,
        "start_time": "2023-03-31T12:56:03.879Z"
      },
      {
        "duration": 18,
        "start_time": "2023-03-31T12:56:04.032Z"
      },
      {
        "duration": 34,
        "start_time": "2023-03-31T12:56:04.052Z"
      },
      {
        "duration": 20,
        "start_time": "2023-03-31T12:56:04.088Z"
      },
      {
        "duration": 35,
        "start_time": "2023-03-31T12:56:04.109Z"
      },
      {
        "duration": 7,
        "start_time": "2023-03-31T12:56:04.146Z"
      },
      {
        "duration": 18,
        "start_time": "2023-03-31T12:56:04.154Z"
      },
      {
        "duration": 12,
        "start_time": "2023-03-31T12:56:04.174Z"
      },
      {
        "duration": 52,
        "start_time": "2023-03-31T12:56:04.189Z"
      },
      {
        "duration": 0,
        "start_time": "2023-03-31T12:56:04.242Z"
      },
      {
        "duration": 18,
        "start_time": "2023-03-31T12:56:23.466Z"
      },
      {
        "duration": 27,
        "start_time": "2023-03-31T12:56:31.498Z"
      },
      {
        "duration": 29,
        "start_time": "2023-03-31T12:56:58.803Z"
      },
      {
        "duration": 15,
        "start_time": "2023-03-31T12:58:37.262Z"
      },
      {
        "duration": 13,
        "start_time": "2023-03-31T12:59:56.211Z"
      },
      {
        "duration": 11,
        "start_time": "2023-03-31T13:00:31.970Z"
      },
      {
        "duration": 6,
        "start_time": "2023-03-31T13:06:38.344Z"
      },
      {
        "duration": 12,
        "start_time": "2023-03-31T13:31:07.686Z"
      },
      {
        "duration": 13,
        "start_time": "2023-03-31T13:31:22.363Z"
      },
      {
        "duration": 15,
        "start_time": "2023-03-31T13:31:38.177Z"
      },
      {
        "duration": 12,
        "start_time": "2023-03-31T13:31:49.605Z"
      },
      {
        "duration": 386,
        "start_time": "2023-04-03T07:18:35.214Z"
      },
      {
        "duration": 84,
        "start_time": "2023-04-03T07:18:35.602Z"
      },
      {
        "duration": 20,
        "start_time": "2023-04-03T07:18:35.688Z"
      },
      {
        "duration": 13,
        "start_time": "2023-04-03T07:18:35.710Z"
      },
      {
        "duration": 19,
        "start_time": "2023-04-03T07:18:35.726Z"
      },
      {
        "duration": 64,
        "start_time": "2023-04-03T07:18:35.747Z"
      },
      {
        "duration": 8,
        "start_time": "2023-04-03T07:18:35.813Z"
      },
      {
        "duration": 6,
        "start_time": "2023-04-03T07:18:35.824Z"
      },
      {
        "duration": 11,
        "start_time": "2023-04-03T07:18:35.832Z"
      },
      {
        "duration": 38,
        "start_time": "2023-04-03T07:18:35.845Z"
      },
      {
        "duration": 20,
        "start_time": "2023-04-03T07:18:35.884Z"
      },
      {
        "duration": 88,
        "start_time": "2023-04-03T07:18:35.906Z"
      },
      {
        "duration": 0,
        "start_time": "2023-04-03T07:18:35.996Z"
      },
      {
        "duration": 221,
        "start_time": "2023-04-03T07:18:58.039Z"
      },
      {
        "duration": 7,
        "start_time": "2023-04-03T07:20:08.740Z"
      },
      {
        "duration": 4,
        "start_time": "2023-04-03T07:21:23.595Z"
      },
      {
        "duration": 9,
        "start_time": "2023-04-03T07:22:24.343Z"
      },
      {
        "duration": 8,
        "start_time": "2023-04-03T07:22:43.503Z"
      },
      {
        "duration": 5,
        "start_time": "2023-04-03T07:22:57.415Z"
      },
      {
        "duration": 9,
        "start_time": "2023-04-03T07:23:16.966Z"
      },
      {
        "duration": 10,
        "start_time": "2023-04-03T07:23:55.281Z"
      },
      {
        "duration": 8,
        "start_time": "2023-04-03T07:24:08.384Z"
      },
      {
        "duration": 7,
        "start_time": "2023-04-03T07:27:11.582Z"
      },
      {
        "duration": 10,
        "start_time": "2023-04-03T07:28:27.482Z"
      },
      {
        "duration": 9,
        "start_time": "2023-04-03T07:28:41.208Z"
      },
      {
        "duration": 221,
        "start_time": "2023-04-03T07:29:04.505Z"
      },
      {
        "duration": 760,
        "start_time": "2023-04-03T07:33:20.849Z"
      },
      {
        "duration": 3,
        "start_time": "2023-04-03T07:34:36.499Z"
      },
      {
        "duration": 65,
        "start_time": "2023-04-03T07:34:54.305Z"
      },
      {
        "duration": 23,
        "start_time": "2023-04-03T07:40:47.350Z"
      },
      {
        "duration": 16,
        "start_time": "2023-04-03T07:41:14.208Z"
      },
      {
        "duration": 7,
        "start_time": "2023-04-03T07:41:27.333Z"
      },
      {
        "duration": 15,
        "start_time": "2023-04-03T07:41:31.857Z"
      },
      {
        "duration": 13,
        "start_time": "2023-04-03T07:41:44.855Z"
      },
      {
        "duration": 24,
        "start_time": "2023-04-03T07:43:30.111Z"
      },
      {
        "duration": 5,
        "start_time": "2023-04-03T07:43:39.248Z"
      },
      {
        "duration": 21,
        "start_time": "2023-04-03T07:43:55.512Z"
      },
      {
        "duration": 7,
        "start_time": "2023-04-03T08:55:06.134Z"
      },
      {
        "duration": 27,
        "start_time": "2023-04-03T08:56:43.679Z"
      },
      {
        "duration": 25,
        "start_time": "2023-04-03T08:56:58.439Z"
      },
      {
        "duration": 14,
        "start_time": "2023-04-03T09:16:52.263Z"
      },
      {
        "duration": 13,
        "start_time": "2023-04-03T09:17:37.218Z"
      },
      {
        "duration": 12,
        "start_time": "2023-04-03T09:19:25.463Z"
      },
      {
        "duration": 7,
        "start_time": "2023-04-03T09:21:04.361Z"
      },
      {
        "duration": 3,
        "start_time": "2023-04-03T09:21:52.986Z"
      },
      {
        "duration": 43,
        "start_time": "2023-04-03T09:21:52.991Z"
      },
      {
        "duration": 13,
        "start_time": "2023-04-03T09:21:53.036Z"
      },
      {
        "duration": 14,
        "start_time": "2023-04-03T09:21:53.051Z"
      },
      {
        "duration": 23,
        "start_time": "2023-04-03T09:21:53.068Z"
      },
      {
        "duration": 41,
        "start_time": "2023-04-03T09:21:53.092Z"
      },
      {
        "duration": 7,
        "start_time": "2023-04-03T09:21:53.134Z"
      },
      {
        "duration": 8,
        "start_time": "2023-04-03T09:21:53.143Z"
      },
      {
        "duration": 5,
        "start_time": "2023-04-03T09:21:53.175Z"
      },
      {
        "duration": 6,
        "start_time": "2023-04-03T09:21:53.182Z"
      },
      {
        "duration": 12,
        "start_time": "2023-04-03T09:21:53.190Z"
      },
      {
        "duration": 23,
        "start_time": "2023-04-03T09:21:53.203Z"
      },
      {
        "duration": 11,
        "start_time": "2023-04-03T09:21:53.229Z"
      },
      {
        "duration": 12,
        "start_time": "2023-04-03T09:21:53.275Z"
      },
      {
        "duration": 7,
        "start_time": "2023-04-03T09:21:53.289Z"
      },
      {
        "duration": 220,
        "start_time": "2023-04-03T09:21:53.297Z"
      },
      {
        "duration": 2,
        "start_time": "2023-04-03T09:21:53.519Z"
      },
      {
        "duration": 22,
        "start_time": "2023-04-03T09:21:53.523Z"
      },
      {
        "duration": 9,
        "start_time": "2023-04-03T09:21:53.546Z"
      },
      {
        "duration": 22,
        "start_time": "2023-04-03T09:21:53.557Z"
      },
      {
        "duration": 0,
        "start_time": "2023-04-03T09:21:53.581Z"
      },
      {
        "duration": 8,
        "start_time": "2023-04-03T09:23:07.743Z"
      },
      {
        "duration": 10,
        "start_time": "2023-04-03T09:23:12.465Z"
      },
      {
        "duration": 5,
        "start_time": "2023-04-03T09:24:16.499Z"
      },
      {
        "duration": 4,
        "start_time": "2023-04-03T09:24:51.755Z"
      },
      {
        "duration": 22,
        "start_time": "2023-04-03T09:38:24.831Z"
      },
      {
        "duration": 13,
        "start_time": "2023-04-03T09:38:37.249Z"
      },
      {
        "duration": 23,
        "start_time": "2023-04-03T09:42:24.425Z"
      },
      {
        "duration": 188,
        "start_time": "2023-04-03T09:42:42.484Z"
      },
      {
        "duration": 4,
        "start_time": "2023-04-03T09:43:15.834Z"
      },
      {
        "duration": 27,
        "start_time": "2023-04-03T09:43:21.412Z"
      },
      {
        "duration": 3,
        "start_time": "2023-04-03T09:48:56.028Z"
      },
      {
        "duration": 37,
        "start_time": "2023-04-03T09:48:56.033Z"
      },
      {
        "duration": 14,
        "start_time": "2023-04-03T09:48:56.072Z"
      },
      {
        "duration": 12,
        "start_time": "2023-04-03T09:48:56.088Z"
      },
      {
        "duration": 18,
        "start_time": "2023-04-03T09:48:56.102Z"
      },
      {
        "duration": 63,
        "start_time": "2023-04-03T09:48:56.122Z"
      },
      {
        "duration": 9,
        "start_time": "2023-04-03T09:48:56.187Z"
      },
      {
        "duration": 6,
        "start_time": "2023-04-03T09:48:56.197Z"
      },
      {
        "duration": 6,
        "start_time": "2023-04-03T09:48:56.205Z"
      },
      {
        "duration": 14,
        "start_time": "2023-04-03T09:48:56.213Z"
      },
      {
        "duration": 47,
        "start_time": "2023-04-03T09:48:56.229Z"
      },
      {
        "duration": 3,
        "start_time": "2023-04-03T09:48:56.278Z"
      },
      {
        "duration": 78,
        "start_time": "2023-04-03T09:48:56.283Z"
      },
      {
        "duration": 12,
        "start_time": "2023-04-03T09:48:56.363Z"
      },
      {
        "duration": 61,
        "start_time": "2023-04-03T09:48:56.377Z"
      },
      {
        "duration": 8,
        "start_time": "2023-04-03T09:48:56.440Z"
      },
      {
        "duration": 34,
        "start_time": "2023-04-03T09:48:56.450Z"
      },
      {
        "duration": 3,
        "start_time": "2023-04-03T09:52:35.781Z"
      },
      {
        "duration": 42,
        "start_time": "2023-04-03T09:52:35.787Z"
      },
      {
        "duration": 12,
        "start_time": "2023-04-03T09:52:35.833Z"
      },
      {
        "duration": 26,
        "start_time": "2023-04-03T09:52:35.847Z"
      },
      {
        "duration": 45,
        "start_time": "2023-04-03T09:52:35.875Z"
      },
      {
        "duration": 41,
        "start_time": "2023-04-03T09:52:35.923Z"
      },
      {
        "duration": 7,
        "start_time": "2023-04-03T09:52:35.966Z"
      },
      {
        "duration": 4,
        "start_time": "2023-04-03T09:52:35.975Z"
      },
      {
        "duration": 10,
        "start_time": "2023-04-03T09:52:35.981Z"
      },
      {
        "duration": 20,
        "start_time": "2023-04-03T09:52:35.993Z"
      },
      {
        "duration": 20,
        "start_time": "2023-04-03T09:52:36.015Z"
      },
      {
        "duration": 23,
        "start_time": "2023-04-03T09:52:36.037Z"
      },
      {
        "duration": 31,
        "start_time": "2023-04-03T09:52:36.062Z"
      },
      {
        "duration": 12,
        "start_time": "2023-04-03T09:52:36.095Z"
      },
      {
        "duration": 20,
        "start_time": "2023-04-03T09:52:36.110Z"
      },
      {
        "duration": 9,
        "start_time": "2023-04-03T09:52:36.132Z"
      },
      {
        "duration": 41,
        "start_time": "2023-04-03T09:52:36.143Z"
      },
      {
        "duration": 17,
        "start_time": "2023-04-03T09:57:09.609Z"
      },
      {
        "duration": 2,
        "start_time": "2023-04-03T09:58:23.920Z"
      },
      {
        "duration": 23,
        "start_time": "2023-04-03T09:58:56.577Z"
      },
      {
        "duration": 102,
        "start_time": "2023-04-03T10:09:20.036Z"
      },
      {
        "duration": 16,
        "start_time": "2023-04-03T10:09:33.399Z"
      },
      {
        "duration": 3,
        "start_time": "2023-04-03T10:09:48.082Z"
      },
      {
        "duration": 45,
        "start_time": "2023-04-03T10:09:48.089Z"
      },
      {
        "duration": 19,
        "start_time": "2023-04-03T10:09:48.137Z"
      },
      {
        "duration": 20,
        "start_time": "2023-04-03T10:09:48.159Z"
      },
      {
        "duration": 28,
        "start_time": "2023-04-03T10:09:48.182Z"
      },
      {
        "duration": 64,
        "start_time": "2023-04-03T10:09:48.212Z"
      },
      {
        "duration": 8,
        "start_time": "2023-04-03T10:09:48.278Z"
      },
      {
        "duration": 6,
        "start_time": "2023-04-03T10:09:48.288Z"
      },
      {
        "duration": 7,
        "start_time": "2023-04-03T10:09:48.296Z"
      },
      {
        "duration": 16,
        "start_time": "2023-04-03T10:09:48.305Z"
      },
      {
        "duration": 25,
        "start_time": "2023-04-03T10:09:48.323Z"
      },
      {
        "duration": 7,
        "start_time": "2023-04-03T10:09:48.376Z"
      },
      {
        "duration": 19,
        "start_time": "2023-04-03T10:09:48.385Z"
      },
      {
        "duration": 7,
        "start_time": "2023-04-03T10:09:48.407Z"
      },
      {
        "duration": 20,
        "start_time": "2023-04-03T10:09:48.416Z"
      },
      {
        "duration": 40,
        "start_time": "2023-04-03T10:09:48.438Z"
      },
      {
        "duration": 41,
        "start_time": "2023-04-03T10:09:48.480Z"
      },
      {
        "duration": 4,
        "start_time": "2023-04-03T10:09:48.523Z"
      },
      {
        "duration": 48,
        "start_time": "2023-04-03T10:09:48.529Z"
      },
      {
        "duration": 4,
        "start_time": "2023-04-03T10:21:18.893Z"
      },
      {
        "duration": 9,
        "start_time": "2023-04-03T10:21:21.596Z"
      },
      {
        "duration": 3,
        "start_time": "2023-04-03T10:21:24.887Z"
      },
      {
        "duration": 4,
        "start_time": "2023-04-03T10:21:28.043Z"
      },
      {
        "duration": 14,
        "start_time": "2023-04-03T10:23:50.918Z"
      },
      {
        "duration": 3,
        "start_time": "2023-04-03T10:24:44.821Z"
      },
      {
        "duration": 45,
        "start_time": "2023-04-03T10:24:44.826Z"
      },
      {
        "duration": 13,
        "start_time": "2023-04-03T10:24:44.873Z"
      },
      {
        "duration": 27,
        "start_time": "2023-04-03T10:24:44.888Z"
      },
      {
        "duration": 27,
        "start_time": "2023-04-03T10:24:44.917Z"
      },
      {
        "duration": 52,
        "start_time": "2023-04-03T10:24:44.945Z"
      },
      {
        "duration": 7,
        "start_time": "2023-04-03T10:24:44.999Z"
      },
      {
        "duration": 25,
        "start_time": "2023-04-03T10:24:45.007Z"
      },
      {
        "duration": 25,
        "start_time": "2023-04-03T10:24:45.034Z"
      },
      {
        "duration": 47,
        "start_time": "2023-04-03T10:24:45.061Z"
      },
      {
        "duration": 34,
        "start_time": "2023-04-03T10:24:45.109Z"
      },
      {
        "duration": 16,
        "start_time": "2023-04-03T10:24:45.144Z"
      },
      {
        "duration": 20,
        "start_time": "2023-04-03T10:24:45.162Z"
      },
      {
        "duration": 19,
        "start_time": "2023-04-03T10:24:45.185Z"
      },
      {
        "duration": 28,
        "start_time": "2023-04-03T10:24:45.206Z"
      },
      {
        "duration": 32,
        "start_time": "2023-04-03T10:24:45.236Z"
      },
      {
        "duration": 59,
        "start_time": "2023-04-03T10:24:45.270Z"
      },
      {
        "duration": 12,
        "start_time": "2023-04-03T10:24:45.331Z"
      },
      {
        "duration": 18,
        "start_time": "2023-04-03T10:24:45.345Z"
      },
      {
        "duration": 22,
        "start_time": "2023-04-03T10:24:45.365Z"
      },
      {
        "duration": 9,
        "start_time": "2023-04-03T10:24:45.388Z"
      },
      {
        "duration": 30,
        "start_time": "2023-04-03T10:24:45.399Z"
      },
      {
        "duration": 1,
        "start_time": "2023-04-03T10:24:45.430Z"
      },
      {
        "duration": 0,
        "start_time": "2023-04-03T10:24:45.432Z"
      },
      {
        "duration": 16,
        "start_time": "2023-04-03T10:26:39.346Z"
      },
      {
        "duration": 3,
        "start_time": "2023-04-03T10:29:13.690Z"
      },
      {
        "duration": 37,
        "start_time": "2023-04-03T10:29:13.695Z"
      },
      {
        "duration": 14,
        "start_time": "2023-04-03T10:29:13.733Z"
      },
      {
        "duration": 13,
        "start_time": "2023-04-03T10:29:13.750Z"
      },
      {
        "duration": 48,
        "start_time": "2023-04-03T10:29:13.765Z"
      },
      {
        "duration": 171,
        "start_time": "2023-04-03T10:29:13.816Z"
      },
      {
        "duration": 10,
        "start_time": "2023-04-03T10:29:13.990Z"
      },
      {
        "duration": 31,
        "start_time": "2023-04-03T10:29:14.002Z"
      },
      {
        "duration": 30,
        "start_time": "2023-04-03T10:29:14.037Z"
      },
      {
        "duration": 36,
        "start_time": "2023-04-03T10:29:14.070Z"
      },
      {
        "duration": 31,
        "start_time": "2023-04-03T10:29:14.108Z"
      },
      {
        "duration": 10,
        "start_time": "2023-04-03T10:29:14.141Z"
      },
      {
        "duration": 15,
        "start_time": "2023-04-03T10:29:14.153Z"
      },
      {
        "duration": 26,
        "start_time": "2023-04-03T10:29:14.174Z"
      },
      {
        "duration": 16,
        "start_time": "2023-04-03T10:29:14.202Z"
      },
      {
        "duration": 10,
        "start_time": "2023-04-03T10:29:14.220Z"
      },
      {
        "duration": 34,
        "start_time": "2023-04-03T10:29:14.232Z"
      },
      {
        "duration": 6,
        "start_time": "2023-04-03T10:29:14.277Z"
      },
      {
        "duration": 32,
        "start_time": "2023-04-03T10:29:14.285Z"
      },
      {
        "duration": 14,
        "start_time": "2023-04-03T10:29:14.319Z"
      },
      {
        "duration": 28,
        "start_time": "2023-04-03T10:29:14.335Z"
      },
      {
        "duration": 16,
        "start_time": "2023-04-03T10:29:14.365Z"
      },
      {
        "duration": 0,
        "start_time": "2023-04-03T10:29:14.384Z"
      },
      {
        "duration": 0,
        "start_time": "2023-04-03T10:29:14.385Z"
      },
      {
        "duration": 7,
        "start_time": "2023-04-03T10:30:50.022Z"
      },
      {
        "duration": 4,
        "start_time": "2023-04-03T10:32:38.044Z"
      },
      {
        "duration": 3,
        "start_time": "2023-04-03T10:32:56.765Z"
      },
      {
        "duration": 3,
        "start_time": "2023-04-03T10:33:22.763Z"
      },
      {
        "duration": 1076,
        "start_time": "2023-04-03T14:07:02.127Z"
      },
      {
        "duration": 75,
        "start_time": "2023-04-03T14:07:03.205Z"
      },
      {
        "duration": 19,
        "start_time": "2023-04-03T14:07:03.281Z"
      },
      {
        "duration": 11,
        "start_time": "2023-04-03T14:07:03.302Z"
      },
      {
        "duration": 16,
        "start_time": "2023-04-03T14:07:03.315Z"
      },
      {
        "duration": 35,
        "start_time": "2023-04-03T14:07:03.333Z"
      },
      {
        "duration": 7,
        "start_time": "2023-04-03T14:07:03.388Z"
      },
      {
        "duration": 4,
        "start_time": "2023-04-03T14:07:03.396Z"
      },
      {
        "duration": 9,
        "start_time": "2023-04-03T14:07:03.401Z"
      },
      {
        "duration": 12,
        "start_time": "2023-04-03T14:07:03.411Z"
      },
      {
        "duration": 15,
        "start_time": "2023-04-03T14:07:03.425Z"
      },
      {
        "duration": 7,
        "start_time": "2023-04-03T14:07:03.441Z"
      },
      {
        "duration": 40,
        "start_time": "2023-04-03T14:07:03.449Z"
      },
      {
        "duration": 5,
        "start_time": "2023-04-03T14:07:03.491Z"
      },
      {
        "duration": 15,
        "start_time": "2023-04-03T14:07:03.497Z"
      },
      {
        "duration": 11,
        "start_time": "2023-04-03T14:07:03.514Z"
      },
      {
        "duration": 38,
        "start_time": "2023-04-03T14:07:03.526Z"
      },
      {
        "duration": 4,
        "start_time": "2023-04-03T14:07:03.565Z"
      },
      {
        "duration": 22,
        "start_time": "2023-04-03T14:07:03.571Z"
      },
      {
        "duration": 15,
        "start_time": "2023-04-03T14:07:03.594Z"
      },
      {
        "duration": 7,
        "start_time": "2023-04-03T14:07:03.610Z"
      },
      {
        "duration": 10,
        "start_time": "2023-04-03T14:07:03.619Z"
      },
      {
        "duration": 3,
        "start_time": "2023-04-03T14:07:03.631Z"
      },
      {
        "duration": 5,
        "start_time": "2023-04-03T14:07:03.635Z"
      },
      {
        "duration": 5,
        "start_time": "2023-04-03T14:07:03.642Z"
      },
      {
        "duration": 5,
        "start_time": "2023-04-03T14:07:03.648Z"
      },
      {
        "duration": 9,
        "start_time": "2023-04-03T14:07:03.654Z"
      },
      {
        "duration": 25,
        "start_time": "2023-04-03T14:08:58.978Z"
      },
      {
        "duration": 8,
        "start_time": "2023-04-03T14:10:42.781Z"
      },
      {
        "duration": 20,
        "start_time": "2023-04-03T14:15:23.678Z"
      },
      {
        "duration": 7,
        "start_time": "2023-04-03T14:15:30.694Z"
      },
      {
        "duration": 9,
        "start_time": "2023-04-03T14:22:46.513Z"
      },
      {
        "duration": 9,
        "start_time": "2023-04-03T14:23:33.796Z"
      },
      {
        "duration": 3,
        "start_time": "2023-04-03T14:23:39.841Z"
      },
      {
        "duration": 38,
        "start_time": "2023-04-03T14:23:39.846Z"
      },
      {
        "duration": 12,
        "start_time": "2023-04-03T14:23:39.886Z"
      },
      {
        "duration": 28,
        "start_time": "2023-04-03T14:23:39.900Z"
      },
      {
        "duration": 19,
        "start_time": "2023-04-03T14:23:39.930Z"
      },
      {
        "duration": 52,
        "start_time": "2023-04-03T14:23:39.950Z"
      },
      {
        "duration": 10,
        "start_time": "2023-04-03T14:23:40.004Z"
      },
      {
        "duration": 19,
        "start_time": "2023-04-03T14:23:40.016Z"
      },
      {
        "duration": 18,
        "start_time": "2023-04-03T14:23:40.038Z"
      },
      {
        "duration": 24,
        "start_time": "2023-04-03T14:23:40.058Z"
      },
      {
        "duration": 22,
        "start_time": "2023-04-03T14:23:40.084Z"
      },
      {
        "duration": 7,
        "start_time": "2023-04-03T14:23:40.108Z"
      },
      {
        "duration": 12,
        "start_time": "2023-04-03T14:23:40.117Z"
      },
      {
        "duration": 8,
        "start_time": "2023-04-03T14:23:40.131Z"
      },
      {
        "duration": 22,
        "start_time": "2023-04-03T14:23:40.140Z"
      },
      {
        "duration": 29,
        "start_time": "2023-04-03T14:23:40.164Z"
      },
      {
        "duration": 25,
        "start_time": "2023-04-03T14:23:40.195Z"
      },
      {
        "duration": 10,
        "start_time": "2023-04-03T14:23:40.221Z"
      },
      {
        "duration": 17,
        "start_time": "2023-04-03T14:23:40.233Z"
      },
      {
        "duration": 10,
        "start_time": "2023-04-03T14:23:40.252Z"
      },
      {
        "duration": 14,
        "start_time": "2023-04-03T14:23:40.264Z"
      },
      {
        "duration": 9,
        "start_time": "2023-04-03T14:23:40.279Z"
      },
      {
        "duration": 3,
        "start_time": "2023-04-03T14:23:40.290Z"
      },
      {
        "duration": 16,
        "start_time": "2023-04-03T14:23:40.295Z"
      },
      {
        "duration": 4,
        "start_time": "2023-04-03T14:23:40.313Z"
      },
      {
        "duration": 9,
        "start_time": "2023-04-03T14:23:40.318Z"
      },
      {
        "duration": 8,
        "start_time": "2023-04-03T14:23:40.328Z"
      },
      {
        "duration": 25,
        "start_time": "2023-04-03T14:23:40.338Z"
      },
      {
        "duration": 8,
        "start_time": "2023-04-03T14:23:40.365Z"
      },
      {
        "duration": 7,
        "start_time": "2023-04-03T14:24:14.782Z"
      },
      {
        "duration": 44,
        "start_time": "2023-04-03T15:27:18.832Z"
      },
      {
        "duration": 111,
        "start_time": "2023-04-03T15:27:27.186Z"
      },
      {
        "duration": 20,
        "start_time": "2023-04-03T15:27:41.507Z"
      },
      {
        "duration": 10,
        "start_time": "2023-04-03T15:31:12.285Z"
      },
      {
        "duration": 11,
        "start_time": "2023-04-03T15:31:48.077Z"
      },
      {
        "duration": 10,
        "start_time": "2023-04-03T15:32:18.781Z"
      },
      {
        "duration": 9,
        "start_time": "2023-04-03T15:34:25.322Z"
      },
      {
        "duration": 168,
        "start_time": "2023-04-03T15:34:49.283Z"
      },
      {
        "duration": 240,
        "start_time": "2023-04-03T15:35:02.108Z"
      },
      {
        "duration": 243,
        "start_time": "2023-04-03T15:35:36.328Z"
      },
      {
        "duration": 6,
        "start_time": "2023-04-03T15:38:21.931Z"
      },
      {
        "duration": 8144,
        "start_time": "2023-04-03T15:39:11.428Z"
      },
      {
        "duration": 7157,
        "start_time": "2023-04-03T15:39:53.682Z"
      },
      {
        "duration": 76810,
        "start_time": "2023-04-03T15:40:18.531Z"
      },
      {
        "duration": 12949,
        "start_time": "2023-04-03T15:42:18.971Z"
      },
      {
        "duration": 12676,
        "start_time": "2023-04-03T15:42:43.026Z"
      },
      {
        "duration": 665,
        "start_time": "2023-04-03T15:43:28.438Z"
      },
      {
        "duration": 14318,
        "start_time": "2023-04-03T15:45:50.009Z"
      },
      {
        "duration": 31464,
        "start_time": "2023-04-03T15:46:27.817Z"
      },
      {
        "duration": 24,
        "start_time": "2023-04-03T16:20:09.757Z"
      },
      {
        "duration": 22,
        "start_time": "2023-04-03T16:20:17.594Z"
      },
      {
        "duration": 22,
        "start_time": "2023-04-03T16:23:16.731Z"
      },
      {
        "duration": 70,
        "start_time": "2023-04-03T16:23:43.704Z"
      },
      {
        "duration": 18,
        "start_time": "2023-04-03T16:23:54.511Z"
      },
      {
        "duration": 22,
        "start_time": "2023-04-03T16:24:02.599Z"
      },
      {
        "duration": 4,
        "start_time": "2023-04-03T16:27:35.461Z"
      },
      {
        "duration": 21,
        "start_time": "2023-04-03T16:27:38.103Z"
      },
      {
        "duration": 4,
        "start_time": "2023-04-03T16:28:19.782Z"
      },
      {
        "duration": 127,
        "start_time": "2023-04-03T16:28:35.765Z"
      },
      {
        "duration": 103,
        "start_time": "2023-04-03T16:29:39.087Z"
      },
      {
        "duration": 11,
        "start_time": "2023-04-03T16:30:47.832Z"
      },
      {
        "duration": 131,
        "start_time": "2023-04-03T16:30:50.957Z"
      },
      {
        "duration": 1135,
        "start_time": "2023-04-03T16:31:44.392Z"
      },
      {
        "duration": 55757,
        "start_time": "2023-04-03T16:33:13.879Z"
      },
      {
        "duration": 1199,
        "start_time": "2023-04-03T16:35:42.593Z"
      },
      {
        "duration": 57950,
        "start_time": "2023-04-03T16:36:02.801Z"
      },
      {
        "duration": 719,
        "start_time": "2023-04-03T16:39:34.278Z"
      },
      {
        "duration": 34214,
        "start_time": "2023-04-03T16:40:25.222Z"
      },
      {
        "duration": 74,
        "start_time": "2023-04-03T16:43:59.870Z"
      },
      {
        "duration": 5,
        "start_time": "2023-04-03T16:45:37.670Z"
      },
      {
        "duration": 9,
        "start_time": "2023-04-03T16:45:42.049Z"
      },
      {
        "duration": 21,
        "start_time": "2023-04-03T16:45:47.774Z"
      },
      {
        "duration": 17,
        "start_time": "2023-04-03T16:46:13.954Z"
      },
      {
        "duration": 298,
        "start_time": "2023-04-03T16:47:42.862Z"
      },
      {
        "duration": 17804,
        "start_time": "2023-04-03T16:48:37.510Z"
      },
      {
        "duration": 189,
        "start_time": "2023-04-03T16:57:43.766Z"
      },
      {
        "duration": 258,
        "start_time": "2023-04-03T16:58:26.845Z"
      },
      {
        "duration": 1222,
        "start_time": "2023-04-04T07:05:21.110Z"
      },
      {
        "duration": 81,
        "start_time": "2023-04-04T07:05:22.334Z"
      },
      {
        "duration": 20,
        "start_time": "2023-04-04T07:05:22.417Z"
      },
      {
        "duration": 28,
        "start_time": "2023-04-04T07:05:22.439Z"
      },
      {
        "duration": 20,
        "start_time": "2023-04-04T07:05:22.469Z"
      },
      {
        "duration": 42,
        "start_time": "2023-04-04T07:05:22.490Z"
      },
      {
        "duration": 7,
        "start_time": "2023-04-04T07:05:22.534Z"
      },
      {
        "duration": 15,
        "start_time": "2023-04-04T07:05:22.543Z"
      },
      {
        "duration": 32,
        "start_time": "2023-04-04T07:05:22.560Z"
      },
      {
        "duration": 26,
        "start_time": "2023-04-04T07:05:22.594Z"
      },
      {
        "duration": 20,
        "start_time": "2023-04-04T07:05:22.622Z"
      },
      {
        "duration": 8,
        "start_time": "2023-04-04T07:05:22.644Z"
      },
      {
        "duration": 11,
        "start_time": "2023-04-04T07:05:22.654Z"
      },
      {
        "duration": 9,
        "start_time": "2023-04-04T07:05:22.690Z"
      },
      {
        "duration": 39,
        "start_time": "2023-04-04T07:05:22.701Z"
      },
      {
        "duration": 15,
        "start_time": "2023-04-04T07:05:22.743Z"
      },
      {
        "duration": 37,
        "start_time": "2023-04-04T07:05:22.760Z"
      },
      {
        "duration": 28,
        "start_time": "2023-04-04T07:05:22.799Z"
      },
      {
        "duration": 29,
        "start_time": "2023-04-04T07:05:22.829Z"
      },
      {
        "duration": 25,
        "start_time": "2023-04-04T07:05:22.860Z"
      },
      {
        "duration": 16,
        "start_time": "2023-04-04T07:05:22.887Z"
      },
      {
        "duration": 24,
        "start_time": "2023-04-04T07:05:22.905Z"
      },
      {
        "duration": 32,
        "start_time": "2023-04-04T07:05:22.931Z"
      },
      {
        "duration": 25,
        "start_time": "2023-04-04T07:05:22.965Z"
      },
      {
        "duration": 29,
        "start_time": "2023-04-04T07:05:22.992Z"
      },
      {
        "duration": 24,
        "start_time": "2023-04-04T07:05:23.023Z"
      },
      {
        "duration": 12,
        "start_time": "2023-04-04T07:05:23.050Z"
      },
      {
        "duration": 21,
        "start_time": "2023-04-04T07:05:23.064Z"
      },
      {
        "duration": 35,
        "start_time": "2023-04-04T07:05:23.087Z"
      },
      {
        "duration": 14,
        "start_time": "2023-04-04T07:05:23.124Z"
      },
      {
        "duration": 705,
        "start_time": "2023-04-04T07:05:23.140Z"
      },
      {
        "duration": 33515,
        "start_time": "2023-04-04T07:05:23.847Z"
      },
      {
        "duration": 127,
        "start_time": "2023-04-04T07:05:57.363Z"
      },
      {
        "duration": 112,
        "start_time": "2023-04-04T07:05:57.493Z"
      },
      {
        "duration": 907,
        "start_time": "2023-04-04T07:05:57.607Z"
      },
      {
        "duration": 33919,
        "start_time": "2023-04-04T07:05:58.516Z"
      },
      {
        "duration": 5,
        "start_time": "2023-04-04T07:06:32.437Z"
      },
      {
        "duration": 18,
        "start_time": "2023-04-04T07:06:32.443Z"
      },
      {
        "duration": 133,
        "start_time": "2023-04-04T07:06:32.463Z"
      },
      {
        "duration": 1355,
        "start_time": "2023-04-04T07:06:32.598Z"
      },
      {
        "duration": 59053,
        "start_time": "2023-04-04T07:06:33.958Z"
      },
      {
        "duration": 4,
        "start_time": "2023-04-04T07:07:33.013Z"
      },
      {
        "duration": 23,
        "start_time": "2023-04-04T07:07:33.019Z"
      },
      {
        "duration": 148,
        "start_time": "2023-04-04T07:07:33.044Z"
      },
      {
        "duration": 337,
        "start_time": "2023-04-04T07:07:33.194Z"
      },
      {
        "duration": 17966,
        "start_time": "2023-04-04T07:07:33.533Z"
      },
      {
        "duration": 200,
        "start_time": "2023-04-04T07:07:51.501Z"
      },
      {
        "duration": 13,
        "start_time": "2023-04-04T07:07:51.703Z"
      },
      {
        "duration": 11,
        "start_time": "2023-04-04T07:16:06.939Z"
      },
      {
        "duration": 6,
        "start_time": "2023-04-04T07:30:11.234Z"
      },
      {
        "duration": 10,
        "start_time": "2023-04-04T07:32:18.124Z"
      },
      {
        "duration": 40,
        "start_time": "2023-04-04T07:32:19.849Z"
      },
      {
        "duration": 25,
        "start_time": "2023-04-04T07:32:26.318Z"
      },
      {
        "duration": 962,
        "start_time": "2023-04-04T07:32:28.867Z"
      },
      {
        "duration": 4,
        "start_time": "2023-04-04T07:32:44.203Z"
      },
      {
        "duration": 4,
        "start_time": "2023-04-04T07:33:51.527Z"
      },
      {
        "duration": 38,
        "start_time": "2023-04-04T07:33:51.533Z"
      },
      {
        "duration": 13,
        "start_time": "2023-04-04T07:33:51.573Z"
      },
      {
        "duration": 14,
        "start_time": "2023-04-04T07:33:51.589Z"
      },
      {
        "duration": 19,
        "start_time": "2023-04-04T07:33:51.605Z"
      },
      {
        "duration": 72,
        "start_time": "2023-04-04T07:33:51.626Z"
      },
      {
        "duration": 8,
        "start_time": "2023-04-04T07:33:51.699Z"
      },
      {
        "duration": 8,
        "start_time": "2023-04-04T07:33:51.708Z"
      },
      {
        "duration": 6,
        "start_time": "2023-04-04T07:33:51.718Z"
      },
      {
        "duration": 11,
        "start_time": "2023-04-04T07:33:51.726Z"
      },
      {
        "duration": 18,
        "start_time": "2023-04-04T07:33:51.739Z"
      },
      {
        "duration": 36,
        "start_time": "2023-04-04T07:33:51.760Z"
      },
      {
        "duration": 11,
        "start_time": "2023-04-04T07:33:51.798Z"
      },
      {
        "duration": 6,
        "start_time": "2023-04-04T07:33:51.811Z"
      },
      {
        "duration": 14,
        "start_time": "2023-04-04T07:33:51.820Z"
      },
      {
        "duration": 16,
        "start_time": "2023-04-04T07:33:51.836Z"
      },
      {
        "duration": 12,
        "start_time": "2023-04-04T07:33:51.853Z"
      },
      {
        "duration": 37,
        "start_time": "2023-04-04T07:33:51.866Z"
      },
      {
        "duration": 13,
        "start_time": "2023-04-04T07:33:51.905Z"
      },
      {
        "duration": 10,
        "start_time": "2023-04-04T07:33:51.920Z"
      },
      {
        "duration": 3,
        "start_time": "2023-04-04T07:33:51.932Z"
      },
      {
        "duration": 10,
        "start_time": "2023-04-04T07:33:51.937Z"
      },
      {
        "duration": 6,
        "start_time": "2023-04-04T07:33:51.949Z"
      },
      {
        "duration": 4,
        "start_time": "2023-04-04T07:33:51.957Z"
      },
      {
        "duration": 4,
        "start_time": "2023-04-04T07:33:51.962Z"
      },
      {
        "duration": 27,
        "start_time": "2023-04-04T07:33:51.968Z"
      },
      {
        "duration": 8,
        "start_time": "2023-04-04T07:33:51.998Z"
      },
      {
        "duration": 10,
        "start_time": "2023-04-04T07:33:52.008Z"
      },
      {
        "duration": 34,
        "start_time": "2023-04-04T07:33:52.020Z"
      },
      {
        "duration": 30,
        "start_time": "2023-04-04T07:33:52.060Z"
      },
      {
        "duration": 12,
        "start_time": "2023-04-04T07:33:52.092Z"
      },
      {
        "duration": 726,
        "start_time": "2023-04-04T07:33:52.107Z"
      },
      {
        "duration": 33688,
        "start_time": "2023-04-04T07:33:52.835Z"
      },
      {
        "duration": 67,
        "start_time": "2023-04-04T07:34:26.525Z"
      },
      {
        "duration": 133,
        "start_time": "2023-04-04T07:34:26.595Z"
      },
      {
        "duration": 875,
        "start_time": "2023-04-04T07:34:26.793Z"
      },
      {
        "duration": 35157,
        "start_time": "2023-04-04T07:34:27.670Z"
      },
      {
        "duration": 4,
        "start_time": "2023-04-04T07:35:02.828Z"
      },
      {
        "duration": 17,
        "start_time": "2023-04-04T07:35:02.833Z"
      },
      {
        "duration": 52,
        "start_time": "2023-04-04T07:35:02.852Z"
      },
      {
        "duration": 1112,
        "start_time": "2023-04-04T07:35:02.906Z"
      },
      {
        "duration": 48133,
        "start_time": "2023-04-04T07:35:04.020Z"
      },
      {
        "duration": 5,
        "start_time": "2023-04-04T07:35:52.155Z"
      },
      {
        "duration": 54,
        "start_time": "2023-04-04T07:35:52.162Z"
      },
      {
        "duration": 24,
        "start_time": "2023-04-04T07:35:52.219Z"
      },
      {
        "duration": 485,
        "start_time": "2023-04-04T07:35:52.244Z"
      },
      {
        "duration": 19875,
        "start_time": "2023-04-04T07:35:52.731Z"
      },
      {
        "duration": 240,
        "start_time": "2023-04-04T07:36:12.608Z"
      },
      {
        "duration": 318,
        "start_time": "2023-04-04T07:44:23.681Z"
      },
      {
        "duration": 4,
        "start_time": "2023-04-04T07:44:57.895Z"
      },
      {
        "duration": 127,
        "start_time": "2023-04-04T07:45:34.363Z"
      },
      {
        "duration": 319,
        "start_time": "2023-04-04T08:14:39.981Z"
      },
      {
        "duration": 281,
        "start_time": "2023-04-04T08:14:56.717Z"
      },
      {
        "duration": 156,
        "start_time": "2023-04-04T08:29:20.234Z"
      },
      {
        "duration": 54,
        "start_time": "2023-04-04T08:30:04.658Z"
      },
      {
        "duration": 144,
        "start_time": "2023-04-04T08:30:13.155Z"
      },
      {
        "duration": 15,
        "start_time": "2023-04-04T08:35:41.516Z"
      },
      {
        "duration": 20,
        "start_time": "2023-04-04T08:35:48.725Z"
      },
      {
        "duration": 463,
        "start_time": "2023-04-04T08:36:07.614Z"
      },
      {
        "duration": 14,
        "start_time": "2023-04-04T08:37:39.857Z"
      },
      {
        "duration": 101,
        "start_time": "2023-04-04T09:03:13.311Z"
      },
      {
        "duration": 128,
        "start_time": "2023-04-04T09:03:30.862Z"
      },
      {
        "duration": 47,
        "start_time": "2023-04-04T09:04:12.633Z"
      },
      {
        "duration": 177,
        "start_time": "2023-04-04T09:07:33.019Z"
      },
      {
        "duration": 105,
        "start_time": "2023-04-04T09:17:20.386Z"
      },
      {
        "duration": 12,
        "start_time": "2023-04-04T09:20:07.940Z"
      },
      {
        "duration": 16,
        "start_time": "2023-04-04T09:20:54.618Z"
      },
      {
        "duration": 6,
        "start_time": "2023-04-04T09:21:22.107Z"
      },
      {
        "duration": 4,
        "start_time": "2023-04-04T09:21:32.359Z"
      },
      {
        "duration": 65,
        "start_time": "2023-04-04T09:21:32.365Z"
      },
      {
        "duration": 14,
        "start_time": "2023-04-04T09:21:32.432Z"
      },
      {
        "duration": 18,
        "start_time": "2023-04-04T09:21:32.448Z"
      },
      {
        "duration": 39,
        "start_time": "2023-04-04T09:21:32.468Z"
      },
      {
        "duration": 45,
        "start_time": "2023-04-04T09:21:32.510Z"
      },
      {
        "duration": 8,
        "start_time": "2023-04-04T09:21:32.557Z"
      },
      {
        "duration": 5,
        "start_time": "2023-04-04T09:21:32.604Z"
      },
      {
        "duration": 16,
        "start_time": "2023-04-04T09:21:32.611Z"
      },
      {
        "duration": 14,
        "start_time": "2023-04-04T09:21:32.629Z"
      },
      {
        "duration": 21,
        "start_time": "2023-04-04T09:21:32.645Z"
      },
      {
        "duration": 28,
        "start_time": "2023-04-04T09:21:32.668Z"
      },
      {
        "duration": 24,
        "start_time": "2023-04-04T09:21:32.698Z"
      },
      {
        "duration": 7,
        "start_time": "2023-04-04T09:21:32.724Z"
      },
      {
        "duration": 24,
        "start_time": "2023-04-04T09:21:32.732Z"
      },
      {
        "duration": 13,
        "start_time": "2023-04-04T09:21:32.758Z"
      },
      {
        "duration": 32,
        "start_time": "2023-04-04T09:21:32.773Z"
      },
      {
        "duration": 14,
        "start_time": "2023-04-04T09:21:32.807Z"
      },
      {
        "duration": 29,
        "start_time": "2023-04-04T09:21:32.823Z"
      },
      {
        "duration": 21,
        "start_time": "2023-04-04T09:21:32.854Z"
      },
      {
        "duration": 26,
        "start_time": "2023-04-04T09:21:32.877Z"
      },
      {
        "duration": 22,
        "start_time": "2023-04-04T09:21:32.904Z"
      },
      {
        "duration": 17,
        "start_time": "2023-04-04T09:21:32.928Z"
      },
      {
        "duration": 34,
        "start_time": "2023-04-04T09:21:32.946Z"
      },
      {
        "duration": 23,
        "start_time": "2023-04-04T09:21:32.982Z"
      },
      {
        "duration": 36,
        "start_time": "2023-04-04T09:21:33.007Z"
      },
      {
        "duration": 22,
        "start_time": "2023-04-04T09:21:33.045Z"
      },
      {
        "duration": 18,
        "start_time": "2023-04-04T09:21:33.070Z"
      },
      {
        "duration": 41,
        "start_time": "2023-04-04T09:21:33.094Z"
      },
      {
        "duration": 12,
        "start_time": "2023-04-04T09:21:33.137Z"
      },
      {
        "duration": 8,
        "start_time": "2023-04-04T09:21:33.150Z"
      },
      {
        "duration": 777,
        "start_time": "2023-04-04T09:21:33.160Z"
      },
      {
        "duration": 37986,
        "start_time": "2023-04-04T09:21:33.939Z"
      },
      {
        "duration": 20,
        "start_time": "2023-04-04T09:22:11.927Z"
      },
      {
        "duration": 151,
        "start_time": "2023-04-04T09:22:11.949Z"
      },
      {
        "duration": 968,
        "start_time": "2023-04-04T09:22:12.105Z"
      },
      {
        "duration": 39135,
        "start_time": "2023-04-04T09:22:13.075Z"
      },
      {
        "duration": 4,
        "start_time": "2023-04-04T09:22:52.212Z"
      },
      {
        "duration": 17,
        "start_time": "2023-04-04T09:22:52.218Z"
      },
      {
        "duration": 70,
        "start_time": "2023-04-04T09:22:52.237Z"
      },
      {
        "duration": 1183,
        "start_time": "2023-04-04T09:22:52.309Z"
      },
      {
        "duration": 41,
        "start_time": "2023-04-04T09:22:53.494Z"
      },
      {
        "duration": 49905,
        "start_time": "2023-04-04T09:22:53.538Z"
      },
      {
        "duration": 5,
        "start_time": "2023-04-04T09:23:43.445Z"
      },
      {
        "duration": 22,
        "start_time": "2023-04-04T09:23:43.452Z"
      },
      {
        "duration": 127,
        "start_time": "2023-04-04T09:23:43.477Z"
      },
      {
        "duration": 456,
        "start_time": "2023-04-04T09:23:43.605Z"
      },
      {
        "duration": 21948,
        "start_time": "2023-04-04T09:23:44.063Z"
      },
      {
        "duration": 231,
        "start_time": "2023-04-04T09:24:06.013Z"
      },
      {
        "duration": 231,
        "start_time": "2023-04-04T09:25:33.341Z"
      },
      {
        "duration": 260,
        "start_time": "2023-04-04T09:25:52.463Z"
      },
      {
        "duration": 5,
        "start_time": "2023-04-04T09:34:26.870Z"
      },
      {
        "duration": 5,
        "start_time": "2023-04-04T09:35:14.423Z"
      },
      {
        "duration": 11,
        "start_time": "2023-04-04T09:35:36.286Z"
      },
      {
        "duration": 13,
        "start_time": "2023-04-04T09:36:08.982Z"
      },
      {
        "duration": 534,
        "start_time": "2023-04-04T09:36:38.779Z"
      },
      {
        "duration": 8,
        "start_time": "2023-04-04T09:36:48.445Z"
      },
      {
        "duration": 185,
        "start_time": "2023-04-04T09:37:38.625Z"
      },
      {
        "duration": 1672,
        "start_time": "2023-04-04T16:45:20.803Z"
      },
      {
        "duration": 171,
        "start_time": "2023-04-04T16:45:22.478Z"
      },
      {
        "duration": 20,
        "start_time": "2023-04-04T16:45:22.652Z"
      },
      {
        "duration": 17,
        "start_time": "2023-04-04T16:45:22.673Z"
      },
      {
        "duration": 19,
        "start_time": "2023-04-04T16:45:22.693Z"
      },
      {
        "duration": 46,
        "start_time": "2023-04-04T16:45:22.714Z"
      },
      {
        "duration": 9,
        "start_time": "2023-04-04T16:45:22.762Z"
      },
      {
        "duration": 8,
        "start_time": "2023-04-04T16:45:22.774Z"
      },
      {
        "duration": 23,
        "start_time": "2023-04-04T16:45:22.784Z"
      },
      {
        "duration": 17,
        "start_time": "2023-04-04T16:45:22.817Z"
      },
      {
        "duration": 28,
        "start_time": "2023-04-04T16:45:22.836Z"
      },
      {
        "duration": 24,
        "start_time": "2023-04-04T16:45:22.866Z"
      },
      {
        "duration": 32,
        "start_time": "2023-04-04T16:45:22.892Z"
      },
      {
        "duration": 11,
        "start_time": "2023-04-04T16:45:22.929Z"
      },
      {
        "duration": 22,
        "start_time": "2023-04-04T16:45:22.942Z"
      },
      {
        "duration": 21,
        "start_time": "2023-04-04T16:45:22.965Z"
      },
      {
        "duration": 27,
        "start_time": "2023-04-04T16:45:22.988Z"
      },
      {
        "duration": 49,
        "start_time": "2023-04-04T16:45:23.016Z"
      },
      {
        "duration": 22,
        "start_time": "2023-04-04T16:45:23.066Z"
      },
      {
        "duration": 27,
        "start_time": "2023-04-04T16:45:23.090Z"
      },
      {
        "duration": 21,
        "start_time": "2023-04-04T16:45:23.120Z"
      },
      {
        "duration": 62,
        "start_time": "2023-04-04T16:45:23.143Z"
      },
      {
        "duration": 29,
        "start_time": "2023-04-04T16:45:23.207Z"
      },
      {
        "duration": 37,
        "start_time": "2023-04-04T16:45:23.239Z"
      },
      {
        "duration": 44,
        "start_time": "2023-04-04T16:45:23.278Z"
      },
      {
        "duration": 42,
        "start_time": "2023-04-04T16:45:23.325Z"
      },
      {
        "duration": 28,
        "start_time": "2023-04-04T16:45:23.369Z"
      },
      {
        "duration": 46,
        "start_time": "2023-04-04T16:45:23.399Z"
      },
      {
        "duration": 34,
        "start_time": "2023-04-04T16:45:23.446Z"
      },
      {
        "duration": 11,
        "start_time": "2023-04-04T16:45:23.482Z"
      },
      {
        "duration": 25,
        "start_time": "2023-04-04T16:45:23.495Z"
      },
      {
        "duration": 762,
        "start_time": "2023-04-04T16:45:23.522Z"
      },
      {
        "duration": 34845,
        "start_time": "2023-04-04T16:45:24.286Z"
      },
      {
        "duration": 86,
        "start_time": "2023-04-04T16:45:59.133Z"
      },
      {
        "duration": 115,
        "start_time": "2023-04-04T16:45:59.221Z"
      },
      {
        "duration": 832,
        "start_time": "2023-04-04T16:45:59.422Z"
      },
      {
        "duration": 35086,
        "start_time": "2023-04-04T16:46:00.256Z"
      },
      {
        "duration": 4,
        "start_time": "2023-04-04T16:46:35.344Z"
      },
      {
        "duration": 15,
        "start_time": "2023-04-04T16:46:35.350Z"
      },
      {
        "duration": 252,
        "start_time": "2023-04-04T16:46:35.367Z"
      },
      {
        "duration": 984,
        "start_time": "2023-04-04T16:46:35.622Z"
      },
      {
        "duration": 51,
        "start_time": "2023-04-04T16:46:36.608Z"
      },
      {
        "duration": 46497,
        "start_time": "2023-04-04T16:46:36.661Z"
      },
      {
        "duration": 4,
        "start_time": "2023-04-04T16:47:23.160Z"
      },
      {
        "duration": 33,
        "start_time": "2023-04-04T16:47:23.166Z"
      },
      {
        "duration": 119,
        "start_time": "2023-04-04T16:47:23.202Z"
      },
      {
        "duration": 449,
        "start_time": "2023-04-04T16:47:23.325Z"
      },
      {
        "duration": 20844,
        "start_time": "2023-04-04T16:47:23.776Z"
      },
      {
        "duration": 220,
        "start_time": "2023-04-04T16:47:44.622Z"
      },
      {
        "duration": 5,
        "start_time": "2023-04-04T16:47:44.844Z"
      },
      {
        "duration": 192,
        "start_time": "2023-04-04T16:47:44.851Z"
      },
      {
        "duration": 1653,
        "start_time": "2023-04-05T06:27:50.022Z"
      },
      {
        "duration": 230,
        "start_time": "2023-04-05T06:27:51.677Z"
      },
      {
        "duration": 19,
        "start_time": "2023-04-05T06:27:51.909Z"
      },
      {
        "duration": 14,
        "start_time": "2023-04-05T06:27:51.929Z"
      },
      {
        "duration": 19,
        "start_time": "2023-04-05T06:27:51.946Z"
      },
      {
        "duration": 47,
        "start_time": "2023-04-05T06:27:51.967Z"
      },
      {
        "duration": 7,
        "start_time": "2023-04-05T06:27:52.016Z"
      },
      {
        "duration": 5,
        "start_time": "2023-04-05T06:27:52.025Z"
      },
      {
        "duration": 14,
        "start_time": "2023-04-05T06:27:52.031Z"
      },
      {
        "duration": 28,
        "start_time": "2023-04-05T06:27:52.047Z"
      },
      {
        "duration": 28,
        "start_time": "2023-04-05T06:27:52.077Z"
      },
      {
        "duration": 7,
        "start_time": "2023-04-05T06:27:52.107Z"
      },
      {
        "duration": 13,
        "start_time": "2023-04-05T06:27:52.116Z"
      },
      {
        "duration": 6,
        "start_time": "2023-04-05T06:27:52.131Z"
      },
      {
        "duration": 27,
        "start_time": "2023-04-05T06:27:52.139Z"
      },
      {
        "duration": 26,
        "start_time": "2023-04-05T06:27:52.168Z"
      },
      {
        "duration": 31,
        "start_time": "2023-04-05T06:27:52.196Z"
      },
      {
        "duration": 28,
        "start_time": "2023-04-05T06:27:52.229Z"
      },
      {
        "duration": 22,
        "start_time": "2023-04-05T06:27:52.259Z"
      },
      {
        "duration": 14,
        "start_time": "2023-04-05T06:27:52.283Z"
      },
      {
        "duration": 25,
        "start_time": "2023-04-05T06:27:52.299Z"
      },
      {
        "duration": 11,
        "start_time": "2023-04-05T06:27:52.326Z"
      },
      {
        "duration": 14,
        "start_time": "2023-04-05T06:27:52.339Z"
      },
      {
        "duration": 15,
        "start_time": "2023-04-05T06:27:52.355Z"
      },
      {
        "duration": 17,
        "start_time": "2023-04-05T06:27:52.372Z"
      },
      {
        "duration": 40,
        "start_time": "2023-04-05T06:27:52.391Z"
      },
      {
        "duration": 16,
        "start_time": "2023-04-05T06:27:52.432Z"
      },
      {
        "duration": 26,
        "start_time": "2023-04-05T06:27:52.450Z"
      },
      {
        "duration": 40,
        "start_time": "2023-04-05T06:27:52.479Z"
      },
      {
        "duration": 17,
        "start_time": "2023-04-05T06:27:52.521Z"
      },
      {
        "duration": 22,
        "start_time": "2023-04-05T06:27:52.539Z"
      },
      {
        "duration": 709,
        "start_time": "2023-04-05T06:27:52.563Z"
      },
      {
        "duration": 33544,
        "start_time": "2023-04-05T06:27:53.273Z"
      },
      {
        "duration": 69,
        "start_time": "2023-04-05T06:28:26.819Z"
      },
      {
        "duration": 200,
        "start_time": "2023-04-05T06:28:26.890Z"
      },
      {
        "duration": 826,
        "start_time": "2023-04-05T06:28:27.092Z"
      },
      {
        "duration": 34126,
        "start_time": "2023-04-05T06:28:27.920Z"
      },
      {
        "duration": 4,
        "start_time": "2023-04-05T06:29:02.048Z"
      },
      {
        "duration": 45,
        "start_time": "2023-04-05T06:29:02.053Z"
      },
      {
        "duration": 95,
        "start_time": "2023-04-05T06:29:02.100Z"
      },
      {
        "duration": 990,
        "start_time": "2023-04-05T06:29:02.293Z"
      },
      {
        "duration": 102,
        "start_time": "2023-04-05T06:29:03.287Z"
      },
      {
        "duration": 44122,
        "start_time": "2023-04-05T06:29:03.391Z"
      },
      {
        "duration": 4,
        "start_time": "2023-04-05T06:29:47.515Z"
      },
      {
        "duration": 26,
        "start_time": "2023-04-05T06:29:47.521Z"
      },
      {
        "duration": 140,
        "start_time": "2023-04-05T06:29:47.549Z"
      },
      {
        "duration": 425,
        "start_time": "2023-04-05T06:29:47.691Z"
      },
      {
        "duration": 19273,
        "start_time": "2023-04-05T06:29:48.118Z"
      },
      {
        "duration": 213,
        "start_time": "2023-04-05T06:30:07.393Z"
      },
      {
        "duration": 3,
        "start_time": "2023-04-05T06:30:07.608Z"
      },
      {
        "duration": 138,
        "start_time": "2023-04-05T06:30:07.613Z"
      },
      {
        "duration": 35,
        "start_time": "2023-04-05T06:33:01.194Z"
      },
      {
        "duration": 63,
        "start_time": "2023-04-05T06:39:49.923Z"
      },
      {
        "duration": 101,
        "start_time": "2023-04-05T06:40:02.687Z"
      },
      {
        "duration": 264,
        "start_time": "2023-04-05T06:44:13.125Z"
      },
      {
        "duration": 810,
        "start_time": "2023-04-05T06:45:21.011Z"
      },
      {
        "duration": 710,
        "start_time": "2023-04-05T06:47:50.113Z"
      },
      {
        "duration": 30730,
        "start_time": "2023-04-05T06:48:32.634Z"
      },
      {
        "duration": 652,
        "start_time": "2023-04-05T06:54:57.703Z"
      },
      {
        "duration": 656,
        "start_time": "2023-04-05T06:55:11.213Z"
      },
      {
        "duration": 39,
        "start_time": "2023-04-05T06:58:00.370Z"
      },
      {
        "duration": 33,
        "start_time": "2023-04-05T06:58:23.174Z"
      },
      {
        "duration": 710,
        "start_time": "2023-04-05T06:58:48.253Z"
      },
      {
        "duration": 667,
        "start_time": "2023-04-05T06:59:08.927Z"
      },
      {
        "duration": 639,
        "start_time": "2023-04-05T06:59:49.463Z"
      },
      {
        "duration": 42,
        "start_time": "2023-04-05T07:00:37.168Z"
      },
      {
        "duration": 5,
        "start_time": "2023-04-05T07:04:30.672Z"
      },
      {
        "duration": 115,
        "start_time": "2023-04-05T07:04:30.680Z"
      },
      {
        "duration": 35,
        "start_time": "2023-04-05T07:04:30.797Z"
      },
      {
        "duration": 56,
        "start_time": "2023-04-05T07:04:30.835Z"
      },
      {
        "duration": 85,
        "start_time": "2023-04-05T07:04:30.894Z"
      },
      {
        "duration": 54,
        "start_time": "2023-04-05T07:04:30.982Z"
      },
      {
        "duration": 9,
        "start_time": "2023-04-05T07:04:31.037Z"
      },
      {
        "duration": 63,
        "start_time": "2023-04-05T07:04:31.047Z"
      },
      {
        "duration": 43,
        "start_time": "2023-04-05T07:04:31.113Z"
      },
      {
        "duration": 74,
        "start_time": "2023-04-05T07:04:31.159Z"
      },
      {
        "duration": 37,
        "start_time": "2023-04-05T07:04:31.236Z"
      },
      {
        "duration": 45,
        "start_time": "2023-04-05T07:04:31.275Z"
      },
      {
        "duration": 58,
        "start_time": "2023-04-05T07:04:31.324Z"
      },
      {
        "duration": 58,
        "start_time": "2023-04-05T07:04:31.384Z"
      },
      {
        "duration": 55,
        "start_time": "2023-04-05T07:04:31.444Z"
      },
      {
        "duration": 75,
        "start_time": "2023-04-05T07:04:31.502Z"
      },
      {
        "duration": 45,
        "start_time": "2023-04-05T07:04:31.579Z"
      },
      {
        "duration": 22,
        "start_time": "2023-04-05T07:04:31.627Z"
      },
      {
        "duration": 45,
        "start_time": "2023-04-05T07:04:31.651Z"
      },
      {
        "duration": 27,
        "start_time": "2023-04-05T07:04:31.698Z"
      },
      {
        "duration": 25,
        "start_time": "2023-04-05T07:04:31.727Z"
      },
      {
        "duration": 21,
        "start_time": "2023-04-05T07:04:31.754Z"
      },
      {
        "duration": 34,
        "start_time": "2023-04-05T07:04:31.777Z"
      },
      {
        "duration": 29,
        "start_time": "2023-04-05T07:04:31.813Z"
      },
      {
        "duration": 32,
        "start_time": "2023-04-05T07:04:31.844Z"
      },
      {
        "duration": 54,
        "start_time": "2023-04-05T07:04:31.878Z"
      },
      {
        "duration": 34,
        "start_time": "2023-04-05T07:04:31.935Z"
      },
      {
        "duration": 32,
        "start_time": "2023-04-05T07:04:31.971Z"
      },
      {
        "duration": 778,
        "start_time": "2023-04-05T07:04:32.005Z"
      },
      {
        "duration": 38357,
        "start_time": "2023-04-05T07:04:32.786Z"
      },
      {
        "duration": 150,
        "start_time": "2023-04-05T07:05:11.145Z"
      },
      {
        "duration": 101,
        "start_time": "2023-04-05T07:05:11.298Z"
      },
      {
        "duration": 1006,
        "start_time": "2023-04-05T07:05:11.401Z"
      },
      {
        "duration": 214,
        "start_time": "2023-04-05T07:05:12.409Z"
      },
      {
        "duration": 42675,
        "start_time": "2023-04-05T07:05:12.626Z"
      },
      {
        "duration": 14,
        "start_time": "2023-04-05T07:05:55.306Z"
      },
      {
        "duration": 21,
        "start_time": "2023-04-05T07:05:55.328Z"
      },
      {
        "duration": 155,
        "start_time": "2023-04-05T07:05:55.353Z"
      },
      {
        "duration": 1410,
        "start_time": "2023-04-05T07:05:55.514Z"
      },
      {
        "duration": 160,
        "start_time": "2023-04-05T07:05:56.927Z"
      },
      {
        "duration": 61975,
        "start_time": "2023-04-05T07:05:57.094Z"
      },
      {
        "duration": 6,
        "start_time": "2023-04-05T07:06:59.075Z"
      },
      {
        "duration": 57,
        "start_time": "2023-04-05T07:06:59.083Z"
      },
      {
        "duration": 84,
        "start_time": "2023-04-05T07:06:59.142Z"
      },
      {
        "duration": 602,
        "start_time": "2023-04-05T07:06:59.242Z"
      },
      {
        "duration": 29471,
        "start_time": "2023-04-05T07:06:59.847Z"
      },
      {
        "duration": 327,
        "start_time": "2023-04-05T07:07:29.325Z"
      },
      {
        "duration": 10,
        "start_time": "2023-04-05T07:07:29.659Z"
      },
      {
        "duration": 203,
        "start_time": "2023-04-05T07:07:29.677Z"
      },
      {
        "duration": 304,
        "start_time": "2023-04-05T07:09:03.883Z"
      },
      {
        "duration": 338,
        "start_time": "2023-04-05T07:09:20.750Z"
      },
      {
        "duration": 1408,
        "start_time": "2023-04-05T07:12:04.383Z"
      },
      {
        "duration": 56444,
        "start_time": "2023-04-05T07:12:27.061Z"
      },
      {
        "duration": 311,
        "start_time": "2023-04-05T07:14:37.636Z"
      },
      {
        "duration": 261,
        "start_time": "2023-04-05T07:14:44.856Z"
      },
      {
        "duration": 281,
        "start_time": "2023-04-05T07:15:01.114Z"
      },
      {
        "duration": 1344,
        "start_time": "2023-04-05T07:15:06.979Z"
      },
      {
        "duration": 1301,
        "start_time": "2023-04-05T07:16:21.368Z"
      },
      {
        "duration": 51819,
        "start_time": "2023-04-05T07:18:24.462Z"
      },
      {
        "duration": 260,
        "start_time": "2023-04-05T07:24:27.550Z"
      },
      {
        "duration": 80,
        "start_time": "2023-04-05T07:24:37.676Z"
      },
      {
        "duration": 175,
        "start_time": "2023-04-05T07:24:51.805Z"
      },
      {
        "duration": 1625,
        "start_time": "2023-04-05T07:26:26.373Z"
      },
      {
        "duration": 1450,
        "start_time": "2023-04-05T07:26:42.129Z"
      },
      {
        "duration": 68,
        "start_time": "2023-04-05T07:29:17.063Z"
      },
      {
        "duration": 80,
        "start_time": "2023-04-05T07:29:33.980Z"
      },
      {
        "duration": 1372,
        "start_time": "2023-04-05T07:30:55.379Z"
      },
      {
        "duration": 84924,
        "start_time": "2023-04-05T07:34:47.370Z"
      },
      {
        "duration": 65846,
        "start_time": "2023-04-05T07:36:26.791Z"
      },
      {
        "duration": 60020,
        "start_time": "2023-04-05T07:38:19.526Z"
      },
      {
        "duration": 46368,
        "start_time": "2023-04-05T07:39:39.619Z"
      },
      {
        "duration": 307,
        "start_time": "2023-04-05T07:41:42.449Z"
      },
      {
        "duration": 358,
        "start_time": "2023-04-05T07:41:53.485Z"
      },
      {
        "duration": 252,
        "start_time": "2023-04-05T07:43:52.840Z"
      },
      {
        "duration": 53066,
        "start_time": "2023-04-05T07:44:59.248Z"
      },
      {
        "duration": 236,
        "start_time": "2023-04-05T07:47:33.982Z"
      },
      {
        "duration": 113,
        "start_time": "2023-04-05T07:47:45.022Z"
      },
      {
        "duration": 21,
        "start_time": "2023-04-05T07:48:39.146Z"
      },
      {
        "duration": 567,
        "start_time": "2023-04-05T07:48:51.728Z"
      },
      {
        "duration": 751,
        "start_time": "2023-04-05T07:50:31.931Z"
      },
      {
        "duration": 32787,
        "start_time": "2023-04-05T07:51:52.756Z"
      },
      {
        "duration": 127,
        "start_time": "2023-04-05T07:53:04.486Z"
      },
      {
        "duration": 592,
        "start_time": "2023-04-05T07:53:19.158Z"
      },
      {
        "duration": 34826,
        "start_time": "2023-04-05T07:53:57.995Z"
      },
      {
        "duration": 31462,
        "start_time": "2023-04-05T07:55:15.112Z"
      },
      {
        "duration": 28355,
        "start_time": "2023-04-05T07:58:38.314Z"
      },
      {
        "duration": 1751,
        "start_time": "2023-04-05T08:08:10.853Z"
      },
      {
        "duration": 71,
        "start_time": "2023-04-05T08:08:12.607Z"
      },
      {
        "duration": 34,
        "start_time": "2023-04-05T08:08:12.680Z"
      },
      {
        "duration": 47,
        "start_time": "2023-04-05T08:08:12.716Z"
      },
      {
        "duration": 34,
        "start_time": "2023-04-05T08:08:12.766Z"
      },
      {
        "duration": 70,
        "start_time": "2023-04-05T08:08:12.802Z"
      },
      {
        "duration": 20,
        "start_time": "2023-04-05T08:08:12.874Z"
      },
      {
        "duration": 74,
        "start_time": "2023-04-05T08:08:12.896Z"
      },
      {
        "duration": 87,
        "start_time": "2023-04-05T08:08:12.971Z"
      },
      {
        "duration": 63,
        "start_time": "2023-04-05T08:08:13.060Z"
      },
      {
        "duration": 41,
        "start_time": "2023-04-05T08:08:13.127Z"
      },
      {
        "duration": 23,
        "start_time": "2023-04-05T08:08:13.171Z"
      },
      {
        "duration": 57,
        "start_time": "2023-04-05T08:08:13.196Z"
      },
      {
        "duration": 14,
        "start_time": "2023-04-05T08:08:13.257Z"
      },
      {
        "duration": 28,
        "start_time": "2023-04-05T08:08:13.273Z"
      },
      {
        "duration": 51,
        "start_time": "2023-04-05T08:08:13.306Z"
      },
      {
        "duration": 10,
        "start_time": "2023-04-05T08:08:13.360Z"
      },
      {
        "duration": 4,
        "start_time": "2023-04-05T08:08:13.372Z"
      },
      {
        "duration": 13,
        "start_time": "2023-04-05T08:08:13.378Z"
      },
      {
        "duration": 65,
        "start_time": "2023-04-05T08:08:13.394Z"
      },
      {
        "duration": 21,
        "start_time": "2023-04-05T08:08:13.462Z"
      },
      {
        "duration": 57,
        "start_time": "2023-04-05T08:08:13.486Z"
      },
      {
        "duration": 23,
        "start_time": "2023-04-05T08:08:13.546Z"
      },
      {
        "duration": 12,
        "start_time": "2023-04-05T08:08:13.571Z"
      },
      {
        "duration": 69,
        "start_time": "2023-04-05T08:08:13.585Z"
      },
      {
        "duration": 41,
        "start_time": "2023-04-05T08:08:13.655Z"
      },
      {
        "duration": 15,
        "start_time": "2023-04-05T08:08:13.699Z"
      },
      {
        "duration": 54,
        "start_time": "2023-04-05T08:08:13.716Z"
      },
      {
        "duration": 1004,
        "start_time": "2023-04-05T08:08:13.772Z"
      },
      {
        "duration": 44076,
        "start_time": "2023-04-05T08:08:14.779Z"
      },
      {
        "duration": 161,
        "start_time": "2023-04-05T08:08:58.861Z"
      },
      {
        "duration": 211,
        "start_time": "2023-04-05T08:08:59.029Z"
      },
      {
        "duration": 1172,
        "start_time": "2023-04-05T08:08:59.242Z"
      },
      {
        "duration": 44036,
        "start_time": "2023-04-05T08:09:00.428Z"
      },
      {
        "duration": 5,
        "start_time": "2023-04-05T08:09:44.472Z"
      },
      {
        "duration": 92,
        "start_time": "2023-04-05T08:09:44.493Z"
      },
      {
        "duration": 300,
        "start_time": "2023-04-05T08:09:44.589Z"
      },
      {
        "duration": 1743,
        "start_time": "2023-04-05T08:09:44.921Z"
      },
      {
        "duration": 63437,
        "start_time": "2023-04-05T08:09:46.671Z"
      },
      {
        "duration": 6,
        "start_time": "2023-04-05T08:10:50.117Z"
      },
      {
        "duration": 41,
        "start_time": "2023-04-05T08:10:50.140Z"
      },
      {
        "duration": 145,
        "start_time": "2023-04-05T08:10:50.184Z"
      },
      {
        "duration": 651,
        "start_time": "2023-04-05T08:10:50.353Z"
      },
      {
        "duration": 22824,
        "start_time": "2023-04-05T08:10:51.011Z"
      },
      {
        "duration": 218,
        "start_time": "2023-04-05T08:11:13.837Z"
      },
      {
        "duration": 4,
        "start_time": "2023-04-05T08:11:14.057Z"
      },
      {
        "duration": 196,
        "start_time": "2023-04-05T08:11:14.063Z"
      },
      {
        "duration": 61,
        "start_time": "2023-04-06T06:43:29.815Z"
      },
      {
        "duration": 1611,
        "start_time": "2023-04-06T06:59:09.403Z"
      },
      {
        "duration": 93,
        "start_time": "2023-04-06T06:59:11.016Z"
      },
      {
        "duration": 25,
        "start_time": "2023-04-06T06:59:11.111Z"
      },
      {
        "duration": 25,
        "start_time": "2023-04-06T06:59:11.139Z"
      },
      {
        "duration": 29,
        "start_time": "2023-04-06T06:59:11.166Z"
      },
      {
        "duration": 60,
        "start_time": "2023-04-06T06:59:11.197Z"
      },
      {
        "duration": 7,
        "start_time": "2023-04-06T06:59:11.259Z"
      },
      {
        "duration": 16,
        "start_time": "2023-04-06T06:59:11.268Z"
      },
      {
        "duration": 18,
        "start_time": "2023-04-06T06:59:11.286Z"
      },
      {
        "duration": 50,
        "start_time": "2023-04-06T06:59:11.307Z"
      },
      {
        "duration": 7,
        "start_time": "2023-04-06T06:59:11.359Z"
      },
      {
        "duration": 21,
        "start_time": "2023-04-06T06:59:11.368Z"
      },
      {
        "duration": 5,
        "start_time": "2023-04-06T06:59:11.390Z"
      },
      {
        "duration": 10,
        "start_time": "2023-04-06T06:59:11.397Z"
      },
      {
        "duration": 31,
        "start_time": "2023-04-06T06:59:11.410Z"
      },
      {
        "duration": 8,
        "start_time": "2023-04-06T06:59:11.444Z"
      },
      {
        "duration": 12,
        "start_time": "2023-04-06T06:59:11.453Z"
      },
      {
        "duration": 4,
        "start_time": "2023-04-06T06:59:11.467Z"
      },
      {
        "duration": 6,
        "start_time": "2023-04-06T06:59:11.473Z"
      },
      {
        "duration": 8,
        "start_time": "2023-04-06T06:59:11.481Z"
      },
      {
        "duration": 3,
        "start_time": "2023-04-06T06:59:11.491Z"
      },
      {
        "duration": 4,
        "start_time": "2023-04-06T06:59:11.497Z"
      },
      {
        "duration": 38,
        "start_time": "2023-04-06T06:59:11.503Z"
      },
      {
        "duration": 15,
        "start_time": "2023-04-06T06:59:11.545Z"
      },
      {
        "duration": 12,
        "start_time": "2023-04-06T06:59:11.565Z"
      },
      {
        "duration": 33,
        "start_time": "2023-04-06T06:59:11.579Z"
      },
      {
        "duration": 15,
        "start_time": "2023-04-06T06:59:11.614Z"
      },
      {
        "duration": 12,
        "start_time": "2023-04-06T06:59:11.643Z"
      },
      {
        "duration": 749,
        "start_time": "2023-04-06T06:59:11.657Z"
      },
      {
        "duration": 35600,
        "start_time": "2023-04-06T06:59:12.408Z"
      },
      {
        "duration": 44,
        "start_time": "2023-04-06T06:59:48.010Z"
      },
      {
        "duration": 186,
        "start_time": "2023-04-06T06:59:48.056Z"
      },
      {
        "duration": 883,
        "start_time": "2023-04-06T06:59:48.244Z"
      },
      {
        "duration": 32339,
        "start_time": "2023-04-06T06:59:49.129Z"
      },
      {
        "duration": 5,
        "start_time": "2023-04-06T07:00:21.470Z"
      },
      {
        "duration": 26,
        "start_time": "2023-04-06T07:00:21.477Z"
      },
      {
        "duration": 62,
        "start_time": "2023-04-06T07:00:21.505Z"
      },
      {
        "duration": 1196,
        "start_time": "2023-04-06T07:00:21.570Z"
      },
      {
        "duration": 42349,
        "start_time": "2023-04-06T07:00:22.769Z"
      },
      {
        "duration": 5,
        "start_time": "2023-04-06T07:01:05.120Z"
      },
      {
        "duration": 34,
        "start_time": "2023-04-06T07:01:05.127Z"
      },
      {
        "duration": 99,
        "start_time": "2023-04-06T07:01:05.163Z"
      },
      {
        "duration": 480,
        "start_time": "2023-04-06T07:01:05.267Z"
      },
      {
        "duration": 19232,
        "start_time": "2023-04-06T07:01:05.749Z"
      },
      {
        "duration": 295,
        "start_time": "2023-04-06T07:01:24.983Z"
      },
      {
        "duration": 6,
        "start_time": "2023-04-06T07:01:25.280Z"
      },
      {
        "duration": 200,
        "start_time": "2023-04-06T07:01:25.288Z"
      },
      {
        "duration": 21,
        "start_time": "2023-04-06T07:05:47.257Z"
      },
      {
        "duration": 192,
        "start_time": "2023-04-06T07:22:45.126Z"
      },
      {
        "duration": 194,
        "start_time": "2023-04-06T07:23:37.135Z"
      },
      {
        "duration": 207,
        "start_time": "2023-04-06T07:24:52.597Z"
      },
      {
        "duration": 5,
        "start_time": "2023-04-06T07:26:11.157Z"
      },
      {
        "duration": 54,
        "start_time": "2023-04-06T07:26:11.177Z"
      },
      {
        "duration": 20,
        "start_time": "2023-04-06T07:26:11.233Z"
      },
      {
        "duration": 18,
        "start_time": "2023-04-06T07:26:11.255Z"
      },
      {
        "duration": 28,
        "start_time": "2023-04-06T07:26:11.275Z"
      },
      {
        "duration": 83,
        "start_time": "2023-04-06T07:26:11.305Z"
      },
      {
        "duration": 14,
        "start_time": "2023-04-06T07:26:11.390Z"
      },
      {
        "duration": 16,
        "start_time": "2023-04-06T07:26:11.406Z"
      },
      {
        "duration": 27,
        "start_time": "2023-04-06T07:26:11.424Z"
      },
      {
        "duration": 26,
        "start_time": "2023-04-06T07:26:11.453Z"
      },
      {
        "duration": 9,
        "start_time": "2023-04-06T07:26:11.482Z"
      },
      {
        "duration": 14,
        "start_time": "2023-04-06T07:26:11.493Z"
      },
      {
        "duration": 4,
        "start_time": "2023-04-06T07:26:11.510Z"
      },
      {
        "duration": 25,
        "start_time": "2023-04-06T07:26:11.540Z"
      },
      {
        "duration": 20,
        "start_time": "2023-04-06T07:26:11.567Z"
      },
      {
        "duration": 17,
        "start_time": "2023-04-06T07:26:11.589Z"
      },
      {
        "duration": 11,
        "start_time": "2023-04-06T07:26:11.611Z"
      },
      {
        "duration": 4,
        "start_time": "2023-04-06T07:26:11.625Z"
      },
      {
        "duration": 5,
        "start_time": "2023-04-06T07:26:11.631Z"
      },
      {
        "duration": 24,
        "start_time": "2023-04-06T07:26:11.654Z"
      },
      {
        "duration": 11,
        "start_time": "2023-04-06T07:26:11.683Z"
      },
      {
        "duration": 5,
        "start_time": "2023-04-06T07:26:11.696Z"
      },
      {
        "duration": 6,
        "start_time": "2023-04-06T07:26:11.703Z"
      },
      {
        "duration": 15,
        "start_time": "2023-04-06T07:26:11.710Z"
      },
      {
        "duration": 25,
        "start_time": "2023-04-06T07:26:11.727Z"
      },
      {
        "duration": 45,
        "start_time": "2023-04-06T07:26:11.765Z"
      },
      {
        "duration": 13,
        "start_time": "2023-04-06T07:26:11.812Z"
      },
      {
        "duration": 8,
        "start_time": "2023-04-06T07:26:11.827Z"
      },
      {
        "duration": 865,
        "start_time": "2023-04-06T07:26:11.838Z"
      },
      {
        "duration": 43070,
        "start_time": "2023-04-06T07:26:12.704Z"
      },
      {
        "duration": 163,
        "start_time": "2023-04-06T07:26:55.783Z"
      },
      {
        "duration": 51,
        "start_time": "2023-04-06T07:26:55.955Z"
      },
      {
        "duration": 942,
        "start_time": "2023-04-06T07:26:56.046Z"
      },
      {
        "duration": 37686,
        "start_time": "2023-04-06T07:26:56.992Z"
      },
      {
        "duration": 9,
        "start_time": "2023-04-06T07:27:34.686Z"
      },
      {
        "duration": 18,
        "start_time": "2023-04-06T07:27:34.699Z"
      },
      {
        "duration": 68,
        "start_time": "2023-04-06T07:27:34.720Z"
      },
      {
        "duration": 1262,
        "start_time": "2023-04-06T07:27:34.794Z"
      },
      {
        "duration": 50167,
        "start_time": "2023-04-06T07:27:36.058Z"
      },
      {
        "duration": 4,
        "start_time": "2023-04-06T07:28:26.227Z"
      },
      {
        "duration": 31,
        "start_time": "2023-04-06T07:28:26.257Z"
      },
      {
        "duration": 105,
        "start_time": "2023-04-06T07:28:26.294Z"
      },
      {
        "duration": 381,
        "start_time": "2023-04-06T07:28:26.445Z"
      },
      {
        "duration": 21909,
        "start_time": "2023-04-06T07:28:26.828Z"
      },
      {
        "duration": 227,
        "start_time": "2023-04-06T07:28:48.757Z"
      },
      {
        "duration": 239,
        "start_time": "2023-04-06T07:28:48.986Z"
      },
      {
        "duration": 7,
        "start_time": "2023-04-06T07:28:49.227Z"
      },
      {
        "duration": 199,
        "start_time": "2023-04-06T07:28:49.246Z"
      },
      {
        "duration": 1912,
        "start_time": "2023-04-06T07:47:58.156Z"
      },
      {
        "duration": 57,
        "start_time": "2023-04-06T07:48:00.080Z"
      },
      {
        "duration": 28,
        "start_time": "2023-04-06T07:48:00.139Z"
      },
      {
        "duration": 58,
        "start_time": "2023-04-06T07:48:00.171Z"
      },
      {
        "duration": 55,
        "start_time": "2023-04-06T07:48:00.231Z"
      },
      {
        "duration": 49,
        "start_time": "2023-04-06T07:48:00.288Z"
      },
      {
        "duration": 20,
        "start_time": "2023-04-06T07:48:00.339Z"
      },
      {
        "duration": 15,
        "start_time": "2023-04-06T07:48:00.361Z"
      },
      {
        "duration": 41,
        "start_time": "2023-04-06T07:48:00.377Z"
      },
      {
        "duration": 57,
        "start_time": "2023-04-06T07:48:00.422Z"
      },
      {
        "duration": 10,
        "start_time": "2023-04-06T07:48:00.486Z"
      },
      {
        "duration": 55,
        "start_time": "2023-04-06T07:48:00.498Z"
      },
      {
        "duration": 23,
        "start_time": "2023-04-06T07:48:00.555Z"
      },
      {
        "duration": 22,
        "start_time": "2023-04-06T07:48:00.581Z"
      },
      {
        "duration": 58,
        "start_time": "2023-04-06T07:48:00.606Z"
      },
      {
        "duration": 16,
        "start_time": "2023-04-06T07:48:00.673Z"
      },
      {
        "duration": 21,
        "start_time": "2023-04-06T07:48:00.692Z"
      },
      {
        "duration": 13,
        "start_time": "2023-04-06T07:48:00.716Z"
      },
      {
        "duration": 53,
        "start_time": "2023-04-06T07:48:00.731Z"
      },
      {
        "duration": 16,
        "start_time": "2023-04-06T07:48:00.787Z"
      },
      {
        "duration": 24,
        "start_time": "2023-04-06T07:48:00.806Z"
      },
      {
        "duration": 53,
        "start_time": "2023-04-06T07:48:00.832Z"
      },
      {
        "duration": 26,
        "start_time": "2023-04-06T07:48:00.887Z"
      },
      {
        "duration": 65,
        "start_time": "2023-04-06T07:48:00.916Z"
      },
      {
        "duration": 37,
        "start_time": "2023-04-06T07:48:00.984Z"
      },
      {
        "duration": 73,
        "start_time": "2023-04-06T07:48:01.023Z"
      },
      {
        "duration": 14,
        "start_time": "2023-04-06T07:48:01.098Z"
      },
      {
        "duration": 56,
        "start_time": "2023-04-06T07:48:01.116Z"
      },
      {
        "duration": 811,
        "start_time": "2023-04-06T07:48:01.181Z"
      },
      {
        "duration": 40604,
        "start_time": "2023-04-06T07:48:01.996Z"
      },
      {
        "duration": 152,
        "start_time": "2023-04-06T07:48:42.602Z"
      },
      {
        "duration": 111,
        "start_time": "2023-04-06T07:48:42.757Z"
      },
      {
        "duration": 961,
        "start_time": "2023-04-06T07:48:42.877Z"
      },
      {
        "duration": 35958,
        "start_time": "2023-04-06T07:48:43.839Z"
      },
      {
        "duration": 7,
        "start_time": "2023-04-06T07:49:19.804Z"
      },
      {
        "duration": 18,
        "start_time": "2023-04-06T07:49:19.813Z"
      },
      {
        "duration": 141,
        "start_time": "2023-04-06T07:49:19.833Z"
      },
      {
        "duration": 1291,
        "start_time": "2023-04-06T07:49:19.977Z"
      },
      {
        "duration": 49566,
        "start_time": "2023-04-06T07:49:21.274Z"
      },
      {
        "duration": 17,
        "start_time": "2023-04-06T07:50:10.848Z"
      },
      {
        "duration": 18,
        "start_time": "2023-04-06T07:50:10.877Z"
      },
      {
        "duration": 168,
        "start_time": "2023-04-06T07:50:10.897Z"
      },
      {
        "duration": 428,
        "start_time": "2023-04-06T07:50:11.090Z"
      },
      {
        "duration": 22669,
        "start_time": "2023-04-06T07:50:11.521Z"
      },
      {
        "duration": 217,
        "start_time": "2023-04-06T07:50:34.194Z"
      },
      {
        "duration": 1826,
        "start_time": "2023-04-06T07:52:34.908Z"
      },
      {
        "duration": 69,
        "start_time": "2023-04-06T07:52:36.736Z"
      },
      {
        "duration": 19,
        "start_time": "2023-04-06T07:52:36.807Z"
      },
      {
        "duration": 18,
        "start_time": "2023-04-06T07:52:36.829Z"
      },
      {
        "duration": 26,
        "start_time": "2023-04-06T07:52:36.849Z"
      },
      {
        "duration": 46,
        "start_time": "2023-04-06T07:52:36.877Z"
      },
      {
        "duration": 43,
        "start_time": "2023-04-06T07:52:36.925Z"
      },
      {
        "duration": 6,
        "start_time": "2023-04-06T07:52:36.971Z"
      },
      {
        "duration": 34,
        "start_time": "2023-04-06T07:52:36.979Z"
      },
      {
        "duration": 43,
        "start_time": "2023-04-06T07:52:37.015Z"
      },
      {
        "duration": 20,
        "start_time": "2023-04-06T07:52:37.060Z"
      },
      {
        "duration": 15,
        "start_time": "2023-04-06T07:52:37.084Z"
      },
      {
        "duration": 6,
        "start_time": "2023-04-06T07:52:37.102Z"
      },
      {
        "duration": 14,
        "start_time": "2023-04-06T07:52:37.113Z"
      },
      {
        "duration": 34,
        "start_time": "2023-04-06T07:52:37.130Z"
      },
      {
        "duration": 14,
        "start_time": "2023-04-06T07:52:37.177Z"
      },
      {
        "duration": 12,
        "start_time": "2023-04-06T07:52:37.195Z"
      },
      {
        "duration": 5,
        "start_time": "2023-04-06T07:52:37.209Z"
      },
      {
        "duration": 4,
        "start_time": "2023-04-06T07:52:37.216Z"
      },
      {
        "duration": 10,
        "start_time": "2023-04-06T07:52:37.223Z"
      },
      {
        "duration": 28,
        "start_time": "2023-04-06T07:52:37.235Z"
      },
      {
        "duration": 4,
        "start_time": "2023-04-06T07:52:37.265Z"
      },
      {
        "duration": 12,
        "start_time": "2023-04-06T07:52:37.273Z"
      },
      {
        "duration": 13,
        "start_time": "2023-04-06T07:52:37.289Z"
      },
      {
        "duration": 14,
        "start_time": "2023-04-06T07:52:37.305Z"
      },
      {
        "duration": 39,
        "start_time": "2023-04-06T07:52:37.321Z"
      },
      {
        "duration": 19,
        "start_time": "2023-04-06T07:52:37.362Z"
      },
      {
        "duration": 12,
        "start_time": "2023-04-06T07:52:37.386Z"
      },
      {
        "duration": 905,
        "start_time": "2023-04-06T07:52:37.400Z"
      },
      {
        "duration": 46967,
        "start_time": "2023-04-06T07:52:38.308Z"
      },
      {
        "duration": 76,
        "start_time": "2023-04-06T07:53:25.278Z"
      },
      {
        "duration": 163,
        "start_time": "2023-04-06T07:53:25.356Z"
      },
      {
        "duration": 1055,
        "start_time": "2023-04-06T07:53:25.521Z"
      },
      {
        "duration": 43356,
        "start_time": "2023-04-06T07:53:26.582Z"
      },
      {
        "duration": 16,
        "start_time": "2023-04-06T07:54:09.940Z"
      },
      {
        "duration": 20,
        "start_time": "2023-04-06T07:54:09.962Z"
      },
      {
        "duration": 194,
        "start_time": "2023-04-06T07:54:09.989Z"
      },
      {
        "duration": 1138,
        "start_time": "2023-04-06T07:54:10.189Z"
      },
      {
        "duration": 56188,
        "start_time": "2023-04-06T07:54:11.332Z"
      },
      {
        "duration": 5,
        "start_time": "2023-04-06T07:55:07.522Z"
      },
      {
        "duration": 36,
        "start_time": "2023-04-06T07:55:07.532Z"
      },
      {
        "duration": 256,
        "start_time": "2023-04-06T07:55:07.570Z"
      },
      {
        "duration": 462,
        "start_time": "2023-04-06T07:55:07.866Z"
      },
      {
        "duration": 25396,
        "start_time": "2023-04-06T07:55:08.331Z"
      },
      {
        "duration": 343,
        "start_time": "2023-04-06T07:55:33.738Z"
      },
      {
        "duration": 1519,
        "start_time": "2023-04-07T06:48:55.104Z"
      },
      {
        "duration": 65,
        "start_time": "2023-04-07T06:48:56.626Z"
      },
      {
        "duration": 22,
        "start_time": "2023-04-07T06:48:56.694Z"
      },
      {
        "duration": 18,
        "start_time": "2023-04-07T06:48:56.719Z"
      },
      {
        "duration": 39,
        "start_time": "2023-04-07T06:48:56.739Z"
      },
      {
        "duration": 46,
        "start_time": "2023-04-07T06:48:56.780Z"
      },
      {
        "duration": 29,
        "start_time": "2023-04-07T06:48:56.828Z"
      },
      {
        "duration": 9,
        "start_time": "2023-04-07T06:48:56.860Z"
      },
      {
        "duration": 18,
        "start_time": "2023-04-07T06:48:56.871Z"
      },
      {
        "duration": 21,
        "start_time": "2023-04-07T06:48:56.892Z"
      },
      {
        "duration": 27,
        "start_time": "2023-04-07T06:48:56.915Z"
      },
      {
        "duration": 21,
        "start_time": "2023-04-07T06:48:56.950Z"
      },
      {
        "duration": 5,
        "start_time": "2023-04-07T06:48:56.973Z"
      },
      {
        "duration": 17,
        "start_time": "2023-04-07T06:48:56.979Z"
      },
      {
        "duration": 14,
        "start_time": "2023-04-07T06:48:56.998Z"
      },
      {
        "duration": 28,
        "start_time": "2023-04-07T06:48:57.014Z"
      },
      {
        "duration": 16,
        "start_time": "2023-04-07T06:48:57.046Z"
      },
      {
        "duration": 8,
        "start_time": "2023-04-07T06:48:57.064Z"
      },
      {
        "duration": 7,
        "start_time": "2023-04-07T06:48:57.074Z"
      },
      {
        "duration": 14,
        "start_time": "2023-04-07T06:48:57.083Z"
      },
      {
        "duration": 4,
        "start_time": "2023-04-07T06:48:57.099Z"
      },
      {
        "duration": 9,
        "start_time": "2023-04-07T06:48:57.104Z"
      },
      {
        "duration": 5,
        "start_time": "2023-04-07T06:48:57.115Z"
      },
      {
        "duration": 7,
        "start_time": "2023-04-07T06:48:57.145Z"
      },
      {
        "duration": 14,
        "start_time": "2023-04-07T06:48:57.155Z"
      },
      {
        "duration": 30,
        "start_time": "2023-04-07T06:48:57.171Z"
      },
      {
        "duration": 15,
        "start_time": "2023-04-07T06:48:57.204Z"
      },
      {
        "duration": 44,
        "start_time": "2023-04-07T06:48:57.223Z"
      },
      {
        "duration": 897,
        "start_time": "2023-04-07T06:48:57.269Z"
      },
      {
        "duration": 45196,
        "start_time": "2023-04-07T06:48:58.169Z"
      },
      {
        "duration": 85,
        "start_time": "2023-04-07T06:49:43.368Z"
      },
      {
        "duration": 181,
        "start_time": "2023-04-07T06:49:43.470Z"
      },
      {
        "duration": 1050,
        "start_time": "2023-04-07T06:49:43.653Z"
      },
      {
        "duration": 40203,
        "start_time": "2023-04-07T06:49:44.705Z"
      },
      {
        "duration": 4,
        "start_time": "2023-04-07T06:50:24.910Z"
      },
      {
        "duration": 27,
        "start_time": "2023-04-07T06:50:24.915Z"
      },
      {
        "duration": 99,
        "start_time": "2023-04-07T06:50:24.947Z"
      },
      {
        "duration": 1181,
        "start_time": "2023-04-07T06:50:25.048Z"
      },
      {
        "duration": 51496,
        "start_time": "2023-04-07T06:50:26.231Z"
      },
      {
        "duration": 5,
        "start_time": "2023-04-07T06:51:17.729Z"
      },
      {
        "duration": 41,
        "start_time": "2023-04-07T06:51:17.747Z"
      },
      {
        "duration": 60,
        "start_time": "2023-04-07T06:51:17.790Z"
      },
      {
        "duration": 489,
        "start_time": "2023-04-07T06:51:17.865Z"
      },
      {
        "duration": 23584,
        "start_time": "2023-04-07T06:51:18.362Z"
      },
      {
        "duration": 237,
        "start_time": "2023-04-07T06:51:41.958Z"
      },
      {
        "duration": 1993,
        "start_time": "2023-04-08T06:55:14.546Z"
      },
      {
        "duration": 186,
        "start_time": "2023-04-08T06:55:17.744Z"
      },
      {
        "duration": 19,
        "start_time": "2023-04-08T06:55:20.568Z"
      },
      {
        "duration": 21,
        "start_time": "2023-04-08T06:55:24.412Z"
      },
      {
        "duration": 6,
        "start_time": "2023-04-08T06:56:00.028Z"
      },
      {
        "duration": 111,
        "start_time": "2023-04-08T06:56:00.037Z"
      },
      {
        "duration": 47,
        "start_time": "2023-04-08T06:56:00.150Z"
      },
      {
        "duration": 73,
        "start_time": "2023-04-08T06:56:00.199Z"
      },
      {
        "duration": 56,
        "start_time": "2023-04-08T06:56:00.274Z"
      },
      {
        "duration": 113,
        "start_time": "2023-04-08T06:56:00.332Z"
      },
      {
        "duration": 28,
        "start_time": "2023-04-08T06:56:00.447Z"
      },
      {
        "duration": 59,
        "start_time": "2023-04-08T06:56:00.477Z"
      },
      {
        "duration": 80,
        "start_time": "2023-04-08T06:56:00.540Z"
      },
      {
        "duration": 69,
        "start_time": "2023-04-08T06:56:00.621Z"
      },
      {
        "duration": 76,
        "start_time": "2023-04-08T06:56:00.692Z"
      },
      {
        "duration": 91,
        "start_time": "2023-04-08T06:56:00.770Z"
      },
      {
        "duration": 65,
        "start_time": "2023-04-08T06:56:00.864Z"
      },
      {
        "duration": 150,
        "start_time": "2023-04-08T06:56:00.931Z"
      },
      {
        "duration": 0,
        "start_time": "2023-04-08T06:56:01.084Z"
      },
      {
        "duration": 0,
        "start_time": "2023-04-08T06:56:01.087Z"
      },
      {
        "duration": 0,
        "start_time": "2023-04-08T06:56:01.088Z"
      },
      {
        "duration": 0,
        "start_time": "2023-04-08T06:56:01.090Z"
      },
      {
        "duration": 0,
        "start_time": "2023-04-08T06:56:01.092Z"
      },
      {
        "duration": 0,
        "start_time": "2023-04-08T06:56:01.092Z"
      },
      {
        "duration": 0,
        "start_time": "2023-04-08T06:56:01.094Z"
      },
      {
        "duration": 0,
        "start_time": "2023-04-08T06:56:01.095Z"
      },
      {
        "duration": 0,
        "start_time": "2023-04-08T06:56:01.096Z"
      },
      {
        "duration": 0,
        "start_time": "2023-04-08T06:56:01.097Z"
      },
      {
        "duration": 0,
        "start_time": "2023-04-08T06:56:01.098Z"
      },
      {
        "duration": 0,
        "start_time": "2023-04-08T06:56:01.099Z"
      },
      {
        "duration": 0,
        "start_time": "2023-04-08T06:56:01.100Z"
      },
      {
        "duration": 0,
        "start_time": "2023-04-08T06:56:01.102Z"
      },
      {
        "duration": 0,
        "start_time": "2023-04-08T06:56:01.103Z"
      },
      {
        "duration": 0,
        "start_time": "2023-04-08T06:56:01.105Z"
      },
      {
        "duration": 0,
        "start_time": "2023-04-08T06:56:01.106Z"
      },
      {
        "duration": 0,
        "start_time": "2023-04-08T06:56:01.107Z"
      },
      {
        "duration": 0,
        "start_time": "2023-04-08T06:56:01.108Z"
      },
      {
        "duration": 0,
        "start_time": "2023-04-08T06:56:01.108Z"
      },
      {
        "duration": 0,
        "start_time": "2023-04-08T06:56:01.109Z"
      },
      {
        "duration": 0,
        "start_time": "2023-04-08T06:56:01.143Z"
      },
      {
        "duration": 0,
        "start_time": "2023-04-08T06:56:01.144Z"
      },
      {
        "duration": 0,
        "start_time": "2023-04-08T06:56:01.146Z"
      },
      {
        "duration": 0,
        "start_time": "2023-04-08T06:56:01.150Z"
      },
      {
        "duration": 0,
        "start_time": "2023-04-08T06:56:01.152Z"
      },
      {
        "duration": 0,
        "start_time": "2023-04-08T06:56:01.153Z"
      },
      {
        "duration": 0,
        "start_time": "2023-04-08T06:56:01.155Z"
      },
      {
        "duration": 0,
        "start_time": "2023-04-08T06:56:01.156Z"
      },
      {
        "duration": 0,
        "start_time": "2023-04-08T06:56:01.157Z"
      },
      {
        "duration": 0,
        "start_time": "2023-04-08T06:56:01.159Z"
      },
      {
        "duration": 0,
        "start_time": "2023-04-08T06:56:01.160Z"
      },
      {
        "duration": 0,
        "start_time": "2023-04-08T06:56:01.161Z"
      },
      {
        "duration": 6,
        "start_time": "2023-04-08T06:56:36.043Z"
      },
      {
        "duration": 13,
        "start_time": "2023-04-08T06:56:39.724Z"
      },
      {
        "duration": 4,
        "start_time": "2023-04-08T06:56:44.916Z"
      },
      {
        "duration": 4,
        "start_time": "2023-04-08T06:56:46.244Z"
      },
      {
        "duration": 9,
        "start_time": "2023-04-08T06:56:47.162Z"
      },
      {
        "duration": 4,
        "start_time": "2023-04-08T06:56:47.949Z"
      },
      {
        "duration": 4,
        "start_time": "2023-04-08T06:56:52.480Z"
      },
      {
        "duration": 7,
        "start_time": "2023-04-08T06:56:54.499Z"
      },
      {
        "duration": 17,
        "start_time": "2023-04-08T06:59:20.918Z"
      },
      {
        "duration": 915,
        "start_time": "2023-04-08T07:02:10.460Z"
      },
      {
        "duration": 3,
        "start_time": "2023-04-08T07:03:42.192Z"
      },
      {
        "duration": 14,
        "start_time": "2023-04-08T07:03:45.247Z"
      },
      {
        "duration": 4,
        "start_time": "2023-04-08T07:04:58.478Z"
      },
      {
        "duration": 14,
        "start_time": "2023-04-08T07:05:06.743Z"
      },
      {
        "duration": 29,
        "start_time": "2023-04-08T07:05:22.444Z"
      },
      {
        "duration": 8,
        "start_time": "2023-04-08T07:07:16.111Z"
      },
      {
        "duration": 14,
        "start_time": "2023-04-08T07:07:59.422Z"
      },
      {
        "duration": 20,
        "start_time": "2023-04-08T07:08:16.065Z"
      },
      {
        "duration": 2,
        "start_time": "2023-04-08T07:13:04.833Z"
      },
      {
        "duration": 7,
        "start_time": "2023-04-08T07:13:07.456Z"
      },
      {
        "duration": 4,
        "start_time": "2023-04-08T07:16:57.902Z"
      },
      {
        "duration": 18,
        "start_time": "2023-04-08T07:17:03.633Z"
      },
      {
        "duration": 55,
        "start_time": "2023-04-08T07:17:08.879Z"
      },
      {
        "duration": 21,
        "start_time": "2023-04-08T07:17:17.202Z"
      },
      {
        "duration": 9,
        "start_time": "2023-04-08T07:23:57.902Z"
      },
      {
        "duration": 23,
        "start_time": "2023-04-08T07:24:19.938Z"
      },
      {
        "duration": 51,
        "start_time": "2023-04-08T07:26:52.831Z"
      },
      {
        "duration": 56,
        "start_time": "2023-04-08T07:27:39.966Z"
      },
      {
        "duration": 10,
        "start_time": "2023-04-08T07:30:16.371Z"
      },
      {
        "duration": 29,
        "start_time": "2023-04-08T07:30:19.967Z"
      },
      {
        "duration": 5,
        "start_time": "2023-04-08T07:36:19.432Z"
      },
      {
        "duration": 23,
        "start_time": "2023-04-08T07:37:30.905Z"
      },
      {
        "duration": 5,
        "start_time": "2023-04-08T07:38:17.530Z"
      },
      {
        "duration": 117,
        "start_time": "2023-04-08T07:38:17.537Z"
      },
      {
        "duration": 36,
        "start_time": "2023-04-08T07:38:17.664Z"
      },
      {
        "duration": 17,
        "start_time": "2023-04-08T07:38:17.708Z"
      },
      {
        "duration": 83,
        "start_time": "2023-04-08T07:38:17.727Z"
      },
      {
        "duration": 107,
        "start_time": "2023-04-08T07:38:17.812Z"
      },
      {
        "duration": 19,
        "start_time": "2023-04-08T07:38:17.921Z"
      },
      {
        "duration": 27,
        "start_time": "2023-04-08T07:38:17.962Z"
      },
      {
        "duration": 37,
        "start_time": "2023-04-08T07:38:17.995Z"
      },
      {
        "duration": 33,
        "start_time": "2023-04-08T07:38:18.034Z"
      },
      {
        "duration": 33,
        "start_time": "2023-04-08T07:38:18.068Z"
      },
      {
        "duration": 45,
        "start_time": "2023-04-08T07:38:18.107Z"
      },
      {
        "duration": 17,
        "start_time": "2023-04-08T07:38:18.167Z"
      },
      {
        "duration": 39,
        "start_time": "2023-04-08T07:38:18.187Z"
      },
      {
        "duration": 29,
        "start_time": "2023-04-08T07:38:18.229Z"
      },
      {
        "duration": 44,
        "start_time": "2023-04-08T07:38:18.260Z"
      },
      {
        "duration": 23,
        "start_time": "2023-04-08T07:38:18.307Z"
      },
      {
        "duration": 6,
        "start_time": "2023-04-08T07:38:18.332Z"
      },
      {
        "duration": 45,
        "start_time": "2023-04-08T07:38:18.339Z"
      },
      {
        "duration": 16,
        "start_time": "2023-04-08T07:38:18.387Z"
      },
      {
        "duration": 11,
        "start_time": "2023-04-08T07:38:18.405Z"
      },
      {
        "duration": 46,
        "start_time": "2023-04-08T07:38:18.420Z"
      },
      {
        "duration": 21,
        "start_time": "2023-04-08T07:38:18.467Z"
      },
      {
        "duration": 11,
        "start_time": "2023-04-08T07:38:18.493Z"
      },
      {
        "duration": 9,
        "start_time": "2023-04-08T07:38:18.506Z"
      },
      {
        "duration": 22,
        "start_time": "2023-04-08T07:38:18.517Z"
      },
      {
        "duration": 0,
        "start_time": "2023-04-08T07:38:18.547Z"
      },
      {
        "duration": 0,
        "start_time": "2023-04-08T07:38:18.548Z"
      },
      {
        "duration": 0,
        "start_time": "2023-04-08T07:38:18.549Z"
      },
      {
        "duration": 0,
        "start_time": "2023-04-08T07:38:18.550Z"
      },
      {
        "duration": 0,
        "start_time": "2023-04-08T07:38:18.551Z"
      },
      {
        "duration": 0,
        "start_time": "2023-04-08T07:38:18.552Z"
      },
      {
        "duration": 0,
        "start_time": "2023-04-08T07:38:18.556Z"
      },
      {
        "duration": 0,
        "start_time": "2023-04-08T07:38:18.558Z"
      },
      {
        "duration": 0,
        "start_time": "2023-04-08T07:38:18.561Z"
      },
      {
        "duration": 0,
        "start_time": "2023-04-08T07:38:18.563Z"
      },
      {
        "duration": 0,
        "start_time": "2023-04-08T07:38:18.564Z"
      },
      {
        "duration": 0,
        "start_time": "2023-04-08T07:38:18.566Z"
      },
      {
        "duration": 0,
        "start_time": "2023-04-08T07:38:18.567Z"
      },
      {
        "duration": 0,
        "start_time": "2023-04-08T07:38:18.568Z"
      },
      {
        "duration": 0,
        "start_time": "2023-04-08T07:38:18.574Z"
      },
      {
        "duration": 0,
        "start_time": "2023-04-08T07:38:18.577Z"
      },
      {
        "duration": 0,
        "start_time": "2023-04-08T07:38:18.580Z"
      },
      {
        "duration": 0,
        "start_time": "2023-04-08T07:38:18.582Z"
      },
      {
        "duration": 0,
        "start_time": "2023-04-08T07:38:18.584Z"
      },
      {
        "duration": 0,
        "start_time": "2023-04-08T07:38:18.585Z"
      },
      {
        "duration": 0,
        "start_time": "2023-04-08T07:38:18.586Z"
      },
      {
        "duration": 0,
        "start_time": "2023-04-08T07:38:18.587Z"
      },
      {
        "duration": 0,
        "start_time": "2023-04-08T07:38:18.588Z"
      },
      {
        "duration": 0,
        "start_time": "2023-04-08T07:38:18.589Z"
      },
      {
        "duration": 0,
        "start_time": "2023-04-08T07:38:18.597Z"
      },
      {
        "duration": 0,
        "start_time": "2023-04-08T07:38:18.598Z"
      },
      {
        "duration": 0,
        "start_time": "2023-04-08T07:38:18.601Z"
      },
      {
        "duration": 0,
        "start_time": "2023-04-08T07:38:18.602Z"
      },
      {
        "duration": 1,
        "start_time": "2023-04-08T07:38:18.603Z"
      },
      {
        "duration": 4,
        "start_time": "2023-04-08T07:39:11.435Z"
      },
      {
        "duration": 77,
        "start_time": "2023-04-08T07:39:11.441Z"
      },
      {
        "duration": 20,
        "start_time": "2023-04-08T07:39:11.521Z"
      },
      {
        "duration": 51,
        "start_time": "2023-04-08T07:39:11.550Z"
      },
      {
        "duration": 30,
        "start_time": "2023-04-08T07:39:11.604Z"
      },
      {
        "duration": 64,
        "start_time": "2023-04-08T07:39:11.636Z"
      },
      {
        "duration": 12,
        "start_time": "2023-04-08T07:39:11.702Z"
      },
      {
        "duration": 56,
        "start_time": "2023-04-08T07:39:11.716Z"
      },
      {
        "duration": 31,
        "start_time": "2023-04-08T07:39:11.775Z"
      },
      {
        "duration": 31,
        "start_time": "2023-04-08T07:39:11.808Z"
      },
      {
        "duration": 44,
        "start_time": "2023-04-08T07:39:11.841Z"
      },
      {
        "duration": 26,
        "start_time": "2023-04-08T07:39:11.887Z"
      },
      {
        "duration": 5,
        "start_time": "2023-04-08T07:39:11.916Z"
      },
      {
        "duration": 13,
        "start_time": "2023-04-08T07:39:11.923Z"
      },
      {
        "duration": 40,
        "start_time": "2023-04-08T07:39:11.938Z"
      },
      {
        "duration": 11,
        "start_time": "2023-04-08T07:39:11.980Z"
      },
      {
        "duration": 15,
        "start_time": "2023-04-08T07:39:11.993Z"
      },
      {
        "duration": 4,
        "start_time": "2023-04-08T07:39:12.010Z"
      },
      {
        "duration": 7,
        "start_time": "2023-04-08T07:39:12.016Z"
      },
      {
        "duration": 23,
        "start_time": "2023-04-08T07:39:12.025Z"
      },
      {
        "duration": 23,
        "start_time": "2023-04-08T07:39:12.050Z"
      },
      {
        "duration": 12,
        "start_time": "2023-04-08T07:39:12.075Z"
      },
      {
        "duration": 10,
        "start_time": "2023-04-08T07:39:12.089Z"
      },
      {
        "duration": 3,
        "start_time": "2023-04-08T07:39:12.104Z"
      },
      {
        "duration": 6,
        "start_time": "2023-04-08T07:39:12.109Z"
      },
      {
        "duration": 16,
        "start_time": "2023-04-08T07:39:12.117Z"
      },
      {
        "duration": 0,
        "start_time": "2023-04-08T07:39:12.135Z"
      },
      {
        "duration": 0,
        "start_time": "2023-04-08T07:39:12.136Z"
      },
      {
        "duration": 0,
        "start_time": "2023-04-08T07:39:12.138Z"
      },
      {
        "duration": 0,
        "start_time": "2023-04-08T07:39:12.139Z"
      },
      {
        "duration": 0,
        "start_time": "2023-04-08T07:39:12.140Z"
      },
      {
        "duration": 0,
        "start_time": "2023-04-08T07:39:12.141Z"
      },
      {
        "duration": 0,
        "start_time": "2023-04-08T07:39:12.142Z"
      },
      {
        "duration": 0,
        "start_time": "2023-04-08T07:39:12.146Z"
      },
      {
        "duration": 0,
        "start_time": "2023-04-08T07:39:12.146Z"
      },
      {
        "duration": 0,
        "start_time": "2023-04-08T07:39:12.147Z"
      },
      {
        "duration": 0,
        "start_time": "2023-04-08T07:39:12.147Z"
      },
      {
        "duration": 0,
        "start_time": "2023-04-08T07:39:12.148Z"
      },
      {
        "duration": 0,
        "start_time": "2023-04-08T07:39:12.149Z"
      },
      {
        "duration": 0,
        "start_time": "2023-04-08T07:39:12.153Z"
      },
      {
        "duration": 0,
        "start_time": "2023-04-08T07:39:12.154Z"
      },
      {
        "duration": 0,
        "start_time": "2023-04-08T07:39:12.154Z"
      },
      {
        "duration": 0,
        "start_time": "2023-04-08T07:39:12.155Z"
      },
      {
        "duration": 0,
        "start_time": "2023-04-08T07:39:12.156Z"
      },
      {
        "duration": 0,
        "start_time": "2023-04-08T07:39:12.157Z"
      },
      {
        "duration": 0,
        "start_time": "2023-04-08T07:39:12.158Z"
      },
      {
        "duration": 0,
        "start_time": "2023-04-08T07:39:12.159Z"
      },
      {
        "duration": 0,
        "start_time": "2023-04-08T07:39:12.160Z"
      },
      {
        "duration": 0,
        "start_time": "2023-04-08T07:39:12.161Z"
      },
      {
        "duration": 0,
        "start_time": "2023-04-08T07:39:12.162Z"
      },
      {
        "duration": 0,
        "start_time": "2023-04-08T07:39:12.163Z"
      },
      {
        "duration": 0,
        "start_time": "2023-04-08T07:39:12.164Z"
      },
      {
        "duration": 0,
        "start_time": "2023-04-08T07:39:12.166Z"
      },
      {
        "duration": 0,
        "start_time": "2023-04-08T07:39:12.171Z"
      },
      {
        "duration": 0,
        "start_time": "2023-04-08T07:39:12.180Z"
      },
      {
        "duration": 8,
        "start_time": "2023-04-08T07:40:22.924Z"
      },
      {
        "duration": 6,
        "start_time": "2023-04-08T07:40:27.411Z"
      },
      {
        "duration": 37,
        "start_time": "2023-04-08T07:40:28.940Z"
      },
      {
        "duration": 26,
        "start_time": "2023-04-08T07:40:38.672Z"
      },
      {
        "duration": 17,
        "start_time": "2023-04-08T07:40:55.489Z"
      },
      {
        "duration": 20,
        "start_time": "2023-04-08T07:42:41.935Z"
      },
      {
        "duration": 21,
        "start_time": "2023-04-08T07:42:43.655Z"
      },
      {
        "duration": 13,
        "start_time": "2023-04-08T07:43:58.213Z"
      },
      {
        "duration": 5,
        "start_time": "2023-04-08T07:44:14.015Z"
      },
      {
        "duration": 20,
        "start_time": "2023-04-08T07:46:19.909Z"
      },
      {
        "duration": 29,
        "start_time": "2023-04-08T07:46:28.569Z"
      },
      {
        "duration": 8,
        "start_time": "2023-04-08T07:46:40.368Z"
      },
      {
        "duration": 4,
        "start_time": "2023-04-08T07:46:44.388Z"
      },
      {
        "duration": 12,
        "start_time": "2023-04-08T07:46:47.111Z"
      },
      {
        "duration": 43,
        "start_time": "2023-04-08T07:46:48.514Z"
      },
      {
        "duration": 35,
        "start_time": "2023-04-08T07:46:50.264Z"
      },
      {
        "duration": 8,
        "start_time": "2023-04-08T07:58:06.158Z"
      },
      {
        "duration": 1665,
        "start_time": "2023-04-08T12:09:21.616Z"
      },
      {
        "duration": 157,
        "start_time": "2023-04-08T12:09:23.283Z"
      },
      {
        "duration": 19,
        "start_time": "2023-04-08T12:09:23.442Z"
      },
      {
        "duration": 13,
        "start_time": "2023-04-08T12:09:23.463Z"
      },
      {
        "duration": 20,
        "start_time": "2023-04-08T12:09:23.479Z"
      },
      {
        "duration": 46,
        "start_time": "2023-04-08T12:09:23.501Z"
      },
      {
        "duration": 7,
        "start_time": "2023-04-08T12:09:23.549Z"
      },
      {
        "duration": 14,
        "start_time": "2023-04-08T12:09:23.558Z"
      },
      {
        "duration": 27,
        "start_time": "2023-04-08T12:09:23.573Z"
      },
      {
        "duration": 29,
        "start_time": "2023-04-08T12:09:23.602Z"
      },
      {
        "duration": 12,
        "start_time": "2023-04-08T12:09:23.632Z"
      },
      {
        "duration": 20,
        "start_time": "2023-04-08T12:09:23.645Z"
      },
      {
        "duration": 6,
        "start_time": "2023-04-08T12:09:23.667Z"
      },
      {
        "duration": 6,
        "start_time": "2023-04-08T12:09:23.676Z"
      },
      {
        "duration": 27,
        "start_time": "2023-04-08T12:09:23.684Z"
      },
      {
        "duration": 10,
        "start_time": "2023-04-08T12:09:23.716Z"
      },
      {
        "duration": 23,
        "start_time": "2023-04-08T12:09:23.727Z"
      },
      {
        "duration": 10,
        "start_time": "2023-04-08T12:09:23.751Z"
      },
      {
        "duration": 21,
        "start_time": "2023-04-08T12:09:23.763Z"
      },
      {
        "duration": 15,
        "start_time": "2023-04-08T12:09:23.786Z"
      },
      {
        "duration": 13,
        "start_time": "2023-04-08T12:09:23.803Z"
      },
      {
        "duration": 8,
        "start_time": "2023-04-08T12:09:23.817Z"
      },
      {
        "duration": 24,
        "start_time": "2023-04-08T12:09:23.826Z"
      },
      {
        "duration": 18,
        "start_time": "2023-04-08T12:09:23.852Z"
      },
      {
        "duration": 19,
        "start_time": "2023-04-08T12:09:23.872Z"
      },
      {
        "duration": 10,
        "start_time": "2023-04-08T12:09:23.892Z"
      },
      {
        "duration": 22,
        "start_time": "2023-04-08T12:09:23.903Z"
      },
      {
        "duration": 13,
        "start_time": "2023-04-08T12:09:23.927Z"
      },
      {
        "duration": 14,
        "start_time": "2023-04-08T12:09:23.941Z"
      },
      {
        "duration": 18,
        "start_time": "2023-04-08T12:09:23.956Z"
      },
      {
        "duration": 15,
        "start_time": "2023-04-08T12:09:23.976Z"
      },
      {
        "duration": 30,
        "start_time": "2023-04-08T12:09:23.993Z"
      },
      {
        "duration": 28,
        "start_time": "2023-04-08T12:09:24.025Z"
      },
      {
        "duration": 11,
        "start_time": "2023-04-08T12:09:24.055Z"
      },
      {
        "duration": 27,
        "start_time": "2023-04-08T12:09:24.067Z"
      },
      {
        "duration": 22,
        "start_time": "2023-04-08T12:09:24.095Z"
      },
      {
        "duration": 35,
        "start_time": "2023-04-08T12:09:24.119Z"
      },
      {
        "duration": 17,
        "start_time": "2023-04-08T12:09:24.156Z"
      },
      {
        "duration": 140,
        "start_time": "2023-04-08T12:09:24.175Z"
      },
      {
        "duration": 0,
        "start_time": "2023-04-08T12:09:24.317Z"
      },
      {
        "duration": 0,
        "start_time": "2023-04-08T12:09:24.319Z"
      },
      {
        "duration": 0,
        "start_time": "2023-04-08T12:09:24.320Z"
      },
      {
        "duration": 0,
        "start_time": "2023-04-08T12:09:24.321Z"
      },
      {
        "duration": 0,
        "start_time": "2023-04-08T12:09:24.322Z"
      },
      {
        "duration": 0,
        "start_time": "2023-04-08T12:09:24.323Z"
      },
      {
        "duration": 0,
        "start_time": "2023-04-08T12:09:24.324Z"
      },
      {
        "duration": 0,
        "start_time": "2023-04-08T12:09:24.325Z"
      },
      {
        "duration": 0,
        "start_time": "2023-04-08T12:09:24.326Z"
      },
      {
        "duration": 0,
        "start_time": "2023-04-08T12:09:24.327Z"
      },
      {
        "duration": 0,
        "start_time": "2023-04-08T12:09:24.329Z"
      },
      {
        "duration": 0,
        "start_time": "2023-04-08T12:09:24.329Z"
      },
      {
        "duration": 0,
        "start_time": "2023-04-08T12:09:24.331Z"
      },
      {
        "duration": 0,
        "start_time": "2023-04-08T12:09:24.333Z"
      },
      {
        "duration": 0,
        "start_time": "2023-04-08T12:09:24.335Z"
      },
      {
        "duration": 0,
        "start_time": "2023-04-08T12:09:24.336Z"
      },
      {
        "duration": 0,
        "start_time": "2023-04-08T12:09:24.338Z"
      },
      {
        "duration": 6,
        "start_time": "2023-04-08T12:09:48.564Z"
      },
      {
        "duration": 708,
        "start_time": "2023-04-08T12:09:56.849Z"
      },
      {
        "duration": 30,
        "start_time": "2023-04-08T12:12:58.993Z"
      },
      {
        "duration": 26,
        "start_time": "2023-04-08T12:20:31.106Z"
      },
      {
        "duration": 26,
        "start_time": "2023-04-08T12:20:53.139Z"
      },
      {
        "duration": 88,
        "start_time": "2023-04-08T12:21:05.829Z"
      },
      {
        "duration": 8,
        "start_time": "2023-04-08T12:22:45.920Z"
      },
      {
        "duration": 194,
        "start_time": "2023-04-08T12:22:52.322Z"
      },
      {
        "duration": 115,
        "start_time": "2023-04-08T12:23:21.865Z"
      },
      {
        "duration": 93,
        "start_time": "2023-04-08T12:23:49.021Z"
      },
      {
        "duration": 73,
        "start_time": "2023-04-08T12:24:45.698Z"
      },
      {
        "duration": 4,
        "start_time": "2023-04-08T12:25:35.133Z"
      },
      {
        "duration": 23,
        "start_time": "2023-04-08T12:25:44.132Z"
      },
      {
        "duration": 27,
        "start_time": "2023-04-08T12:28:31.002Z"
      },
      {
        "duration": 25,
        "start_time": "2023-04-08T12:29:45.610Z"
      },
      {
        "duration": 7,
        "start_time": "2023-04-08T12:39:32.546Z"
      },
      {
        "duration": 3,
        "start_time": "2023-04-08T12:40:38.020Z"
      },
      {
        "duration": 55,
        "start_time": "2023-04-08T12:40:40.368Z"
      },
      {
        "duration": 5,
        "start_time": "2023-04-08T12:41:45.690Z"
      },
      {
        "duration": 702,
        "start_time": "2023-04-08T12:41:49.263Z"
      },
      {
        "duration": 33473,
        "start_time": "2023-04-08T12:43:04.136Z"
      },
      {
        "duration": 7,
        "start_time": "2023-04-08T12:49:14.659Z"
      },
      {
        "duration": 8,
        "start_time": "2023-04-08T12:49:44.905Z"
      },
      {
        "duration": 3,
        "start_time": "2023-04-08T12:49:58.500Z"
      },
      {
        "duration": 5,
        "start_time": "2023-04-08T12:50:19.777Z"
      },
      {
        "duration": 34530,
        "start_time": "2023-04-08T12:50:26.005Z"
      },
      {
        "duration": 5,
        "start_time": "2023-04-08T12:51:44.870Z"
      },
      {
        "duration": 34444,
        "start_time": "2023-04-08T12:51:56.077Z"
      },
      {
        "duration": 3,
        "start_time": "2023-04-08T12:53:50.873Z"
      },
      {
        "duration": 55,
        "start_time": "2023-04-08T12:53:50.878Z"
      },
      {
        "duration": 14,
        "start_time": "2023-04-08T12:53:50.935Z"
      },
      {
        "duration": 34,
        "start_time": "2023-04-08T12:53:50.950Z"
      },
      {
        "duration": 34,
        "start_time": "2023-04-08T12:53:50.986Z"
      },
      {
        "duration": 42,
        "start_time": "2023-04-08T12:53:51.021Z"
      },
      {
        "duration": 8,
        "start_time": "2023-04-08T12:53:51.065Z"
      },
      {
        "duration": 9,
        "start_time": "2023-04-08T12:53:51.075Z"
      },
      {
        "duration": 35,
        "start_time": "2023-04-08T12:53:51.086Z"
      },
      {
        "duration": 18,
        "start_time": "2023-04-08T12:53:51.123Z"
      },
      {
        "duration": 7,
        "start_time": "2023-04-08T12:53:51.144Z"
      },
      {
        "duration": 18,
        "start_time": "2023-04-08T12:53:51.152Z"
      },
      {
        "duration": 5,
        "start_time": "2023-04-08T12:53:51.173Z"
      },
      {
        "duration": 38,
        "start_time": "2023-04-08T12:53:51.180Z"
      },
      {
        "duration": 16,
        "start_time": "2023-04-08T12:53:51.220Z"
      },
      {
        "duration": 11,
        "start_time": "2023-04-08T12:53:51.238Z"
      },
      {
        "duration": 14,
        "start_time": "2023-04-08T12:53:51.251Z"
      },
      {
        "duration": 3,
        "start_time": "2023-04-08T12:53:51.268Z"
      },
      {
        "duration": 14,
        "start_time": "2023-04-08T12:53:51.272Z"
      },
      {
        "duration": 29,
        "start_time": "2023-04-08T12:53:51.288Z"
      },
      {
        "duration": 4,
        "start_time": "2023-04-08T12:53:51.319Z"
      },
      {
        "duration": 14,
        "start_time": "2023-04-08T12:53:51.325Z"
      },
      {
        "duration": 7,
        "start_time": "2023-04-08T12:53:51.341Z"
      },
      {
        "duration": 8,
        "start_time": "2023-04-08T12:53:51.350Z"
      },
      {
        "duration": 19,
        "start_time": "2023-04-08T12:53:51.360Z"
      },
      {
        "duration": 11,
        "start_time": "2023-04-08T12:53:51.381Z"
      },
      {
        "duration": 26,
        "start_time": "2023-04-08T12:53:51.394Z"
      },
      {
        "duration": 21,
        "start_time": "2023-04-08T12:53:51.422Z"
      },
      {
        "duration": 10,
        "start_time": "2023-04-08T12:53:51.448Z"
      },
      {
        "duration": 15,
        "start_time": "2023-04-08T12:53:51.459Z"
      },
      {
        "duration": 25,
        "start_time": "2023-04-08T12:53:51.476Z"
      },
      {
        "duration": 30,
        "start_time": "2023-04-08T12:53:51.503Z"
      },
      {
        "duration": 10,
        "start_time": "2023-04-08T12:53:51.536Z"
      },
      {
        "duration": 12,
        "start_time": "2023-04-08T12:53:51.548Z"
      },
      {
        "duration": 9,
        "start_time": "2023-04-08T12:53:51.562Z"
      },
      {
        "duration": 41,
        "start_time": "2023-04-08T12:53:51.573Z"
      },
      {
        "duration": 31,
        "start_time": "2023-04-08T12:53:51.616Z"
      },
      {
        "duration": 14,
        "start_time": "2023-04-08T12:53:51.649Z"
      },
      {
        "duration": 18,
        "start_time": "2023-04-08T12:53:51.664Z"
      },
      {
        "duration": 42,
        "start_time": "2023-04-08T12:53:51.683Z"
      },
      {
        "duration": 18,
        "start_time": "2023-04-08T12:53:51.727Z"
      },
      {
        "duration": 0,
        "start_time": "2023-04-08T12:53:51.747Z"
      },
      {
        "duration": 0,
        "start_time": "2023-04-08T12:53:51.748Z"
      },
      {
        "duration": 0,
        "start_time": "2023-04-08T12:53:51.749Z"
      },
      {
        "duration": 0,
        "start_time": "2023-04-08T12:53:51.751Z"
      },
      {
        "duration": 0,
        "start_time": "2023-04-08T12:53:51.753Z"
      },
      {
        "duration": 0,
        "start_time": "2023-04-08T12:53:51.754Z"
      },
      {
        "duration": 0,
        "start_time": "2023-04-08T12:53:51.756Z"
      },
      {
        "duration": 0,
        "start_time": "2023-04-08T12:53:51.757Z"
      },
      {
        "duration": 0,
        "start_time": "2023-04-08T12:53:51.758Z"
      },
      {
        "duration": 0,
        "start_time": "2023-04-08T12:53:51.760Z"
      },
      {
        "duration": 0,
        "start_time": "2023-04-08T12:53:51.761Z"
      },
      {
        "duration": 0,
        "start_time": "2023-04-08T12:53:51.762Z"
      },
      {
        "duration": 0,
        "start_time": "2023-04-08T12:53:51.763Z"
      },
      {
        "duration": 0,
        "start_time": "2023-04-08T12:53:51.764Z"
      },
      {
        "duration": 0,
        "start_time": "2023-04-08T12:53:51.766Z"
      },
      {
        "duration": 0,
        "start_time": "2023-04-08T12:53:51.767Z"
      },
      {
        "duration": 0,
        "start_time": "2023-04-08T12:53:51.768Z"
      },
      {
        "duration": 0,
        "start_time": "2023-04-08T12:53:51.769Z"
      },
      {
        "duration": 0,
        "start_time": "2023-04-08T12:53:51.770Z"
      },
      {
        "duration": 729,
        "start_time": "2023-04-08T12:54:16.565Z"
      },
      {
        "duration": 6,
        "start_time": "2023-04-08T12:54:55.293Z"
      },
      {
        "duration": 34379,
        "start_time": "2023-04-08T12:54:59.894Z"
      },
      {
        "duration": 6,
        "start_time": "2023-04-08T12:57:46.914Z"
      },
      {
        "duration": 36486,
        "start_time": "2023-04-08T12:57:50.786Z"
      },
      {
        "duration": 4,
        "start_time": "2023-04-08T14:36:32.619Z"
      },
      {
        "duration": 25,
        "start_time": "2023-04-08T14:36:38.751Z"
      },
      {
        "duration": 29,
        "start_time": "2023-04-08T14:36:53.663Z"
      },
      {
        "duration": 26,
        "start_time": "2023-04-08T14:36:57.005Z"
      },
      {
        "duration": 722,
        "start_time": "2023-04-08T14:38:03.667Z"
      },
      {
        "duration": 745,
        "start_time": "2023-04-08T14:38:08.078Z"
      },
      {
        "duration": 35073,
        "start_time": "2023-04-08T14:42:05.721Z"
      },
      {
        "duration": 30762,
        "start_time": "2023-04-08T14:42:40.797Z"
      },
      {
        "duration": 4,
        "start_time": "2023-04-08T14:46:48.619Z"
      },
      {
        "duration": 13,
        "start_time": "2023-04-08T14:46:53.174Z"
      },
      {
        "duration": 40409,
        "start_time": "2023-04-08T14:47:06.219Z"
      },
      {
        "duration": 34071,
        "start_time": "2023-04-08T14:48:31.849Z"
      },
      {
        "duration": 44559,
        "start_time": "2023-04-08T14:49:09.614Z"
      },
      {
        "duration": 6,
        "start_time": "2023-04-08T14:50:46.724Z"
      },
      {
        "duration": 30306,
        "start_time": "2023-04-08T14:51:34.798Z"
      },
      {
        "duration": 30852,
        "start_time": "2023-04-08T14:53:20.284Z"
      },
      {
        "duration": 4,
        "start_time": "2023-04-08T14:54:55.437Z"
      },
      {
        "duration": 737,
        "start_time": "2023-04-08T14:55:01.652Z"
      },
      {
        "duration": 6,
        "start_time": "2023-04-08T14:55:10.656Z"
      },
      {
        "duration": 4,
        "start_time": "2023-04-08T14:56:52.232Z"
      },
      {
        "duration": 57,
        "start_time": "2023-04-08T14:56:52.238Z"
      },
      {
        "duration": 14,
        "start_time": "2023-04-08T14:56:52.297Z"
      },
      {
        "duration": 36,
        "start_time": "2023-04-08T14:56:52.313Z"
      },
      {
        "duration": 29,
        "start_time": "2023-04-08T14:56:52.352Z"
      },
      {
        "duration": 77,
        "start_time": "2023-04-08T14:56:52.383Z"
      },
      {
        "duration": 10,
        "start_time": "2023-04-08T14:56:52.463Z"
      },
      {
        "duration": 32,
        "start_time": "2023-04-08T14:56:52.475Z"
      },
      {
        "duration": 42,
        "start_time": "2023-04-08T14:56:52.509Z"
      },
      {
        "duration": 37,
        "start_time": "2023-04-08T14:56:52.553Z"
      },
      {
        "duration": 36,
        "start_time": "2023-04-08T14:56:52.593Z"
      },
      {
        "duration": 42,
        "start_time": "2023-04-08T14:56:52.631Z"
      },
      {
        "duration": 16,
        "start_time": "2023-04-08T14:56:52.675Z"
      },
      {
        "duration": 15,
        "start_time": "2023-04-08T14:56:52.693Z"
      },
      {
        "duration": 43,
        "start_time": "2023-04-08T14:56:52.710Z"
      },
      {
        "duration": 33,
        "start_time": "2023-04-08T14:56:52.755Z"
      },
      {
        "duration": 26,
        "start_time": "2023-04-08T14:56:52.790Z"
      },
      {
        "duration": 36,
        "start_time": "2023-04-08T14:56:52.817Z"
      },
      {
        "duration": 37,
        "start_time": "2023-04-08T14:56:52.855Z"
      },
      {
        "duration": 25,
        "start_time": "2023-04-08T14:56:52.893Z"
      },
      {
        "duration": 8,
        "start_time": "2023-04-08T14:56:52.920Z"
      },
      {
        "duration": 23,
        "start_time": "2023-04-08T14:56:52.930Z"
      },
      {
        "duration": 26,
        "start_time": "2023-04-08T14:56:52.954Z"
      },
      {
        "duration": 17,
        "start_time": "2023-04-08T14:56:52.982Z"
      },
      {
        "duration": 33,
        "start_time": "2023-04-08T14:56:53.001Z"
      },
      {
        "duration": 17,
        "start_time": "2023-04-08T14:56:53.035Z"
      },
      {
        "duration": 28,
        "start_time": "2023-04-08T14:56:53.053Z"
      },
      {
        "duration": 31,
        "start_time": "2023-04-08T14:56:53.083Z"
      },
      {
        "duration": 97,
        "start_time": "2023-04-08T14:56:53.118Z"
      },
      {
        "duration": 38,
        "start_time": "2023-04-08T14:56:53.217Z"
      },
      {
        "duration": 31,
        "start_time": "2023-04-08T14:56:53.257Z"
      },
      {
        "duration": 15,
        "start_time": "2023-04-08T14:56:53.290Z"
      },
      {
        "duration": 17,
        "start_time": "2023-04-08T14:56:53.306Z"
      },
      {
        "duration": 8,
        "start_time": "2023-04-08T14:56:53.325Z"
      },
      {
        "duration": 9,
        "start_time": "2023-04-08T14:56:53.335Z"
      },
      {
        "duration": 14,
        "start_time": "2023-04-08T14:56:53.346Z"
      },
      {
        "duration": 26,
        "start_time": "2023-04-08T14:56:53.361Z"
      },
      {
        "duration": 13,
        "start_time": "2023-04-08T14:56:53.389Z"
      },
      {
        "duration": 15,
        "start_time": "2023-04-08T14:56:53.404Z"
      },
      {
        "duration": 38,
        "start_time": "2023-04-08T14:56:53.421Z"
      },
      {
        "duration": 730,
        "start_time": "2023-04-08T14:56:53.460Z"
      },
      {
        "duration": 6,
        "start_time": "2023-04-08T14:56:54.192Z"
      },
      {
        "duration": 30332,
        "start_time": "2023-04-08T14:56:54.200Z"
      },
      {
        "duration": 4,
        "start_time": "2023-04-08T14:57:24.534Z"
      },
      {
        "duration": 79,
        "start_time": "2023-04-08T14:57:24.540Z"
      },
      {
        "duration": 197,
        "start_time": "2023-04-08T14:57:24.621Z"
      },
      {
        "duration": 851,
        "start_time": "2023-04-08T14:57:24.820Z"
      },
      {
        "duration": 31201,
        "start_time": "2023-04-08T14:57:25.674Z"
      },
      {
        "duration": 4,
        "start_time": "2023-04-08T14:57:56.877Z"
      },
      {
        "duration": 27,
        "start_time": "2023-04-08T14:57:56.883Z"
      },
      {
        "duration": 207,
        "start_time": "2023-04-08T14:57:56.912Z"
      },
      {
        "duration": 999,
        "start_time": "2023-04-08T14:57:57.121Z"
      },
      {
        "duration": 40819,
        "start_time": "2023-04-08T14:57:58.121Z"
      },
      {
        "duration": 41200,
        "start_time": "2023-04-08T14:58:38.942Z"
      },
      {
        "duration": 4,
        "start_time": "2023-04-08T14:59:20.144Z"
      },
      {
        "duration": 30,
        "start_time": "2023-04-08T14:59:20.149Z"
      },
      {
        "duration": 44,
        "start_time": "2023-04-08T14:59:20.181Z"
      },
      {
        "duration": 436,
        "start_time": "2023-04-08T14:59:20.317Z"
      },
      {
        "duration": 18729,
        "start_time": "2023-04-08T14:59:20.754Z"
      },
      {
        "duration": 182,
        "start_time": "2023-04-08T14:59:39.485Z"
      },
      {
        "duration": 4,
        "start_time": "2023-04-08T14:59:48.334Z"
      },
      {
        "duration": 11,
        "start_time": "2023-04-08T15:01:24.808Z"
      },
      {
        "duration": 8,
        "start_time": "2023-04-08T15:01:43.913Z"
      },
      {
        "duration": 5,
        "start_time": "2023-04-08T15:01:53.911Z"
      },
      {
        "duration": 5,
        "start_time": "2023-04-08T15:02:14.101Z"
      },
      {
        "duration": 5,
        "start_time": "2023-04-08T15:03:12.284Z"
      },
      {
        "duration": 34,
        "start_time": "2023-04-08T15:07:25.120Z"
      },
      {
        "duration": 923,
        "start_time": "2023-04-08T15:07:48.297Z"
      },
      {
        "duration": 40615,
        "start_time": "2023-04-08T15:08:54.946Z"
      },
      {
        "duration": 4,
        "start_time": "2023-04-08T15:11:40.078Z"
      },
      {
        "duration": 6,
        "start_time": "2023-04-08T15:11:46.853Z"
      },
      {
        "duration": 9,
        "start_time": "2023-04-08T15:11:59.521Z"
      },
      {
        "duration": 4,
        "start_time": "2023-04-08T15:12:01.411Z"
      },
      {
        "duration": 5,
        "start_time": "2023-04-08T15:12:04.334Z"
      },
      {
        "duration": 9,
        "start_time": "2023-04-08T15:12:17.315Z"
      },
      {
        "duration": 4,
        "start_time": "2023-04-08T15:12:18.428Z"
      },
      {
        "duration": 6,
        "start_time": "2023-04-08T15:12:18.735Z"
      },
      {
        "duration": 10,
        "start_time": "2023-04-08T15:12:26.450Z"
      },
      {
        "duration": 5,
        "start_time": "2023-04-08T15:12:27.466Z"
      },
      {
        "duration": 5,
        "start_time": "2023-04-08T15:12:28.571Z"
      },
      {
        "duration": 58,
        "start_time": "2023-04-08T15:16:09.059Z"
      },
      {
        "duration": 20,
        "start_time": "2023-04-08T15:16:11.760Z"
      },
      {
        "duration": 373,
        "start_time": "2023-04-08T15:16:50.952Z"
      },
      {
        "duration": 358,
        "start_time": "2023-04-08T15:17:00.777Z"
      },
      {
        "duration": 363,
        "start_time": "2023-04-08T15:18:07.709Z"
      },
      {
        "duration": 18925,
        "start_time": "2023-04-08T15:18:26.030Z"
      },
      {
        "duration": 19600,
        "start_time": "2023-04-08T15:18:57.494Z"
      },
      {
        "duration": 9,
        "start_time": "2023-04-08T16:28:27.321Z"
      },
      {
        "duration": 5,
        "start_time": "2023-04-08T16:28:40.991Z"
      },
      {
        "duration": 4,
        "start_time": "2023-04-08T16:30:03.785Z"
      },
      {
        "duration": 11,
        "start_time": "2023-04-08T16:30:10.480Z"
      },
      {
        "duration": 11,
        "start_time": "2023-04-08T16:42:31.050Z"
      },
      {
        "duration": 9,
        "start_time": "2023-04-08T16:42:39.071Z"
      },
      {
        "duration": 59,
        "start_time": "2023-04-08T16:45:43.604Z"
      },
      {
        "duration": 243,
        "start_time": "2023-04-08T16:45:53.625Z"
      },
      {
        "duration": 303,
        "start_time": "2023-04-08T16:46:16.621Z"
      },
      {
        "duration": 813,
        "start_time": "2023-04-08T16:53:44.980Z"
      },
      {
        "duration": 15,
        "start_time": "2023-04-08T16:55:11.060Z"
      },
      {
        "duration": 17,
        "start_time": "2023-04-08T16:55:41.451Z"
      },
      {
        "duration": 263,
        "start_time": "2023-04-08T16:55:53.360Z"
      },
      {
        "duration": 930,
        "start_time": "2023-04-08T16:56:24.771Z"
      },
      {
        "duration": 236,
        "start_time": "2023-04-08T16:58:24.500Z"
      },
      {
        "duration": 323,
        "start_time": "2023-04-08T17:00:35.660Z"
      },
      {
        "duration": 120,
        "start_time": "2023-04-08T17:01:28.775Z"
      },
      {
        "duration": 217,
        "start_time": "2023-04-08T17:01:39.479Z"
      },
      {
        "duration": 743,
        "start_time": "2023-04-08T17:02:57.900Z"
      },
      {
        "duration": 222,
        "start_time": "2023-04-08T17:03:33.909Z"
      },
      {
        "duration": 1416,
        "start_time": "2023-04-08T17:08:17.612Z"
      },
      {
        "duration": 14,
        "start_time": "2023-04-08T17:08:40.750Z"
      },
      {
        "duration": 239,
        "start_time": "2023-04-08T17:13:16.160Z"
      },
      {
        "duration": 10,
        "start_time": "2023-04-08T17:14:12.241Z"
      },
      {
        "duration": 121,
        "start_time": "2023-04-08T17:19:52.566Z"
      },
      {
        "duration": 111,
        "start_time": "2023-04-08T17:20:33.771Z"
      },
      {
        "duration": 822,
        "start_time": "2023-04-08T17:22:52.766Z"
      },
      {
        "duration": 9,
        "start_time": "2023-04-08T17:23:18.239Z"
      },
      {
        "duration": 10,
        "start_time": "2023-04-08T17:23:24.330Z"
      },
      {
        "duration": 259,
        "start_time": "2023-04-08T17:24:20.487Z"
      },
      {
        "duration": 1857,
        "start_time": "2023-04-08T18:40:13.766Z"
      },
      {
        "duration": 49,
        "start_time": "2023-04-08T18:40:15.626Z"
      },
      {
        "duration": 25,
        "start_time": "2023-04-08T18:40:15.677Z"
      },
      {
        "duration": 16,
        "start_time": "2023-04-08T18:40:15.704Z"
      },
      {
        "duration": 25,
        "start_time": "2023-04-08T18:40:15.724Z"
      },
      {
        "duration": 82,
        "start_time": "2023-04-08T18:40:15.751Z"
      },
      {
        "duration": 10,
        "start_time": "2023-04-08T18:40:15.836Z"
      },
      {
        "duration": 20,
        "start_time": "2023-04-08T18:40:15.848Z"
      },
      {
        "duration": 19,
        "start_time": "2023-04-08T18:40:15.870Z"
      },
      {
        "duration": 34,
        "start_time": "2023-04-08T18:40:15.891Z"
      },
      {
        "duration": 10,
        "start_time": "2023-04-08T18:40:15.927Z"
      },
      {
        "duration": 327,
        "start_time": "2023-04-08T18:40:15.939Z"
      },
      {
        "duration": 9,
        "start_time": "2023-04-08T18:40:16.268Z"
      },
      {
        "duration": 41,
        "start_time": "2023-04-08T18:40:16.280Z"
      },
      {
        "duration": 4,
        "start_time": "2023-04-08T18:40:16.324Z"
      },
      {
        "duration": 15,
        "start_time": "2023-04-08T18:40:16.329Z"
      },
      {
        "duration": 23,
        "start_time": "2023-04-08T18:40:16.346Z"
      },
      {
        "duration": 12,
        "start_time": "2023-04-08T18:40:16.372Z"
      },
      {
        "duration": 18,
        "start_time": "2023-04-08T18:40:16.385Z"
      },
      {
        "duration": 4,
        "start_time": "2023-04-08T18:40:16.406Z"
      },
      {
        "duration": 18,
        "start_time": "2023-04-08T18:40:16.419Z"
      },
      {
        "duration": 21,
        "start_time": "2023-04-08T18:40:16.439Z"
      },
      {
        "duration": 6,
        "start_time": "2023-04-08T18:40:16.463Z"
      },
      {
        "duration": 9,
        "start_time": "2023-04-08T18:40:16.471Z"
      },
      {
        "duration": 19,
        "start_time": "2023-04-08T18:40:16.482Z"
      },
      {
        "duration": 25,
        "start_time": "2023-04-08T18:40:16.503Z"
      },
      {
        "duration": 16,
        "start_time": "2023-04-08T18:40:16.530Z"
      },
      {
        "duration": 10,
        "start_time": "2023-04-08T18:40:16.548Z"
      },
      {
        "duration": 33,
        "start_time": "2023-04-08T18:40:16.560Z"
      },
      {
        "duration": 20,
        "start_time": "2023-04-08T18:40:16.595Z"
      },
      {
        "duration": 22,
        "start_time": "2023-04-08T18:40:16.618Z"
      },
      {
        "duration": 22,
        "start_time": "2023-04-08T18:40:16.642Z"
      },
      {
        "duration": 29,
        "start_time": "2023-04-08T18:40:16.666Z"
      },
      {
        "duration": 26,
        "start_time": "2023-04-08T18:40:16.697Z"
      },
      {
        "duration": 25,
        "start_time": "2023-04-08T18:40:16.726Z"
      },
      {
        "duration": 9,
        "start_time": "2023-04-08T18:40:16.753Z"
      },
      {
        "duration": 21,
        "start_time": "2023-04-08T18:40:16.764Z"
      },
      {
        "duration": 27,
        "start_time": "2023-04-08T18:40:16.788Z"
      },
      {
        "duration": 44,
        "start_time": "2023-04-08T18:40:16.818Z"
      },
      {
        "duration": 20,
        "start_time": "2023-04-08T18:40:16.864Z"
      },
      {
        "duration": 13,
        "start_time": "2023-04-08T18:40:16.890Z"
      },
      {
        "duration": 15,
        "start_time": "2023-04-08T18:40:16.905Z"
      },
      {
        "duration": 769,
        "start_time": "2023-04-08T18:40:16.922Z"
      },
      {
        "duration": 8,
        "start_time": "2023-04-08T18:40:17.693Z"
      },
      {
        "duration": 31509,
        "start_time": "2023-04-08T18:40:17.703Z"
      },
      {
        "duration": 4,
        "start_time": "2023-04-08T18:40:49.218Z"
      },
      {
        "duration": 53,
        "start_time": "2023-04-08T18:40:49.224Z"
      },
      {
        "duration": 204,
        "start_time": "2023-04-08T18:40:49.318Z"
      },
      {
        "duration": 844,
        "start_time": "2023-04-08T18:40:49.524Z"
      },
      {
        "duration": 32254,
        "start_time": "2023-04-08T18:40:50.370Z"
      },
      {
        "duration": 4,
        "start_time": "2023-04-08T18:41:22.625Z"
      },
      {
        "duration": 23,
        "start_time": "2023-04-08T18:41:22.631Z"
      },
      {
        "duration": 7,
        "start_time": "2023-04-08T18:41:22.656Z"
      },
      {
        "duration": 12,
        "start_time": "2023-04-08T18:41:22.664Z"
      },
      {
        "duration": 145,
        "start_time": "2023-04-08T18:41:22.678Z"
      },
      {
        "duration": 985,
        "start_time": "2023-04-08T18:41:22.827Z"
      },
      {
        "duration": 41475,
        "start_time": "2023-04-08T18:41:23.818Z"
      },
      {
        "duration": 4,
        "start_time": "2023-04-08T18:42:05.295Z"
      },
      {
        "duration": 29,
        "start_time": "2023-04-08T18:42:05.301Z"
      },
      {
        "duration": 23,
        "start_time": "2023-04-08T18:42:05.332Z"
      },
      {
        "duration": 15,
        "start_time": "2023-04-08T18:42:05.357Z"
      },
      {
        "duration": 46,
        "start_time": "2023-04-08T18:42:05.374Z"
      },
      {
        "duration": 485,
        "start_time": "2023-04-08T18:42:05.422Z"
      },
      {
        "duration": 19573,
        "start_time": "2023-04-08T18:42:05.909Z"
      },
      {
        "duration": 6,
        "start_time": "2023-04-08T18:42:25.484Z"
      },
      {
        "duration": 35,
        "start_time": "2023-04-08T18:42:25.493Z"
      },
      {
        "duration": 238,
        "start_time": "2023-04-08T18:42:25.531Z"
      },
      {
        "duration": 4,
        "start_time": "2023-04-08T19:02:59.799Z"
      },
      {
        "duration": 11,
        "start_time": "2023-04-08T19:03:02.832Z"
      },
      {
        "duration": 54,
        "start_time": "2023-05-26T09:31:47.659Z"
      },
      {
        "duration": 1533,
        "start_time": "2023-05-26T09:31:56.366Z"
      },
      {
        "duration": 152,
        "start_time": "2023-05-26T09:31:57.901Z"
      },
      {
        "duration": 21,
        "start_time": "2023-05-26T09:31:58.054Z"
      },
      {
        "duration": 18,
        "start_time": "2023-05-26T09:31:58.077Z"
      },
      {
        "duration": 35,
        "start_time": "2023-05-26T09:31:58.097Z"
      },
      {
        "duration": 61,
        "start_time": "2023-05-26T09:31:58.133Z"
      },
      {
        "duration": 8,
        "start_time": "2023-05-26T09:31:58.195Z"
      },
      {
        "duration": 6,
        "start_time": "2023-05-26T09:31:58.205Z"
      },
      {
        "duration": 13,
        "start_time": "2023-05-26T09:31:58.212Z"
      },
      {
        "duration": 14,
        "start_time": "2023-05-26T09:31:58.228Z"
      },
      {
        "duration": 51,
        "start_time": "2023-05-26T09:31:58.244Z"
      },
      {
        "duration": 273,
        "start_time": "2023-05-26T09:31:58.296Z"
      },
      {
        "duration": 15,
        "start_time": "2023-05-26T09:31:58.570Z"
      },
      {
        "duration": 24,
        "start_time": "2023-05-26T09:31:58.594Z"
      },
      {
        "duration": 4,
        "start_time": "2023-05-26T09:31:58.620Z"
      },
      {
        "duration": 4,
        "start_time": "2023-05-26T09:31:58.626Z"
      },
      {
        "duration": 13,
        "start_time": "2023-05-26T09:31:58.632Z"
      },
      {
        "duration": 6,
        "start_time": "2023-05-26T09:31:58.647Z"
      },
      {
        "duration": 32,
        "start_time": "2023-05-26T09:31:58.655Z"
      },
      {
        "duration": 11,
        "start_time": "2023-05-26T09:31:58.690Z"
      },
      {
        "duration": 8,
        "start_time": "2023-05-26T09:31:58.703Z"
      },
      {
        "duration": 12,
        "start_time": "2023-05-26T09:31:58.713Z"
      },
      {
        "duration": 5,
        "start_time": "2023-05-26T09:31:58.728Z"
      },
      {
        "duration": 11,
        "start_time": "2023-05-26T09:31:58.735Z"
      },
      {
        "duration": 5,
        "start_time": "2023-05-26T09:31:58.748Z"
      },
      {
        "duration": 5,
        "start_time": "2023-05-26T09:31:58.754Z"
      },
      {
        "duration": 32,
        "start_time": "2023-05-26T09:31:58.761Z"
      },
      {
        "duration": 12,
        "start_time": "2023-05-26T09:31:58.797Z"
      },
      {
        "duration": 16,
        "start_time": "2023-05-26T09:31:58.811Z"
      },
      {
        "duration": 13,
        "start_time": "2023-05-26T09:31:58.829Z"
      },
      {
        "duration": 15,
        "start_time": "2023-05-26T09:31:58.843Z"
      },
      {
        "duration": 30,
        "start_time": "2023-05-26T09:31:58.859Z"
      },
      {
        "duration": 10,
        "start_time": "2023-05-26T09:31:58.891Z"
      },
      {
        "duration": 12,
        "start_time": "2023-05-26T09:31:58.902Z"
      },
      {
        "duration": 12,
        "start_time": "2023-05-26T09:31:58.916Z"
      },
      {
        "duration": 5,
        "start_time": "2023-05-26T09:31:58.930Z"
      },
      {
        "duration": 23,
        "start_time": "2023-05-26T09:31:58.937Z"
      },
      {
        "duration": 12,
        "start_time": "2023-05-26T09:31:58.961Z"
      },
      {
        "duration": 27,
        "start_time": "2023-05-26T09:31:58.975Z"
      },
      {
        "duration": 13,
        "start_time": "2023-05-26T09:31:59.003Z"
      },
      {
        "duration": 8,
        "start_time": "2023-05-26T09:31:59.018Z"
      },
      {
        "duration": 6,
        "start_time": "2023-05-26T09:31:59.028Z"
      },
      {
        "duration": 722,
        "start_time": "2023-05-26T09:31:59.036Z"
      },
      {
        "duration": 5,
        "start_time": "2023-05-26T09:31:59.760Z"
      },
      {
        "duration": 31287,
        "start_time": "2023-05-26T09:31:59.766Z"
      },
      {
        "duration": 5,
        "start_time": "2023-05-26T09:32:31.055Z"
      },
      {
        "duration": 82,
        "start_time": "2023-05-26T09:32:31.062Z"
      },
      {
        "duration": 122,
        "start_time": "2023-05-26T09:32:31.174Z"
      },
      {
        "duration": 1025,
        "start_time": "2023-05-26T09:32:31.304Z"
      },
      {
        "duration": 31638,
        "start_time": "2023-05-26T09:32:32.331Z"
      },
      {
        "duration": 13,
        "start_time": "2023-05-26T09:33:03.971Z"
      },
      {
        "duration": 21,
        "start_time": "2023-05-26T09:33:03.987Z"
      },
      {
        "duration": 22,
        "start_time": "2023-05-26T09:33:04.011Z"
      },
      {
        "duration": 27,
        "start_time": "2023-05-26T09:33:04.035Z"
      },
      {
        "duration": 127,
        "start_time": "2023-05-26T09:33:04.064Z"
      },
      {
        "duration": 1002,
        "start_time": "2023-05-26T09:33:04.194Z"
      },
      {
        "duration": 46864,
        "start_time": "2023-05-26T09:33:05.202Z"
      },
      {
        "duration": 16,
        "start_time": "2023-05-26T09:33:52.068Z"
      },
      {
        "duration": 24,
        "start_time": "2023-05-26T09:33:52.090Z"
      },
      {
        "duration": 10,
        "start_time": "2023-05-26T09:33:52.116Z"
      },
      {
        "duration": 5,
        "start_time": "2023-05-26T09:33:52.128Z"
      },
      {
        "duration": 44,
        "start_time": "2023-05-26T09:33:52.135Z"
      },
      {
        "duration": 428,
        "start_time": "2023-05-26T09:33:52.181Z"
      },
      {
        "duration": 19081,
        "start_time": "2023-05-26T09:33:52.611Z"
      },
      {
        "duration": 4,
        "start_time": "2023-05-26T09:34:11.694Z"
      },
      {
        "duration": 28,
        "start_time": "2023-05-26T09:34:11.700Z"
      },
      {
        "duration": 188,
        "start_time": "2023-05-26T09:34:11.730Z"
      },
      {
        "duration": 1911,
        "start_time": "2023-10-19T13:04:38.875Z"
      },
      {
        "duration": 180,
        "start_time": "2023-10-19T13:04:40.788Z"
      },
      {
        "duration": 19,
        "start_time": "2023-10-19T13:04:40.970Z"
      },
      {
        "duration": 19,
        "start_time": "2023-10-19T13:04:40.991Z"
      },
      {
        "duration": 21,
        "start_time": "2023-10-19T13:04:41.015Z"
      },
      {
        "duration": 62,
        "start_time": "2023-10-19T13:04:41.037Z"
      },
      {
        "duration": 7,
        "start_time": "2023-10-19T13:04:41.101Z"
      },
      {
        "duration": 38,
        "start_time": "2023-10-19T13:04:41.109Z"
      },
      {
        "duration": 29,
        "start_time": "2023-10-19T13:04:41.151Z"
      },
      {
        "duration": 14,
        "start_time": "2023-10-19T13:04:41.182Z"
      },
      {
        "duration": 10,
        "start_time": "2023-10-19T13:04:41.198Z"
      },
      {
        "duration": 313,
        "start_time": "2023-10-19T13:04:41.210Z"
      },
      {
        "duration": 268,
        "start_time": "2023-10-19T13:04:41.525Z"
      },
      {
        "duration": 9,
        "start_time": "2023-10-19T13:04:41.796Z"
      },
      {
        "duration": 29,
        "start_time": "2023-10-19T13:04:41.806Z"
      },
      {
        "duration": 6,
        "start_time": "2023-10-19T13:04:41.837Z"
      },
      {
        "duration": 18,
        "start_time": "2023-10-19T13:04:41.858Z"
      },
      {
        "duration": 40,
        "start_time": "2023-10-19T13:04:41.878Z"
      },
      {
        "duration": 25,
        "start_time": "2023-10-19T13:04:41.920Z"
      },
      {
        "duration": 35,
        "start_time": "2023-10-19T13:04:41.947Z"
      },
      {
        "duration": 13,
        "start_time": "2023-10-19T13:04:41.984Z"
      },
      {
        "duration": 22,
        "start_time": "2023-10-19T13:04:41.999Z"
      },
      {
        "duration": 41,
        "start_time": "2023-10-19T13:04:42.022Z"
      },
      {
        "duration": 45,
        "start_time": "2023-10-19T13:04:42.067Z"
      },
      {
        "duration": 23,
        "start_time": "2023-10-19T13:04:42.114Z"
      },
      {
        "duration": 22,
        "start_time": "2023-10-19T13:04:42.139Z"
      },
      {
        "duration": 19,
        "start_time": "2023-10-19T13:04:42.164Z"
      },
      {
        "duration": 15,
        "start_time": "2023-10-19T13:04:42.185Z"
      },
      {
        "duration": 8,
        "start_time": "2023-10-19T13:04:42.202Z"
      },
      {
        "duration": 42,
        "start_time": "2023-10-19T13:04:42.212Z"
      },
      {
        "duration": 23,
        "start_time": "2023-10-19T13:04:42.255Z"
      },
      {
        "duration": 9,
        "start_time": "2023-10-19T13:04:42.280Z"
      },
      {
        "duration": 19,
        "start_time": "2023-10-19T13:04:42.291Z"
      },
      {
        "duration": 14,
        "start_time": "2023-10-19T13:04:42.312Z"
      },
      {
        "duration": 42,
        "start_time": "2023-10-19T13:04:42.327Z"
      },
      {
        "duration": 20,
        "start_time": "2023-10-19T13:04:42.372Z"
      },
      {
        "duration": 13,
        "start_time": "2023-10-19T13:04:42.393Z"
      },
      {
        "duration": 21,
        "start_time": "2023-10-19T13:04:42.407Z"
      },
      {
        "duration": 11,
        "start_time": "2023-10-19T13:04:42.430Z"
      },
      {
        "duration": 42,
        "start_time": "2023-10-19T13:04:42.442Z"
      },
      {
        "duration": 14,
        "start_time": "2023-10-19T13:04:42.488Z"
      },
      {
        "duration": 39,
        "start_time": "2023-10-19T13:04:42.504Z"
      },
      {
        "duration": 17,
        "start_time": "2023-10-19T13:04:42.544Z"
      },
      {
        "duration": 805,
        "start_time": "2023-10-19T13:04:42.567Z"
      },
      {
        "duration": 6,
        "start_time": "2023-10-19T13:04:43.373Z"
      },
      {
        "duration": 35260,
        "start_time": "2023-10-19T13:04:43.381Z"
      },
      {
        "duration": 5,
        "start_time": "2023-10-19T13:05:18.643Z"
      },
      {
        "duration": 100,
        "start_time": "2023-10-19T13:05:18.658Z"
      },
      {
        "duration": 203,
        "start_time": "2023-10-19T13:05:18.761Z"
      },
      {
        "duration": 1162,
        "start_time": "2023-10-19T13:05:18.966Z"
      },
      {
        "duration": 36235,
        "start_time": "2023-10-19T13:05:20.131Z"
      },
      {
        "duration": 7,
        "start_time": "2023-10-19T13:05:56.370Z"
      },
      {
        "duration": 62,
        "start_time": "2023-10-19T13:05:56.380Z"
      },
      {
        "duration": 33,
        "start_time": "2023-10-19T13:05:56.444Z"
      },
      {
        "duration": 38,
        "start_time": "2023-10-19T13:05:56.479Z"
      },
      {
        "duration": 51,
        "start_time": "2023-10-19T13:05:56.519Z"
      },
      {
        "duration": 1160,
        "start_time": "2023-10-19T13:05:56.573Z"
      },
      {
        "duration": 44348,
        "start_time": "2023-10-19T13:05:57.735Z"
      },
      {
        "duration": 5,
        "start_time": "2023-10-19T13:06:42.085Z"
      },
      {
        "duration": 24,
        "start_time": "2023-10-19T13:06:42.091Z"
      },
      {
        "duration": 8,
        "start_time": "2023-10-19T13:06:42.117Z"
      },
      {
        "duration": 8,
        "start_time": "2023-10-19T13:06:42.127Z"
      },
      {
        "duration": 48,
        "start_time": "2023-10-19T13:06:42.137Z"
      },
      {
        "duration": 464,
        "start_time": "2023-10-19T13:06:42.259Z"
      },
      {
        "duration": 20145,
        "start_time": "2023-10-19T13:06:42.725Z"
      },
      {
        "duration": 5,
        "start_time": "2023-10-19T13:07:02.874Z"
      },
      {
        "duration": 105,
        "start_time": "2023-10-19T13:07:02.880Z"
      },
      {
        "duration": 208,
        "start_time": "2023-10-19T13:07:02.987Z"
      },
      {
        "duration": 290,
        "start_time": "2023-10-19T13:21:47.885Z"
      },
      {
        "duration": 268,
        "start_time": "2023-10-19T13:27:45.485Z"
      },
      {
        "duration": 1460,
        "start_time": "2023-10-20T06:54:43.658Z"
      },
      {
        "duration": 77,
        "start_time": "2023-10-20T06:54:45.120Z"
      },
      {
        "duration": 17,
        "start_time": "2023-10-20T06:54:45.199Z"
      },
      {
        "duration": 13,
        "start_time": "2023-10-20T06:54:45.217Z"
      },
      {
        "duration": 19,
        "start_time": "2023-10-20T06:54:45.233Z"
      },
      {
        "duration": 59,
        "start_time": "2023-10-20T06:54:45.254Z"
      },
      {
        "duration": 8,
        "start_time": "2023-10-20T06:54:45.315Z"
      },
      {
        "duration": 32,
        "start_time": "2023-10-20T06:54:45.325Z"
      },
      {
        "duration": 34,
        "start_time": "2023-10-20T06:54:45.359Z"
      },
      {
        "duration": 37,
        "start_time": "2023-10-20T06:54:45.395Z"
      },
      {
        "duration": 31,
        "start_time": "2023-10-20T06:54:45.435Z"
      },
      {
        "duration": 263,
        "start_time": "2023-10-20T06:54:45.467Z"
      },
      {
        "duration": 249,
        "start_time": "2023-10-20T06:54:45.732Z"
      },
      {
        "duration": 29,
        "start_time": "2023-10-20T06:54:45.987Z"
      },
      {
        "duration": 20,
        "start_time": "2023-10-20T06:54:46.019Z"
      },
      {
        "duration": 12,
        "start_time": "2023-10-20T06:54:46.042Z"
      },
      {
        "duration": 14,
        "start_time": "2023-10-20T06:54:46.056Z"
      },
      {
        "duration": 16,
        "start_time": "2023-10-20T06:54:46.072Z"
      },
      {
        "duration": 42,
        "start_time": "2023-10-20T06:54:46.090Z"
      },
      {
        "duration": 46,
        "start_time": "2023-10-20T06:54:46.135Z"
      },
      {
        "duration": 34,
        "start_time": "2023-10-20T06:54:46.183Z"
      },
      {
        "duration": 24,
        "start_time": "2023-10-20T06:54:46.218Z"
      },
      {
        "duration": 29,
        "start_time": "2023-10-20T06:54:46.244Z"
      },
      {
        "duration": 20,
        "start_time": "2023-10-20T06:54:46.275Z"
      },
      {
        "duration": 31,
        "start_time": "2023-10-20T06:54:46.297Z"
      },
      {
        "duration": 26,
        "start_time": "2023-10-20T06:54:46.330Z"
      },
      {
        "duration": 30,
        "start_time": "2023-10-20T06:54:46.358Z"
      },
      {
        "duration": 32,
        "start_time": "2023-10-20T06:54:46.390Z"
      },
      {
        "duration": 12,
        "start_time": "2023-10-20T06:54:46.424Z"
      },
      {
        "duration": 31,
        "start_time": "2023-10-20T06:54:46.438Z"
      },
      {
        "duration": 19,
        "start_time": "2023-10-20T06:54:46.471Z"
      },
      {
        "duration": 39,
        "start_time": "2023-10-20T06:54:46.491Z"
      },
      {
        "duration": 30,
        "start_time": "2023-10-20T06:54:46.532Z"
      },
      {
        "duration": 26,
        "start_time": "2023-10-20T06:54:46.564Z"
      },
      {
        "duration": 34,
        "start_time": "2023-10-20T06:54:46.592Z"
      },
      {
        "duration": 15,
        "start_time": "2023-10-20T06:54:46.628Z"
      },
      {
        "duration": 22,
        "start_time": "2023-10-20T06:54:46.645Z"
      },
      {
        "duration": 38,
        "start_time": "2023-10-20T06:54:46.669Z"
      },
      {
        "duration": 28,
        "start_time": "2023-10-20T06:54:46.715Z"
      },
      {
        "duration": 45,
        "start_time": "2023-10-20T06:54:46.745Z"
      },
      {
        "duration": 51,
        "start_time": "2023-10-20T06:54:46.795Z"
      },
      {
        "duration": 43,
        "start_time": "2023-10-20T06:54:46.848Z"
      },
      {
        "duration": 28,
        "start_time": "2023-10-20T06:54:46.893Z"
      },
      {
        "duration": 725,
        "start_time": "2023-10-20T06:54:46.922Z"
      },
      {
        "duration": 5,
        "start_time": "2023-10-20T06:54:47.648Z"
      },
      {
        "duration": 702,
        "start_time": "2023-10-20T06:54:47.654Z"
      },
      {
        "duration": 5,
        "start_time": "2023-10-20T06:54:48.357Z"
      },
      {
        "duration": 29921,
        "start_time": "2023-10-20T06:54:48.364Z"
      },
      {
        "duration": 4,
        "start_time": "2023-10-20T06:55:18.287Z"
      },
      {
        "duration": 118,
        "start_time": "2023-10-20T06:55:18.292Z"
      },
      {
        "duration": 119,
        "start_time": "2023-10-20T06:55:18.412Z"
      },
      {
        "duration": 865,
        "start_time": "2023-10-20T06:55:18.533Z"
      },
      {
        "duration": 30744,
        "start_time": "2023-10-20T06:55:19.400Z"
      },
      {
        "duration": 4,
        "start_time": "2023-10-20T06:55:50.146Z"
      },
      {
        "duration": 41,
        "start_time": "2023-10-20T06:55:50.152Z"
      },
      {
        "duration": 5,
        "start_time": "2023-10-20T06:55:50.194Z"
      },
      {
        "duration": 7,
        "start_time": "2023-10-20T06:55:50.201Z"
      },
      {
        "duration": 37,
        "start_time": "2023-10-20T06:55:50.211Z"
      },
      {
        "duration": 971,
        "start_time": "2023-10-20T06:55:50.330Z"
      },
      {
        "duration": 40162,
        "start_time": "2023-10-20T06:55:51.303Z"
      },
      {
        "duration": 4,
        "start_time": "2023-10-20T06:56:31.467Z"
      },
      {
        "duration": 242,
        "start_time": "2023-10-20T06:56:31.474Z"
      },
      {
        "duration": 138,
        "start_time": "2023-10-20T06:56:31.721Z"
      },
      {
        "duration": 92,
        "start_time": "2023-10-20T06:56:31.861Z"
      },
      {
        "duration": 258,
        "start_time": "2023-10-20T06:56:31.955Z"
      },
      {
        "duration": 516,
        "start_time": "2023-10-20T06:56:32.225Z"
      },
      {
        "duration": 19491,
        "start_time": "2023-10-20T06:56:32.743Z"
      },
      {
        "duration": 4,
        "start_time": "2023-10-20T06:56:52.236Z"
      },
      {
        "duration": 62,
        "start_time": "2023-10-20T06:56:52.242Z"
      },
      {
        "duration": 208,
        "start_time": "2023-10-20T06:56:52.305Z"
      },
      {
        "duration": 5,
        "start_time": "2023-10-20T07:15:41.925Z"
      },
      {
        "duration": 123,
        "start_time": "2023-10-20T07:18:15.028Z"
      },
      {
        "duration": 4,
        "start_time": "2023-10-20T07:18:55.123Z"
      },
      {
        "duration": 694,
        "start_time": "2023-10-20T07:18:56.400Z"
      },
      {
        "duration": 11,
        "start_time": "2023-10-20T07:18:59.705Z"
      },
      {
        "duration": 5,
        "start_time": "2023-10-20T07:24:08.483Z"
      },
      {
        "duration": 666,
        "start_time": "2023-10-20T07:24:22.731Z"
      },
      {
        "duration": 4,
        "start_time": "2023-10-20T07:24:32.759Z"
      },
      {
        "duration": 742,
        "start_time": "2023-10-20T07:26:20.684Z"
      },
      {
        "duration": 4,
        "start_time": "2023-10-20T07:26:21.517Z"
      },
      {
        "duration": 5,
        "start_time": "2023-10-20T07:26:27.535Z"
      },
      {
        "duration": 698,
        "start_time": "2023-10-20T07:26:29.432Z"
      },
      {
        "duration": 4,
        "start_time": "2023-10-20T07:26:31.540Z"
      },
      {
        "duration": 4,
        "start_time": "2023-10-20T07:28:10.794Z"
      },
      {
        "duration": 4,
        "start_time": "2023-10-20T07:28:30.320Z"
      },
      {
        "duration": 729,
        "start_time": "2023-10-20T07:35:34.701Z"
      },
      {
        "duration": 5,
        "start_time": "2023-10-20T07:35:35.517Z"
      },
      {
        "duration": 16,
        "start_time": "2023-10-20T07:36:28.805Z"
      },
      {
        "duration": 736,
        "start_time": "2023-10-20T07:36:41.328Z"
      },
      {
        "duration": 10,
        "start_time": "2023-10-20T07:36:42.208Z"
      },
      {
        "duration": 687,
        "start_time": "2023-10-20T07:39:09.268Z"
      },
      {
        "duration": 14,
        "start_time": "2023-10-20T07:39:10.114Z"
      },
      {
        "duration": 15,
        "start_time": "2023-10-20T07:41:45.602Z"
      },
      {
        "duration": 24,
        "start_time": "2023-10-20T07:41:47.078Z"
      },
      {
        "duration": 4,
        "start_time": "2023-10-20T07:41:47.827Z"
      },
      {
        "duration": 4,
        "start_time": "2023-10-20T07:43:13.564Z"
      },
      {
        "duration": 5,
        "start_time": "2023-10-20T07:44:30.392Z"
      },
      {
        "duration": 5,
        "start_time": "2023-10-20T07:48:57.923Z"
      },
      {
        "duration": 30345,
        "start_time": "2023-10-20T07:51:15.919Z"
      },
      {
        "duration": 5,
        "start_time": "2023-10-20T07:51:46.266Z"
      },
      {
        "duration": 670,
        "start_time": "2023-10-20T07:55:22.980Z"
      },
      {
        "duration": 4,
        "start_time": "2023-10-20T07:55:23.771Z"
      },
      {
        "duration": 28506,
        "start_time": "2023-10-20T07:55:58.285Z"
      },
      {
        "duration": 4,
        "start_time": "2023-10-20T07:56:26.793Z"
      },
      {
        "duration": 11,
        "start_time": "2023-10-20T07:57:01.294Z"
      },
      {
        "duration": 22,
        "start_time": "2023-10-20T07:57:05.511Z"
      },
      {
        "duration": 4,
        "start_time": "2023-10-20T07:57:06.538Z"
      },
      {
        "duration": 24,
        "start_time": "2023-10-20T07:59:17.085Z"
      },
      {
        "duration": 4,
        "start_time": "2023-10-20T07:59:17.856Z"
      },
      {
        "duration": 4,
        "start_time": "2023-10-20T07:59:48.390Z"
      },
      {
        "duration": 5,
        "start_time": "2023-10-20T08:00:31.679Z"
      },
      {
        "duration": 6,
        "start_time": "2023-10-20T08:00:53.018Z"
      },
      {
        "duration": 6,
        "start_time": "2023-10-20T08:01:25.376Z"
      },
      {
        "duration": 84,
        "start_time": "2023-10-20T08:01:29.225Z"
      },
      {
        "duration": 5,
        "start_time": "2023-10-20T08:01:30.132Z"
      },
      {
        "duration": 4,
        "start_time": "2023-10-20T08:01:41.826Z"
      },
      {
        "duration": 26,
        "start_time": "2023-10-20T08:01:46.624Z"
      },
      {
        "duration": 4,
        "start_time": "2023-10-20T08:01:47.675Z"
      },
      {
        "duration": 4,
        "start_time": "2023-10-20T08:02:07.784Z"
      },
      {
        "duration": 5,
        "start_time": "2023-10-20T08:02:25.528Z"
      },
      {
        "duration": 700,
        "start_time": "2023-10-20T08:03:26.834Z"
      },
      {
        "duration": 6,
        "start_time": "2023-10-20T08:03:44.810Z"
      },
      {
        "duration": 31788,
        "start_time": "2023-10-20T08:06:59.178Z"
      },
      {
        "duration": 4,
        "start_time": "2023-10-20T08:07:30.969Z"
      },
      {
        "duration": 149,
        "start_time": "2023-10-20T08:12:05.984Z"
      },
      {
        "duration": 4,
        "start_time": "2023-10-20T08:12:07.580Z"
      },
      {
        "duration": 934,
        "start_time": "2023-10-20T08:12:22.169Z"
      },
      {
        "duration": 5,
        "start_time": "2023-10-20T08:12:23.321Z"
      },
      {
        "duration": 41444,
        "start_time": "2023-10-20T08:12:38.344Z"
      },
      {
        "duration": 5,
        "start_time": "2023-10-20T08:13:19.790Z"
      },
      {
        "duration": 18191,
        "start_time": "2023-10-20T08:15:43.267Z"
      },
      {
        "duration": 4,
        "start_time": "2023-10-20T08:16:01.460Z"
      },
      {
        "duration": 20,
        "start_time": "2023-10-20T08:16:29.157Z"
      },
      {
        "duration": 6,
        "start_time": "2023-10-20T08:16:30.817Z"
      },
      {
        "duration": 371,
        "start_time": "2023-10-20T08:17:20.787Z"
      },
      {
        "duration": 4,
        "start_time": "2023-10-20T08:17:21.841Z"
      },
      {
        "duration": 15,
        "start_time": "2023-10-20T08:46:18.619Z"
      },
      {
        "duration": 5,
        "start_time": "2023-10-20T08:46:31.418Z"
      },
      {
        "duration": 5,
        "start_time": "2023-10-20T08:46:47.440Z"
      },
      {
        "duration": 3,
        "start_time": "2023-10-20T08:54:21.050Z"
      },
      {
        "duration": 4,
        "start_time": "2023-10-20T08:54:23.256Z"
      },
      {
        "duration": 11,
        "start_time": "2023-10-20T08:54:51.425Z"
      },
      {
        "duration": 8,
        "start_time": "2023-10-20T09:08:10.091Z"
      },
      {
        "duration": 52,
        "start_time": "2023-10-20T09:08:21.126Z"
      },
      {
        "duration": 1948,
        "start_time": "2023-10-20T15:10:21.335Z"
      },
      {
        "duration": 84,
        "start_time": "2023-10-20T15:10:23.285Z"
      },
      {
        "duration": 17,
        "start_time": "2023-10-20T15:10:23.371Z"
      },
      {
        "duration": 12,
        "start_time": "2023-10-20T15:10:23.390Z"
      },
      {
        "duration": 53,
        "start_time": "2023-10-20T15:10:23.404Z"
      },
      {
        "duration": 87,
        "start_time": "2023-10-20T15:10:23.458Z"
      },
      {
        "duration": 15,
        "start_time": "2023-10-20T15:10:23.547Z"
      },
      {
        "duration": 39,
        "start_time": "2023-10-20T15:10:23.563Z"
      },
      {
        "duration": 65,
        "start_time": "2023-10-20T15:10:23.603Z"
      },
      {
        "duration": 17,
        "start_time": "2023-10-20T15:10:23.670Z"
      },
      {
        "duration": 10,
        "start_time": "2023-10-20T15:10:23.689Z"
      },
      {
        "duration": 278,
        "start_time": "2023-10-20T15:10:23.700Z"
      },
      {
        "duration": 239,
        "start_time": "2023-10-20T15:10:23.979Z"
      },
      {
        "duration": 18,
        "start_time": "2023-10-20T15:10:24.220Z"
      },
      {
        "duration": 12,
        "start_time": "2023-10-20T15:10:24.240Z"
      },
      {
        "duration": 5,
        "start_time": "2023-10-20T15:10:24.254Z"
      },
      {
        "duration": 5,
        "start_time": "2023-10-20T15:10:24.261Z"
      },
      {
        "duration": 15,
        "start_time": "2023-10-20T15:10:24.268Z"
      },
      {
        "duration": 7,
        "start_time": "2023-10-20T15:10:24.285Z"
      },
      {
        "duration": 36,
        "start_time": "2023-10-20T15:10:24.293Z"
      },
      {
        "duration": 5,
        "start_time": "2023-10-20T15:10:24.333Z"
      },
      {
        "duration": 7,
        "start_time": "2023-10-20T15:10:24.339Z"
      },
      {
        "duration": 13,
        "start_time": "2023-10-20T15:10:24.347Z"
      },
      {
        "duration": 6,
        "start_time": "2023-10-20T15:10:24.361Z"
      },
      {
        "duration": 4,
        "start_time": "2023-10-20T15:10:24.369Z"
      },
      {
        "duration": 6,
        "start_time": "2023-10-20T15:10:24.375Z"
      },
      {
        "duration": 6,
        "start_time": "2023-10-20T15:10:24.383Z"
      },
      {
        "duration": 6,
        "start_time": "2023-10-20T15:10:24.393Z"
      },
      {
        "duration": 7,
        "start_time": "2023-10-20T15:10:24.400Z"
      },
      {
        "duration": 36,
        "start_time": "2023-10-20T15:10:24.408Z"
      },
      {
        "duration": 12,
        "start_time": "2023-10-20T15:10:24.446Z"
      },
      {
        "duration": 14,
        "start_time": "2023-10-20T15:10:24.460Z"
      },
      {
        "duration": 13,
        "start_time": "2023-10-20T15:10:24.475Z"
      },
      {
        "duration": 26,
        "start_time": "2023-10-20T15:10:24.490Z"
      },
      {
        "duration": 28,
        "start_time": "2023-10-20T15:10:24.518Z"
      },
      {
        "duration": 20,
        "start_time": "2023-10-20T15:10:24.547Z"
      },
      {
        "duration": 13,
        "start_time": "2023-10-20T15:10:24.569Z"
      },
      {
        "duration": 18,
        "start_time": "2023-10-20T15:10:24.584Z"
      },
      {
        "duration": 16,
        "start_time": "2023-10-20T15:10:24.604Z"
      },
      {
        "duration": 32,
        "start_time": "2023-10-20T15:10:24.622Z"
      },
      {
        "duration": 13,
        "start_time": "2023-10-20T15:10:24.656Z"
      },
      {
        "duration": 13,
        "start_time": "2023-10-20T15:10:24.671Z"
      },
      {
        "duration": 10,
        "start_time": "2023-10-20T15:10:24.686Z"
      },
      {
        "duration": 709,
        "start_time": "2023-10-20T15:10:24.698Z"
      },
      {
        "duration": 4,
        "start_time": "2023-10-20T15:10:25.408Z"
      },
      {
        "duration": 7,
        "start_time": "2023-10-20T15:10:25.424Z"
      },
      {
        "duration": 30461,
        "start_time": "2023-10-20T15:10:25.437Z"
      },
      {
        "duration": 5,
        "start_time": "2023-10-20T15:10:55.901Z"
      },
      {
        "duration": 38,
        "start_time": "2023-10-20T15:10:55.908Z"
      },
      {
        "duration": 93,
        "start_time": "2023-10-20T15:10:55.948Z"
      },
      {
        "duration": 86,
        "start_time": "2023-10-20T15:10:56.044Z"
      },
      {
        "duration": 109,
        "start_time": "2023-10-20T15:10:56.132Z"
      },
      {
        "duration": 96,
        "start_time": "2023-10-20T15:10:56.244Z"
      },
      {
        "duration": 837,
        "start_time": "2023-10-20T15:10:56.347Z"
      },
      {
        "duration": 4,
        "start_time": "2023-10-20T15:10:57.186Z"
      },
      {
        "duration": 29848,
        "start_time": "2023-10-20T15:10:57.192Z"
      },
      {
        "duration": 4,
        "start_time": "2023-10-20T15:11:27.042Z"
      },
      {
        "duration": 46,
        "start_time": "2023-10-20T15:11:27.048Z"
      },
      {
        "duration": 74,
        "start_time": "2023-10-20T15:11:27.095Z"
      },
      {
        "duration": 36,
        "start_time": "2023-10-20T15:11:27.171Z"
      },
      {
        "duration": 40,
        "start_time": "2023-10-20T15:11:27.208Z"
      },
      {
        "duration": 78,
        "start_time": "2023-10-20T15:11:27.250Z"
      },
      {
        "duration": 13,
        "start_time": "2023-10-20T15:11:27.331Z"
      },
      {
        "duration": 857,
        "start_time": "2023-10-20T15:11:27.430Z"
      },
      {
        "duration": 4,
        "start_time": "2023-10-20T15:11:28.289Z"
      },
      {
        "duration": 39683,
        "start_time": "2023-10-20T15:11:28.295Z"
      },
      {
        "duration": 4,
        "start_time": "2023-10-20T15:12:07.979Z"
      },
      {
        "duration": 150,
        "start_time": "2023-10-20T15:12:07.985Z"
      },
      {
        "duration": 197,
        "start_time": "2023-10-20T15:12:08.136Z"
      },
      {
        "duration": 53,
        "start_time": "2023-10-20T15:12:08.335Z"
      },
      {
        "duration": 39,
        "start_time": "2023-10-20T15:12:08.389Z"
      },
      {
        "duration": 61,
        "start_time": "2023-10-20T15:12:08.430Z"
      },
      {
        "duration": 103,
        "start_time": "2023-10-20T15:12:08.530Z"
      },
      {
        "duration": 371,
        "start_time": "2023-10-20T15:12:08.635Z"
      },
      {
        "duration": 4,
        "start_time": "2023-10-20T15:12:09.008Z"
      },
      {
        "duration": 19261,
        "start_time": "2023-10-20T15:12:09.024Z"
      },
      {
        "duration": 4,
        "start_time": "2023-10-20T15:12:28.288Z"
      },
      {
        "duration": 16,
        "start_time": "2023-10-20T15:12:28.294Z"
      },
      {
        "duration": 59,
        "start_time": "2023-10-20T15:12:28.312Z"
      },
      {
        "duration": 7,
        "start_time": "2023-10-20T15:12:28.373Z"
      },
      {
        "duration": 18,
        "start_time": "2023-10-20T15:12:28.382Z"
      },
      {
        "duration": 186,
        "start_time": "2023-10-20T15:12:28.406Z"
      },
      {
        "duration": 113,
        "start_time": "2023-10-20T15:37:54.238Z"
      },
      {
        "duration": 24,
        "start_time": "2023-10-20T15:38:27.282Z"
      },
      {
        "duration": 180,
        "start_time": "2023-10-20T15:42:00.782Z"
      },
      {
        "duration": 3,
        "start_time": "2023-10-20T15:42:19.683Z"
      },
      {
        "duration": 52,
        "start_time": "2023-10-20T15:42:22.958Z"
      },
      {
        "duration": 5,
        "start_time": "2023-10-20T15:47:43.349Z"
      },
      {
        "duration": 5,
        "start_time": "2023-10-20T15:48:59.022Z"
      },
      {
        "duration": 53,
        "start_time": "2023-10-20T15:48:59.029Z"
      },
      {
        "duration": 13,
        "start_time": "2023-10-20T15:48:59.083Z"
      },
      {
        "duration": 16,
        "start_time": "2023-10-20T15:48:59.098Z"
      },
      {
        "duration": 32,
        "start_time": "2023-10-20T15:48:59.116Z"
      },
      {
        "duration": 41,
        "start_time": "2023-10-20T15:48:59.149Z"
      },
      {
        "duration": 44,
        "start_time": "2023-10-20T15:48:59.192Z"
      },
      {
        "duration": 4,
        "start_time": "2023-10-20T15:48:59.240Z"
      },
      {
        "duration": 22,
        "start_time": "2023-10-20T15:48:59.246Z"
      },
      {
        "duration": 11,
        "start_time": "2023-10-20T15:48:59.270Z"
      },
      {
        "duration": 9,
        "start_time": "2023-10-20T15:48:59.284Z"
      },
      {
        "duration": 281,
        "start_time": "2023-10-20T15:48:59.295Z"
      },
      {
        "duration": 246,
        "start_time": "2023-10-20T15:48:59.578Z"
      },
      {
        "duration": 18,
        "start_time": "2023-10-20T15:48:59.825Z"
      },
      {
        "duration": 33,
        "start_time": "2023-10-20T15:48:59.845Z"
      },
      {
        "duration": 4,
        "start_time": "2023-10-20T15:48:59.880Z"
      },
      {
        "duration": 8,
        "start_time": "2023-10-20T15:48:59.886Z"
      },
      {
        "duration": 15,
        "start_time": "2023-10-20T15:48:59.896Z"
      },
      {
        "duration": 6,
        "start_time": "2023-10-20T15:48:59.913Z"
      },
      {
        "duration": 15,
        "start_time": "2023-10-20T15:48:59.928Z"
      },
      {
        "duration": 2,
        "start_time": "2023-10-20T15:48:59.945Z"
      },
      {
        "duration": 6,
        "start_time": "2023-10-20T15:48:59.949Z"
      },
      {
        "duration": 7,
        "start_time": "2023-10-20T15:48:59.957Z"
      },
      {
        "duration": 4,
        "start_time": "2023-10-20T15:48:59.965Z"
      },
      {
        "duration": 5,
        "start_time": "2023-10-20T15:48:59.970Z"
      },
      {
        "duration": 4,
        "start_time": "2023-10-20T15:48:59.976Z"
      },
      {
        "duration": 5,
        "start_time": "2023-10-20T15:48:59.981Z"
      },
      {
        "duration": 7,
        "start_time": "2023-10-20T15:48:59.987Z"
      },
      {
        "duration": 12,
        "start_time": "2023-10-20T15:49:00.026Z"
      },
      {
        "duration": 24,
        "start_time": "2023-10-20T15:49:00.040Z"
      },
      {
        "duration": 41,
        "start_time": "2023-10-20T15:49:00.066Z"
      },
      {
        "duration": 121,
        "start_time": "2023-10-20T15:49:00.109Z"
      },
      {
        "duration": 32,
        "start_time": "2023-10-20T15:49:00.231Z"
      },
      {
        "duration": 72,
        "start_time": "2023-10-20T15:49:00.265Z"
      },
      {
        "duration": 67,
        "start_time": "2023-10-20T15:49:00.339Z"
      },
      {
        "duration": 41,
        "start_time": "2023-10-20T15:49:00.408Z"
      },
      {
        "duration": 37,
        "start_time": "2023-10-20T15:49:00.450Z"
      },
      {
        "duration": 28,
        "start_time": "2023-10-20T15:49:00.490Z"
      },
      {
        "duration": 40,
        "start_time": "2023-10-20T15:49:00.520Z"
      },
      {
        "duration": 60,
        "start_time": "2023-10-20T15:49:00.561Z"
      },
      {
        "duration": 50,
        "start_time": "2023-10-20T15:49:00.623Z"
      },
      {
        "duration": 35,
        "start_time": "2023-10-20T15:49:00.675Z"
      },
      {
        "duration": 41,
        "start_time": "2023-10-20T15:49:00.713Z"
      },
      {
        "duration": 885,
        "start_time": "2023-10-20T15:49:00.756Z"
      },
      {
        "duration": 4,
        "start_time": "2023-10-20T15:49:01.643Z"
      },
      {
        "duration": 73,
        "start_time": "2023-10-20T15:49:01.649Z"
      },
      {
        "duration": 31359,
        "start_time": "2023-10-20T15:49:01.734Z"
      },
      {
        "duration": 4,
        "start_time": "2023-10-20T15:49:33.095Z"
      },
      {
        "duration": 42,
        "start_time": "2023-10-20T15:49:33.101Z"
      },
      {
        "duration": 100,
        "start_time": "2023-10-20T15:49:33.145Z"
      },
      {
        "duration": 9,
        "start_time": "2023-10-20T15:49:33.328Z"
      },
      {
        "duration": 182,
        "start_time": "2023-10-20T15:49:33.342Z"
      },
      {
        "duration": 14,
        "start_time": "2023-10-20T15:49:33.526Z"
      },
      {
        "duration": 823,
        "start_time": "2023-10-20T15:49:33.546Z"
      },
      {
        "duration": 4,
        "start_time": "2023-10-20T15:49:34.371Z"
      },
      {
        "duration": 31465,
        "start_time": "2023-10-20T15:49:34.376Z"
      },
      {
        "duration": 6,
        "start_time": "2023-10-20T15:50:05.843Z"
      },
      {
        "duration": 14,
        "start_time": "2023-10-20T15:50:05.851Z"
      },
      {
        "duration": 18,
        "start_time": "2023-10-20T15:50:05.868Z"
      },
      {
        "duration": 6,
        "start_time": "2023-10-20T15:50:05.889Z"
      },
      {
        "duration": 10,
        "start_time": "2023-10-20T15:50:05.897Z"
      },
      {
        "duration": 99,
        "start_time": "2023-10-20T15:50:05.928Z"
      },
      {
        "duration": 10,
        "start_time": "2023-10-20T15:50:06.029Z"
      },
      {
        "duration": 978,
        "start_time": "2023-10-20T15:50:06.042Z"
      },
      {
        "duration": 15,
        "start_time": "2023-10-20T15:50:07.022Z"
      },
      {
        "duration": 40908,
        "start_time": "2023-10-20T15:50:07.039Z"
      },
      {
        "duration": 4,
        "start_time": "2023-10-20T15:50:47.948Z"
      },
      {
        "duration": 37,
        "start_time": "2023-10-20T15:50:47.954Z"
      },
      {
        "duration": 55,
        "start_time": "2023-10-20T15:50:47.993Z"
      },
      {
        "duration": 38,
        "start_time": "2023-10-20T15:50:48.050Z"
      },
      {
        "duration": 31,
        "start_time": "2023-10-20T15:50:48.089Z"
      },
      {
        "duration": 62,
        "start_time": "2023-10-20T15:50:48.122Z"
      },
      {
        "duration": 45,
        "start_time": "2023-10-20T15:50:48.186Z"
      },
      {
        "duration": 441,
        "start_time": "2023-10-20T15:50:48.233Z"
      },
      {
        "duration": 4,
        "start_time": "2023-10-20T15:50:48.676Z"
      },
      {
        "duration": 19568,
        "start_time": "2023-10-20T15:50:48.681Z"
      },
      {
        "duration": 4,
        "start_time": "2023-10-20T15:51:08.251Z"
      },
      {
        "duration": 6,
        "start_time": "2023-10-20T15:51:08.257Z"
      },
      {
        "duration": 8,
        "start_time": "2023-10-20T15:51:08.265Z"
      },
      {
        "duration": 7,
        "start_time": "2023-10-20T15:51:08.275Z"
      },
      {
        "duration": 77,
        "start_time": "2023-10-20T15:51:08.283Z"
      },
      {
        "duration": 4,
        "start_time": "2023-10-20T15:51:08.362Z"
      },
      {
        "duration": 11,
        "start_time": "2023-10-20T15:51:08.371Z"
      },
      {
        "duration": 179,
        "start_time": "2023-10-20T15:51:08.383Z"
      },
      {
        "duration": 5,
        "start_time": "2023-10-20T15:52:50.456Z"
      },
      {
        "duration": 47,
        "start_time": "2023-10-20T15:53:00.958Z"
      },
      {
        "duration": 5,
        "start_time": "2023-10-20T15:53:36.848Z"
      },
      {
        "duration": 6,
        "start_time": "2023-10-20T15:55:17.142Z"
      },
      {
        "duration": 45,
        "start_time": "2023-10-20T15:55:40.035Z"
      },
      {
        "duration": 37,
        "start_time": "2023-10-20T15:58:01.171Z"
      },
      {
        "duration": 21,
        "start_time": "2023-10-20T16:00:34.516Z"
      },
      {
        "duration": 7,
        "start_time": "2023-10-20T16:01:15.991Z"
      },
      {
        "duration": 31,
        "start_time": "2023-10-20T16:01:22.279Z"
      },
      {
        "duration": 56,
        "start_time": "2023-10-20T16:04:37.946Z"
      },
      {
        "duration": 50,
        "start_time": "2023-10-20T16:05:08.455Z"
      },
      {
        "duration": 12,
        "start_time": "2023-10-20T16:05:32.439Z"
      },
      {
        "duration": 6,
        "start_time": "2023-10-20T16:06:51.505Z"
      },
      {
        "duration": 69,
        "start_time": "2023-10-20T16:07:00.187Z"
      },
      {
        "duration": 14,
        "start_time": "2023-10-20T16:09:00.569Z"
      },
      {
        "duration": 4,
        "start_time": "2023-10-20T16:11:44.994Z"
      },
      {
        "duration": 11,
        "start_time": "2023-10-20T16:11:58.866Z"
      },
      {
        "duration": 6519,
        "start_time": "2023-10-21T13:16:09.753Z"
      },
      {
        "duration": 468,
        "start_time": "2023-10-21T13:16:16.279Z"
      },
      {
        "duration": 104,
        "start_time": "2023-10-21T13:16:16.753Z"
      },
      {
        "duration": 191,
        "start_time": "2023-10-21T13:16:16.866Z"
      },
      {
        "duration": 204,
        "start_time": "2023-10-21T13:16:17.072Z"
      },
      {
        "duration": 201,
        "start_time": "2023-10-21T13:16:17.278Z"
      },
      {
        "duration": 17,
        "start_time": "2023-10-21T13:16:17.547Z"
      },
      {
        "duration": 83,
        "start_time": "2023-10-21T13:16:17.577Z"
      },
      {
        "duration": 101,
        "start_time": "2023-10-21T13:16:17.663Z"
      },
      {
        "duration": 103,
        "start_time": "2023-10-21T13:16:17.769Z"
      },
      {
        "duration": 102,
        "start_time": "2023-10-21T13:16:17.878Z"
      },
      {
        "duration": 1366,
        "start_time": "2023-10-21T13:16:17.986Z"
      },
      {
        "duration": 1803,
        "start_time": "2023-10-21T13:16:19.354Z"
      },
      {
        "duration": 98,
        "start_time": "2023-10-21T13:16:21.189Z"
      },
      {
        "duration": 106,
        "start_time": "2023-10-21T13:16:21.289Z"
      },
      {
        "duration": 62,
        "start_time": "2023-10-21T13:16:21.399Z"
      },
      {
        "duration": 5,
        "start_time": "2023-10-21T13:16:21.479Z"
      },
      {
        "duration": 97,
        "start_time": "2023-10-21T13:16:21.487Z"
      },
      {
        "duration": 14,
        "start_time": "2023-10-21T13:16:21.657Z"
      },
      {
        "duration": 178,
        "start_time": "2023-10-21T13:16:21.674Z"
      },
      {
        "duration": 23,
        "start_time": "2023-10-21T13:16:21.854Z"
      },
      {
        "duration": 10,
        "start_time": "2023-10-21T13:16:21.879Z"
      },
      {
        "duration": 75,
        "start_time": "2023-10-21T13:16:21.890Z"
      },
      {
        "duration": 13,
        "start_time": "2023-10-21T13:16:21.967Z"
      },
      {
        "duration": 5,
        "start_time": "2023-10-21T13:16:22.053Z"
      },
      {
        "duration": 10,
        "start_time": "2023-10-21T13:16:22.064Z"
      },
      {
        "duration": 7,
        "start_time": "2023-10-21T13:16:22.077Z"
      },
      {
        "duration": 99,
        "start_time": "2023-10-21T13:16:22.096Z"
      },
      {
        "duration": 18,
        "start_time": "2023-10-21T13:16:22.255Z"
      },
      {
        "duration": 100,
        "start_time": "2023-10-21T13:16:22.280Z"
      },
      {
        "duration": 85,
        "start_time": "2023-10-21T13:16:22.383Z"
      },
      {
        "duration": 104,
        "start_time": "2023-10-21T13:16:22.476Z"
      },
      {
        "duration": 93,
        "start_time": "2023-10-21T13:16:22.588Z"
      },
      {
        "duration": 105,
        "start_time": "2023-10-21T13:16:22.684Z"
      },
      {
        "duration": 94,
        "start_time": "2023-10-21T13:16:22.860Z"
      },
      {
        "duration": 12,
        "start_time": "2023-10-21T13:16:22.961Z"
      },
      {
        "duration": 78,
        "start_time": "2023-10-21T13:16:22.977Z"
      },
      {
        "duration": 29,
        "start_time": "2023-10-21T13:16:23.058Z"
      },
      {
        "duration": 84,
        "start_time": "2023-10-21T13:16:23.091Z"
      },
      {
        "duration": 91,
        "start_time": "2023-10-21T13:16:23.177Z"
      },
      {
        "duration": 91,
        "start_time": "2023-10-21T13:16:23.275Z"
      },
      {
        "duration": 85,
        "start_time": "2023-10-21T13:16:23.374Z"
      },
      {
        "duration": 12,
        "start_time": "2023-10-21T13:16:23.464Z"
      },
      {
        "duration": 4015,
        "start_time": "2023-10-21T13:16:23.479Z"
      },
      {
        "duration": 16,
        "start_time": "2023-10-21T13:16:27.554Z"
      },
      {
        "duration": 19,
        "start_time": "2023-10-21T13:16:27.573Z"
      },
      {
        "duration": 180718,
        "start_time": "2023-10-21T13:16:27.649Z"
      },
      {
        "duration": 83,
        "start_time": "2023-10-21T13:19:28.379Z"
      },
      {
        "duration": 13,
        "start_time": "2023-10-21T13:19:28.477Z"
      },
      {
        "duration": 518,
        "start_time": "2023-10-21T13:19:28.563Z"
      },
      {
        "duration": 18,
        "start_time": "2023-10-21T13:19:29.154Z"
      },
      {
        "duration": 365,
        "start_time": "2023-10-21T13:19:29.187Z"
      },
      {
        "duration": 75,
        "start_time": "2023-10-21T13:19:29.584Z"
      },
      {
        "duration": 4299,
        "start_time": "2023-10-21T13:19:29.675Z"
      },
      {
        "duration": 78,
        "start_time": "2023-10-21T13:19:33.976Z"
      },
      {
        "duration": 186198,
        "start_time": "2023-10-21T13:19:34.071Z"
      },
      {
        "duration": 19,
        "start_time": "2023-10-21T13:22:40.351Z"
      },
      {
        "duration": 91,
        "start_time": "2023-10-21T13:22:40.376Z"
      },
      {
        "duration": 103,
        "start_time": "2023-10-21T13:22:40.547Z"
      },
      {
        "duration": 12,
        "start_time": "2023-10-21T13:22:40.659Z"
      },
      {
        "duration": 17,
        "start_time": "2023-10-21T13:22:40.755Z"
      },
      {
        "duration": 494,
        "start_time": "2023-10-21T13:22:40.774Z"
      },
      {
        "duration": 17,
        "start_time": "2023-10-21T13:22:41.348Z"
      },
      {
        "duration": 5200,
        "start_time": "2023-10-21T13:22:41.370Z"
      },
      {
        "duration": 12,
        "start_time": "2023-10-21T13:22:46.648Z"
      },
      {
        "duration": 232193,
        "start_time": "2023-10-21T13:22:46.667Z"
      },
      {
        "duration": 10,
        "start_time": "2023-10-21T13:26:38.862Z"
      },
      {
        "duration": 86,
        "start_time": "2023-10-21T13:26:38.874Z"
      },
      {
        "duration": 121,
        "start_time": "2023-10-21T13:26:38.962Z"
      },
      {
        "duration": 91,
        "start_time": "2023-10-21T13:26:39.161Z"
      },
      {
        "duration": 98,
        "start_time": "2023-10-21T13:26:39.258Z"
      },
      {
        "duration": 220,
        "start_time": "2023-10-21T13:26:39.358Z"
      },
      {
        "duration": 19,
        "start_time": "2023-10-21T13:26:39.655Z"
      },
      {
        "duration": 2082,
        "start_time": "2023-10-21T13:26:39.680Z"
      },
      {
        "duration": 19,
        "start_time": "2023-10-21T13:26:41.764Z"
      },
      {
        "duration": 115968,
        "start_time": "2023-10-21T13:26:41.787Z"
      },
      {
        "duration": 81,
        "start_time": "2023-10-21T13:28:37.765Z"
      },
      {
        "duration": 102,
        "start_time": "2023-10-21T13:28:37.857Z"
      },
      {
        "duration": 210,
        "start_time": "2023-10-21T13:28:37.962Z"
      },
      {
        "duration": 10,
        "start_time": "2023-10-21T13:28:38.176Z"
      },
      {
        "duration": 7,
        "start_time": "2023-10-21T13:28:38.253Z"
      },
      {
        "duration": 286,
        "start_time": "2023-10-21T13:28:38.262Z"
      },
      {
        "duration": 412,
        "start_time": "2023-10-21T13:28:38.552Z"
      },
      {
        "duration": 83,
        "start_time": "2023-10-21T13:28:38.974Z"
      },
      {
        "duration": 299,
        "start_time": "2023-10-21T13:28:39.065Z"
      },
      {
        "duration": 81,
        "start_time": "2023-10-21T13:28:39.376Z"
      },
      {
        "duration": 85,
        "start_time": "2023-10-21T13:28:39.463Z"
      },
      {
        "duration": 1100,
        "start_time": "2023-10-21T13:28:39.554Z"
      },
      {
        "duration": 997,
        "start_time": "2023-10-21T14:03:00.649Z"
      },
      {
        "duration": 198,
        "start_time": "2023-10-21T14:03:08.748Z"
      },
      {
        "duration": 104,
        "start_time": "2023-10-21T14:03:21.148Z"
      },
      {
        "duration": 199,
        "start_time": "2023-10-21T14:05:17.447Z"
      },
      {
        "duration": 109,
        "start_time": "2023-10-21T14:06:06.547Z"
      },
      {
        "duration": 506,
        "start_time": "2023-10-21T14:07:24.248Z"
      },
      {
        "duration": 1253,
        "start_time": "2023-10-21T19:02:07.845Z"
      },
      {
        "duration": 79,
        "start_time": "2023-10-21T19:02:09.099Z"
      },
      {
        "duration": 15,
        "start_time": "2023-10-21T19:02:09.179Z"
      },
      {
        "duration": 11,
        "start_time": "2023-10-21T19:02:09.196Z"
      },
      {
        "duration": 16,
        "start_time": "2023-10-21T19:02:09.208Z"
      },
      {
        "duration": 31,
        "start_time": "2023-10-21T19:02:09.226Z"
      },
      {
        "duration": 6,
        "start_time": "2023-10-21T19:02:09.258Z"
      },
      {
        "duration": 3,
        "start_time": "2023-10-21T19:02:09.266Z"
      },
      {
        "duration": 13,
        "start_time": "2023-10-21T19:02:09.271Z"
      },
      {
        "duration": 10,
        "start_time": "2023-10-21T19:02:09.286Z"
      },
      {
        "duration": 15,
        "start_time": "2023-10-21T19:02:09.297Z"
      },
      {
        "duration": 230,
        "start_time": "2023-10-21T19:02:09.313Z"
      },
      {
        "duration": 200,
        "start_time": "2023-10-21T19:02:09.544Z"
      },
      {
        "duration": 7,
        "start_time": "2023-10-21T19:02:09.746Z"
      },
      {
        "duration": 17,
        "start_time": "2023-10-21T19:02:09.754Z"
      },
      {
        "duration": 7,
        "start_time": "2023-10-21T19:02:09.773Z"
      },
      {
        "duration": 8,
        "start_time": "2023-10-21T19:02:09.781Z"
      },
      {
        "duration": 15,
        "start_time": "2023-10-21T19:02:09.790Z"
      },
      {
        "duration": 7,
        "start_time": "2023-10-21T19:02:09.806Z"
      },
      {
        "duration": 14,
        "start_time": "2023-10-21T19:02:09.814Z"
      },
      {
        "duration": 11,
        "start_time": "2023-10-21T19:02:09.829Z"
      },
      {
        "duration": 7,
        "start_time": "2023-10-21T19:02:09.841Z"
      },
      {
        "duration": 8,
        "start_time": "2023-10-21T19:02:09.849Z"
      },
      {
        "duration": 13,
        "start_time": "2023-10-21T19:02:09.858Z"
      },
      {
        "duration": 5,
        "start_time": "2023-10-21T19:02:09.872Z"
      },
      {
        "duration": 3,
        "start_time": "2023-10-21T19:02:09.878Z"
      },
      {
        "duration": 3,
        "start_time": "2023-10-21T19:02:09.882Z"
      },
      {
        "duration": 6,
        "start_time": "2023-10-21T19:02:09.889Z"
      },
      {
        "duration": 2,
        "start_time": "2023-10-21T19:02:09.896Z"
      },
      {
        "duration": 15,
        "start_time": "2023-10-21T19:02:09.900Z"
      },
      {
        "duration": 26,
        "start_time": "2023-10-21T19:02:09.916Z"
      },
      {
        "duration": 9,
        "start_time": "2023-10-21T19:02:09.943Z"
      },
      {
        "duration": 19,
        "start_time": "2023-10-21T19:02:09.953Z"
      },
      {
        "duration": 16,
        "start_time": "2023-10-21T19:02:09.973Z"
      },
      {
        "duration": 11,
        "start_time": "2023-10-21T19:02:09.990Z"
      },
      {
        "duration": 17,
        "start_time": "2023-10-21T19:02:10.002Z"
      },
      {
        "duration": 18,
        "start_time": "2023-10-21T19:02:10.021Z"
      },
      {
        "duration": 7,
        "start_time": "2023-10-21T19:02:10.040Z"
      },
      {
        "duration": 33,
        "start_time": "2023-10-21T19:02:10.048Z"
      },
      {
        "duration": 23,
        "start_time": "2023-10-21T19:02:10.083Z"
      },
      {
        "duration": 10,
        "start_time": "2023-10-21T19:02:10.107Z"
      },
      {
        "duration": 11,
        "start_time": "2023-10-21T19:02:10.118Z"
      },
      {
        "duration": 6,
        "start_time": "2023-10-21T19:02:10.131Z"
      },
      {
        "duration": 736,
        "start_time": "2023-10-21T19:02:10.138Z"
      },
      {
        "duration": 4,
        "start_time": "2023-10-21T19:02:10.876Z"
      },
      {
        "duration": 6,
        "start_time": "2023-10-21T19:02:10.882Z"
      },
      {
        "duration": 28910,
        "start_time": "2023-10-21T19:02:10.889Z"
      },
      {
        "duration": 4,
        "start_time": "2023-10-21T19:02:39.800Z"
      },
      {
        "duration": 5,
        "start_time": "2023-10-21T19:02:39.805Z"
      },
      {
        "duration": 36,
        "start_time": "2023-10-21T19:02:39.811Z"
      },
      {
        "duration": 92,
        "start_time": "2023-10-21T19:02:39.849Z"
      },
      {
        "duration": 112,
        "start_time": "2023-10-21T19:02:39.943Z"
      },
      {
        "duration": 83,
        "start_time": "2023-10-21T19:02:40.057Z"
      },
      {
        "duration": 805,
        "start_time": "2023-10-21T19:02:40.141Z"
      },
      {
        "duration": 4,
        "start_time": "2023-10-21T19:02:40.947Z"
      },
      {
        "duration": 1619,
        "start_time": "2023-10-22T09:42:26.940Z"
      },
      {
        "duration": 81,
        "start_time": "2023-10-22T09:42:28.561Z"
      },
      {
        "duration": 16,
        "start_time": "2023-10-22T09:42:28.643Z"
      },
      {
        "duration": 41,
        "start_time": "2023-10-22T09:42:28.661Z"
      },
      {
        "duration": 39,
        "start_time": "2023-10-22T09:42:28.703Z"
      },
      {
        "duration": 74,
        "start_time": "2023-10-22T09:42:28.744Z"
      },
      {
        "duration": 7,
        "start_time": "2023-10-22T09:42:28.819Z"
      },
      {
        "duration": 17,
        "start_time": "2023-10-22T09:42:28.827Z"
      },
      {
        "duration": 30,
        "start_time": "2023-10-22T09:42:28.846Z"
      },
      {
        "duration": 27,
        "start_time": "2023-10-22T09:42:28.879Z"
      },
      {
        "duration": 46,
        "start_time": "2023-10-22T09:42:28.908Z"
      },
      {
        "duration": 295,
        "start_time": "2023-10-22T09:42:28.956Z"
      },
      {
        "duration": 226,
        "start_time": "2023-10-22T09:42:29.253Z"
      },
      {
        "duration": 7,
        "start_time": "2023-10-22T09:42:29.481Z"
      },
      {
        "duration": 49,
        "start_time": "2023-10-22T09:42:29.490Z"
      },
      {
        "duration": 44,
        "start_time": "2023-10-22T09:42:29.541Z"
      },
      {
        "duration": 29,
        "start_time": "2023-10-22T09:42:29.587Z"
      },
      {
        "duration": 52,
        "start_time": "2023-10-22T09:42:29.618Z"
      },
      {
        "duration": 39,
        "start_time": "2023-10-22T09:42:29.672Z"
      },
      {
        "duration": 37,
        "start_time": "2023-10-22T09:42:29.713Z"
      },
      {
        "duration": 49,
        "start_time": "2023-10-22T09:42:29.752Z"
      },
      {
        "duration": 41,
        "start_time": "2023-10-22T09:42:29.803Z"
      },
      {
        "duration": 69,
        "start_time": "2023-10-22T09:42:29.846Z"
      },
      {
        "duration": 28,
        "start_time": "2023-10-22T09:42:29.916Z"
      },
      {
        "duration": 34,
        "start_time": "2023-10-22T09:42:29.946Z"
      },
      {
        "duration": 38,
        "start_time": "2023-10-22T09:42:29.982Z"
      },
      {
        "duration": 76,
        "start_time": "2023-10-22T09:42:30.022Z"
      },
      {
        "duration": 54,
        "start_time": "2023-10-22T09:42:30.102Z"
      },
      {
        "duration": 37,
        "start_time": "2023-10-22T09:42:30.157Z"
      },
      {
        "duration": 45,
        "start_time": "2023-10-22T09:42:30.196Z"
      },
      {
        "duration": 39,
        "start_time": "2023-10-22T09:42:30.243Z"
      },
      {
        "duration": 63,
        "start_time": "2023-10-22T09:42:30.284Z"
      },
      {
        "duration": 63,
        "start_time": "2023-10-22T09:42:30.349Z"
      },
      {
        "duration": 59,
        "start_time": "2023-10-22T09:42:30.414Z"
      },
      {
        "duration": 52,
        "start_time": "2023-10-22T09:42:30.474Z"
      },
      {
        "duration": 131,
        "start_time": "2023-10-22T09:42:30.528Z"
      },
      {
        "duration": 44,
        "start_time": "2023-10-22T09:42:30.660Z"
      },
      {
        "duration": 54,
        "start_time": "2023-10-22T09:42:30.706Z"
      },
      {
        "duration": 64,
        "start_time": "2023-10-22T09:42:30.762Z"
      },
      {
        "duration": 64,
        "start_time": "2023-10-22T09:42:30.827Z"
      },
      {
        "duration": 66,
        "start_time": "2023-10-22T09:42:30.893Z"
      },
      {
        "duration": 42,
        "start_time": "2023-10-22T09:42:30.961Z"
      },
      {
        "duration": 44,
        "start_time": "2023-10-22T09:42:31.005Z"
      },
      {
        "duration": 701,
        "start_time": "2023-10-22T09:42:31.051Z"
      },
      {
        "duration": 3,
        "start_time": "2023-10-22T09:42:31.754Z"
      },
      {
        "duration": 46,
        "start_time": "2023-10-22T09:42:31.759Z"
      },
      {
        "duration": 28252,
        "start_time": "2023-10-22T09:42:31.807Z"
      },
      {
        "duration": 4,
        "start_time": "2023-10-22T09:43:00.061Z"
      },
      {
        "duration": 33,
        "start_time": "2023-10-22T09:43:00.066Z"
      },
      {
        "duration": 144,
        "start_time": "2023-10-22T09:43:00.100Z"
      },
      {
        "duration": 7,
        "start_time": "2023-10-22T09:43:00.247Z"
      },
      {
        "duration": 110,
        "start_time": "2023-10-22T09:43:00.257Z"
      },
      {
        "duration": 176,
        "start_time": "2023-10-22T09:43:00.369Z"
      },
      {
        "duration": 727,
        "start_time": "2023-10-22T09:43:00.547Z"
      },
      {
        "duration": 4,
        "start_time": "2023-10-22T09:43:01.276Z"
      },
      {
        "duration": 28774,
        "start_time": "2023-10-22T09:43:01.282Z"
      },
      {
        "duration": 4,
        "start_time": "2023-10-22T09:43:30.058Z"
      },
      {
        "duration": 48,
        "start_time": "2023-10-22T09:43:30.064Z"
      },
      {
        "duration": 44,
        "start_time": "2023-10-22T09:43:30.114Z"
      },
      {
        "duration": 36,
        "start_time": "2023-10-22T09:43:30.159Z"
      },
      {
        "duration": 48,
        "start_time": "2023-10-22T09:43:30.197Z"
      },
      {
        "duration": 150,
        "start_time": "2023-10-22T09:43:30.246Z"
      },
      {
        "duration": 162,
        "start_time": "2023-10-22T09:43:30.398Z"
      },
      {
        "duration": 879,
        "start_time": "2023-10-22T09:43:30.562Z"
      },
      {
        "duration": 4,
        "start_time": "2023-10-22T09:43:31.443Z"
      },
      {
        "duration": 37571,
        "start_time": "2023-10-22T09:43:31.448Z"
      },
      {
        "duration": 3,
        "start_time": "2023-10-22T09:44:09.021Z"
      },
      {
        "duration": 31,
        "start_time": "2023-10-22T09:44:09.025Z"
      },
      {
        "duration": 19,
        "start_time": "2023-10-22T09:44:09.058Z"
      },
      {
        "duration": 4,
        "start_time": "2023-10-22T09:44:09.079Z"
      },
      {
        "duration": 12,
        "start_time": "2023-10-22T09:44:09.085Z"
      },
      {
        "duration": 45,
        "start_time": "2023-10-22T09:44:09.099Z"
      },
      {
        "duration": 8,
        "start_time": "2023-10-22T09:44:09.146Z"
      },
      {
        "duration": 333,
        "start_time": "2023-10-22T09:44:09.244Z"
      },
      {
        "duration": 5,
        "start_time": "2023-10-22T09:44:09.578Z"
      },
      {
        "duration": 17937,
        "start_time": "2023-10-22T09:44:09.585Z"
      },
      {
        "duration": 4,
        "start_time": "2023-10-22T09:44:27.524Z"
      },
      {
        "duration": 22,
        "start_time": "2023-10-22T09:44:27.530Z"
      },
      {
        "duration": 43,
        "start_time": "2023-10-22T09:44:27.554Z"
      },
      {
        "duration": 22,
        "start_time": "2023-10-22T09:44:27.599Z"
      },
      {
        "duration": 19,
        "start_time": "2023-10-22T09:44:27.622Z"
      },
      {
        "duration": 18,
        "start_time": "2023-10-22T09:44:27.646Z"
      },
      {
        "duration": 42,
        "start_time": "2023-10-22T09:44:27.666Z"
      },
      {
        "duration": 50,
        "start_time": "2023-10-22T09:44:27.710Z"
      },
      {
        "duration": 33,
        "start_time": "2023-10-22T09:44:27.762Z"
      },
      {
        "duration": 63,
        "start_time": "2023-10-22T09:44:27.796Z"
      },
      {
        "duration": 13,
        "start_time": "2023-10-22T09:44:27.861Z"
      },
      {
        "duration": 19,
        "start_time": "2023-10-22T09:44:27.876Z"
      },
      {
        "duration": 200,
        "start_time": "2023-10-22T09:44:27.897Z"
      },
      {
        "duration": 6,
        "start_time": "2023-10-22T09:45:11.046Z"
      },
      {
        "duration": 19,
        "start_time": "2023-10-22T09:46:16.699Z"
      },
      {
        "duration": 29,
        "start_time": "2023-10-22T09:49:01.129Z"
      },
      {
        "duration": 115,
        "start_time": "2023-10-22T09:49:16.680Z"
      },
      {
        "duration": 5,
        "start_time": "2023-10-22T09:50:20.979Z"
      },
      {
        "duration": 12,
        "start_time": "2023-10-22T09:50:29.862Z"
      },
      {
        "duration": 10,
        "start_time": "2023-10-22T09:52:30.271Z"
      },
      {
        "duration": 128,
        "start_time": "2023-10-22T09:55:15.576Z"
      },
      {
        "duration": 17,
        "start_time": "2023-10-22T09:55:33.560Z"
      },
      {
        "duration": 4,
        "start_time": "2023-10-22T09:57:32.093Z"
      },
      {
        "duration": 23,
        "start_time": "2023-10-22T09:57:33.034Z"
      },
      {
        "duration": 18,
        "start_time": "2023-10-22T09:59:16.324Z"
      },
      {
        "duration": 17,
        "start_time": "2023-10-22T10:02:42.285Z"
      },
      {
        "duration": 65,
        "start_time": "2023-10-22T10:05:20.945Z"
      },
      {
        "duration": 18,
        "start_time": "2023-10-22T10:06:35.013Z"
      },
      {
        "duration": 4,
        "start_time": "2023-10-22T10:06:51.507Z"
      },
      {
        "duration": 47,
        "start_time": "2023-10-22T10:06:52.795Z"
      },
      {
        "duration": 12,
        "start_time": "2023-10-22T10:06:53.241Z"
      },
      {
        "duration": 12,
        "start_time": "2023-10-22T10:06:53.509Z"
      },
      {
        "duration": 20,
        "start_time": "2023-10-22T10:06:53.847Z"
      },
      {
        "duration": 40,
        "start_time": "2023-10-22T10:06:54.158Z"
      },
      {
        "duration": 10,
        "start_time": "2023-10-22T10:06:54.472Z"
      },
      {
        "duration": 5,
        "start_time": "2023-10-22T10:06:54.648Z"
      },
      {
        "duration": 12,
        "start_time": "2023-10-22T10:06:54.785Z"
      },
      {
        "duration": 11,
        "start_time": "2023-10-22T10:06:54.950Z"
      },
      {
        "duration": 10,
        "start_time": "2023-10-22T10:06:55.095Z"
      },
      {
        "duration": 237,
        "start_time": "2023-10-22T10:06:55.287Z"
      },
      {
        "duration": 230,
        "start_time": "2023-10-22T10:06:55.625Z"
      },
      {
        "duration": 9,
        "start_time": "2023-10-22T10:06:56.117Z"
      },
      {
        "duration": 12,
        "start_time": "2023-10-22T10:06:56.299Z"
      },
      {
        "duration": 5,
        "start_time": "2023-10-22T10:06:56.446Z"
      },
      {
        "duration": 3,
        "start_time": "2023-10-22T10:06:57.521Z"
      },
      {
        "duration": 12,
        "start_time": "2023-10-22T10:06:57.853Z"
      },
      {
        "duration": 5,
        "start_time": "2023-10-22T10:06:58.208Z"
      },
      {
        "duration": 11,
        "start_time": "2023-10-22T10:06:58.415Z"
      },
      {
        "duration": 4,
        "start_time": "2023-10-22T10:06:58.610Z"
      },
      {
        "duration": 4,
        "start_time": "2023-10-22T10:06:58.815Z"
      },
      {
        "duration": 6,
        "start_time": "2023-10-22T10:06:59.000Z"
      },
      {
        "duration": 5,
        "start_time": "2023-10-22T10:06:59.191Z"
      },
      {
        "duration": 3,
        "start_time": "2023-10-22T10:06:59.386Z"
      },
      {
        "duration": 4,
        "start_time": "2023-10-22T10:07:00.162Z"
      },
      {
        "duration": 3,
        "start_time": "2023-10-22T10:07:00.366Z"
      },
      {
        "duration": 6,
        "start_time": "2023-10-22T10:07:00.562Z"
      },
      {
        "duration": 3,
        "start_time": "2023-10-22T10:07:00.767Z"
      },
      {
        "duration": 12,
        "start_time": "2023-10-22T10:07:00.991Z"
      },
      {
        "duration": 12,
        "start_time": "2023-10-22T10:07:01.478Z"
      },
      {
        "duration": 9,
        "start_time": "2023-10-22T10:07:01.913Z"
      },
      {
        "duration": 12,
        "start_time": "2023-10-22T10:07:02.322Z"
      },
      {
        "duration": 9,
        "start_time": "2023-10-22T10:07:02.751Z"
      },
      {
        "duration": 12,
        "start_time": "2023-10-22T10:07:03.099Z"
      },
      {
        "duration": 4,
        "start_time": "2023-10-22T10:07:03.448Z"
      },
      {
        "duration": 2,
        "start_time": "2023-10-22T10:07:04.874Z"
      },
      {
        "duration": 3,
        "start_time": "2023-10-22T10:07:05.058Z"
      },
      {
        "duration": 9,
        "start_time": "2023-10-22T10:07:05.226Z"
      },
      {
        "duration": 25,
        "start_time": "2023-10-22T10:07:05.367Z"
      },
      {
        "duration": 15,
        "start_time": "2023-10-22T10:07:05.550Z"
      },
      {
        "duration": 7,
        "start_time": "2023-10-22T10:07:06.575Z"
      },
      {
        "duration": 4,
        "start_time": "2023-10-22T10:07:06.921Z"
      },
      {
        "duration": 683,
        "start_time": "2023-10-22T10:07:07.104Z"
      },
      {
        "duration": 4,
        "start_time": "2023-10-22T10:07:07.789Z"
      },
      {
        "duration": 116,
        "start_time": "2023-10-22T10:07:07.794Z"
      },
      {
        "duration": 1408,
        "start_time": "2023-10-22T10:07:42.566Z"
      },
      {
        "duration": 41,
        "start_time": "2023-10-22T10:07:43.976Z"
      },
      {
        "duration": 21,
        "start_time": "2023-10-22T10:07:44.019Z"
      },
      {
        "duration": 13,
        "start_time": "2023-10-22T10:07:44.042Z"
      },
      {
        "duration": 21,
        "start_time": "2023-10-22T10:07:44.057Z"
      },
      {
        "duration": 39,
        "start_time": "2023-10-22T10:07:44.079Z"
      },
      {
        "duration": 24,
        "start_time": "2023-10-22T10:07:44.120Z"
      },
      {
        "duration": 4,
        "start_time": "2023-10-22T10:07:44.146Z"
      },
      {
        "duration": 16,
        "start_time": "2023-10-22T10:07:44.151Z"
      },
      {
        "duration": 13,
        "start_time": "2023-10-22T10:07:44.170Z"
      },
      {
        "duration": 9,
        "start_time": "2023-10-22T10:07:44.184Z"
      },
      {
        "duration": 318,
        "start_time": "2023-10-22T10:07:44.195Z"
      },
      {
        "duration": 263,
        "start_time": "2023-10-22T10:07:44.515Z"
      },
      {
        "duration": 7,
        "start_time": "2023-10-22T10:07:44.780Z"
      },
      {
        "duration": 21,
        "start_time": "2023-10-22T10:07:44.789Z"
      },
      {
        "duration": 4,
        "start_time": "2023-10-22T10:07:44.812Z"
      },
      {
        "duration": 7,
        "start_time": "2023-10-22T10:07:44.818Z"
      },
      {
        "duration": 19,
        "start_time": "2023-10-22T10:07:44.827Z"
      },
      {
        "duration": 10,
        "start_time": "2023-10-22T10:07:44.847Z"
      },
      {
        "duration": 13,
        "start_time": "2023-10-22T10:07:44.859Z"
      },
      {
        "duration": 5,
        "start_time": "2023-10-22T10:07:44.874Z"
      },
      {
        "duration": 5,
        "start_time": "2023-10-22T10:07:44.880Z"
      },
      {
        "duration": 10,
        "start_time": "2023-10-22T10:07:44.887Z"
      },
      {
        "duration": 9,
        "start_time": "2023-10-22T10:07:44.899Z"
      },
      {
        "duration": 11,
        "start_time": "2023-10-22T10:07:44.909Z"
      },
      {
        "duration": 6,
        "start_time": "2023-10-22T10:07:44.922Z"
      },
      {
        "duration": 14,
        "start_time": "2023-10-22T10:07:44.930Z"
      },
      {
        "duration": 13,
        "start_time": "2023-10-22T10:07:44.950Z"
      },
      {
        "duration": 8,
        "start_time": "2023-10-22T10:07:44.964Z"
      },
      {
        "duration": 22,
        "start_time": "2023-10-22T10:07:44.974Z"
      },
      {
        "duration": 18,
        "start_time": "2023-10-22T10:07:44.999Z"
      },
      {
        "duration": 54,
        "start_time": "2023-10-22T10:07:45.019Z"
      },
      {
        "duration": 29,
        "start_time": "2023-10-22T10:07:45.074Z"
      },
      {
        "duration": 25,
        "start_time": "2023-10-22T10:07:45.105Z"
      },
      {
        "duration": 15,
        "start_time": "2023-10-22T10:07:45.132Z"
      },
      {
        "duration": 15,
        "start_time": "2023-10-22T10:07:45.149Z"
      },
      {
        "duration": 40,
        "start_time": "2023-10-22T10:07:45.165Z"
      },
      {
        "duration": 10,
        "start_time": "2023-10-22T10:07:45.207Z"
      },
      {
        "duration": 11,
        "start_time": "2023-10-22T10:07:45.219Z"
      },
      {
        "duration": 32,
        "start_time": "2023-10-22T10:07:45.232Z"
      },
      {
        "duration": 17,
        "start_time": "2023-10-22T10:07:45.266Z"
      },
      {
        "duration": 7,
        "start_time": "2023-10-22T10:07:45.285Z"
      },
      {
        "duration": 5,
        "start_time": "2023-10-22T10:07:45.293Z"
      },
      {
        "duration": 668,
        "start_time": "2023-10-22T10:07:45.299Z"
      },
      {
        "duration": 3,
        "start_time": "2023-10-22T10:07:45.969Z"
      },
      {
        "duration": 7,
        "start_time": "2023-10-22T10:07:45.974Z"
      },
      {
        "duration": 28625,
        "start_time": "2023-10-22T10:07:45.983Z"
      },
      {
        "duration": 6,
        "start_time": "2023-10-22T10:08:14.610Z"
      },
      {
        "duration": 17,
        "start_time": "2023-10-22T10:08:14.617Z"
      },
      {
        "duration": 109,
        "start_time": "2023-10-22T10:08:14.636Z"
      },
      {
        "duration": 5,
        "start_time": "2023-10-22T10:08:14.747Z"
      },
      {
        "duration": 194,
        "start_time": "2023-10-22T10:08:14.754Z"
      },
      {
        "duration": 93,
        "start_time": "2023-10-22T10:08:14.951Z"
      },
      {
        "duration": 678,
        "start_time": "2023-10-22T10:08:15.045Z"
      },
      {
        "duration": 4,
        "start_time": "2023-10-22T10:08:15.725Z"
      },
      {
        "duration": 29226,
        "start_time": "2023-10-22T10:08:15.731Z"
      },
      {
        "duration": 4,
        "start_time": "2023-10-22T10:08:44.959Z"
      },
      {
        "duration": 18,
        "start_time": "2023-10-22T10:08:44.965Z"
      },
      {
        "duration": 52,
        "start_time": "2023-10-22T10:08:44.985Z"
      },
      {
        "duration": 38,
        "start_time": "2023-10-22T10:08:45.038Z"
      },
      {
        "duration": 37,
        "start_time": "2023-10-22T10:08:45.078Z"
      },
      {
        "duration": 227,
        "start_time": "2023-10-22T10:08:45.117Z"
      },
      {
        "duration": 3,
        "start_time": "2023-10-22T10:08:45.346Z"
      },
      {
        "duration": 846,
        "start_time": "2023-10-22T10:08:45.351Z"
      },
      {
        "duration": 5,
        "start_time": "2023-10-22T10:08:46.199Z"
      },
      {
        "duration": 38212,
        "start_time": "2023-10-22T10:08:46.205Z"
      },
      {
        "duration": 5,
        "start_time": "2023-10-22T10:09:24.421Z"
      },
      {
        "duration": 28,
        "start_time": "2023-10-22T10:09:24.428Z"
      },
      {
        "duration": 37,
        "start_time": "2023-10-22T10:09:24.458Z"
      },
      {
        "duration": 9,
        "start_time": "2023-10-22T10:09:24.497Z"
      },
      {
        "duration": 18,
        "start_time": "2023-10-22T10:09:24.508Z"
      },
      {
        "duration": 125,
        "start_time": "2023-10-22T10:09:24.528Z"
      },
      {
        "duration": 91,
        "start_time": "2023-10-22T10:09:24.655Z"
      },
      {
        "duration": 349,
        "start_time": "2023-10-22T10:09:24.747Z"
      },
      {
        "duration": 3,
        "start_time": "2023-10-22T10:09:25.098Z"
      },
      {
        "duration": 18402,
        "start_time": "2023-10-22T10:09:25.103Z"
      },
      {
        "duration": 5,
        "start_time": "2023-10-22T10:09:43.506Z"
      },
      {
        "duration": 27,
        "start_time": "2023-10-22T10:09:43.513Z"
      },
      {
        "duration": 82,
        "start_time": "2023-10-22T10:09:43.542Z"
      },
      {
        "duration": 112,
        "start_time": "2023-10-22T10:09:43.626Z"
      },
      {
        "duration": 0,
        "start_time": "2023-10-22T10:09:43.740Z"
      },
      {
        "duration": 0,
        "start_time": "2023-10-22T10:09:43.742Z"
      },
      {
        "duration": 1,
        "start_time": "2023-10-22T10:09:43.742Z"
      },
      {
        "duration": 0,
        "start_time": "2023-10-22T10:09:43.744Z"
      },
      {
        "duration": 0,
        "start_time": "2023-10-22T10:09:43.746Z"
      },
      {
        "duration": 0,
        "start_time": "2023-10-22T10:09:43.747Z"
      },
      {
        "duration": 155,
        "start_time": "2023-10-22T10:11:28.790Z"
      },
      {
        "duration": 14,
        "start_time": "2023-10-22T10:16:53.152Z"
      },
      {
        "duration": 14,
        "start_time": "2023-10-22T10:17:24.024Z"
      },
      {
        "duration": 18,
        "start_time": "2023-10-22T10:17:51.557Z"
      },
      {
        "duration": 22,
        "start_time": "2023-10-22T10:26:54.375Z"
      },
      {
        "duration": 14,
        "start_time": "2023-10-22T10:30:23.305Z"
      },
      {
        "duration": 15,
        "start_time": "2023-10-22T10:31:05.000Z"
      },
      {
        "duration": 25,
        "start_time": "2023-10-22T10:31:41.839Z"
      },
      {
        "duration": 17,
        "start_time": "2023-10-22T10:32:21.481Z"
      },
      {
        "duration": 13,
        "start_time": "2023-10-22T10:32:36.697Z"
      },
      {
        "duration": 15,
        "start_time": "2023-10-22T10:33:33.337Z"
      },
      {
        "duration": 14,
        "start_time": "2023-10-22T10:33:39.097Z"
      },
      {
        "duration": 30,
        "start_time": "2023-10-22T10:42:13.673Z"
      },
      {
        "duration": 14,
        "start_time": "2023-10-22T10:42:42.454Z"
      },
      {
        "duration": 17,
        "start_time": "2023-10-22T10:44:09.436Z"
      },
      {
        "duration": 18,
        "start_time": "2023-10-22T10:44:29.364Z"
      },
      {
        "duration": 15,
        "start_time": "2023-10-22T10:48:03.549Z"
      },
      {
        "duration": 15,
        "start_time": "2023-10-22T10:48:17.612Z"
      },
      {
        "duration": 15,
        "start_time": "2023-10-22T10:48:29.897Z"
      },
      {
        "duration": 17,
        "start_time": "2023-10-22T10:48:59.475Z"
      },
      {
        "duration": 18,
        "start_time": "2023-10-22T10:50:32.701Z"
      },
      {
        "duration": 18,
        "start_time": "2023-10-22T10:51:17.047Z"
      }
    ],
    "kernelspec": {
      "display_name": "Python 3 (ipykernel)",
      "language": "python",
      "name": "python3"
    },
    "language_info": {
      "codemirror_mode": {
        "name": "ipython",
        "version": 3
      },
      "file_extension": ".py",
      "mimetype": "text/x-python",
      "name": "python",
      "nbconvert_exporter": "python",
      "pygments_lexer": "ipython3",
      "version": "3.9.5"
    },
    "toc": {
      "base_numbering": 1,
      "nav_menu": {},
      "number_sections": true,
      "sideBar": true,
      "skip_h1_title": true,
      "title_cell": "Содержание",
      "title_sidebar": "Contents",
      "toc_cell": true,
      "toc_position": {
        "height": "calc(100% - 180px)",
        "left": "10px",
        "top": "150px",
        "width": "201.797px"
      },
      "toc_section_display": true,
      "toc_window_display": true
    },
    "colab": {
      "provenance": []
    }
  },
  "nbformat": 4,
  "nbformat_minor": 0
}