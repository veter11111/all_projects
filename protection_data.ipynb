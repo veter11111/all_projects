{
  "cells": [
    {
      "cell_type": "markdown",
      "metadata": {
        "id": "Lnv9UI1b58BI"
      },
      "source": [
        "# Защита персональных данных клиентов"
      ]
    },
    {
      "cell_type": "markdown",
      "metadata": {
        "id": "RrK6QRmN58BJ"
      },
      "source": [
        "Необходимо защитить данные клиентов страховой компании «Хоть потоп».\n",
        "Цель проекта - разработка такого метода преобразования данных, чтобы по ним было сложно восстановить персональную информацию.\n",
        "\n",
        "Данные нужно защитить таким образом, чтобы при преобразовании качество моделей машинного обучения не ухудшилось. Подбирать наилучшую модель не требуется.\n",
        "\n",
        "Описание данных:\n",
        "\n",
        "Признаки: пол, возраст и зарплата застрахованного, количество членов его семьи.\n",
        "\n",
        "Целевой признак: количество страховых выплат клиенту за последние 5 лет.\n",
        "\n",
        "Шаги при выполнении проекта:\n",
        "\n",
        "Загрузите и изучите данные.\n",
        "\n",
        "Ответьте на вопрос и обоснуйте решение.\n",
        " Признаки умножают на обратимую матрицу. Изменится ли качество линейной регрессии?\n",
        " a. Изменится. Приведите примеры матриц.\n",
        " b. Не изменится. Укажите, как связаны параметры линейной регрессии в исходной задаче и в преобразованной.\n",
        "\n",
        "Предложите алгоритм преобразования данных для решения задачи. Обоснуйте, почему качество линейной регрессии не поменяется.\n",
        "\n",
        "Запрограммируйте этот алгоритм, применив матричные операции. Проверьте, что качество линейной регрессии из sklearn не отличается до и после преобразования. Примените метрику R2."
      ]
    },
    {
      "cell_type": "markdown",
      "metadata": {
        "id": "I2sR0Gvr58BJ"
      },
      "source": [
        "## Загрузка данных"
      ]
    },
    {
      "cell_type": "code",
      "execution_count": null,
      "metadata": {
        "id": "0EXuesw358BK"
      },
      "outputs": [],
      "source": [
        "import pandas as pd\n",
        "import numpy as np\n",
        "from sklearn.model_selection import train_test_split\n",
        "from sklearn.metrics import r2_score\n",
        "from sklearn.linear_model import LinearRegression"
      ]
    },
    {
      "cell_type": "code",
      "execution_count": null,
      "metadata": {
        "id": "tAfEvAlL58BL"
      },
      "outputs": [],
      "source": [
        "df = pd.read_csv('/datasets/insurance.csv')"
      ]
    },
    {
      "cell_type": "code",
      "execution_count": null,
      "metadata": {
        "id": "4TBkmiTc58BL",
        "outputId": "9c1fa287-7d8e-4dbd-8ea0-b16b0054e115"
      },
      "outputs": [
        {
          "data": {
            "text/html": [
              "<div>\n",
              "<style scoped>\n",
              "    .dataframe tbody tr th:only-of-type {\n",
              "        vertical-align: middle;\n",
              "    }\n",
              "\n",
              "    .dataframe tbody tr th {\n",
              "        vertical-align: top;\n",
              "    }\n",
              "\n",
              "    .dataframe thead th {\n",
              "        text-align: right;\n",
              "    }\n",
              "</style>\n",
              "<table border=\"1\" class=\"dataframe\">\n",
              "  <thead>\n",
              "    <tr style=\"text-align: right;\">\n",
              "      <th></th>\n",
              "      <th>Пол</th>\n",
              "      <th>Возраст</th>\n",
              "      <th>Зарплата</th>\n",
              "      <th>Члены семьи</th>\n",
              "      <th>Страховые выплаты</th>\n",
              "    </tr>\n",
              "  </thead>\n",
              "  <tbody>\n",
              "    <tr>\n",
              "      <th>0</th>\n",
              "      <td>1</td>\n",
              "      <td>41.0</td>\n",
              "      <td>49600.0</td>\n",
              "      <td>1</td>\n",
              "      <td>0</td>\n",
              "    </tr>\n",
              "    <tr>\n",
              "      <th>1</th>\n",
              "      <td>0</td>\n",
              "      <td>46.0</td>\n",
              "      <td>38000.0</td>\n",
              "      <td>1</td>\n",
              "      <td>1</td>\n",
              "    </tr>\n",
              "    <tr>\n",
              "      <th>2</th>\n",
              "      <td>0</td>\n",
              "      <td>29.0</td>\n",
              "      <td>21000.0</td>\n",
              "      <td>0</td>\n",
              "      <td>0</td>\n",
              "    </tr>\n",
              "    <tr>\n",
              "      <th>3</th>\n",
              "      <td>0</td>\n",
              "      <td>21.0</td>\n",
              "      <td>41700.0</td>\n",
              "      <td>2</td>\n",
              "      <td>0</td>\n",
              "    </tr>\n",
              "    <tr>\n",
              "      <th>4</th>\n",
              "      <td>1</td>\n",
              "      <td>28.0</td>\n",
              "      <td>26100.0</td>\n",
              "      <td>0</td>\n",
              "      <td>0</td>\n",
              "    </tr>\n",
              "  </tbody>\n",
              "</table>\n",
              "</div>"
            ],
            "text/plain": [
              "   Пол  Возраст  Зарплата  Члены семьи  Страховые выплаты\n",
              "0    1     41.0   49600.0            1                  0\n",
              "1    0     46.0   38000.0            1                  1\n",
              "2    0     29.0   21000.0            0                  0\n",
              "3    0     21.0   41700.0            2                  0\n",
              "4    1     28.0   26100.0            0                  0"
            ]
          },
          "execution_count": 3,
          "metadata": {},
          "output_type": "execute_result"
        }
      ],
      "source": [
        "df.head()"
      ]
    },
    {
      "cell_type": "code",
      "execution_count": null,
      "metadata": {
        "id": "vR2IYTpk58BM",
        "outputId": "80b3aba4-f593-4e69-8906-664f2288b507"
      },
      "outputs": [
        {
          "name": "stdout",
          "output_type": "stream",
          "text": [
            "<class 'pandas.core.frame.DataFrame'>\n",
            "RangeIndex: 5000 entries, 0 to 4999\n",
            "Data columns (total 5 columns):\n",
            " #   Column             Non-Null Count  Dtype  \n",
            "---  ------             --------------  -----  \n",
            " 0   Пол                5000 non-null   int64  \n",
            " 1   Возраст            5000 non-null   float64\n",
            " 2   Зарплата           5000 non-null   float64\n",
            " 3   Члены семьи        5000 non-null   int64  \n",
            " 4   Страховые выплаты  5000 non-null   int64  \n",
            "dtypes: float64(2), int64(3)\n",
            "memory usage: 195.4 KB\n"
          ]
        }
      ],
      "source": [
        "df.info()"
      ]
    },
    {
      "cell_type": "code",
      "execution_count": null,
      "metadata": {
        "id": "zqpVR9MR58BN",
        "outputId": "983b8764-6e45-4a4c-cdc8-e4af2294432d"
      },
      "outputs": [
        {
          "data": {
            "text/html": [
              "<div>\n",
              "<style scoped>\n",
              "    .dataframe tbody tr th:only-of-type {\n",
              "        vertical-align: middle;\n",
              "    }\n",
              "\n",
              "    .dataframe tbody tr th {\n",
              "        vertical-align: top;\n",
              "    }\n",
              "\n",
              "    .dataframe thead th {\n",
              "        text-align: right;\n",
              "    }\n",
              "</style>\n",
              "<table border=\"1\" class=\"dataframe\">\n",
              "  <thead>\n",
              "    <tr style=\"text-align: right;\">\n",
              "      <th></th>\n",
              "      <th>Пол</th>\n",
              "      <th>Возраст</th>\n",
              "      <th>Зарплата</th>\n",
              "      <th>Члены семьи</th>\n",
              "      <th>Страховые выплаты</th>\n",
              "    </tr>\n",
              "  </thead>\n",
              "  <tbody>\n",
              "    <tr>\n",
              "      <th>count</th>\n",
              "      <td>5000.000000</td>\n",
              "      <td>5000.000000</td>\n",
              "      <td>5000.000000</td>\n",
              "      <td>5000.000000</td>\n",
              "      <td>5000.000000</td>\n",
              "    </tr>\n",
              "    <tr>\n",
              "      <th>mean</th>\n",
              "      <td>0.499000</td>\n",
              "      <td>30.952800</td>\n",
              "      <td>39916.360000</td>\n",
              "      <td>1.194200</td>\n",
              "      <td>0.148000</td>\n",
              "    </tr>\n",
              "    <tr>\n",
              "      <th>std</th>\n",
              "      <td>0.500049</td>\n",
              "      <td>8.440807</td>\n",
              "      <td>9900.083569</td>\n",
              "      <td>1.091387</td>\n",
              "      <td>0.463183</td>\n",
              "    </tr>\n",
              "    <tr>\n",
              "      <th>min</th>\n",
              "      <td>0.000000</td>\n",
              "      <td>18.000000</td>\n",
              "      <td>5300.000000</td>\n",
              "      <td>0.000000</td>\n",
              "      <td>0.000000</td>\n",
              "    </tr>\n",
              "    <tr>\n",
              "      <th>25%</th>\n",
              "      <td>0.000000</td>\n",
              "      <td>24.000000</td>\n",
              "      <td>33300.000000</td>\n",
              "      <td>0.000000</td>\n",
              "      <td>0.000000</td>\n",
              "    </tr>\n",
              "    <tr>\n",
              "      <th>50%</th>\n",
              "      <td>0.000000</td>\n",
              "      <td>30.000000</td>\n",
              "      <td>40200.000000</td>\n",
              "      <td>1.000000</td>\n",
              "      <td>0.000000</td>\n",
              "    </tr>\n",
              "    <tr>\n",
              "      <th>75%</th>\n",
              "      <td>1.000000</td>\n",
              "      <td>37.000000</td>\n",
              "      <td>46600.000000</td>\n",
              "      <td>2.000000</td>\n",
              "      <td>0.000000</td>\n",
              "    </tr>\n",
              "    <tr>\n",
              "      <th>max</th>\n",
              "      <td>1.000000</td>\n",
              "      <td>65.000000</td>\n",
              "      <td>79000.000000</td>\n",
              "      <td>6.000000</td>\n",
              "      <td>5.000000</td>\n",
              "    </tr>\n",
              "  </tbody>\n",
              "</table>\n",
              "</div>"
            ],
            "text/plain": [
              "               Пол      Возраст      Зарплата  Члены семьи  Страховые выплаты\n",
              "count  5000.000000  5000.000000   5000.000000  5000.000000        5000.000000\n",
              "mean      0.499000    30.952800  39916.360000     1.194200           0.148000\n",
              "std       0.500049     8.440807   9900.083569     1.091387           0.463183\n",
              "min       0.000000    18.000000   5300.000000     0.000000           0.000000\n",
              "25%       0.000000    24.000000  33300.000000     0.000000           0.000000\n",
              "50%       0.000000    30.000000  40200.000000     1.000000           0.000000\n",
              "75%       1.000000    37.000000  46600.000000     2.000000           0.000000\n",
              "max       1.000000    65.000000  79000.000000     6.000000           5.000000"
            ]
          },
          "execution_count": 5,
          "metadata": {},
          "output_type": "execute_result"
        }
      ],
      "source": [
        "df.describe()"
      ]
    },
    {
      "cell_type": "code",
      "execution_count": null,
      "metadata": {
        "id": "uerIAUvt58BN",
        "outputId": "52f0771b-d6e3-48d4-bbb8-edf6b189baea"
      },
      "outputs": [
        {
          "data": {
            "text/plain": [
              "array([0, 1, 2, 3, 5, 4])"
            ]
          },
          "execution_count": 6,
          "metadata": {},
          "output_type": "execute_result"
        }
      ],
      "source": [
        "df['Страховые выплаты'].unique()"
      ]
    },
    {
      "cell_type": "code",
      "execution_count": null,
      "metadata": {
        "id": "0D82r-9558BO",
        "outputId": "5b39c0d8-1050-4bff-bc4c-f96c1af8eae0"
      },
      "outputs": [
        {
          "data": {
            "image/png": "[encoded data removed]",
            "text/plain": [
              "<Figure size 1080x1080 with 25 Axes>"
            ]
          },
          "metadata": {
            "needs_background": "light"
          },
          "output_type": "display_data"
        }
      ],
      "source": [
        "pd.plotting.scatter_matrix(df, figsize=(15, 15));"
      ]
    },
    {
      "cell_type": "code",
      "execution_count": null,
      "metadata": {
        "id": "fqLbpUwH58BP",
        "outputId": "e24b910b-f2d7-4bfc-be71-e3e94292a566"
      },
      "outputs": [
        {
          "data": {
            "text/html": [
              "<div>\n",
              "<style scoped>\n",
              "    .dataframe tbody tr th:only-of-type {\n",
              "        vertical-align: middle;\n",
              "    }\n",
              "\n",
              "    .dataframe tbody tr th {\n",
              "        vertical-align: top;\n",
              "    }\n",
              "\n",
              "    .dataframe thead th {\n",
              "        text-align: right;\n",
              "    }\n",
              "</style>\n",
              "<table border=\"1\" class=\"dataframe\">\n",
              "  <thead>\n",
              "    <tr style=\"text-align: right;\">\n",
              "      <th></th>\n",
              "      <th>Пол</th>\n",
              "      <th>Возраст</th>\n",
              "      <th>Зарплата</th>\n",
              "      <th>Члены семьи</th>\n",
              "      <th>Страховые выплаты</th>\n",
              "    </tr>\n",
              "  </thead>\n",
              "  <tbody>\n",
              "    <tr>\n",
              "      <th>Пол</th>\n",
              "      <td>1.000000</td>\n",
              "      <td>0.002074</td>\n",
              "      <td>0.014910</td>\n",
              "      <td>-0.008991</td>\n",
              "      <td>0.010140</td>\n",
              "    </tr>\n",
              "    <tr>\n",
              "      <th>Возраст</th>\n",
              "      <td>0.002074</td>\n",
              "      <td>1.000000</td>\n",
              "      <td>-0.019093</td>\n",
              "      <td>-0.006692</td>\n",
              "      <td>0.651030</td>\n",
              "    </tr>\n",
              "    <tr>\n",
              "      <th>Зарплата</th>\n",
              "      <td>0.014910</td>\n",
              "      <td>-0.019093</td>\n",
              "      <td>1.000000</td>\n",
              "      <td>-0.030296</td>\n",
              "      <td>-0.014963</td>\n",
              "    </tr>\n",
              "    <tr>\n",
              "      <th>Члены семьи</th>\n",
              "      <td>-0.008991</td>\n",
              "      <td>-0.006692</td>\n",
              "      <td>-0.030296</td>\n",
              "      <td>1.000000</td>\n",
              "      <td>-0.036290</td>\n",
              "    </tr>\n",
              "    <tr>\n",
              "      <th>Страховые выплаты</th>\n",
              "      <td>0.010140</td>\n",
              "      <td>0.651030</td>\n",
              "      <td>-0.014963</td>\n",
              "      <td>-0.036290</td>\n",
              "      <td>1.000000</td>\n",
              "    </tr>\n",
              "  </tbody>\n",
              "</table>\n",
              "</div>"
            ],
            "text/plain": [
              "                        Пол   Возраст  Зарплата  Члены семьи  \\\n",
              "Пол                1.000000  0.002074  0.014910    -0.008991   \n",
              "Возраст            0.002074  1.000000 -0.019093    -0.006692   \n",
              "Зарплата           0.014910 -0.019093  1.000000    -0.030296   \n",
              "Члены семьи       -0.008991 -0.006692 -0.030296     1.000000   \n",
              "Страховые выплаты  0.010140  0.651030 -0.014963    -0.036290   \n",
              "\n",
              "                   Страховые выплаты  \n",
              "Пол                         0.010140  \n",
              "Возраст                     0.651030  \n",
              "Зарплата                   -0.014963  \n",
              "Члены семьи                -0.036290  \n",
              "Страховые выплаты           1.000000  "
            ]
          },
          "execution_count": 8,
          "metadata": {},
          "output_type": "execute_result"
        }
      ],
      "source": [
        "df.corr()"
      ]
    },
    {
      "cell_type": "markdown",
      "metadata": {
        "id": "mRdV1G1K58BP"
      },
      "source": [
        "Таблица с данными содержит 5 столбцов и 5000 строк. Пропуски в данных отсутствуют. Присутствует довольно высокая корреляция между страховыми выплатами и возрастом."
      ]
    },
    {
      "cell_type": "markdown",
      "metadata": {
        "id": "Zqwaw2bJ58BP"
      },
      "source": [
        "## Умножение матриц"
      ]
    },
    {
      "cell_type": "code",
      "execution_count": null,
      "metadata": {
        "id": "nlIdOHRm58BP"
      },
      "outputs": [],
      "source": [
        "features = df.drop('Страховые выплаты', axis=1)\n",
        "target = df['Страховые выплаты']"
      ]
    },
    {
      "cell_type": "markdown",
      "metadata": {
        "id": "60LjM11V58BQ"
      },
      "source": [
        "Обучаем модель на имеющихся данных"
      ]
    },
    {
      "cell_type": "code",
      "execution_count": null,
      "metadata": {
        "id": "_CasA4-r58BQ",
        "outputId": "4168dc3f-3776-4382-e919-ef3c2b25b1cb"
      },
      "outputs": [
        {
          "name": "stdout",
          "output_type": "stream",
          "text": [
            "R2: 0.4249455028666801\n"
          ]
        }
      ],
      "source": [
        "model = LinearRegression()\n",
        "model.fit(features, target)\n",
        "predictions = model.predict(features)\n",
        "print('R2:' , r2_score(target, predictions))"
      ]
    },
    {
      "cell_type": "markdown",
      "metadata": {
        "id": "Uu6oAXaq58BQ"
      },
      "source": [
        "Создаем модель, которая будет обучаться на признаках умноженных на обратимую матрицу"
      ]
    },
    {
      "cell_type": "markdown",
      "metadata": {
        "id": "ZEOcPq2Z58BQ"
      },
      "source": [
        "Обозначения:\n",
        "\n",
        "- $X$ — матрица признаков (нулевой столбец состоит из единиц)\n",
        "\n",
        "- $y$ — вектор целевого признака\n",
        "\n",
        "- $P$ — матрица, на которую умножаются признаки\n",
        "\n",
        "- $w$ — вектор весов линейной регрессии (нулевой элемент равен сдвигу)\n",
        "\n",
        "- $E$ — единичная матрица"
      ]
    },
    {
      "cell_type": "markdown",
      "metadata": {
        "id": "Z36dBZw358BQ"
      },
      "source": [
        "Предсказания:\n",
        "\n",
        "$$\n",
        "a = Xw\n",
        "$$\n",
        "\n",
        "Задача обучения:\n",
        "\n",
        "$$\n",
        "w = \\arg\\min_w MSE(Xw, y)\n",
        "$$\n",
        "\n",
        "Формула обучения:\n",
        "\n",
        "$$\n",
        "w = (X^T X)^{-1} X^T y\n",
        "$$"
      ]
    },
    {
      "cell_type": "code",
      "execution_count": null,
      "metadata": {
        "id": "ZdFpqe4358BR",
        "outputId": "bb5ffed0-f13d-48f9-b0e9-e0e19e5164b3"
      },
      "outputs": [
        {
          "name": "stdout",
          "output_type": "stream",
          "text": [
            "R2: 0.4249455028666844\n"
          ]
        }
      ],
      "source": [
        "class LinearRegression_new:\n",
        "    def fit(self, train_features, train_target):\n",
        "        self.P = np.random.normal(size=(4, 4))\n",
        "        invert = np.linalg.inv(self.P)\n",
        "        features_new = train_features.dot(self.P)\n",
        "        X = np.concatenate((np.ones((features_new.shape[0], 1)), features_new), axis=1)\n",
        "        y = train_target\n",
        "        w = np.linalg.inv(X.T.dot(X)).dot(X.T).dot(y)\n",
        "        self.w = w[1:]\n",
        "        self.w0 = w[0]\n",
        "    def predict(self, test_features):\n",
        "        return test_features.dot(self.P).dot(self.w) + self.w0\n",
        "model = LinearRegression_new()\n",
        "model.fit(features, target)\n",
        "predictions = model.predict(features)\n",
        "print('R2:' , r2_score(target, predictions))"
      ]
    },
    {
      "cell_type": "markdown",
      "metadata": {
        "id": "eK4ktCvE58BR"
      },
      "source": [
        "Показатели метрики R2 у модели, обученной на признаках умноженных на обратимую матрицу, практически полностью совпадают с R2 модели, обученных на не измененных признаках."
      ]
    },
    {
      "cell_type": "markdown",
      "metadata": {
        "id": "Q7XU6DUC58BR"
      },
      "source": [
        "**Ответ:** качество линейной регрессии при умножении признаков на обратимую матрицу не изменится.\n",
        "\n",
        "**Обоснование:**"
      ]
    },
    {
      "cell_type": "markdown",
      "metadata": {
        "id": "kpsw7SmR58BR"
      },
      "source": [
        "докажем, что предсказания у двух моделей совпадают:\n",
        "\n",
        "расчитаем вектор весов ($w_p$) преобразованной линейной регрессии\n",
        "$$\n",
        "w_p = ((XP)^T XP)^{-1} (XP)^T y = (P^T X^TX P)^{-1} P^T X^T y = ((P^T X^TX) P)^{-1} P^T X^T y = P^{-1}(P^T X^TX)^{-1}P^T X^T y = P^{-1}(X^T X)^{-1}(P^T)^{-1}P^T X^T y = P^{-1}(X^T X)^{-1}EX^T y = P^{-1}(X^T X)^{-1}X^T y = P^{-1} w\n",
        "$$\n",
        "получили связь параметров линейной регрессии в исходной и преобразованной линейной регресии. Вектор весов линейной регрессии, преобразованой путем умножения признаков на обратимую матрицу $P$ равен вектору весов исходной линейной регресии умноженному на обратную матрицу $P^{-1}$ матрицы $P$\n",
        "$$\n",
        "w_p = P^{-1} w\n",
        "$$\n",
        "\n",
        "найдем предсказание $a_p$ преобразованной линейной регрессии:\n",
        "$$\n",
        "a_p = X P P^{-1} w = X w = a\n",
        "$$\n",
        "получили $a$ = $a_p$"
      ]
    },
    {
      "cell_type": "markdown",
      "metadata": {
        "id": "P5NgNyLb58BW"
      },
      "source": [
        "## Алгоритм преобразования"
      ]
    },
    {
      "cell_type": "markdown",
      "metadata": {
        "id": "rtzzH7dd58BW"
      },
      "source": [
        "**Алгоритм**\n",
        "1. Создаем матрицу первой строкой в которой будут средние значения признаков, во второй - медианные, в третьей - минимальные, в четвертой - максимальные.\n",
        "2. Проверяем созданную матрицу на обратимость.\n",
        "3. В случае, если матрица не обратимая генерируем новую случайную матрицу 4х4, и снова проверяем. Действия повторяются пока не будет найдена обратимая матрица.\n",
        "3. Умножаем признаки на полученную обратимую транспонированную матрицу.\n"
      ]
    },
    {
      "cell_type": "markdown",
      "metadata": {
        "id": "YhOh86pD58Bb"
      },
      "source": [
        "**Обоснование**\n",
        "\n",
        "Как было рассмотрено выше, при умножении признаков на обратимую матрицу качество модели не меняется, а после такого преобразования данных восстановить персональную информацию затруднительно."
      ]
    },
    {
      "cell_type": "markdown",
      "metadata": {
        "id": "aJuRO_co58Bc"
      },
      "source": [
        "## Проверка алгоритма"
      ]
    },
    {
      "cell_type": "markdown",
      "metadata": {
        "id": "kCHHlYqf58Bc"
      },
      "source": [
        "1. Создаем матрицу"
      ]
    },
    {
      "cell_type": "code",
      "execution_count": null,
      "metadata": {
        "id": "twGP3VPs58Bc",
        "outputId": "2c213070-56fc-41a6-81e9-18ceaa31b39a"
      },
      "outputs": [
        {
          "data": {
            "text/plain": [
              "array([[4.990000e-01, 3.095280e+01, 3.991636e+04, 1.194200e+00],\n",
              "       [0.000000e+00, 3.000000e+01, 4.020000e+04, 1.000000e+00],\n",
              "       [0.000000e+00, 1.800000e+01, 5.300000e+03, 0.000000e+00],\n",
              "       [1.000000e+00, 6.500000e+01, 7.900000e+04, 6.000000e+00]])"
            ]
          },
          "execution_count": 12,
          "metadata": {},
          "output_type": "execute_result"
        }
      ],
      "source": [
        "features_mean = np.array([features.mean().values, features.median().values,\n",
        "                          features.min().values, features.max().values])\n",
        "features_mean"
      ]
    },
    {
      "cell_type": "code",
      "execution_count": null,
      "metadata": {
        "id": "aGiE6rUv58Bc",
        "outputId": "d91ccaa1-fbf6-4e61-e49e-fccdfee62af1"
      },
      "outputs": [
        {
          "data": {
            "text/plain": [
              "-1032939.2200000009"
            ]
          },
          "execution_count": 13,
          "metadata": {},
          "output_type": "execute_result"
        }
      ],
      "source": [
        "det = np.linalg.det(features_mean)\n",
        "det"
      ]
    },
    {
      "cell_type": "code",
      "execution_count": null,
      "metadata": {
        "id": "BVqtvRy758Bd"
      },
      "outputs": [],
      "source": [
        "def func(features):\n",
        "    features_mean = np.array([features.mean().values, features.median().values,\n",
        "                          features.min().values, features.max().values])\n",
        "    det = np.linalg.det(features_mean)\n",
        "    while det == 0:\n",
        "        features_mean = np.random.normal(size=(4, 4))\n",
        "        det = np.linalg.det(features_mean)\n",
        "    return features_mean"
      ]
    },
    {
      "cell_type": "code",
      "execution_count": null,
      "metadata": {
        "id": "EYUgIH_B58Bd",
        "outputId": "4afa1854-9cae-4450-a6aa-1bc6e4cb4850"
      },
      "outputs": [
        {
          "data": {
            "text/plain": [
              "array([[4.990000e-01, 3.095280e+01, 3.991636e+04, 1.194200e+00],\n",
              "       [0.000000e+00, 3.000000e+01, 4.020000e+04, 1.000000e+00],\n",
              "       [0.000000e+00, 1.800000e+01, 5.300000e+03, 0.000000e+00],\n",
              "       [1.000000e+00, 6.500000e+01, 7.900000e+04, 6.000000e+00]])"
            ]
          },
          "execution_count": 15,
          "metadata": {},
          "output_type": "execute_result"
        }
      ],
      "source": [
        "features_mean = func(features)\n",
        "features_mean"
      ]
    },
    {
      "cell_type": "markdown",
      "metadata": {
        "id": "mTGVeYaR58Be"
      },
      "source": [
        "2. Умножаем признаки на транспонированную матрицу"
      ]
    },
    {
      "cell_type": "code",
      "execution_count": null,
      "metadata": {
        "id": "osHU83VF58Be",
        "outputId": "44025a0a-f877-4fae-b8eb-fb92b1aeb816"
      },
      "outputs": [
        {
          "data": {
            "text/html": [
              "<div>\n",
              "<style scoped>\n",
              "    .dataframe tbody tr th:only-of-type {\n",
              "        vertical-align: middle;\n",
              "    }\n",
              "\n",
              "    .dataframe tbody tr th {\n",
              "        vertical-align: top;\n",
              "    }\n",
              "\n",
              "    .dataframe thead th {\n",
              "        text-align: right;\n",
              "    }\n",
              "</style>\n",
              "<table border=\"1\" class=\"dataframe\">\n",
              "  <thead>\n",
              "    <tr style=\"text-align: right;\">\n",
              "      <th></th>\n",
              "      <th>0</th>\n",
              "      <th>1</th>\n",
              "      <th>2</th>\n",
              "      <th>3</th>\n",
              "    </tr>\n",
              "  </thead>\n",
              "  <tbody>\n",
              "    <tr>\n",
              "      <th>0</th>\n",
              "      <td>1.979853e+09</td>\n",
              "      <td>1.993921e+09</td>\n",
              "      <td>262880738.0</td>\n",
              "      <td>3.918403e+09</td>\n",
              "    </tr>\n",
              "    <tr>\n",
              "      <th>1</th>\n",
              "      <td>1.516823e+09</td>\n",
              "      <td>1.527601e+09</td>\n",
              "      <td>201400828.0</td>\n",
              "      <td>3.002003e+09</td>\n",
              "    </tr>\n",
              "    <tr>\n",
              "      <th>2</th>\n",
              "      <td>8.382445e+08</td>\n",
              "      <td>8.442009e+08</td>\n",
              "      <td>111300522.0</td>\n",
              "      <td>1.659002e+09</td>\n",
              "    </tr>\n",
              "    <tr>\n",
              "      <th>3</th>\n",
              "      <td>1.664513e+09</td>\n",
              "      <td>1.676341e+09</td>\n",
              "      <td>221010378.0</td>\n",
              "      <td>3.294301e+09</td>\n",
              "    </tr>\n",
              "    <tr>\n",
              "      <th>4</th>\n",
              "      <td>1.041818e+09</td>\n",
              "      <td>1.049221e+09</td>\n",
              "      <td>138330504.0</td>\n",
              "      <td>2.061902e+09</td>\n",
              "    </tr>\n",
              "  </tbody>\n",
              "</table>\n",
              "</div>"
            ],
            "text/plain": [
              "              0             1            2             3\n",
              "0  1.979853e+09  1.993921e+09  262880738.0  3.918403e+09\n",
              "1  1.516823e+09  1.527601e+09  201400828.0  3.002003e+09\n",
              "2  8.382445e+08  8.442009e+08  111300522.0  1.659002e+09\n",
              "3  1.664513e+09  1.676341e+09  221010378.0  3.294301e+09\n",
              "4  1.041818e+09  1.049221e+09  138330504.0  2.061902e+09"
            ]
          },
          "execution_count": 16,
          "metadata": {},
          "output_type": "execute_result"
        }
      ],
      "source": [
        "features_new = features@features_mean.T\n",
        "features_new.head()"
      ]
    },
    {
      "cell_type": "markdown",
      "metadata": {
        "id": "NrSuwqEd58Be"
      },
      "source": [
        "Проверяем качество модели"
      ]
    },
    {
      "cell_type": "code",
      "execution_count": null,
      "metadata": {
        "id": "QcYvaQRU58Bf"
      },
      "outputs": [],
      "source": [
        "features_train, features_test, target_train, target_test = train_test_split(features, target,\n",
        "                                                                            test_size=0.3, random_state=42)"
      ]
    },
    {
      "cell_type": "code",
      "execution_count": null,
      "metadata": {
        "id": "apYRU4lZ58Bf",
        "outputId": "d1e5ef52-61c2-45f9-a586-70c054df0f8b"
      },
      "outputs": [
        {
          "name": "stdout",
          "output_type": "stream",
          "text": [
            "R2: 0.422699969446072\n"
          ]
        }
      ],
      "source": [
        "model = LinearRegression()\n",
        "model.fit(features_train, target_train)\n",
        "predictions = model.predict(features_test)\n",
        "print('R2:' , r2_score(target_test, predictions))"
      ]
    },
    {
      "cell_type": "code",
      "execution_count": null,
      "metadata": {
        "id": "fgLpX8F158Bf"
      },
      "outputs": [],
      "source": [
        "features_train_new, features_test_new, target_train_new, target_test_new = train_test_split(features_new, target,\n",
        "                                                                                            test_size=0.3, random_state=42)"
      ]
    },
    {
      "cell_type": "code",
      "execution_count": null,
      "metadata": {
        "id": "nPb2KeO058Bg",
        "outputId": "dff54b8c-8a9e-4578-b3b6-eebcca3beaba"
      },
      "outputs": [
        {
          "name": "stdout",
          "output_type": "stream",
          "text": [
            "R2: 0.42269996732399273\n"
          ]
        }
      ],
      "source": [
        "model = LinearRegression()\n",
        "model.fit(features_train_new, target_train_new)\n",
        "predictions = model.predict(features_test_new)\n",
        "print('R2:' , r2_score(target_test_new, predictions))"
      ]
    },
    {
      "cell_type": "markdown",
      "metadata": {
        "id": "LKYFoZmE58Bg"
      },
      "source": [
        "После преобразования данных качество модели не изменилось."
      ]
    },
    {
      "cell_type": "markdown",
      "metadata": {
        "id": "1To3XPlN58Bh"
      },
      "source": [
        "В проекте были использованы данные клиентов страховой компании. Было доказано, что качество линейной регрессии не изменится при умножении признаков на обратимую матрицу. Для защиты данных предложен алгоритм: создается матрица первой строкой в которой будут средние значения признаков, во второй - медианные, в третьей - минимальные, в четвертой - максимальные, признаки умножаются на данную траспонированную матрицу. Проверка данного алгоритма показала, что качество линейной регрессии не отличается до и после преобразования данных. Предложенный алгоритм можно использовать для преобразования данных, чтобы по ним было сложно восстановить персональную информацию клиентов."
      ]
    },
    {
      "cell_type": "code",
      "execution_count": null,
      "metadata": {
        "id": "0-H7vtdn58Bj"
      },
      "outputs": [],
      "source": []
    }
  ],
  "metadata": {
    "ExecuteTimeLog": [
      {
        "duration": 375,
        "start_time": "2023-05-12T09:41:52.984Z"
      },
      {
        "duration": 87,
        "start_time": "2023-05-12T09:41:54.185Z"
      },
      {
        "duration": 19,
        "start_time": "2023-05-12T09:42:15.271Z"
      },
      {
        "duration": 13,
        "start_time": "2023-05-12T09:42:36.704Z"
      },
      {
        "duration": 1116,
        "start_time": "2023-05-13T07:29:03.494Z"
      },
      {
        "duration": 82,
        "start_time": "2023-05-13T07:29:04.612Z"
      },
      {
        "duration": 17,
        "start_time": "2023-05-13T07:29:04.695Z"
      },
      {
        "duration": 22,
        "start_time": "2023-05-13T07:29:04.714Z"
      },
      {
        "duration": 11,
        "start_time": "2023-05-13T07:29:04.738Z"
      },
      {
        "duration": 199,
        "start_time": "2023-05-13T07:29:04.751Z"
      },
      {
        "duration": 5,
        "start_time": "2023-05-13T07:47:58.871Z"
      },
      {
        "duration": 30,
        "start_time": "2023-05-13T07:48:31.309Z"
      },
      {
        "duration": 14,
        "start_time": "2023-05-13T07:49:35.033Z"
      },
      {
        "duration": 1182,
        "start_time": "2023-05-14T07:14:20.522Z"
      },
      {
        "duration": 89,
        "start_time": "2023-05-14T07:14:21.706Z"
      },
      {
        "duration": 18,
        "start_time": "2023-05-14T07:14:21.797Z"
      },
      {
        "duration": 12,
        "start_time": "2023-05-14T07:14:21.817Z"
      },
      {
        "duration": 27,
        "start_time": "2023-05-14T07:14:21.831Z"
      },
      {
        "duration": 40,
        "start_time": "2023-05-14T07:14:21.860Z"
      },
      {
        "duration": 4,
        "start_time": "2023-05-14T07:14:21.902Z"
      },
      {
        "duration": 115,
        "start_time": "2023-05-14T07:14:21.907Z"
      },
      {
        "duration": 0,
        "start_time": "2023-05-14T07:14:22.024Z"
      },
      {
        "duration": 6,
        "start_time": "2023-05-14T07:17:45.496Z"
      },
      {
        "duration": 7,
        "start_time": "2023-05-14T07:29:55.322Z"
      },
      {
        "duration": 22,
        "start_time": "2023-05-14T07:30:10.491Z"
      },
      {
        "duration": 1084,
        "start_time": "2023-05-15T17:28:47.948Z"
      },
      {
        "duration": 104,
        "start_time": "2023-05-15T17:28:49.035Z"
      },
      {
        "duration": 18,
        "start_time": "2023-05-15T17:28:49.141Z"
      },
      {
        "duration": 12,
        "start_time": "2023-05-15T17:28:49.161Z"
      },
      {
        "duration": 38,
        "start_time": "2023-05-15T17:28:49.176Z"
      },
      {
        "duration": 12,
        "start_time": "2023-05-15T17:28:49.216Z"
      },
      {
        "duration": 4,
        "start_time": "2023-05-15T17:28:49.229Z"
      },
      {
        "duration": 234,
        "start_time": "2023-05-15T17:28:49.234Z"
      },
      {
        "duration": 0,
        "start_time": "2023-05-15T17:28:49.471Z"
      },
      {
        "duration": 0,
        "start_time": "2023-05-15T17:28:49.471Z"
      },
      {
        "duration": 5,
        "start_time": "2023-05-15T17:29:20.435Z"
      },
      {
        "duration": 16,
        "start_time": "2023-05-15T17:30:41.727Z"
      },
      {
        "duration": 31,
        "start_time": "2023-05-15T17:31:21.675Z"
      },
      {
        "duration": 6,
        "start_time": "2023-05-15T17:31:56.367Z"
      },
      {
        "duration": 32,
        "start_time": "2023-05-15T17:35:42.221Z"
      },
      {
        "duration": 11,
        "start_time": "2023-05-15T17:35:57.318Z"
      },
      {
        "duration": 14,
        "start_time": "2023-05-15T17:36:22.868Z"
      },
      {
        "duration": 27,
        "start_time": "2023-05-15T17:36:42.164Z"
      },
      {
        "duration": 126,
        "start_time": "2023-05-15T17:37:39.935Z"
      },
      {
        "duration": 5,
        "start_time": "2023-05-15T17:40:26.433Z"
      },
      {
        "duration": 9,
        "start_time": "2023-05-15T17:41:01.225Z"
      },
      {
        "duration": 6,
        "start_time": "2023-05-15T17:41:50.326Z"
      },
      {
        "duration": 5,
        "start_time": "2023-05-15T17:42:20.259Z"
      },
      {
        "duration": 3,
        "start_time": "2023-05-15T17:52:35.357Z"
      },
      {
        "duration": 99,
        "start_time": "2023-05-15T17:52:48.825Z"
      },
      {
        "duration": 5,
        "start_time": "2023-05-15T17:53:06.614Z"
      },
      {
        "duration": 20,
        "start_time": "2023-05-15T17:57:36.054Z"
      },
      {
        "duration": 20,
        "start_time": "2023-05-15T18:03:11.746Z"
      },
      {
        "duration": 1352,
        "start_time": "2023-05-16T07:59:07.122Z"
      },
      {
        "duration": 76,
        "start_time": "2023-05-16T07:59:08.476Z"
      },
      {
        "duration": 24,
        "start_time": "2023-05-16T07:59:08.555Z"
      },
      {
        "duration": 12,
        "start_time": "2023-05-16T07:59:08.580Z"
      },
      {
        "duration": 29,
        "start_time": "2023-05-16T07:59:08.593Z"
      },
      {
        "duration": 5,
        "start_time": "2023-05-16T07:59:08.624Z"
      },
      {
        "duration": 13,
        "start_time": "2023-05-16T07:59:08.652Z"
      },
      {
        "duration": 13,
        "start_time": "2023-05-16T07:59:08.667Z"
      },
      {
        "duration": 10,
        "start_time": "2023-05-16T07:59:08.682Z"
      },
      {
        "duration": 12,
        "start_time": "2023-05-16T07:59:08.693Z"
      },
      {
        "duration": 9,
        "start_time": "2023-05-16T07:59:08.706Z"
      },
      {
        "duration": 264,
        "start_time": "2023-05-16T07:59:08.716Z"
      },
      {
        "duration": 0,
        "start_time": "2023-05-16T07:59:08.982Z"
      },
      {
        "duration": 0,
        "start_time": "2023-05-16T07:59:08.983Z"
      },
      {
        "duration": 0,
        "start_time": "2023-05-16T07:59:08.984Z"
      },
      {
        "duration": 0,
        "start_time": "2023-05-16T07:59:08.985Z"
      },
      {
        "duration": 0,
        "start_time": "2023-05-16T07:59:08.986Z"
      },
      {
        "duration": 0,
        "start_time": "2023-05-16T07:59:08.987Z"
      },
      {
        "duration": 6,
        "start_time": "2023-05-16T07:59:22.977Z"
      },
      {
        "duration": 9,
        "start_time": "2023-05-16T07:59:28.078Z"
      },
      {
        "duration": 4,
        "start_time": "2023-05-16T08:12:53.763Z"
      },
      {
        "duration": 3,
        "start_time": "2023-05-16T08:13:04.810Z"
      },
      {
        "duration": 1667,
        "start_time": "2023-05-16T08:15:11.926Z"
      },
      {
        "duration": 0,
        "start_time": "2023-05-16T08:15:13.594Z"
      },
      {
        "duration": 3,
        "start_time": "2023-05-16T08:16:02.142Z"
      },
      {
        "duration": 13,
        "start_time": "2023-05-16T08:16:04.060Z"
      },
      {
        "duration": 4,
        "start_time": "2023-05-16T08:16:22.424Z"
      },
      {
        "duration": 5,
        "start_time": "2023-05-16T08:16:42.130Z"
      },
      {
        "duration": 6,
        "start_time": "2023-05-16T08:18:01.249Z"
      },
      {
        "duration": 11,
        "start_time": "2023-05-16T08:18:10.134Z"
      },
      {
        "duration": 25,
        "start_time": "2023-05-16T08:19:21.957Z"
      },
      {
        "duration": 22,
        "start_time": "2023-05-16T08:19:54.994Z"
      },
      {
        "duration": 4,
        "start_time": "2023-05-16T10:29:12.989Z"
      },
      {
        "duration": 3,
        "start_time": "2023-05-16T10:30:44.557Z"
      },
      {
        "duration": 4,
        "start_time": "2023-05-16T10:30:58.960Z"
      },
      {
        "duration": 10,
        "start_time": "2023-05-16T10:31:31.063Z"
      },
      {
        "duration": 10,
        "start_time": "2023-05-16T10:31:46.287Z"
      },
      {
        "duration": 3,
        "start_time": "2023-05-16T10:33:17.486Z"
      },
      {
        "duration": 14,
        "start_time": "2023-05-16T10:33:30.901Z"
      },
      {
        "duration": 5,
        "start_time": "2023-05-16T10:34:06.986Z"
      },
      {
        "duration": 4,
        "start_time": "2023-05-16T10:34:07.757Z"
      },
      {
        "duration": 13,
        "start_time": "2023-05-16T10:34:08.863Z"
      },
      {
        "duration": 4,
        "start_time": "2023-05-16T10:35:14.786Z"
      },
      {
        "duration": 3,
        "start_time": "2023-05-16T10:35:16.209Z"
      },
      {
        "duration": 11,
        "start_time": "2023-05-16T10:35:16.958Z"
      },
      {
        "duration": 55,
        "start_time": "2023-05-16T17:12:44.019Z"
      },
      {
        "duration": 1017,
        "start_time": "2023-05-16T17:12:50.026Z"
      },
      {
        "duration": 128,
        "start_time": "2023-05-16T17:12:51.045Z"
      },
      {
        "duration": 14,
        "start_time": "2023-05-16T17:12:51.174Z"
      },
      {
        "duration": 14,
        "start_time": "2023-05-16T17:12:51.190Z"
      },
      {
        "duration": 26,
        "start_time": "2023-05-16T17:12:51.206Z"
      },
      {
        "duration": 4,
        "start_time": "2023-05-16T17:12:51.233Z"
      },
      {
        "duration": 8,
        "start_time": "2023-05-16T17:12:51.239Z"
      },
      {
        "duration": 13,
        "start_time": "2023-05-16T17:12:51.248Z"
      },
      {
        "duration": 4,
        "start_time": "2023-05-16T17:12:51.262Z"
      },
      {
        "duration": 10,
        "start_time": "2023-05-16T17:12:51.267Z"
      },
      {
        "duration": 30,
        "start_time": "2023-05-16T17:12:51.279Z"
      },
      {
        "duration": 9,
        "start_time": "2023-05-16T17:12:51.311Z"
      },
      {
        "duration": 9,
        "start_time": "2023-05-16T17:12:51.322Z"
      },
      {
        "duration": 4,
        "start_time": "2023-05-16T17:12:51.334Z"
      },
      {
        "duration": 11,
        "start_time": "2023-05-16T17:12:51.340Z"
      },
      {
        "duration": 64,
        "start_time": "2023-05-16T17:12:51.352Z"
      },
      {
        "duration": 89,
        "start_time": "2023-05-16T17:12:51.418Z"
      },
      {
        "duration": 13,
        "start_time": "2023-05-16T17:12:51.512Z"
      },
      {
        "duration": 10,
        "start_time": "2023-05-16T17:12:51.527Z"
      },
      {
        "duration": 7,
        "start_time": "2023-05-16T17:12:51.538Z"
      },
      {
        "duration": 64,
        "start_time": "2023-05-16T17:12:51.547Z"
      },
      {
        "duration": 6,
        "start_time": "2023-05-16T17:12:51.612Z"
      },
      {
        "duration": 100,
        "start_time": "2023-05-16T17:12:51.619Z"
      },
      {
        "duration": 13,
        "start_time": "2023-05-16T17:12:51.722Z"
      },
      {
        "duration": 154,
        "start_time": "2023-05-16T17:12:51.807Z"
      },
      {
        "duration": 0,
        "start_time": "2023-05-16T17:12:51.962Z"
      },
      {
        "duration": 0,
        "start_time": "2023-05-16T17:12:51.963Z"
      },
      {
        "duration": 6,
        "start_time": "2023-05-16T17:16:48.418Z"
      },
      {
        "duration": 10,
        "start_time": "2023-05-16T17:17:06.424Z"
      },
      {
        "duration": 12,
        "start_time": "2023-05-16T17:18:20.757Z"
      },
      {
        "duration": 8,
        "start_time": "2023-05-16T17:19:39.449Z"
      },
      {
        "duration": 8,
        "start_time": "2023-05-16T17:24:38.248Z"
      },
      {
        "duration": 6,
        "start_time": "2023-05-16T17:25:51.551Z"
      },
      {
        "duration": 6,
        "start_time": "2023-05-16T17:27:00.664Z"
      },
      {
        "duration": 10,
        "start_time": "2023-05-16T17:30:14.818Z"
      },
      {
        "duration": 43,
        "start_time": "2023-05-16T17:41:54.711Z"
      },
      {
        "duration": 12,
        "start_time": "2023-05-16T17:42:05.452Z"
      },
      {
        "duration": 3,
        "start_time": "2023-05-16T17:44:11.492Z"
      },
      {
        "duration": 49,
        "start_time": "2023-05-16T17:44:11.497Z"
      },
      {
        "duration": 7,
        "start_time": "2023-05-16T17:44:11.547Z"
      },
      {
        "duration": 10,
        "start_time": "2023-05-16T17:44:11.556Z"
      },
      {
        "duration": 19,
        "start_time": "2023-05-16T17:44:11.568Z"
      },
      {
        "duration": 5,
        "start_time": "2023-05-16T17:44:11.588Z"
      },
      {
        "duration": 9,
        "start_time": "2023-05-16T17:44:11.594Z"
      },
      {
        "duration": 19,
        "start_time": "2023-05-16T17:44:11.604Z"
      },
      {
        "duration": 5,
        "start_time": "2023-05-16T17:44:11.625Z"
      },
      {
        "duration": 20,
        "start_time": "2023-05-16T17:44:11.632Z"
      },
      {
        "duration": 4,
        "start_time": "2023-05-16T17:44:11.654Z"
      },
      {
        "duration": 18,
        "start_time": "2023-05-16T17:44:11.659Z"
      },
      {
        "duration": 14,
        "start_time": "2023-05-16T17:44:11.679Z"
      },
      {
        "duration": 39,
        "start_time": "2023-05-16T17:44:11.694Z"
      },
      {
        "duration": 19,
        "start_time": "2023-05-16T17:44:11.736Z"
      },
      {
        "duration": 12,
        "start_time": "2023-05-16T17:44:11.756Z"
      },
      {
        "duration": 65,
        "start_time": "2023-05-16T17:44:11.769Z"
      },
      {
        "duration": 68,
        "start_time": "2023-05-16T17:44:11.847Z"
      },
      {
        "duration": 14,
        "start_time": "2023-05-16T17:44:11.919Z"
      },
      {
        "duration": 75,
        "start_time": "2023-05-16T17:44:11.937Z"
      },
      {
        "duration": 12,
        "start_time": "2023-05-16T17:44:12.013Z"
      },
      {
        "duration": 10,
        "start_time": "2023-05-16T17:44:12.028Z"
      },
      {
        "duration": 72,
        "start_time": "2023-05-16T17:44:12.042Z"
      },
      {
        "duration": 80,
        "start_time": "2023-05-16T17:44:12.125Z"
      },
      {
        "duration": 34,
        "start_time": "2023-05-16T17:44:12.210Z"
      },
      {
        "duration": 78,
        "start_time": "2023-05-16T17:44:12.246Z"
      },
      {
        "duration": 113,
        "start_time": "2023-05-16T17:44:12.326Z"
      },
      {
        "duration": 0,
        "start_time": "2023-05-16T17:44:12.442Z"
      },
      {
        "duration": 0,
        "start_time": "2023-05-16T17:44:12.443Z"
      },
      {
        "duration": 13,
        "start_time": "2023-05-16T17:48:47.690Z"
      },
      {
        "duration": 10,
        "start_time": "2023-05-16T17:49:53.548Z"
      },
      {
        "duration": 8,
        "start_time": "2023-05-16T17:51:43.655Z"
      },
      {
        "duration": 53,
        "start_time": "2023-05-16T18:10:42.699Z"
      },
      {
        "duration": 14,
        "start_time": "2023-05-16T18:16:58.137Z"
      },
      {
        "duration": 15,
        "start_time": "2023-05-16T18:17:33.296Z"
      },
      {
        "duration": 13,
        "start_time": "2023-05-16T18:19:39.977Z"
      },
      {
        "duration": 22,
        "start_time": "2023-05-16T18:20:13.120Z"
      },
      {
        "duration": 9,
        "start_time": "2023-05-16T18:20:37.039Z"
      },
      {
        "duration": 8,
        "start_time": "2023-05-16T18:23:36.401Z"
      },
      {
        "duration": 3,
        "start_time": "2023-05-16T18:25:02.138Z"
      },
      {
        "duration": 14,
        "start_time": "2023-05-16T18:25:15.036Z"
      },
      {
        "duration": 6,
        "start_time": "2023-05-16T18:26:48.036Z"
      },
      {
        "duration": 14,
        "start_time": "2023-05-16T18:28:58.936Z"
      },
      {
        "duration": 9,
        "start_time": "2023-05-16T18:30:28.601Z"
      },
      {
        "duration": 7,
        "start_time": "2023-05-16T18:30:30.709Z"
      },
      {
        "duration": 12,
        "start_time": "2023-05-16T18:30:42.370Z"
      },
      {
        "duration": 8,
        "start_time": "2023-05-16T18:30:43.719Z"
      },
      {
        "duration": 18,
        "start_time": "2023-05-16T18:47:34.755Z"
      },
      {
        "duration": 8,
        "start_time": "2023-05-16T18:48:04.534Z"
      },
      {
        "duration": 10,
        "start_time": "2023-05-16T18:50:07.233Z"
      },
      {
        "duration": 1757,
        "start_time": "2023-05-17T07:17:12.424Z"
      },
      {
        "duration": 78,
        "start_time": "2023-05-17T07:17:14.183Z"
      },
      {
        "duration": 16,
        "start_time": "2023-05-17T07:17:14.264Z"
      },
      {
        "duration": 20,
        "start_time": "2023-05-17T07:17:14.282Z"
      },
      {
        "duration": 33,
        "start_time": "2023-05-17T07:17:14.304Z"
      },
      {
        "duration": 5,
        "start_time": "2023-05-17T07:17:14.339Z"
      },
      {
        "duration": 26,
        "start_time": "2023-05-17T07:17:14.345Z"
      },
      {
        "duration": 5,
        "start_time": "2023-05-17T07:17:14.372Z"
      },
      {
        "duration": 27,
        "start_time": "2023-05-17T07:17:14.378Z"
      },
      {
        "duration": 10,
        "start_time": "2023-05-17T07:17:14.407Z"
      },
      {
        "duration": 13,
        "start_time": "2023-05-17T07:17:14.419Z"
      },
      {
        "duration": 41,
        "start_time": "2023-05-17T07:17:14.434Z"
      },
      {
        "duration": 44,
        "start_time": "2023-05-17T07:17:14.477Z"
      },
      {
        "duration": 147,
        "start_time": "2023-05-17T07:17:14.524Z"
      },
      {
        "duration": 121,
        "start_time": "2023-05-17T07:17:14.674Z"
      },
      {
        "duration": 83,
        "start_time": "2023-05-17T07:17:14.797Z"
      },
      {
        "duration": 110,
        "start_time": "2023-05-17T07:17:14.973Z"
      },
      {
        "duration": 8,
        "start_time": "2023-05-17T07:17:15.172Z"
      },
      {
        "duration": 26,
        "start_time": "2023-05-17T07:17:15.181Z"
      },
      {
        "duration": 24,
        "start_time": "2023-05-17T07:17:15.209Z"
      },
      {
        "duration": 31,
        "start_time": "2023-05-17T07:17:15.234Z"
      },
      {
        "duration": 19,
        "start_time": "2023-05-17T07:17:15.267Z"
      },
      {
        "duration": 89,
        "start_time": "2023-05-17T07:17:15.288Z"
      },
      {
        "duration": 193,
        "start_time": "2023-05-17T07:17:15.379Z"
      },
      {
        "duration": 28,
        "start_time": "2023-05-17T07:17:15.574Z"
      },
      {
        "duration": 169,
        "start_time": "2023-05-17T07:17:15.604Z"
      },
      {
        "duration": 27,
        "start_time": "2023-05-17T07:17:15.775Z"
      },
      {
        "duration": 182,
        "start_time": "2023-05-17T07:17:15.804Z"
      },
      {
        "duration": 160,
        "start_time": "2023-05-17T07:17:15.988Z"
      },
      {
        "duration": 0,
        "start_time": "2023-05-17T07:17:16.150Z"
      },
      {
        "duration": 0,
        "start_time": "2023-05-17T07:17:16.151Z"
      },
      {
        "duration": 2069,
        "start_time": "2023-05-17T07:18:08.574Z"
      },
      {
        "duration": 1766,
        "start_time": "2023-05-17T07:19:46.683Z"
      },
      {
        "duration": 1695,
        "start_time": "2023-05-17T07:20:30.048Z"
      },
      {
        "duration": 2247,
        "start_time": "2023-05-17T07:23:02.334Z"
      },
      {
        "duration": 2258,
        "start_time": "2023-05-17T07:23:44.359Z"
      },
      {
        "duration": 2325,
        "start_time": "2023-05-17T07:23:59.650Z"
      },
      {
        "duration": 5,
        "start_time": "2023-05-17T07:26:06.597Z"
      },
      {
        "duration": 142,
        "start_time": "2023-05-17T07:26:07.539Z"
      },
      {
        "duration": 15,
        "start_time": "2023-05-17T07:26:32.998Z"
      },
      {
        "duration": 11,
        "start_time": "2023-05-17T07:40:54.109Z"
      },
      {
        "duration": 5,
        "start_time": "2023-05-17T07:42:52.329Z"
      },
      {
        "duration": 8,
        "start_time": "2023-05-17T07:43:06.356Z"
      },
      {
        "duration": 10,
        "start_time": "2023-05-17T07:46:26.935Z"
      },
      {
        "duration": 3,
        "start_time": "2023-05-17T07:46:29.985Z"
      },
      {
        "duration": 9,
        "start_time": "2023-05-17T07:46:34.805Z"
      },
      {
        "duration": 9,
        "start_time": "2023-05-17T07:46:59.596Z"
      },
      {
        "duration": 7,
        "start_time": "2023-05-17T07:47:53.920Z"
      },
      {
        "duration": 17,
        "start_time": "2023-05-17T07:48:44.346Z"
      },
      {
        "duration": 4,
        "start_time": "2023-05-17T07:50:25.750Z"
      },
      {
        "duration": 11,
        "start_time": "2023-05-17T07:50:39.656Z"
      },
      {
        "duration": 3,
        "start_time": "2023-05-17T07:51:20.850Z"
      },
      {
        "duration": 19,
        "start_time": "2023-05-17T07:51:21.770Z"
      },
      {
        "duration": 8,
        "start_time": "2023-05-17T07:52:24.355Z"
      },
      {
        "duration": 13,
        "start_time": "2023-05-17T07:53:50.198Z"
      },
      {
        "duration": 9,
        "start_time": "2023-05-17T07:55:23.301Z"
      },
      {
        "duration": 12,
        "start_time": "2023-05-17T07:55:54.891Z"
      },
      {
        "duration": 9,
        "start_time": "2023-05-17T07:57:05.734Z"
      },
      {
        "duration": 9,
        "start_time": "2023-05-17T07:57:27.747Z"
      },
      {
        "duration": 30,
        "start_time": "2023-05-17T07:57:50.965Z"
      },
      {
        "duration": 17,
        "start_time": "2023-05-17T07:58:20.968Z"
      },
      {
        "duration": 15,
        "start_time": "2023-05-17T08:00:01.547Z"
      },
      {
        "duration": 11,
        "start_time": "2023-05-17T08:01:00.398Z"
      },
      {
        "duration": 14,
        "start_time": "2023-05-17T08:01:05.250Z"
      },
      {
        "duration": 85,
        "start_time": "2023-05-17T08:01:37.586Z"
      },
      {
        "duration": 15,
        "start_time": "2023-05-17T08:03:59.586Z"
      },
      {
        "duration": 84,
        "start_time": "2023-05-17T08:04:07.786Z"
      },
      {
        "duration": 11,
        "start_time": "2023-05-17T08:06:53.342Z"
      },
      {
        "duration": 10,
        "start_time": "2023-05-17T08:08:25.005Z"
      },
      {
        "duration": 17,
        "start_time": "2023-05-17T08:08:26.095Z"
      },
      {
        "duration": 9,
        "start_time": "2023-05-17T08:08:27.123Z"
      },
      {
        "duration": 12,
        "start_time": "2023-05-17T08:12:33.556Z"
      },
      {
        "duration": 12,
        "start_time": "2023-05-17T08:12:40.217Z"
      },
      {
        "duration": 96,
        "start_time": "2023-05-17T08:18:16.177Z"
      },
      {
        "duration": 67,
        "start_time": "2023-05-17T16:51:05.413Z"
      },
      {
        "duration": 1220,
        "start_time": "2023-05-17T16:51:12.128Z"
      },
      {
        "duration": 103,
        "start_time": "2023-05-17T16:51:13.350Z"
      },
      {
        "duration": 14,
        "start_time": "2023-05-17T16:51:13.455Z"
      },
      {
        "duration": 19,
        "start_time": "2023-05-17T16:51:13.471Z"
      },
      {
        "duration": 55,
        "start_time": "2023-05-17T16:51:13.492Z"
      },
      {
        "duration": 16,
        "start_time": "2023-05-17T16:51:13.549Z"
      },
      {
        "duration": 2406,
        "start_time": "2023-05-17T16:51:13.567Z"
      },
      {
        "duration": 13,
        "start_time": "2023-05-17T16:51:15.976Z"
      },
      {
        "duration": 14,
        "start_time": "2023-05-17T16:51:15.990Z"
      },
      {
        "duration": 105,
        "start_time": "2023-05-17T16:51:16.006Z"
      },
      {
        "duration": 208,
        "start_time": "2023-05-17T16:51:16.113Z"
      },
      {
        "duration": 97,
        "start_time": "2023-05-17T16:51:16.324Z"
      },
      {
        "duration": 11,
        "start_time": "2023-05-17T16:51:16.423Z"
      },
      {
        "duration": 13,
        "start_time": "2023-05-17T16:51:16.436Z"
      },
      {
        "duration": 223,
        "start_time": "2023-05-17T16:51:16.452Z"
      },
      {
        "duration": 7,
        "start_time": "2023-05-17T17:55:53.810Z"
      },
      {
        "duration": 13,
        "start_time": "2023-05-17T17:58:50.411Z"
      },
      {
        "duration": 11,
        "start_time": "2023-05-17T18:04:05.638Z"
      },
      {
        "duration": 17,
        "start_time": "2023-05-17T18:12:12.628Z"
      },
      {
        "duration": 9,
        "start_time": "2023-05-17T18:12:33.536Z"
      },
      {
        "duration": 15,
        "start_time": "2023-05-17T18:12:46.774Z"
      },
      {
        "duration": 56,
        "start_time": "2023-05-17T18:33:43.358Z"
      },
      {
        "duration": 3,
        "start_time": "2023-05-17T18:33:46.770Z"
      },
      {
        "duration": 41,
        "start_time": "2023-05-17T18:33:46.778Z"
      },
      {
        "duration": 12,
        "start_time": "2023-05-17T18:33:46.822Z"
      },
      {
        "duration": 44,
        "start_time": "2023-05-17T18:33:46.837Z"
      },
      {
        "duration": 79,
        "start_time": "2023-05-17T18:33:46.883Z"
      },
      {
        "duration": 6,
        "start_time": "2023-05-17T18:33:46.963Z"
      },
      {
        "duration": 2821,
        "start_time": "2023-05-17T18:33:46.972Z"
      },
      {
        "duration": 33,
        "start_time": "2023-05-17T18:33:49.795Z"
      },
      {
        "duration": 25,
        "start_time": "2023-05-17T18:33:49.830Z"
      },
      {
        "duration": 45,
        "start_time": "2023-05-17T18:33:49.857Z"
      },
      {
        "duration": 187,
        "start_time": "2023-05-17T18:33:49.909Z"
      },
      {
        "duration": 136,
        "start_time": "2023-05-17T18:33:50.112Z"
      },
      {
        "duration": 17,
        "start_time": "2023-05-17T18:33:50.250Z"
      },
      {
        "duration": 26,
        "start_time": "2023-05-17T18:33:50.269Z"
      },
      {
        "duration": 192,
        "start_time": "2023-05-17T18:33:50.304Z"
      },
      {
        "duration": 2473,
        "start_time": "2023-05-18T05:56:01.745Z"
      },
      {
        "duration": 28,
        "start_time": "2023-05-18T05:56:04.220Z"
      },
      {
        "duration": 12,
        "start_time": "2023-05-18T05:56:04.250Z"
      },
      {
        "duration": 37,
        "start_time": "2023-05-18T05:56:04.264Z"
      },
      {
        "duration": 31,
        "start_time": "2023-05-18T05:56:04.306Z"
      },
      {
        "duration": 4,
        "start_time": "2023-05-18T05:56:04.338Z"
      },
      {
        "duration": 2057,
        "start_time": "2023-05-18T05:56:04.343Z"
      },
      {
        "duration": 12,
        "start_time": "2023-05-18T05:56:06.402Z"
      },
      {
        "duration": 12,
        "start_time": "2023-05-18T05:56:06.415Z"
      },
      {
        "duration": 75,
        "start_time": "2023-05-18T05:56:06.429Z"
      },
      {
        "duration": 116,
        "start_time": "2023-05-18T05:56:06.506Z"
      },
      {
        "duration": 191,
        "start_time": "2023-05-18T05:56:06.626Z"
      },
      {
        "duration": 15,
        "start_time": "2023-05-18T05:56:06.819Z"
      },
      {
        "duration": 8,
        "start_time": "2023-05-18T05:56:06.837Z"
      },
      {
        "duration": 179,
        "start_time": "2023-05-18T05:56:06.847Z"
      },
      {
        "duration": 1313,
        "start_time": "2023-05-18T17:26:36.108Z"
      },
      {
        "duration": 123,
        "start_time": "2023-05-18T17:26:37.426Z"
      },
      {
        "duration": 17,
        "start_time": "2023-05-18T17:26:37.551Z"
      },
      {
        "duration": 31,
        "start_time": "2023-05-18T17:26:37.570Z"
      },
      {
        "duration": 43,
        "start_time": "2023-05-18T17:26:37.604Z"
      },
      {
        "duration": 5,
        "start_time": "2023-05-18T17:26:37.649Z"
      },
      {
        "duration": 3049,
        "start_time": "2023-05-18T17:26:37.655Z"
      },
      {
        "duration": 25,
        "start_time": "2023-05-18T17:26:40.708Z"
      },
      {
        "duration": 6,
        "start_time": "2023-05-18T17:26:40.736Z"
      },
      {
        "duration": 19,
        "start_time": "2023-05-18T17:26:40.745Z"
      },
      {
        "duration": 207,
        "start_time": "2023-05-18T17:26:40.800Z"
      },
      {
        "duration": 20,
        "start_time": "2023-05-18T17:26:41.021Z"
      },
      {
        "duration": 70,
        "start_time": "2023-05-18T17:26:41.043Z"
      },
      {
        "duration": 26,
        "start_time": "2023-05-18T17:26:41.116Z"
      },
      {
        "duration": 78,
        "start_time": "2023-05-18T17:26:41.144Z"
      },
      {
        "duration": 148,
        "start_time": "2023-05-18T17:38:47.108Z"
      },
      {
        "duration": 4,
        "start_time": "2023-05-18T17:39:03.225Z"
      },
      {
        "duration": 4,
        "start_time": "2023-05-18T17:54:33.219Z"
      },
      {
        "duration": 4,
        "start_time": "2023-05-18T17:54:46.423Z"
      },
      {
        "duration": 14,
        "start_time": "2023-05-18T18:01:48.386Z"
      },
      {
        "duration": 4,
        "start_time": "2023-05-18T18:01:49.277Z"
      },
      {
        "duration": 11,
        "start_time": "2023-05-18T18:02:14.916Z"
      },
      {
        "duration": 4,
        "start_time": "2023-05-18T18:02:20.678Z"
      },
      {
        "duration": 3,
        "start_time": "2023-05-18T18:02:21.768Z"
      },
      {
        "duration": 13,
        "start_time": "2023-05-18T18:02:23.364Z"
      },
      {
        "duration": 5,
        "start_time": "2023-05-18T18:02:32.517Z"
      },
      {
        "duration": 13,
        "start_time": "2023-05-18T18:02:33.595Z"
      },
      {
        "duration": 5,
        "start_time": "2023-05-18T18:02:34.850Z"
      },
      {
        "duration": 4,
        "start_time": "2023-05-18T18:11:12.646Z"
      },
      {
        "duration": 11,
        "start_time": "2023-05-18T18:11:35.864Z"
      },
      {
        "duration": 5,
        "start_time": "2023-05-18T18:12:48.115Z"
      },
      {
        "duration": 4,
        "start_time": "2023-05-18T18:13:21.164Z"
      },
      {
        "duration": 6,
        "start_time": "2023-05-18T18:13:36.051Z"
      },
      {
        "duration": 5,
        "start_time": "2023-05-18T18:13:43.051Z"
      },
      {
        "duration": 5,
        "start_time": "2023-05-18T18:13:51.251Z"
      },
      {
        "duration": 4,
        "start_time": "2023-05-18T18:13:58.471Z"
      },
      {
        "duration": 4,
        "start_time": "2023-05-18T18:14:55.055Z"
      },
      {
        "duration": 54,
        "start_time": "2023-05-18T18:14:56.555Z"
      },
      {
        "duration": 5,
        "start_time": "2023-05-18T18:15:11.156Z"
      },
      {
        "duration": 5,
        "start_time": "2023-05-18T18:23:29.417Z"
      },
      {
        "duration": 4,
        "start_time": "2023-05-18T18:23:59.616Z"
      },
      {
        "duration": 35,
        "start_time": "2023-05-18T18:24:00.583Z"
      },
      {
        "duration": 5,
        "start_time": "2023-05-18T18:24:05.851Z"
      },
      {
        "duration": 10,
        "start_time": "2023-05-18T18:24:10.894Z"
      },
      {
        "duration": 40,
        "start_time": "2023-05-18T18:24:11.635Z"
      },
      {
        "duration": 111,
        "start_time": "2023-05-18T18:30:19.362Z"
      },
      {
        "duration": 4,
        "start_time": "2023-05-18T18:30:39.281Z"
      },
      {
        "duration": 3,
        "start_time": "2023-05-18T18:30:41.353Z"
      },
      {
        "duration": 5,
        "start_time": "2023-05-18T18:30:42.812Z"
      },
      {
        "duration": 4,
        "start_time": "2023-05-18T18:31:32.171Z"
      },
      {
        "duration": 4,
        "start_time": "2023-05-18T18:35:40.812Z"
      },
      {
        "duration": 86,
        "start_time": "2023-05-18T18:35:41.786Z"
      },
      {
        "duration": 15,
        "start_time": "2023-05-18T18:36:35.377Z"
      },
      {
        "duration": 5,
        "start_time": "2023-05-18T18:36:41.453Z"
      },
      {
        "duration": 4,
        "start_time": "2023-05-18T18:37:19.213Z"
      },
      {
        "duration": 3,
        "start_time": "2023-05-18T18:37:21.912Z"
      },
      {
        "duration": 5,
        "start_time": "2023-05-18T18:37:36.212Z"
      },
      {
        "duration": 4,
        "start_time": "2023-05-18T18:38:34.562Z"
      },
      {
        "duration": 11,
        "start_time": "2023-05-18T18:45:48.649Z"
      },
      {
        "duration": 5,
        "start_time": "2023-05-18T18:46:06.715Z"
      },
      {
        "duration": 6,
        "start_time": "2023-05-18T18:46:15.952Z"
      },
      {
        "duration": 7,
        "start_time": "2023-05-18T18:46:29.106Z"
      },
      {
        "duration": 5,
        "start_time": "2023-05-18T18:46:46.258Z"
      },
      {
        "duration": 10,
        "start_time": "2023-05-18T18:46:47.348Z"
      },
      {
        "duration": 14,
        "start_time": "2023-05-18T18:46:52.467Z"
      },
      {
        "duration": 10,
        "start_time": "2023-05-18T18:46:59.160Z"
      },
      {
        "duration": 16,
        "start_time": "2023-05-18T18:47:13.655Z"
      },
      {
        "duration": 13,
        "start_time": "2023-05-18T18:47:17.842Z"
      },
      {
        "duration": 4,
        "start_time": "2023-05-18T18:50:16.554Z"
      },
      {
        "duration": 7,
        "start_time": "2023-05-18T18:53:03.511Z"
      },
      {
        "duration": 13,
        "start_time": "2023-05-18T18:53:42.424Z"
      },
      {
        "duration": 11,
        "start_time": "2023-05-18T18:55:12.784Z"
      },
      {
        "duration": 5,
        "start_time": "2023-05-18T18:55:32.590Z"
      },
      {
        "duration": 19,
        "start_time": "2023-05-18T18:56:46.892Z"
      },
      {
        "duration": 10,
        "start_time": "2023-05-18T18:57:14.767Z"
      },
      {
        "duration": 3,
        "start_time": "2023-05-18T18:58:26.471Z"
      },
      {
        "duration": 106,
        "start_time": "2023-05-18T18:58:26.476Z"
      },
      {
        "duration": 31,
        "start_time": "2023-05-18T18:58:26.584Z"
      },
      {
        "duration": 16,
        "start_time": "2023-05-18T18:58:26.621Z"
      },
      {
        "duration": 37,
        "start_time": "2023-05-18T18:58:26.640Z"
      },
      {
        "duration": 5,
        "start_time": "2023-05-18T18:58:26.679Z"
      },
      {
        "duration": 2541,
        "start_time": "2023-05-18T18:58:26.685Z"
      },
      {
        "duration": 13,
        "start_time": "2023-05-18T18:58:29.231Z"
      },
      {
        "duration": 17,
        "start_time": "2023-05-18T18:58:29.245Z"
      },
      {
        "duration": 46,
        "start_time": "2023-05-18T18:58:29.264Z"
      },
      {
        "duration": 193,
        "start_time": "2023-05-18T18:58:29.317Z"
      },
      {
        "duration": 87,
        "start_time": "2023-05-18T18:58:29.519Z"
      },
      {
        "duration": 10,
        "start_time": "2023-05-18T18:58:29.609Z"
      },
      {
        "duration": 14,
        "start_time": "2023-05-18T18:58:29.621Z"
      },
      {
        "duration": 22,
        "start_time": "2023-05-18T18:58:29.637Z"
      },
      {
        "duration": 24,
        "start_time": "2023-05-18T18:58:29.661Z"
      },
      {
        "duration": 21,
        "start_time": "2023-05-18T18:58:29.687Z"
      },
      {
        "duration": 19,
        "start_time": "2023-05-18T18:58:29.710Z"
      },
      {
        "duration": 7,
        "start_time": "2023-05-18T18:58:29.730Z"
      },
      {
        "duration": 14,
        "start_time": "2023-05-18T18:58:29.739Z"
      },
      {
        "duration": 13,
        "start_time": "2023-05-18T18:59:05.359Z"
      },
      {
        "duration": 8,
        "start_time": "2023-05-18T18:59:15.076Z"
      },
      {
        "duration": 11,
        "start_time": "2023-05-18T18:59:16.132Z"
      },
      {
        "duration": 16,
        "start_time": "2023-05-18T18:59:16.908Z"
      },
      {
        "duration": 11,
        "start_time": "2023-05-18T18:59:17.926Z"
      },
      {
        "duration": 32,
        "start_time": "2023-05-18T18:59:56.987Z"
      },
      {
        "duration": 7,
        "start_time": "2023-05-18T18:59:58.077Z"
      },
      {
        "duration": 10,
        "start_time": "2023-05-18T18:59:58.817Z"
      },
      {
        "duration": 8,
        "start_time": "2023-05-18T19:00:10.451Z"
      },
      {
        "duration": 14,
        "start_time": "2023-05-18T19:00:11.143Z"
      },
      {
        "duration": 8,
        "start_time": "2023-05-18T19:00:11.908Z"
      },
      {
        "duration": 13,
        "start_time": "2023-05-18T19:00:12.583Z"
      },
      {
        "duration": 6,
        "start_time": "2023-05-18T19:00:24.118Z"
      },
      {
        "duration": 10,
        "start_time": "2023-05-18T19:00:24.855Z"
      },
      {
        "duration": 5,
        "start_time": "2023-05-18T19:00:25.521Z"
      },
      {
        "duration": 11,
        "start_time": "2023-05-18T19:00:26.114Z"
      },
      {
        "duration": 12,
        "start_time": "2023-05-18T19:02:56.515Z"
      },
      {
        "duration": 11,
        "start_time": "2023-05-18T19:02:59.521Z"
      },
      {
        "duration": 7,
        "start_time": "2023-05-18T19:03:02.620Z"
      },
      {
        "duration": 28,
        "start_time": "2023-05-18T19:03:05.289Z"
      },
      {
        "duration": 12,
        "start_time": "2023-05-18T19:08:30.267Z"
      },
      {
        "duration": 5,
        "start_time": "2023-05-18T19:08:36.954Z"
      },
      {
        "duration": 11,
        "start_time": "2023-05-18T19:08:37.746Z"
      },
      {
        "duration": 7,
        "start_time": "2023-05-18T19:08:38.556Z"
      },
      {
        "duration": 13,
        "start_time": "2023-05-18T19:08:39.315Z"
      },
      {
        "duration": 960,
        "start_time": "2023-05-19T08:58:20.526Z"
      },
      {
        "duration": 69,
        "start_time": "2023-05-19T08:58:21.488Z"
      },
      {
        "duration": 13,
        "start_time": "2023-05-19T08:58:21.559Z"
      },
      {
        "duration": 33,
        "start_time": "2023-05-19T08:58:21.574Z"
      },
      {
        "duration": 18,
        "start_time": "2023-05-19T08:58:21.609Z"
      },
      {
        "duration": 4,
        "start_time": "2023-05-19T08:58:21.628Z"
      },
      {
        "duration": 1898,
        "start_time": "2023-05-19T08:58:21.633Z"
      },
      {
        "duration": 11,
        "start_time": "2023-05-19T08:58:23.533Z"
      },
      {
        "duration": 14,
        "start_time": "2023-05-19T08:58:23.545Z"
      },
      {
        "duration": 29,
        "start_time": "2023-05-19T08:58:23.561Z"
      },
      {
        "duration": 201,
        "start_time": "2023-05-19T08:58:23.592Z"
      },
      {
        "duration": 194,
        "start_time": "2023-05-19T08:58:23.797Z"
      },
      {
        "duration": 106,
        "start_time": "2023-05-19T08:58:23.993Z"
      },
      {
        "duration": 0,
        "start_time": "2023-05-19T08:58:24.101Z"
      },
      {
        "duration": 0,
        "start_time": "2023-05-19T08:58:24.101Z"
      },
      {
        "duration": 0,
        "start_time": "2023-05-19T08:58:24.102Z"
      },
      {
        "duration": 0,
        "start_time": "2023-05-19T08:58:24.103Z"
      },
      {
        "duration": 0,
        "start_time": "2023-05-19T08:58:24.104Z"
      },
      {
        "duration": 0,
        "start_time": "2023-05-19T08:58:24.105Z"
      },
      {
        "duration": 0,
        "start_time": "2023-05-19T08:58:24.105Z"
      },
      {
        "duration": 3,
        "start_time": "2023-05-19T09:00:45.640Z"
      },
      {
        "duration": 4,
        "start_time": "2023-05-19T09:00:49.135Z"
      },
      {
        "duration": 7,
        "start_time": "2023-05-19T09:00:50.320Z"
      },
      {
        "duration": 9,
        "start_time": "2023-05-19T09:01:05.171Z"
      },
      {
        "duration": 5,
        "start_time": "2023-05-19T09:01:12.634Z"
      },
      {
        "duration": 9,
        "start_time": "2023-05-19T09:01:13.616Z"
      },
      {
        "duration": 5,
        "start_time": "2023-05-19T09:01:14.767Z"
      },
      {
        "duration": 8,
        "start_time": "2023-05-19T09:01:15.528Z"
      },
      {
        "duration": 5,
        "start_time": "2023-05-19T09:09:23.357Z"
      },
      {
        "duration": 9,
        "start_time": "2023-05-19T09:09:24.068Z"
      },
      {
        "duration": 5,
        "start_time": "2023-05-19T09:09:25.420Z"
      },
      {
        "duration": 8,
        "start_time": "2023-05-19T09:09:29.046Z"
      },
      {
        "duration": 1085,
        "start_time": "2023-05-19T09:09:51.669Z"
      },
      {
        "duration": 27,
        "start_time": "2023-05-19T09:09:52.756Z"
      },
      {
        "duration": 16,
        "start_time": "2023-05-19T09:09:52.785Z"
      },
      {
        "duration": 18,
        "start_time": "2023-05-19T09:09:52.804Z"
      },
      {
        "duration": 21,
        "start_time": "2023-05-19T09:09:52.823Z"
      },
      {
        "duration": 3,
        "start_time": "2023-05-19T09:09:52.845Z"
      },
      {
        "duration": 2029,
        "start_time": "2023-05-19T09:09:52.850Z"
      },
      {
        "duration": 12,
        "start_time": "2023-05-19T09:09:54.881Z"
      },
      {
        "duration": 6,
        "start_time": "2023-05-19T09:09:54.895Z"
      },
      {
        "duration": 12,
        "start_time": "2023-05-19T09:09:54.904Z"
      },
      {
        "duration": 173,
        "start_time": "2023-05-19T09:09:54.917Z"
      },
      {
        "duration": 201,
        "start_time": "2023-05-19T09:09:55.094Z"
      },
      {
        "duration": 11,
        "start_time": "2023-05-19T09:09:55.297Z"
      },
      {
        "duration": 4,
        "start_time": "2023-05-19T09:09:55.309Z"
      },
      {
        "duration": 12,
        "start_time": "2023-05-19T09:09:55.314Z"
      },
      {
        "duration": 10,
        "start_time": "2023-05-19T09:09:55.327Z"
      },
      {
        "duration": 5,
        "start_time": "2023-05-19T09:09:55.339Z"
      },
      {
        "duration": 22,
        "start_time": "2023-05-19T09:09:55.345Z"
      },
      {
        "duration": 16,
        "start_time": "2023-05-19T09:09:55.369Z"
      },
      {
        "duration": 7,
        "start_time": "2023-05-19T09:09:55.386Z"
      },
      {
        "duration": 1105,
        "start_time": "2023-05-20T18:57:02.084Z"
      },
      {
        "duration": 72,
        "start_time": "2023-05-20T18:57:03.192Z"
      },
      {
        "duration": 15,
        "start_time": "2023-05-20T18:57:03.265Z"
      },
      {
        "duration": 15,
        "start_time": "2023-05-20T18:57:03.281Z"
      },
      {
        "duration": 21,
        "start_time": "2023-05-20T18:57:03.298Z"
      },
      {
        "duration": 4,
        "start_time": "2023-05-20T18:57:03.321Z"
      },
      {
        "duration": 2236,
        "start_time": "2023-05-20T18:57:03.327Z"
      },
      {
        "duration": 11,
        "start_time": "2023-05-20T18:57:05.565Z"
      },
      {
        "duration": 4,
        "start_time": "2023-05-20T18:57:05.578Z"
      },
      {
        "duration": 115,
        "start_time": "2023-05-20T18:57:05.583Z"
      },
      {
        "duration": 114,
        "start_time": "2023-05-20T18:57:05.700Z"
      },
      {
        "duration": 190,
        "start_time": "2023-05-20T18:57:05.816Z"
      },
      {
        "duration": 4,
        "start_time": "2023-05-20T18:57:06.008Z"
      },
      {
        "duration": 16,
        "start_time": "2023-05-20T18:57:06.014Z"
      },
      {
        "duration": 10,
        "start_time": "2023-05-20T18:57:06.032Z"
      },
      {
        "duration": 15,
        "start_time": "2023-05-20T18:57:06.043Z"
      },
      {
        "duration": 5,
        "start_time": "2023-05-20T18:57:06.060Z"
      },
      {
        "duration": 14,
        "start_time": "2023-05-20T18:57:06.066Z"
      },
      {
        "duration": 14,
        "start_time": "2023-05-20T18:57:06.081Z"
      },
      {
        "duration": 8,
        "start_time": "2023-05-20T18:57:06.096Z"
      },
      {
        "duration": 1209,
        "start_time": "2023-05-21T08:17:09.480Z"
      },
      {
        "duration": 75,
        "start_time": "2023-05-21T08:17:10.691Z"
      },
      {
        "duration": 12,
        "start_time": "2023-05-21T08:17:10.767Z"
      },
      {
        "duration": 9,
        "start_time": "2023-05-21T08:17:10.780Z"
      },
      {
        "duration": 17,
        "start_time": "2023-05-21T08:17:10.791Z"
      },
      {
        "duration": 4,
        "start_time": "2023-05-21T08:17:10.809Z"
      },
      {
        "duration": 1957,
        "start_time": "2023-05-21T08:17:10.814Z"
      },
      {
        "duration": 9,
        "start_time": "2023-05-21T08:17:12.773Z"
      },
      {
        "duration": 3,
        "start_time": "2023-05-21T08:17:12.783Z"
      },
      {
        "duration": 103,
        "start_time": "2023-05-21T08:17:12.787Z"
      },
      {
        "duration": 106,
        "start_time": "2023-05-21T08:17:12.891Z"
      },
      {
        "duration": 104,
        "start_time": "2023-05-21T08:17:13.086Z"
      },
      {
        "duration": 5,
        "start_time": "2023-05-21T08:17:13.191Z"
      },
      {
        "duration": 3,
        "start_time": "2023-05-21T08:17:13.198Z"
      },
      {
        "duration": 7,
        "start_time": "2023-05-21T08:17:13.203Z"
      },
      {
        "duration": 7,
        "start_time": "2023-05-21T08:17:13.212Z"
      },
      {
        "duration": 5,
        "start_time": "2023-05-21T08:17:13.220Z"
      },
      {
        "duration": 13,
        "start_time": "2023-05-21T08:17:13.227Z"
      },
      {
        "duration": 3,
        "start_time": "2023-05-21T08:17:13.242Z"
      },
      {
        "duration": 7,
        "start_time": "2023-05-21T08:17:13.246Z"
      },
      {
        "duration": 123,
        "start_time": "2023-05-21T08:17:13.254Z"
      },
      {
        "duration": 0,
        "start_time": "2023-05-21T08:17:13.378Z"
      },
      {
        "duration": 211,
        "start_time": "2023-05-21T08:18:04.505Z"
      },
      {
        "duration": 4,
        "start_time": "2023-05-21T08:19:35.010Z"
      },
      {
        "duration": 98,
        "start_time": "2023-05-21T08:19:36.586Z"
      },
      {
        "duration": 4,
        "start_time": "2023-05-21T08:20:00.218Z"
      },
      {
        "duration": 20,
        "start_time": "2023-05-21T08:20:29.084Z"
      },
      {
        "duration": 3,
        "start_time": "2023-05-21T08:22:59.013Z"
      },
      {
        "duration": 8,
        "start_time": "2023-05-21T08:23:00.282Z"
      },
      {
        "duration": 16,
        "start_time": "2023-05-21T08:23:13.979Z"
      },
      {
        "duration": 4,
        "start_time": "2023-05-21T08:34:24.290Z"
      },
      {
        "duration": 2,
        "start_time": "2023-05-21T08:34:25.091Z"
      },
      {
        "duration": 4,
        "start_time": "2023-05-21T08:35:17.301Z"
      },
      {
        "duration": 3,
        "start_time": "2023-05-21T08:35:18.189Z"
      },
      {
        "duration": 5,
        "start_time": "2023-05-21T08:35:47.917Z"
      },
      {
        "duration": 4,
        "start_time": "2023-05-21T08:35:48.702Z"
      },
      {
        "duration": 4,
        "start_time": "2023-05-21T08:47:22.705Z"
      },
      {
        "duration": 8,
        "start_time": "2023-05-21T08:48:05.723Z"
      },
      {
        "duration": 3,
        "start_time": "2023-05-21T08:48:30.578Z"
      },
      {
        "duration": 8,
        "start_time": "2023-05-21T08:48:55.452Z"
      },
      {
        "duration": 4,
        "start_time": "2023-05-21T09:35:30.075Z"
      },
      {
        "duration": 16,
        "start_time": "2023-05-21T09:35:35.159Z"
      },
      {
        "duration": 4,
        "start_time": "2023-05-21T10:19:58.279Z"
      },
      {
        "duration": 8,
        "start_time": "2023-05-21T10:21:23.171Z"
      },
      {
        "duration": 15,
        "start_time": "2023-05-21T10:21:42.675Z"
      },
      {
        "duration": 17,
        "start_time": "2023-05-21T11:24:55.593Z"
      },
      {
        "duration": 4,
        "start_time": "2023-05-21T11:24:59.172Z"
      },
      {
        "duration": 15,
        "start_time": "2023-05-21T11:25:00.404Z"
      },
      {
        "duration": 16,
        "start_time": "2023-05-21T11:25:34.843Z"
      },
      {
        "duration": 4,
        "start_time": "2023-05-21T11:26:09.330Z"
      },
      {
        "duration": 22,
        "start_time": "2023-05-21T11:26:10.583Z"
      },
      {
        "duration": 13,
        "start_time": "2023-05-21T11:28:12.843Z"
      },
      {
        "duration": 4,
        "start_time": "2023-05-21T11:28:40.362Z"
      },
      {
        "duration": 8,
        "start_time": "2023-05-21T11:28:41.277Z"
      },
      {
        "duration": 13,
        "start_time": "2023-05-21T11:29:06.306Z"
      },
      {
        "duration": 11,
        "start_time": "2023-05-21T11:29:14.577Z"
      },
      {
        "duration": 4,
        "start_time": "2023-05-21T11:29:30.379Z"
      },
      {
        "duration": 13,
        "start_time": "2023-05-21T11:29:33.894Z"
      },
      {
        "duration": 8,
        "start_time": "2023-05-21T11:30:10.610Z"
      },
      {
        "duration": 10,
        "start_time": "2023-05-21T11:32:50.144Z"
      },
      {
        "duration": 5,
        "start_time": "2023-05-21T11:37:19.148Z"
      },
      {
        "duration": 10,
        "start_time": "2023-05-21T11:37:20.069Z"
      },
      {
        "duration": 4,
        "start_time": "2023-05-21T11:39:53.556Z"
      },
      {
        "duration": 10,
        "start_time": "2023-05-21T11:39:59.342Z"
      },
      {
        "duration": 11,
        "start_time": "2023-05-21T11:52:15.648Z"
      },
      {
        "duration": 11,
        "start_time": "2023-05-21T11:52:45.212Z"
      },
      {
        "duration": 13,
        "start_time": "2023-05-21T11:53:43.408Z"
      },
      {
        "duration": 11,
        "start_time": "2023-05-21T11:53:56.667Z"
      },
      {
        "duration": 4,
        "start_time": "2023-05-21T11:55:09.053Z"
      },
      {
        "duration": 8,
        "start_time": "2023-05-21T11:55:17.453Z"
      },
      {
        "duration": 4,
        "start_time": "2023-05-21T11:55:49.441Z"
      },
      {
        "duration": 19,
        "start_time": "2023-05-21T11:55:50.282Z"
      },
      {
        "duration": 4,
        "start_time": "2023-05-21T11:58:01.049Z"
      },
      {
        "duration": 11,
        "start_time": "2023-05-21T11:58:01.861Z"
      },
      {
        "duration": 4,
        "start_time": "2023-05-21T11:59:07.679Z"
      },
      {
        "duration": 4,
        "start_time": "2023-05-21T11:59:14.169Z"
      },
      {
        "duration": 4,
        "start_time": "2023-05-21T11:59:14.953Z"
      },
      {
        "duration": 6,
        "start_time": "2023-05-21T11:59:49.098Z"
      },
      {
        "duration": 14,
        "start_time": "2023-05-21T11:59:50.045Z"
      },
      {
        "duration": 4,
        "start_time": "2023-05-21T12:00:26.358Z"
      },
      {
        "duration": 8,
        "start_time": "2023-05-21T12:00:27.164Z"
      },
      {
        "duration": 10,
        "start_time": "2023-05-21T12:01:21.090Z"
      },
      {
        "duration": 4,
        "start_time": "2023-05-21T12:02:26.257Z"
      },
      {
        "duration": 9,
        "start_time": "2023-05-21T12:02:27.099Z"
      },
      {
        "duration": 8,
        "start_time": "2023-05-21T12:02:32.589Z"
      },
      {
        "duration": 4,
        "start_time": "2023-05-21T12:02:55.316Z"
      },
      {
        "duration": 10,
        "start_time": "2023-05-21T12:03:12.770Z"
      },
      {
        "duration": 4,
        "start_time": "2023-05-21T12:03:59.317Z"
      },
      {
        "duration": 10,
        "start_time": "2023-05-21T12:04:00.072Z"
      },
      {
        "duration": 4,
        "start_time": "2023-05-21T12:05:18.534Z"
      },
      {
        "duration": 9,
        "start_time": "2023-05-21T12:05:19.858Z"
      },
      {
        "duration": 4,
        "start_time": "2023-05-21T12:05:21.060Z"
      },
      {
        "duration": 5,
        "start_time": "2023-05-21T12:06:26.357Z"
      },
      {
        "duration": 13,
        "start_time": "2023-05-21T12:06:27.299Z"
      },
      {
        "duration": 4,
        "start_time": "2023-05-21T12:11:00.386Z"
      },
      {
        "duration": 14,
        "start_time": "2023-05-21T12:11:01.452Z"
      },
      {
        "duration": 4,
        "start_time": "2023-05-21T12:11:19.857Z"
      },
      {
        "duration": 9,
        "start_time": "2023-05-21T12:11:20.655Z"
      },
      {
        "duration": 4,
        "start_time": "2023-05-21T12:13:59.509Z"
      },
      {
        "duration": 10,
        "start_time": "2023-05-21T12:14:00.712Z"
      },
      {
        "duration": 5,
        "start_time": "2023-05-21T12:15:05.395Z"
      },
      {
        "duration": 10,
        "start_time": "2023-05-21T12:15:08.650Z"
      },
      {
        "duration": 58,
        "start_time": "2023-05-21T14:57:33.477Z"
      },
      {
        "duration": 1071,
        "start_time": "2023-05-21T14:57:43.930Z"
      },
      {
        "duration": 96,
        "start_time": "2023-05-21T14:57:45.002Z"
      },
      {
        "duration": 15,
        "start_time": "2023-05-21T14:57:45.099Z"
      },
      {
        "duration": 14,
        "start_time": "2023-05-21T14:57:45.116Z"
      },
      {
        "duration": 23,
        "start_time": "2023-05-21T14:57:45.134Z"
      },
      {
        "duration": 5,
        "start_time": "2023-05-21T14:57:45.158Z"
      },
      {
        "duration": 2236,
        "start_time": "2023-05-21T14:57:45.165Z"
      },
      {
        "duration": 12,
        "start_time": "2023-05-21T14:57:47.402Z"
      },
      {
        "duration": 4,
        "start_time": "2023-05-21T14:57:47.417Z"
      },
      {
        "duration": 93,
        "start_time": "2023-05-21T14:57:47.427Z"
      },
      {
        "duration": 109,
        "start_time": "2023-05-21T14:57:47.524Z"
      },
      {
        "duration": 79,
        "start_time": "2023-05-21T14:57:47.637Z"
      },
      {
        "duration": 8,
        "start_time": "2023-05-21T14:57:47.719Z"
      },
      {
        "duration": 6,
        "start_time": "2023-05-21T14:57:47.735Z"
      },
      {
        "duration": 14,
        "start_time": "2023-05-21T14:57:47.807Z"
      },
      {
        "duration": 12,
        "start_time": "2023-05-21T14:57:47.823Z"
      },
      {
        "duration": 7,
        "start_time": "2023-05-21T14:57:47.837Z"
      },
      {
        "duration": 11,
        "start_time": "2023-05-21T14:57:47.845Z"
      },
      {
        "duration": 4,
        "start_time": "2023-05-21T14:57:47.857Z"
      },
      {
        "duration": 13,
        "start_time": "2023-05-21T14:57:47.862Z"
      },
      {
        "duration": 5,
        "start_time": "2023-05-21T14:57:47.876Z"
      },
      {
        "duration": 89,
        "start_time": "2023-05-21T14:57:47.882Z"
      },
      {
        "duration": 0,
        "start_time": "2023-05-21T14:57:47.972Z"
      },
      {
        "duration": 0,
        "start_time": "2023-05-21T14:57:47.973Z"
      },
      {
        "duration": 0,
        "start_time": "2023-05-21T14:57:47.974Z"
      },
      {
        "duration": 0,
        "start_time": "2023-05-21T14:57:47.975Z"
      },
      {
        "duration": 10,
        "start_time": "2023-05-21T14:58:06.871Z"
      },
      {
        "duration": 5,
        "start_time": "2023-05-21T14:59:19.183Z"
      },
      {
        "duration": 11,
        "start_time": "2023-05-21T14:59:19.976Z"
      },
      {
        "duration": 5,
        "start_time": "2023-05-21T14:59:35.747Z"
      },
      {
        "duration": 13,
        "start_time": "2023-05-21T14:59:36.701Z"
      },
      {
        "duration": 6,
        "start_time": "2023-05-21T14:59:51.245Z"
      },
      {
        "duration": 10,
        "start_time": "2023-05-21T14:59:54.049Z"
      },
      {
        "duration": 5,
        "start_time": "2023-05-21T15:00:10.139Z"
      },
      {
        "duration": 14,
        "start_time": "2023-05-21T15:00:10.934Z"
      },
      {
        "duration": 5,
        "start_time": "2023-05-21T15:00:31.079Z"
      },
      {
        "duration": 16,
        "start_time": "2023-05-21T15:00:31.928Z"
      },
      {
        "duration": 5,
        "start_time": "2023-05-21T15:00:49.490Z"
      },
      {
        "duration": 14,
        "start_time": "2023-05-21T15:00:50.713Z"
      },
      {
        "duration": 8,
        "start_time": "2023-05-21T15:08:45.090Z"
      },
      {
        "duration": 5,
        "start_time": "2023-05-21T15:08:52.944Z"
      },
      {
        "duration": 5,
        "start_time": "2023-05-21T15:08:53.771Z"
      },
      {
        "duration": 5,
        "start_time": "2023-05-21T15:10:10.856Z"
      },
      {
        "duration": 8,
        "start_time": "2023-05-21T15:10:11.784Z"
      },
      {
        "duration": 13,
        "start_time": "2023-05-21T15:10:18.037Z"
      },
      {
        "duration": 5,
        "start_time": "2023-05-21T15:10:21.842Z"
      },
      {
        "duration": 15,
        "start_time": "2023-05-21T15:10:22.806Z"
      },
      {
        "duration": 4,
        "start_time": "2023-05-21T15:10:57.355Z"
      },
      {
        "duration": 8,
        "start_time": "2023-05-21T15:10:58.263Z"
      },
      {
        "duration": 5,
        "start_time": "2023-05-21T15:28:05.706Z"
      },
      {
        "duration": 12,
        "start_time": "2023-05-21T15:28:06.801Z"
      },
      {
        "duration": 8,
        "start_time": "2023-05-21T15:28:10.251Z"
      },
      {
        "duration": 6,
        "start_time": "2023-05-21T15:32:13.706Z"
      },
      {
        "duration": 14,
        "start_time": "2023-05-21T15:32:17.273Z"
      },
      {
        "duration": 5,
        "start_time": "2023-05-21T15:32:51.679Z"
      },
      {
        "duration": 16,
        "start_time": "2023-05-21T15:32:52.425Z"
      },
      {
        "duration": 5,
        "start_time": "2023-05-21T16:20:10.403Z"
      },
      {
        "duration": 4,
        "start_time": "2023-05-21T16:20:11.218Z"
      },
      {
        "duration": 4,
        "start_time": "2023-05-21T16:20:22.747Z"
      },
      {
        "duration": 15,
        "start_time": "2023-05-21T16:20:23.508Z"
      },
      {
        "duration": 1042,
        "start_time": "2023-05-21T17:21:24.496Z"
      },
      {
        "duration": 27,
        "start_time": "2023-05-21T17:21:25.540Z"
      },
      {
        "duration": 16,
        "start_time": "2023-05-21T17:21:25.569Z"
      },
      {
        "duration": 10,
        "start_time": "2023-05-21T17:21:25.587Z"
      },
      {
        "duration": 27,
        "start_time": "2023-05-21T17:21:25.599Z"
      },
      {
        "duration": 4,
        "start_time": "2023-05-21T17:21:25.627Z"
      },
      {
        "duration": 2029,
        "start_time": "2023-05-21T17:21:25.632Z"
      },
      {
        "duration": 11,
        "start_time": "2023-05-21T17:21:27.662Z"
      },
      {
        "duration": 4,
        "start_time": "2023-05-21T17:21:27.674Z"
      },
      {
        "duration": 11,
        "start_time": "2023-05-21T17:21:27.679Z"
      },
      {
        "duration": 21,
        "start_time": "2023-05-21T17:21:27.706Z"
      },
      {
        "duration": 90,
        "start_time": "2023-05-21T17:21:27.728Z"
      },
      {
        "duration": 6,
        "start_time": "2023-05-21T17:21:27.820Z"
      },
      {
        "duration": 76,
        "start_time": "2023-05-21T17:21:27.830Z"
      },
      {
        "duration": 19,
        "start_time": "2023-05-21T17:21:27.908Z"
      },
      {
        "duration": 13,
        "start_time": "2023-05-21T17:21:27.929Z"
      },
      {
        "duration": 4,
        "start_time": "2023-05-21T17:21:27.944Z"
      },
      {
        "duration": 9,
        "start_time": "2023-05-21T17:21:27.950Z"
      },
      {
        "duration": 7,
        "start_time": "2023-05-21T17:21:27.960Z"
      },
      {
        "duration": 11,
        "start_time": "2023-05-21T17:21:27.969Z"
      },
      {
        "duration": 1141,
        "start_time": "2023-05-21T17:22:03.285Z"
      },
      {
        "duration": 28,
        "start_time": "2023-05-21T17:22:04.428Z"
      },
      {
        "duration": 16,
        "start_time": "2023-05-21T17:22:04.457Z"
      },
      {
        "duration": 11,
        "start_time": "2023-05-21T17:22:04.475Z"
      },
      {
        "duration": 39,
        "start_time": "2023-05-21T17:22:04.488Z"
      },
      {
        "duration": 4,
        "start_time": "2023-05-21T17:22:04.529Z"
      },
      {
        "duration": 2154,
        "start_time": "2023-05-21T17:22:04.535Z"
      },
      {
        "duration": 11,
        "start_time": "2023-05-21T17:22:06.691Z"
      },
      {
        "duration": 8,
        "start_time": "2023-05-21T17:22:06.704Z"
      },
      {
        "duration": 22,
        "start_time": "2023-05-21T17:22:06.714Z"
      },
      {
        "duration": 76,
        "start_time": "2023-05-21T17:22:06.737Z"
      },
      {
        "duration": 16,
        "start_time": "2023-05-21T17:22:06.815Z"
      },
      {
        "duration": 82,
        "start_time": "2023-05-21T17:22:06.833Z"
      },
      {
        "duration": 9,
        "start_time": "2023-05-21T17:22:06.920Z"
      },
      {
        "duration": 74,
        "start_time": "2023-05-21T17:22:06.933Z"
      },
      {
        "duration": 15,
        "start_time": "2023-05-21T17:22:07.011Z"
      },
      {
        "duration": 7,
        "start_time": "2023-05-21T17:22:07.028Z"
      },
      {
        "duration": 13,
        "start_time": "2023-05-21T17:22:07.036Z"
      },
      {
        "duration": 6,
        "start_time": "2023-05-21T17:22:07.050Z"
      },
      {
        "duration": 13,
        "start_time": "2023-05-21T17:22:07.058Z"
      }
    ],
    "kernelspec": {
      "display_name": "Python 3 (ipykernel)",
      "language": "python",
      "name": "python3"
    },
    "language_info": {
      "codemirror_mode": {
        "name": "ipython",
        "version": 3
      },
      "file_extension": ".py",
      "mimetype": "text/x-python",
      "name": "python",
      "nbconvert_exporter": "python",
      "pygments_lexer": "ipython3",
      "version": "3.9.5"
    },
    "toc": {
      "base_numbering": 1,
      "nav_menu": {},
      "number_sections": true,
      "sideBar": true,
      "skip_h1_title": true,
      "title_cell": "Содержание",
      "title_sidebar": "Contents",
      "toc_cell": true,
      "toc_position": {},
      "toc_section_display": true,
      "toc_window_display": false
    },
    "colab": {
      "provenance": []
    }
  },
  "nbformat": 4,
  "nbformat_minor": 0
}