{
  "cells": [
    {
      "cell_type": "markdown",
      "metadata": {
        "id": "OV-5_RuQMfpT"
      },
      "source": [
        "# Рекомендация тарифов"
      ]
    },
    {
      "cell_type": "markdown",
      "metadata": {
        "id": "QbOICwElMfpU"
      },
      "source": [
        "Оператор мобильной связи «Мегалайн» выяснил: многие клиенты пользуются архивными тарифами. Они хотят построить систему, способную проанализировать поведение клиентов и предложить пользователям новый тариф: «Смарт» или «Ультра».\n",
        "В нашем распоряжении данные о поведении клиентов, которые уже перешли на эти тарифы.\n",
        "Описание данных\n",
        "Каждый объект в наборе данных — это информация о поведении одного пользователя за месяц. Известно:\n",
        "*   сalls — количество звонков,\n",
        "*   minutes — суммарная длительность звонков в минутах,\n",
        "*   messages — количество sms-сообщений,\n",
        "*   mb_used — израсходованный интернет-трафик в Мб,\n",
        "*   is_ultra — каким тарифом пользовался в течение месяца («Ультра» — 1, «Смарт» — 0).\n",
        "\n",
        "Цель проекта - построить модель для задачи классификации, которая выберет подходящий тариф.\n",
        "Предобработка данных не понадобится — данные уже предобработанны.\n",
        "\n",
        "Для выполнения поставленной цели будут выполнены шаги: открыт и изучен файл, данные будут разбиты на выборки, будут исследованы модели, протестирована и проверена на адекватность лучшая модель.\n"
      ]
    },
    {
      "cell_type": "markdown",
      "metadata": {
        "id": "pjX1HTgrMfpV"
      },
      "source": [
        "## Открытие и изучение файла"
      ]
    },
    {
      "cell_type": "code",
      "execution_count": null,
      "metadata": {
        "id": "Ce6dQy4GMfpV"
      },
      "outputs": [],
      "source": [
        "import pandas as pd\n",
        "import numpy as np\n",
        "import matplotlib.pyplot as plt\n",
        "from sklearn import tree\n",
        "from sklearn.model_selection import train_test_split\n",
        "from sklearn.tree import DecisionTreeClassifier\n",
        "from sklearn.ensemble import RandomForestClassifier\n",
        "from sklearn.linear_model import LogisticRegression\n",
        "from sklearn.metrics import accuracy_score\n",
        "from sklearn.dummy import DummyClassifier"
      ]
    },
    {
      "cell_type": "code",
      "execution_count": null,
      "metadata": {
        "id": "8997umHHMfpX"
      },
      "outputs": [],
      "source": [
        "df = pd.read_csv('/datasets/users_behavior.csv')"
      ]
    },
    {
      "cell_type": "code",
      "execution_count": null,
      "metadata": {
        "id": "hmWnZQm2MfpX",
        "outputId": "2e9b3c20-f052-406d-9bab-ee317fffdf4d"
      },
      "outputs": [
        {
          "data": {
            "text/html": [
              "<div>\n",
              "<style scoped>\n",
              "    .dataframe tbody tr th:only-of-type {\n",
              "        vertical-align: middle;\n",
              "    }\n",
              "\n",
              "    .dataframe tbody tr th {\n",
              "        vertical-align: top;\n",
              "    }\n",
              "\n",
              "    .dataframe thead th {\n",
              "        text-align: right;\n",
              "    }\n",
              "</style>\n",
              "<table border=\"1\" class=\"dataframe\">\n",
              "  <thead>\n",
              "    <tr style=\"text-align: right;\">\n",
              "      <th></th>\n",
              "      <th>calls</th>\n",
              "      <th>minutes</th>\n",
              "      <th>messages</th>\n",
              "      <th>mb_used</th>\n",
              "      <th>is_ultra</th>\n",
              "    </tr>\n",
              "  </thead>\n",
              "  <tbody>\n",
              "    <tr>\n",
              "      <th>0</th>\n",
              "      <td>40.0</td>\n",
              "      <td>311.90</td>\n",
              "      <td>83.0</td>\n",
              "      <td>19915.42</td>\n",
              "      <td>0</td>\n",
              "    </tr>\n",
              "    <tr>\n",
              "      <th>1</th>\n",
              "      <td>85.0</td>\n",
              "      <td>516.75</td>\n",
              "      <td>56.0</td>\n",
              "      <td>22696.96</td>\n",
              "      <td>0</td>\n",
              "    </tr>\n",
              "    <tr>\n",
              "      <th>2</th>\n",
              "      <td>77.0</td>\n",
              "      <td>467.66</td>\n",
              "      <td>86.0</td>\n",
              "      <td>21060.45</td>\n",
              "      <td>0</td>\n",
              "    </tr>\n",
              "    <tr>\n",
              "      <th>3</th>\n",
              "      <td>106.0</td>\n",
              "      <td>745.53</td>\n",
              "      <td>81.0</td>\n",
              "      <td>8437.39</td>\n",
              "      <td>1</td>\n",
              "    </tr>\n",
              "    <tr>\n",
              "      <th>4</th>\n",
              "      <td>66.0</td>\n",
              "      <td>418.74</td>\n",
              "      <td>1.0</td>\n",
              "      <td>14502.75</td>\n",
              "      <td>0</td>\n",
              "    </tr>\n",
              "  </tbody>\n",
              "</table>\n",
              "</div>"
            ],
            "text/plain": [
              "   calls  minutes  messages   mb_used  is_ultra\n",
              "0   40.0   311.90      83.0  19915.42         0\n",
              "1   85.0   516.75      56.0  22696.96         0\n",
              "2   77.0   467.66      86.0  21060.45         0\n",
              "3  106.0   745.53      81.0   8437.39         1\n",
              "4   66.0   418.74       1.0  14502.75         0"
            ]
          },
          "execution_count": 3,
          "metadata": {},
          "output_type": "execute_result"
        }
      ],
      "source": [
        "df.head()"
      ]
    },
    {
      "cell_type": "code",
      "execution_count": null,
      "metadata": {
        "id": "tshIL8kNMfpY",
        "outputId": "1ab82539-161f-42b9-a2c1-9feb40064900"
      },
      "outputs": [
        {
          "name": "stdout",
          "output_type": "stream",
          "text": [
            "<class 'pandas.core.frame.DataFrame'>\n",
            "RangeIndex: 3214 entries, 0 to 3213\n",
            "Data columns (total 5 columns):\n",
            " #   Column    Non-Null Count  Dtype  \n",
            "---  ------    --------------  -----  \n",
            " 0   calls     3214 non-null   float64\n",
            " 1   minutes   3214 non-null   float64\n",
            " 2   messages  3214 non-null   float64\n",
            " 3   mb_used   3214 non-null   float64\n",
            " 4   is_ultra  3214 non-null   int64  \n",
            "dtypes: float64(4), int64(1)\n",
            "memory usage: 125.7 KB\n"
          ]
        }
      ],
      "source": [
        "df.info()"
      ]
    },
    {
      "cell_type": "code",
      "execution_count": null,
      "metadata": {
        "id": "roGOYv0GMfpZ",
        "outputId": "e8e27cae-73a7-4613-badb-6c1678e31132"
      },
      "outputs": [
        {
          "data": {
            "text/plain": [
              "is_ultra\n",
              "0    0.693528\n",
              "1    0.306472\n",
              "dtype: float64"
            ]
          },
          "execution_count": 5,
          "metadata": {},
          "output_type": "execute_result"
        }
      ],
      "source": [
        "df.groupby('is_ultra').size()/len(df)"
      ]
    },
    {
      "cell_type": "code",
      "execution_count": null,
      "metadata": {
        "id": "sYGm7mUCMfpZ",
        "outputId": "0401572d-74da-4f58-f298-0a3378175361"
      },
      "outputs": [
        {
          "data": {
            "text/html": [
              "<div>\n",
              "<style scoped>\n",
              "    .dataframe tbody tr th:only-of-type {\n",
              "        vertical-align: middle;\n",
              "    }\n",
              "\n",
              "    .dataframe tbody tr th {\n",
              "        vertical-align: top;\n",
              "    }\n",
              "\n",
              "    .dataframe thead th {\n",
              "        text-align: right;\n",
              "    }\n",
              "</style>\n",
              "<table border=\"1\" class=\"dataframe\">\n",
              "  <thead>\n",
              "    <tr style=\"text-align: right;\">\n",
              "      <th></th>\n",
              "      <th>calls</th>\n",
              "      <th>minutes</th>\n",
              "      <th>messages</th>\n",
              "      <th>mb_used</th>\n",
              "      <th>is_ultra</th>\n",
              "    </tr>\n",
              "  </thead>\n",
              "  <tbody>\n",
              "    <tr>\n",
              "      <th>calls</th>\n",
              "      <td>1.000000</td>\n",
              "      <td>0.982083</td>\n",
              "      <td>0.177385</td>\n",
              "      <td>0.286442</td>\n",
              "      <td>0.207122</td>\n",
              "    </tr>\n",
              "    <tr>\n",
              "      <th>minutes</th>\n",
              "      <td>0.982083</td>\n",
              "      <td>1.000000</td>\n",
              "      <td>0.173110</td>\n",
              "      <td>0.280967</td>\n",
              "      <td>0.206955</td>\n",
              "    </tr>\n",
              "    <tr>\n",
              "      <th>messages</th>\n",
              "      <td>0.177385</td>\n",
              "      <td>0.173110</td>\n",
              "      <td>1.000000</td>\n",
              "      <td>0.195721</td>\n",
              "      <td>0.203830</td>\n",
              "    </tr>\n",
              "    <tr>\n",
              "      <th>mb_used</th>\n",
              "      <td>0.286442</td>\n",
              "      <td>0.280967</td>\n",
              "      <td>0.195721</td>\n",
              "      <td>1.000000</td>\n",
              "      <td>0.198568</td>\n",
              "    </tr>\n",
              "    <tr>\n",
              "      <th>is_ultra</th>\n",
              "      <td>0.207122</td>\n",
              "      <td>0.206955</td>\n",
              "      <td>0.203830</td>\n",
              "      <td>0.198568</td>\n",
              "      <td>1.000000</td>\n",
              "    </tr>\n",
              "  </tbody>\n",
              "</table>\n",
              "</div>"
            ],
            "text/plain": [
              "             calls   minutes  messages   mb_used  is_ultra\n",
              "calls     1.000000  0.982083  0.177385  0.286442  0.207122\n",
              "minutes   0.982083  1.000000  0.173110  0.280967  0.206955\n",
              "messages  0.177385  0.173110  1.000000  0.195721  0.203830\n",
              "mb_used   0.286442  0.280967  0.195721  1.000000  0.198568\n",
              "is_ultra  0.207122  0.206955  0.203830  0.198568  1.000000"
            ]
          },
          "execution_count": 6,
          "metadata": {},
          "output_type": "execute_result"
        }
      ],
      "source": [
        "df.corr()"
      ]
    },
    {
      "cell_type": "code",
      "execution_count": null,
      "metadata": {
        "id": "MJs1kWf_MfpZ",
        "outputId": "35a1b8cf-a9d2-40b4-df98-934fc60dfa26"
      },
      "outputs": [
        {
          "data": {
            "text/html": [
              "<div>\n",
              "<style scoped>\n",
              "    .dataframe tbody tr th:only-of-type {\n",
              "        vertical-align: middle;\n",
              "    }\n",
              "\n",
              "    .dataframe tbody tr th {\n",
              "        vertical-align: top;\n",
              "    }\n",
              "\n",
              "    .dataframe thead th {\n",
              "        text-align: right;\n",
              "    }\n",
              "</style>\n",
              "<table border=\"1\" class=\"dataframe\">\n",
              "  <thead>\n",
              "    <tr style=\"text-align: right;\">\n",
              "      <th></th>\n",
              "      <th>calls</th>\n",
              "      <th>minutes</th>\n",
              "      <th>messages</th>\n",
              "      <th>mb_used</th>\n",
              "      <th>is_ultra</th>\n",
              "    </tr>\n",
              "  </thead>\n",
              "  <tbody>\n",
              "    <tr>\n",
              "      <th>count</th>\n",
              "      <td>3214.000000</td>\n",
              "      <td>3214.000000</td>\n",
              "      <td>3214.000000</td>\n",
              "      <td>3214.000000</td>\n",
              "      <td>3214.000000</td>\n",
              "    </tr>\n",
              "    <tr>\n",
              "      <th>mean</th>\n",
              "      <td>63.038892</td>\n",
              "      <td>438.208787</td>\n",
              "      <td>38.281269</td>\n",
              "      <td>17207.673836</td>\n",
              "      <td>0.306472</td>\n",
              "    </tr>\n",
              "    <tr>\n",
              "      <th>std</th>\n",
              "      <td>33.236368</td>\n",
              "      <td>234.569872</td>\n",
              "      <td>36.148326</td>\n",
              "      <td>7570.968246</td>\n",
              "      <td>0.461100</td>\n",
              "    </tr>\n",
              "    <tr>\n",
              "      <th>min</th>\n",
              "      <td>0.000000</td>\n",
              "      <td>0.000000</td>\n",
              "      <td>0.000000</td>\n",
              "      <td>0.000000</td>\n",
              "      <td>0.000000</td>\n",
              "    </tr>\n",
              "    <tr>\n",
              "      <th>25%</th>\n",
              "      <td>40.000000</td>\n",
              "      <td>274.575000</td>\n",
              "      <td>9.000000</td>\n",
              "      <td>12491.902500</td>\n",
              "      <td>0.000000</td>\n",
              "    </tr>\n",
              "    <tr>\n",
              "      <th>50%</th>\n",
              "      <td>62.000000</td>\n",
              "      <td>430.600000</td>\n",
              "      <td>30.000000</td>\n",
              "      <td>16943.235000</td>\n",
              "      <td>0.000000</td>\n",
              "    </tr>\n",
              "    <tr>\n",
              "      <th>75%</th>\n",
              "      <td>82.000000</td>\n",
              "      <td>571.927500</td>\n",
              "      <td>57.000000</td>\n",
              "      <td>21424.700000</td>\n",
              "      <td>1.000000</td>\n",
              "    </tr>\n",
              "    <tr>\n",
              "      <th>max</th>\n",
              "      <td>244.000000</td>\n",
              "      <td>1632.060000</td>\n",
              "      <td>224.000000</td>\n",
              "      <td>49745.730000</td>\n",
              "      <td>1.000000</td>\n",
              "    </tr>\n",
              "  </tbody>\n",
              "</table>\n",
              "</div>"
            ],
            "text/plain": [
              "             calls      minutes     messages       mb_used     is_ultra\n",
              "count  3214.000000  3214.000000  3214.000000   3214.000000  3214.000000\n",
              "mean     63.038892   438.208787    38.281269  17207.673836     0.306472\n",
              "std      33.236368   234.569872    36.148326   7570.968246     0.461100\n",
              "min       0.000000     0.000000     0.000000      0.000000     0.000000\n",
              "25%      40.000000   274.575000     9.000000  12491.902500     0.000000\n",
              "50%      62.000000   430.600000    30.000000  16943.235000     0.000000\n",
              "75%      82.000000   571.927500    57.000000  21424.700000     1.000000\n",
              "max     244.000000  1632.060000   224.000000  49745.730000     1.000000"
            ]
          },
          "execution_count": 7,
          "metadata": {},
          "output_type": "execute_result"
        }
      ],
      "source": [
        "df.describe()"
      ]
    },
    {
      "cell_type": "markdown",
      "source": [
        "Данные содержат 3214 строк и 5 столбцов. Присутствует дисбаланс классов. Есть сильная корреляция между calls и minutes."
      ],
      "metadata": {
        "id": "Sk6SpXwvVKgB"
      }
    },
    {
      "cell_type": "markdown",
      "metadata": {
        "id": "8M1D4j0yMfpa"
      },
      "source": [
        "## Разбивка данных на выборки"
      ]
    },
    {
      "cell_type": "code",
      "execution_count": null,
      "metadata": {
        "id": "xb9Gmy_CMfpa"
      },
      "outputs": [],
      "source": [
        "features = df.drop(['is_ultra'], axis=1)\n",
        "target = df['is_ultra']"
      ]
    },
    {
      "cell_type": "code",
      "execution_count": null,
      "metadata": {
        "id": "pdWlYFq9Mfpb"
      },
      "outputs": [],
      "source": [
        "np.random.seed(42)"
      ]
    },
    {
      "cell_type": "code",
      "execution_count": null,
      "metadata": {
        "id": "xkhR3xYAMfpb"
      },
      "outputs": [],
      "source": [
        "features_train, features_test, target_train, target_test = train_test_split(features, target,\n",
        "                                                                            test_size=0.4,\n",
        "                                                                            stratify=target)"
      ]
    },
    {
      "cell_type": "code",
      "execution_count": null,
      "metadata": {
        "id": "rSKfH3-ZMfpb",
        "outputId": "7023df28-3289-4ef4-de94-e5323ed08026"
      },
      "outputs": [
        {
          "name": "stdout",
          "output_type": "stream",
          "text": [
            "Количество строк в target_train по классам: [1337  591]\n",
            "Количество строк в target_test по классам: [892 394]\n"
          ]
        }
      ],
      "source": [
        "print(f\"Количество строк в target_train по классам: {np.bincount(target_train)}\")\n",
        "print(f\"Количество строк в target_test по классам: {np.bincount(target_test)}\")"
      ]
    },
    {
      "cell_type": "code",
      "execution_count": null,
      "metadata": {
        "id": "srB7EWk_Mfpb",
        "outputId": "765fabd3-e189-4b5b-aefe-0d779f4a14c9"
      },
      "outputs": [
        {
          "name": "stdout",
          "output_type": "stream",
          "text": [
            "(1928, 4)\n",
            "(1928,)\n"
          ]
        }
      ],
      "source": [
        "print(features_train.shape)\n",
        "print(target_train.shape)"
      ]
    },
    {
      "cell_type": "code",
      "execution_count": null,
      "metadata": {
        "id": "V6FDgPBkMfpc",
        "outputId": "5d68e4fd-5923-43ad-a807-4fdb5f970696"
      },
      "outputs": [
        {
          "name": "stdout",
          "output_type": "stream",
          "text": [
            "(1286, 4)\n",
            "(1286,)\n"
          ]
        }
      ],
      "source": [
        "print(features_test.shape)\n",
        "print(target_test.shape)"
      ]
    },
    {
      "cell_type": "code",
      "execution_count": null,
      "metadata": {
        "id": "GtdVjolGMfpc"
      },
      "outputs": [],
      "source": [
        "features_test, features_valid, target_test, target_valid = train_test_split(features_test, target_test,\n",
        "                                                                            test_size=0.5,\n",
        "                                                                            stratify=target_test)"
      ]
    },
    {
      "cell_type": "code",
      "execution_count": null,
      "metadata": {
        "id": "ggbHYOkhMfpc",
        "outputId": "29b0f4ca-560a-4998-df8c-a933f6f7878c"
      },
      "outputs": [
        {
          "name": "stdout",
          "output_type": "stream",
          "text": [
            "Количество строк в target_test по классам: [446 197]\n",
            "Количество строк в target_valid по классам: [446 197]\n"
          ]
        }
      ],
      "source": [
        "print(f\"Количество строк в target_test по классам: {np.bincount(target_test)}\")\n",
        "print(f\"Количество строк в target_valid по классам: {np.bincount(target_valid)}\")"
      ]
    },
    {
      "cell_type": "code",
      "execution_count": null,
      "metadata": {
        "id": "BR-Yuj88Mfpc",
        "outputId": "704a3727-e434-416c-de56-89e997abc1b5"
      },
      "outputs": [
        {
          "name": "stdout",
          "output_type": "stream",
          "text": [
            "(643, 4)\n",
            "(643,)\n"
          ]
        }
      ],
      "source": [
        "print(features_test.shape)\n",
        "print(target_test.shape)"
      ]
    },
    {
      "cell_type": "code",
      "execution_count": null,
      "metadata": {
        "id": "bjpmFovHMfpd",
        "outputId": "a4401d1b-856f-491f-de91-e0d0dd8c413b"
      },
      "outputs": [
        {
          "name": "stdout",
          "output_type": "stream",
          "text": [
            "(643, 4)\n",
            "(643,)\n"
          ]
        }
      ],
      "source": [
        "print(features_valid.shape)\n",
        "print(target_valid.shape)"
      ]
    },
    {
      "cell_type": "markdown",
      "metadata": {
        "id": "nK-d-5kvMfpe"
      },
      "source": [
        "## Исследование модели"
      ]
    },
    {
      "cell_type": "code",
      "execution_count": null,
      "metadata": {
        "id": "0FGOYRidMfpe",
        "outputId": "aacc220c-7129-44be-bcf6-b083a9e27d6e"
      },
      "outputs": [
        {
          "name": "stdout",
          "output_type": "stream",
          "text": [
            "Accuracy наилучшей модели на валидационной выборке: 0.7947122861586314 , max_depth = 7\n"
          ]
        }
      ],
      "source": [
        "best_model_dt = None\n",
        "best_result_dt = 0\n",
        "depth = 0\n",
        "list_train = []\n",
        "list_valid = []\n",
        "list_depth = [1, 2, 3, 4, 5, 6, 7, 8, 9, 10]\n",
        "for i in range(1,11):\n",
        "    model_1 = DecisionTreeClassifier(random_state=12345, criterion='gini', max_depth=i)\n",
        "    model_1.fit(features_train, target_train)\n",
        "    list_train.append(model_1.score(features_train, target_train))\n",
        "    result = model_1.score(features_valid, target_valid)\n",
        "    list_valid.append(result)\n",
        "    if result > best_result_dt:\n",
        "        best_model_dt = model_1\n",
        "        best_result_dt = result\n",
        "        depth = i\n",
        "print(\"Accuracy наилучшей модели на валидационной выборке:\", best_result_dt, ', max_depth =', depth)"
      ]
    },
    {
      "cell_type": "code",
      "execution_count": null,
      "metadata": {
        "id": "naXQLSyYMfpe",
        "outputId": "2876f1ef-9a96-493c-9977-7246397461a8"
      },
      "outputs": [
        {
          "data": {
            "image/png": "[encoded data removed]",
            "text/plain": [
              "<Figure size 576x288 with 1 Axes>"
            ]
          },
          "metadata": {
            "needs_background": "light"
          },
          "output_type": "display_data"
        }
      ],
      "source": [
        "plt.figure(figsize=(8,4))\n",
        "plt.xlabel('depth')\n",
        "plt.ylabel('accuracy')\n",
        "plt.plot(list_depth, list_train, label = 'train')\n",
        "plt.plot(list_depth, list_valid, label = 'valid')\n",
        "plt.legend();"
      ]
    },
    {
      "cell_type": "code",
      "execution_count": null,
      "metadata": {
        "id": "lqhNQBTgMfpe",
        "outputId": "fc47a96f-ef7a-4b1a-e8a4-7b7fa63381f4"
      },
      "outputs": [
        {
          "data": {
            "image/png": "[encoded data removed]",
            "text/plain": [
              "<Figure size 2520x1440 with 1 Axes>"
            ]
          },
          "metadata": {
            "needs_background": "light"
          },
          "output_type": "display_data"
        }
      ],
      "source": [
        "fig = plt.figure(figsize=(35,20))\n",
        "tree.plot_tree(best_model_dt,\n",
        "               feature_names=features.columns.values,\n",
        "               class_names=['Smart','Ultra'],\n",
        "               filled=True,\n",
        "               fontsize = 15,\n",
        "               max_depth = 3\n",
        "              );\n",
        ""
      ]
    },
    {
      "cell_type": "code",
      "execution_count": null,
      "metadata": {
        "id": "SrsF14ZMMfpg",
        "outputId": "c30d548e-bbfb-4e31-94f9-5ac3927dd572"
      },
      "outputs": [
        {
          "name": "stdout",
          "output_type": "stream",
          "text": [
            "Accuracy наилучшей модели на валидационной выборке: 0.8133748055987559 , n_estimators = 13 , max_depth 10\n",
            "CPU times: user 5.07 s, sys: 29.8 ms, total: 5.1 s\n",
            "Wall time: 5.11 s\n"
          ]
        }
      ],
      "source": [
        "%%time\n",
        "best_model = None\n",
        "best_result = 0\n",
        "n = 0\n",
        "m = 0\n",
        "for est in range(1, 15):\n",
        "    for depth in range(1, 15):\n",
        "        model_2 = RandomForestClassifier(random_state=12345, n_estimators=est, max_depth=depth)\n",
        "        model_2.fit(features_train, target_train)\n",
        "        result = model_2.score(features_valid, target_valid)\n",
        "        if result > best_result:\n",
        "            best_model = model_2\n",
        "            best_result = result\n",
        "            n = est\n",
        "            m = depth\n",
        "print(\"Accuracy наилучшей модели на валидационной выборке:\", best_result, ', n_estimators =', n, ', max_depth', m)"
      ]
    },
    {
      "cell_type": "code",
      "execution_count": null,
      "metadata": {
        "id": "YrKX6OPPMfph",
        "outputId": "0c98bae6-d2ab-4e3e-b31d-7ab09428be2b"
      },
      "outputs": [
        {
          "data": {
            "text/plain": [
              "0.6982892690513219"
            ]
          },
          "execution_count": 23,
          "metadata": {},
          "output_type": "execute_result"
        }
      ],
      "source": [
        "model_3 = LogisticRegression(random_state=12345, solver='liblinear', max_iter=1000)\n",
        "model_3.fit(features_train, target_train)\n",
        "model_3.score(features_valid, target_valid)"
      ]
    },
    {
      "cell_type": "markdown",
      "metadata": {
        "id": "ppkqUU3QMfph"
      },
      "source": [
        "Наилучшие результаты с самым высоким качеством (аccuracy) у модели обученной алгоритмом RandomForest с параметром n_estimators = 13, max_depth =10."
      ]
    },
    {
      "cell_type": "markdown",
      "metadata": {
        "id": "AqJM8FubMfpi"
      },
      "source": [
        "## Проверка модели на тестовой выборке"
      ]
    },
    {
      "cell_type": "code",
      "execution_count": null,
      "metadata": {
        "id": "mbLUodHVMfpi",
        "outputId": "f2b49c8c-24d4-4842-9da4-4cc04a807769"
      },
      "outputs": [
        {
          "data": {
            "text/plain": [
              "0.8040435458786936"
            ]
          },
          "execution_count": 24,
          "metadata": {},
          "output_type": "execute_result"
        }
      ],
      "source": [
        "model = RandomForestClassifier(random_state=12345, n_estimators=13, max_depth=10)\n",
        "model.fit(features_train, target_train)\n",
        "model.score(features_test, target_test)"
      ]
    },
    {
      "cell_type": "code",
      "execution_count": null,
      "metadata": {
        "id": "GIV6_zoGMfpj",
        "outputId": "bc5efced-dd49-4d29-c74e-7403591292db"
      },
      "outputs": [
        {
          "data": {
            "text/plain": [
              "(2571, 4)"
            ]
          },
          "execution_count": 25,
          "metadata": {},
          "output_type": "execute_result"
        }
      ],
      "source": [
        "features_new = pd.concat([features_train, features_valid])\n",
        "features_new.shape"
      ]
    },
    {
      "cell_type": "code",
      "execution_count": null,
      "metadata": {
        "id": "2ivT3E9ZMfpj",
        "outputId": "b2c858ed-33df-4168-9a82-fdb36409f1b9"
      },
      "outputs": [
        {
          "data": {
            "text/plain": [
              "(2571,)"
            ]
          },
          "execution_count": 26,
          "metadata": {},
          "output_type": "execute_result"
        }
      ],
      "source": [
        "target_new = pd.concat([target_train, target_valid])\n",
        "target_new.shape"
      ]
    },
    {
      "cell_type": "code",
      "execution_count": null,
      "metadata": {
        "id": "LCBM8Jc0Mfpj",
        "outputId": "9e0b8ab5-9907-4ef9-c8ce-1e268e8799d3"
      },
      "outputs": [
        {
          "data": {
            "text/plain": [
              "0.8040435458786936"
            ]
          },
          "execution_count": 27,
          "metadata": {},
          "output_type": "execute_result"
        }
      ],
      "source": [
        "model_new = RandomForestClassifier(random_state=12345, n_estimators=13, max_depth=10)\n",
        "model_new.fit(features_new, target_new)\n",
        "model.score(features_test, target_test)"
      ]
    },
    {
      "cell_type": "markdown",
      "metadata": {
        "id": "csk3iR31Mfpj"
      },
      "source": [
        "- Лучшая модель протестирована и показала хороший результат.\n",
        "- Модель с выбранными гиперпараметрами дополнительно обучена на тренировочной + валидационной выборке, результат не изменился.\n",
        "- На основании данных прогнозов можно предлагать клиентам перейти на новый тариф, который им подойдет и их заинтересует.\n"
      ]
    },
    {
      "cell_type": "markdown",
      "metadata": {
        "id": "CYJZ-iJyMfpk"
      },
      "source": [
        "## Проверка модели на адекватность"
      ]
    },
    {
      "cell_type": "code",
      "execution_count": null,
      "metadata": {
        "id": "FFXXg8UnMfpk",
        "outputId": "48611f2d-cbeb-4349-9189-fc915ceba00c"
      },
      "outputs": [
        {
          "data": {
            "text/plain": [
              "0.6936236391912908"
            ]
          },
          "execution_count": 28,
          "metadata": {},
          "output_type": "execute_result"
        }
      ],
      "source": [
        "model_dc = DummyClassifier(strategy='most_frequent', random_state=0)\n",
        "model_dc.fit(features_train, target_train)\n",
        "model_dc.score(features_test, target_test)"
      ]
    },
    {
      "cell_type": "markdown",
      "source": [
        "Модель RandomForest с гиперпараметрами n_estimators = 13, max_depth =10 можно рекомендовать оператору мобильной связи для выбора подходящего клиенту тарифа. Таким образом это позволит компании сэкономить время и деньги, т.к. она сможет предлагать более выгодный для себя тариф только тем клиентам, которым он подходит."
      ],
      "metadata": {
        "id": "e72rsp4mUkMG"
      }
    }
  ],
  "metadata": {
    "ExecuteTimeLog": [
      {
        "duration": 433,
        "start_time": "2023-03-15T16:14:15.090Z"
      },
      {
        "duration": 191,
        "start_time": "2023-03-15T16:14:18.010Z"
      },
      {
        "duration": 20,
        "start_time": "2023-03-15T16:14:41.084Z"
      },
      {
        "duration": 12,
        "start_time": "2023-03-15T16:15:21.027Z"
      },
      {
        "duration": 740,
        "start_time": "2023-03-15T16:30:16.969Z"
      },
      {
        "duration": 16,
        "start_time": "2023-03-15T16:30:44.408Z"
      },
      {
        "duration": 4,
        "start_time": "2023-03-15T16:32:51.474Z"
      },
      {
        "duration": 7,
        "start_time": "2023-03-15T16:38:12.641Z"
      },
      {
        "duration": 1157,
        "start_time": "2023-03-18T07:31:09.060Z"
      },
      {
        "duration": 87,
        "start_time": "2023-03-18T07:31:10.219Z"
      },
      {
        "duration": 20,
        "start_time": "2023-03-18T07:31:10.308Z"
      },
      {
        "duration": 27,
        "start_time": "2023-03-18T07:31:10.330Z"
      },
      {
        "duration": 6,
        "start_time": "2023-03-18T07:31:10.359Z"
      },
      {
        "duration": 4,
        "start_time": "2023-03-18T07:31:10.367Z"
      },
      {
        "duration": 6,
        "start_time": "2023-03-18T07:31:10.373Z"
      },
      {
        "duration": 3,
        "start_time": "2023-03-18T07:38:21.499Z"
      },
      {
        "duration": 48,
        "start_time": "2023-03-18T07:43:11.953Z"
      },
      {
        "duration": 54,
        "start_time": "2023-03-18T07:43:31.617Z"
      },
      {
        "duration": 71,
        "start_time": "2023-03-18T07:47:44.947Z"
      },
      {
        "duration": 267,
        "start_time": "2023-03-18T07:48:18.646Z"
      },
      {
        "duration": 31,
        "start_time": "2023-03-18T08:00:13.860Z"
      },
      {
        "duration": 28,
        "start_time": "2023-03-18T08:00:35.554Z"
      },
      {
        "duration": 43,
        "start_time": "2023-03-18T08:00:48.756Z"
      },
      {
        "duration": 116,
        "start_time": "2023-03-18T08:01:35.207Z"
      },
      {
        "duration": 28,
        "start_time": "2023-03-18T08:01:43.914Z"
      },
      {
        "duration": 31,
        "start_time": "2023-03-18T08:01:54.723Z"
      },
      {
        "duration": 44,
        "start_time": "2023-03-18T08:11:28.063Z"
      },
      {
        "duration": 47,
        "start_time": "2023-03-18T08:12:11.859Z"
      },
      {
        "duration": 39,
        "start_time": "2023-03-18T08:14:15.284Z"
      },
      {
        "duration": 54,
        "start_time": "2023-03-18T08:14:51.261Z"
      },
      {
        "duration": 303,
        "start_time": "2023-03-18T08:15:38.328Z"
      },
      {
        "duration": 326,
        "start_time": "2023-03-18T08:16:27.634Z"
      },
      {
        "duration": 341,
        "start_time": "2023-03-18T08:16:45.393Z"
      },
      {
        "duration": 530,
        "start_time": "2023-03-18T08:16:58.825Z"
      },
      {
        "duration": 728,
        "start_time": "2023-03-18T08:17:46.927Z"
      },
      {
        "duration": 57,
        "start_time": "2023-03-18T08:18:45.393Z"
      },
      {
        "duration": 4,
        "start_time": "2023-03-18T08:19:29.691Z"
      },
      {
        "duration": 32,
        "start_time": "2023-03-18T08:19:29.697Z"
      },
      {
        "duration": 14,
        "start_time": "2023-03-18T08:19:29.731Z"
      },
      {
        "duration": 20,
        "start_time": "2023-03-18T08:19:29.746Z"
      },
      {
        "duration": 5,
        "start_time": "2023-03-18T08:19:29.769Z"
      },
      {
        "duration": 4,
        "start_time": "2023-03-18T08:19:29.776Z"
      },
      {
        "duration": 8,
        "start_time": "2023-03-18T08:19:29.782Z"
      },
      {
        "duration": 67,
        "start_time": "2023-03-18T08:19:29.791Z"
      },
      {
        "duration": 522,
        "start_time": "2023-03-18T08:19:29.859Z"
      },
      {
        "duration": 23,
        "start_time": "2023-03-18T08:19:30.383Z"
      },
      {
        "duration": 1271,
        "start_time": "2023-03-18T08:20:42.095Z"
      },
      {
        "duration": 30,
        "start_time": "2023-03-18T08:20:43.368Z"
      },
      {
        "duration": 25,
        "start_time": "2023-03-18T08:20:43.401Z"
      },
      {
        "duration": 17,
        "start_time": "2023-03-18T08:20:43.428Z"
      },
      {
        "duration": 10,
        "start_time": "2023-03-18T08:20:43.447Z"
      },
      {
        "duration": 6,
        "start_time": "2023-03-18T08:20:43.459Z"
      },
      {
        "duration": 7,
        "start_time": "2023-03-18T08:20:43.467Z"
      },
      {
        "duration": 41,
        "start_time": "2023-03-18T08:20:43.476Z"
      },
      {
        "duration": 645,
        "start_time": "2023-03-18T08:20:43.521Z"
      },
      {
        "duration": 29,
        "start_time": "2023-03-18T08:20:44.169Z"
      },
      {
        "duration": 1528,
        "start_time": "2023-03-18T08:22:25.607Z"
      },
      {
        "duration": 54,
        "start_time": "2023-03-18T08:22:27.141Z"
      },
      {
        "duration": 27,
        "start_time": "2023-03-18T08:22:27.197Z"
      },
      {
        "duration": 30,
        "start_time": "2023-03-18T08:22:27.227Z"
      },
      {
        "duration": 9,
        "start_time": "2023-03-18T08:22:27.270Z"
      },
      {
        "duration": 6,
        "start_time": "2023-03-18T08:22:27.283Z"
      },
      {
        "duration": 14,
        "start_time": "2023-03-18T08:22:27.292Z"
      },
      {
        "duration": 64,
        "start_time": "2023-03-18T08:22:27.308Z"
      },
      {
        "duration": 593,
        "start_time": "2023-03-18T08:22:27.374Z"
      },
      {
        "duration": 41,
        "start_time": "2023-03-18T08:22:27.968Z"
      },
      {
        "duration": 41,
        "start_time": "2023-03-18T08:27:30.164Z"
      },
      {
        "duration": 1288,
        "start_time": "2023-03-18T08:30:18.606Z"
      },
      {
        "duration": 30,
        "start_time": "2023-03-18T08:30:19.897Z"
      },
      {
        "duration": 37,
        "start_time": "2023-03-18T08:30:19.929Z"
      },
      {
        "duration": 12,
        "start_time": "2023-03-18T08:30:19.968Z"
      },
      {
        "duration": 5,
        "start_time": "2023-03-18T08:30:19.982Z"
      },
      {
        "duration": 4,
        "start_time": "2023-03-18T08:30:19.988Z"
      },
      {
        "duration": 7,
        "start_time": "2023-03-18T08:30:19.994Z"
      },
      {
        "duration": 67,
        "start_time": "2023-03-18T08:30:20.002Z"
      },
      {
        "duration": 561,
        "start_time": "2023-03-18T08:30:20.070Z"
      },
      {
        "duration": 36,
        "start_time": "2023-03-18T08:30:20.633Z"
      },
      {
        "duration": 55,
        "start_time": "2023-03-18T08:32:05.130Z"
      },
      {
        "duration": 577,
        "start_time": "2023-03-18T08:32:37.408Z"
      },
      {
        "duration": 1119,
        "start_time": "2023-03-18T08:32:48.360Z"
      },
      {
        "duration": 31,
        "start_time": "2023-03-18T08:32:49.481Z"
      },
      {
        "duration": 17,
        "start_time": "2023-03-18T08:32:49.514Z"
      },
      {
        "duration": 28,
        "start_time": "2023-03-18T08:32:49.533Z"
      },
      {
        "duration": 6,
        "start_time": "2023-03-18T08:32:49.563Z"
      },
      {
        "duration": 5,
        "start_time": "2023-03-18T08:32:49.570Z"
      },
      {
        "duration": 6,
        "start_time": "2023-03-18T08:32:49.577Z"
      },
      {
        "duration": 73,
        "start_time": "2023-03-18T08:32:49.584Z"
      },
      {
        "duration": 520,
        "start_time": "2023-03-18T08:32:49.659Z"
      },
      {
        "duration": 18,
        "start_time": "2023-03-18T08:32:50.181Z"
      },
      {
        "duration": 14,
        "start_time": "2023-03-18T08:48:14.293Z"
      },
      {
        "duration": 1291,
        "start_time": "2023-03-18T17:35:48.718Z"
      },
      {
        "duration": 239,
        "start_time": "2023-03-18T17:35:50.026Z"
      },
      {
        "duration": 30,
        "start_time": "2023-03-18T17:35:50.266Z"
      },
      {
        "duration": 33,
        "start_time": "2023-03-18T17:35:50.299Z"
      },
      {
        "duration": 10,
        "start_time": "2023-03-18T17:35:50.334Z"
      },
      {
        "duration": 7,
        "start_time": "2023-03-18T17:35:50.346Z"
      },
      {
        "duration": 9,
        "start_time": "2023-03-18T17:35:50.355Z"
      },
      {
        "duration": 58,
        "start_time": "2023-03-18T17:35:50.366Z"
      },
      {
        "duration": 594,
        "start_time": "2023-03-18T17:35:50.433Z"
      },
      {
        "duration": 13,
        "start_time": "2023-03-18T17:35:51.030Z"
      },
      {
        "duration": 74,
        "start_time": "2023-03-18T17:45:33.242Z"
      },
      {
        "duration": 7,
        "start_time": "2023-03-18T18:31:28.048Z"
      },
      {
        "duration": 13,
        "start_time": "2023-03-18T18:43:24.909Z"
      },
      {
        "duration": 15,
        "start_time": "2023-03-18T18:43:46.305Z"
      },
      {
        "duration": 2539,
        "start_time": "2023-03-19T04:39:52.017Z"
      },
      {
        "duration": 66,
        "start_time": "2023-03-19T04:39:54.558Z"
      },
      {
        "duration": 26,
        "start_time": "2023-03-19T04:39:54.626Z"
      },
      {
        "duration": 16,
        "start_time": "2023-03-19T04:39:54.653Z"
      },
      {
        "duration": 6,
        "start_time": "2023-03-19T04:39:54.671Z"
      },
      {
        "duration": 60,
        "start_time": "2023-03-19T04:39:54.679Z"
      },
      {
        "duration": 31,
        "start_time": "2023-03-19T04:39:54.740Z"
      },
      {
        "duration": 94,
        "start_time": "2023-03-19T04:39:54.772Z"
      },
      {
        "duration": 139,
        "start_time": "2023-03-19T04:39:54.867Z"
      },
      {
        "duration": 0,
        "start_time": "2023-03-19T04:39:55.008Z"
      },
      {
        "duration": 0,
        "start_time": "2023-03-19T04:39:55.012Z"
      },
      {
        "duration": 1,
        "start_time": "2023-03-19T04:39:55.013Z"
      },
      {
        "duration": 27,
        "start_time": "2023-03-19T04:41:10.407Z"
      },
      {
        "duration": 52,
        "start_time": "2023-03-19T08:49:45.012Z"
      },
      {
        "duration": 1187,
        "start_time": "2023-03-19T08:49:52.850Z"
      },
      {
        "duration": 80,
        "start_time": "2023-03-19T08:49:54.040Z"
      },
      {
        "duration": 21,
        "start_time": "2023-03-19T08:49:54.122Z"
      },
      {
        "duration": 26,
        "start_time": "2023-03-19T08:49:54.146Z"
      },
      {
        "duration": 19,
        "start_time": "2023-03-19T08:49:54.174Z"
      },
      {
        "duration": 12,
        "start_time": "2023-03-19T08:49:54.196Z"
      },
      {
        "duration": 13,
        "start_time": "2023-03-19T08:49:54.210Z"
      },
      {
        "duration": 20,
        "start_time": "2023-03-19T08:49:54.225Z"
      },
      {
        "duration": 40,
        "start_time": "2023-03-19T08:49:54.246Z"
      },
      {
        "duration": 80,
        "start_time": "2023-03-19T08:49:54.288Z"
      },
      {
        "duration": 0,
        "start_time": "2023-03-19T08:49:54.370Z"
      },
      {
        "duration": 0,
        "start_time": "2023-03-19T08:49:54.372Z"
      },
      {
        "duration": 0,
        "start_time": "2023-03-19T08:49:54.373Z"
      },
      {
        "duration": 29,
        "start_time": "2023-03-19T08:51:24.373Z"
      },
      {
        "duration": 7,
        "start_time": "2023-03-19T08:59:45.359Z"
      },
      {
        "duration": 10,
        "start_time": "2023-03-19T09:00:43.797Z"
      },
      {
        "duration": 23,
        "start_time": "2023-03-19T09:06:50.038Z"
      },
      {
        "duration": 11,
        "start_time": "2023-03-19T09:08:00.904Z"
      },
      {
        "duration": 74,
        "start_time": "2023-03-19T09:09:29.172Z"
      },
      {
        "duration": 75,
        "start_time": "2023-03-19T09:10:02.837Z"
      },
      {
        "duration": 10,
        "start_time": "2023-03-19T09:13:06.938Z"
      },
      {
        "duration": 11,
        "start_time": "2023-03-19T09:13:58.426Z"
      },
      {
        "duration": 11,
        "start_time": "2023-03-19T09:14:01.815Z"
      },
      {
        "duration": 9,
        "start_time": "2023-03-19T09:14:17.313Z"
      },
      {
        "duration": 14,
        "start_time": "2023-03-19T09:14:39.357Z"
      },
      {
        "duration": 12,
        "start_time": "2023-03-19T09:14:48.097Z"
      },
      {
        "duration": 15,
        "start_time": "2023-03-19T09:15:06.900Z"
      },
      {
        "duration": 9,
        "start_time": "2023-03-19T09:15:17.493Z"
      },
      {
        "duration": 6,
        "start_time": "2023-03-19T09:16:17.067Z"
      },
      {
        "duration": 11,
        "start_time": "2023-03-19T09:16:30.898Z"
      },
      {
        "duration": 6,
        "start_time": "2023-03-19T09:17:31.233Z"
      },
      {
        "duration": 74,
        "start_time": "2023-03-19T13:01:44.118Z"
      },
      {
        "duration": 1269,
        "start_time": "2023-03-19T13:01:49.793Z"
      },
      {
        "duration": 127,
        "start_time": "2023-03-19T13:01:51.064Z"
      },
      {
        "duration": 19,
        "start_time": "2023-03-19T13:01:51.193Z"
      },
      {
        "duration": 12,
        "start_time": "2023-03-19T13:01:51.214Z"
      },
      {
        "duration": 10,
        "start_time": "2023-03-19T13:01:51.228Z"
      },
      {
        "duration": 11,
        "start_time": "2023-03-19T13:01:51.239Z"
      },
      {
        "duration": 43,
        "start_time": "2023-03-19T13:01:51.252Z"
      },
      {
        "duration": 5,
        "start_time": "2023-03-19T13:01:51.297Z"
      },
      {
        "duration": 10,
        "start_time": "2023-03-19T13:01:51.304Z"
      },
      {
        "duration": 14,
        "start_time": "2023-03-19T13:01:51.316Z"
      },
      {
        "duration": 90,
        "start_time": "2023-03-19T13:01:51.333Z"
      },
      {
        "duration": 0,
        "start_time": "2023-03-19T13:01:51.425Z"
      },
      {
        "duration": 0,
        "start_time": "2023-03-19T13:01:51.426Z"
      },
      {
        "duration": 0,
        "start_time": "2023-03-19T13:01:51.427Z"
      },
      {
        "duration": 0,
        "start_time": "2023-03-19T13:01:51.429Z"
      },
      {
        "duration": 0,
        "start_time": "2023-03-19T13:01:51.430Z"
      },
      {
        "duration": 9,
        "start_time": "2023-03-19T13:02:32.659Z"
      },
      {
        "duration": 9,
        "start_time": "2023-03-19T13:03:06.003Z"
      },
      {
        "duration": 9,
        "start_time": "2023-03-19T13:05:18.026Z"
      },
      {
        "duration": 5,
        "start_time": "2023-03-19T13:06:10.283Z"
      },
      {
        "duration": 4,
        "start_time": "2023-03-19T13:06:42.832Z"
      },
      {
        "duration": 4,
        "start_time": "2023-03-19T13:08:28.597Z"
      },
      {
        "duration": 4,
        "start_time": "2023-03-19T13:08:52.296Z"
      },
      {
        "duration": 4,
        "start_time": "2023-03-19T13:09:20.945Z"
      },
      {
        "duration": 4,
        "start_time": "2023-03-19T13:19:18.485Z"
      },
      {
        "duration": 35,
        "start_time": "2023-03-19T13:19:18.491Z"
      },
      {
        "duration": 14,
        "start_time": "2023-03-19T13:19:18.529Z"
      },
      {
        "duration": 16,
        "start_time": "2023-03-19T13:19:18.546Z"
      },
      {
        "duration": 10,
        "start_time": "2023-03-19T13:19:18.564Z"
      },
      {
        "duration": 20,
        "start_time": "2023-03-19T13:19:18.576Z"
      },
      {
        "duration": 36,
        "start_time": "2023-03-19T13:19:18.598Z"
      },
      {
        "duration": 2,
        "start_time": "2023-03-19T13:19:18.636Z"
      },
      {
        "duration": 5,
        "start_time": "2023-03-19T13:19:18.641Z"
      },
      {
        "duration": 5,
        "start_time": "2023-03-19T13:19:18.673Z"
      },
      {
        "duration": 7,
        "start_time": "2023-03-19T13:19:18.680Z"
      },
      {
        "duration": 10,
        "start_time": "2023-03-19T13:19:18.689Z"
      },
      {
        "duration": 9,
        "start_time": "2023-03-19T13:19:18.701Z"
      },
      {
        "duration": 6,
        "start_time": "2023-03-19T13:19:18.712Z"
      },
      {
        "duration": 16,
        "start_time": "2023-03-19T13:19:18.720Z"
      },
      {
        "duration": 0,
        "start_time": "2023-03-19T13:19:18.738Z"
      },
      {
        "duration": 0,
        "start_time": "2023-03-19T13:19:18.740Z"
      },
      {
        "duration": 0,
        "start_time": "2023-03-19T13:19:18.741Z"
      },
      {
        "duration": 0,
        "start_time": "2023-03-19T13:19:18.742Z"
      },
      {
        "duration": 0,
        "start_time": "2023-03-19T13:19:18.773Z"
      },
      {
        "duration": 0,
        "start_time": "2023-03-19T13:19:18.774Z"
      },
      {
        "duration": 0,
        "start_time": "2023-03-19T13:19:18.775Z"
      },
      {
        "duration": 4,
        "start_time": "2023-03-19T13:19:44.898Z"
      },
      {
        "duration": 4,
        "start_time": "2023-03-19T13:19:50.739Z"
      },
      {
        "duration": 5,
        "start_time": "2023-03-19T13:19:55.725Z"
      },
      {
        "duration": 3,
        "start_time": "2023-03-19T13:20:39.095Z"
      },
      {
        "duration": 34,
        "start_time": "2023-03-19T13:20:39.101Z"
      },
      {
        "duration": 11,
        "start_time": "2023-03-19T13:20:39.137Z"
      },
      {
        "duration": 16,
        "start_time": "2023-03-19T13:20:39.150Z"
      },
      {
        "duration": 7,
        "start_time": "2023-03-19T13:20:39.168Z"
      },
      {
        "duration": 26,
        "start_time": "2023-03-19T13:20:39.176Z"
      },
      {
        "duration": 24,
        "start_time": "2023-03-19T13:20:39.204Z"
      },
      {
        "duration": 3,
        "start_time": "2023-03-19T13:20:39.230Z"
      },
      {
        "duration": 7,
        "start_time": "2023-03-19T13:20:39.235Z"
      },
      {
        "duration": 6,
        "start_time": "2023-03-19T13:20:39.243Z"
      },
      {
        "duration": 22,
        "start_time": "2023-03-19T13:20:39.252Z"
      },
      {
        "duration": 7,
        "start_time": "2023-03-19T13:20:39.277Z"
      },
      {
        "duration": 7,
        "start_time": "2023-03-19T13:20:39.286Z"
      },
      {
        "duration": 4,
        "start_time": "2023-03-19T13:20:39.296Z"
      },
      {
        "duration": 11,
        "start_time": "2023-03-19T13:20:39.302Z"
      },
      {
        "duration": 8,
        "start_time": "2023-03-19T13:20:39.316Z"
      },
      {
        "duration": 16,
        "start_time": "2023-03-19T13:20:39.325Z"
      },
      {
        "duration": 0,
        "start_time": "2023-03-19T13:20:39.343Z"
      },
      {
        "duration": 0,
        "start_time": "2023-03-19T13:20:39.344Z"
      },
      {
        "duration": 0,
        "start_time": "2023-03-19T13:20:39.345Z"
      },
      {
        "duration": 0,
        "start_time": "2023-03-19T13:20:39.346Z"
      },
      {
        "duration": 0,
        "start_time": "2023-03-19T13:20:39.374Z"
      },
      {
        "duration": 5,
        "start_time": "2023-03-19T13:21:03.681Z"
      },
      {
        "duration": 3,
        "start_time": "2023-03-19T13:38:39.001Z"
      },
      {
        "duration": 5,
        "start_time": "2023-03-19T13:39:53.348Z"
      },
      {
        "duration": 3,
        "start_time": "2023-03-19T13:40:13.679Z"
      },
      {
        "duration": 6,
        "start_time": "2023-03-19T13:40:30.795Z"
      },
      {
        "duration": 5,
        "start_time": "2023-03-19T13:40:37.366Z"
      },
      {
        "duration": 7,
        "start_time": "2023-03-19T13:41:02.781Z"
      },
      {
        "duration": 5,
        "start_time": "2023-03-19T13:41:04.349Z"
      },
      {
        "duration": 4,
        "start_time": "2023-03-19T13:42:35.674Z"
      },
      {
        "duration": 16,
        "start_time": "2023-03-19T13:42:56.183Z"
      },
      {
        "duration": 7,
        "start_time": "2023-03-19T13:43:11.360Z"
      },
      {
        "duration": 4,
        "start_time": "2023-03-19T13:43:15.598Z"
      },
      {
        "duration": 7,
        "start_time": "2023-03-19T14:02:51.370Z"
      },
      {
        "duration": 6,
        "start_time": "2023-03-19T14:03:51.622Z"
      },
      {
        "duration": 3,
        "start_time": "2023-03-19T14:30:47.889Z"
      },
      {
        "duration": 8,
        "start_time": "2023-03-19T14:31:08.082Z"
      },
      {
        "duration": 6,
        "start_time": "2023-03-19T14:31:33.104Z"
      },
      {
        "duration": 40,
        "start_time": "2023-03-19T14:33:00.657Z"
      },
      {
        "duration": 1214,
        "start_time": "2023-03-20T07:24:42.947Z"
      },
      {
        "duration": 138,
        "start_time": "2023-03-20T07:24:44.163Z"
      },
      {
        "duration": 19,
        "start_time": "2023-03-20T07:24:44.304Z"
      },
      {
        "duration": 15,
        "start_time": "2023-03-20T07:24:44.325Z"
      },
      {
        "duration": 7,
        "start_time": "2023-03-20T07:24:44.342Z"
      },
      {
        "duration": 14,
        "start_time": "2023-03-20T07:24:44.351Z"
      },
      {
        "duration": 43,
        "start_time": "2023-03-20T07:24:44.366Z"
      },
      {
        "duration": 4,
        "start_time": "2023-03-20T07:24:44.410Z"
      },
      {
        "duration": 5,
        "start_time": "2023-03-20T07:24:44.416Z"
      },
      {
        "duration": 9,
        "start_time": "2023-03-20T07:24:44.424Z"
      },
      {
        "duration": 13,
        "start_time": "2023-03-20T07:24:44.435Z"
      },
      {
        "duration": 9,
        "start_time": "2023-03-20T07:24:44.450Z"
      },
      {
        "duration": 16,
        "start_time": "2023-03-20T07:24:44.478Z"
      },
      {
        "duration": 7,
        "start_time": "2023-03-20T07:24:44.498Z"
      },
      {
        "duration": 6,
        "start_time": "2023-03-20T07:24:44.507Z"
      },
      {
        "duration": 8,
        "start_time": "2023-03-20T07:24:44.515Z"
      },
      {
        "duration": 7,
        "start_time": "2023-03-20T07:24:44.525Z"
      },
      {
        "duration": 175,
        "start_time": "2023-03-20T07:24:44.533Z"
      },
      {
        "duration": 0,
        "start_time": "2023-03-20T07:24:44.710Z"
      },
      {
        "duration": 0,
        "start_time": "2023-03-20T07:24:44.712Z"
      },
      {
        "duration": 0,
        "start_time": "2023-03-20T07:24:44.714Z"
      },
      {
        "duration": 0,
        "start_time": "2023-03-20T07:24:44.716Z"
      },
      {
        "duration": 63,
        "start_time": "2023-03-20T07:25:40.422Z"
      },
      {
        "duration": 47,
        "start_time": "2023-03-20T07:26:30.705Z"
      },
      {
        "duration": 21,
        "start_time": "2023-03-20T07:28:06.336Z"
      },
      {
        "duration": 60,
        "start_time": "2023-03-20T07:28:52.980Z"
      },
      {
        "duration": 52,
        "start_time": "2023-03-20T07:30:29.439Z"
      },
      {
        "duration": 57,
        "start_time": "2023-03-20T07:31:14.622Z"
      },
      {
        "duration": 52,
        "start_time": "2023-03-20T07:32:01.542Z"
      },
      {
        "duration": 53,
        "start_time": "2023-03-20T07:36:52.997Z"
      },
      {
        "duration": 448,
        "start_time": "2023-03-20T07:39:38.093Z"
      },
      {
        "duration": 149,
        "start_time": "2023-03-20T07:40:08.343Z"
      },
      {
        "duration": 194,
        "start_time": "2023-03-20T07:44:16.626Z"
      },
      {
        "duration": 166,
        "start_time": "2023-03-20T07:44:44.800Z"
      },
      {
        "duration": 30,
        "start_time": "2023-03-20T07:46:49.311Z"
      },
      {
        "duration": 71,
        "start_time": "2023-03-20T07:46:58.568Z"
      },
      {
        "duration": 149,
        "start_time": "2023-03-20T07:47:04.341Z"
      },
      {
        "duration": 167,
        "start_time": "2023-03-20T07:47:43.128Z"
      },
      {
        "duration": 89,
        "start_time": "2023-03-20T07:49:55.134Z"
      },
      {
        "duration": 222,
        "start_time": "2023-03-20T07:50:00.188Z"
      },
      {
        "duration": 137,
        "start_time": "2023-03-20T07:50:09.640Z"
      },
      {
        "duration": 136,
        "start_time": "2023-03-20T07:54:33.614Z"
      },
      {
        "duration": 156,
        "start_time": "2023-03-20T07:54:56.106Z"
      },
      {
        "duration": 139,
        "start_time": "2023-03-20T07:55:51.033Z"
      },
      {
        "duration": 223,
        "start_time": "2023-03-20T07:56:13.754Z"
      },
      {
        "duration": 133,
        "start_time": "2023-03-20T07:57:29.708Z"
      },
      {
        "duration": 177,
        "start_time": "2023-03-20T08:01:17.119Z"
      },
      {
        "duration": 224,
        "start_time": "2023-03-20T08:02:00.526Z"
      },
      {
        "duration": 87,
        "start_time": "2023-03-20T08:02:57.797Z"
      },
      {
        "duration": 170,
        "start_time": "2023-03-20T08:03:13.265Z"
      },
      {
        "duration": 5,
        "start_time": "2023-03-20T08:06:56.492Z"
      },
      {
        "duration": 166,
        "start_time": "2023-03-20T08:07:47.503Z"
      },
      {
        "duration": 8405,
        "start_time": "2023-03-20T08:07:58.722Z"
      },
      {
        "duration": 559,
        "start_time": "2023-03-20T08:10:26.696Z"
      },
      {
        "duration": 77,
        "start_time": "2023-03-20T08:12:23.963Z"
      },
      {
        "duration": 894,
        "start_time": "2023-03-20T08:12:32.260Z"
      },
      {
        "duration": 16,
        "start_time": "2023-03-20T08:13:43.421Z"
      },
      {
        "duration": 790,
        "start_time": "2023-03-20T08:13:57.418Z"
      },
      {
        "duration": 627,
        "start_time": "2023-03-20T08:14:36.766Z"
      },
      {
        "duration": 609,
        "start_time": "2023-03-20T08:14:58.224Z"
      },
      {
        "duration": 537,
        "start_time": "2023-03-20T08:22:48.653Z"
      },
      {
        "duration": 520,
        "start_time": "2023-03-20T08:22:58.657Z"
      },
      {
        "duration": 481,
        "start_time": "2023-03-20T08:24:01.391Z"
      },
      {
        "duration": 522,
        "start_time": "2023-03-20T08:24:09.911Z"
      },
      {
        "duration": 543,
        "start_time": "2023-03-20T08:24:20.974Z"
      },
      {
        "duration": 21,
        "start_time": "2023-03-20T08:28:17.902Z"
      },
      {
        "duration": 624,
        "start_time": "2023-03-20T08:31:12.432Z"
      },
      {
        "duration": 518,
        "start_time": "2023-03-20T08:31:32.922Z"
      },
      {
        "duration": 583,
        "start_time": "2023-03-20T08:32:05.222Z"
      },
      {
        "duration": 4,
        "start_time": "2023-03-20T08:36:01.179Z"
      },
      {
        "duration": 4,
        "start_time": "2023-03-20T08:36:40.696Z"
      },
      {
        "duration": 3,
        "start_time": "2023-03-20T08:37:01.827Z"
      },
      {
        "duration": 3,
        "start_time": "2023-03-20T08:37:58.117Z"
      },
      {
        "duration": 510,
        "start_time": "2023-03-20T08:47:17.154Z"
      },
      {
        "duration": 78,
        "start_time": "2023-03-20T08:47:37.142Z"
      },
      {
        "duration": 669,
        "start_time": "2023-03-20T08:48:42.247Z"
      },
      {
        "duration": 562,
        "start_time": "2023-03-20T08:54:45.395Z"
      },
      {
        "duration": 518,
        "start_time": "2023-03-20T08:54:58.548Z"
      },
      {
        "duration": 416,
        "start_time": "2023-03-20T08:55:05.840Z"
      },
      {
        "duration": 515,
        "start_time": "2023-03-20T08:55:17.598Z"
      },
      {
        "duration": 531,
        "start_time": "2023-03-20T08:55:29.917Z"
      },
      {
        "duration": 548,
        "start_time": "2023-03-20T08:55:37.677Z"
      },
      {
        "duration": 71,
        "start_time": "2023-03-20T08:56:08.614Z"
      },
      {
        "duration": 525,
        "start_time": "2023-03-20T08:56:25.344Z"
      },
      {
        "duration": 563,
        "start_time": "2023-03-20T08:56:32.851Z"
      },
      {
        "duration": 620,
        "start_time": "2023-03-20T08:56:40.569Z"
      },
      {
        "duration": 542,
        "start_time": "2023-03-20T08:56:48.427Z"
      },
      {
        "duration": 517,
        "start_time": "2023-03-20T08:56:57.211Z"
      },
      {
        "duration": 505,
        "start_time": "2023-03-20T08:57:05.411Z"
      },
      {
        "duration": 483,
        "start_time": "2023-03-20T08:57:16.035Z"
      },
      {
        "duration": 38,
        "start_time": "2023-03-20T08:57:50.615Z"
      },
      {
        "duration": 357,
        "start_time": "2023-03-20T08:57:57.472Z"
      },
      {
        "duration": 412,
        "start_time": "2023-03-20T08:58:07.108Z"
      },
      {
        "duration": 496,
        "start_time": "2023-03-20T08:58:17.748Z"
      },
      {
        "duration": 494,
        "start_time": "2023-03-20T08:58:31.010Z"
      },
      {
        "duration": 382,
        "start_time": "2023-03-20T08:58:40.404Z"
      },
      {
        "duration": 500,
        "start_time": "2023-03-20T09:02:03.897Z"
      },
      {
        "duration": 522,
        "start_time": "2023-03-20T09:02:14.050Z"
      },
      {
        "duration": 483,
        "start_time": "2023-03-20T09:03:29.310Z"
      },
      {
        "duration": 438,
        "start_time": "2023-03-20T09:03:45.329Z"
      },
      {
        "duration": 515,
        "start_time": "2023-03-20T09:04:01.648Z"
      },
      {
        "duration": 5503,
        "start_time": "2023-03-20T09:09:04.306Z"
      },
      {
        "duration": 13,
        "start_time": "2023-03-20T09:11:59.863Z"
      },
      {
        "duration": 16,
        "start_time": "2023-03-20T09:12:13.436Z"
      },
      {
        "duration": 17,
        "start_time": "2023-03-20T09:12:22.609Z"
      },
      {
        "duration": 12,
        "start_time": "2023-03-20T09:12:28.506Z"
      },
      {
        "duration": 14,
        "start_time": "2023-03-20T09:12:34.233Z"
      },
      {
        "duration": 20,
        "start_time": "2023-03-20T09:12:50.269Z"
      },
      {
        "duration": 12,
        "start_time": "2023-03-20T09:12:56.143Z"
      },
      {
        "duration": 14,
        "start_time": "2023-03-20T09:13:01.749Z"
      },
      {
        "duration": 15,
        "start_time": "2023-03-20T09:13:07.235Z"
      },
      {
        "duration": 22,
        "start_time": "2023-03-20T09:13:12.601Z"
      },
      {
        "duration": 18,
        "start_time": "2023-03-20T09:13:18.660Z"
      },
      {
        "duration": 16,
        "start_time": "2023-03-20T09:13:24.963Z"
      },
      {
        "duration": 15,
        "start_time": "2023-03-20T09:13:30.134Z"
      },
      {
        "duration": 16,
        "start_time": "2023-03-20T09:13:37.022Z"
      },
      {
        "duration": 18,
        "start_time": "2023-03-20T09:13:42.903Z"
      },
      {
        "duration": 19,
        "start_time": "2023-03-20T09:13:51.024Z"
      },
      {
        "duration": 26,
        "start_time": "2023-03-20T09:14:00.803Z"
      },
      {
        "duration": 22,
        "start_time": "2023-03-20T09:14:07.804Z"
      },
      {
        "duration": 23,
        "start_time": "2023-03-20T09:14:13.724Z"
      },
      {
        "duration": 24,
        "start_time": "2023-03-20T09:14:19.370Z"
      },
      {
        "duration": 18,
        "start_time": "2023-03-20T09:14:29.226Z"
      },
      {
        "duration": 20,
        "start_time": "2023-03-20T09:14:36.246Z"
      },
      {
        "duration": 22,
        "start_time": "2023-03-20T09:14:45.050Z"
      },
      {
        "duration": 19,
        "start_time": "2023-03-20T09:14:51.406Z"
      },
      {
        "duration": 30,
        "start_time": "2023-03-20T09:14:57.571Z"
      },
      {
        "duration": 15,
        "start_time": "2023-03-20T09:15:18.407Z"
      },
      {
        "duration": 21,
        "start_time": "2023-03-20T09:15:25.945Z"
      },
      {
        "duration": 18,
        "start_time": "2023-03-20T09:15:32.634Z"
      },
      {
        "duration": 14,
        "start_time": "2023-03-20T09:15:38.628Z"
      },
      {
        "duration": 20,
        "start_time": "2023-03-20T09:15:43.867Z"
      },
      {
        "duration": 23,
        "start_time": "2023-03-20T09:15:53.687Z"
      },
      {
        "duration": 78,
        "start_time": "2023-03-20T09:16:08.732Z"
      },
      {
        "duration": 74,
        "start_time": "2023-03-20T09:16:20.773Z"
      },
      {
        "duration": 11,
        "start_time": "2023-03-20T09:17:28.948Z"
      },
      {
        "duration": 58,
        "start_time": "2023-03-20T09:18:27.103Z"
      },
      {
        "duration": 1503,
        "start_time": "2023-03-20T14:52:12.752Z"
      },
      {
        "duration": 123,
        "start_time": "2023-03-20T14:52:14.257Z"
      },
      {
        "duration": 20,
        "start_time": "2023-03-20T14:52:14.382Z"
      },
      {
        "duration": 15,
        "start_time": "2023-03-20T14:52:14.404Z"
      },
      {
        "duration": 17,
        "start_time": "2023-03-20T14:52:14.421Z"
      },
      {
        "duration": 16,
        "start_time": "2023-03-20T14:52:14.440Z"
      },
      {
        "duration": 24,
        "start_time": "2023-03-20T14:52:14.458Z"
      },
      {
        "duration": 4,
        "start_time": "2023-03-20T14:52:14.484Z"
      },
      {
        "duration": 5,
        "start_time": "2023-03-20T14:52:14.490Z"
      },
      {
        "duration": 11,
        "start_time": "2023-03-20T14:52:14.497Z"
      },
      {
        "duration": 3,
        "start_time": "2023-03-20T14:52:14.527Z"
      },
      {
        "duration": 7,
        "start_time": "2023-03-20T14:52:14.532Z"
      },
      {
        "duration": 8,
        "start_time": "2023-03-20T14:52:14.541Z"
      },
      {
        "duration": 6,
        "start_time": "2023-03-20T14:52:14.553Z"
      },
      {
        "duration": 13,
        "start_time": "2023-03-20T14:52:14.560Z"
      },
      {
        "duration": 25,
        "start_time": "2023-03-20T14:52:14.575Z"
      },
      {
        "duration": 6,
        "start_time": "2023-03-20T14:52:14.602Z"
      },
      {
        "duration": 136,
        "start_time": "2023-03-20T14:52:14.610Z"
      },
      {
        "duration": 176,
        "start_time": "2023-03-20T14:52:14.749Z"
      },
      {
        "duration": 495,
        "start_time": "2023-03-20T14:52:14.927Z"
      },
      {
        "duration": 5152,
        "start_time": "2023-03-20T14:52:15.424Z"
      },
      {
        "duration": 14,
        "start_time": "2023-03-20T14:52:20.578Z"
      },
      {
        "duration": 74,
        "start_time": "2023-03-20T14:52:20.594Z"
      },
      {
        "duration": 7,
        "start_time": "2023-03-20T14:52:20.669Z"
      },
      {
        "duration": 110,
        "start_time": "2023-03-20T15:28:34.161Z"
      },
      {
        "duration": 10,
        "start_time": "2023-03-20T15:28:47.766Z"
      },
      {
        "duration": 10,
        "start_time": "2023-03-20T15:29:40.075Z"
      },
      {
        "duration": 4,
        "start_time": "2023-03-20T15:32:24.575Z"
      },
      {
        "duration": 6,
        "start_time": "2023-03-20T15:32:47.134Z"
      },
      {
        "duration": 5,
        "start_time": "2023-03-20T15:33:19.960Z"
      },
      {
        "duration": 5,
        "start_time": "2023-03-20T15:43:57.735Z"
      },
      {
        "duration": 81,
        "start_time": "2023-03-20T15:45:04.605Z"
      },
      {
        "duration": 1378,
        "start_time": "2023-03-20T17:25:01.820Z"
      },
      {
        "duration": 27,
        "start_time": "2023-03-20T17:25:03.200Z"
      },
      {
        "duration": 12,
        "start_time": "2023-03-20T17:25:03.229Z"
      },
      {
        "duration": 11,
        "start_time": "2023-03-20T17:25:03.243Z"
      },
      {
        "duration": 8,
        "start_time": "2023-03-20T17:25:03.256Z"
      },
      {
        "duration": 10,
        "start_time": "2023-03-20T17:25:03.265Z"
      },
      {
        "duration": 47,
        "start_time": "2023-03-20T17:25:03.276Z"
      },
      {
        "duration": 3,
        "start_time": "2023-03-20T17:25:03.324Z"
      },
      {
        "duration": 5,
        "start_time": "2023-03-20T17:25:03.329Z"
      },
      {
        "duration": 6,
        "start_time": "2023-03-20T17:25:03.335Z"
      },
      {
        "duration": 3,
        "start_time": "2023-03-20T17:25:03.343Z"
      },
      {
        "duration": 6,
        "start_time": "2023-03-20T17:25:03.347Z"
      },
      {
        "duration": 5,
        "start_time": "2023-03-20T17:25:03.354Z"
      },
      {
        "duration": 7,
        "start_time": "2023-03-20T17:25:03.361Z"
      },
      {
        "duration": 7,
        "start_time": "2023-03-20T17:25:03.370Z"
      },
      {
        "duration": 3,
        "start_time": "2023-03-20T17:25:03.379Z"
      },
      {
        "duration": 4,
        "start_time": "2023-03-20T17:25:03.384Z"
      },
      {
        "duration": 83,
        "start_time": "2023-03-20T17:25:03.422Z"
      },
      {
        "duration": 157,
        "start_time": "2023-03-20T17:25:03.506Z"
      },
      {
        "duration": 439,
        "start_time": "2023-03-20T17:25:03.665Z"
      },
      {
        "duration": 4555,
        "start_time": "2023-03-20T17:25:04.106Z"
      },
      {
        "duration": 12,
        "start_time": "2023-03-20T17:25:08.662Z"
      },
      {
        "duration": 62,
        "start_time": "2023-03-20T17:25:08.675Z"
      },
      {
        "duration": 5,
        "start_time": "2023-03-20T17:25:08.739Z"
      },
      {
        "duration": 21,
        "start_time": "2023-03-20T17:25:08.746Z"
      },
      {
        "duration": 73,
        "start_time": "2023-03-20T17:25:08.768Z"
      },
      {
        "duration": 7,
        "start_time": "2023-03-20T17:25:08.842Z"
      },
      {
        "duration": 1321,
        "start_time": "2023-03-20T18:04:14.389Z"
      },
      {
        "duration": 28,
        "start_time": "2023-03-20T18:04:15.712Z"
      },
      {
        "duration": 16,
        "start_time": "2023-03-20T18:04:15.741Z"
      },
      {
        "duration": 10,
        "start_time": "2023-03-20T18:04:15.759Z"
      },
      {
        "duration": 7,
        "start_time": "2023-03-20T18:04:15.771Z"
      },
      {
        "duration": 10,
        "start_time": "2023-03-20T18:04:15.779Z"
      },
      {
        "duration": 34,
        "start_time": "2023-03-20T18:04:15.790Z"
      },
      {
        "duration": 4,
        "start_time": "2023-03-20T18:04:15.825Z"
      },
      {
        "duration": 9,
        "start_time": "2023-03-20T18:04:15.830Z"
      },
      {
        "duration": 9,
        "start_time": "2023-03-20T18:04:15.841Z"
      },
      {
        "duration": 4,
        "start_time": "2023-03-20T18:04:15.851Z"
      },
      {
        "duration": 4,
        "start_time": "2023-03-20T18:04:15.857Z"
      },
      {
        "duration": 6,
        "start_time": "2023-03-20T18:04:15.863Z"
      },
      {
        "duration": 5,
        "start_time": "2023-03-20T18:04:15.872Z"
      },
      {
        "duration": 4,
        "start_time": "2023-03-20T18:04:15.879Z"
      },
      {
        "duration": 5,
        "start_time": "2023-03-20T18:04:15.885Z"
      },
      {
        "duration": 32,
        "start_time": "2023-03-20T18:04:15.892Z"
      },
      {
        "duration": 98,
        "start_time": "2023-03-20T18:04:15.925Z"
      },
      {
        "duration": 214,
        "start_time": "2023-03-20T18:04:16.025Z"
      },
      {
        "duration": 498,
        "start_time": "2023-03-20T18:04:16.241Z"
      },
      {
        "duration": 4856,
        "start_time": "2023-03-20T18:04:16.741Z"
      },
      {
        "duration": 11,
        "start_time": "2023-03-20T18:04:21.598Z"
      },
      {
        "duration": 59,
        "start_time": "2023-03-20T18:04:21.610Z"
      },
      {
        "duration": 5,
        "start_time": "2023-03-20T18:04:21.671Z"
      },
      {
        "duration": 17,
        "start_time": "2023-03-20T18:04:21.677Z"
      },
      {
        "duration": 87,
        "start_time": "2023-03-20T18:04:21.696Z"
      },
      {
        "duration": 6,
        "start_time": "2023-03-20T18:04:21.784Z"
      },
      {
        "duration": 85,
        "start_time": "2023-03-20T18:09:42.754Z"
      },
      {
        "duration": 428,
        "start_time": "2023-03-20T18:10:10.683Z"
      },
      {
        "duration": 4589,
        "start_time": "2023-03-20T18:17:03.573Z"
      },
      {
        "duration": 4859,
        "start_time": "2023-03-20T18:17:09.442Z"
      },
      {
        "duration": 4557,
        "start_time": "2023-03-20T18:17:35.919Z"
      },
      {
        "duration": 4534,
        "start_time": "2023-03-20T18:17:54.363Z"
      },
      {
        "duration": 4597,
        "start_time": "2023-03-20T18:18:05.137Z"
      },
      {
        "duration": 4898,
        "start_time": "2023-03-20T18:19:10.670Z"
      },
      {
        "duration": 4518,
        "start_time": "2023-03-20T18:19:24.322Z"
      },
      {
        "duration": 90,
        "start_time": "2023-03-20T18:20:32.748Z"
      },
      {
        "duration": 79,
        "start_time": "2023-03-20T18:20:39.211Z"
      },
      {
        "duration": 86,
        "start_time": "2023-03-20T18:20:53.168Z"
      },
      {
        "duration": 88,
        "start_time": "2023-03-20T18:21:01.610Z"
      },
      {
        "duration": 80,
        "start_time": "2023-03-20T18:21:08.942Z"
      },
      {
        "duration": 78,
        "start_time": "2023-03-20T18:21:15.818Z"
      },
      {
        "duration": 420,
        "start_time": "2023-03-20T18:21:49.030Z"
      },
      {
        "duration": 4748,
        "start_time": "2023-03-20T18:22:14.056Z"
      },
      {
        "duration": 4541,
        "start_time": "2023-03-20T18:22:31.882Z"
      },
      {
        "duration": 4980,
        "start_time": "2023-03-20T18:23:11.292Z"
      },
      {
        "duration": 1292,
        "start_time": "2023-03-20T18:23:35.387Z"
      },
      {
        "duration": 30,
        "start_time": "2023-03-20T18:23:36.681Z"
      },
      {
        "duration": 13,
        "start_time": "2023-03-20T18:23:36.712Z"
      },
      {
        "duration": 13,
        "start_time": "2023-03-20T18:23:36.727Z"
      },
      {
        "duration": 8,
        "start_time": "2023-03-20T18:23:36.743Z"
      },
      {
        "duration": 14,
        "start_time": "2023-03-20T18:23:36.753Z"
      },
      {
        "duration": 54,
        "start_time": "2023-03-20T18:23:36.769Z"
      },
      {
        "duration": 5,
        "start_time": "2023-03-20T18:23:36.825Z"
      },
      {
        "duration": 13,
        "start_time": "2023-03-20T18:23:36.832Z"
      },
      {
        "duration": 27,
        "start_time": "2023-03-20T18:23:36.847Z"
      },
      {
        "duration": 17,
        "start_time": "2023-03-20T18:23:36.876Z"
      },
      {
        "duration": 7,
        "start_time": "2023-03-20T18:23:36.894Z"
      },
      {
        "duration": 8,
        "start_time": "2023-03-20T18:23:36.903Z"
      },
      {
        "duration": 14,
        "start_time": "2023-03-20T18:23:36.913Z"
      },
      {
        "duration": 7,
        "start_time": "2023-03-20T18:23:36.928Z"
      },
      {
        "duration": 12,
        "start_time": "2023-03-20T18:23:36.937Z"
      },
      {
        "duration": 24,
        "start_time": "2023-03-20T18:23:36.950Z"
      },
      {
        "duration": 88,
        "start_time": "2023-03-20T18:23:36.976Z"
      },
      {
        "duration": 169,
        "start_time": "2023-03-20T18:23:37.065Z"
      },
      {
        "duration": 477,
        "start_time": "2023-03-20T18:23:37.236Z"
      },
      {
        "duration": 4661,
        "start_time": "2023-03-20T18:23:37.714Z"
      },
      {
        "duration": 10,
        "start_time": "2023-03-20T18:23:42.377Z"
      },
      {
        "duration": 66,
        "start_time": "2023-03-20T18:23:42.389Z"
      },
      {
        "duration": 5,
        "start_time": "2023-03-20T18:23:42.457Z"
      },
      {
        "duration": 11,
        "start_time": "2023-03-20T18:23:42.464Z"
      },
      {
        "duration": 73,
        "start_time": "2023-03-20T18:23:42.477Z"
      },
      {
        "duration": 9,
        "start_time": "2023-03-20T18:23:42.552Z"
      },
      {
        "duration": 2575,
        "start_time": "2023-03-21T05:10:26.565Z"
      },
      {
        "duration": 78,
        "start_time": "2023-03-21T05:10:29.142Z"
      },
      {
        "duration": 14,
        "start_time": "2023-03-21T05:10:29.222Z"
      },
      {
        "duration": 12,
        "start_time": "2023-03-21T05:10:29.238Z"
      },
      {
        "duration": 9,
        "start_time": "2023-03-21T05:10:29.251Z"
      },
      {
        "duration": 18,
        "start_time": "2023-03-21T05:10:29.262Z"
      },
      {
        "duration": 25,
        "start_time": "2023-03-21T05:10:29.281Z"
      },
      {
        "duration": 4,
        "start_time": "2023-03-21T05:10:29.308Z"
      },
      {
        "duration": 4,
        "start_time": "2023-03-21T05:10:29.313Z"
      },
      {
        "duration": 7,
        "start_time": "2023-03-21T05:10:29.320Z"
      },
      {
        "duration": 4,
        "start_time": "2023-03-21T05:10:29.329Z"
      },
      {
        "duration": 5,
        "start_time": "2023-03-21T05:10:29.335Z"
      },
      {
        "duration": 4,
        "start_time": "2023-03-21T05:10:29.342Z"
      },
      {
        "duration": 43,
        "start_time": "2023-03-21T05:10:29.348Z"
      },
      {
        "duration": 5,
        "start_time": "2023-03-21T05:10:29.393Z"
      },
      {
        "duration": 4,
        "start_time": "2023-03-21T05:10:29.400Z"
      },
      {
        "duration": 6,
        "start_time": "2023-03-21T05:10:29.406Z"
      },
      {
        "duration": 131,
        "start_time": "2023-03-21T05:10:29.413Z"
      },
      {
        "duration": 176,
        "start_time": "2023-03-21T05:10:29.546Z"
      },
      {
        "duration": 503,
        "start_time": "2023-03-21T05:10:29.724Z"
      },
      {
        "duration": 4863,
        "start_time": "2023-03-21T05:10:30.228Z"
      },
      {
        "duration": 11,
        "start_time": "2023-03-21T05:10:35.092Z"
      },
      {
        "duration": 52,
        "start_time": "2023-03-21T05:10:35.105Z"
      },
      {
        "duration": 4,
        "start_time": "2023-03-21T05:10:35.159Z"
      },
      {
        "duration": 26,
        "start_time": "2023-03-21T05:10:35.165Z"
      },
      {
        "duration": 60,
        "start_time": "2023-03-21T05:10:35.192Z"
      },
      {
        "duration": 6,
        "start_time": "2023-03-21T05:10:35.254Z"
      },
      {
        "duration": 2407,
        "start_time": "2023-10-19T09:00:04.891Z"
      },
      {
        "duration": 121,
        "start_time": "2023-10-19T09:00:07.300Z"
      },
      {
        "duration": 16,
        "start_time": "2023-10-19T09:00:07.423Z"
      },
      {
        "duration": 23,
        "start_time": "2023-10-19T09:00:07.440Z"
      },
      {
        "duration": 40,
        "start_time": "2023-10-19T09:00:07.465Z"
      },
      {
        "duration": 52,
        "start_time": "2023-10-19T09:00:07.507Z"
      },
      {
        "duration": 31,
        "start_time": "2023-10-19T09:00:07.561Z"
      },
      {
        "duration": 4,
        "start_time": "2023-10-19T09:00:07.593Z"
      },
      {
        "duration": 21,
        "start_time": "2023-10-19T09:00:07.598Z"
      },
      {
        "duration": 18,
        "start_time": "2023-10-19T09:00:07.621Z"
      },
      {
        "duration": 17,
        "start_time": "2023-10-19T09:00:07.641Z"
      },
      {
        "duration": 31,
        "start_time": "2023-10-19T09:00:07.660Z"
      },
      {
        "duration": 26,
        "start_time": "2023-10-19T09:00:07.693Z"
      },
      {
        "duration": 13,
        "start_time": "2023-10-19T09:00:07.723Z"
      },
      {
        "duration": 28,
        "start_time": "2023-10-19T09:00:07.738Z"
      },
      {
        "duration": 14,
        "start_time": "2023-10-19T09:00:07.768Z"
      },
      {
        "duration": 12,
        "start_time": "2023-10-19T09:00:07.784Z"
      },
      {
        "duration": 106,
        "start_time": "2023-10-19T09:00:07.797Z"
      },
      {
        "duration": 164,
        "start_time": "2023-10-19T09:00:07.905Z"
      },
      {
        "duration": 1152,
        "start_time": "2023-10-19T09:00:08.071Z"
      },
      {
        "duration": 511,
        "start_time": "2023-10-19T09:00:09.225Z"
      },
      {
        "duration": 5112,
        "start_time": "2023-10-19T09:00:09.738Z"
      },
      {
        "duration": 12,
        "start_time": "2023-10-19T09:00:14.859Z"
      },
      {
        "duration": 51,
        "start_time": "2023-10-19T09:00:14.872Z"
      },
      {
        "duration": 6,
        "start_time": "2023-10-19T09:00:14.924Z"
      },
      {
        "duration": 10,
        "start_time": "2023-10-19T09:00:14.947Z"
      },
      {
        "duration": 106,
        "start_time": "2023-10-19T09:00:14.959Z"
      },
      {
        "duration": 30,
        "start_time": "2023-10-19T09:00:15.068Z"
      },
      {
        "duration": 157,
        "start_time": "2023-10-19T09:02:44.421Z"
      },
      {
        "duration": 1178,
        "start_time": "2023-10-19T09:03:30.247Z"
      },
      {
        "duration": 1111,
        "start_time": "2023-10-19T09:04:04.673Z"
      },
      {
        "duration": 1101,
        "start_time": "2023-10-19T09:07:30.619Z"
      }
    ],
    "kernelspec": {
      "display_name": "Python 3 (ipykernel)",
      "language": "python",
      "name": "python3"
    },
    "language_info": {
      "codemirror_mode": {
        "name": "ipython",
        "version": 3
      },
      "file_extension": ".py",
      "mimetype": "text/x-python",
      "name": "python",
      "nbconvert_exporter": "python",
      "pygments_lexer": "ipython3",
      "version": "3.9.5"
    },
    "toc": {
      "base_numbering": 1,
      "nav_menu": {},
      "number_sections": true,
      "sideBar": true,
      "skip_h1_title": true,
      "title_cell": "Table of Contents",
      "title_sidebar": "Contents",
      "toc_cell": false,
      "toc_position": {},
      "toc_section_display": true,
      "toc_window_display": false
    },
    "colab": {
      "provenance": []
    }
  },
  "nbformat": 4,
  "nbformat_minor": 0
}