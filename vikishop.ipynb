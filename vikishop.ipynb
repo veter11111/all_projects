{
  "cells": [
    {
      "cell_type": "markdown",
      "metadata": {
        "id": "puBa24AdUrBG"
      },
      "source": [
        "# Проект для «Викишоп»\n",
        "\n",
        "Интернет-магазин «Викишоп» запускает новый сервис. Теперь пользователи могут редактировать и дополнять описания товаров, как в вики-сообществах. То есть клиенты предлагают свои правки и комментируют изменения других. Магазину нужен инструмент, который будет искать токсичные комментарии и отправлять их на модерацию.\n",
        "\n",
        "Цель проекта - обучить модель классифицировать комментарии на позитивные и негативные. Необходимо построить модель со значением метрики качества *F1* не меньше 0.75.\n",
        "\n",
        "В нашем распоряжении набор данных с разметкой о токсичности правок.\n",
        "\n",
        "**Описание данных**\n",
        "\n",
        "Данные находятся в файле `toxic_comments.csv`. Столбец *text* в нём содержит текст комментария, а *toxic* — целевой признак.\n",
        "\n",
        "\n",
        "**Инструкция по выполнению проекта**\n",
        "\n",
        "1. Загрузить и подготовить данные.\n",
        "2. Обучить разные модели.\n",
        "3. Сделать выводы.\n",
        "\n",
        "\n"
      ]
    },
    {
      "cell_type": "markdown",
      "metadata": {
        "id": "PV7WymHLUrBG"
      },
      "source": [
        "## Подготовка"
      ]
    },
    {
      "cell_type": "code",
      "execution_count": null,
      "metadata": {
        "id": "B4Ry8pdmUrBH"
      },
      "outputs": [],
      "source": [
        "import pandas as pd\n",
        "import numpy as np\n",
        "import nltk\n",
        "import re\n",
        "import matplotlib.pyplot as plt\n",
        "from nltk import pos_tag\n",
        "from nltk.stem import WordNetLemmatizer\n",
        "from nltk.tokenize import word_tokenize\n",
        "from sklearn.feature_extraction.text import TfidfVectorizer\n",
        "from sklearn.linear_model import LogisticRegression\n",
        "from sklearn.ensemble import RandomForestClassifier\n",
        "from sklearn.model_selection import train_test_split\n",
        "from sklearn.model_selection import cross_val_score\n",
        "from sklearn.metrics import f1_score\n",
        "from catboost import CatBoostClassifier\n",
        "from tqdm.notebook import tqdm\n",
        "from sklearn.pipeline import Pipeline"
      ]
    },
    {
      "cell_type": "markdown",
      "metadata": {
        "id": "6L9dtyIPUrBJ"
      },
      "source": [
        "**Загрузка данных**"
      ]
    },
    {
      "cell_type": "code",
      "execution_count": null,
      "metadata": {
        "id": "0YMqXbOGUrBJ"
      },
      "outputs": [],
      "source": [
        "df = pd.read_csv('/datasets/toxic_comments.csv')"
      ]
    },
    {
      "cell_type": "code",
      "execution_count": null,
      "metadata": {
        "id": "ADEIQlh9UrBJ",
        "outputId": "069f4968-eab4-4d28-bf23-fe95f49357a3"
      },
      "outputs": [
        {
          "data": {
            "text/html": [
              "<div>\n",
              "<style scoped>\n",
              "    .dataframe tbody tr th:only-of-type {\n",
              "        vertical-align: middle;\n",
              "    }\n",
              "\n",
              "    .dataframe tbody tr th {\n",
              "        vertical-align: top;\n",
              "    }\n",
              "\n",
              "    .dataframe thead th {\n",
              "        text-align: right;\n",
              "    }\n",
              "</style>\n",
              "<table border=\"1\" class=\"dataframe\">\n",
              "  <thead>\n",
              "    <tr style=\"text-align: right;\">\n",
              "      <th></th>\n",
              "      <th>Unnamed: 0</th>\n",
              "      <th>text</th>\n",
              "      <th>toxic</th>\n",
              "    </tr>\n",
              "  </thead>\n",
              "  <tbody>\n",
              "    <tr>\n",
              "      <th>0</th>\n",
              "      <td>0</td>\n",
              "      <td>Explanation\\nWhy the edits made under my usern...</td>\n",
              "      <td>0</td>\n",
              "    </tr>\n",
              "    <tr>\n",
              "      <th>1</th>\n",
              "      <td>1</td>\n",
              "      <td>D'aww! He matches this background colour I'm s...</td>\n",
              "      <td>0</td>\n",
              "    </tr>\n",
              "    <tr>\n",
              "      <th>2</th>\n",
              "      <td>2</td>\n",
              "      <td>Hey man, I'm really not trying to edit war. It...</td>\n",
              "      <td>0</td>\n",
              "    </tr>\n",
              "    <tr>\n",
              "      <th>3</th>\n",
              "      <td>3</td>\n",
              "      <td>\"\\nMore\\nI can't make any real suggestions on ...</td>\n",
              "      <td>0</td>\n",
              "    </tr>\n",
              "    <tr>\n",
              "      <th>4</th>\n",
              "      <td>4</td>\n",
              "      <td>You, sir, are my hero. Any chance you remember...</td>\n",
              "      <td>0</td>\n",
              "    </tr>\n",
              "    <tr>\n",
              "      <th>5</th>\n",
              "      <td>5</td>\n",
              "      <td>\"\\n\\nCongratulations from me as well, use the ...</td>\n",
              "      <td>0</td>\n",
              "    </tr>\n",
              "    <tr>\n",
              "      <th>6</th>\n",
              "      <td>6</td>\n",
              "      <td>COCKSUCKER BEFORE YOU PISS AROUND ON MY WORK</td>\n",
              "      <td>1</td>\n",
              "    </tr>\n",
              "    <tr>\n",
              "      <th>7</th>\n",
              "      <td>7</td>\n",
              "      <td>Your vandalism to the Matt Shirvington article...</td>\n",
              "      <td>0</td>\n",
              "    </tr>\n",
              "    <tr>\n",
              "      <th>8</th>\n",
              "      <td>8</td>\n",
              "      <td>Sorry if the word 'nonsense' was offensive to ...</td>\n",
              "      <td>0</td>\n",
              "    </tr>\n",
              "    <tr>\n",
              "      <th>9</th>\n",
              "      <td>9</td>\n",
              "      <td>alignment on this subject and which are contra...</td>\n",
              "      <td>0</td>\n",
              "    </tr>\n",
              "  </tbody>\n",
              "</table>\n",
              "</div>"
            ],
            "text/plain": [
              "   Unnamed: 0                                               text  toxic\n",
              "0           0  Explanation\\nWhy the edits made under my usern...      0\n",
              "1           1  D'aww! He matches this background colour I'm s...      0\n",
              "2           2  Hey man, I'm really not trying to edit war. It...      0\n",
              "3           3  \"\\nMore\\nI can't make any real suggestions on ...      0\n",
              "4           4  You, sir, are my hero. Any chance you remember...      0\n",
              "5           5  \"\\n\\nCongratulations from me as well, use the ...      0\n",
              "6           6       COCKSUCKER BEFORE YOU PISS AROUND ON MY WORK      1\n",
              "7           7  Your vandalism to the Matt Shirvington article...      0\n",
              "8           8  Sorry if the word 'nonsense' was offensive to ...      0\n",
              "9           9  alignment on this subject and which are contra...      0"
            ]
          },
          "execution_count": 3,
          "metadata": {},
          "output_type": "execute_result"
        }
      ],
      "source": [
        "df.head(10)"
      ]
    },
    {
      "cell_type": "code",
      "execution_count": null,
      "metadata": {
        "id": "ZU0Z_9JnUrBL",
        "outputId": "70513000-2cc6-43c1-d294-9f97218d5e51"
      },
      "outputs": [
        {
          "name": "stdout",
          "output_type": "stream",
          "text": [
            "<class 'pandas.core.frame.DataFrame'>\n",
            "RangeIndex: 159292 entries, 0 to 159291\n",
            "Data columns (total 3 columns):\n",
            " #   Column      Non-Null Count   Dtype \n",
            "---  ------      --------------   ----- \n",
            " 0   Unnamed: 0  159292 non-null  int64 \n",
            " 1   text        159292 non-null  object\n",
            " 2   toxic       159292 non-null  int64 \n",
            "dtypes: int64(2), object(1)\n",
            "memory usage: 3.6+ MB\n"
          ]
        }
      ],
      "source": [
        "df.info()"
      ]
    },
    {
      "cell_type": "code",
      "execution_count": null,
      "metadata": {
        "id": "AfByqXtoUrBL",
        "outputId": "69538740-7069-4b04-a980-82c9e0df6331"
      },
      "outputs": [
        {
          "data": {
            "image/png": "[encoded data removed]",
            "text/plain": [
              "<Figure size 432x288 with 1 Axes>"
            ]
          },
          "metadata": {
            "needs_background": "light"
          },
          "output_type": "display_data"
        }
      ],
      "source": [
        "df['toxic'].value_counts().plot.bar(xlabel='класс', ylabel='количество', title='Баланс классов');"
      ]
    },
    {
      "cell_type": "markdown",
      "metadata": {
        "id": "rP_j_vrrUrBM"
      },
      "source": [
        "**Разбивка на выборки**"
      ]
    },
    {
      "cell_type": "code",
      "execution_count": null,
      "metadata": {
        "id": "zlVsHGskUrBM"
      },
      "outputs": [],
      "source": [
        "features = df['text']\n",
        "target = df['toxic']"
      ]
    },
    {
      "cell_type": "code",
      "execution_count": null,
      "metadata": {
        "id": "Dgsn5coAUrBN"
      },
      "outputs": [],
      "source": [
        "features_train, features_test, target_train, target_test = train_test_split(features, target, test_size=0.3,\n",
        "                                                                            random_state=42, stratify=target)"
      ]
    },
    {
      "cell_type": "code",
      "execution_count": null,
      "metadata": {
        "id": "V_eAJbsVUrBN",
        "outputId": "a9de4bd7-d250-49d5-c59f-8389992f0da8"
      },
      "outputs": [
        {
          "data": {
            "text/plain": [
              "0    100174\n",
              "1     11330\n",
              "Name: toxic, dtype: int64"
            ]
          },
          "execution_count": 8,
          "metadata": {},
          "output_type": "execute_result"
        }
      ],
      "source": [
        "target_train.value_counts()"
      ]
    },
    {
      "cell_type": "code",
      "execution_count": null,
      "metadata": {
        "id": "IfMfjWdnUrBN",
        "outputId": "81ebd9ef-3a24-491d-a173-8b1775ccac4f"
      },
      "outputs": [
        {
          "data": {
            "text/plain": [
              "0    42932\n",
              "1     4856\n",
              "Name: toxic, dtype: int64"
            ]
          },
          "execution_count": 9,
          "metadata": {},
          "output_type": "execute_result"
        }
      ],
      "source": [
        "target_test.value_counts()"
      ]
    },
    {
      "cell_type": "code",
      "execution_count": null,
      "metadata": {
        "id": "IrGv2V93UrBO",
        "outputId": "ed9a69dd-bda8-4691-e121-cbb91fb8cdff"
      },
      "outputs": [
        {
          "data": {
            "text/plain": [
              "((111504,), (47788,), (111504,), (47788,))"
            ]
          },
          "execution_count": 10,
          "metadata": {},
          "output_type": "execute_result"
        }
      ],
      "source": [
        "features_train.shape, features_test.shape, target_train.shape, target_test.shape"
      ]
    },
    {
      "cell_type": "markdown",
      "metadata": {
        "id": "hGek-l9tUrBO"
      },
      "source": [
        "**Лемматизация**"
      ]
    },
    {
      "cell_type": "code",
      "execution_count": null,
      "metadata": {
        "id": "Dmpyqi8NUrBO",
        "outputId": "cbc8a7ac-a702-4ab2-c1c7-ff0f9a57771a"
      },
      "outputs": [
        {
          "name": "stderr",
          "output_type": "stream",
          "text": [
            "[nltk_data] Downloading package averaged_perceptron_tagger to\n",
            "[nltk_data]     /home/jovyan/nltk_data...\n",
            "[nltk_data]   Unzipping taggers/averaged_perceptron_tagger.zip.\n"
          ]
        },
        {
          "data": {
            "text/plain": [
              "True"
            ]
          },
          "execution_count": 11,
          "metadata": {},
          "output_type": "execute_result"
        }
      ],
      "source": [
        "nltk.download('averaged_perceptron_tagger')"
      ]
    },
    {
      "cell_type": "code",
      "execution_count": null,
      "metadata": {
        "id": "ntm2Z4tEUrBO"
      },
      "outputs": [],
      "source": [
        "tqdm.pandas()"
      ]
    },
    {
      "cell_type": "code",
      "execution_count": null,
      "metadata": {
        "id": "fbv5a-W0UrBP"
      },
      "outputs": [],
      "source": [
        "def lemmafunction(text):\n",
        "    text = text.lower()\n",
        "    text = \"\".join(re.sub(r'[^a-zA-Z]', ' ', text))\n",
        "    text_tag = pos_tag(word_tokenize(text))\n",
        "    wnl = WordNetLemmatizer()\n",
        "    lemma = ([wnl.lemmatize(word,tag[0].lower()) if tag[0].lower() in ['a','n','v']\n",
        "                                                 else wnl.lemmatize(word) for word,tag in text_tag])\n",
        "    return \" \".join(lemma)"
      ]
    },
    {
      "cell_type": "code",
      "execution_count": null,
      "metadata": {
        "colab": {
          "referenced_widgets": [
            "194e5292777a483883410f0c4ac2fd7a"
          ]
        },
        "id": "vX2-z3iLUrBP",
        "outputId": "e2486287-670b-4e33-9e4b-35ba9ed4c1dd"
      },
      "outputs": [
        {
          "data": {
            "application/vnd.jupyter.widget-view+json": {
              "model_id": "194e5292777a483883410f0c4ac2fd7a",
              "version_major": 2,
              "version_minor": 0
            },
            "text/plain": [
              "  0%|          | 0/111504 [00:00<?, ?it/s]"
            ]
          },
          "metadata": {},
          "output_type": "display_data"
        }
      ],
      "source": [
        "lemma_text_train = features_train.progress_apply(lemmafunction)"
      ]
    },
    {
      "cell_type": "code",
      "execution_count": null,
      "metadata": {
        "colab": {
          "referenced_widgets": [
            "a7dc881fc2b5478da834c60629c0ea3d"
          ]
        },
        "id": "rPe1ufbYUrBP",
        "outputId": "1458cf3d-0d9c-4790-e14a-7c70cc93f5ed"
      },
      "outputs": [
        {
          "data": {
            "application/vnd.jupyter.widget-view+json": {
              "model_id": "a7dc881fc2b5478da834c60629c0ea3d",
              "version_major": 2,
              "version_minor": 0
            },
            "text/plain": [
              "  0%|          | 0/47788 [00:00<?, ?it/s]"
            ]
          },
          "metadata": {},
          "output_type": "display_data"
        }
      ],
      "source": [
        "lemma_text_test = features_test.progress_apply(lemmafunction)"
      ]
    },
    {
      "cell_type": "markdown",
      "metadata": {
        "id": "PbmlZDnzUrBQ"
      },
      "source": [
        "**TF-IDF**"
      ]
    },
    {
      "cell_type": "code",
      "execution_count": null,
      "metadata": {
        "id": "7rr8idpjUrBQ"
      },
      "outputs": [],
      "source": [
        "count_tf_idf = TfidfVectorizer(stop_words='english', min_df=2, max_df=0.5, ngram_range=(1,2))"
      ]
    },
    {
      "cell_type": "code",
      "execution_count": null,
      "metadata": {
        "id": "v_Hnj8f3UrBR"
      },
      "outputs": [],
      "source": [
        "tf_idf_train = count_tf_idf.fit_transform(lemma_text_train)"
      ]
    },
    {
      "cell_type": "code",
      "execution_count": null,
      "metadata": {
        "id": "KETSc_MSUrBW"
      },
      "outputs": [],
      "source": [
        "tf_idf_test = count_tf_idf.transform(lemma_text_test)"
      ]
    },
    {
      "cell_type": "code",
      "execution_count": null,
      "metadata": {
        "id": "7b6fjudWUrBW",
        "outputId": "68231f0b-4671-450c-d3ef-95edc3c6fe0b"
      },
      "outputs": [
        {
          "data": {
            "text/plain": [
              "((111504, 366282), (47788, 366282))"
            ]
          },
          "execution_count": 19,
          "metadata": {},
          "output_type": "execute_result"
        }
      ],
      "source": [
        "tf_idf_train.shape, tf_idf_test.shape"
      ]
    },
    {
      "cell_type": "markdown",
      "metadata": {
        "id": "y5eYIjQlUrBY"
      },
      "source": [
        "Данные содержат 159292 строк и 3 столбца. Присутствует дисбаланс классов. Данные были разбиты на обучающую и тестовую выборки. Тексты были лимматизированы. Было вычислено TF-IDF.  "
      ]
    },
    {
      "cell_type": "markdown",
      "metadata": {
        "id": "CdG1Gk-eUrBY"
      },
      "source": [
        "## Обучение"
      ]
    },
    {
      "cell_type": "markdown",
      "metadata": {
        "id": "xdLbbqgAUrBY"
      },
      "source": [
        "**LogisticRegression**"
      ]
    },
    {
      "cell_type": "code",
      "execution_count": null,
      "metadata": {
        "id": "QiJgF1HGUrBY"
      },
      "outputs": [],
      "source": [
        "pipe_lr = Pipeline([('tfidf', count_tf_idf),\n",
        "                    ('classifier', LogisticRegression(random_state=42, class_weight='balanced', solver='liblinear', C=10))])"
      ]
    },
    {
      "cell_type": "code",
      "execution_count": null,
      "metadata": {
        "id": "qHx97qwdUrBY",
        "outputId": "f05a1233-fcaf-4109-b3b5-6e5f9610d0db"
      },
      "outputs": [
        {
          "data": {
            "text/plain": [
              "Pipeline(steps=[('tfidf',\n",
              "                 TfidfVectorizer(max_df=0.5, min_df=2, ngram_range=(1, 2),\n",
              "                                 stop_words='english')),\n",
              "                ('classifier',\n",
              "                 LogisticRegression(C=10, class_weight='balanced',\n",
              "                                    random_state=42, solver='liblinear'))])"
            ]
          },
          "execution_count": 21,
          "metadata": {},
          "output_type": "execute_result"
        }
      ],
      "source": [
        "pipe_lr.fit(lemma_text_train, target_train)"
      ]
    },
    {
      "cell_type": "code",
      "execution_count": null,
      "metadata": {
        "id": "d7VjLJSNUrBZ",
        "outputId": "32c5086e-1bf8-43cb-d355-b661073d6dad"
      },
      "outputs": [
        {
          "name": "stdout",
          "output_type": "stream",
          "text": [
            "F1: 0.7673883163648628\n"
          ]
        }
      ],
      "source": [
        "f1 = cross_val_score(pipe_lr, lemma_text_train, target_train, cv=3, scoring='f1').mean()\n",
        "print('F1:', f1)"
      ]
    },
    {
      "cell_type": "markdown",
      "metadata": {
        "id": "h_SgCGwyUrBc"
      },
      "source": [
        "**RandomForestClassifier**"
      ]
    },
    {
      "cell_type": "code",
      "execution_count": null,
      "metadata": {
        "id": "q5_SE7lJUrBc"
      },
      "outputs": [],
      "source": [
        "pipe_rf = Pipeline([('tfidf', count_tf_idf),\n",
        "                  ('classifier', RandomForestClassifier(random_state=42, n_estimators=20, class_weight ='balanced'))])"
      ]
    },
    {
      "cell_type": "code",
      "execution_count": null,
      "metadata": {
        "id": "_sPlZqvkUrBc",
        "outputId": "bea442f9-2ab6-448c-f564-5653750f6d02"
      },
      "outputs": [
        {
          "name": "stdout",
          "output_type": "stream",
          "text": [
            "F1: 0.5898116021837043\n"
          ]
        }
      ],
      "source": [
        "f1 = cross_val_score(pipe_rf, lemma_text_train, target_train, cv=3, scoring='f1').mean()\n",
        "print('F1:', f1)"
      ]
    },
    {
      "cell_type": "markdown",
      "metadata": {
        "id": "m7-sfnnyUrBd"
      },
      "source": [
        "**CatBoostClassifier**"
      ]
    },
    {
      "cell_type": "code",
      "execution_count": null,
      "metadata": {
        "id": "e4jeRgk-UrBd"
      },
      "outputs": [],
      "source": [
        "pipe_cb = Pipeline([('tfidf', count_tf_idf),\n",
        "                    ('classifier', CatBoostClassifier(loss_function = 'Logloss', iterations=10, random_state=42))])"
      ]
    },
    {
      "cell_type": "code",
      "execution_count": null,
      "metadata": {
        "id": "Ukwo69GDUrBd",
        "outputId": "41f9860c-c29a-46c7-ebe4-ed31e1b7611f"
      },
      "outputs": [
        {
          "name": "stdout",
          "output_type": "stream",
          "text": [
            "Learning rate set to 0.5\n",
            "0:\tlearn: 0.3496976\ttotal: 4.03s\tremaining: 36.3s\n",
            "1:\tlearn: 0.2604906\ttotal: 7.3s\tremaining: 29.2s\n",
            "2:\tlearn: 0.2350147\ttotal: 10.4s\tremaining: 24.2s\n",
            "3:\tlearn: 0.2196589\ttotal: 13.9s\tremaining: 20.9s\n",
            "4:\tlearn: 0.2110228\ttotal: 17.3s\tremaining: 17.3s\n",
            "5:\tlearn: 0.2047636\ttotal: 20.6s\tremaining: 13.7s\n",
            "6:\tlearn: 0.1998427\ttotal: 24.1s\tremaining: 10.3s\n",
            "7:\tlearn: 0.1951979\ttotal: 27.6s\tremaining: 6.89s\n",
            "8:\tlearn: 0.1908876\ttotal: 31s\tremaining: 3.44s\n",
            "9:\tlearn: 0.1873530\ttotal: 34.3s\tremaining: 0us\n",
            "Learning rate set to 0.5\n",
            "0:\tlearn: 0.3486971\ttotal: 4.76s\tremaining: 42.8s\n",
            "1:\tlearn: 0.2604931\ttotal: 8.66s\tremaining: 34.6s\n",
            "2:\tlearn: 0.2339930\ttotal: 12.5s\tremaining: 29.2s\n",
            "3:\tlearn: 0.2191295\ttotal: 16.4s\tremaining: 24.6s\n",
            "4:\tlearn: 0.2114531\ttotal: 20.6s\tremaining: 20.6s\n",
            "5:\tlearn: 0.2037256\ttotal: 24.1s\tremaining: 16s\n",
            "6:\tlearn: 0.1976821\ttotal: 27.7s\tremaining: 11.9s\n",
            "7:\tlearn: 0.1939609\ttotal: 31.2s\tremaining: 7.79s\n",
            "8:\tlearn: 0.1900135\ttotal: 35s\tremaining: 3.88s\n",
            "9:\tlearn: 0.1858090\ttotal: 38.3s\tremaining: 0us\n",
            "Learning rate set to 0.5\n",
            "0:\tlearn: 0.3500332\ttotal: 4.19s\tremaining: 37.7s\n",
            "1:\tlearn: 0.2644687\ttotal: 7.54s\tremaining: 30.2s\n",
            "2:\tlearn: 0.2355006\ttotal: 10.8s\tremaining: 25.2s\n",
            "3:\tlearn: 0.2231147\ttotal: 14.1s\tremaining: 21.2s\n",
            "4:\tlearn: 0.2152230\ttotal: 17.6s\tremaining: 17.6s\n",
            "5:\tlearn: 0.2092424\ttotal: 21.2s\tremaining: 14.2s\n",
            "6:\tlearn: 0.2031553\ttotal: 24.6s\tremaining: 10.5s\n",
            "7:\tlearn: 0.1985449\ttotal: 28s\tremaining: 7s\n",
            "8:\tlearn: 0.1930334\ttotal: 31.3s\tremaining: 3.48s\n",
            "9:\tlearn: 0.1895720\ttotal: 34.5s\tremaining: 0us\n",
            "F1: 0.6131475381390729\n"
          ]
        }
      ],
      "source": [
        "f1_cb = cross_val_score(pipe_cb, lemma_text_train, target_train, scoring='f1', cv=3).mean()\n",
        "print('F1:', f1_cb)"
      ]
    },
    {
      "cell_type": "markdown",
      "metadata": {
        "id": "lBoIzXWJUrBf"
      },
      "source": [
        "**Тестирование лучшей модели**"
      ]
    },
    {
      "cell_type": "code",
      "execution_count": null,
      "metadata": {
        "id": "2BSfRYAIUrBf",
        "outputId": "c94c0cc5-cf2e-4294-bc44-7d6b0670fb87"
      },
      "outputs": [
        {
          "data": {
            "text/plain": [
              "0.7754442649434572"
            ]
          },
          "execution_count": 27,
          "metadata": {},
          "output_type": "execute_result"
        }
      ],
      "source": [
        "predict1 = pipe_lr.predict(lemma_text_test)\n",
        "f1_score(target_test, predict1)"
      ]
    },
    {
      "cell_type": "markdown",
      "metadata": {
        "id": "WzV1bXKRUrBf"
      },
      "source": [
        "## Выводы"
      ]
    },
    {
      "cell_type": "markdown",
      "metadata": {
        "id": "CS7MDTNnUrBf"
      },
      "source": [
        "Для определения тональности были применены величины TF-IDF как признаки. Кросс-валидацией были протестированы три модели LogisticRegression, RandomForestClassifier, CatBoostClassifier. Модели RandomForestClassifier и CatBoostClassifier показали плохое качество метрики F1 (0.59 и 0.61 соответственно). Указанные модели для решения данной задачи не подходят.  Лучшие результаты метрики качества F1 (не меньше 0.75) показала модель LogisticRegression, было применено взвешивание классов. Данная модель была проверена на тестовой выборке и показала значение F1: 0.7754442649434572, эту модель можно использовать для классификации комментариев на позитивные и негативные."
      ]
    },
    {
      "cell_type": "code",
      "execution_count": null,
      "metadata": {
        "id": "ZCxp8mFLUrBh"
      },
      "outputs": [],
      "source": []
    }
  ],
  "metadata": {
    "ExecuteTimeLog": [
      {
        "duration": 414,
        "start_time": "2023-06-14T12:28:16.685Z"
      },
      {
        "duration": 160,
        "start_time": "2023-06-14T12:31:04.533Z"
      },
      {
        "duration": 1613,
        "start_time": "2023-06-14T12:32:13.624Z"
      },
      {
        "duration": 25,
        "start_time": "2023-06-14T12:33:17.690Z"
      },
      {
        "duration": 35,
        "start_time": "2023-06-14T12:35:25.194Z"
      },
      {
        "duration": 403,
        "start_time": "2023-06-16T15:38:46.552Z"
      },
      {
        "duration": 3,
        "start_time": "2023-06-16T15:39:06.114Z"
      },
      {
        "duration": 3821,
        "start_time": "2023-06-16T15:39:15.736Z"
      },
      {
        "duration": 816,
        "start_time": "2023-06-16T15:44:13.357Z"
      },
      {
        "duration": 729,
        "start_time": "2023-06-16T15:44:40.240Z"
      },
      {
        "duration": 976,
        "start_time": "2023-06-16T15:46:28.132Z"
      },
      {
        "duration": 1347,
        "start_time": "2023-06-16T15:47:51.728Z"
      },
      {
        "duration": 15,
        "start_time": "2023-06-16T15:48:15.592Z"
      },
      {
        "duration": 6,
        "start_time": "2023-06-16T15:48:29.975Z"
      },
      {
        "duration": 4,
        "start_time": "2023-06-16T15:48:53.770Z"
      },
      {
        "duration": 13,
        "start_time": "2023-06-16T15:55:05.191Z"
      },
      {
        "duration": 2027,
        "start_time": "2023-06-16T15:55:16.324Z"
      },
      {
        "duration": 6,
        "start_time": "2023-06-16T15:55:28.616Z"
      },
      {
        "duration": 16,
        "start_time": "2023-06-16T15:56:30.414Z"
      },
      {
        "duration": 96,
        "start_time": "2023-06-16T15:57:30.614Z"
      },
      {
        "duration": 1215,
        "start_time": "2023-06-16T15:57:36.408Z"
      },
      {
        "duration": 3724,
        "start_time": "2023-06-16T15:57:37.626Z"
      },
      {
        "duration": 28,
        "start_time": "2023-06-16T15:57:41.352Z"
      },
      {
        "duration": 35,
        "start_time": "2023-06-16T15:57:41.382Z"
      },
      {
        "duration": 4,
        "start_time": "2023-06-16T15:57:41.420Z"
      },
      {
        "duration": 2928,
        "start_time": "2023-06-16T15:57:41.425Z"
      },
      {
        "duration": 95,
        "start_time": "2023-06-16T15:57:44.354Z"
      },
      {
        "duration": 793,
        "start_time": "2023-06-16T15:57:44.451Z"
      },
      {
        "duration": 1490,
        "start_time": "2023-06-16T16:00:43.252Z"
      },
      {
        "duration": 520,
        "start_time": "2023-06-16T16:18:47.294Z"
      },
      {
        "duration": 76,
        "start_time": "2023-06-16T16:19:30.742Z"
      },
      {
        "duration": 193,
        "start_time": "2023-06-16T16:20:03.736Z"
      },
      {
        "duration": 65,
        "start_time": "2023-06-16T16:31:06.507Z"
      },
      {
        "duration": 2293,
        "start_time": "2023-06-16T16:32:09.902Z"
      },
      {
        "duration": 3861,
        "start_time": "2023-06-16T16:32:12.197Z"
      },
      {
        "duration": 16,
        "start_time": "2023-06-16T16:32:16.061Z"
      },
      {
        "duration": 62,
        "start_time": "2023-06-16T16:32:16.079Z"
      },
      {
        "duration": 143,
        "start_time": "2023-06-16T16:32:16.144Z"
      },
      {
        "duration": 5,
        "start_time": "2023-06-16T16:32:16.289Z"
      },
      {
        "duration": 1967,
        "start_time": "2023-06-16T16:32:16.295Z"
      },
      {
        "duration": 12,
        "start_time": "2023-06-16T16:32:18.264Z"
      },
      {
        "duration": 107,
        "start_time": "2023-06-16T16:32:18.278Z"
      },
      {
        "duration": 10,
        "start_time": "2023-06-16T16:32:46.354Z"
      },
      {
        "duration": 42,
        "start_time": "2023-06-16T16:35:03.192Z"
      },
      {
        "duration": 87,
        "start_time": "2023-06-16T16:35:04.145Z"
      },
      {
        "duration": 14,
        "start_time": "2023-06-16T16:35:06.900Z"
      },
      {
        "duration": 11,
        "start_time": "2023-06-16T16:35:11.471Z"
      },
      {
        "duration": 4,
        "start_time": "2023-06-16T16:36:41.057Z"
      },
      {
        "duration": 4,
        "start_time": "2023-06-16T16:37:03.749Z"
      },
      {
        "duration": 4,
        "start_time": "2023-06-16T16:37:19.028Z"
      },
      {
        "duration": 3,
        "start_time": "2023-06-16T16:37:24.106Z"
      },
      {
        "duration": 764,
        "start_time": "2023-06-16T16:37:24.112Z"
      },
      {
        "duration": 11,
        "start_time": "2023-06-16T16:37:24.878Z"
      },
      {
        "duration": 46,
        "start_time": "2023-06-16T16:37:24.890Z"
      },
      {
        "duration": 196,
        "start_time": "2023-06-16T16:37:24.938Z"
      },
      {
        "duration": 2,
        "start_time": "2023-06-16T16:37:25.136Z"
      },
      {
        "duration": 58,
        "start_time": "2023-06-16T16:37:25.140Z"
      },
      {
        "duration": 40,
        "start_time": "2023-06-16T16:37:25.200Z"
      },
      {
        "duration": 5,
        "start_time": "2023-06-16T16:37:25.241Z"
      },
      {
        "duration": 4,
        "start_time": "2023-06-16T16:37:44.606Z"
      },
      {
        "duration": 3,
        "start_time": "2023-06-16T16:37:50.696Z"
      },
      {
        "duration": 789,
        "start_time": "2023-06-16T16:37:50.702Z"
      },
      {
        "duration": 11,
        "start_time": "2023-06-16T16:37:51.493Z"
      },
      {
        "duration": 34,
        "start_time": "2023-06-16T16:37:51.521Z"
      },
      {
        "duration": 131,
        "start_time": "2023-06-16T16:37:51.557Z"
      },
      {
        "duration": 3,
        "start_time": "2023-06-16T16:37:51.690Z"
      },
      {
        "duration": 48,
        "start_time": "2023-06-16T16:37:51.695Z"
      },
      {
        "duration": 37,
        "start_time": "2023-06-16T16:37:51.745Z"
      },
      {
        "duration": 12,
        "start_time": "2023-06-16T16:37:51.784Z"
      },
      {
        "duration": 4,
        "start_time": "2023-06-16T16:39:18.553Z"
      },
      {
        "duration": 1495,
        "start_time": "2023-06-16T16:39:18.560Z"
      },
      {
        "duration": 15,
        "start_time": "2023-06-16T16:39:20.058Z"
      },
      {
        "duration": 85,
        "start_time": "2023-06-16T16:39:20.075Z"
      },
      {
        "duration": 138,
        "start_time": "2023-06-16T16:39:20.163Z"
      },
      {
        "duration": 2,
        "start_time": "2023-06-16T16:39:20.303Z"
      },
      {
        "duration": 63,
        "start_time": "2023-06-16T16:39:20.312Z"
      },
      {
        "duration": 68,
        "start_time": "2023-06-16T16:39:20.377Z"
      },
      {
        "duration": 27,
        "start_time": "2023-06-16T16:39:20.447Z"
      },
      {
        "duration": 3,
        "start_time": "2023-06-16T16:40:18.393Z"
      },
      {
        "duration": 1084,
        "start_time": "2023-06-16T16:40:18.397Z"
      },
      {
        "duration": 12,
        "start_time": "2023-06-16T16:40:19.482Z"
      },
      {
        "duration": 41,
        "start_time": "2023-06-16T16:40:19.496Z"
      },
      {
        "duration": 158,
        "start_time": "2023-06-16T16:40:19.539Z"
      },
      {
        "duration": 3,
        "start_time": "2023-06-16T16:40:19.699Z"
      },
      {
        "duration": 48,
        "start_time": "2023-06-16T16:40:19.720Z"
      },
      {
        "duration": 33,
        "start_time": "2023-06-16T16:40:19.771Z"
      },
      {
        "duration": 5,
        "start_time": "2023-06-16T16:40:19.807Z"
      },
      {
        "duration": 134,
        "start_time": "2023-06-16T16:42:24.863Z"
      },
      {
        "duration": 3,
        "start_time": "2023-06-16T16:42:40.171Z"
      },
      {
        "duration": 1427,
        "start_time": "2023-06-16T16:42:40.176Z"
      },
      {
        "duration": 23,
        "start_time": "2023-06-16T16:42:41.605Z"
      },
      {
        "duration": 61,
        "start_time": "2023-06-16T16:42:41.631Z"
      },
      {
        "duration": 131,
        "start_time": "2023-06-16T16:42:41.696Z"
      },
      {
        "duration": 3,
        "start_time": "2023-06-16T16:42:41.829Z"
      },
      {
        "duration": 59,
        "start_time": "2023-06-16T16:42:41.833Z"
      },
      {
        "duration": 47,
        "start_time": "2023-06-16T16:42:41.894Z"
      },
      {
        "duration": 85,
        "start_time": "2023-06-16T16:42:41.943Z"
      },
      {
        "duration": 86,
        "start_time": "2023-06-16T16:42:58.283Z"
      },
      {
        "duration": 82,
        "start_time": "2023-06-16T16:43:26.557Z"
      },
      {
        "duration": 3,
        "start_time": "2023-06-16T16:43:39.146Z"
      },
      {
        "duration": 1065,
        "start_time": "2023-06-16T16:43:39.152Z"
      },
      {
        "duration": 12,
        "start_time": "2023-06-16T16:43:40.219Z"
      },
      {
        "duration": 71,
        "start_time": "2023-06-16T16:43:40.233Z"
      },
      {
        "duration": 130,
        "start_time": "2023-06-16T16:43:40.309Z"
      },
      {
        "duration": 2,
        "start_time": "2023-06-16T16:43:40.441Z"
      },
      {
        "duration": 67,
        "start_time": "2023-06-16T16:43:40.445Z"
      },
      {
        "duration": 47,
        "start_time": "2023-06-16T16:43:40.514Z"
      },
      {
        "duration": 110,
        "start_time": "2023-06-16T16:43:40.563Z"
      },
      {
        "duration": 19680,
        "start_time": "2023-06-16T16:43:57.658Z"
      },
      {
        "duration": 10,
        "start_time": "2023-06-16T16:44:38.698Z"
      },
      {
        "duration": 3,
        "start_time": "2023-06-16T16:44:50.085Z"
      },
      {
        "duration": 872,
        "start_time": "2023-06-16T16:44:50.090Z"
      },
      {
        "duration": 12,
        "start_time": "2023-06-16T16:44:50.963Z"
      },
      {
        "duration": 63,
        "start_time": "2023-06-16T16:44:50.978Z"
      },
      {
        "duration": 121,
        "start_time": "2023-06-16T16:44:51.043Z"
      },
      {
        "duration": 3,
        "start_time": "2023-06-16T16:44:51.166Z"
      },
      {
        "duration": 42,
        "start_time": "2023-06-16T16:44:51.170Z"
      },
      {
        "duration": 37,
        "start_time": "2023-06-16T16:44:51.216Z"
      },
      {
        "duration": 18,
        "start_time": "2023-06-16T16:44:51.257Z"
      },
      {
        "duration": 88,
        "start_time": "2023-06-16T16:45:43.953Z"
      },
      {
        "duration": 4,
        "start_time": "2023-06-16T16:45:53.099Z"
      },
      {
        "duration": 11,
        "start_time": "2023-06-16T16:48:05.591Z"
      },
      {
        "duration": 10,
        "start_time": "2023-06-16T16:48:22.986Z"
      },
      {
        "duration": 11,
        "start_time": "2023-06-16T16:49:08.926Z"
      },
      {
        "duration": 18990,
        "start_time": "2023-06-16T16:51:40.445Z"
      },
      {
        "duration": 27891,
        "start_time": "2023-06-16T16:52:19.829Z"
      },
      {
        "duration": 2186,
        "start_time": "2023-06-17T13:31:09.730Z"
      },
      {
        "duration": 2516,
        "start_time": "2023-06-17T13:31:11.919Z"
      },
      {
        "duration": 15,
        "start_time": "2023-06-17T13:31:14.439Z"
      },
      {
        "duration": 56,
        "start_time": "2023-06-17T13:31:14.456Z"
      },
      {
        "duration": 238,
        "start_time": "2023-06-17T13:31:14.514Z"
      },
      {
        "duration": 2,
        "start_time": "2023-06-17T13:31:14.755Z"
      },
      {
        "duration": 75,
        "start_time": "2023-06-17T13:31:14.759Z"
      },
      {
        "duration": 97,
        "start_time": "2023-06-17T13:31:14.836Z"
      },
      {
        "duration": 3498,
        "start_time": "2023-06-17T13:31:14.935Z"
      },
      {
        "duration": 65,
        "start_time": "2023-06-17T13:31:50.086Z"
      },
      {
        "duration": 70,
        "start_time": "2023-06-17T13:32:09.628Z"
      },
      {
        "duration": 99,
        "start_time": "2023-06-17T13:32:18.153Z"
      },
      {
        "duration": 92,
        "start_time": "2023-06-17T13:32:29.762Z"
      },
      {
        "duration": 2,
        "start_time": "2023-06-17T13:33:35.743Z"
      },
      {
        "duration": 4,
        "start_time": "2023-06-17T13:33:44.154Z"
      },
      {
        "duration": 116,
        "start_time": "2023-06-17T13:35:27.121Z"
      },
      {
        "duration": 4,
        "start_time": "2023-06-17T13:35:38.140Z"
      },
      {
        "duration": 5,
        "start_time": "2023-06-17T13:35:48.650Z"
      },
      {
        "duration": 3,
        "start_time": "2023-06-17T13:36:06.985Z"
      },
      {
        "duration": 768,
        "start_time": "2023-06-17T13:36:06.991Z"
      },
      {
        "duration": 17,
        "start_time": "2023-06-17T13:36:07.760Z"
      },
      {
        "duration": 48,
        "start_time": "2023-06-17T13:36:07.778Z"
      },
      {
        "duration": 88,
        "start_time": "2023-06-17T13:36:07.829Z"
      },
      {
        "duration": 2,
        "start_time": "2023-06-17T13:36:07.919Z"
      },
      {
        "duration": 59,
        "start_time": "2023-06-17T13:36:07.923Z"
      },
      {
        "duration": 64,
        "start_time": "2023-06-17T13:36:07.983Z"
      },
      {
        "duration": 3383,
        "start_time": "2023-06-17T13:36:08.048Z"
      },
      {
        "duration": 3,
        "start_time": "2023-06-17T13:39:41.828Z"
      },
      {
        "duration": 840,
        "start_time": "2023-06-17T13:39:41.833Z"
      },
      {
        "duration": 9,
        "start_time": "2023-06-17T13:39:42.675Z"
      },
      {
        "duration": 33,
        "start_time": "2023-06-17T13:39:42.685Z"
      },
      {
        "duration": 106,
        "start_time": "2023-06-17T13:39:42.720Z"
      },
      {
        "duration": 3,
        "start_time": "2023-06-17T13:39:42.828Z"
      },
      {
        "duration": 41,
        "start_time": "2023-06-17T13:39:42.833Z"
      },
      {
        "duration": 37,
        "start_time": "2023-06-17T13:39:42.875Z"
      },
      {
        "duration": 65561,
        "start_time": "2023-06-17T13:39:42.913Z"
      },
      {
        "duration": 95,
        "start_time": "2023-06-17T13:44:55.356Z"
      },
      {
        "duration": 29,
        "start_time": "2023-06-17T13:46:02.487Z"
      },
      {
        "duration": 3,
        "start_time": "2023-06-17T13:46:59.418Z"
      },
      {
        "duration": 764,
        "start_time": "2023-06-17T13:46:59.424Z"
      },
      {
        "duration": 14,
        "start_time": "2023-06-17T13:47:00.189Z"
      },
      {
        "duration": 60,
        "start_time": "2023-06-17T13:47:00.204Z"
      },
      {
        "duration": 126,
        "start_time": "2023-06-17T13:47:00.266Z"
      },
      {
        "duration": 2,
        "start_time": "2023-06-17T13:47:00.393Z"
      },
      {
        "duration": 67,
        "start_time": "2023-06-17T13:47:00.397Z"
      },
      {
        "duration": 61,
        "start_time": "2023-06-17T13:47:00.465Z"
      },
      {
        "duration": 30,
        "start_time": "2023-06-17T13:47:00.527Z"
      },
      {
        "duration": 3661,
        "start_time": "2023-06-17T13:49:40.470Z"
      },
      {
        "duration": 2006,
        "start_time": "2023-06-17T14:20:52.177Z"
      },
      {
        "duration": 2911,
        "start_time": "2023-06-17T14:20:54.185Z"
      },
      {
        "duration": 32,
        "start_time": "2023-06-17T14:20:57.097Z"
      },
      {
        "duration": 42,
        "start_time": "2023-06-17T14:20:57.130Z"
      },
      {
        "duration": 159,
        "start_time": "2023-06-17T14:20:57.174Z"
      },
      {
        "duration": 4,
        "start_time": "2023-06-17T14:20:57.335Z"
      },
      {
        "duration": 65,
        "start_time": "2023-06-17T14:20:57.340Z"
      },
      {
        "duration": 85,
        "start_time": "2023-06-17T14:20:57.406Z"
      },
      {
        "duration": 4064,
        "start_time": "2023-06-17T14:20:57.492Z"
      },
      {
        "duration": 74118,
        "start_time": "2023-06-17T14:21:01.558Z"
      },
      {
        "duration": 4,
        "start_time": "2023-06-17T15:01:12.070Z"
      },
      {
        "duration": 1060,
        "start_time": "2023-06-17T15:01:12.086Z"
      },
      {
        "duration": 14,
        "start_time": "2023-06-17T15:01:13.148Z"
      },
      {
        "duration": 64,
        "start_time": "2023-06-17T15:01:13.163Z"
      },
      {
        "duration": 156,
        "start_time": "2023-06-17T15:01:13.229Z"
      },
      {
        "duration": 33,
        "start_time": "2023-06-17T15:01:13.387Z"
      },
      {
        "duration": 41,
        "start_time": "2023-06-17T15:01:13.423Z"
      },
      {
        "duration": 67,
        "start_time": "2023-06-17T15:01:13.467Z"
      },
      {
        "duration": 100103,
        "start_time": "2023-06-17T15:01:13.536Z"
      },
      {
        "duration": 3374,
        "start_time": "2023-06-17T15:02:53.640Z"
      },
      {
        "duration": 5,
        "start_time": "2023-06-17T15:40:42.428Z"
      },
      {
        "duration": 4,
        "start_time": "2023-06-17T15:42:57.062Z"
      },
      {
        "duration": 858,
        "start_time": "2023-06-17T15:42:57.067Z"
      },
      {
        "duration": 11,
        "start_time": "2023-06-17T15:42:57.927Z"
      },
      {
        "duration": 40,
        "start_time": "2023-06-17T15:42:57.939Z"
      },
      {
        "duration": 109,
        "start_time": "2023-06-17T15:42:57.981Z"
      },
      {
        "duration": 3,
        "start_time": "2023-06-17T15:42:58.091Z"
      },
      {
        "duration": 39,
        "start_time": "2023-06-17T15:42:58.095Z"
      },
      {
        "duration": 1233,
        "start_time": "2023-06-17T15:42:58.135Z"
      },
      {
        "duration": 3340,
        "start_time": "2023-06-17T15:42:59.369Z"
      },
      {
        "duration": 3,
        "start_time": "2023-06-17T15:43:32.351Z"
      },
      {
        "duration": 857,
        "start_time": "2023-06-17T15:43:32.356Z"
      },
      {
        "duration": 17,
        "start_time": "2023-06-17T15:43:33.215Z"
      },
      {
        "duration": 28,
        "start_time": "2023-06-17T15:43:33.233Z"
      },
      {
        "duration": 111,
        "start_time": "2023-06-17T15:43:33.263Z"
      },
      {
        "duration": 47,
        "start_time": "2023-06-17T15:43:33.376Z"
      },
      {
        "duration": 35,
        "start_time": "2023-06-17T15:43:33.426Z"
      },
      {
        "duration": 1638,
        "start_time": "2023-06-17T15:43:33.463Z"
      },
      {
        "duration": 3458,
        "start_time": "2023-06-17T15:43:35.103Z"
      },
      {
        "duration": 9,
        "start_time": "2023-06-17T15:47:04.927Z"
      },
      {
        "duration": 3,
        "start_time": "2023-06-17T15:48:49.863Z"
      },
      {
        "duration": 923,
        "start_time": "2023-06-17T15:48:49.867Z"
      },
      {
        "duration": 40,
        "start_time": "2023-06-17T15:48:50.792Z"
      },
      {
        "duration": 41,
        "start_time": "2023-06-17T15:48:50.834Z"
      },
      {
        "duration": 171,
        "start_time": "2023-06-17T15:48:50.877Z"
      },
      {
        "duration": 28,
        "start_time": "2023-06-17T15:48:51.049Z"
      },
      {
        "duration": 67,
        "start_time": "2023-06-17T15:48:51.078Z"
      },
      {
        "duration": 138,
        "start_time": "2023-06-17T15:48:51.146Z"
      },
      {
        "duration": 0,
        "start_time": "2023-06-17T15:48:51.287Z"
      },
      {
        "duration": 0,
        "start_time": "2023-06-17T15:48:51.288Z"
      },
      {
        "duration": 3,
        "start_time": "2023-06-17T15:49:25.266Z"
      },
      {
        "duration": 971,
        "start_time": "2023-06-17T15:49:25.270Z"
      },
      {
        "duration": 13,
        "start_time": "2023-06-17T15:49:26.242Z"
      },
      {
        "duration": 45,
        "start_time": "2023-06-17T15:49:26.257Z"
      },
      {
        "duration": 168,
        "start_time": "2023-06-17T15:49:26.304Z"
      },
      {
        "duration": 29,
        "start_time": "2023-06-17T15:49:26.474Z"
      },
      {
        "duration": 65,
        "start_time": "2023-06-17T15:49:26.505Z"
      },
      {
        "duration": 13,
        "start_time": "2023-06-17T15:49:26.572Z"
      },
      {
        "duration": 0,
        "start_time": "2023-06-17T15:49:26.587Z"
      },
      {
        "duration": 0,
        "start_time": "2023-06-17T15:49:26.588Z"
      },
      {
        "duration": 18,
        "start_time": "2023-06-17T15:50:07.625Z"
      },
      {
        "duration": 82,
        "start_time": "2023-06-17T16:07:28.261Z"
      },
      {
        "duration": 3,
        "start_time": "2023-06-17T16:07:39.074Z"
      },
      {
        "duration": 782,
        "start_time": "2023-06-17T16:08:24.155Z"
      },
      {
        "duration": 26,
        "start_time": "2023-06-17T16:10:02.326Z"
      },
      {
        "duration": 3,
        "start_time": "2023-06-17T16:18:19.948Z"
      },
      {
        "duration": 3,
        "start_time": "2023-06-17T16:18:30.168Z"
      },
      {
        "duration": 968,
        "start_time": "2023-06-17T16:18:30.173Z"
      },
      {
        "duration": 11,
        "start_time": "2023-06-17T16:18:31.147Z"
      },
      {
        "duration": 115,
        "start_time": "2023-06-17T16:18:31.160Z"
      },
      {
        "duration": 185,
        "start_time": "2023-06-17T16:18:31.276Z"
      },
      {
        "duration": 29,
        "start_time": "2023-06-17T16:18:31.463Z"
      },
      {
        "duration": 100,
        "start_time": "2023-06-17T16:18:31.494Z"
      },
      {
        "duration": 66,
        "start_time": "2023-06-17T16:18:31.596Z"
      },
      {
        "duration": 92,
        "start_time": "2023-06-17T16:18:31.664Z"
      },
      {
        "duration": 0,
        "start_time": "2023-06-17T16:18:31.758Z"
      },
      {
        "duration": 0,
        "start_time": "2023-06-17T16:18:31.759Z"
      },
      {
        "duration": 0,
        "start_time": "2023-06-17T16:18:31.760Z"
      },
      {
        "duration": 5,
        "start_time": "2023-06-17T16:18:53.067Z"
      },
      {
        "duration": 2,
        "start_time": "2023-06-17T16:20:27.875Z"
      },
      {
        "duration": 953,
        "start_time": "2023-06-17T16:20:27.880Z"
      },
      {
        "duration": 9,
        "start_time": "2023-06-17T16:20:28.834Z"
      },
      {
        "duration": 23,
        "start_time": "2023-06-17T16:20:28.844Z"
      },
      {
        "duration": 172,
        "start_time": "2023-06-17T16:20:28.869Z"
      },
      {
        "duration": 29,
        "start_time": "2023-06-17T16:20:29.042Z"
      },
      {
        "duration": 69,
        "start_time": "2023-06-17T16:20:29.072Z"
      },
      {
        "duration": 26,
        "start_time": "2023-06-17T16:20:29.143Z"
      },
      {
        "duration": 0,
        "start_time": "2023-06-17T16:20:29.171Z"
      },
      {
        "duration": 0,
        "start_time": "2023-06-17T16:20:29.172Z"
      },
      {
        "duration": 0,
        "start_time": "2023-06-17T16:20:29.173Z"
      },
      {
        "duration": 0,
        "start_time": "2023-06-17T16:20:29.174Z"
      },
      {
        "duration": 0,
        "start_time": "2023-06-17T16:20:29.175Z"
      },
      {
        "duration": 1839,
        "start_time": "2023-06-18T07:50:02.246Z"
      },
      {
        "duration": 3375,
        "start_time": "2023-06-18T07:50:04.087Z"
      },
      {
        "duration": 15,
        "start_time": "2023-06-18T07:50:07.464Z"
      },
      {
        "duration": 34,
        "start_time": "2023-06-18T07:50:07.480Z"
      },
      {
        "duration": 217,
        "start_time": "2023-06-18T07:50:07.517Z"
      },
      {
        "duration": 35,
        "start_time": "2023-06-18T07:50:07.736Z"
      },
      {
        "duration": 146,
        "start_time": "2023-06-18T07:50:07.774Z"
      },
      {
        "duration": 80,
        "start_time": "2023-06-18T07:50:07.922Z"
      },
      {
        "duration": 1,
        "start_time": "2023-06-18T07:50:08.003Z"
      },
      {
        "duration": 0,
        "start_time": "2023-06-18T07:50:08.005Z"
      },
      {
        "duration": 0,
        "start_time": "2023-06-18T07:50:08.006Z"
      },
      {
        "duration": 0,
        "start_time": "2023-06-18T07:50:08.007Z"
      },
      {
        "duration": 0,
        "start_time": "2023-06-18T07:50:08.017Z"
      },
      {
        "duration": 0,
        "start_time": "2023-06-18T07:50:08.018Z"
      },
      {
        "duration": 0,
        "start_time": "2023-06-18T07:50:08.020Z"
      },
      {
        "duration": 0,
        "start_time": "2023-06-18T07:50:08.022Z"
      },
      {
        "duration": 128,
        "start_time": "2023-06-18T07:51:38.661Z"
      },
      {
        "duration": 14,
        "start_time": "2023-06-18T07:51:50.390Z"
      },
      {
        "duration": 13,
        "start_time": "2023-06-18T07:51:52.171Z"
      },
      {
        "duration": 4,
        "start_time": "2023-06-18T07:52:26.604Z"
      },
      {
        "duration": 4,
        "start_time": "2023-06-18T07:54:18.175Z"
      },
      {
        "duration": 750,
        "start_time": "2023-06-18T07:54:18.180Z"
      },
      {
        "duration": 11,
        "start_time": "2023-06-18T07:54:18.932Z"
      },
      {
        "duration": 28,
        "start_time": "2023-06-18T07:54:18.946Z"
      },
      {
        "duration": 128,
        "start_time": "2023-06-18T07:54:18.975Z"
      },
      {
        "duration": 32,
        "start_time": "2023-06-18T07:54:19.105Z"
      },
      {
        "duration": 26,
        "start_time": "2023-06-18T07:54:19.139Z"
      },
      {
        "duration": 4,
        "start_time": "2023-06-18T07:54:19.167Z"
      },
      {
        "duration": 7,
        "start_time": "2023-06-18T07:54:19.173Z"
      },
      {
        "duration": 34,
        "start_time": "2023-06-18T07:54:19.182Z"
      },
      {
        "duration": 17,
        "start_time": "2023-06-18T07:54:19.218Z"
      },
      {
        "duration": 0,
        "start_time": "2023-06-18T07:54:19.237Z"
      },
      {
        "duration": 0,
        "start_time": "2023-06-18T07:54:19.239Z"
      },
      {
        "duration": 0,
        "start_time": "2023-06-18T07:54:19.241Z"
      },
      {
        "duration": 0,
        "start_time": "2023-06-18T07:54:19.242Z"
      },
      {
        "duration": 0,
        "start_time": "2023-06-18T07:54:19.244Z"
      },
      {
        "duration": 0,
        "start_time": "2023-06-18T07:54:19.245Z"
      },
      {
        "duration": 30,
        "start_time": "2023-06-18T07:54:54.578Z"
      },
      {
        "duration": 5,
        "start_time": "2023-06-18T07:54:57.250Z"
      },
      {
        "duration": 4,
        "start_time": "2023-06-18T07:55:18.585Z"
      },
      {
        "duration": 791,
        "start_time": "2023-06-18T07:55:18.591Z"
      },
      {
        "duration": 11,
        "start_time": "2023-06-18T07:55:19.384Z"
      },
      {
        "duration": 54,
        "start_time": "2023-06-18T07:55:19.397Z"
      },
      {
        "duration": 130,
        "start_time": "2023-06-18T07:55:19.453Z"
      },
      {
        "duration": 44,
        "start_time": "2023-06-18T07:55:19.585Z"
      },
      {
        "duration": 64,
        "start_time": "2023-06-18T07:55:19.631Z"
      },
      {
        "duration": 5,
        "start_time": "2023-06-18T07:55:19.698Z"
      },
      {
        "duration": 5,
        "start_time": "2023-06-18T07:55:19.706Z"
      },
      {
        "duration": 7,
        "start_time": "2023-06-18T07:55:19.714Z"
      },
      {
        "duration": 17,
        "start_time": "2023-06-18T07:55:19.723Z"
      },
      {
        "duration": 0,
        "start_time": "2023-06-18T07:55:19.742Z"
      },
      {
        "duration": 0,
        "start_time": "2023-06-18T07:55:19.743Z"
      },
      {
        "duration": 0,
        "start_time": "2023-06-18T07:55:19.745Z"
      },
      {
        "duration": 0,
        "start_time": "2023-06-18T07:55:19.746Z"
      },
      {
        "duration": 0,
        "start_time": "2023-06-18T07:55:19.748Z"
      },
      {
        "duration": 0,
        "start_time": "2023-06-18T07:55:19.749Z"
      },
      {
        "duration": 4,
        "start_time": "2023-06-18T07:55:48.287Z"
      },
      {
        "duration": 775,
        "start_time": "2023-06-18T07:55:48.293Z"
      },
      {
        "duration": 11,
        "start_time": "2023-06-18T07:55:49.070Z"
      },
      {
        "duration": 45,
        "start_time": "2023-06-18T07:55:49.083Z"
      },
      {
        "duration": 271,
        "start_time": "2023-06-18T07:55:49.131Z"
      },
      {
        "duration": 38,
        "start_time": "2023-06-18T07:55:49.404Z"
      },
      {
        "duration": 120,
        "start_time": "2023-06-18T07:55:49.444Z"
      },
      {
        "duration": 163,
        "start_time": "2023-06-18T07:55:49.566Z"
      },
      {
        "duration": 57,
        "start_time": "2023-06-18T07:55:49.732Z"
      },
      {
        "duration": 17,
        "start_time": "2023-06-18T07:55:49.792Z"
      },
      {
        "duration": 23,
        "start_time": "2023-06-18T07:55:49.811Z"
      },
      {
        "duration": 0,
        "start_time": "2023-06-18T07:55:49.837Z"
      },
      {
        "duration": 0,
        "start_time": "2023-06-18T07:55:49.838Z"
      },
      {
        "duration": 0,
        "start_time": "2023-06-18T07:55:49.839Z"
      },
      {
        "duration": 0,
        "start_time": "2023-06-18T07:55:49.841Z"
      },
      {
        "duration": 0,
        "start_time": "2023-06-18T07:55:49.842Z"
      },
      {
        "duration": 0,
        "start_time": "2023-06-18T07:55:49.844Z"
      },
      {
        "duration": 14,
        "start_time": "2023-06-18T07:57:16.812Z"
      },
      {
        "duration": 18,
        "start_time": "2023-06-18T08:07:44.539Z"
      },
      {
        "duration": 1555,
        "start_time": "2023-06-18T08:10:32.760Z"
      },
      {
        "duration": 794,
        "start_time": "2023-06-18T08:10:34.317Z"
      },
      {
        "duration": 15,
        "start_time": "2023-06-18T08:10:35.113Z"
      },
      {
        "duration": 151,
        "start_time": "2023-06-18T08:10:35.129Z"
      },
      {
        "duration": 134,
        "start_time": "2023-06-18T08:10:35.282Z"
      },
      {
        "duration": 31,
        "start_time": "2023-06-18T08:10:35.418Z"
      },
      {
        "duration": 136,
        "start_time": "2023-06-18T08:10:35.451Z"
      },
      {
        "duration": 113,
        "start_time": "2023-06-18T08:10:35.590Z"
      },
      {
        "duration": 47,
        "start_time": "2023-06-18T08:10:35.704Z"
      },
      {
        "duration": 17,
        "start_time": "2023-06-18T08:10:35.753Z"
      },
      {
        "duration": 221,
        "start_time": "2023-06-18T08:10:35.772Z"
      },
      {
        "duration": 0,
        "start_time": "2023-06-18T08:10:35.996Z"
      },
      {
        "duration": 0,
        "start_time": "2023-06-18T08:10:35.997Z"
      },
      {
        "duration": 0,
        "start_time": "2023-06-18T08:10:35.998Z"
      },
      {
        "duration": 0,
        "start_time": "2023-06-18T08:10:36.000Z"
      },
      {
        "duration": 0,
        "start_time": "2023-06-18T08:10:36.001Z"
      },
      {
        "duration": 0,
        "start_time": "2023-06-18T08:10:36.013Z"
      },
      {
        "duration": 540,
        "start_time": "2023-06-18T08:12:24.746Z"
      },
      {
        "duration": 155,
        "start_time": "2023-06-18T08:12:44.122Z"
      },
      {
        "duration": 5,
        "start_time": "2023-06-18T08:13:01.512Z"
      },
      {
        "duration": 21,
        "start_time": "2023-06-18T08:13:26.646Z"
      },
      {
        "duration": 4,
        "start_time": "2023-06-18T08:14:09.959Z"
      },
      {
        "duration": 14,
        "start_time": "2023-06-18T08:14:21.452Z"
      },
      {
        "duration": 3,
        "start_time": "2023-06-18T08:14:45.382Z"
      },
      {
        "duration": 1215,
        "start_time": "2023-06-18T08:14:47.966Z"
      },
      {
        "duration": 9,
        "start_time": "2023-06-18T08:16:31.355Z"
      },
      {
        "duration": 769,
        "start_time": "2023-06-18T08:16:31.366Z"
      },
      {
        "duration": 11,
        "start_time": "2023-06-18T08:16:32.137Z"
      },
      {
        "duration": 55,
        "start_time": "2023-06-18T08:16:32.150Z"
      },
      {
        "duration": 150,
        "start_time": "2023-06-18T08:16:32.207Z"
      },
      {
        "duration": 1841,
        "start_time": "2023-06-18T08:16:32.359Z"
      },
      {
        "duration": 22,
        "start_time": "2023-06-18T08:16:34.202Z"
      },
      {
        "duration": 17,
        "start_time": "2023-06-18T08:16:34.225Z"
      },
      {
        "duration": 7,
        "start_time": "2023-06-18T08:16:34.244Z"
      },
      {
        "duration": 4,
        "start_time": "2023-06-18T08:16:34.253Z"
      },
      {
        "duration": 10,
        "start_time": "2023-06-18T08:16:34.259Z"
      },
      {
        "duration": 9,
        "start_time": "2023-06-18T08:16:34.271Z"
      },
      {
        "duration": 9,
        "start_time": "2023-06-18T08:16:34.282Z"
      },
      {
        "duration": 7,
        "start_time": "2023-06-18T08:16:34.293Z"
      },
      {
        "duration": 14,
        "start_time": "2023-06-18T08:16:34.302Z"
      },
      {
        "duration": 26,
        "start_time": "2023-06-18T08:16:34.318Z"
      },
      {
        "duration": 0,
        "start_time": "2023-06-18T08:16:34.346Z"
      },
      {
        "duration": 0,
        "start_time": "2023-06-18T08:16:34.347Z"
      },
      {
        "duration": 0,
        "start_time": "2023-06-18T08:16:34.349Z"
      },
      {
        "duration": 4,
        "start_time": "2023-06-18T08:44:41.548Z"
      },
      {
        "duration": 91,
        "start_time": "2023-06-18T08:44:57.122Z"
      },
      {
        "duration": 112,
        "start_time": "2023-06-18T08:45:09.117Z"
      },
      {
        "duration": 4,
        "start_time": "2023-06-18T08:45:34.216Z"
      },
      {
        "duration": 15,
        "start_time": "2023-06-18T08:45:41.452Z"
      },
      {
        "duration": 12,
        "start_time": "2023-06-18T08:45:54.303Z"
      },
      {
        "duration": 5,
        "start_time": "2023-06-18T08:46:46.087Z"
      },
      {
        "duration": 854,
        "start_time": "2023-06-18T08:46:46.094Z"
      },
      {
        "duration": 10,
        "start_time": "2023-06-18T08:46:46.950Z"
      },
      {
        "duration": 35,
        "start_time": "2023-06-18T08:46:46.961Z"
      },
      {
        "duration": 125,
        "start_time": "2023-06-18T08:46:47.012Z"
      },
      {
        "duration": 1979,
        "start_time": "2023-06-18T08:47:23.407Z"
      },
      {
        "duration": 3960,
        "start_time": "2023-06-18T08:47:25.388Z"
      },
      {
        "duration": 14,
        "start_time": "2023-06-18T08:47:29.350Z"
      },
      {
        "duration": 35,
        "start_time": "2023-06-18T08:47:29.365Z"
      },
      {
        "duration": 132,
        "start_time": "2023-06-18T08:47:29.403Z"
      },
      {
        "duration": 2004,
        "start_time": "2023-06-18T08:47:29.537Z"
      },
      {
        "duration": 22,
        "start_time": "2023-06-18T08:47:31.543Z"
      },
      {
        "duration": 28,
        "start_time": "2023-06-18T08:47:31.567Z"
      },
      {
        "duration": 1658,
        "start_time": "2023-06-18T08:47:31.597Z"
      },
      {
        "duration": 9,
        "start_time": "2023-06-18T08:47:33.257Z"
      },
      {
        "duration": 4,
        "start_time": "2023-06-18T08:47:33.268Z"
      },
      {
        "duration": 10,
        "start_time": "2023-06-18T08:47:33.275Z"
      },
      {
        "duration": 128,
        "start_time": "2023-06-18T08:47:33.287Z"
      },
      {
        "duration": 5,
        "start_time": "2023-06-18T08:47:33.418Z"
      },
      {
        "duration": 25,
        "start_time": "2023-06-18T08:47:33.426Z"
      },
      {
        "duration": 28,
        "start_time": "2023-06-18T08:47:33.452Z"
      },
      {
        "duration": 88,
        "start_time": "2023-06-18T08:47:33.481Z"
      },
      {
        "duration": 0,
        "start_time": "2023-06-18T08:47:33.571Z"
      },
      {
        "duration": 0,
        "start_time": "2023-06-18T08:47:33.573Z"
      },
      {
        "duration": 0,
        "start_time": "2023-06-18T08:47:33.574Z"
      },
      {
        "duration": 4,
        "start_time": "2023-06-18T08:52:35.093Z"
      },
      {
        "duration": 849,
        "start_time": "2023-06-18T08:52:35.099Z"
      },
      {
        "duration": 14,
        "start_time": "2023-06-18T08:52:35.951Z"
      },
      {
        "duration": 47,
        "start_time": "2023-06-18T08:52:35.967Z"
      },
      {
        "duration": 124,
        "start_time": "2023-06-18T08:52:36.016Z"
      },
      {
        "duration": 50,
        "start_time": "2023-06-18T08:53:18.363Z"
      },
      {
        "duration": 1983,
        "start_time": "2023-06-18T08:53:26.493Z"
      },
      {
        "duration": 3614,
        "start_time": "2023-06-18T08:53:28.478Z"
      },
      {
        "duration": 24,
        "start_time": "2023-06-18T08:53:32.094Z"
      },
      {
        "duration": 147,
        "start_time": "2023-06-18T08:53:32.122Z"
      },
      {
        "duration": 166,
        "start_time": "2023-06-18T08:53:32.271Z"
      },
      {
        "duration": 2175,
        "start_time": "2023-06-18T08:53:32.440Z"
      },
      {
        "duration": 4,
        "start_time": "2023-06-18T08:53:34.617Z"
      },
      {
        "duration": 131,
        "start_time": "2023-06-18T08:53:34.624Z"
      },
      {
        "duration": 41,
        "start_time": "2023-06-18T08:53:34.758Z"
      },
      {
        "duration": 1612,
        "start_time": "2023-06-18T08:53:34.803Z"
      },
      {
        "duration": 5,
        "start_time": "2023-06-18T08:53:36.417Z"
      },
      {
        "duration": 15,
        "start_time": "2023-06-18T08:53:36.424Z"
      },
      {
        "duration": 16,
        "start_time": "2023-06-18T08:53:36.441Z"
      },
      {
        "duration": 173,
        "start_time": "2023-06-18T08:53:36.459Z"
      },
      {
        "duration": 6,
        "start_time": "2023-06-18T08:53:36.634Z"
      },
      {
        "duration": 29,
        "start_time": "2023-06-18T08:53:36.643Z"
      },
      {
        "duration": 8,
        "start_time": "2023-06-18T08:53:36.675Z"
      },
      {
        "duration": 83,
        "start_time": "2023-06-18T08:53:36.685Z"
      },
      {
        "duration": 0,
        "start_time": "2023-06-18T08:53:36.776Z"
      },
      {
        "duration": 0,
        "start_time": "2023-06-18T08:53:36.777Z"
      },
      {
        "duration": 0,
        "start_time": "2023-06-18T08:53:36.779Z"
      },
      {
        "duration": 89,
        "start_time": "2023-06-18T09:12:08.528Z"
      },
      {
        "duration": 4,
        "start_time": "2023-06-18T09:12:13.630Z"
      },
      {
        "duration": 6,
        "start_time": "2023-06-18T09:12:14.430Z"
      },
      {
        "duration": 3,
        "start_time": "2023-06-18T09:16:00.912Z"
      },
      {
        "duration": 844,
        "start_time": "2023-06-18T09:16:07.876Z"
      },
      {
        "duration": 12,
        "start_time": "2023-06-18T09:16:08.727Z"
      },
      {
        "duration": 44,
        "start_time": "2023-06-18T09:16:09.612Z"
      },
      {
        "duration": 144,
        "start_time": "2023-06-18T09:16:10.508Z"
      },
      {
        "duration": 1726,
        "start_time": "2023-06-18T09:16:48.112Z"
      },
      {
        "duration": 3740,
        "start_time": "2023-06-18T09:16:49.841Z"
      },
      {
        "duration": 16,
        "start_time": "2023-06-18T09:16:53.582Z"
      },
      {
        "duration": 39,
        "start_time": "2023-06-18T09:16:53.600Z"
      },
      {
        "duration": 147,
        "start_time": "2023-06-18T09:16:53.641Z"
      },
      {
        "duration": 2065,
        "start_time": "2023-06-18T09:16:53.790Z"
      },
      {
        "duration": 3,
        "start_time": "2023-06-18T09:16:55.857Z"
      },
      {
        "duration": 10,
        "start_time": "2023-06-18T09:16:55.862Z"
      },
      {
        "duration": 1787,
        "start_time": "2023-06-18T09:17:18.605Z"
      },
      {
        "duration": 3760,
        "start_time": "2023-06-18T09:17:20.394Z"
      },
      {
        "duration": 14,
        "start_time": "2023-06-18T09:17:24.156Z"
      },
      {
        "duration": 68,
        "start_time": "2023-06-18T09:17:24.172Z"
      },
      {
        "duration": 168,
        "start_time": "2023-06-18T09:17:24.244Z"
      },
      {
        "duration": 2060,
        "start_time": "2023-06-18T09:17:24.415Z"
      },
      {
        "duration": 14,
        "start_time": "2023-06-18T09:17:26.477Z"
      },
      {
        "duration": 22,
        "start_time": "2023-06-18T09:17:26.493Z"
      },
      {
        "duration": 37,
        "start_time": "2023-06-18T09:17:26.517Z"
      },
      {
        "duration": 141,
        "start_time": "2023-06-18T09:17:26.556Z"
      },
      {
        "duration": 0,
        "start_time": "2023-06-18T09:17:26.699Z"
      },
      {
        "duration": 0,
        "start_time": "2023-06-18T09:17:26.788Z"
      },
      {
        "duration": 0,
        "start_time": "2023-06-18T09:17:26.789Z"
      },
      {
        "duration": 0,
        "start_time": "2023-06-18T09:17:26.792Z"
      },
      {
        "duration": 0,
        "start_time": "2023-06-18T09:17:26.793Z"
      },
      {
        "duration": 0,
        "start_time": "2023-06-18T09:17:26.795Z"
      },
      {
        "duration": 0,
        "start_time": "2023-06-18T09:17:26.796Z"
      },
      {
        "duration": 0,
        "start_time": "2023-06-18T09:17:26.798Z"
      },
      {
        "duration": 0,
        "start_time": "2023-06-18T09:17:26.799Z"
      },
      {
        "duration": 0,
        "start_time": "2023-06-18T09:17:26.801Z"
      },
      {
        "duration": 1,
        "start_time": "2023-06-18T09:17:26.813Z"
      },
      {
        "duration": 0,
        "start_time": "2023-06-18T09:17:26.815Z"
      },
      {
        "duration": 1406,
        "start_time": "2023-06-18T09:17:43.270Z"
      },
      {
        "duration": 4,
        "start_time": "2023-06-18T09:21:31.723Z"
      },
      {
        "duration": 885,
        "start_time": "2023-06-18T09:21:31.729Z"
      },
      {
        "duration": 13,
        "start_time": "2023-06-18T09:21:32.616Z"
      },
      {
        "duration": 55,
        "start_time": "2023-06-18T09:21:32.631Z"
      },
      {
        "duration": 129,
        "start_time": "2023-06-18T09:21:32.688Z"
      },
      {
        "duration": 1721,
        "start_time": "2023-06-18T09:21:55.727Z"
      },
      {
        "duration": 3469,
        "start_time": "2023-06-18T09:21:57.450Z"
      },
      {
        "duration": 15,
        "start_time": "2023-06-18T09:22:00.921Z"
      },
      {
        "duration": 45,
        "start_time": "2023-06-18T09:22:00.938Z"
      },
      {
        "duration": 152,
        "start_time": "2023-06-18T09:22:00.986Z"
      },
      {
        "duration": 2022,
        "start_time": "2023-06-18T09:22:01.139Z"
      },
      {
        "duration": 96,
        "start_time": "2023-06-18T09:22:03.163Z"
      },
      {
        "duration": 29,
        "start_time": "2023-06-18T09:22:03.262Z"
      },
      {
        "duration": 1463,
        "start_time": "2023-06-18T09:22:03.293Z"
      },
      {
        "duration": 133,
        "start_time": "2023-06-18T09:22:04.758Z"
      },
      {
        "duration": 0,
        "start_time": "2023-06-18T09:22:04.893Z"
      },
      {
        "duration": 0,
        "start_time": "2023-06-18T09:22:04.895Z"
      },
      {
        "duration": 0,
        "start_time": "2023-06-18T09:22:04.896Z"
      },
      {
        "duration": 0,
        "start_time": "2023-06-18T09:22:04.897Z"
      },
      {
        "duration": 0,
        "start_time": "2023-06-18T09:22:04.898Z"
      },
      {
        "duration": 0,
        "start_time": "2023-06-18T09:22:04.914Z"
      },
      {
        "duration": 0,
        "start_time": "2023-06-18T09:22:04.915Z"
      },
      {
        "duration": 0,
        "start_time": "2023-06-18T09:22:04.916Z"
      },
      {
        "duration": 0,
        "start_time": "2023-06-18T09:22:04.917Z"
      },
      {
        "duration": 0,
        "start_time": "2023-06-18T09:22:04.918Z"
      },
      {
        "duration": 0,
        "start_time": "2023-06-18T09:22:04.920Z"
      },
      {
        "duration": 4,
        "start_time": "2023-06-18T09:26:15.317Z"
      },
      {
        "duration": 778,
        "start_time": "2023-06-18T09:26:15.323Z"
      },
      {
        "duration": 16,
        "start_time": "2023-06-18T09:26:16.103Z"
      },
      {
        "duration": 59,
        "start_time": "2023-06-18T09:26:16.121Z"
      },
      {
        "duration": 111,
        "start_time": "2023-06-18T09:26:16.183Z"
      },
      {
        "duration": 1628,
        "start_time": "2023-06-18T09:26:25.416Z"
      },
      {
        "duration": 3417,
        "start_time": "2023-06-18T09:26:27.046Z"
      },
      {
        "duration": 15,
        "start_time": "2023-06-18T09:26:30.465Z"
      },
      {
        "duration": 70,
        "start_time": "2023-06-18T09:26:30.482Z"
      },
      {
        "duration": 212,
        "start_time": "2023-06-18T09:26:30.556Z"
      },
      {
        "duration": 2029,
        "start_time": "2023-06-18T09:26:30.769Z"
      },
      {
        "duration": 22,
        "start_time": "2023-06-18T09:26:32.800Z"
      },
      {
        "duration": 15,
        "start_time": "2023-06-18T09:26:32.824Z"
      },
      {
        "duration": 1553,
        "start_time": "2023-06-18T09:28:23.211Z"
      },
      {
        "duration": 3339,
        "start_time": "2023-06-18T09:28:24.986Z"
      },
      {
        "duration": 19,
        "start_time": "2023-06-18T09:28:29.594Z"
      },
      {
        "duration": 33,
        "start_time": "2023-06-18T09:28:35.973Z"
      },
      {
        "duration": 126,
        "start_time": "2023-06-18T09:28:37.063Z"
      },
      {
        "duration": 1975,
        "start_time": "2023-06-18T09:28:43.664Z"
      },
      {
        "duration": 5,
        "start_time": "2023-06-18T09:28:48.647Z"
      },
      {
        "duration": 51,
        "start_time": "2023-06-18T09:42:36.232Z"
      },
      {
        "duration": 1738,
        "start_time": "2023-06-18T09:43:08.950Z"
      },
      {
        "duration": 3433,
        "start_time": "2023-06-18T09:43:13.105Z"
      },
      {
        "duration": 14,
        "start_time": "2023-06-18T09:43:21.795Z"
      },
      {
        "duration": 36,
        "start_time": "2023-06-18T09:43:27.811Z"
      },
      {
        "duration": 123,
        "start_time": "2023-06-18T09:43:28.892Z"
      },
      {
        "duration": 1940,
        "start_time": "2023-06-18T09:43:35.019Z"
      },
      {
        "duration": 4,
        "start_time": "2023-06-18T09:43:40.478Z"
      },
      {
        "duration": 56,
        "start_time": "2023-06-19T08:05:02.349Z"
      },
      {
        "duration": 1973,
        "start_time": "2023-06-19T08:26:00.842Z"
      },
      {
        "duration": 89,
        "start_time": "2023-06-19T08:30:41.883Z"
      },
      {
        "duration": 3673,
        "start_time": "2023-06-19T08:30:51.004Z"
      },
      {
        "duration": 15,
        "start_time": "2023-06-19T08:30:54.679Z"
      },
      {
        "duration": 31,
        "start_time": "2023-06-19T08:30:54.696Z"
      },
      {
        "duration": 198,
        "start_time": "2023-06-19T08:30:55.764Z"
      },
      {
        "duration": 4,
        "start_time": "2023-06-19T08:30:57.465Z"
      },
      {
        "duration": 35,
        "start_time": "2023-06-19T08:33:10.711Z"
      },
      {
        "duration": 5,
        "start_time": "2023-06-19T08:33:39.944Z"
      },
      {
        "duration": 76,
        "start_time": "2023-06-19T08:34:33.456Z"
      },
      {
        "duration": 6,
        "start_time": "2023-06-19T08:34:50.332Z"
      },
      {
        "duration": 8,
        "start_time": "2023-06-19T08:35:13.860Z"
      },
      {
        "duration": 5,
        "start_time": "2023-06-19T08:38:00.334Z"
      },
      {
        "duration": 4,
        "start_time": "2023-06-19T08:38:37.773Z"
      },
      {
        "duration": 69988,
        "start_time": "2023-06-19T08:39:04.202Z"
      },
      {
        "duration": 623,
        "start_time": "2023-06-19T08:40:27.500Z"
      },
      {
        "duration": 7,
        "start_time": "2023-06-19T08:41:40.253Z"
      },
      {
        "duration": 805,
        "start_time": "2023-06-19T08:41:40.265Z"
      },
      {
        "duration": 31,
        "start_time": "2023-06-19T08:41:41.073Z"
      },
      {
        "duration": 58,
        "start_time": "2023-06-19T08:41:41.106Z"
      },
      {
        "duration": 111,
        "start_time": "2023-06-19T08:41:41.172Z"
      },
      {
        "duration": 2,
        "start_time": "2023-06-19T08:41:41.285Z"
      },
      {
        "duration": 64,
        "start_time": "2023-06-19T08:41:41.289Z"
      },
      {
        "duration": 7,
        "start_time": "2023-06-19T08:41:41.355Z"
      },
      {
        "duration": 19,
        "start_time": "2023-06-19T08:41:41.363Z"
      },
      {
        "duration": 9,
        "start_time": "2023-06-19T08:41:41.384Z"
      },
      {
        "duration": 10,
        "start_time": "2023-06-19T08:41:41.395Z"
      },
      {
        "duration": 15,
        "start_time": "2023-06-19T08:41:41.407Z"
      },
      {
        "duration": 72373,
        "start_time": "2023-06-19T08:41:41.423Z"
      },
      {
        "duration": 805,
        "start_time": "2023-06-19T08:42:53.798Z"
      },
      {
        "duration": 1680,
        "start_time": "2023-06-19T09:32:52.600Z"
      },
      {
        "duration": 3681,
        "start_time": "2023-06-19T09:32:59.938Z"
      },
      {
        "duration": 143,
        "start_time": "2023-06-19T09:33:30.443Z"
      },
      {
        "duration": 37,
        "start_time": "2023-06-19T09:33:55.928Z"
      },
      {
        "duration": 84,
        "start_time": "2023-06-19T09:34:04.628Z"
      },
      {
        "duration": 13,
        "start_time": "2023-06-19T09:34:08.989Z"
      },
      {
        "duration": 3,
        "start_time": "2023-06-19T09:35:58.085Z"
      },
      {
        "duration": 30,
        "start_time": "2023-06-19T09:36:09.101Z"
      },
      {
        "duration": 462,
        "start_time": "2023-06-19T09:36:36.942Z"
      },
      {
        "duration": 18,
        "start_time": "2023-06-19T09:37:17.027Z"
      },
      {
        "duration": 6,
        "start_time": "2023-06-19T09:39:39.558Z"
      },
      {
        "duration": 779,
        "start_time": "2023-06-19T09:39:41.164Z"
      },
      {
        "duration": 14,
        "start_time": "2023-06-19T09:39:47.217Z"
      },
      {
        "duration": 1926,
        "start_time": "2023-06-19T09:40:26.964Z"
      },
      {
        "duration": 27,
        "start_time": "2023-06-19T09:40:28.893Z"
      },
      {
        "duration": 1509,
        "start_time": "2023-06-19T09:40:35.499Z"
      },
      {
        "duration": 5,
        "start_time": "2023-06-19T09:43:10.213Z"
      },
      {
        "duration": 12,
        "start_time": "2023-06-19T09:43:50.406Z"
      },
      {
        "duration": 4,
        "start_time": "2023-06-19T09:44:01.496Z"
      },
      {
        "duration": 864,
        "start_time": "2023-06-19T09:44:02.188Z"
      },
      {
        "duration": 79,
        "start_time": "2023-06-19T09:44:16.509Z"
      },
      {
        "duration": 1639,
        "start_time": "2023-06-19T09:44:48.403Z"
      },
      {
        "duration": 3733,
        "start_time": "2023-06-19T09:44:50.044Z"
      },
      {
        "duration": 1997,
        "start_time": "2023-06-19T09:45:01.419Z"
      },
      {
        "duration": 7,
        "start_time": "2023-06-19T09:45:09.022Z"
      },
      {
        "duration": 2087,
        "start_time": "2023-06-19T09:45:13.124Z"
      },
      {
        "duration": 4,
        "start_time": "2023-06-19T09:46:11.728Z"
      },
      {
        "duration": 7,
        "start_time": "2023-06-19T09:46:47.262Z"
      },
      {
        "duration": 15,
        "start_time": "2023-06-19T09:48:14.202Z"
      },
      {
        "duration": 4,
        "start_time": "2023-06-19T09:48:22.595Z"
      },
      {
        "duration": 846,
        "start_time": "2023-06-19T09:48:23.249Z"
      },
      {
        "duration": 1699,
        "start_time": "2023-06-19T09:49:01.819Z"
      },
      {
        "duration": 138,
        "start_time": "2023-06-19T09:49:13.776Z"
      },
      {
        "duration": 3826,
        "start_time": "2023-06-19T09:49:29.511Z"
      },
      {
        "duration": 2016,
        "start_time": "2023-06-19T09:49:46.610Z"
      },
      {
        "duration": 6,
        "start_time": "2023-06-19T09:49:51.916Z"
      },
      {
        "duration": 280,
        "start_time": "2023-06-19T09:49:59.907Z"
      },
      {
        "duration": 141,
        "start_time": "2023-06-19T09:50:39.850Z"
      },
      {
        "duration": 28,
        "start_time": "2023-06-19T09:58:42.634Z"
      },
      {
        "duration": 1493,
        "start_time": "2023-06-19T09:59:02.928Z"
      },
      {
        "duration": 23,
        "start_time": "2023-06-19T10:43:42.149Z"
      },
      {
        "duration": 8,
        "start_time": "2023-06-19T11:03:52.226Z"
      },
      {
        "duration": 4,
        "start_time": "2023-06-19T11:12:43.491Z"
      },
      {
        "duration": 1004,
        "start_time": "2023-06-19T11:12:43.498Z"
      },
      {
        "duration": 20,
        "start_time": "2023-06-19T11:12:44.506Z"
      },
      {
        "duration": 50,
        "start_time": "2023-06-19T11:12:44.528Z"
      },
      {
        "duration": 170,
        "start_time": "2023-06-19T11:12:44.583Z"
      },
      {
        "duration": 3,
        "start_time": "2023-06-19T11:12:44.758Z"
      },
      {
        "duration": 60,
        "start_time": "2023-06-19T11:12:44.764Z"
      },
      {
        "duration": 6,
        "start_time": "2023-06-19T11:12:44.828Z"
      },
      {
        "duration": 7,
        "start_time": "2023-06-19T11:12:44.836Z"
      },
      {
        "duration": 14,
        "start_time": "2023-06-19T11:12:44.845Z"
      },
      {
        "duration": 19,
        "start_time": "2023-06-19T11:12:44.861Z"
      },
      {
        "duration": 6,
        "start_time": "2023-06-19T11:12:44.882Z"
      },
      {
        "duration": 249,
        "start_time": "2023-06-19T11:12:44.891Z"
      },
      {
        "duration": 9,
        "start_time": "2023-06-19T11:12:45.144Z"
      },
      {
        "duration": 12,
        "start_time": "2023-06-19T11:12:45.154Z"
      },
      {
        "duration": 0,
        "start_time": "2023-06-19T11:12:45.168Z"
      },
      {
        "duration": 0,
        "start_time": "2023-06-19T11:12:45.169Z"
      },
      {
        "duration": 0,
        "start_time": "2023-06-19T11:12:45.171Z"
      },
      {
        "duration": 0,
        "start_time": "2023-06-19T11:12:45.173Z"
      },
      {
        "duration": 0,
        "start_time": "2023-06-19T11:12:45.174Z"
      },
      {
        "duration": 0,
        "start_time": "2023-06-19T11:12:45.175Z"
      },
      {
        "duration": 0,
        "start_time": "2023-06-19T11:12:45.177Z"
      },
      {
        "duration": 0,
        "start_time": "2023-06-19T11:12:45.178Z"
      },
      {
        "duration": 0,
        "start_time": "2023-06-19T11:12:45.180Z"
      },
      {
        "duration": 0,
        "start_time": "2023-06-19T11:12:45.181Z"
      },
      {
        "duration": 0,
        "start_time": "2023-06-19T11:12:45.182Z"
      },
      {
        "duration": 0,
        "start_time": "2023-06-19T11:12:45.184Z"
      },
      {
        "duration": 0,
        "start_time": "2023-06-19T11:12:45.185Z"
      },
      {
        "duration": 0,
        "start_time": "2023-06-19T11:12:45.186Z"
      },
      {
        "duration": 0,
        "start_time": "2023-06-19T11:12:45.187Z"
      },
      {
        "duration": 0,
        "start_time": "2023-06-19T11:12:45.190Z"
      },
      {
        "duration": 0,
        "start_time": "2023-06-19T11:12:45.194Z"
      },
      {
        "duration": 0,
        "start_time": "2023-06-19T11:12:45.195Z"
      },
      {
        "duration": 0,
        "start_time": "2023-06-19T11:12:45.196Z"
      },
      {
        "duration": 0,
        "start_time": "2023-06-19T11:12:45.198Z"
      },
      {
        "duration": 0,
        "start_time": "2023-06-19T11:12:45.199Z"
      },
      {
        "duration": 0,
        "start_time": "2023-06-19T11:12:45.201Z"
      },
      {
        "duration": 0,
        "start_time": "2023-06-19T11:12:45.203Z"
      },
      {
        "duration": 0,
        "start_time": "2023-06-19T11:12:45.205Z"
      },
      {
        "duration": 0,
        "start_time": "2023-06-19T11:12:45.206Z"
      },
      {
        "duration": 0,
        "start_time": "2023-06-19T11:12:45.207Z"
      },
      {
        "duration": 1621,
        "start_time": "2023-06-19T11:13:16.204Z"
      },
      {
        "duration": 3722,
        "start_time": "2023-06-19T11:13:17.827Z"
      },
      {
        "duration": 21,
        "start_time": "2023-06-19T11:13:21.555Z"
      },
      {
        "duration": 32,
        "start_time": "2023-06-19T11:13:21.578Z"
      },
      {
        "duration": 143,
        "start_time": "2023-06-19T11:13:21.613Z"
      },
      {
        "duration": 5,
        "start_time": "2023-06-19T11:13:21.764Z"
      },
      {
        "duration": 55,
        "start_time": "2023-06-19T11:13:21.770Z"
      },
      {
        "duration": 7,
        "start_time": "2023-06-19T11:13:21.827Z"
      },
      {
        "duration": 16,
        "start_time": "2023-06-19T11:13:21.852Z"
      },
      {
        "duration": 4,
        "start_time": "2023-06-19T11:13:21.870Z"
      },
      {
        "duration": 7,
        "start_time": "2023-06-19T11:13:21.876Z"
      },
      {
        "duration": 7,
        "start_time": "2023-06-19T11:13:21.885Z"
      },
      {
        "duration": 322,
        "start_time": "2023-06-19T11:13:21.894Z"
      },
      {
        "duration": 5,
        "start_time": "2023-06-19T11:13:22.219Z"
      },
      {
        "duration": 6,
        "start_time": "2023-06-19T11:13:22.226Z"
      },
      {
        "duration": 0,
        "start_time": "2023-06-19T11:13:22.233Z"
      },
      {
        "duration": 0,
        "start_time": "2023-06-19T11:13:22.234Z"
      },
      {
        "duration": 0,
        "start_time": "2023-06-19T11:13:22.236Z"
      },
      {
        "duration": 0,
        "start_time": "2023-06-19T11:13:22.237Z"
      },
      {
        "duration": 0,
        "start_time": "2023-06-19T11:13:22.238Z"
      },
      {
        "duration": 0,
        "start_time": "2023-06-19T11:13:22.239Z"
      },
      {
        "duration": 0,
        "start_time": "2023-06-19T11:13:22.240Z"
      },
      {
        "duration": 0,
        "start_time": "2023-06-19T11:13:22.250Z"
      },
      {
        "duration": 0,
        "start_time": "2023-06-19T11:13:22.250Z"
      },
      {
        "duration": 0,
        "start_time": "2023-06-19T11:13:22.251Z"
      },
      {
        "duration": 0,
        "start_time": "2023-06-19T11:13:22.252Z"
      },
      {
        "duration": 0,
        "start_time": "2023-06-19T11:13:22.253Z"
      },
      {
        "duration": 0,
        "start_time": "2023-06-19T11:13:22.253Z"
      },
      {
        "duration": 0,
        "start_time": "2023-06-19T11:13:22.254Z"
      },
      {
        "duration": 0,
        "start_time": "2023-06-19T11:13:22.264Z"
      },
      {
        "duration": 0,
        "start_time": "2023-06-19T11:13:22.265Z"
      },
      {
        "duration": 0,
        "start_time": "2023-06-19T11:13:22.266Z"
      },
      {
        "duration": 0,
        "start_time": "2023-06-19T11:13:22.266Z"
      },
      {
        "duration": 0,
        "start_time": "2023-06-19T11:13:22.267Z"
      },
      {
        "duration": 0,
        "start_time": "2023-06-19T11:13:22.268Z"
      },
      {
        "duration": 0,
        "start_time": "2023-06-19T11:13:22.271Z"
      },
      {
        "duration": 0,
        "start_time": "2023-06-19T11:13:22.272Z"
      },
      {
        "duration": 0,
        "start_time": "2023-06-19T11:13:22.273Z"
      },
      {
        "duration": 0,
        "start_time": "2023-06-19T11:13:22.274Z"
      },
      {
        "duration": 0,
        "start_time": "2023-06-19T11:13:22.275Z"
      },
      {
        "duration": 0,
        "start_time": "2023-06-19T11:13:22.276Z"
      },
      {
        "duration": 432438,
        "start_time": "2023-06-19T11:14:13.302Z"
      },
      {
        "duration": 676,
        "start_time": "2023-06-19T11:24:41.524Z"
      },
      {
        "duration": 176,
        "start_time": "2023-06-19T11:27:27.796Z"
      },
      {
        "duration": 5,
        "start_time": "2023-06-19T11:29:25.798Z"
      },
      {
        "duration": 7,
        "start_time": "2023-06-19T11:29:36.577Z"
      },
      {
        "duration": 19,
        "start_time": "2023-06-19T11:30:22.972Z"
      },
      {
        "duration": 12,
        "start_time": "2023-06-19T11:34:58.992Z"
      },
      {
        "duration": 1657,
        "start_time": "2023-06-20T06:59:49.732Z"
      },
      {
        "duration": 3575,
        "start_time": "2023-06-20T06:59:51.391Z"
      },
      {
        "duration": 18,
        "start_time": "2023-06-20T06:59:54.968Z"
      },
      {
        "duration": 37,
        "start_time": "2023-06-20T06:59:54.988Z"
      },
      {
        "duration": 221,
        "start_time": "2023-06-20T06:59:55.036Z"
      },
      {
        "duration": 3,
        "start_time": "2023-06-20T06:59:55.259Z"
      },
      {
        "duration": 76,
        "start_time": "2023-06-20T06:59:55.263Z"
      },
      {
        "duration": 7,
        "start_time": "2023-06-20T06:59:55.342Z"
      },
      {
        "duration": 24,
        "start_time": "2023-06-20T06:59:55.351Z"
      },
      {
        "duration": 5,
        "start_time": "2023-06-20T06:59:55.377Z"
      },
      {
        "duration": 9,
        "start_time": "2023-06-20T06:59:55.384Z"
      },
      {
        "duration": 15,
        "start_time": "2023-06-20T06:59:55.395Z"
      },
      {
        "duration": 667,
        "start_time": "2023-06-20T06:59:55.412Z"
      },
      {
        "duration": 6,
        "start_time": "2023-06-20T06:59:56.083Z"
      },
      {
        "duration": 27,
        "start_time": "2023-06-20T06:59:56.091Z"
      },
      {
        "duration": 348684,
        "start_time": "2023-06-20T06:59:56.120Z"
      },
      {
        "duration": 531,
        "start_time": "2023-06-20T07:05:44.805Z"
      },
      {
        "duration": 2,
        "start_time": "2023-06-20T07:05:45.337Z"
      },
      {
        "duration": 4,
        "start_time": "2023-06-20T07:05:45.341Z"
      },
      {
        "duration": 10,
        "start_time": "2023-06-20T07:05:45.346Z"
      },
      {
        "duration": 16,
        "start_time": "2023-06-20T07:05:45.358Z"
      },
      {
        "duration": 129,
        "start_time": "2023-06-20T07:05:45.376Z"
      },
      {
        "duration": 0,
        "start_time": "2023-06-20T07:05:45.507Z"
      },
      {
        "duration": 0,
        "start_time": "2023-06-20T07:05:45.508Z"
      },
      {
        "duration": 0,
        "start_time": "2023-06-20T07:05:45.509Z"
      },
      {
        "duration": 0,
        "start_time": "2023-06-20T07:05:45.510Z"
      },
      {
        "duration": 0,
        "start_time": "2023-06-20T07:05:45.511Z"
      },
      {
        "duration": 0,
        "start_time": "2023-06-20T07:05:45.512Z"
      },
      {
        "duration": 0,
        "start_time": "2023-06-20T07:05:45.513Z"
      },
      {
        "duration": 0,
        "start_time": "2023-06-20T07:05:45.513Z"
      },
      {
        "duration": 0,
        "start_time": "2023-06-20T07:05:45.514Z"
      },
      {
        "duration": 0,
        "start_time": "2023-06-20T07:05:45.515Z"
      },
      {
        "duration": 0,
        "start_time": "2023-06-20T07:05:45.516Z"
      },
      {
        "duration": 11,
        "start_time": "2023-06-20T07:10:53.215Z"
      },
      {
        "duration": 10,
        "start_time": "2023-06-20T07:11:04.328Z"
      },
      {
        "duration": 517,
        "start_time": "2023-06-20T07:16:58.391Z"
      },
      {
        "duration": 5,
        "start_time": "2023-06-20T07:25:52.866Z"
      },
      {
        "duration": 806,
        "start_time": "2023-06-20T07:25:52.878Z"
      },
      {
        "duration": 10,
        "start_time": "2023-06-20T07:25:53.686Z"
      },
      {
        "duration": 28,
        "start_time": "2023-06-20T07:25:53.697Z"
      },
      {
        "duration": 119,
        "start_time": "2023-06-20T07:25:53.727Z"
      },
      {
        "duration": 3,
        "start_time": "2023-06-20T07:25:53.847Z"
      },
      {
        "duration": 58,
        "start_time": "2023-06-20T07:25:53.852Z"
      },
      {
        "duration": 7,
        "start_time": "2023-06-20T07:25:53.912Z"
      },
      {
        "duration": 9,
        "start_time": "2023-06-20T07:25:53.920Z"
      },
      {
        "duration": 4,
        "start_time": "2023-06-20T07:25:53.931Z"
      },
      {
        "duration": 11,
        "start_time": "2023-06-20T07:25:53.936Z"
      },
      {
        "duration": 23,
        "start_time": "2023-06-20T07:25:53.948Z"
      },
      {
        "duration": 14,
        "start_time": "2023-06-20T07:25:53.972Z"
      },
      {
        "duration": 4,
        "start_time": "2023-06-20T07:25:53.988Z"
      },
      {
        "duration": 17,
        "start_time": "2023-06-20T07:25:53.993Z"
      },
      {
        "duration": 0,
        "start_time": "2023-06-20T07:25:54.012Z"
      },
      {
        "duration": 0,
        "start_time": "2023-06-20T07:25:54.013Z"
      },
      {
        "duration": 0,
        "start_time": "2023-06-20T07:25:54.027Z"
      },
      {
        "duration": 0,
        "start_time": "2023-06-20T07:25:54.029Z"
      },
      {
        "duration": 0,
        "start_time": "2023-06-20T07:25:54.030Z"
      },
      {
        "duration": 0,
        "start_time": "2023-06-20T07:25:54.032Z"
      },
      {
        "duration": 0,
        "start_time": "2023-06-20T07:25:54.033Z"
      },
      {
        "duration": 0,
        "start_time": "2023-06-20T07:25:54.035Z"
      },
      {
        "duration": 0,
        "start_time": "2023-06-20T07:25:54.036Z"
      },
      {
        "duration": 0,
        "start_time": "2023-06-20T07:25:54.038Z"
      },
      {
        "duration": 0,
        "start_time": "2023-06-20T07:25:54.040Z"
      },
      {
        "duration": 0,
        "start_time": "2023-06-20T07:25:54.041Z"
      },
      {
        "duration": 0,
        "start_time": "2023-06-20T07:25:54.070Z"
      },
      {
        "duration": 0,
        "start_time": "2023-06-20T07:25:54.071Z"
      },
      {
        "duration": 0,
        "start_time": "2023-06-20T07:25:54.072Z"
      },
      {
        "duration": 0,
        "start_time": "2023-06-20T07:25:54.073Z"
      },
      {
        "duration": 0,
        "start_time": "2023-06-20T07:25:54.074Z"
      },
      {
        "duration": 0,
        "start_time": "2023-06-20T07:25:54.075Z"
      },
      {
        "duration": 15,
        "start_time": "2023-06-20T07:26:23.535Z"
      },
      {
        "duration": 10,
        "start_time": "2023-06-20T07:26:30.238Z"
      },
      {
        "duration": 3,
        "start_time": "2023-06-20T07:26:44.860Z"
      },
      {
        "duration": 828,
        "start_time": "2023-06-20T07:26:44.865Z"
      },
      {
        "duration": 10,
        "start_time": "2023-06-20T07:26:45.695Z"
      },
      {
        "duration": 34,
        "start_time": "2023-06-20T07:26:45.706Z"
      },
      {
        "duration": 141,
        "start_time": "2023-06-20T07:26:45.742Z"
      },
      {
        "duration": 5,
        "start_time": "2023-06-20T07:26:45.887Z"
      },
      {
        "duration": 49,
        "start_time": "2023-06-20T07:26:45.895Z"
      },
      {
        "duration": 5,
        "start_time": "2023-06-20T07:26:45.946Z"
      },
      {
        "duration": 24,
        "start_time": "2023-06-20T07:26:45.952Z"
      },
      {
        "duration": 8,
        "start_time": "2023-06-20T07:26:45.978Z"
      },
      {
        "duration": 6,
        "start_time": "2023-06-20T07:26:45.992Z"
      },
      {
        "duration": 7,
        "start_time": "2023-06-20T07:26:45.999Z"
      },
      {
        "duration": 5,
        "start_time": "2023-06-20T07:26:46.008Z"
      },
      {
        "duration": 5,
        "start_time": "2023-06-20T07:26:46.015Z"
      },
      {
        "duration": 11,
        "start_time": "2023-06-20T07:26:46.021Z"
      },
      {
        "duration": 0,
        "start_time": "2023-06-20T07:26:46.034Z"
      },
      {
        "duration": 0,
        "start_time": "2023-06-20T07:26:46.035Z"
      },
      {
        "duration": 0,
        "start_time": "2023-06-20T07:26:46.036Z"
      },
      {
        "duration": 0,
        "start_time": "2023-06-20T07:26:46.037Z"
      },
      {
        "duration": 0,
        "start_time": "2023-06-20T07:26:46.038Z"
      },
      {
        "duration": 0,
        "start_time": "2023-06-20T07:26:46.070Z"
      },
      {
        "duration": 0,
        "start_time": "2023-06-20T07:26:46.071Z"
      },
      {
        "duration": 0,
        "start_time": "2023-06-20T07:26:46.072Z"
      },
      {
        "duration": 0,
        "start_time": "2023-06-20T07:26:46.073Z"
      },
      {
        "duration": 0,
        "start_time": "2023-06-20T07:26:46.073Z"
      },
      {
        "duration": 0,
        "start_time": "2023-06-20T07:26:46.075Z"
      },
      {
        "duration": 0,
        "start_time": "2023-06-20T07:26:46.076Z"
      },
      {
        "duration": 0,
        "start_time": "2023-06-20T07:26:46.077Z"
      },
      {
        "duration": 0,
        "start_time": "2023-06-20T07:26:46.078Z"
      },
      {
        "duration": 0,
        "start_time": "2023-06-20T07:26:46.079Z"
      },
      {
        "duration": 0,
        "start_time": "2023-06-20T07:26:46.082Z"
      },
      {
        "duration": 0,
        "start_time": "2023-06-20T07:26:46.084Z"
      },
      {
        "duration": 0,
        "start_time": "2023-06-20T07:26:46.085Z"
      },
      {
        "duration": 5,
        "start_time": "2023-06-20T07:27:21.149Z"
      },
      {
        "duration": 853,
        "start_time": "2023-06-20T07:27:23.067Z"
      },
      {
        "duration": 3,
        "start_time": "2023-06-20T07:29:04.444Z"
      },
      {
        "duration": 5,
        "start_time": "2023-06-20T07:29:06.100Z"
      },
      {
        "duration": 4,
        "start_time": "2023-06-20T07:29:20.156Z"
      },
      {
        "duration": 14,
        "start_time": "2023-06-20T07:31:06.310Z"
      },
      {
        "duration": 4,
        "start_time": "2023-06-20T07:40:11.674Z"
      },
      {
        "duration": 977,
        "start_time": "2023-06-20T07:40:13.822Z"
      },
      {
        "duration": 3,
        "start_time": "2023-06-20T07:40:27.496Z"
      },
      {
        "duration": 1747,
        "start_time": "2023-06-20T07:41:53.653Z"
      },
      {
        "duration": 3937,
        "start_time": "2023-06-20T07:41:55.402Z"
      },
      {
        "duration": 3,
        "start_time": "2023-06-20T07:42:08.958Z"
      },
      {
        "duration": 2091,
        "start_time": "2023-06-20T07:42:16.814Z"
      },
      {
        "duration": 12906,
        "start_time": "2023-06-20T07:42:20.303Z"
      },
      {
        "duration": 11455,
        "start_time": "2023-06-20T07:51:00.944Z"
      },
      {
        "duration": 3,
        "start_time": "2023-06-20T07:52:06.235Z"
      },
      {
        "duration": 834,
        "start_time": "2023-06-20T07:52:06.998Z"
      },
      {
        "duration": 20,
        "start_time": "2023-06-20T07:52:17.131Z"
      },
      {
        "duration": 4,
        "start_time": "2023-06-20T07:52:36.499Z"
      },
      {
        "duration": 12,
        "start_time": "2023-06-20T07:52:38.797Z"
      },
      {
        "duration": 135,
        "start_time": "2023-06-20T07:53:09.336Z"
      },
      {
        "duration": 31,
        "start_time": "2023-06-20T07:53:10.905Z"
      },
      {
        "duration": 3,
        "start_time": "2023-06-20T07:53:56.198Z"
      },
      {
        "duration": 17,
        "start_time": "2023-06-20T07:53:59.024Z"
      },
      {
        "duration": 176,
        "start_time": "2023-06-20T07:54:20.114Z"
      },
      {
        "duration": 14,
        "start_time": "2023-06-20T07:54:42.662Z"
      },
      {
        "duration": 19,
        "start_time": "2023-06-20T09:21:55.991Z"
      },
      {
        "duration": 4,
        "start_time": "2023-06-20T09:25:42.357Z"
      },
      {
        "duration": 4999,
        "start_time": "2023-06-20T09:25:42.363Z"
      },
      {
        "duration": 21,
        "start_time": "2023-06-20T09:25:47.364Z"
      },
      {
        "duration": 54,
        "start_time": "2023-06-20T09:25:47.393Z"
      },
      {
        "duration": 215,
        "start_time": "2023-06-20T09:25:47.449Z"
      },
      {
        "duration": 21,
        "start_time": "2023-06-20T09:25:47.666Z"
      },
      {
        "duration": 44,
        "start_time": "2023-06-20T09:25:47.692Z"
      },
      {
        "duration": 5,
        "start_time": "2023-06-20T09:25:47.738Z"
      },
      {
        "duration": 5,
        "start_time": "2023-06-20T09:25:47.745Z"
      },
      {
        "duration": 11,
        "start_time": "2023-06-20T09:25:47.751Z"
      },
      {
        "duration": 17,
        "start_time": "2023-06-20T09:25:47.763Z"
      },
      {
        "duration": 22,
        "start_time": "2023-06-20T09:25:47.782Z"
      },
      {
        "duration": 307,
        "start_time": "2023-06-20T09:25:47.805Z"
      },
      {
        "duration": 5,
        "start_time": "2023-06-20T09:25:48.114Z"
      },
      {
        "duration": 14,
        "start_time": "2023-06-20T09:25:48.121Z"
      },
      {
        "duration": 11,
        "start_time": "2023-06-20T09:25:48.137Z"
      },
      {
        "duration": 5,
        "start_time": "2023-06-20T09:25:48.149Z"
      },
      {
        "duration": 5,
        "start_time": "2023-06-20T09:25:48.155Z"
      },
      {
        "duration": 488347,
        "start_time": "2023-06-20T09:25:48.161Z"
      },
      {
        "duration": 999,
        "start_time": "2023-06-20T09:33:56.520Z"
      },
      {
        "duration": 6,
        "start_time": "2023-06-20T09:33:57.523Z"
      },
      {
        "duration": 14,
        "start_time": "2023-06-20T09:33:57.531Z"
      },
      {
        "duration": 7,
        "start_time": "2023-06-20T09:33:57.548Z"
      },
      {
        "duration": 24,
        "start_time": "2023-06-20T09:33:57.559Z"
      },
      {
        "duration": 36,
        "start_time": "2023-06-20T09:33:57.585Z"
      },
      {
        "duration": 0,
        "start_time": "2023-06-20T09:33:57.624Z"
      },
      {
        "duration": 0,
        "start_time": "2023-06-20T09:33:57.630Z"
      },
      {
        "duration": 0,
        "start_time": "2023-06-20T09:33:57.631Z"
      },
      {
        "duration": 0,
        "start_time": "2023-06-20T09:33:57.635Z"
      },
      {
        "duration": 0,
        "start_time": "2023-06-20T09:33:57.637Z"
      },
      {
        "duration": 0,
        "start_time": "2023-06-20T09:33:57.639Z"
      },
      {
        "duration": 0,
        "start_time": "2023-06-20T09:33:57.645Z"
      },
      {
        "duration": 0,
        "start_time": "2023-06-20T09:33:57.647Z"
      },
      {
        "duration": 0,
        "start_time": "2023-06-20T09:33:57.649Z"
      },
      {
        "duration": 0,
        "start_time": "2023-06-20T09:33:57.654Z"
      },
      {
        "duration": 0,
        "start_time": "2023-06-20T09:33:57.662Z"
      },
      {
        "duration": 0,
        "start_time": "2023-06-20T09:33:57.663Z"
      },
      {
        "duration": 0,
        "start_time": "2023-06-20T09:33:57.665Z"
      },
      {
        "duration": 0,
        "start_time": "2023-06-20T09:33:57.671Z"
      },
      {
        "duration": 6,
        "start_time": "2023-06-20T10:27:54.021Z"
      },
      {
        "duration": 2622,
        "start_time": "2023-06-20T10:27:58.302Z"
      },
      {
        "duration": 28,
        "start_time": "2023-06-20T10:28:13.766Z"
      },
      {
        "duration": 9,
        "start_time": "2023-06-20T10:28:14.762Z"
      },
      {
        "duration": 4,
        "start_time": "2023-06-20T10:28:16.250Z"
      },
      {
        "duration": 8,
        "start_time": "2023-06-20T10:28:30.012Z"
      },
      {
        "duration": 7,
        "start_time": "2023-06-20T10:28:31.418Z"
      },
      {
        "duration": 924,
        "start_time": "2023-06-20T10:28:47.603Z"
      },
      {
        "duration": 3,
        "start_time": "2023-06-20T10:28:56.642Z"
      },
      {
        "duration": 16,
        "start_time": "2023-06-20T10:28:57.400Z"
      },
      {
        "duration": 12,
        "start_time": "2023-06-20T10:28:58.088Z"
      },
      {
        "duration": 10,
        "start_time": "2023-06-20T10:30:29.065Z"
      },
      {
        "duration": 891,
        "start_time": "2023-06-20T10:30:29.909Z"
      },
      {
        "duration": 10,
        "start_time": "2023-06-20T10:30:30.855Z"
      },
      {
        "duration": 4,
        "start_time": "2023-06-20T10:30:34.053Z"
      },
      {
        "duration": 951,
        "start_time": "2023-06-20T10:30:34.059Z"
      },
      {
        "duration": 11,
        "start_time": "2023-06-20T10:30:35.011Z"
      },
      {
        "duration": 54,
        "start_time": "2023-06-20T10:30:35.024Z"
      },
      {
        "duration": 134,
        "start_time": "2023-06-20T10:30:35.088Z"
      },
      {
        "duration": 2,
        "start_time": "2023-06-20T10:30:35.224Z"
      },
      {
        "duration": 66,
        "start_time": "2023-06-20T10:30:35.228Z"
      },
      {
        "duration": 11,
        "start_time": "2023-06-20T10:30:35.299Z"
      },
      {
        "duration": 8,
        "start_time": "2023-06-20T10:30:35.312Z"
      },
      {
        "duration": 4,
        "start_time": "2023-06-20T10:30:35.322Z"
      },
      {
        "duration": 7,
        "start_time": "2023-06-20T10:30:35.327Z"
      },
      {
        "duration": 13,
        "start_time": "2023-06-20T10:30:35.336Z"
      },
      {
        "duration": 226,
        "start_time": "2023-06-20T10:30:35.350Z"
      },
      {
        "duration": 6,
        "start_time": "2023-06-20T10:30:35.579Z"
      },
      {
        "duration": 14,
        "start_time": "2023-06-20T10:30:35.587Z"
      },
      {
        "duration": 20,
        "start_time": "2023-06-20T10:30:35.602Z"
      },
      {
        "duration": 21,
        "start_time": "2023-06-20T10:30:35.623Z"
      },
      {
        "duration": 42,
        "start_time": "2023-06-20T10:30:35.645Z"
      },
      {
        "duration": 1671,
        "start_time": "2023-06-20T10:31:19.366Z"
      },
      {
        "duration": 1039,
        "start_time": "2023-06-20T10:31:21.039Z"
      },
      {
        "duration": 20,
        "start_time": "2023-06-20T10:31:22.080Z"
      },
      {
        "duration": 47,
        "start_time": "2023-06-20T10:31:22.102Z"
      },
      {
        "duration": 145,
        "start_time": "2023-06-20T10:31:22.152Z"
      },
      {
        "duration": 5,
        "start_time": "2023-06-20T10:31:22.299Z"
      },
      {
        "duration": 57,
        "start_time": "2023-06-20T10:31:22.305Z"
      },
      {
        "duration": 25,
        "start_time": "2023-06-20T10:31:22.364Z"
      },
      {
        "duration": 11,
        "start_time": "2023-06-20T10:31:22.393Z"
      },
      {
        "duration": 26,
        "start_time": "2023-06-20T10:31:22.408Z"
      },
      {
        "duration": 7,
        "start_time": "2023-06-20T10:31:22.436Z"
      },
      {
        "duration": 10,
        "start_time": "2023-06-20T10:31:22.445Z"
      },
      {
        "duration": 359,
        "start_time": "2023-06-20T10:31:22.457Z"
      },
      {
        "duration": 7,
        "start_time": "2023-06-20T10:31:22.819Z"
      },
      {
        "duration": 10,
        "start_time": "2023-06-20T10:31:22.830Z"
      },
      {
        "duration": 15,
        "start_time": "2023-06-20T10:31:22.842Z"
      },
      {
        "duration": 29,
        "start_time": "2023-06-20T10:31:22.859Z"
      },
      {
        "duration": 15,
        "start_time": "2023-06-20T10:31:22.895Z"
      },
      {
        "duration": 442484,
        "start_time": "2023-06-20T10:31:22.912Z"
      },
      {
        "duration": 62,
        "start_time": "2023-06-20T10:38:45.398Z"
      },
      {
        "duration": 3,
        "start_time": "2023-06-20T10:38:45.462Z"
      },
      {
        "duration": 39,
        "start_time": "2023-06-20T10:38:45.467Z"
      },
      {
        "duration": 6,
        "start_time": "2023-06-20T10:38:45.508Z"
      },
      {
        "duration": 11,
        "start_time": "2023-06-20T10:38:45.517Z"
      },
      {
        "duration": 5892,
        "start_time": "2023-06-20T10:38:45.530Z"
      },
      {
        "duration": 172,
        "start_time": "2023-06-20T10:38:51.423Z"
      },
      {
        "duration": 0,
        "start_time": "2023-06-20T10:38:51.597Z"
      },
      {
        "duration": 0,
        "start_time": "2023-06-20T10:38:51.598Z"
      },
      {
        "duration": 0,
        "start_time": "2023-06-20T10:38:51.599Z"
      },
      {
        "duration": 0,
        "start_time": "2023-06-20T10:38:51.600Z"
      },
      {
        "duration": 0,
        "start_time": "2023-06-20T10:38:51.601Z"
      },
      {
        "duration": 0,
        "start_time": "2023-06-20T10:38:51.602Z"
      },
      {
        "duration": 0,
        "start_time": "2023-06-20T10:38:51.603Z"
      },
      {
        "duration": 0,
        "start_time": "2023-06-20T10:38:51.604Z"
      },
      {
        "duration": 0,
        "start_time": "2023-06-20T10:38:51.605Z"
      },
      {
        "duration": 0,
        "start_time": "2023-06-20T10:38:51.611Z"
      },
      {
        "duration": 0,
        "start_time": "2023-06-20T10:38:51.612Z"
      },
      {
        "duration": 0,
        "start_time": "2023-06-20T10:38:51.614Z"
      },
      {
        "duration": 0,
        "start_time": "2023-06-20T10:38:51.615Z"
      },
      {
        "duration": 6122,
        "start_time": "2023-06-20T10:41:57.243Z"
      },
      {
        "duration": 1634,
        "start_time": "2023-06-20T14:51:43.630Z"
      },
      {
        "duration": 2308,
        "start_time": "2023-06-20T14:51:45.267Z"
      },
      {
        "duration": 13,
        "start_time": "2023-06-20T14:51:47.577Z"
      },
      {
        "duration": 59,
        "start_time": "2023-06-20T14:51:47.592Z"
      },
      {
        "duration": 196,
        "start_time": "2023-06-20T14:51:47.653Z"
      },
      {
        "duration": 3,
        "start_time": "2023-06-20T14:51:47.850Z"
      },
      {
        "duration": 43,
        "start_time": "2023-06-20T14:51:47.854Z"
      },
      {
        "duration": 5,
        "start_time": "2023-06-20T14:51:47.899Z"
      },
      {
        "duration": 15,
        "start_time": "2023-06-20T14:51:47.905Z"
      },
      {
        "duration": 14,
        "start_time": "2023-06-20T14:51:47.922Z"
      },
      {
        "duration": 11,
        "start_time": "2023-06-20T14:51:47.938Z"
      },
      {
        "duration": 18,
        "start_time": "2023-06-20T14:51:47.950Z"
      },
      {
        "duration": 647,
        "start_time": "2023-06-20T14:51:47.970Z"
      },
      {
        "duration": 4,
        "start_time": "2023-06-20T14:51:48.620Z"
      },
      {
        "duration": 16,
        "start_time": "2023-06-20T14:51:48.625Z"
      },
      {
        "duration": 11,
        "start_time": "2023-06-20T14:51:48.642Z"
      },
      {
        "duration": 20,
        "start_time": "2023-06-20T14:51:48.655Z"
      },
      {
        "duration": 14,
        "start_time": "2023-06-20T14:51:48.676Z"
      },
      {
        "duration": 345793,
        "start_time": "2023-06-20T14:51:48.691Z"
      },
      {
        "duration": 38,
        "start_time": "2023-06-20T14:57:34.486Z"
      },
      {
        "duration": 149598,
        "start_time": "2023-06-20T14:57:34.527Z"
      },
      {
        "duration": 7,
        "start_time": "2023-06-20T15:00:04.128Z"
      },
      {
        "duration": 5232,
        "start_time": "2023-06-20T15:00:04.136Z"
      },
      {
        "duration": 2038,
        "start_time": "2023-06-20T15:00:09.370Z"
      },
      {
        "duration": 3,
        "start_time": "2023-06-20T15:00:11.410Z"
      },
      {
        "duration": 73,
        "start_time": "2023-06-20T15:00:11.415Z"
      },
      {
        "duration": 30,
        "start_time": "2023-06-20T15:00:11.491Z"
      },
      {
        "duration": 21,
        "start_time": "2023-06-20T15:00:11.523Z"
      },
      {
        "duration": 29,
        "start_time": "2023-06-20T15:00:11.546Z"
      },
      {
        "duration": 9,
        "start_time": "2023-06-20T15:00:11.577Z"
      },
      {
        "duration": 23,
        "start_time": "2023-06-20T15:00:11.588Z"
      },
      {
        "duration": 45,
        "start_time": "2023-06-20T15:00:11.613Z"
      },
      {
        "duration": 27,
        "start_time": "2023-06-20T15:00:11.659Z"
      },
      {
        "duration": 23,
        "start_time": "2023-06-20T15:00:11.688Z"
      },
      {
        "duration": 34,
        "start_time": "2023-06-20T15:00:11.712Z"
      },
      {
        "duration": 97829,
        "start_time": "2023-06-20T15:00:11.747Z"
      },
      {
        "duration": 35489,
        "start_time": "2023-06-20T15:02:25.187Z"
      },
      {
        "duration": 97648,
        "start_time": "2023-06-20T15:06:30.839Z"
      },
      {
        "duration": 9,
        "start_time": "2023-06-20T15:13:38.692Z"
      },
      {
        "duration": 125,
        "start_time": "2023-06-20T15:13:40.102Z"
      },
      {
        "duration": 4,
        "start_time": "2023-06-20T15:14:10.391Z"
      },
      {
        "duration": 16,
        "start_time": "2023-06-20T15:14:19.415Z"
      },
      {
        "duration": 153055,
        "start_time": "2023-06-20T15:15:55.127Z"
      },
      {
        "duration": 35167,
        "start_time": "2023-06-20T15:19:01.507Z"
      },
      {
        "duration": 18,
        "start_time": "2023-06-20T15:23:32.595Z"
      },
      {
        "duration": 4285,
        "start_time": "2023-06-20T15:23:35.782Z"
      },
      {
        "duration": 1750,
        "start_time": "2023-06-20T15:23:40.069Z"
      },
      {
        "duration": 39803,
        "start_time": "2023-06-20T15:23:50.882Z"
      },
      {
        "duration": 159618,
        "start_time": "2023-06-20T15:24:30.776Z"
      },
      {
        "duration": 5,
        "start_time": "2023-06-20T15:27:42.478Z"
      },
      {
        "duration": 832,
        "start_time": "2023-06-20T15:27:42.485Z"
      },
      {
        "duration": 11,
        "start_time": "2023-06-20T15:27:43.319Z"
      },
      {
        "duration": 43,
        "start_time": "2023-06-20T15:27:43.332Z"
      },
      {
        "duration": 106,
        "start_time": "2023-06-20T15:27:43.378Z"
      },
      {
        "duration": 3,
        "start_time": "2023-06-20T15:27:43.485Z"
      },
      {
        "duration": 47,
        "start_time": "2023-06-20T15:27:43.489Z"
      },
      {
        "duration": 6,
        "start_time": "2023-06-20T15:27:43.538Z"
      },
      {
        "duration": 14,
        "start_time": "2023-06-20T15:27:43.545Z"
      },
      {
        "duration": 24,
        "start_time": "2023-06-20T15:27:43.561Z"
      },
      {
        "duration": 22,
        "start_time": "2023-06-20T15:27:43.586Z"
      },
      {
        "duration": 11,
        "start_time": "2023-06-20T15:27:43.610Z"
      },
      {
        "duration": 25,
        "start_time": "2023-06-20T15:27:43.622Z"
      },
      {
        "duration": 4,
        "start_time": "2023-06-20T15:27:43.650Z"
      },
      {
        "duration": 23,
        "start_time": "2023-06-20T15:27:43.656Z"
      },
      {
        "duration": 6,
        "start_time": "2023-06-20T15:27:43.681Z"
      },
      {
        "duration": 10,
        "start_time": "2023-06-20T15:27:43.689Z"
      },
      {
        "duration": 7,
        "start_time": "2023-06-20T15:27:43.701Z"
      },
      {
        "duration": 363862,
        "start_time": "2023-06-20T15:27:43.710Z"
      },
      {
        "duration": 22,
        "start_time": "2023-06-20T15:33:47.574Z"
      },
      {
        "duration": 165460,
        "start_time": "2023-06-20T15:33:47.598Z"
      },
      {
        "duration": 21,
        "start_time": "2023-06-20T15:36:33.061Z"
      },
      {
        "duration": 4603,
        "start_time": "2023-06-20T15:36:33.085Z"
      },
      {
        "duration": 1804,
        "start_time": "2023-06-20T15:36:37.690Z"
      },
      {
        "duration": 2,
        "start_time": "2023-06-20T15:36:39.496Z"
      },
      {
        "duration": 9,
        "start_time": "2023-06-20T15:36:39.500Z"
      },
      {
        "duration": 12,
        "start_time": "2023-06-20T15:36:39.510Z"
      },
      {
        "duration": 12,
        "start_time": "2023-06-20T15:36:39.524Z"
      },
      {
        "duration": 12,
        "start_time": "2023-06-20T15:36:39.537Z"
      },
      {
        "duration": 14,
        "start_time": "2023-06-20T15:36:39.550Z"
      },
      {
        "duration": 6,
        "start_time": "2023-06-20T15:36:39.565Z"
      },
      {
        "duration": 17,
        "start_time": "2023-06-20T15:36:39.573Z"
      },
      {
        "duration": 13,
        "start_time": "2023-06-20T15:36:39.591Z"
      },
      {
        "duration": 15,
        "start_time": "2023-06-20T15:36:39.606Z"
      },
      {
        "duration": 39253,
        "start_time": "2023-06-20T15:36:39.623Z"
      },
      {
        "duration": 162022,
        "start_time": "2023-06-20T15:37:18.878Z"
      },
      {
        "duration": 7,
        "start_time": "2023-06-20T15:40:00.902Z"
      },
      {
        "duration": 90,
        "start_time": "2023-06-20T15:40:00.911Z"
      },
      {
        "duration": 112290,
        "start_time": "2023-06-20T15:43:53.786Z"
      },
      {
        "duration": 51060,
        "start_time": "2023-06-20T15:50:34.730Z"
      },
      {
        "duration": 103845,
        "start_time": "2023-06-20T15:53:08.343Z"
      },
      {
        "duration": 9,
        "start_time": "2023-06-20T15:55:06.528Z"
      },
      {
        "duration": 18,
        "start_time": "2023-06-20T15:55:07.646Z"
      },
      {
        "duration": 5,
        "start_time": "2023-06-20T15:58:37.638Z"
      },
      {
        "duration": 816,
        "start_time": "2023-06-20T15:58:37.645Z"
      },
      {
        "duration": 17,
        "start_time": "2023-06-20T15:58:38.463Z"
      },
      {
        "duration": 38,
        "start_time": "2023-06-20T15:58:38.481Z"
      },
      {
        "duration": 116,
        "start_time": "2023-06-20T15:58:38.520Z"
      },
      {
        "duration": 3,
        "start_time": "2023-06-20T15:58:38.637Z"
      },
      {
        "duration": 80,
        "start_time": "2023-06-20T15:58:38.641Z"
      },
      {
        "duration": 6,
        "start_time": "2023-06-20T15:58:38.723Z"
      },
      {
        "duration": 7,
        "start_time": "2023-06-20T15:58:38.731Z"
      },
      {
        "duration": 5,
        "start_time": "2023-06-20T15:58:38.741Z"
      },
      {
        "duration": 32,
        "start_time": "2023-06-20T15:58:38.747Z"
      },
      {
        "duration": 11,
        "start_time": "2023-06-20T15:58:38.781Z"
      },
      {
        "duration": 214,
        "start_time": "2023-06-20T15:58:38.793Z"
      },
      {
        "duration": 4,
        "start_time": "2023-06-20T15:58:39.009Z"
      },
      {
        "duration": 14,
        "start_time": "2023-06-20T15:58:39.015Z"
      },
      {
        "duration": 9,
        "start_time": "2023-06-20T15:58:39.031Z"
      },
      {
        "duration": 17,
        "start_time": "2023-06-20T15:58:39.041Z"
      },
      {
        "duration": 11,
        "start_time": "2023-06-20T15:58:39.059Z"
      },
      {
        "duration": 345649,
        "start_time": "2023-06-20T15:58:39.071Z"
      },
      {
        "duration": 19,
        "start_time": "2023-06-20T16:04:24.722Z"
      },
      {
        "duration": 153448,
        "start_time": "2023-06-20T16:04:24.743Z"
      },
      {
        "duration": 13,
        "start_time": "2023-06-20T16:06:58.193Z"
      },
      {
        "duration": 4681,
        "start_time": "2023-06-20T16:06:58.208Z"
      },
      {
        "duration": 1807,
        "start_time": "2023-06-20T16:07:02.891Z"
      },
      {
        "duration": 2,
        "start_time": "2023-06-20T16:07:04.700Z"
      },
      {
        "duration": 6,
        "start_time": "2023-06-20T16:07:04.704Z"
      },
      {
        "duration": 11,
        "start_time": "2023-06-20T16:07:04.711Z"
      },
      {
        "duration": 6,
        "start_time": "2023-06-20T16:07:04.727Z"
      },
      {
        "duration": 16,
        "start_time": "2023-06-20T16:07:04.735Z"
      },
      {
        "duration": 12,
        "start_time": "2023-06-20T16:07:04.752Z"
      },
      {
        "duration": 7,
        "start_time": "2023-06-20T16:07:04.766Z"
      },
      {
        "duration": 6,
        "start_time": "2023-06-20T16:07:04.775Z"
      },
      {
        "duration": 9,
        "start_time": "2023-06-20T16:07:04.783Z"
      },
      {
        "duration": 16,
        "start_time": "2023-06-20T16:07:04.794Z"
      },
      {
        "duration": 45472,
        "start_time": "2023-06-20T16:07:04.812Z"
      },
      {
        "duration": 127896,
        "start_time": "2023-06-20T16:07:50.287Z"
      },
      {
        "duration": 7,
        "start_time": "2023-06-20T16:09:58.185Z"
      },
      {
        "duration": 33,
        "start_time": "2023-06-20T16:09:58.193Z"
      },
      {
        "duration": 14,
        "start_time": "2023-06-20T16:10:53.694Z"
      },
      {
        "duration": 23136,
        "start_time": "2023-06-20T16:11:17.586Z"
      },
      {
        "duration": 58007,
        "start_time": "2023-06-20T16:13:06.190Z"
      },
      {
        "duration": 7,
        "start_time": "2023-06-20T16:14:14.195Z"
      },
      {
        "duration": 19,
        "start_time": "2023-06-20T16:14:15.204Z"
      },
      {
        "duration": 14677,
        "start_time": "2023-06-20T16:14:43.915Z"
      },
      {
        "duration": 35403,
        "start_time": "2023-06-20T16:14:58.594Z"
      },
      {
        "duration": 16,
        "start_time": "2023-06-20T16:15:40.751Z"
      },
      {
        "duration": 14554,
        "start_time": "2023-06-20T16:15:58.636Z"
      },
      {
        "duration": 14629,
        "start_time": "2023-06-20T16:18:00.760Z"
      },
      {
        "duration": 29998,
        "start_time": "2023-06-20T16:18:15.391Z"
      },
      {
        "duration": 3,
        "start_time": "2023-06-20T16:19:01.699Z"
      },
      {
        "duration": 132394,
        "start_time": "2023-06-20T16:19:02.711Z"
      },
      {
        "duration": 13,
        "start_time": "2023-06-20T16:29:59.421Z"
      },
      {
        "duration": 17298,
        "start_time": "2023-06-20T16:30:00.465Z"
      },
      {
        "duration": 4134,
        "start_time": "2023-06-20T16:30:17.764Z"
      },
      {
        "duration": 4,
        "start_time": "2023-06-20T16:30:35.680Z"
      },
      {
        "duration": 45413,
        "start_time": "2023-06-20T16:30:36.881Z"
      },
      {
        "duration": 16734,
        "start_time": "2023-06-20T16:31:40.941Z"
      },
      {
        "duration": 15,
        "start_time": "2023-06-20T16:32:02.855Z"
      },
      {
        "duration": 17,
        "start_time": "2023-06-20T16:32:03.756Z"
      },
      {
        "duration": 4,
        "start_time": "2023-06-20T16:33:08.749Z"
      },
      {
        "duration": 226,
        "start_time": "2023-06-20T16:36:48.268Z"
      },
      {
        "duration": 10546,
        "start_time": "2023-06-20T16:36:49.477Z"
      },
      {
        "duration": 3643,
        "start_time": "2023-06-20T16:37:00.026Z"
      },
      {
        "duration": 12248,
        "start_time": "2023-06-20T16:37:03.671Z"
      },
      {
        "duration": 31395,
        "start_time": "2023-06-20T16:37:15.921Z"
      },
      {
        "duration": 5,
        "start_time": "2023-06-20T16:37:47.318Z"
      },
      {
        "duration": 22,
        "start_time": "2023-06-20T16:37:47.325Z"
      },
      {
        "duration": 28,
        "start_time": "2023-06-20T16:37:47.349Z"
      },
      {
        "duration": 50,
        "start_time": "2023-06-21T07:08:28.550Z"
      },
      {
        "duration": 1920,
        "start_time": "2023-06-21T07:28:14.526Z"
      },
      {
        "duration": 3343,
        "start_time": "2023-06-21T07:28:16.449Z"
      },
      {
        "duration": 16,
        "start_time": "2023-06-21T07:28:19.794Z"
      },
      {
        "duration": 36,
        "start_time": "2023-06-21T07:28:19.812Z"
      },
      {
        "duration": 137,
        "start_time": "2023-06-21T07:28:19.850Z"
      },
      {
        "duration": 3,
        "start_time": "2023-06-21T07:28:19.989Z"
      },
      {
        "duration": 86,
        "start_time": "2023-06-21T07:28:19.993Z"
      },
      {
        "duration": 6,
        "start_time": "2023-06-21T07:28:20.081Z"
      },
      {
        "duration": 18,
        "start_time": "2023-06-21T07:28:20.089Z"
      },
      {
        "duration": 13,
        "start_time": "2023-06-21T07:28:20.109Z"
      },
      {
        "duration": 20,
        "start_time": "2023-06-21T07:28:20.124Z"
      },
      {
        "duration": 20,
        "start_time": "2023-06-21T07:28:20.146Z"
      },
      {
        "duration": 22,
        "start_time": "2023-06-21T07:28:20.168Z"
      },
      {
        "duration": 717,
        "start_time": "2023-06-21T07:28:20.194Z"
      },
      {
        "duration": 7,
        "start_time": "2023-06-21T07:28:20.913Z"
      },
      {
        "duration": 392501,
        "start_time": "2023-06-21T07:28:20.922Z"
      },
      {
        "duration": 44,
        "start_time": "2023-06-21T07:34:53.425Z"
      },
      {
        "duration": 166070,
        "start_time": "2023-06-21T07:34:53.471Z"
      },
      {
        "duration": 3,
        "start_time": "2023-06-21T07:37:39.543Z"
      },
      {
        "duration": 12946,
        "start_time": "2023-06-21T07:37:39.548Z"
      },
      {
        "duration": 3893,
        "start_time": "2023-06-21T07:37:52.496Z"
      },
      {
        "duration": 12423,
        "start_time": "2023-06-21T07:37:56.391Z"
      },
      {
        "duration": 32599,
        "start_time": "2023-06-21T07:38:08.816Z"
      },
      {
        "duration": 5,
        "start_time": "2023-06-21T07:38:41.417Z"
      },
      {
        "duration": 1657,
        "start_time": "2023-06-21T07:48:10.959Z"
      },
      {
        "duration": 924,
        "start_time": "2023-06-21T07:48:12.618Z"
      },
      {
        "duration": 23,
        "start_time": "2023-06-21T07:48:13.544Z"
      },
      {
        "duration": 36,
        "start_time": "2023-06-21T07:48:13.568Z"
      },
      {
        "duration": 232,
        "start_time": "2023-06-21T07:48:13.607Z"
      },
      {
        "duration": 3,
        "start_time": "2023-06-21T07:48:13.841Z"
      },
      {
        "duration": 112,
        "start_time": "2023-06-21T07:48:13.845Z"
      },
      {
        "duration": 10,
        "start_time": "2023-06-21T07:48:13.959Z"
      },
      {
        "duration": 13,
        "start_time": "2023-06-21T07:48:13.971Z"
      },
      {
        "duration": 26,
        "start_time": "2023-06-21T07:48:13.986Z"
      },
      {
        "duration": 13,
        "start_time": "2023-06-21T07:48:14.014Z"
      },
      {
        "duration": 16,
        "start_time": "2023-06-21T07:48:14.029Z"
      },
      {
        "duration": 7,
        "start_time": "2023-06-21T07:48:14.047Z"
      },
      {
        "duration": 304,
        "start_time": "2023-06-21T07:48:14.059Z"
      },
      {
        "duration": 5,
        "start_time": "2023-06-21T07:48:14.365Z"
      },
      {
        "duration": 368920,
        "start_time": "2023-06-21T07:48:14.372Z"
      },
      {
        "duration": 24,
        "start_time": "2023-06-21T07:54:23.294Z"
      },
      {
        "duration": 172275,
        "start_time": "2023-06-21T07:54:23.320Z"
      },
      {
        "duration": 5,
        "start_time": "2023-06-21T07:57:15.598Z"
      },
      {
        "duration": 13669,
        "start_time": "2023-06-21T07:57:15.605Z"
      },
      {
        "duration": 4061,
        "start_time": "2023-06-21T07:57:29.276Z"
      },
      {
        "duration": 13362,
        "start_time": "2023-06-21T07:57:33.340Z"
      },
      {
        "duration": 34317,
        "start_time": "2023-06-21T07:57:46.704Z"
      },
      {
        "duration": 5,
        "start_time": "2023-06-21T07:58:21.023Z"
      },
      {
        "duration": 173,
        "start_time": "2023-06-21T07:58:21.030Z"
      },
      {
        "duration": 0,
        "start_time": "2023-06-21T07:58:21.205Z"
      },
      {
        "duration": 0,
        "start_time": "2023-06-21T07:58:21.206Z"
      },
      {
        "duration": 6593,
        "start_time": "2023-06-21T07:58:48.196Z"
      },
      {
        "duration": 2123,
        "start_time": "2023-06-21T08:05:14.960Z"
      },
      {
        "duration": 3354,
        "start_time": "2023-06-21T08:05:17.085Z"
      },
      {
        "duration": 17,
        "start_time": "2023-06-21T08:05:20.440Z"
      },
      {
        "duration": 39,
        "start_time": "2023-06-21T08:05:20.458Z"
      },
      {
        "duration": 242,
        "start_time": "2023-06-21T08:05:20.500Z"
      },
      {
        "duration": 3,
        "start_time": "2023-06-21T08:05:20.744Z"
      },
      {
        "duration": 88,
        "start_time": "2023-06-21T08:05:20.749Z"
      },
      {
        "duration": 6,
        "start_time": "2023-06-21T08:05:20.840Z"
      },
      {
        "duration": 26,
        "start_time": "2023-06-21T08:05:20.848Z"
      },
      {
        "duration": 7,
        "start_time": "2023-06-21T08:05:20.876Z"
      },
      {
        "duration": 16,
        "start_time": "2023-06-21T08:05:20.885Z"
      },
      {
        "duration": 21,
        "start_time": "2023-06-21T08:05:20.903Z"
      },
      {
        "duration": 3,
        "start_time": "2023-06-21T08:05:20.926Z"
      },
      {
        "duration": 261,
        "start_time": "2023-06-21T08:05:20.932Z"
      },
      {
        "duration": 5,
        "start_time": "2023-06-21T08:05:21.195Z"
      },
      {
        "duration": 1565,
        "start_time": "2023-06-21T08:08:44.616Z"
      },
      {
        "duration": 886,
        "start_time": "2023-06-21T08:08:46.183Z"
      },
      {
        "duration": 15,
        "start_time": "2023-06-21T08:08:47.071Z"
      },
      {
        "duration": 37,
        "start_time": "2023-06-21T08:08:47.088Z"
      },
      {
        "duration": 236,
        "start_time": "2023-06-21T08:08:47.127Z"
      },
      {
        "duration": 3,
        "start_time": "2023-06-21T08:08:47.365Z"
      },
      {
        "duration": 108,
        "start_time": "2023-06-21T08:08:47.370Z"
      },
      {
        "duration": 5,
        "start_time": "2023-06-21T08:08:47.480Z"
      },
      {
        "duration": 6,
        "start_time": "2023-06-21T08:08:47.486Z"
      },
      {
        "duration": 6,
        "start_time": "2023-06-21T08:08:47.493Z"
      },
      {
        "duration": 7,
        "start_time": "2023-06-21T08:08:47.501Z"
      },
      {
        "duration": 7,
        "start_time": "2023-06-21T08:08:47.510Z"
      },
      {
        "duration": 20,
        "start_time": "2023-06-21T08:08:47.519Z"
      },
      {
        "duration": 177,
        "start_time": "2023-06-21T08:08:47.542Z"
      },
      {
        "duration": 5,
        "start_time": "2023-06-21T08:08:47.721Z"
      },
      {
        "duration": 386888,
        "start_time": "2023-06-21T08:08:47.728Z"
      },
      {
        "duration": 23,
        "start_time": "2023-06-21T08:15:14.618Z"
      },
      {
        "duration": 162720,
        "start_time": "2023-06-21T08:15:14.643Z"
      },
      {
        "duration": 3,
        "start_time": "2023-06-21T08:17:57.365Z"
      },
      {
        "duration": 12820,
        "start_time": "2023-06-21T08:17:57.370Z"
      },
      {
        "duration": 3969,
        "start_time": "2023-06-21T08:18:10.192Z"
      },
      {
        "duration": 12157,
        "start_time": "2023-06-21T08:18:14.165Z"
      },
      {
        "duration": 31589,
        "start_time": "2023-06-21T08:18:26.324Z"
      },
      {
        "duration": 4,
        "start_time": "2023-06-21T08:18:57.915Z"
      },
      {
        "duration": 6350,
        "start_time": "2023-06-21T08:18:57.921Z"
      },
      {
        "duration": 0,
        "start_time": "2023-06-21T08:19:04.273Z"
      },
      {
        "duration": 0,
        "start_time": "2023-06-21T08:19:04.275Z"
      },
      {
        "duration": 12,
        "start_time": "2023-06-21T08:22:52.507Z"
      },
      {
        "duration": 1824,
        "start_time": "2023-06-21T08:23:27.435Z"
      },
      {
        "duration": 3475,
        "start_time": "2023-06-21T08:23:29.262Z"
      },
      {
        "duration": 19,
        "start_time": "2023-06-21T08:23:32.740Z"
      },
      {
        "duration": 65,
        "start_time": "2023-06-21T08:23:32.762Z"
      },
      {
        "duration": 269,
        "start_time": "2023-06-21T08:23:32.830Z"
      },
      {
        "duration": 4,
        "start_time": "2023-06-21T08:23:33.100Z"
      },
      {
        "duration": 103,
        "start_time": "2023-06-21T08:23:33.106Z"
      },
      {
        "duration": 6,
        "start_time": "2023-06-21T08:23:33.213Z"
      },
      {
        "duration": 10,
        "start_time": "2023-06-21T08:23:33.221Z"
      },
      {
        "duration": 6,
        "start_time": "2023-06-21T08:23:33.234Z"
      },
      {
        "duration": 29,
        "start_time": "2023-06-21T08:23:33.242Z"
      },
      {
        "duration": 14,
        "start_time": "2023-06-21T08:23:33.273Z"
      },
      {
        "duration": 24,
        "start_time": "2023-06-21T08:23:33.289Z"
      },
      {
        "duration": 282,
        "start_time": "2023-06-21T08:23:33.317Z"
      },
      {
        "duration": 7,
        "start_time": "2023-06-21T08:23:33.601Z"
      },
      {
        "duration": 383847,
        "start_time": "2023-06-21T08:23:33.610Z"
      },
      {
        "duration": 25,
        "start_time": "2023-06-21T08:29:57.459Z"
      },
      {
        "duration": 166951,
        "start_time": "2023-06-21T08:29:57.487Z"
      },
      {
        "duration": 4,
        "start_time": "2023-06-21T08:32:44.440Z"
      },
      {
        "duration": 12804,
        "start_time": "2023-06-21T08:32:44.445Z"
      },
      {
        "duration": 3785,
        "start_time": "2023-06-21T08:32:57.251Z"
      },
      {
        "duration": 12684,
        "start_time": "2023-06-21T08:33:01.039Z"
      },
      {
        "duration": 34798,
        "start_time": "2023-06-21T08:33:13.725Z"
      },
      {
        "duration": 5,
        "start_time": "2023-06-21T08:33:48.525Z"
      },
      {
        "duration": 80,
        "start_time": "2023-06-21T08:36:09.678Z"
      },
      {
        "duration": 1911,
        "start_time": "2023-06-21T08:36:25.178Z"
      },
      {
        "duration": 3442,
        "start_time": "2023-06-21T08:36:33.310Z"
      },
      {
        "duration": 4,
        "start_time": "2023-06-21T08:36:42.927Z"
      },
      {
        "duration": 74,
        "start_time": "2023-06-21T08:36:43.609Z"
      },
      {
        "duration": 225,
        "start_time": "2023-06-21T08:36:58.314Z"
      },
      {
        "duration": 4,
        "start_time": "2023-06-21T08:36:59.462Z"
      },
      {
        "duration": 6,
        "start_time": "2023-06-21T08:37:03.923Z"
      },
      {
        "duration": 5,
        "start_time": "2023-06-21T08:37:06.893Z"
      },
      {
        "duration": 418841,
        "start_time": "2023-06-21T08:37:13.075Z"
      },
      {
        "duration": 25,
        "start_time": "2023-06-21T08:44:11.919Z"
      },
      {
        "duration": 199361,
        "start_time": "2023-06-21T08:44:11.946Z"
      },
      {
        "duration": 4,
        "start_time": "2023-06-21T08:47:31.310Z"
      },
      {
        "duration": 16028,
        "start_time": "2023-06-21T08:47:31.316Z"
      },
      {
        "duration": 4754,
        "start_time": "2023-06-21T08:47:47.345Z"
      },
      {
        "duration": 70,
        "start_time": "2023-06-21T08:59:13.633Z"
      },
      {
        "duration": 1965,
        "start_time": "2023-06-21T09:09:36.551Z"
      },
      {
        "duration": 4226,
        "start_time": "2023-06-21T09:09:38.519Z"
      },
      {
        "duration": 18,
        "start_time": "2023-06-21T09:09:42.746Z"
      },
      {
        "duration": 45,
        "start_time": "2023-06-21T09:09:42.766Z"
      },
      {
        "duration": 256,
        "start_time": "2023-06-21T09:09:42.813Z"
      },
      {
        "duration": 11,
        "start_time": "2023-06-21T09:09:43.083Z"
      },
      {
        "duration": 126,
        "start_time": "2023-06-21T09:09:43.095Z"
      },
      {
        "duration": 7,
        "start_time": "2023-06-21T09:09:43.223Z"
      },
      {
        "duration": 6,
        "start_time": "2023-06-21T09:09:43.232Z"
      },
      {
        "duration": 10,
        "start_time": "2023-06-21T09:09:43.240Z"
      },
      {
        "duration": 43,
        "start_time": "2023-06-21T09:09:43.257Z"
      },
      {
        "duration": 10,
        "start_time": "2023-06-21T09:09:43.305Z"
      },
      {
        "duration": 4,
        "start_time": "2023-06-21T09:09:43.319Z"
      },
      {
        "duration": 303,
        "start_time": "2023-06-21T09:09:43.328Z"
      },
      {
        "duration": 6,
        "start_time": "2023-06-21T09:09:43.632Z"
      },
      {
        "duration": 470865,
        "start_time": "2023-06-21T09:09:43.639Z"
      },
      {
        "duration": 24,
        "start_time": "2023-06-21T09:17:34.506Z"
      },
      {
        "duration": 198050,
        "start_time": "2023-06-21T09:17:34.532Z"
      },
      {
        "duration": 6,
        "start_time": "2023-06-21T09:20:52.593Z"
      },
      {
        "duration": 14929,
        "start_time": "2023-06-21T09:20:52.601Z"
      },
      {
        "duration": 4254,
        "start_time": "2023-06-21T09:21:07.532Z"
      },
      {
        "duration": 12910,
        "start_time": "2023-06-21T09:21:11.793Z"
      },
      {
        "duration": 32319,
        "start_time": "2023-06-21T09:21:24.705Z"
      },
      {
        "duration": 4,
        "start_time": "2023-06-21T09:21:57.025Z"
      },
      {
        "duration": 316572,
        "start_time": "2023-06-21T09:21:57.031Z"
      },
      {
        "duration": 12,
        "start_time": "2023-06-21T09:27:13.605Z"
      },
      {
        "duration": 28,
        "start_time": "2023-06-21T09:27:13.618Z"
      },
      {
        "duration": 3948,
        "start_time": "2023-06-21T13:40:41.422Z"
      },
      {
        "duration": 3933,
        "start_time": "2023-06-21T13:40:45.383Z"
      },
      {
        "duration": 16,
        "start_time": "2023-06-21T13:40:49.318Z"
      },
      {
        "duration": 51,
        "start_time": "2023-06-21T13:40:49.336Z"
      },
      {
        "duration": 205,
        "start_time": "2023-06-21T13:40:49.397Z"
      },
      {
        "duration": 4,
        "start_time": "2023-06-21T13:40:49.608Z"
      },
      {
        "duration": 108,
        "start_time": "2023-06-21T13:40:49.614Z"
      },
      {
        "duration": 6,
        "start_time": "2023-06-21T13:40:49.724Z"
      },
      {
        "duration": 10,
        "start_time": "2023-06-21T13:40:49.732Z"
      },
      {
        "duration": 53,
        "start_time": "2023-06-21T13:40:49.744Z"
      },
      {
        "duration": 14,
        "start_time": "2023-06-21T13:40:49.800Z"
      },
      {
        "duration": 19,
        "start_time": "2023-06-21T13:40:49.816Z"
      },
      {
        "duration": 6,
        "start_time": "2023-06-21T13:40:49.837Z"
      },
      {
        "duration": 1698,
        "start_time": "2023-06-21T13:40:49.845Z"
      },
      {
        "duration": 12,
        "start_time": "2023-06-21T13:40:51.545Z"
      },
      {
        "duration": 489052,
        "start_time": "2023-06-21T13:40:51.567Z"
      },
      {
        "duration": 62,
        "start_time": "2023-06-21T13:49:00.622Z"
      },
      {
        "duration": 194957,
        "start_time": "2023-06-21T13:49:00.686Z"
      },
      {
        "duration": 9,
        "start_time": "2023-06-21T13:52:15.644Z"
      },
      {
        "duration": 14389,
        "start_time": "2023-06-21T13:52:15.660Z"
      },
      {
        "duration": 4368,
        "start_time": "2023-06-21T13:52:30.051Z"
      },
      {
        "duration": 12288,
        "start_time": "2023-06-21T13:52:34.421Z"
      },
      {
        "duration": 31821,
        "start_time": "2023-06-21T13:52:46.711Z"
      },
      {
        "duration": 5,
        "start_time": "2023-06-21T13:53:18.534Z"
      },
      {
        "duration": 400,
        "start_time": "2023-06-21T13:53:18.540Z"
      },
      {
        "duration": 0,
        "start_time": "2023-06-21T13:53:18.942Z"
      },
      {
        "duration": 0,
        "start_time": "2023-06-21T13:53:18.944Z"
      },
      {
        "duration": 0,
        "start_time": "2023-06-21T13:53:18.946Z"
      },
      {
        "duration": 0,
        "start_time": "2023-06-21T13:53:18.947Z"
      },
      {
        "duration": 39,
        "start_time": "2023-06-21T13:55:12.628Z"
      },
      {
        "duration": 16,
        "start_time": "2023-06-21T13:55:20.304Z"
      },
      {
        "duration": 6643,
        "start_time": "2023-06-21T13:55:39.930Z"
      },
      {
        "duration": 57944,
        "start_time": "2023-06-21T13:56:15.205Z"
      },
      {
        "duration": 4,
        "start_time": "2023-06-21T14:08:32.903Z"
      },
      {
        "duration": 3,
        "start_time": "2023-06-21T14:10:59.518Z"
      },
      {
        "duration": 20547,
        "start_time": "2023-06-21T14:11:01.248Z"
      },
      {
        "duration": 5421,
        "start_time": "2023-06-21T14:11:21.797Z"
      },
      {
        "duration": 172473,
        "start_time": "2023-06-21T14:11:27.220Z"
      },
      {
        "duration": 0,
        "start_time": "2023-06-21T14:31:46.842Z"
      },
      {
        "duration": 0,
        "start_time": "2023-06-21T14:31:46.843Z"
      },
      {
        "duration": 612,
        "start_time": "2023-06-21T14:31:58.342Z"
      },
      {
        "duration": 523,
        "start_time": "2023-06-21T14:34:11.328Z"
      },
      {
        "duration": 117403,
        "start_time": "2023-06-21T14:34:19.924Z"
      },
      {
        "duration": 4,
        "start_time": "2023-06-21T14:36:29.712Z"
      },
      {
        "duration": 1066094,
        "start_time": "2023-06-21T14:36:33.818Z"
      },
      {
        "duration": 33479,
        "start_time": "2023-06-21T14:58:21.343Z"
      },
      {
        "duration": 12,
        "start_time": "2023-06-21T14:59:10.725Z"
      },
      {
        "duration": 5,
        "start_time": "2023-06-21T14:59:36.747Z"
      },
      {
        "duration": 5053,
        "start_time": "2023-06-21T14:59:45.948Z"
      },
      {
        "duration": 4,
        "start_time": "2023-06-21T15:00:50.112Z"
      },
      {
        "duration": 98,
        "start_time": "2023-06-21T15:03:50.947Z"
      },
      {
        "duration": 5296,
        "start_time": "2023-06-21T15:05:43.515Z"
      },
      {
        "duration": 4191,
        "start_time": "2023-06-21T15:05:48.817Z"
      },
      {
        "duration": 23,
        "start_time": "2023-06-21T15:05:53.010Z"
      },
      {
        "duration": 163,
        "start_time": "2023-06-21T15:05:53.035Z"
      },
      {
        "duration": 168,
        "start_time": "2023-06-21T15:06:00.325Z"
      },
      {
        "duration": 3,
        "start_time": "2023-06-21T15:06:08.110Z"
      },
      {
        "duration": 106,
        "start_time": "2023-06-21T15:06:08.825Z"
      },
      {
        "duration": 16,
        "start_time": "2023-06-21T15:06:09.373Z"
      },
      {
        "duration": 7,
        "start_time": "2023-06-21T15:06:10.422Z"
      },
      {
        "duration": 15,
        "start_time": "2023-06-21T15:06:17.178Z"
      },
      {
        "duration": 6,
        "start_time": "2023-06-21T15:06:18.036Z"
      },
      {
        "duration": 353,
        "start_time": "2023-06-21T15:06:47.580Z"
      },
      {
        "duration": 9,
        "start_time": "2023-06-21T15:06:51.005Z"
      },
      {
        "duration": 534744,
        "start_time": "2023-06-21T15:06:57.676Z"
      },
      {
        "duration": 237677,
        "start_time": "2023-06-21T15:15:52.423Z"
      },
      {
        "duration": 127,
        "start_time": "2023-06-21T15:19:50.107Z"
      },
      {
        "duration": 0,
        "start_time": "2023-06-21T15:19:50.236Z"
      },
      {
        "duration": 0,
        "start_time": "2023-06-21T15:19:50.238Z"
      },
      {
        "duration": 0,
        "start_time": "2023-06-21T15:19:50.239Z"
      },
      {
        "duration": 3,
        "start_time": "2023-06-21T15:20:52.322Z"
      },
      {
        "duration": 13534,
        "start_time": "2023-06-21T15:20:53.631Z"
      },
      {
        "duration": 3743,
        "start_time": "2023-06-21T15:21:07.167Z"
      },
      {
        "duration": 10466,
        "start_time": "2023-06-21T15:21:12.304Z"
      },
      {
        "duration": 26051,
        "start_time": "2023-06-21T15:21:22.776Z"
      },
      {
        "duration": 297,
        "start_time": "2023-06-21T15:21:57.331Z"
      },
      {
        "duration": 17089,
        "start_time": "2023-06-21T15:21:58.118Z"
      },
      {
        "duration": 5112,
        "start_time": "2023-06-21T15:22:15.220Z"
      },
      {
        "duration": 13861,
        "start_time": "2023-06-21T15:22:20.334Z"
      },
      {
        "duration": 33414,
        "start_time": "2023-06-21T15:22:34.204Z"
      },
      {
        "duration": 3238,
        "start_time": "2023-06-21T15:24:17.125Z"
      },
      {
        "duration": 17,
        "start_time": "2023-06-21T15:24:33.092Z"
      },
      {
        "duration": 2313,
        "start_time": "2023-06-21T15:32:05.235Z"
      },
      {
        "duration": 1092,
        "start_time": "2023-06-21T15:32:07.550Z"
      },
      {
        "duration": 33,
        "start_time": "2023-06-21T15:32:08.645Z"
      },
      {
        "duration": 204,
        "start_time": "2023-06-21T15:32:08.680Z"
      },
      {
        "duration": 195,
        "start_time": "2023-06-21T15:32:08.890Z"
      },
      {
        "duration": 5,
        "start_time": "2023-06-21T15:32:09.090Z"
      },
      {
        "duration": 208,
        "start_time": "2023-06-21T15:32:09.101Z"
      },
      {
        "duration": 14,
        "start_time": "2023-06-21T15:32:09.318Z"
      },
      {
        "duration": 100,
        "start_time": "2023-06-21T15:32:09.335Z"
      },
      {
        "duration": 99,
        "start_time": "2023-06-21T15:32:09.440Z"
      },
      {
        "duration": 401,
        "start_time": "2023-06-21T15:32:09.544Z"
      },
      {
        "duration": 10,
        "start_time": "2023-06-21T15:32:09.947Z"
      },
      {
        "duration": 501375,
        "start_time": "2023-06-21T15:32:09.962Z"
      },
      {
        "duration": 214605,
        "start_time": "2023-06-21T15:40:31.341Z"
      },
      {
        "duration": 17,
        "start_time": "2023-06-21T15:44:05.948Z"
      },
      {
        "duration": 17497,
        "start_time": "2023-06-21T15:44:05.981Z"
      },
      {
        "duration": 4913,
        "start_time": "2023-06-21T15:44:23.480Z"
      },
      {
        "duration": 14252,
        "start_time": "2023-06-21T15:44:28.395Z"
      },
      {
        "duration": 35235,
        "start_time": "2023-06-21T15:44:42.650Z"
      },
      {
        "duration": 6,
        "start_time": "2023-06-21T15:45:17.887Z"
      },
      {
        "duration": 1008533,
        "start_time": "2023-06-21T15:45:17.895Z"
      },
      {
        "duration": 4,
        "start_time": "2023-06-21T16:02:06.431Z"
      },
      {
        "duration": 340238,
        "start_time": "2023-06-21T16:02:06.437Z"
      },
      {
        "duration": 13,
        "start_time": "2023-06-21T16:07:46.677Z"
      },
      {
        "duration": 20,
        "start_time": "2023-06-21T16:07:46.692Z"
      },
      {
        "duration": 46,
        "start_time": "2023-06-22T10:29:20.109Z"
      },
      {
        "duration": 1704,
        "start_time": "2023-06-22T10:38:35.614Z"
      },
      {
        "duration": 3254,
        "start_time": "2023-06-22T10:38:37.320Z"
      },
      {
        "duration": 11,
        "start_time": "2023-06-22T10:38:40.576Z"
      },
      {
        "duration": 30,
        "start_time": "2023-06-22T10:38:40.589Z"
      },
      {
        "duration": 126,
        "start_time": "2023-06-22T10:38:40.620Z"
      },
      {
        "duration": 9,
        "start_time": "2023-06-22T10:38:40.748Z"
      },
      {
        "duration": 65,
        "start_time": "2023-06-22T10:38:40.759Z"
      },
      {
        "duration": 7,
        "start_time": "2023-06-22T10:38:40.826Z"
      },
      {
        "duration": 12,
        "start_time": "2023-06-22T10:38:40.835Z"
      },
      {
        "duration": 10,
        "start_time": "2023-06-22T10:38:40.850Z"
      },
      {
        "duration": 0,
        "start_time": "2023-06-22T10:38:40.862Z"
      },
      {
        "duration": 0,
        "start_time": "2023-06-22T10:38:40.863Z"
      },
      {
        "duration": 0,
        "start_time": "2023-06-22T10:38:40.865Z"
      },
      {
        "duration": 0,
        "start_time": "2023-06-22T10:38:40.867Z"
      },
      {
        "duration": 0,
        "start_time": "2023-06-22T10:38:40.868Z"
      },
      {
        "duration": 0,
        "start_time": "2023-06-22T10:38:40.870Z"
      },
      {
        "duration": 0,
        "start_time": "2023-06-22T10:38:40.871Z"
      },
      {
        "duration": 0,
        "start_time": "2023-06-22T10:38:40.873Z"
      },
      {
        "duration": 0,
        "start_time": "2023-06-22T10:38:40.874Z"
      },
      {
        "duration": 0,
        "start_time": "2023-06-22T10:38:40.875Z"
      },
      {
        "duration": 0,
        "start_time": "2023-06-22T10:38:40.876Z"
      },
      {
        "duration": 0,
        "start_time": "2023-06-22T10:38:40.877Z"
      },
      {
        "duration": 0,
        "start_time": "2023-06-22T10:38:40.878Z"
      },
      {
        "duration": 0,
        "start_time": "2023-06-22T10:38:40.879Z"
      },
      {
        "duration": 0,
        "start_time": "2023-06-22T10:38:40.880Z"
      },
      {
        "duration": 3,
        "start_time": "2023-06-22T10:39:39.634Z"
      },
      {
        "duration": 4,
        "start_time": "2023-06-22T10:40:20.310Z"
      },
      {
        "duration": 1466,
        "start_time": "2023-06-22T10:40:58.522Z"
      },
      {
        "duration": 596,
        "start_time": "2023-06-22T10:41:11.358Z"
      },
      {
        "duration": 5,
        "start_time": "2023-06-22T10:41:12.141Z"
      },
      {
        "duration": 343888,
        "start_time": "2023-06-22T10:41:18.054Z"
      },
      {
        "duration": 71,
        "start_time": "2023-06-22T10:51:49.958Z"
      },
      {
        "duration": 806,
        "start_time": "2023-06-22T10:52:14.728Z"
      },
      {
        "duration": 7,
        "start_time": "2023-06-22T10:52:36.832Z"
      },
      {
        "duration": 4,
        "start_time": "2023-06-22T10:52:39.742Z"
      },
      {
        "duration": 12,
        "start_time": "2023-06-22T10:52:46.218Z"
      },
      {
        "duration": 513197,
        "start_time": "2023-06-22T10:53:03.051Z"
      },
      {
        "duration": 5,
        "start_time": "2023-06-22T11:01:58.905Z"
      },
      {
        "duration": 13,
        "start_time": "2023-06-22T11:02:20.417Z"
      },
      {
        "duration": 3,
        "start_time": "2023-06-22T11:32:42.279Z"
      },
      {
        "duration": 63,
        "start_time": "2023-06-22T11:32:43.074Z"
      },
      {
        "duration": 11,
        "start_time": "2023-06-22T11:33:01.721Z"
      },
      {
        "duration": 6,
        "start_time": "2023-06-22T11:33:09.713Z"
      },
      {
        "duration": 4,
        "start_time": "2023-06-22T11:34:03.433Z"
      },
      {
        "duration": 7,
        "start_time": "2023-06-22T11:34:04.717Z"
      },
      {
        "duration": 6,
        "start_time": "2023-06-22T11:34:13.768Z"
      },
      {
        "duration": 4,
        "start_time": "2023-06-22T11:36:00.421Z"
      },
      {
        "duration": 4,
        "start_time": "2023-06-22T11:36:09.825Z"
      },
      {
        "duration": 6,
        "start_time": "2023-06-22T11:36:16.578Z"
      },
      {
        "duration": 3,
        "start_time": "2023-06-22T11:36:17.717Z"
      },
      {
        "duration": 4,
        "start_time": "2023-06-22T11:37:11.437Z"
      },
      {
        "duration": 4,
        "start_time": "2023-06-22T11:37:17.216Z"
      },
      {
        "duration": 10,
        "start_time": "2023-06-22T11:37:24.324Z"
      },
      {
        "duration": 3,
        "start_time": "2023-06-22T11:37:25.237Z"
      },
      {
        "duration": 821,
        "start_time": "2023-06-22T11:37:57.009Z"
      },
      {
        "duration": 8,
        "start_time": "2023-06-22T11:37:57.832Z"
      },
      {
        "duration": 3,
        "start_time": "2023-06-22T11:38:05.217Z"
      },
      {
        "duration": 68,
        "start_time": "2023-06-22T11:38:05.924Z"
      },
      {
        "duration": 10,
        "start_time": "2023-06-22T11:38:12.709Z"
      },
      {
        "duration": 4,
        "start_time": "2023-06-22T11:39:14.568Z"
      },
      {
        "duration": 11,
        "start_time": "2023-06-22T11:39:16.456Z"
      },
      {
        "duration": 9,
        "start_time": "2023-06-22T11:39:19.224Z"
      },
      {
        "duration": 363776,
        "start_time": "2023-06-22T11:39:27.625Z"
      },
      {
        "duration": 183700,
        "start_time": "2023-06-22T11:51:51.029Z"
      },
      {
        "duration": 6,
        "start_time": "2023-06-22T11:55:07.461Z"
      },
      {
        "duration": 7,
        "start_time": "2023-06-22T11:56:01.049Z"
      },
      {
        "duration": 4,
        "start_time": "2023-06-22T11:57:23.018Z"
      },
      {
        "duration": 875,
        "start_time": "2023-06-22T11:57:26.309Z"
      },
      {
        "duration": 9,
        "start_time": "2023-06-22T11:57:27.319Z"
      },
      {
        "duration": 9,
        "start_time": "2023-06-22T11:57:37.017Z"
      },
      {
        "duration": 39,
        "start_time": "2023-06-22T11:57:45.020Z"
      },
      {
        "duration": 137,
        "start_time": "2023-06-22T11:57:46.261Z"
      },
      {
        "duration": 3,
        "start_time": "2023-06-22T11:57:53.831Z"
      },
      {
        "duration": 89,
        "start_time": "2023-06-22T11:57:54.609Z"
      },
      {
        "duration": 7,
        "start_time": "2023-06-22T11:58:00.126Z"
      },
      {
        "duration": 7,
        "start_time": "2023-06-22T11:58:00.941Z"
      },
      {
        "duration": 5,
        "start_time": "2023-06-22T11:58:01.706Z"
      },
      {
        "duration": 164,
        "start_time": "2023-06-22T11:58:07.417Z"
      },
      {
        "duration": 4,
        "start_time": "2023-06-22T11:58:21.817Z"
      },
      {
        "duration": 7,
        "start_time": "2023-06-22T11:58:24.310Z"
      },
      {
        "duration": 444382,
        "start_time": "2023-06-22T11:59:42.025Z"
      },
      {
        "duration": 7,
        "start_time": "2023-06-22T12:10:11.527Z"
      },
      {
        "duration": 939,
        "start_time": "2023-06-22T12:10:11.537Z"
      },
      {
        "duration": 10,
        "start_time": "2023-06-22T12:10:12.478Z"
      },
      {
        "duration": 45,
        "start_time": "2023-06-22T12:10:12.490Z"
      },
      {
        "duration": 227,
        "start_time": "2023-06-22T12:10:12.538Z"
      },
      {
        "duration": 5,
        "start_time": "2023-06-22T12:10:12.768Z"
      },
      {
        "duration": 156,
        "start_time": "2023-06-22T12:10:12.777Z"
      },
      {
        "duration": 9,
        "start_time": "2023-06-22T12:10:12.936Z"
      },
      {
        "duration": 10,
        "start_time": "2023-06-22T12:10:12.961Z"
      },
      {
        "duration": 19,
        "start_time": "2023-06-22T12:10:12.974Z"
      },
      {
        "duration": 18,
        "start_time": "2023-06-22T12:10:12.996Z"
      },
      {
        "duration": 7,
        "start_time": "2023-06-22T12:10:13.018Z"
      },
      {
        "duration": 32,
        "start_time": "2023-06-22T12:10:13.028Z"
      },
      {
        "duration": 20,
        "start_time": "2023-06-22T12:10:13.065Z"
      },
      {
        "duration": 444107,
        "start_time": "2023-06-22T12:10:13.092Z"
      },
      {
        "duration": 163347,
        "start_time": "2023-06-22T12:17:37.200Z"
      },
      {
        "duration": 13,
        "start_time": "2023-06-22T12:20:20.560Z"
      },
      {
        "duration": 20,
        "start_time": "2023-06-22T12:20:20.576Z"
      },
      {
        "duration": 18,
        "start_time": "2023-06-22T12:20:20.598Z"
      },
      {
        "duration": 7,
        "start_time": "2023-06-22T12:20:20.618Z"
      },
      {
        "duration": 6,
        "start_time": "2023-06-22T12:20:20.627Z"
      },
      {
        "duration": 10,
        "start_time": "2023-06-22T12:20:20.635Z"
      },
      {
        "duration": 11829,
        "start_time": "2023-06-22T12:20:20.647Z"
      },
      {
        "duration": 3528,
        "start_time": "2023-06-22T12:20:32.477Z"
      },
      {
        "duration": 4,
        "start_time": "2023-06-22T12:20:36.007Z"
      },
      {
        "duration": 13795,
        "start_time": "2023-06-22T12:20:36.013Z"
      },
      {
        "duration": 31593,
        "start_time": "2023-06-22T12:20:49.809Z"
      },
      {
        "duration": 3,
        "start_time": "2023-06-22T12:21:21.403Z"
      },
      {
        "duration": 509578,
        "start_time": "2023-06-22T12:21:21.407Z"
      },
      {
        "duration": 0,
        "start_time": "2023-06-22T12:29:50.987Z"
      },
      {
        "duration": 0,
        "start_time": "2023-06-22T12:29:50.988Z"
      },
      {
        "duration": 0,
        "start_time": "2023-06-22T12:29:50.989Z"
      },
      {
        "duration": 0,
        "start_time": "2023-06-22T12:29:50.990Z"
      },
      {
        "duration": 0,
        "start_time": "2023-06-22T12:29:50.991Z"
      },
      {
        "duration": 11,
        "start_time": "2023-06-22T12:33:51.701Z"
      },
      {
        "duration": 6,
        "start_time": "2023-06-22T12:33:59.974Z"
      },
      {
        "duration": 3,
        "start_time": "2023-06-22T12:34:06.552Z"
      },
      {
        "duration": 26598,
        "start_time": "2023-06-22T12:35:40.105Z"
      },
      {
        "duration": 61459,
        "start_time": "2023-06-22T12:36:25.521Z"
      },
      {
        "duration": 26,
        "start_time": "2023-06-22T12:38:47.349Z"
      },
      {
        "duration": 25,
        "start_time": "2023-06-22T12:38:48.447Z"
      },
      {
        "duration": 23,
        "start_time": "2023-06-22T12:40:11.324Z"
      },
      {
        "duration": 3804,
        "start_time": "2023-06-22T12:40:28.673Z"
      },
      {
        "duration": 36037,
        "start_time": "2023-06-22T12:41:42.609Z"
      },
      {
        "duration": 84525,
        "start_time": "2023-06-22T12:42:18.648Z"
      },
      {
        "duration": 3746,
        "start_time": "2023-06-22T12:44:19.613Z"
      },
      {
        "duration": 34653,
        "start_time": "2023-06-22T12:45:04.932Z"
      },
      {
        "duration": 91596,
        "start_time": "2023-06-22T12:45:39.586Z"
      },
      {
        "duration": 52427,
        "start_time": "2023-06-22T12:47:30.833Z"
      },
      {
        "duration": 118530,
        "start_time": "2023-06-22T12:48:23.264Z"
      },
      {
        "duration": 26660,
        "start_time": "2023-06-22T12:51:48.751Z"
      },
      {
        "duration": 61574,
        "start_time": "2023-06-22T12:52:15.413Z"
      },
      {
        "duration": 26799,
        "start_time": "2023-06-22T12:53:42.805Z"
      },
      {
        "duration": 70602,
        "start_time": "2023-06-22T12:54:09.606Z"
      },
      {
        "duration": 52110,
        "start_time": "2023-06-22T12:55:57.305Z"
      },
      {
        "duration": 125027,
        "start_time": "2023-06-22T12:56:49.417Z"
      },
      {
        "duration": 5039,
        "start_time": "2023-06-22T12:59:08.552Z"
      },
      {
        "duration": 4,
        "start_time": "2023-06-22T13:04:50.033Z"
      },
      {
        "duration": 43,
        "start_time": "2023-06-22T13:04:50.852Z"
      },
      {
        "duration": 40797,
        "start_time": "2023-06-22T13:05:54.213Z"
      },
      {
        "duration": 95611,
        "start_time": "2023-06-22T13:06:35.012Z"
      },
      {
        "duration": 4411,
        "start_time": "2023-06-22T13:08:59.722Z"
      },
      {
        "duration": 3,
        "start_time": "2023-06-22T13:11:38.717Z"
      },
      {
        "duration": 458850,
        "start_time": "2023-06-22T13:11:39.954Z"
      },
      {
        "duration": 5,
        "start_time": "2023-06-22T13:29:02.960Z"
      },
      {
        "duration": 1815,
        "start_time": "2023-06-22T13:36:32.840Z"
      },
      {
        "duration": 3812,
        "start_time": "2023-06-22T13:36:34.657Z"
      },
      {
        "duration": 108,
        "start_time": "2023-06-22T13:36:38.475Z"
      },
      {
        "duration": 41,
        "start_time": "2023-06-22T13:36:38.585Z"
      },
      {
        "duration": 182,
        "start_time": "2023-06-22T13:36:38.628Z"
      },
      {
        "duration": 3,
        "start_time": "2023-06-22T13:36:38.813Z"
      },
      {
        "duration": 86,
        "start_time": "2023-06-22T13:36:38.818Z"
      },
      {
        "duration": 7,
        "start_time": "2023-06-22T13:36:38.906Z"
      },
      {
        "duration": 6,
        "start_time": "2023-06-22T13:36:38.915Z"
      },
      {
        "duration": 26,
        "start_time": "2023-06-22T13:36:38.924Z"
      },
      {
        "duration": 222,
        "start_time": "2023-06-22T13:36:38.960Z"
      },
      {
        "duration": 3,
        "start_time": "2023-06-22T13:36:39.184Z"
      },
      {
        "duration": 22,
        "start_time": "2023-06-22T13:36:39.189Z"
      },
      {
        "duration": 10,
        "start_time": "2023-06-22T13:36:39.213Z"
      },
      {
        "duration": 443051,
        "start_time": "2023-06-22T13:36:39.225Z"
      },
      {
        "duration": 183994,
        "start_time": "2023-06-22T13:44:02.284Z"
      },
      {
        "duration": 7,
        "start_time": "2023-06-22T13:47:06.280Z"
      },
      {
        "duration": 160,
        "start_time": "2023-06-22T13:47:06.288Z"
      },
      {
        "duration": 0,
        "start_time": "2023-06-22T13:47:06.450Z"
      },
      {
        "duration": 0,
        "start_time": "2023-06-22T13:47:06.451Z"
      },
      {
        "duration": 0,
        "start_time": "2023-06-22T13:47:06.452Z"
      },
      {
        "duration": 0,
        "start_time": "2023-06-22T13:47:06.453Z"
      },
      {
        "duration": 0,
        "start_time": "2023-06-22T13:47:06.454Z"
      },
      {
        "duration": 0,
        "start_time": "2023-06-22T13:47:06.460Z"
      },
      {
        "duration": 0,
        "start_time": "2023-06-22T13:47:06.465Z"
      },
      {
        "duration": 0,
        "start_time": "2023-06-22T13:47:06.466Z"
      },
      {
        "duration": 0,
        "start_time": "2023-06-22T13:47:06.468Z"
      },
      {
        "duration": 0,
        "start_time": "2023-06-22T13:47:06.469Z"
      },
      {
        "duration": 0,
        "start_time": "2023-06-22T13:47:06.469Z"
      },
      {
        "duration": 0,
        "start_time": "2023-06-22T13:47:06.470Z"
      },
      {
        "duration": 0,
        "start_time": "2023-06-22T13:47:06.471Z"
      },
      {
        "duration": 0,
        "start_time": "2023-06-22T13:47:06.474Z"
      },
      {
        "duration": 0,
        "start_time": "2023-06-22T13:47:06.474Z"
      },
      {
        "duration": 0,
        "start_time": "2023-06-22T13:47:06.475Z"
      },
      {
        "duration": 0,
        "start_time": "2023-06-22T13:47:06.476Z"
      },
      {
        "duration": 0,
        "start_time": "2023-06-22T13:47:06.477Z"
      },
      {
        "duration": 0,
        "start_time": "2023-06-22T13:47:06.480Z"
      },
      {
        "duration": 0,
        "start_time": "2023-06-22T13:47:06.481Z"
      },
      {
        "duration": 0,
        "start_time": "2023-06-22T13:47:06.483Z"
      },
      {
        "duration": 1,
        "start_time": "2023-06-22T13:47:06.484Z"
      },
      {
        "duration": 0,
        "start_time": "2023-06-22T13:47:06.485Z"
      },
      {
        "duration": 4,
        "start_time": "2023-06-22T13:57:02.000Z"
      },
      {
        "duration": 12086,
        "start_time": "2023-06-22T13:57:02.460Z"
      },
      {
        "duration": 3426,
        "start_time": "2023-06-22T13:57:14.548Z"
      },
      {
        "duration": 3,
        "start_time": "2023-06-22T13:57:17.976Z"
      },
      {
        "duration": 16,
        "start_time": "2023-06-22T13:57:17.981Z"
      },
      {
        "duration": 37906,
        "start_time": "2023-06-22T13:57:17.999Z"
      },
      {
        "duration": 94787,
        "start_time": "2023-06-22T13:57:55.906Z"
      },
      {
        "duration": 4,
        "start_time": "2023-06-22T13:59:30.695Z"
      },
      {
        "duration": 443119,
        "start_time": "2023-06-22T13:59:30.700Z"
      },
      {
        "duration": 4,
        "start_time": "2023-06-22T14:06:53.821Z"
      },
      {
        "duration": 245339,
        "start_time": "2023-06-22T14:06:53.826Z"
      },
      {
        "duration": 4161,
        "start_time": "2023-06-22T14:10:59.166Z"
      },
      {
        "duration": 2059,
        "start_time": "2023-06-22T16:44:57.360Z"
      },
      {
        "duration": 3338,
        "start_time": "2023-06-22T16:44:59.421Z"
      },
      {
        "duration": 14,
        "start_time": "2023-06-22T16:45:02.761Z"
      },
      {
        "duration": 48,
        "start_time": "2023-06-22T16:45:02.777Z"
      },
      {
        "duration": 155,
        "start_time": "2023-06-22T16:45:02.828Z"
      },
      {
        "duration": 3,
        "start_time": "2023-06-22T16:45:02.985Z"
      },
      {
        "duration": 86,
        "start_time": "2023-06-22T16:45:02.990Z"
      },
      {
        "duration": 6,
        "start_time": "2023-06-22T16:45:03.078Z"
      },
      {
        "duration": 18,
        "start_time": "2023-06-22T16:45:03.086Z"
      },
      {
        "duration": 6,
        "start_time": "2023-06-22T16:45:03.107Z"
      },
      {
        "duration": 586,
        "start_time": "2023-06-22T16:45:03.114Z"
      },
      {
        "duration": 3,
        "start_time": "2023-06-22T16:45:03.701Z"
      },
      {
        "duration": 12,
        "start_time": "2023-06-22T16:45:03.706Z"
      },
      {
        "duration": 443678,
        "start_time": "2023-06-22T16:45:03.721Z"
      },
      {
        "duration": 202290,
        "start_time": "2023-06-22T16:52:27.401Z"
      },
      {
        "duration": 4,
        "start_time": "2023-06-22T16:55:49.694Z"
      },
      {
        "duration": 13887,
        "start_time": "2023-06-22T16:55:49.700Z"
      },
      {
        "duration": 4225,
        "start_time": "2023-06-22T16:56:03.589Z"
      },
      {
        "duration": 6,
        "start_time": "2023-06-22T16:56:07.816Z"
      },
      {
        "duration": 24,
        "start_time": "2023-06-22T16:56:07.824Z"
      },
      {
        "duration": 40780,
        "start_time": "2023-06-22T16:56:07.849Z"
      },
      {
        "duration": 103500,
        "start_time": "2023-06-22T16:56:48.632Z"
      },
      {
        "duration": 4,
        "start_time": "2023-06-22T16:58:32.136Z"
      },
      {
        "duration": 511192,
        "start_time": "2023-06-22T16:58:32.142Z"
      },
      {
        "duration": 3,
        "start_time": "2023-06-22T17:07:03.336Z"
      },
      {
        "duration": 287573,
        "start_time": "2023-06-22T17:07:03.341Z"
      },
      {
        "duration": 4698,
        "start_time": "2023-06-22T17:11:50.917Z"
      }
    ],
    "kernelspec": {
      "display_name": "Python 3 (ipykernel)",
      "language": "python",
      "name": "python3"
    },
    "language_info": {
      "codemirror_mode": {
        "name": "ipython",
        "version": 3
      },
      "file_extension": ".py",
      "mimetype": "text/x-python",
      "name": "python",
      "nbconvert_exporter": "python",
      "pygments_lexer": "ipython3",
      "version": "3.9.5"
    },
    "toc": {
      "base_numbering": 1,
      "nav_menu": {},
      "number_sections": true,
      "sideBar": true,
      "skip_h1_title": true,
      "title_cell": "Содержание",
      "title_sidebar": "Contents",
      "toc_cell": true,
      "toc_position": {
        "height": "calc(100% - 180px)",
        "left": "10px",
        "top": "150px",
        "width": "302.391px"
      },
      "toc_section_display": true,
      "toc_window_display": false
    },
    "colab": {
      "provenance": []
    }
  },
  "nbformat": 4,
  "nbformat_minor": 0
}